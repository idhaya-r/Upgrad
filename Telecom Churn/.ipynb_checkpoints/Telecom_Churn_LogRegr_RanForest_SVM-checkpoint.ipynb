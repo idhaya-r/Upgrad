{
 "cells": [
  {
   "cell_type": "markdown",
   "metadata": {
    "id": "XfbjrtgIbmh0"
   },
   "source": [
    "# Import required libraris"
   ]
  },
  {
   "cell_type": "code",
   "execution_count": 142,
   "metadata": {
    "_cell_guid": "b1076dfc-b9ad-4769-8c92-a6c4dae69d19",
    "_uuid": "8f2839f25d086af736a60e9eeb907d3b93b6e0e5",
    "id": "x8y7ZrXhWDPt"
   },
   "outputs": [],
   "source": [
    "# This Python 3 environment comes with many helpful analytics libraries installed\n",
    "# It is defined by the kaggle/python Docker image: https://github.com/kaggle/docker-python\n",
    "# For example, here's several helpful packages to load\n",
    "\n",
    "import numpy as np # linear algebra\n",
    "import pandas as pd # data processing, CSV file I/O (e.g. pd.read_csv)\n",
    "import matplotlib.pyplot as plt\n",
    "import seaborn as sns\n",
    "from sklearn.model_selection import GridSearchCV\n",
    "from sklearn.linear_model import LogisticRegression\n",
    "from sklearn import metrics\n",
    "from sklearn.model_selection import KFold\n",
    "from sklearn.ensemble import RandomForestClassifier, AdaBoostClassifier\n",
    "from xgboost import XGBClassifier\n",
    "from lightgbm import LGBMClassifier\n",
    "from sklearn.metrics import precision_score, recall_score, accuracy_score, confusion_matrix\n",
    "from sklearn.metrics import f1_score, classification_report, auc, roc_auc_score, roc_curve\n",
    "from sklearn.metrics import precision_recall_curve, plot_roc_curve\n",
    "from sklearn.preprocessing import MinMaxScaler\n",
    "from sklearn.model_selection import train_test_split\n",
    "from sklearn.decomposition import PCA\n",
    "from sklearn.decomposition import IncrementalPCA\n",
    "#from sklearn.svm import SVM\n",
    "from sklearn import svm\n",
    "from imblearn.over_sampling import SMOTE\n",
    "import re\n",
    "import warnings\n",
    "warnings.filterwarnings('ignore')\n",
    "# Input data files are available in the read-only \"../input/\" directory\n",
    "# For example, running this (by clicking run or pressing Shift+Enter) will list all files under the input directory\n",
    "\n",
    "import os\n",
    "for dirname, _, filenames in os.walk('/kaggle/input'):\n",
    "    for filename in filenames:\n",
    "        print(os.path.join(dirname, filename))\n",
    "\n",
    "# You can write up to 20GB to the current directory (/kaggle/working/) that gets preserved as output when you create a version using \"Save & Run All\" \n",
    "# You can also write temporary files to /kaggle/temp/, but they won't be saved outside of the current session"
   ]
  },
  {
   "cell_type": "markdown",
   "metadata": {
    "id": "DXATxNgIWDP9"
   },
   "source": [
    "Read the given data set and perform data inspection to understand it"
   ]
  },
  {
   "cell_type": "code",
   "execution_count": 143,
   "metadata": {
    "id": "h43zur4yWDQA"
   },
   "outputs": [],
   "source": [
    "#telecom_df = pd.read_csv(\"/kaggle/input/telecom-churn-case-study-hackathon-c34/train.csv\")\n",
    "#test_df = pd.read_csv(\"/kaggle/input/telecom-churn-case-study-hackathon-c34/test (1).csv\")\n"
   ]
  },
  {
   "cell_type": "code",
   "execution_count": 144,
   "metadata": {
    "id": "yTBlkpO2XMqc"
   },
   "outputs": [],
   "source": [
    "telecom_df = pd.read_csv(\"train.csv\")\n",
    "test_df = pd.read_csv(\"test (1).csv\")"
   ]
  },
  {
   "cell_type": "code",
   "execution_count": 145,
   "metadata": {
    "colab": {
     "base_uri": "https://localhost:8080/"
    },
    "id": "PoIlD-uGWDQC",
    "outputId": "14314826-ed35-4961-c315-712202e7671b"
   },
   "outputs": [
    {
     "data": {
      "text/plain": [
       "(26175, 172)"
      ]
     },
     "execution_count": 145,
     "metadata": {},
     "output_type": "execute_result"
    }
   ],
   "source": [
    "# observe the size of the data set\n",
    "telecom_df.shape"
   ]
  },
  {
   "cell_type": "code",
   "execution_count": 146,
   "metadata": {
    "colab": {
     "base_uri": "https://localhost:8080/"
    },
    "id": "MFTM2Q9GWDQD",
    "outputId": "2b38be67-24dd-45e3-dfd2-b85a90640350"
   },
   "outputs": [
    {
     "data": {
      "text/plain": [
       "(21845, 171)"
      ]
     },
     "execution_count": 146,
     "metadata": {},
     "output_type": "execute_result"
    }
   ],
   "source": [
    "test_df.shape"
   ]
  },
  {
   "cell_type": "code",
   "execution_count": 147,
   "metadata": {
    "colab": {
     "base_uri": "https://localhost:8080/"
    },
    "id": "D9_D1AK_WDQE",
    "outputId": "20450d1a-8f5b-40c2-dda4-331e19de352b"
   },
   "outputs": [
    {
     "name": "stdout",
     "output_type": "stream",
     "text": [
      "There are total\n",
      "\n",
      "26175 Rows\n",
      "172 Columns in the train data set\n"
     ]
    }
   ],
   "source": [
    "print(\"There are total\\n\")\n",
    "print(\"%d Rows\" %telecom_df.shape[0])\n",
    "print(\"%d Columns in the train data set\" %telecom_df.shape[1])"
   ]
  },
  {
   "cell_type": "code",
   "execution_count": 148,
   "metadata": {
    "colab": {
     "base_uri": "https://localhost:8080/"
    },
    "id": "mASlF-IKWDQF",
    "outputId": "0b8b843b-8ea7-4e81-8ed9-34f40bf25db3"
   },
   "outputs": [
    {
     "name": "stdout",
     "output_type": "stream",
     "text": [
      "There are total\n",
      "\n",
      "21845 Rows\n",
      "171 Columns in the test data set\n"
     ]
    }
   ],
   "source": [
    "print(\"There are total\\n\")\n",
    "print(\"%d Rows\" %test_df.shape[0])\n",
    "print(\"%d Columns in the test data set\" %test_df.shape[1])"
   ]
  },
  {
   "cell_type": "code",
   "execution_count": 149,
   "metadata": {
    "colab": {
     "base_uri": "https://localhost:8080/",
     "height": 0
    },
    "id": "NgFm_yGTWDQH",
    "outputId": "88961bf3-6dc0-45ac-d130-1de246b52a8e"
   },
   "outputs": [
    {
     "data": {
      "text/html": [
       "\n",
       "  <div id=\"df-9a1cb766-deb6-44a0-8961-7b690ecdaf2a\">\n",
       "    <div class=\"colab-df-container\">\n",
       "      <div>\n",
       "<style scoped>\n",
       "    .dataframe tbody tr th:only-of-type {\n",
       "        vertical-align: middle;\n",
       "    }\n",
       "\n",
       "    .dataframe tbody tr th {\n",
       "        vertical-align: top;\n",
       "    }\n",
       "\n",
       "    .dataframe thead th {\n",
       "        text-align: right;\n",
       "    }\n",
       "</style>\n",
       "<table border=\"1\" class=\"dataframe\">\n",
       "  <thead>\n",
       "    <tr style=\"text-align: right;\">\n",
       "      <th></th>\n",
       "      <th>id</th>\n",
       "      <th>circle_id</th>\n",
       "      <th>loc_og_t2o_mou</th>\n",
       "      <th>std_og_t2o_mou</th>\n",
       "      <th>loc_ic_t2o_mou</th>\n",
       "      <th>last_date_of_month_6</th>\n",
       "      <th>last_date_of_month_7</th>\n",
       "      <th>last_date_of_month_8</th>\n",
       "      <th>arpu_6</th>\n",
       "      <th>arpu_7</th>\n",
       "      <th>...</th>\n",
       "      <th>sachet_3g_7</th>\n",
       "      <th>sachet_3g_8</th>\n",
       "      <th>fb_user_6</th>\n",
       "      <th>fb_user_7</th>\n",
       "      <th>fb_user_8</th>\n",
       "      <th>aon</th>\n",
       "      <th>aug_vbc_3g</th>\n",
       "      <th>jul_vbc_3g</th>\n",
       "      <th>jun_vbc_3g</th>\n",
       "      <th>churn_probability</th>\n",
       "    </tr>\n",
       "  </thead>\n",
       "  <tbody>\n",
       "    <tr>\n",
       "      <th>0</th>\n",
       "      <td>0</td>\n",
       "      <td>109</td>\n",
       "      <td>0.0</td>\n",
       "      <td>0.0</td>\n",
       "      <td>0.0</td>\n",
       "      <td>6/30/2014</td>\n",
       "      <td>7/31/2014</td>\n",
       "      <td>8/31/2014</td>\n",
       "      <td>31.277</td>\n",
       "      <td>87.009</td>\n",
       "      <td>...</td>\n",
       "      <td>0.0</td>\n",
       "      <td>0.0</td>\n",
       "      <td>NaN</td>\n",
       "      <td>NaN</td>\n",
       "      <td>NaN</td>\n",
       "      <td>1958.0</td>\n",
       "      <td>0.0</td>\n",
       "      <td>0.0</td>\n",
       "      <td>0.0</td>\n",
       "      <td>0.0</td>\n",
       "    </tr>\n",
       "    <tr>\n",
       "      <th>1</th>\n",
       "      <td>1</td>\n",
       "      <td>109</td>\n",
       "      <td>0.0</td>\n",
       "      <td>0.0</td>\n",
       "      <td>0.0</td>\n",
       "      <td>6/30/2014</td>\n",
       "      <td>7/31/2014</td>\n",
       "      <td>8/31/2014</td>\n",
       "      <td>0.000</td>\n",
       "      <td>122.787</td>\n",
       "      <td>...</td>\n",
       "      <td>0.0</td>\n",
       "      <td>0.0</td>\n",
       "      <td>NaN</td>\n",
       "      <td>1.0</td>\n",
       "      <td>NaN</td>\n",
       "      <td>710.0</td>\n",
       "      <td>0.0</td>\n",
       "      <td>0.0</td>\n",
       "      <td>0.0</td>\n",
       "      <td>0.0</td>\n",
       "    </tr>\n",
       "    <tr>\n",
       "      <th>2</th>\n",
       "      <td>2</td>\n",
       "      <td>109</td>\n",
       "      <td>0.0</td>\n",
       "      <td>0.0</td>\n",
       "      <td>0.0</td>\n",
       "      <td>6/30/2014</td>\n",
       "      <td>7/31/2014</td>\n",
       "      <td>8/31/2014</td>\n",
       "      <td>60.806</td>\n",
       "      <td>103.176</td>\n",
       "      <td>...</td>\n",
       "      <td>0.0</td>\n",
       "      <td>0.0</td>\n",
       "      <td>NaN</td>\n",
       "      <td>NaN</td>\n",
       "      <td>NaN</td>\n",
       "      <td>882.0</td>\n",
       "      <td>0.0</td>\n",
       "      <td>0.0</td>\n",
       "      <td>0.0</td>\n",
       "      <td>0.0</td>\n",
       "    </tr>\n",
       "    <tr>\n",
       "      <th>3</th>\n",
       "      <td>3</td>\n",
       "      <td>109</td>\n",
       "      <td>0.0</td>\n",
       "      <td>0.0</td>\n",
       "      <td>0.0</td>\n",
       "      <td>6/30/2014</td>\n",
       "      <td>7/31/2014</td>\n",
       "      <td>8/31/2014</td>\n",
       "      <td>156.362</td>\n",
       "      <td>205.260</td>\n",
       "      <td>...</td>\n",
       "      <td>0.0</td>\n",
       "      <td>0.0</td>\n",
       "      <td>NaN</td>\n",
       "      <td>NaN</td>\n",
       "      <td>NaN</td>\n",
       "      <td>982.0</td>\n",
       "      <td>0.0</td>\n",
       "      <td>0.0</td>\n",
       "      <td>0.0</td>\n",
       "      <td>0.0</td>\n",
       "    </tr>\n",
       "    <tr>\n",
       "      <th>4</th>\n",
       "      <td>4</td>\n",
       "      <td>109</td>\n",
       "      <td>0.0</td>\n",
       "      <td>0.0</td>\n",
       "      <td>0.0</td>\n",
       "      <td>6/30/2014</td>\n",
       "      <td>7/31/2014</td>\n",
       "      <td>8/31/2014</td>\n",
       "      <td>240.708</td>\n",
       "      <td>128.191</td>\n",
       "      <td>...</td>\n",
       "      <td>1.0</td>\n",
       "      <td>0.0</td>\n",
       "      <td>1.0</td>\n",
       "      <td>1.0</td>\n",
       "      <td>1.0</td>\n",
       "      <td>647.0</td>\n",
       "      <td>0.0</td>\n",
       "      <td>0.0</td>\n",
       "      <td>0.0</td>\n",
       "      <td>0.0</td>\n",
       "    </tr>\n",
       "  </tbody>\n",
       "</table>\n",
       "<p>5 rows × 172 columns</p>\n",
       "</div>\n",
       "      <button class=\"colab-df-convert\" onclick=\"convertToInteractive('df-9a1cb766-deb6-44a0-8961-7b690ecdaf2a')\"\n",
       "              title=\"Convert this dataframe to an interactive table.\"\n",
       "              style=\"display:none;\">\n",
       "        \n",
       "  <svg xmlns=\"http://www.w3.org/2000/svg\" height=\"24px\"viewBox=\"0 0 24 24\"\n",
       "       width=\"24px\">\n",
       "    <path d=\"M0 0h24v24H0V0z\" fill=\"none\"/>\n",
       "    <path d=\"M18.56 5.44l.94 2.06.94-2.06 2.06-.94-2.06-.94-.94-2.06-.94 2.06-2.06.94zm-11 1L8.5 8.5l.94-2.06 2.06-.94-2.06-.94L8.5 2.5l-.94 2.06-2.06.94zm10 10l.94 2.06.94-2.06 2.06-.94-2.06-.94-.94-2.06-.94 2.06-2.06.94z\"/><path d=\"M17.41 7.96l-1.37-1.37c-.4-.4-.92-.59-1.43-.59-.52 0-1.04.2-1.43.59L10.3 9.45l-7.72 7.72c-.78.78-.78 2.05 0 2.83L4 21.41c.39.39.9.59 1.41.59.51 0 1.02-.2 1.41-.59l7.78-7.78 2.81-2.81c.8-.78.8-2.07 0-2.86zM5.41 20L4 18.59l7.72-7.72 1.47 1.35L5.41 20z\"/>\n",
       "  </svg>\n",
       "      </button>\n",
       "      \n",
       "  <style>\n",
       "    .colab-df-container {\n",
       "      display:flex;\n",
       "      flex-wrap:wrap;\n",
       "      gap: 12px;\n",
       "    }\n",
       "\n",
       "    .colab-df-convert {\n",
       "      background-color: #E8F0FE;\n",
       "      border: none;\n",
       "      border-radius: 50%;\n",
       "      cursor: pointer;\n",
       "      display: none;\n",
       "      fill: #1967D2;\n",
       "      height: 32px;\n",
       "      padding: 0 0 0 0;\n",
       "      width: 32px;\n",
       "    }\n",
       "\n",
       "    .colab-df-convert:hover {\n",
       "      background-color: #E2EBFA;\n",
       "      box-shadow: 0px 1px 2px rgba(60, 64, 67, 0.3), 0px 1px 3px 1px rgba(60, 64, 67, 0.15);\n",
       "      fill: #174EA6;\n",
       "    }\n",
       "\n",
       "    [theme=dark] .colab-df-convert {\n",
       "      background-color: #3B4455;\n",
       "      fill: #D2E3FC;\n",
       "    }\n",
       "\n",
       "    [theme=dark] .colab-df-convert:hover {\n",
       "      background-color: #434B5C;\n",
       "      box-shadow: 0px 1px 3px 1px rgba(0, 0, 0, 0.15);\n",
       "      filter: drop-shadow(0px 1px 2px rgba(0, 0, 0, 0.3));\n",
       "      fill: #FFFFFF;\n",
       "    }\n",
       "  </style>\n",
       "\n",
       "      <script>\n",
       "        const buttonEl =\n",
       "          document.querySelector('#df-9a1cb766-deb6-44a0-8961-7b690ecdaf2a button.colab-df-convert');\n",
       "        buttonEl.style.display =\n",
       "          google.colab.kernel.accessAllowed ? 'block' : 'none';\n",
       "\n",
       "        async function convertToInteractive(key) {\n",
       "          const element = document.querySelector('#df-9a1cb766-deb6-44a0-8961-7b690ecdaf2a');\n",
       "          const dataTable =\n",
       "            await google.colab.kernel.invokeFunction('convertToInteractive',\n",
       "                                                     [key], {});\n",
       "          if (!dataTable) return;\n",
       "\n",
       "          const docLinkHtml = 'Like what you see? Visit the ' +\n",
       "            '<a target=\"_blank\" href=https://colab.research.google.com/notebooks/data_table.ipynb>data table notebook</a>'\n",
       "            + ' to learn more about interactive tables.';\n",
       "          element.innerHTML = '';\n",
       "          dataTable['output_type'] = 'display_data';\n",
       "          await google.colab.output.renderOutput(dataTable, element);\n",
       "          const docLink = document.createElement('div');\n",
       "          docLink.innerHTML = docLinkHtml;\n",
       "          element.appendChild(docLink);\n",
       "        }\n",
       "      </script>\n",
       "    </div>\n",
       "  </div>\n",
       "  "
      ],
      "text/plain": [
       "   id  circle_id  loc_og_t2o_mou  std_og_t2o_mou  loc_ic_t2o_mou  \\\n",
       "0   0        109             0.0             0.0             0.0   \n",
       "1   1        109             0.0             0.0             0.0   \n",
       "2   2        109             0.0             0.0             0.0   \n",
       "3   3        109             0.0             0.0             0.0   \n",
       "4   4        109             0.0             0.0             0.0   \n",
       "\n",
       "  last_date_of_month_6 last_date_of_month_7 last_date_of_month_8   arpu_6  \\\n",
       "0            6/30/2014            7/31/2014            8/31/2014   31.277   \n",
       "1            6/30/2014            7/31/2014            8/31/2014    0.000   \n",
       "2            6/30/2014            7/31/2014            8/31/2014   60.806   \n",
       "3            6/30/2014            7/31/2014            8/31/2014  156.362   \n",
       "4            6/30/2014            7/31/2014            8/31/2014  240.708   \n",
       "\n",
       "    arpu_7  ...  sachet_3g_7  sachet_3g_8  fb_user_6  fb_user_7  fb_user_8  \\\n",
       "0   87.009  ...          0.0          0.0        NaN        NaN        NaN   \n",
       "1  122.787  ...          0.0          0.0        NaN        1.0        NaN   \n",
       "2  103.176  ...          0.0          0.0        NaN        NaN        NaN   \n",
       "3  205.260  ...          0.0          0.0        NaN        NaN        NaN   \n",
       "4  128.191  ...          1.0          0.0        1.0        1.0        1.0   \n",
       "\n",
       "      aon  aug_vbc_3g  jul_vbc_3g  jun_vbc_3g  churn_probability  \n",
       "0  1958.0         0.0         0.0         0.0                0.0  \n",
       "1   710.0         0.0         0.0         0.0                0.0  \n",
       "2   882.0         0.0         0.0         0.0                0.0  \n",
       "3   982.0         0.0         0.0         0.0                0.0  \n",
       "4   647.0         0.0         0.0         0.0                0.0  \n",
       "\n",
       "[5 rows x 172 columns]"
      ]
     },
     "execution_count": 149,
     "metadata": {},
     "output_type": "execute_result"
    }
   ],
   "source": [
    "# Observe the initial few rows of this data set\n",
    "telecom_df.head()"
   ]
  },
  {
   "cell_type": "code",
   "execution_count": 150,
   "metadata": {
    "colab": {
     "base_uri": "https://localhost:8080/",
     "height": 0
    },
    "id": "uEHPTWLGWDQI",
    "outputId": "a75d0173-c6b7-44e6-8876-b37e209efa9b"
   },
   "outputs": [
    {
     "data": {
      "text/html": [
       "\n",
       "  <div id=\"df-8f5d2801-657e-4f6e-86a9-5968c7f88c7f\">\n",
       "    <div class=\"colab-df-container\">\n",
       "      <div>\n",
       "<style scoped>\n",
       "    .dataframe tbody tr th:only-of-type {\n",
       "        vertical-align: middle;\n",
       "    }\n",
       "\n",
       "    .dataframe tbody tr th {\n",
       "        vertical-align: top;\n",
       "    }\n",
       "\n",
       "    .dataframe thead th {\n",
       "        text-align: right;\n",
       "    }\n",
       "</style>\n",
       "<table border=\"1\" class=\"dataframe\">\n",
       "  <thead>\n",
       "    <tr style=\"text-align: right;\">\n",
       "      <th></th>\n",
       "      <th>id</th>\n",
       "      <th>circle_id</th>\n",
       "      <th>loc_og_t2o_mou</th>\n",
       "      <th>std_og_t2o_mou</th>\n",
       "      <th>loc_ic_t2o_mou</th>\n",
       "      <th>last_date_of_month_6</th>\n",
       "      <th>last_date_of_month_7</th>\n",
       "      <th>last_date_of_month_8</th>\n",
       "      <th>arpu_6</th>\n",
       "      <th>arpu_7</th>\n",
       "      <th>...</th>\n",
       "      <th>sachet_3g_6</th>\n",
       "      <th>sachet_3g_7</th>\n",
       "      <th>sachet_3g_8</th>\n",
       "      <th>fb_user_6</th>\n",
       "      <th>fb_user_7</th>\n",
       "      <th>fb_user_8</th>\n",
       "      <th>aon</th>\n",
       "      <th>aug_vbc_3g</th>\n",
       "      <th>jul_vbc_3g</th>\n",
       "      <th>jun_vbc_3g</th>\n",
       "    </tr>\n",
       "  </thead>\n",
       "  <tbody>\n",
       "    <tr>\n",
       "      <th>0</th>\n",
       "      <td>69999</td>\n",
       "      <td>109</td>\n",
       "      <td>0.0</td>\n",
       "      <td>0.0</td>\n",
       "      <td>0.0</td>\n",
       "      <td>6/30/2014</td>\n",
       "      <td>7/31/2014</td>\n",
       "      <td>8/31/2014</td>\n",
       "      <td>91.882</td>\n",
       "      <td>65.330</td>\n",
       "      <td>...</td>\n",
       "      <td>0.0</td>\n",
       "      <td>0.0</td>\n",
       "      <td>0.0</td>\n",
       "      <td>NaN</td>\n",
       "      <td>NaN</td>\n",
       "      <td>NaN</td>\n",
       "      <td>1692.0</td>\n",
       "      <td>0.00</td>\n",
       "      <td>0.00</td>\n",
       "      <td>0.00</td>\n",
       "    </tr>\n",
       "    <tr>\n",
       "      <th>1</th>\n",
       "      <td>70000</td>\n",
       "      <td>109</td>\n",
       "      <td>0.0</td>\n",
       "      <td>0.0</td>\n",
       "      <td>0.0</td>\n",
       "      <td>6/30/2014</td>\n",
       "      <td>7/31/2014</td>\n",
       "      <td>8/31/2014</td>\n",
       "      <td>414.168</td>\n",
       "      <td>515.568</td>\n",
       "      <td>...</td>\n",
       "      <td>0.0</td>\n",
       "      <td>0.0</td>\n",
       "      <td>0.0</td>\n",
       "      <td>NaN</td>\n",
       "      <td>NaN</td>\n",
       "      <td>NaN</td>\n",
       "      <td>2533.0</td>\n",
       "      <td>0.00</td>\n",
       "      <td>0.00</td>\n",
       "      <td>0.00</td>\n",
       "    </tr>\n",
       "    <tr>\n",
       "      <th>2</th>\n",
       "      <td>70001</td>\n",
       "      <td>109</td>\n",
       "      <td>0.0</td>\n",
       "      <td>0.0</td>\n",
       "      <td>0.0</td>\n",
       "      <td>6/30/2014</td>\n",
       "      <td>7/31/2014</td>\n",
       "      <td>8/31/2014</td>\n",
       "      <td>329.844</td>\n",
       "      <td>434.884</td>\n",
       "      <td>...</td>\n",
       "      <td>0.0</td>\n",
       "      <td>0.0</td>\n",
       "      <td>0.0</td>\n",
       "      <td>NaN</td>\n",
       "      <td>NaN</td>\n",
       "      <td>NaN</td>\n",
       "      <td>277.0</td>\n",
       "      <td>525.61</td>\n",
       "      <td>758.41</td>\n",
       "      <td>241.84</td>\n",
       "    </tr>\n",
       "    <tr>\n",
       "      <th>3</th>\n",
       "      <td>70002</td>\n",
       "      <td>109</td>\n",
       "      <td>0.0</td>\n",
       "      <td>0.0</td>\n",
       "      <td>0.0</td>\n",
       "      <td>6/30/2014</td>\n",
       "      <td>7/31/2014</td>\n",
       "      <td>8/31/2014</td>\n",
       "      <td>43.550</td>\n",
       "      <td>171.390</td>\n",
       "      <td>...</td>\n",
       "      <td>0.0</td>\n",
       "      <td>0.0</td>\n",
       "      <td>0.0</td>\n",
       "      <td>NaN</td>\n",
       "      <td>NaN</td>\n",
       "      <td>NaN</td>\n",
       "      <td>1244.0</td>\n",
       "      <td>0.00</td>\n",
       "      <td>0.00</td>\n",
       "      <td>0.00</td>\n",
       "    </tr>\n",
       "    <tr>\n",
       "      <th>4</th>\n",
       "      <td>70003</td>\n",
       "      <td>109</td>\n",
       "      <td>0.0</td>\n",
       "      <td>0.0</td>\n",
       "      <td>0.0</td>\n",
       "      <td>6/30/2014</td>\n",
       "      <td>7/31/2014</td>\n",
       "      <td>8/31/2014</td>\n",
       "      <td>306.854</td>\n",
       "      <td>406.289</td>\n",
       "      <td>...</td>\n",
       "      <td>0.0</td>\n",
       "      <td>0.0</td>\n",
       "      <td>0.0</td>\n",
       "      <td>NaN</td>\n",
       "      <td>NaN</td>\n",
       "      <td>NaN</td>\n",
       "      <td>462.0</td>\n",
       "      <td>0.00</td>\n",
       "      <td>0.00</td>\n",
       "      <td>0.00</td>\n",
       "    </tr>\n",
       "  </tbody>\n",
       "</table>\n",
       "<p>5 rows × 171 columns</p>\n",
       "</div>\n",
       "      <button class=\"colab-df-convert\" onclick=\"convertToInteractive('df-8f5d2801-657e-4f6e-86a9-5968c7f88c7f')\"\n",
       "              title=\"Convert this dataframe to an interactive table.\"\n",
       "              style=\"display:none;\">\n",
       "        \n",
       "  <svg xmlns=\"http://www.w3.org/2000/svg\" height=\"24px\"viewBox=\"0 0 24 24\"\n",
       "       width=\"24px\">\n",
       "    <path d=\"M0 0h24v24H0V0z\" fill=\"none\"/>\n",
       "    <path d=\"M18.56 5.44l.94 2.06.94-2.06 2.06-.94-2.06-.94-.94-2.06-.94 2.06-2.06.94zm-11 1L8.5 8.5l.94-2.06 2.06-.94-2.06-.94L8.5 2.5l-.94 2.06-2.06.94zm10 10l.94 2.06.94-2.06 2.06-.94-2.06-.94-.94-2.06-.94 2.06-2.06.94z\"/><path d=\"M17.41 7.96l-1.37-1.37c-.4-.4-.92-.59-1.43-.59-.52 0-1.04.2-1.43.59L10.3 9.45l-7.72 7.72c-.78.78-.78 2.05 0 2.83L4 21.41c.39.39.9.59 1.41.59.51 0 1.02-.2 1.41-.59l7.78-7.78 2.81-2.81c.8-.78.8-2.07 0-2.86zM5.41 20L4 18.59l7.72-7.72 1.47 1.35L5.41 20z\"/>\n",
       "  </svg>\n",
       "      </button>\n",
       "      \n",
       "  <style>\n",
       "    .colab-df-container {\n",
       "      display:flex;\n",
       "      flex-wrap:wrap;\n",
       "      gap: 12px;\n",
       "    }\n",
       "\n",
       "    .colab-df-convert {\n",
       "      background-color: #E8F0FE;\n",
       "      border: none;\n",
       "      border-radius: 50%;\n",
       "      cursor: pointer;\n",
       "      display: none;\n",
       "      fill: #1967D2;\n",
       "      height: 32px;\n",
       "      padding: 0 0 0 0;\n",
       "      width: 32px;\n",
       "    }\n",
       "\n",
       "    .colab-df-convert:hover {\n",
       "      background-color: #E2EBFA;\n",
       "      box-shadow: 0px 1px 2px rgba(60, 64, 67, 0.3), 0px 1px 3px 1px rgba(60, 64, 67, 0.15);\n",
       "      fill: #174EA6;\n",
       "    }\n",
       "\n",
       "    [theme=dark] .colab-df-convert {\n",
       "      background-color: #3B4455;\n",
       "      fill: #D2E3FC;\n",
       "    }\n",
       "\n",
       "    [theme=dark] .colab-df-convert:hover {\n",
       "      background-color: #434B5C;\n",
       "      box-shadow: 0px 1px 3px 1px rgba(0, 0, 0, 0.15);\n",
       "      filter: drop-shadow(0px 1px 2px rgba(0, 0, 0, 0.3));\n",
       "      fill: #FFFFFF;\n",
       "    }\n",
       "  </style>\n",
       "\n",
       "      <script>\n",
       "        const buttonEl =\n",
       "          document.querySelector('#df-8f5d2801-657e-4f6e-86a9-5968c7f88c7f button.colab-df-convert');\n",
       "        buttonEl.style.display =\n",
       "          google.colab.kernel.accessAllowed ? 'block' : 'none';\n",
       "\n",
       "        async function convertToInteractive(key) {\n",
       "          const element = document.querySelector('#df-8f5d2801-657e-4f6e-86a9-5968c7f88c7f');\n",
       "          const dataTable =\n",
       "            await google.colab.kernel.invokeFunction('convertToInteractive',\n",
       "                                                     [key], {});\n",
       "          if (!dataTable) return;\n",
       "\n",
       "          const docLinkHtml = 'Like what you see? Visit the ' +\n",
       "            '<a target=\"_blank\" href=https://colab.research.google.com/notebooks/data_table.ipynb>data table notebook</a>'\n",
       "            + ' to learn more about interactive tables.';\n",
       "          element.innerHTML = '';\n",
       "          dataTable['output_type'] = 'display_data';\n",
       "          await google.colab.output.renderOutput(dataTable, element);\n",
       "          const docLink = document.createElement('div');\n",
       "          docLink.innerHTML = docLinkHtml;\n",
       "          element.appendChild(docLink);\n",
       "        }\n",
       "      </script>\n",
       "    </div>\n",
       "  </div>\n",
       "  "
      ],
      "text/plain": [
       "      id  circle_id  loc_og_t2o_mou  std_og_t2o_mou  loc_ic_t2o_mou  \\\n",
       "0  69999        109             0.0             0.0             0.0   \n",
       "1  70000        109             0.0             0.0             0.0   \n",
       "2  70001        109             0.0             0.0             0.0   \n",
       "3  70002        109             0.0             0.0             0.0   \n",
       "4  70003        109             0.0             0.0             0.0   \n",
       "\n",
       "  last_date_of_month_6 last_date_of_month_7 last_date_of_month_8   arpu_6  \\\n",
       "0            6/30/2014            7/31/2014            8/31/2014   91.882   \n",
       "1            6/30/2014            7/31/2014            8/31/2014  414.168   \n",
       "2            6/30/2014            7/31/2014            8/31/2014  329.844   \n",
       "3            6/30/2014            7/31/2014            8/31/2014   43.550   \n",
       "4            6/30/2014            7/31/2014            8/31/2014  306.854   \n",
       "\n",
       "    arpu_7  ...  sachet_3g_6  sachet_3g_7  sachet_3g_8  fb_user_6  fb_user_7  \\\n",
       "0   65.330  ...          0.0          0.0          0.0        NaN        NaN   \n",
       "1  515.568  ...          0.0          0.0          0.0        NaN        NaN   \n",
       "2  434.884  ...          0.0          0.0          0.0        NaN        NaN   \n",
       "3  171.390  ...          0.0          0.0          0.0        NaN        NaN   \n",
       "4  406.289  ...          0.0          0.0          0.0        NaN        NaN   \n",
       "\n",
       "   fb_user_8     aon  aug_vbc_3g  jul_vbc_3g  jun_vbc_3g  \n",
       "0        NaN  1692.0        0.00        0.00        0.00  \n",
       "1        NaN  2533.0        0.00        0.00        0.00  \n",
       "2        NaN   277.0      525.61      758.41      241.84  \n",
       "3        NaN  1244.0        0.00        0.00        0.00  \n",
       "4        NaN   462.0        0.00        0.00        0.00  \n",
       "\n",
       "[5 rows x 171 columns]"
      ]
     },
     "execution_count": 150,
     "metadata": {},
     "output_type": "execute_result"
    }
   ],
   "source": [
    "test_df.head()"
   ]
  },
  {
   "cell_type": "code",
   "execution_count": 151,
   "metadata": {
    "colab": {
     "base_uri": "https://localhost:8080/"
    },
    "id": "x2Dkb25eWDQK",
    "outputId": "201c5272-08e2-47cd-c1d8-9c76b845e05a"
   },
   "outputs": [
    {
     "name": "stdout",
     "output_type": "stream",
     "text": [
      "<class 'pandas.core.frame.DataFrame'>\n",
      "RangeIndex: 26175 entries, 0 to 26174\n",
      "Columns: 172 entries, id to churn_probability\n",
      "dtypes: float64(156), int64(7), object(9)\n",
      "memory usage: 34.3+ MB\n"
     ]
    }
   ],
   "source": [
    "# Get the information about data set\n",
    "telecom_df.info()"
   ]
  },
  {
   "cell_type": "code",
   "execution_count": 152,
   "metadata": {
    "colab": {
     "base_uri": "https://localhost:8080/",
     "height": 0
    },
    "id": "2jH2xTNHWDQL",
    "outputId": "5f67b9a0-521d-480b-e56a-743e4576fd43"
   },
   "outputs": [
    {
     "data": {
      "text/html": [
       "\n",
       "  <div id=\"df-fbdad178-4450-4c38-8a9a-250eea79a727\">\n",
       "    <div class=\"colab-df-container\">\n",
       "      <div>\n",
       "<style scoped>\n",
       "    .dataframe tbody tr th:only-of-type {\n",
       "        vertical-align: middle;\n",
       "    }\n",
       "\n",
       "    .dataframe tbody tr th {\n",
       "        vertical-align: top;\n",
       "    }\n",
       "\n",
       "    .dataframe thead th {\n",
       "        text-align: right;\n",
       "    }\n",
       "</style>\n",
       "<table border=\"1\" class=\"dataframe\">\n",
       "  <thead>\n",
       "    <tr style=\"text-align: right;\">\n",
       "      <th></th>\n",
       "      <th>id</th>\n",
       "      <th>circle_id</th>\n",
       "      <th>loc_og_t2o_mou</th>\n",
       "      <th>std_og_t2o_mou</th>\n",
       "      <th>loc_ic_t2o_mou</th>\n",
       "      <th>last_date_of_month_6</th>\n",
       "      <th>last_date_of_month_7</th>\n",
       "      <th>last_date_of_month_8</th>\n",
       "      <th>arpu_6</th>\n",
       "      <th>arpu_7</th>\n",
       "      <th>...</th>\n",
       "      <th>sachet_3g_6</th>\n",
       "      <th>sachet_3g_7</th>\n",
       "      <th>sachet_3g_8</th>\n",
       "      <th>fb_user_6</th>\n",
       "      <th>fb_user_7</th>\n",
       "      <th>fb_user_8</th>\n",
       "      <th>aon</th>\n",
       "      <th>aug_vbc_3g</th>\n",
       "      <th>jul_vbc_3g</th>\n",
       "      <th>jun_vbc_3g</th>\n",
       "    </tr>\n",
       "  </thead>\n",
       "  <tbody>\n",
       "    <tr>\n",
       "      <th>0</th>\n",
       "      <td>69999</td>\n",
       "      <td>109</td>\n",
       "      <td>0.0</td>\n",
       "      <td>0.0</td>\n",
       "      <td>0.0</td>\n",
       "      <td>6/30/2014</td>\n",
       "      <td>7/31/2014</td>\n",
       "      <td>8/31/2014</td>\n",
       "      <td>91.882</td>\n",
       "      <td>65.330</td>\n",
       "      <td>...</td>\n",
       "      <td>0.0</td>\n",
       "      <td>0.0</td>\n",
       "      <td>0.0</td>\n",
       "      <td>NaN</td>\n",
       "      <td>NaN</td>\n",
       "      <td>NaN</td>\n",
       "      <td>1692.0</td>\n",
       "      <td>0.00</td>\n",
       "      <td>0.00</td>\n",
       "      <td>0.00</td>\n",
       "    </tr>\n",
       "    <tr>\n",
       "      <th>1</th>\n",
       "      <td>70000</td>\n",
       "      <td>109</td>\n",
       "      <td>0.0</td>\n",
       "      <td>0.0</td>\n",
       "      <td>0.0</td>\n",
       "      <td>6/30/2014</td>\n",
       "      <td>7/31/2014</td>\n",
       "      <td>8/31/2014</td>\n",
       "      <td>414.168</td>\n",
       "      <td>515.568</td>\n",
       "      <td>...</td>\n",
       "      <td>0.0</td>\n",
       "      <td>0.0</td>\n",
       "      <td>0.0</td>\n",
       "      <td>NaN</td>\n",
       "      <td>NaN</td>\n",
       "      <td>NaN</td>\n",
       "      <td>2533.0</td>\n",
       "      <td>0.00</td>\n",
       "      <td>0.00</td>\n",
       "      <td>0.00</td>\n",
       "    </tr>\n",
       "    <tr>\n",
       "      <th>2</th>\n",
       "      <td>70001</td>\n",
       "      <td>109</td>\n",
       "      <td>0.0</td>\n",
       "      <td>0.0</td>\n",
       "      <td>0.0</td>\n",
       "      <td>6/30/2014</td>\n",
       "      <td>7/31/2014</td>\n",
       "      <td>8/31/2014</td>\n",
       "      <td>329.844</td>\n",
       "      <td>434.884</td>\n",
       "      <td>...</td>\n",
       "      <td>0.0</td>\n",
       "      <td>0.0</td>\n",
       "      <td>0.0</td>\n",
       "      <td>NaN</td>\n",
       "      <td>NaN</td>\n",
       "      <td>NaN</td>\n",
       "      <td>277.0</td>\n",
       "      <td>525.61</td>\n",
       "      <td>758.41</td>\n",
       "      <td>241.84</td>\n",
       "    </tr>\n",
       "    <tr>\n",
       "      <th>3</th>\n",
       "      <td>70002</td>\n",
       "      <td>109</td>\n",
       "      <td>0.0</td>\n",
       "      <td>0.0</td>\n",
       "      <td>0.0</td>\n",
       "      <td>6/30/2014</td>\n",
       "      <td>7/31/2014</td>\n",
       "      <td>8/31/2014</td>\n",
       "      <td>43.550</td>\n",
       "      <td>171.390</td>\n",
       "      <td>...</td>\n",
       "      <td>0.0</td>\n",
       "      <td>0.0</td>\n",
       "      <td>0.0</td>\n",
       "      <td>NaN</td>\n",
       "      <td>NaN</td>\n",
       "      <td>NaN</td>\n",
       "      <td>1244.0</td>\n",
       "      <td>0.00</td>\n",
       "      <td>0.00</td>\n",
       "      <td>0.00</td>\n",
       "    </tr>\n",
       "    <tr>\n",
       "      <th>4</th>\n",
       "      <td>70003</td>\n",
       "      <td>109</td>\n",
       "      <td>0.0</td>\n",
       "      <td>0.0</td>\n",
       "      <td>0.0</td>\n",
       "      <td>6/30/2014</td>\n",
       "      <td>7/31/2014</td>\n",
       "      <td>8/31/2014</td>\n",
       "      <td>306.854</td>\n",
       "      <td>406.289</td>\n",
       "      <td>...</td>\n",
       "      <td>0.0</td>\n",
       "      <td>0.0</td>\n",
       "      <td>0.0</td>\n",
       "      <td>NaN</td>\n",
       "      <td>NaN</td>\n",
       "      <td>NaN</td>\n",
       "      <td>462.0</td>\n",
       "      <td>0.00</td>\n",
       "      <td>0.00</td>\n",
       "      <td>0.00</td>\n",
       "    </tr>\n",
       "  </tbody>\n",
       "</table>\n",
       "<p>5 rows × 171 columns</p>\n",
       "</div>\n",
       "      <button class=\"colab-df-convert\" onclick=\"convertToInteractive('df-fbdad178-4450-4c38-8a9a-250eea79a727')\"\n",
       "              title=\"Convert this dataframe to an interactive table.\"\n",
       "              style=\"display:none;\">\n",
       "        \n",
       "  <svg xmlns=\"http://www.w3.org/2000/svg\" height=\"24px\"viewBox=\"0 0 24 24\"\n",
       "       width=\"24px\">\n",
       "    <path d=\"M0 0h24v24H0V0z\" fill=\"none\"/>\n",
       "    <path d=\"M18.56 5.44l.94 2.06.94-2.06 2.06-.94-2.06-.94-.94-2.06-.94 2.06-2.06.94zm-11 1L8.5 8.5l.94-2.06 2.06-.94-2.06-.94L8.5 2.5l-.94 2.06-2.06.94zm10 10l.94 2.06.94-2.06 2.06-.94-2.06-.94-.94-2.06-.94 2.06-2.06.94z\"/><path d=\"M17.41 7.96l-1.37-1.37c-.4-.4-.92-.59-1.43-.59-.52 0-1.04.2-1.43.59L10.3 9.45l-7.72 7.72c-.78.78-.78 2.05 0 2.83L4 21.41c.39.39.9.59 1.41.59.51 0 1.02-.2 1.41-.59l7.78-7.78 2.81-2.81c.8-.78.8-2.07 0-2.86zM5.41 20L4 18.59l7.72-7.72 1.47 1.35L5.41 20z\"/>\n",
       "  </svg>\n",
       "      </button>\n",
       "      \n",
       "  <style>\n",
       "    .colab-df-container {\n",
       "      display:flex;\n",
       "      flex-wrap:wrap;\n",
       "      gap: 12px;\n",
       "    }\n",
       "\n",
       "    .colab-df-convert {\n",
       "      background-color: #E8F0FE;\n",
       "      border: none;\n",
       "      border-radius: 50%;\n",
       "      cursor: pointer;\n",
       "      display: none;\n",
       "      fill: #1967D2;\n",
       "      height: 32px;\n",
       "      padding: 0 0 0 0;\n",
       "      width: 32px;\n",
       "    }\n",
       "\n",
       "    .colab-df-convert:hover {\n",
       "      background-color: #E2EBFA;\n",
       "      box-shadow: 0px 1px 2px rgba(60, 64, 67, 0.3), 0px 1px 3px 1px rgba(60, 64, 67, 0.15);\n",
       "      fill: #174EA6;\n",
       "    }\n",
       "\n",
       "    [theme=dark] .colab-df-convert {\n",
       "      background-color: #3B4455;\n",
       "      fill: #D2E3FC;\n",
       "    }\n",
       "\n",
       "    [theme=dark] .colab-df-convert:hover {\n",
       "      background-color: #434B5C;\n",
       "      box-shadow: 0px 1px 3px 1px rgba(0, 0, 0, 0.15);\n",
       "      filter: drop-shadow(0px 1px 2px rgba(0, 0, 0, 0.3));\n",
       "      fill: #FFFFFF;\n",
       "    }\n",
       "  </style>\n",
       "\n",
       "      <script>\n",
       "        const buttonEl =\n",
       "          document.querySelector('#df-fbdad178-4450-4c38-8a9a-250eea79a727 button.colab-df-convert');\n",
       "        buttonEl.style.display =\n",
       "          google.colab.kernel.accessAllowed ? 'block' : 'none';\n",
       "\n",
       "        async function convertToInteractive(key) {\n",
       "          const element = document.querySelector('#df-fbdad178-4450-4c38-8a9a-250eea79a727');\n",
       "          const dataTable =\n",
       "            await google.colab.kernel.invokeFunction('convertToInteractive',\n",
       "                                                     [key], {});\n",
       "          if (!dataTable) return;\n",
       "\n",
       "          const docLinkHtml = 'Like what you see? Visit the ' +\n",
       "            '<a target=\"_blank\" href=https://colab.research.google.com/notebooks/data_table.ipynb>data table notebook</a>'\n",
       "            + ' to learn more about interactive tables.';\n",
       "          element.innerHTML = '';\n",
       "          dataTable['output_type'] = 'display_data';\n",
       "          await google.colab.output.renderOutput(dataTable, element);\n",
       "          const docLink = document.createElement('div');\n",
       "          docLink.innerHTML = docLinkHtml;\n",
       "          element.appendChild(docLink);\n",
       "        }\n",
       "      </script>\n",
       "    </div>\n",
       "  </div>\n",
       "  "
      ],
      "text/plain": [
       "      id  circle_id  loc_og_t2o_mou  std_og_t2o_mou  loc_ic_t2o_mou  \\\n",
       "0  69999        109             0.0             0.0             0.0   \n",
       "1  70000        109             0.0             0.0             0.0   \n",
       "2  70001        109             0.0             0.0             0.0   \n",
       "3  70002        109             0.0             0.0             0.0   \n",
       "4  70003        109             0.0             0.0             0.0   \n",
       "\n",
       "  last_date_of_month_6 last_date_of_month_7 last_date_of_month_8   arpu_6  \\\n",
       "0            6/30/2014            7/31/2014            8/31/2014   91.882   \n",
       "1            6/30/2014            7/31/2014            8/31/2014  414.168   \n",
       "2            6/30/2014            7/31/2014            8/31/2014  329.844   \n",
       "3            6/30/2014            7/31/2014            8/31/2014   43.550   \n",
       "4            6/30/2014            7/31/2014            8/31/2014  306.854   \n",
       "\n",
       "    arpu_7  ...  sachet_3g_6  sachet_3g_7  sachet_3g_8  fb_user_6  fb_user_7  \\\n",
       "0   65.330  ...          0.0          0.0          0.0        NaN        NaN   \n",
       "1  515.568  ...          0.0          0.0          0.0        NaN        NaN   \n",
       "2  434.884  ...          0.0          0.0          0.0        NaN        NaN   \n",
       "3  171.390  ...          0.0          0.0          0.0        NaN        NaN   \n",
       "4  406.289  ...          0.0          0.0          0.0        NaN        NaN   \n",
       "\n",
       "   fb_user_8     aon  aug_vbc_3g  jul_vbc_3g  jun_vbc_3g  \n",
       "0        NaN  1692.0        0.00        0.00        0.00  \n",
       "1        NaN  2533.0        0.00        0.00        0.00  \n",
       "2        NaN   277.0      525.61      758.41      241.84  \n",
       "3        NaN  1244.0        0.00        0.00        0.00  \n",
       "4        NaN   462.0        0.00        0.00        0.00  \n",
       "\n",
       "[5 rows x 171 columns]"
      ]
     },
     "execution_count": 152,
     "metadata": {},
     "output_type": "execute_result"
    }
   ],
   "source": [
    "test_df.head()"
   ]
  },
  {
   "cell_type": "code",
   "execution_count": 153,
   "metadata": {
    "colab": {
     "base_uri": "https://localhost:8080/",
     "height": 0
    },
    "id": "RBnePBahWDQL",
    "outputId": "840ebfb1-f1e3-4ffa-e436-6461e131ad95"
   },
   "outputs": [
    {
     "data": {
      "text/html": [
       "\n",
       "  <div id=\"df-c1c9a5b7-8fc6-494b-a5cb-91ec62511a26\">\n",
       "    <div class=\"colab-df-container\">\n",
       "      <div>\n",
       "<style scoped>\n",
       "    .dataframe tbody tr th:only-of-type {\n",
       "        vertical-align: middle;\n",
       "    }\n",
       "\n",
       "    .dataframe tbody tr th {\n",
       "        vertical-align: top;\n",
       "    }\n",
       "\n",
       "    .dataframe thead th {\n",
       "        text-align: right;\n",
       "    }\n",
       "</style>\n",
       "<table border=\"1\" class=\"dataframe\">\n",
       "  <thead>\n",
       "    <tr style=\"text-align: right;\">\n",
       "      <th></th>\n",
       "      <th>id</th>\n",
       "      <th>circle_id</th>\n",
       "      <th>loc_og_t2o_mou</th>\n",
       "      <th>std_og_t2o_mou</th>\n",
       "      <th>loc_ic_t2o_mou</th>\n",
       "      <th>arpu_6</th>\n",
       "      <th>arpu_7</th>\n",
       "      <th>arpu_8</th>\n",
       "      <th>onnet_mou_6</th>\n",
       "      <th>onnet_mou_7</th>\n",
       "      <th>...</th>\n",
       "      <th>sachet_3g_7</th>\n",
       "      <th>sachet_3g_8</th>\n",
       "      <th>fb_user_6</th>\n",
       "      <th>fb_user_7</th>\n",
       "      <th>fb_user_8</th>\n",
       "      <th>aon</th>\n",
       "      <th>aug_vbc_3g</th>\n",
       "      <th>jul_vbc_3g</th>\n",
       "      <th>jun_vbc_3g</th>\n",
       "      <th>churn_probability</th>\n",
       "    </tr>\n",
       "  </thead>\n",
       "  <tbody>\n",
       "    <tr>\n",
       "      <th>count</th>\n",
       "      <td>26175.000000</td>\n",
       "      <td>26175.0</td>\n",
       "      <td>25911.0</td>\n",
       "      <td>25911.0</td>\n",
       "      <td>25911.0</td>\n",
       "      <td>26175.000000</td>\n",
       "      <td>26175.000000</td>\n",
       "      <td>26175.000000</td>\n",
       "      <td>25148.000000</td>\n",
       "      <td>25193.000000</td>\n",
       "      <td>...</td>\n",
       "      <td>26174.000000</td>\n",
       "      <td>26174.000000</td>\n",
       "      <td>6514.000000</td>\n",
       "      <td>6672.000000</td>\n",
       "      <td>6819.000000</td>\n",
       "      <td>26174.000000</td>\n",
       "      <td>26174.000000</td>\n",
       "      <td>26174.000000</td>\n",
       "      <td>26174.000000</td>\n",
       "      <td>26174.000000</td>\n",
       "    </tr>\n",
       "    <tr>\n",
       "      <th>mean</th>\n",
       "      <td>13087.000000</td>\n",
       "      <td>109.0</td>\n",
       "      <td>0.0</td>\n",
       "      <td>0.0</td>\n",
       "      <td>0.0</td>\n",
       "      <td>281.811323</td>\n",
       "      <td>275.527155</td>\n",
       "      <td>276.248682</td>\n",
       "      <td>131.709231</td>\n",
       "      <td>131.171772</td>\n",
       "      <td>...</td>\n",
       "      <td>0.081035</td>\n",
       "      <td>0.083862</td>\n",
       "      <td>0.909886</td>\n",
       "      <td>0.908423</td>\n",
       "      <td>0.885614</td>\n",
       "      <td>1220.842745</td>\n",
       "      <td>66.293929</td>\n",
       "      <td>64.394707</td>\n",
       "      <td>59.945139</td>\n",
       "      <td>0.103500</td>\n",
       "    </tr>\n",
       "    <tr>\n",
       "      <th>std</th>\n",
       "      <td>7556.215984</td>\n",
       "      <td>0.0</td>\n",
       "      <td>0.0</td>\n",
       "      <td>0.0</td>\n",
       "      <td>0.0</td>\n",
       "      <td>322.700631</td>\n",
       "      <td>317.590476</td>\n",
       "      <td>334.500389</td>\n",
       "      <td>297.966240</td>\n",
       "      <td>303.481051</td>\n",
       "      <td>...</td>\n",
       "      <td>0.621054</td>\n",
       "      <td>0.677313</td>\n",
       "      <td>0.286366</td>\n",
       "      <td>0.288449</td>\n",
       "      <td>0.318303</td>\n",
       "      <td>951.931839</td>\n",
       "      <td>275.254450</td>\n",
       "      <td>264.998419</td>\n",
       "      <td>263.171181</td>\n",
       "      <td>0.304616</td>\n",
       "    </tr>\n",
       "    <tr>\n",
       "      <th>min</th>\n",
       "      <td>0.000000</td>\n",
       "      <td>109.0</td>\n",
       "      <td>0.0</td>\n",
       "      <td>0.0</td>\n",
       "      <td>0.0</td>\n",
       "      <td>-2258.709000</td>\n",
       "      <td>-1289.715000</td>\n",
       "      <td>-945.808000</td>\n",
       "      <td>0.000000</td>\n",
       "      <td>0.000000</td>\n",
       "      <td>...</td>\n",
       "      <td>0.000000</td>\n",
       "      <td>0.000000</td>\n",
       "      <td>0.000000</td>\n",
       "      <td>0.000000</td>\n",
       "      <td>0.000000</td>\n",
       "      <td>180.000000</td>\n",
       "      <td>0.000000</td>\n",
       "      <td>0.000000</td>\n",
       "      <td>0.000000</td>\n",
       "      <td>0.000000</td>\n",
       "    </tr>\n",
       "    <tr>\n",
       "      <th>25%</th>\n",
       "      <td>6543.500000</td>\n",
       "      <td>109.0</td>\n",
       "      <td>0.0</td>\n",
       "      <td>0.0</td>\n",
       "      <td>0.0</td>\n",
       "      <td>93.960000</td>\n",
       "      <td>86.566000</td>\n",
       "      <td>83.156000</td>\n",
       "      <td>7.390000</td>\n",
       "      <td>6.710000</td>\n",
       "      <td>...</td>\n",
       "      <td>0.000000</td>\n",
       "      <td>0.000000</td>\n",
       "      <td>1.000000</td>\n",
       "      <td>1.000000</td>\n",
       "      <td>1.000000</td>\n",
       "      <td>468.000000</td>\n",
       "      <td>0.000000</td>\n",
       "      <td>0.000000</td>\n",
       "      <td>0.000000</td>\n",
       "      <td>0.000000</td>\n",
       "    </tr>\n",
       "    <tr>\n",
       "      <th>50%</th>\n",
       "      <td>13087.000000</td>\n",
       "      <td>109.0</td>\n",
       "      <td>0.0</td>\n",
       "      <td>0.0</td>\n",
       "      <td>0.0</td>\n",
       "      <td>198.396000</td>\n",
       "      <td>190.679000</td>\n",
       "      <td>191.340000</td>\n",
       "      <td>34.190000</td>\n",
       "      <td>32.060000</td>\n",
       "      <td>...</td>\n",
       "      <td>0.000000</td>\n",
       "      <td>0.000000</td>\n",
       "      <td>1.000000</td>\n",
       "      <td>1.000000</td>\n",
       "      <td>1.000000</td>\n",
       "      <td>867.000000</td>\n",
       "      <td>0.000000</td>\n",
       "      <td>0.000000</td>\n",
       "      <td>0.000000</td>\n",
       "      <td>0.000000</td>\n",
       "    </tr>\n",
       "    <tr>\n",
       "      <th>75%</th>\n",
       "      <td>19630.500000</td>\n",
       "      <td>109.0</td>\n",
       "      <td>0.0</td>\n",
       "      <td>0.0</td>\n",
       "      <td>0.0</td>\n",
       "      <td>369.033000</td>\n",
       "      <td>363.144500</td>\n",
       "      <td>366.973000</td>\n",
       "      <td>116.010000</td>\n",
       "      <td>111.740000</td>\n",
       "      <td>...</td>\n",
       "      <td>0.000000</td>\n",
       "      <td>0.000000</td>\n",
       "      <td>1.000000</td>\n",
       "      <td>1.000000</td>\n",
       "      <td>1.000000</td>\n",
       "      <td>1818.000000</td>\n",
       "      <td>0.000000</td>\n",
       "      <td>0.000000</td>\n",
       "      <td>0.000000</td>\n",
       "      <td>0.000000</td>\n",
       "    </tr>\n",
       "    <tr>\n",
       "      <th>max</th>\n",
       "      <td>26174.000000</td>\n",
       "      <td>109.0</td>\n",
       "      <td>0.0</td>\n",
       "      <td>0.0</td>\n",
       "      <td>0.0</td>\n",
       "      <td>11505.508000</td>\n",
       "      <td>16820.145000</td>\n",
       "      <td>19295.904000</td>\n",
       "      <td>6479.180000</td>\n",
       "      <td>8011.910000</td>\n",
       "      <td>...</td>\n",
       "      <td>33.000000</td>\n",
       "      <td>41.000000</td>\n",
       "      <td>1.000000</td>\n",
       "      <td>1.000000</td>\n",
       "      <td>1.000000</td>\n",
       "      <td>4337.000000</td>\n",
       "      <td>12916.220000</td>\n",
       "      <td>7237.780000</td>\n",
       "      <td>11166.210000</td>\n",
       "      <td>1.000000</td>\n",
       "    </tr>\n",
       "  </tbody>\n",
       "</table>\n",
       "<p>8 rows × 163 columns</p>\n",
       "</div>\n",
       "      <button class=\"colab-df-convert\" onclick=\"convertToInteractive('df-c1c9a5b7-8fc6-494b-a5cb-91ec62511a26')\"\n",
       "              title=\"Convert this dataframe to an interactive table.\"\n",
       "              style=\"display:none;\">\n",
       "        \n",
       "  <svg xmlns=\"http://www.w3.org/2000/svg\" height=\"24px\"viewBox=\"0 0 24 24\"\n",
       "       width=\"24px\">\n",
       "    <path d=\"M0 0h24v24H0V0z\" fill=\"none\"/>\n",
       "    <path d=\"M18.56 5.44l.94 2.06.94-2.06 2.06-.94-2.06-.94-.94-2.06-.94 2.06-2.06.94zm-11 1L8.5 8.5l.94-2.06 2.06-.94-2.06-.94L8.5 2.5l-.94 2.06-2.06.94zm10 10l.94 2.06.94-2.06 2.06-.94-2.06-.94-.94-2.06-.94 2.06-2.06.94z\"/><path d=\"M17.41 7.96l-1.37-1.37c-.4-.4-.92-.59-1.43-.59-.52 0-1.04.2-1.43.59L10.3 9.45l-7.72 7.72c-.78.78-.78 2.05 0 2.83L4 21.41c.39.39.9.59 1.41.59.51 0 1.02-.2 1.41-.59l7.78-7.78 2.81-2.81c.8-.78.8-2.07 0-2.86zM5.41 20L4 18.59l7.72-7.72 1.47 1.35L5.41 20z\"/>\n",
       "  </svg>\n",
       "      </button>\n",
       "      \n",
       "  <style>\n",
       "    .colab-df-container {\n",
       "      display:flex;\n",
       "      flex-wrap:wrap;\n",
       "      gap: 12px;\n",
       "    }\n",
       "\n",
       "    .colab-df-convert {\n",
       "      background-color: #E8F0FE;\n",
       "      border: none;\n",
       "      border-radius: 50%;\n",
       "      cursor: pointer;\n",
       "      display: none;\n",
       "      fill: #1967D2;\n",
       "      height: 32px;\n",
       "      padding: 0 0 0 0;\n",
       "      width: 32px;\n",
       "    }\n",
       "\n",
       "    .colab-df-convert:hover {\n",
       "      background-color: #E2EBFA;\n",
       "      box-shadow: 0px 1px 2px rgba(60, 64, 67, 0.3), 0px 1px 3px 1px rgba(60, 64, 67, 0.15);\n",
       "      fill: #174EA6;\n",
       "    }\n",
       "\n",
       "    [theme=dark] .colab-df-convert {\n",
       "      background-color: #3B4455;\n",
       "      fill: #D2E3FC;\n",
       "    }\n",
       "\n",
       "    [theme=dark] .colab-df-convert:hover {\n",
       "      background-color: #434B5C;\n",
       "      box-shadow: 0px 1px 3px 1px rgba(0, 0, 0, 0.15);\n",
       "      filter: drop-shadow(0px 1px 2px rgba(0, 0, 0, 0.3));\n",
       "      fill: #FFFFFF;\n",
       "    }\n",
       "  </style>\n",
       "\n",
       "      <script>\n",
       "        const buttonEl =\n",
       "          document.querySelector('#df-c1c9a5b7-8fc6-494b-a5cb-91ec62511a26 button.colab-df-convert');\n",
       "        buttonEl.style.display =\n",
       "          google.colab.kernel.accessAllowed ? 'block' : 'none';\n",
       "\n",
       "        async function convertToInteractive(key) {\n",
       "          const element = document.querySelector('#df-c1c9a5b7-8fc6-494b-a5cb-91ec62511a26');\n",
       "          const dataTable =\n",
       "            await google.colab.kernel.invokeFunction('convertToInteractive',\n",
       "                                                     [key], {});\n",
       "          if (!dataTable) return;\n",
       "\n",
       "          const docLinkHtml = 'Like what you see? Visit the ' +\n",
       "            '<a target=\"_blank\" href=https://colab.research.google.com/notebooks/data_table.ipynb>data table notebook</a>'\n",
       "            + ' to learn more about interactive tables.';\n",
       "          element.innerHTML = '';\n",
       "          dataTable['output_type'] = 'display_data';\n",
       "          await google.colab.output.renderOutput(dataTable, element);\n",
       "          const docLink = document.createElement('div');\n",
       "          docLink.innerHTML = docLinkHtml;\n",
       "          element.appendChild(docLink);\n",
       "        }\n",
       "      </script>\n",
       "    </div>\n",
       "  </div>\n",
       "  "
      ],
      "text/plain": [
       "                 id  circle_id  loc_og_t2o_mou  std_og_t2o_mou  \\\n",
       "count  26175.000000    26175.0         25911.0         25911.0   \n",
       "mean   13087.000000      109.0             0.0             0.0   \n",
       "std     7556.215984        0.0             0.0             0.0   \n",
       "min        0.000000      109.0             0.0             0.0   \n",
       "25%     6543.500000      109.0             0.0             0.0   \n",
       "50%    13087.000000      109.0             0.0             0.0   \n",
       "75%    19630.500000      109.0             0.0             0.0   \n",
       "max    26174.000000      109.0             0.0             0.0   \n",
       "\n",
       "       loc_ic_t2o_mou        arpu_6        arpu_7        arpu_8   onnet_mou_6  \\\n",
       "count         25911.0  26175.000000  26175.000000  26175.000000  25148.000000   \n",
       "mean              0.0    281.811323    275.527155    276.248682    131.709231   \n",
       "std               0.0    322.700631    317.590476    334.500389    297.966240   \n",
       "min               0.0  -2258.709000  -1289.715000   -945.808000      0.000000   \n",
       "25%               0.0     93.960000     86.566000     83.156000      7.390000   \n",
       "50%               0.0    198.396000    190.679000    191.340000     34.190000   \n",
       "75%               0.0    369.033000    363.144500    366.973000    116.010000   \n",
       "max               0.0  11505.508000  16820.145000  19295.904000   6479.180000   \n",
       "\n",
       "        onnet_mou_7  ...   sachet_3g_7   sachet_3g_8    fb_user_6  \\\n",
       "count  25193.000000  ...  26174.000000  26174.000000  6514.000000   \n",
       "mean     131.171772  ...      0.081035      0.083862     0.909886   \n",
       "std      303.481051  ...      0.621054      0.677313     0.286366   \n",
       "min        0.000000  ...      0.000000      0.000000     0.000000   \n",
       "25%        6.710000  ...      0.000000      0.000000     1.000000   \n",
       "50%       32.060000  ...      0.000000      0.000000     1.000000   \n",
       "75%      111.740000  ...      0.000000      0.000000     1.000000   \n",
       "max     8011.910000  ...     33.000000     41.000000     1.000000   \n",
       "\n",
       "         fb_user_7    fb_user_8           aon    aug_vbc_3g    jul_vbc_3g  \\\n",
       "count  6672.000000  6819.000000  26174.000000  26174.000000  26174.000000   \n",
       "mean      0.908423     0.885614   1220.842745     66.293929     64.394707   \n",
       "std       0.288449     0.318303    951.931839    275.254450    264.998419   \n",
       "min       0.000000     0.000000    180.000000      0.000000      0.000000   \n",
       "25%       1.000000     1.000000    468.000000      0.000000      0.000000   \n",
       "50%       1.000000     1.000000    867.000000      0.000000      0.000000   \n",
       "75%       1.000000     1.000000   1818.000000      0.000000      0.000000   \n",
       "max       1.000000     1.000000   4337.000000  12916.220000   7237.780000   \n",
       "\n",
       "         jun_vbc_3g  churn_probability  \n",
       "count  26174.000000       26174.000000  \n",
       "mean      59.945139           0.103500  \n",
       "std      263.171181           0.304616  \n",
       "min        0.000000           0.000000  \n",
       "25%        0.000000           0.000000  \n",
       "50%        0.000000           0.000000  \n",
       "75%        0.000000           0.000000  \n",
       "max    11166.210000           1.000000  \n",
       "\n",
       "[8 rows x 163 columns]"
      ]
     },
     "execution_count": 153,
     "metadata": {},
     "output_type": "execute_result"
    }
   ],
   "source": [
    "# Observe the description about the data in the data set\n",
    "telecom_df.describe()"
   ]
  },
  {
   "cell_type": "code",
   "execution_count": 154,
   "metadata": {
    "colab": {
     "base_uri": "https://localhost:8080/",
     "height": 0
    },
    "id": "dR3KNab7WDQM",
    "outputId": "bb5d227e-bb21-46e3-9aa2-485875d7a7d0"
   },
   "outputs": [
    {
     "data": {
      "text/html": [
       "\n",
       "  <div id=\"df-447301d2-0102-4a98-8e65-1217d6ffaa86\">\n",
       "    <div class=\"colab-df-container\">\n",
       "      <div>\n",
       "<style scoped>\n",
       "    .dataframe tbody tr th:only-of-type {\n",
       "        vertical-align: middle;\n",
       "    }\n",
       "\n",
       "    .dataframe tbody tr th {\n",
       "        vertical-align: top;\n",
       "    }\n",
       "\n",
       "    .dataframe thead th {\n",
       "        text-align: right;\n",
       "    }\n",
       "</style>\n",
       "<table border=\"1\" class=\"dataframe\">\n",
       "  <thead>\n",
       "    <tr style=\"text-align: right;\">\n",
       "      <th></th>\n",
       "      <th>id</th>\n",
       "      <th>circle_id</th>\n",
       "      <th>loc_og_t2o_mou</th>\n",
       "      <th>std_og_t2o_mou</th>\n",
       "      <th>loc_ic_t2o_mou</th>\n",
       "      <th>arpu_6</th>\n",
       "      <th>arpu_7</th>\n",
       "      <th>arpu_8</th>\n",
       "      <th>onnet_mou_6</th>\n",
       "      <th>onnet_mou_7</th>\n",
       "      <th>...</th>\n",
       "      <th>sachet_3g_6</th>\n",
       "      <th>sachet_3g_7</th>\n",
       "      <th>sachet_3g_8</th>\n",
       "      <th>fb_user_6</th>\n",
       "      <th>fb_user_7</th>\n",
       "      <th>fb_user_8</th>\n",
       "      <th>aon</th>\n",
       "      <th>aug_vbc_3g</th>\n",
       "      <th>jul_vbc_3g</th>\n",
       "      <th>jun_vbc_3g</th>\n",
       "    </tr>\n",
       "  </thead>\n",
       "  <tbody>\n",
       "    <tr>\n",
       "      <th>count</th>\n",
       "      <td>21845.000000</td>\n",
       "      <td>21845.0</td>\n",
       "      <td>21613.0</td>\n",
       "      <td>21613.0</td>\n",
       "      <td>21613.0</td>\n",
       "      <td>21845.000000</td>\n",
       "      <td>21845.000000</td>\n",
       "      <td>21845.000000</td>\n",
       "      <td>20999.000000</td>\n",
       "      <td>20990.000000</td>\n",
       "      <td>...</td>\n",
       "      <td>21844.000000</td>\n",
       "      <td>21844.000000</td>\n",
       "      <td>21844.000000</td>\n",
       "      <td>5566.000000</td>\n",
       "      <td>5624.000000</td>\n",
       "      <td>5813.000000</td>\n",
       "      <td>21844.000000</td>\n",
       "      <td>21844.000000</td>\n",
       "      <td>21844.000000</td>\n",
       "      <td>21844.000000</td>\n",
       "    </tr>\n",
       "    <tr>\n",
       "      <th>mean</th>\n",
       "      <td>80921.000000</td>\n",
       "      <td>109.0</td>\n",
       "      <td>0.0</td>\n",
       "      <td>0.0</td>\n",
       "      <td>0.0</td>\n",
       "      <td>283.815134</td>\n",
       "      <td>279.832722</td>\n",
       "      <td>279.990592</td>\n",
       "      <td>131.342611</td>\n",
       "      <td>133.648577</td>\n",
       "      <td>...</td>\n",
       "      <td>0.074849</td>\n",
       "      <td>0.077504</td>\n",
       "      <td>0.082448</td>\n",
       "      <td>0.910349</td>\n",
       "      <td>0.905583</td>\n",
       "      <td>0.892310</td>\n",
       "      <td>1220.227294</td>\n",
       "      <td>68.740197</td>\n",
       "      <td>68.652760</td>\n",
       "      <td>59.594665</td>\n",
       "    </tr>\n",
       "    <tr>\n",
       "      <th>std</th>\n",
       "      <td>6306.252651</td>\n",
       "      <td>0.0</td>\n",
       "      <td>0.0</td>\n",
       "      <td>0.0</td>\n",
       "      <td>0.0</td>\n",
       "      <td>310.631347</td>\n",
       "      <td>322.206952</td>\n",
       "      <td>316.346058</td>\n",
       "      <td>291.324725</td>\n",
       "      <td>299.880573</td>\n",
       "      <td>...</td>\n",
       "      <td>0.577652</td>\n",
       "      <td>0.633489</td>\n",
       "      <td>0.601335</td>\n",
       "      <td>0.285707</td>\n",
       "      <td>0.292434</td>\n",
       "      <td>0.310015</td>\n",
       "      <td>958.855564</td>\n",
       "      <td>265.259225</td>\n",
       "      <td>273.829409</td>\n",
       "      <td>247.243249</td>\n",
       "    </tr>\n",
       "    <tr>\n",
       "      <th>min</th>\n",
       "      <td>69999.000000</td>\n",
       "      <td>109.0</td>\n",
       "      <td>0.0</td>\n",
       "      <td>0.0</td>\n",
       "      <td>0.0</td>\n",
       "      <td>-185.043000</td>\n",
       "      <td>-179.027000</td>\n",
       "      <td>-146.859000</td>\n",
       "      <td>0.000000</td>\n",
       "      <td>0.000000</td>\n",
       "      <td>...</td>\n",
       "      <td>0.000000</td>\n",
       "      <td>0.000000</td>\n",
       "      <td>0.000000</td>\n",
       "      <td>0.000000</td>\n",
       "      <td>0.000000</td>\n",
       "      <td>0.000000</td>\n",
       "      <td>180.000000</td>\n",
       "      <td>0.000000</td>\n",
       "      <td>0.000000</td>\n",
       "      <td>0.000000</td>\n",
       "    </tr>\n",
       "    <tr>\n",
       "      <th>25%</th>\n",
       "      <td>75460.000000</td>\n",
       "      <td>109.0</td>\n",
       "      <td>0.0</td>\n",
       "      <td>0.0</td>\n",
       "      <td>0.0</td>\n",
       "      <td>93.889000</td>\n",
       "      <td>87.410000</td>\n",
       "      <td>84.582000</td>\n",
       "      <td>7.460000</td>\n",
       "      <td>6.740000</td>\n",
       "      <td>...</td>\n",
       "      <td>0.000000</td>\n",
       "      <td>0.000000</td>\n",
       "      <td>0.000000</td>\n",
       "      <td>1.000000</td>\n",
       "      <td>1.000000</td>\n",
       "      <td>1.000000</td>\n",
       "      <td>464.000000</td>\n",
       "      <td>0.000000</td>\n",
       "      <td>0.000000</td>\n",
       "      <td>0.000000</td>\n",
       "    </tr>\n",
       "    <tr>\n",
       "      <th>50%</th>\n",
       "      <td>80921.000000</td>\n",
       "      <td>109.0</td>\n",
       "      <td>0.0</td>\n",
       "      <td>0.0</td>\n",
       "      <td>0.0</td>\n",
       "      <td>200.154000</td>\n",
       "      <td>193.106000</td>\n",
       "      <td>191.885000</td>\n",
       "      <td>35.040000</td>\n",
       "      <td>32.950000</td>\n",
       "      <td>...</td>\n",
       "      <td>0.000000</td>\n",
       "      <td>0.000000</td>\n",
       "      <td>0.000000</td>\n",
       "      <td>1.000000</td>\n",
       "      <td>1.000000</td>\n",
       "      <td>1.000000</td>\n",
       "      <td>860.000000</td>\n",
       "      <td>0.000000</td>\n",
       "      <td>0.000000</td>\n",
       "      <td>0.000000</td>\n",
       "    </tr>\n",
       "    <tr>\n",
       "      <th>75%</th>\n",
       "      <td>86382.000000</td>\n",
       "      <td>109.0</td>\n",
       "      <td>0.0</td>\n",
       "      <td>0.0</td>\n",
       "      <td>0.0</td>\n",
       "      <td>373.801000</td>\n",
       "      <td>367.859000</td>\n",
       "      <td>369.424000</td>\n",
       "      <td>118.195000</td>\n",
       "      <td>115.202500</td>\n",
       "      <td>...</td>\n",
       "      <td>0.000000</td>\n",
       "      <td>0.000000</td>\n",
       "      <td>0.000000</td>\n",
       "      <td>1.000000</td>\n",
       "      <td>1.000000</td>\n",
       "      <td>1.000000</td>\n",
       "      <td>1799.000000</td>\n",
       "      <td>0.000000</td>\n",
       "      <td>0.000000</td>\n",
       "      <td>0.000000</td>\n",
       "    </tr>\n",
       "    <tr>\n",
       "      <th>max</th>\n",
       "      <td>91843.000000</td>\n",
       "      <td>109.0</td>\n",
       "      <td>0.0</td>\n",
       "      <td>0.0</td>\n",
       "      <td>0.0</td>\n",
       "      <td>7748.779000</td>\n",
       "      <td>13224.119000</td>\n",
       "      <td>6836.441000</td>\n",
       "      <td>6944.360000</td>\n",
       "      <td>6140.740000</td>\n",
       "      <td>...</td>\n",
       "      <td>28.000000</td>\n",
       "      <td>35.000000</td>\n",
       "      <td>30.000000</td>\n",
       "      <td>1.000000</td>\n",
       "      <td>1.000000</td>\n",
       "      <td>1.000000</td>\n",
       "      <td>4197.000000</td>\n",
       "      <td>6054.390000</td>\n",
       "      <td>6301.740000</td>\n",
       "      <td>6614.530000</td>\n",
       "    </tr>\n",
       "  </tbody>\n",
       "</table>\n",
       "<p>8 rows × 162 columns</p>\n",
       "</div>\n",
       "      <button class=\"colab-df-convert\" onclick=\"convertToInteractive('df-447301d2-0102-4a98-8e65-1217d6ffaa86')\"\n",
       "              title=\"Convert this dataframe to an interactive table.\"\n",
       "              style=\"display:none;\">\n",
       "        \n",
       "  <svg xmlns=\"http://www.w3.org/2000/svg\" height=\"24px\"viewBox=\"0 0 24 24\"\n",
       "       width=\"24px\">\n",
       "    <path d=\"M0 0h24v24H0V0z\" fill=\"none\"/>\n",
       "    <path d=\"M18.56 5.44l.94 2.06.94-2.06 2.06-.94-2.06-.94-.94-2.06-.94 2.06-2.06.94zm-11 1L8.5 8.5l.94-2.06 2.06-.94-2.06-.94L8.5 2.5l-.94 2.06-2.06.94zm10 10l.94 2.06.94-2.06 2.06-.94-2.06-.94-.94-2.06-.94 2.06-2.06.94z\"/><path d=\"M17.41 7.96l-1.37-1.37c-.4-.4-.92-.59-1.43-.59-.52 0-1.04.2-1.43.59L10.3 9.45l-7.72 7.72c-.78.78-.78 2.05 0 2.83L4 21.41c.39.39.9.59 1.41.59.51 0 1.02-.2 1.41-.59l7.78-7.78 2.81-2.81c.8-.78.8-2.07 0-2.86zM5.41 20L4 18.59l7.72-7.72 1.47 1.35L5.41 20z\"/>\n",
       "  </svg>\n",
       "      </button>\n",
       "      \n",
       "  <style>\n",
       "    .colab-df-container {\n",
       "      display:flex;\n",
       "      flex-wrap:wrap;\n",
       "      gap: 12px;\n",
       "    }\n",
       "\n",
       "    .colab-df-convert {\n",
       "      background-color: #E8F0FE;\n",
       "      border: none;\n",
       "      border-radius: 50%;\n",
       "      cursor: pointer;\n",
       "      display: none;\n",
       "      fill: #1967D2;\n",
       "      height: 32px;\n",
       "      padding: 0 0 0 0;\n",
       "      width: 32px;\n",
       "    }\n",
       "\n",
       "    .colab-df-convert:hover {\n",
       "      background-color: #E2EBFA;\n",
       "      box-shadow: 0px 1px 2px rgba(60, 64, 67, 0.3), 0px 1px 3px 1px rgba(60, 64, 67, 0.15);\n",
       "      fill: #174EA6;\n",
       "    }\n",
       "\n",
       "    [theme=dark] .colab-df-convert {\n",
       "      background-color: #3B4455;\n",
       "      fill: #D2E3FC;\n",
       "    }\n",
       "\n",
       "    [theme=dark] .colab-df-convert:hover {\n",
       "      background-color: #434B5C;\n",
       "      box-shadow: 0px 1px 3px 1px rgba(0, 0, 0, 0.15);\n",
       "      filter: drop-shadow(0px 1px 2px rgba(0, 0, 0, 0.3));\n",
       "      fill: #FFFFFF;\n",
       "    }\n",
       "  </style>\n",
       "\n",
       "      <script>\n",
       "        const buttonEl =\n",
       "          document.querySelector('#df-447301d2-0102-4a98-8e65-1217d6ffaa86 button.colab-df-convert');\n",
       "        buttonEl.style.display =\n",
       "          google.colab.kernel.accessAllowed ? 'block' : 'none';\n",
       "\n",
       "        async function convertToInteractive(key) {\n",
       "          const element = document.querySelector('#df-447301d2-0102-4a98-8e65-1217d6ffaa86');\n",
       "          const dataTable =\n",
       "            await google.colab.kernel.invokeFunction('convertToInteractive',\n",
       "                                                     [key], {});\n",
       "          if (!dataTable) return;\n",
       "\n",
       "          const docLinkHtml = 'Like what you see? Visit the ' +\n",
       "            '<a target=\"_blank\" href=https://colab.research.google.com/notebooks/data_table.ipynb>data table notebook</a>'\n",
       "            + ' to learn more about interactive tables.';\n",
       "          element.innerHTML = '';\n",
       "          dataTable['output_type'] = 'display_data';\n",
       "          await google.colab.output.renderOutput(dataTable, element);\n",
       "          const docLink = document.createElement('div');\n",
       "          docLink.innerHTML = docLinkHtml;\n",
       "          element.appendChild(docLink);\n",
       "        }\n",
       "      </script>\n",
       "    </div>\n",
       "  </div>\n",
       "  "
      ],
      "text/plain": [
       "                 id  circle_id  loc_og_t2o_mou  std_og_t2o_mou  \\\n",
       "count  21845.000000    21845.0         21613.0         21613.0   \n",
       "mean   80921.000000      109.0             0.0             0.0   \n",
       "std     6306.252651        0.0             0.0             0.0   \n",
       "min    69999.000000      109.0             0.0             0.0   \n",
       "25%    75460.000000      109.0             0.0             0.0   \n",
       "50%    80921.000000      109.0             0.0             0.0   \n",
       "75%    86382.000000      109.0             0.0             0.0   \n",
       "max    91843.000000      109.0             0.0             0.0   \n",
       "\n",
       "       loc_ic_t2o_mou        arpu_6        arpu_7        arpu_8   onnet_mou_6  \\\n",
       "count         21613.0  21845.000000  21845.000000  21845.000000  20999.000000   \n",
       "mean              0.0    283.815134    279.832722    279.990592    131.342611   \n",
       "std               0.0    310.631347    322.206952    316.346058    291.324725   \n",
       "min               0.0   -185.043000   -179.027000   -146.859000      0.000000   \n",
       "25%               0.0     93.889000     87.410000     84.582000      7.460000   \n",
       "50%               0.0    200.154000    193.106000    191.885000     35.040000   \n",
       "75%               0.0    373.801000    367.859000    369.424000    118.195000   \n",
       "max               0.0   7748.779000  13224.119000   6836.441000   6944.360000   \n",
       "\n",
       "        onnet_mou_7  ...   sachet_3g_6   sachet_3g_7   sachet_3g_8  \\\n",
       "count  20990.000000  ...  21844.000000  21844.000000  21844.000000   \n",
       "mean     133.648577  ...      0.074849      0.077504      0.082448   \n",
       "std      299.880573  ...      0.577652      0.633489      0.601335   \n",
       "min        0.000000  ...      0.000000      0.000000      0.000000   \n",
       "25%        6.740000  ...      0.000000      0.000000      0.000000   \n",
       "50%       32.950000  ...      0.000000      0.000000      0.000000   \n",
       "75%      115.202500  ...      0.000000      0.000000      0.000000   \n",
       "max     6140.740000  ...     28.000000     35.000000     30.000000   \n",
       "\n",
       "         fb_user_6    fb_user_7    fb_user_8           aon    aug_vbc_3g  \\\n",
       "count  5566.000000  5624.000000  5813.000000  21844.000000  21844.000000   \n",
       "mean      0.910349     0.905583     0.892310   1220.227294     68.740197   \n",
       "std       0.285707     0.292434     0.310015    958.855564    265.259225   \n",
       "min       0.000000     0.000000     0.000000    180.000000      0.000000   \n",
       "25%       1.000000     1.000000     1.000000    464.000000      0.000000   \n",
       "50%       1.000000     1.000000     1.000000    860.000000      0.000000   \n",
       "75%       1.000000     1.000000     1.000000   1799.000000      0.000000   \n",
       "max       1.000000     1.000000     1.000000   4197.000000   6054.390000   \n",
       "\n",
       "         jul_vbc_3g    jun_vbc_3g  \n",
       "count  21844.000000  21844.000000  \n",
       "mean      68.652760     59.594665  \n",
       "std      273.829409    247.243249  \n",
       "min        0.000000      0.000000  \n",
       "25%        0.000000      0.000000  \n",
       "50%        0.000000      0.000000  \n",
       "75%        0.000000      0.000000  \n",
       "max     6301.740000   6614.530000  \n",
       "\n",
       "[8 rows x 162 columns]"
      ]
     },
     "execution_count": 154,
     "metadata": {},
     "output_type": "execute_result"
    }
   ],
   "source": [
    "test_df.describe()"
   ]
  },
  {
   "cell_type": "code",
   "execution_count": 155,
   "metadata": {
    "colab": {
     "base_uri": "https://localhost:8080/"
    },
    "id": "qDImgWO5WDQN",
    "outputId": "1ab6a718-e214-4a6b-dabc-e7770448b061"
   },
   "outputs": [
    {
     "name": "stdout",
     "output_type": "stream",
     "text": [
      "Percentage of null values in each of the columns of train data frame\n",
      "\n",
      "id : 0.0\n",
      "circle_id : 0.0\n",
      "loc_og_t2o_mou : 1.008595988538682\n",
      "std_og_t2o_mou : 1.008595988538682\n",
      "loc_ic_t2o_mou : 1.008595988538682\n",
      "last_date_of_month_6 : 0.0\n",
      "last_date_of_month_7 : 0.55396370582617\n",
      "last_date_of_month_8 : 1.0353390639923592\n",
      "arpu_6 : 0.0\n",
      "arpu_7 : 0.0\n",
      "arpu_8 : 0.0\n",
      "onnet_mou_6 : 3.9235912129894936\n",
      "onnet_mou_7 : 3.751671442215855\n",
      "onnet_mou_8 : 5.35243553008596\n",
      "offnet_mou_6 : 3.9235912129894936\n",
      "offnet_mou_7 : 3.751671442215855\n",
      "offnet_mou_8 : 5.35243553008596\n",
      "roam_ic_mou_6 : 3.9235912129894936\n",
      "roam_ic_mou_7 : 3.751671442215855\n",
      "roam_ic_mou_8 : 5.35243553008596\n",
      "roam_og_mou_6 : 3.9235912129894936\n",
      "roam_og_mou_7 : 3.751671442215855\n",
      "roam_og_mou_8 : 5.35243553008596\n",
      "loc_og_t2t_mou_6 : 3.9235912129894936\n",
      "loc_og_t2t_mou_7 : 3.751671442215855\n",
      "loc_og_t2t_mou_8 : 5.35243553008596\n",
      "loc_og_t2m_mou_6 : 3.9235912129894936\n",
      "loc_og_t2m_mou_7 : 3.751671442215855\n",
      "loc_og_t2m_mou_8 : 5.35243553008596\n",
      "loc_og_t2f_mou_6 : 3.9235912129894936\n",
      "loc_og_t2f_mou_7 : 3.751671442215855\n",
      "loc_og_t2f_mou_8 : 5.35243553008596\n",
      "loc_og_t2c_mou_6 : 3.9235912129894936\n",
      "loc_og_t2c_mou_7 : 3.751671442215855\n",
      "loc_og_t2c_mou_8 : 5.35243553008596\n",
      "loc_og_mou_6 : 3.9235912129894936\n",
      "loc_og_mou_7 : 3.751671442215855\n",
      "loc_og_mou_8 : 5.35243553008596\n",
      "std_og_t2t_mou_6 : 3.9235912129894936\n",
      "std_og_t2t_mou_7 : 3.751671442215855\n",
      "std_og_t2t_mou_8 : 5.35243553008596\n",
      "std_og_t2m_mou_6 : 3.9235912129894936\n",
      "std_og_t2m_mou_7 : 3.751671442215855\n",
      "std_og_t2m_mou_8 : 5.35243553008596\n",
      "std_og_t2f_mou_6 : 3.9235912129894936\n",
      "std_og_t2f_mou_7 : 3.751671442215855\n",
      "std_og_t2f_mou_8 : 5.35243553008596\n",
      "std_og_t2c_mou_6 : 3.9235912129894936\n",
      "std_og_t2c_mou_7 : 3.751671442215855\n",
      "std_og_t2c_mou_8 : 5.35243553008596\n",
      "std_og_mou_6 : 3.9235912129894936\n",
      "std_og_mou_7 : 3.751671442215855\n",
      "std_og_mou_8 : 5.35243553008596\n",
      "isd_og_mou_6 : 3.9235912129894936\n",
      "isd_og_mou_7 : 3.751671442215855\n",
      "isd_og_mou_8 : 5.35243553008596\n",
      "spl_og_mou_6 : 3.9235912129894936\n",
      "spl_og_mou_7 : 3.751671442215855\n",
      "spl_og_mou_8 : 5.35243553008596\n",
      "og_others_6 : 3.9235912129894936\n",
      "og_others_7 : 3.751671442215855\n",
      "og_others_8 : 5.35243553008596\n",
      "total_og_mou_6 : 0.0\n",
      "total_og_mou_7 : 0.0\n",
      "total_og_mou_8 : 0.0\n",
      "loc_ic_t2t_mou_6 : 3.9235912129894936\n",
      "loc_ic_t2t_mou_7 : 3.751671442215855\n",
      "loc_ic_t2t_mou_8 : 5.35243553008596\n",
      "loc_ic_t2m_mou_6 : 3.9235912129894936\n",
      "loc_ic_t2m_mou_7 : 3.751671442215855\n",
      "loc_ic_t2m_mou_8 : 5.35243553008596\n",
      "loc_ic_t2f_mou_6 : 3.9235912129894936\n",
      "loc_ic_t2f_mou_7 : 3.751671442215855\n",
      "loc_ic_t2f_mou_8 : 5.35243553008596\n",
      "loc_ic_mou_6 : 3.9235912129894936\n",
      "loc_ic_mou_7 : 3.751671442215855\n",
      "loc_ic_mou_8 : 5.35243553008596\n",
      "std_ic_t2t_mou_6 : 3.9235912129894936\n",
      "std_ic_t2t_mou_7 : 3.751671442215855\n",
      "std_ic_t2t_mou_8 : 5.35243553008596\n",
      "std_ic_t2m_mou_6 : 3.9235912129894936\n",
      "std_ic_t2m_mou_7 : 3.751671442215855\n",
      "std_ic_t2m_mou_8 : 5.35243553008596\n",
      "std_ic_t2f_mou_6 : 3.9235912129894936\n",
      "std_ic_t2f_mou_7 : 3.751671442215855\n",
      "std_ic_t2f_mou_8 : 5.35243553008596\n",
      "std_ic_t2o_mou_6 : 3.9235912129894936\n",
      "std_ic_t2o_mou_7 : 3.751671442215855\n",
      "std_ic_t2o_mou_8 : 5.35243553008596\n",
      "std_ic_mou_6 : 3.9235912129894936\n",
      "std_ic_mou_7 : 3.751671442215855\n",
      "std_ic_mou_8 : 5.35243553008596\n",
      "total_ic_mou_6 : 0.0\n",
      "total_ic_mou_7 : 0.0\n",
      "total_ic_mou_8 : 0.0\n",
      "spl_ic_mou_6 : 3.9235912129894936\n",
      "spl_ic_mou_7 : 3.751671442215855\n",
      "spl_ic_mou_8 : 5.35243553008596\n",
      "isd_ic_mou_6 : 3.9235912129894936\n",
      "isd_ic_mou_7 : 3.751671442215855\n",
      "isd_ic_mou_8 : 5.35243553008596\n",
      "ic_others_6 : 3.9235912129894936\n",
      "ic_others_7 : 3.751671442215855\n",
      "ic_others_8 : 5.35243553008596\n",
      "total_rech_num_6 : 0.0\n",
      "total_rech_num_7 : 0.0\n",
      "total_rech_num_8 : 0.0\n",
      "total_rech_amt_6 : 0.0\n",
      "total_rech_amt_7 : 0.0\n",
      "total_rech_amt_8 : 0.0038204393505253103\n",
      "max_rech_amt_6 : 0.0038204393505253103\n",
      "max_rech_amt_7 : 0.0038204393505253103\n",
      "max_rech_amt_8 : 0.0038204393505253103\n",
      "date_of_last_rech_6 : 1.585482330468004\n",
      "date_of_last_rech_7 : 1.795606494746896\n",
      "date_of_last_rech_8 : 3.6370582617000955\n",
      "last_day_rch_amt_6 : 0.0038204393505253103\n",
      "last_day_rch_amt_7 : 0.0038204393505253103\n",
      "last_day_rch_amt_8 : 0.0038204393505253103\n",
      "date_of_last_rech_data_6 : 75.11365807067813\n",
      "date_of_last_rech_data_7 : 74.51002865329512\n",
      "date_of_last_rech_data_8 : 73.9484240687679\n",
      "total_rech_data_6 : 75.11365807067813\n",
      "total_rech_data_7 : 74.51002865329512\n",
      "total_rech_data_8 : 73.9484240687679\n",
      "max_rech_data_6 : 75.11365807067813\n",
      "max_rech_data_7 : 74.51002865329512\n",
      "max_rech_data_8 : 73.9484240687679\n",
      "count_rech_2g_6 : 75.11365807067813\n",
      "count_rech_2g_7 : 74.51002865329512\n",
      "count_rech_2g_8 : 73.9484240687679\n",
      "count_rech_3g_6 : 75.11365807067813\n",
      "count_rech_3g_7 : 74.51002865329512\n",
      "count_rech_3g_8 : 73.9484240687679\n",
      "av_rech_amt_data_6 : 75.11365807067813\n",
      "av_rech_amt_data_7 : 74.51002865329512\n",
      "av_rech_amt_data_8 : 73.9484240687679\n",
      "vol_2g_mb_6 : 0.0038204393505253103\n",
      "vol_2g_mb_7 : 0.0038204393505253103\n",
      "vol_2g_mb_8 : 0.0038204393505253103\n",
      "vol_3g_mb_6 : 0.0038204393505253103\n",
      "vol_3g_mb_7 : 0.0038204393505253103\n",
      "vol_3g_mb_8 : 0.0038204393505253103\n",
      "arpu_3g_6 : 75.11365807067813\n",
      "arpu_3g_7 : 74.51002865329512\n",
      "arpu_3g_8 : 73.9484240687679\n",
      "arpu_2g_6 : 75.11365807067813\n",
      "arpu_2g_7 : 74.51002865329512\n",
      "arpu_2g_8 : 73.9484240687679\n",
      "night_pck_user_6 : 75.11365807067813\n",
      "night_pck_user_7 : 74.51002865329512\n",
      "night_pck_user_8 : 73.9484240687679\n",
      "monthly_2g_6 : 0.0038204393505253103\n",
      "monthly_2g_7 : 0.0038204393505253103\n",
      "monthly_2g_8 : 0.0038204393505253103\n",
      "sachet_2g_6 : 0.0038204393505253103\n",
      "sachet_2g_7 : 0.0038204393505253103\n",
      "sachet_2g_8 : 0.0038204393505253103\n",
      "monthly_3g_6 : 0.0038204393505253103\n",
      "monthly_3g_7 : 0.0038204393505253103\n",
      "monthly_3g_8 : 0.0038204393505253103\n",
      "sachet_3g_6 : 0.0038204393505253103\n",
      "sachet_3g_7 : 0.0038204393505253103\n",
      "sachet_3g_8 : 0.0038204393505253103\n",
      "fb_user_6 : 75.11365807067813\n",
      "fb_user_7 : 74.51002865329512\n",
      "fb_user_8 : 73.9484240687679\n",
      "aon : 0.0038204393505253103\n",
      "aug_vbc_3g : 0.0038204393505253103\n",
      "jul_vbc_3g : 0.0038204393505253103\n",
      "jun_vbc_3g : 0.0038204393505253103\n",
      "churn_probability : 0.0038204393505253103\n"
     ]
    }
   ],
   "source": [
    "# check how many columns have got missing values in terms of percentage\n",
    "print(\"Percentage of null values in each of the columns of train data frame\\n\")\n",
    "for col in telecom_df.columns:\n",
    "    print(col, \":\",  (100 * telecom_df[col].isnull().sum()/len(telecom_df.index)))"
   ]
  },
  {
   "cell_type": "markdown",
   "metadata": {
    "id": "i7svRsvxWDQO"
   },
   "source": [
    "In the above list of percentage of null values for each columns, though few of the columns have got more than 70% of null values. But they are important for our prediction. Let us impute right values in them instead of dropping"
   ]
  },
  {
   "cell_type": "code",
   "execution_count": 156,
   "metadata": {
    "colab": {
     "base_uri": "https://localhost:8080/"
    },
    "id": "HDNhQmslWDQO",
    "outputId": "3ac67746-a875-4daa-86e2-14443de5acfd"
   },
   "outputs": [
    {
     "name": "stdout",
     "output_type": "stream",
     "text": [
      "Percentage of null values in each of the columns of test data frame\n",
      "\n",
      "id : 0.0\n",
      "circle_id : 0.0\n",
      "loc_og_t2o_mou : 1.062027924010071\n",
      "std_og_t2o_mou : 1.062027924010071\n",
      "loc_ic_t2o_mou : 1.062027924010071\n",
      "last_date_of_month_6 : 0.0\n",
      "last_date_of_month_7 : 0.6820782787823301\n",
      "last_date_of_month_8 : 1.2039368276493476\n",
      "arpu_6 : 0.0\n",
      "arpu_7 : 0.0\n",
      "arpu_8 : 0.0\n",
      "onnet_mou_6 : 3.872739757381552\n",
      "onnet_mou_7 : 3.913939116502632\n",
      "onnet_mou_8 : 5.506981002517739\n",
      "offnet_mou_6 : 3.872739757381552\n",
      "offnet_mou_7 : 3.913939116502632\n",
      "offnet_mou_8 : 5.506981002517739\n",
      "roam_ic_mou_6 : 3.872739757381552\n",
      "roam_ic_mou_7 : 3.913939116502632\n",
      "roam_ic_mou_8 : 5.506981002517739\n",
      "roam_og_mou_6 : 3.872739757381552\n",
      "roam_og_mou_7 : 3.913939116502632\n",
      "roam_og_mou_8 : 5.506981002517739\n",
      "loc_og_t2t_mou_6 : 3.872739757381552\n",
      "loc_og_t2t_mou_7 : 3.913939116502632\n",
      "loc_og_t2t_mou_8 : 5.506981002517739\n",
      "loc_og_t2m_mou_6 : 3.872739757381552\n",
      "loc_og_t2m_mou_7 : 3.913939116502632\n",
      "loc_og_t2m_mou_8 : 5.506981002517739\n",
      "loc_og_t2f_mou_6 : 3.872739757381552\n",
      "loc_og_t2f_mou_7 : 3.913939116502632\n",
      "loc_og_t2f_mou_8 : 5.506981002517739\n",
      "loc_og_t2c_mou_6 : 3.872739757381552\n",
      "loc_og_t2c_mou_7 : 3.913939116502632\n",
      "loc_og_t2c_mou_8 : 5.506981002517739\n",
      "loc_og_mou_6 : 3.872739757381552\n",
      "loc_og_mou_7 : 3.913939116502632\n",
      "loc_og_mou_8 : 5.506981002517739\n",
      "std_og_t2t_mou_6 : 3.872739757381552\n",
      "std_og_t2t_mou_7 : 3.913939116502632\n",
      "std_og_t2t_mou_8 : 5.506981002517739\n",
      "std_og_t2m_mou_6 : 3.872739757381552\n",
      "std_og_t2m_mou_7 : 3.913939116502632\n",
      "std_og_t2m_mou_8 : 5.506981002517739\n",
      "std_og_t2f_mou_6 : 3.872739757381552\n",
      "std_og_t2f_mou_7 : 3.913939116502632\n",
      "std_og_t2f_mou_8 : 5.506981002517739\n",
      "std_og_t2c_mou_6 : 3.872739757381552\n",
      "std_og_t2c_mou_7 : 3.913939116502632\n",
      "std_og_t2c_mou_8 : 5.506981002517739\n",
      "std_og_mou_6 : 3.872739757381552\n",
      "std_og_mou_7 : 3.913939116502632\n",
      "std_og_mou_8 : 5.506981002517739\n",
      "isd_og_mou_6 : 3.872739757381552\n",
      "isd_og_mou_7 : 3.913939116502632\n",
      "isd_og_mou_8 : 5.506981002517739\n",
      "spl_og_mou_6 : 3.872739757381552\n",
      "spl_og_mou_7 : 3.913939116502632\n",
      "spl_og_mou_8 : 5.506981002517739\n",
      "og_others_6 : 3.872739757381552\n",
      "og_others_7 : 3.913939116502632\n",
      "og_others_8 : 5.506981002517739\n",
      "total_og_mou_6 : 0.0\n",
      "total_og_mou_7 : 0.0\n",
      "total_og_mou_8 : 0.0\n",
      "loc_ic_t2t_mou_6 : 3.872739757381552\n",
      "loc_ic_t2t_mou_7 : 3.913939116502632\n",
      "loc_ic_t2t_mou_8 : 5.506981002517739\n",
      "loc_ic_t2m_mou_6 : 3.872739757381552\n",
      "loc_ic_t2m_mou_7 : 3.913939116502632\n",
      "loc_ic_t2m_mou_8 : 5.506981002517739\n",
      "loc_ic_t2f_mou_6 : 3.872739757381552\n",
      "loc_ic_t2f_mou_7 : 3.913939116502632\n",
      "loc_ic_t2f_mou_8 : 5.506981002517739\n",
      "loc_ic_mou_6 : 3.872739757381552\n",
      "loc_ic_mou_7 : 3.913939116502632\n",
      "loc_ic_mou_8 : 5.506981002517739\n",
      "std_ic_t2t_mou_6 : 3.872739757381552\n",
      "std_ic_t2t_mou_7 : 3.913939116502632\n",
      "std_ic_t2t_mou_8 : 5.506981002517739\n",
      "std_ic_t2m_mou_6 : 3.872739757381552\n",
      "std_ic_t2m_mou_7 : 3.913939116502632\n",
      "std_ic_t2m_mou_8 : 5.506981002517739\n",
      "std_ic_t2f_mou_6 : 3.872739757381552\n",
      "std_ic_t2f_mou_7 : 3.913939116502632\n",
      "std_ic_t2f_mou_8 : 5.506981002517739\n",
      "std_ic_t2o_mou_6 : 3.872739757381552\n",
      "std_ic_t2o_mou_7 : 3.913939116502632\n",
      "std_ic_t2o_mou_8 : 5.506981002517739\n",
      "std_ic_mou_6 : 3.872739757381552\n",
      "std_ic_mou_7 : 3.913939116502632\n",
      "std_ic_mou_8 : 5.506981002517739\n",
      "total_ic_mou_6 : 0.0\n",
      "total_ic_mou_7 : 0.0\n",
      "total_ic_mou_8 : 0.0\n",
      "spl_ic_mou_6 : 3.872739757381552\n",
      "spl_ic_mou_7 : 3.913939116502632\n",
      "spl_ic_mou_8 : 5.506981002517739\n",
      "isd_ic_mou_6 : 3.872739757381552\n",
      "isd_ic_mou_7 : 3.913939116502632\n",
      "isd_ic_mou_8 : 5.506981002517739\n",
      "ic_others_6 : 3.872739757381552\n",
      "ic_others_7 : 3.913939116502632\n",
      "ic_others_8 : 5.506981002517739\n",
      "total_rech_num_6 : 0.0\n",
      "total_rech_num_7 : 0.0\n",
      "total_rech_num_8 : 0.0\n",
      "total_rech_amt_6 : 0.0\n",
      "total_rech_amt_7 : 0.0\n",
      "total_rech_amt_8 : 0.0\n",
      "max_rech_amt_6 : 0.0\n",
      "max_rech_amt_7 : 0.0\n",
      "max_rech_amt_8 : 0.0\n",
      "date_of_last_rech_6 : 1.680018310826276\n",
      "date_of_last_rech_7 : 1.74868390936141\n",
      "date_of_last_rech_8 : 3.8315403982604717\n",
      "last_day_rch_amt_6 : 0.0\n",
      "last_day_rch_amt_7 : 0.0\n",
      "last_day_rch_amt_8 : 0.0\n",
      "date_of_last_rech_data_6 : 74.51590753032731\n",
      "date_of_last_rech_data_7 : 74.2504005493248\n",
      "date_of_last_rech_data_8 : 73.3852140077821\n",
      "total_rech_data_6 : 74.51590753032731\n",
      "total_rech_data_7 : 74.2504005493248\n",
      "total_rech_data_8 : 73.3852140077821\n",
      "max_rech_data_6 : 74.51590753032731\n",
      "max_rech_data_7 : 74.2504005493248\n",
      "max_rech_data_8 : 73.3852140077821\n",
      "count_rech_2g_6 : 74.51590753032731\n",
      "count_rech_2g_7 : 74.2504005493248\n",
      "count_rech_2g_8 : 73.3852140077821\n",
      "count_rech_3g_6 : 74.51590753032731\n",
      "count_rech_3g_7 : 74.2504005493248\n",
      "count_rech_3g_8 : 73.3852140077821\n",
      "av_rech_amt_data_6 : 74.51590753032731\n",
      "av_rech_amt_data_7 : 74.2504005493248\n",
      "av_rech_amt_data_8 : 73.3852140077821\n",
      "vol_2g_mb_6 : 0.0\n",
      "vol_2g_mb_7 : 0.0\n",
      "vol_2g_mb_8 : 0.0\n",
      "vol_3g_mb_6 : 0.0\n",
      "vol_3g_mb_7 : 0.0\n",
      "vol_3g_mb_8 : 0.0\n",
      "arpu_3g_6 : 74.51590753032731\n",
      "arpu_3g_7 : 74.2504005493248\n",
      "arpu_3g_8 : 73.3852140077821\n",
      "arpu_2g_6 : 74.51590753032731\n",
      "arpu_2g_7 : 74.2504005493248\n",
      "arpu_2g_8 : 73.3852140077821\n",
      "night_pck_user_6 : 74.51590753032731\n",
      "night_pck_user_7 : 74.2504005493248\n",
      "night_pck_user_8 : 73.3852140077821\n",
      "monthly_2g_6 : 0.0\n",
      "monthly_2g_7 : 0.0\n",
      "monthly_2g_8 : 0.0\n",
      "sachet_2g_6 : 0.004577706569008927\n",
      "sachet_2g_7 : 0.004577706569008927\n",
      "sachet_2g_8 : 0.004577706569008927\n",
      "monthly_3g_6 : 0.004577706569008927\n",
      "monthly_3g_7 : 0.004577706569008927\n",
      "monthly_3g_8 : 0.004577706569008927\n",
      "sachet_3g_6 : 0.004577706569008927\n",
      "sachet_3g_7 : 0.004577706569008927\n",
      "sachet_3g_8 : 0.004577706569008927\n",
      "fb_user_6 : 74.52048523689632\n",
      "fb_user_7 : 74.2549782558938\n",
      "fb_user_8 : 73.3897917143511\n",
      "aon : 0.004577706569008927\n",
      "aug_vbc_3g : 0.004577706569008927\n",
      "jul_vbc_3g : 0.004577706569008927\n",
      "jun_vbc_3g : 0.004577706569008927\n"
     ]
    }
   ],
   "source": [
    "# check how many columns have got missing values in terms of percentage\n",
    "print(\"Percentage of null values in each of the columns of test data frame\\n\")\n",
    "for col in test_df.columns:\n",
    "    print(col, \":\",  (100 * test_df[col].isnull().sum()/len(test_df.index)))"
   ]
  },
  {
   "cell_type": "markdown",
   "metadata": {
    "id": "KFJAKcLDWDQP"
   },
   "source": [
    "We need to first group those custoers who into high value customers.\n",
    "High value customers are identified by\n",
    "* Those who have recharged with an amount more than or equal to a value say X where X is the 70th percentilie of the average recharge amount in the first two months i.e June and Augast (month 6 and 7)\n",
    "* The columns that we need to consider for it are\n",
    "    total_rech_amt_6, total_rech_amt_7, av_rech_amt_data_6, av_rech_amt_data_7, total_rech_data_6,\n",
    "    total_rech_data_7\n"
   ]
  },
  {
   "cell_type": "markdown",
   "metadata": {
    "id": "5Sp1enuiWDQQ"
   },
   "source": []
  },
  {
   "cell_type": "code",
   "execution_count": 157,
   "metadata": {
    "id": "yGlJds_1WDQQ"
   },
   "outputs": [],
   "source": [
    "#telecom_df.max_rech_data_6.isnull().sum()"
   ]
  },
  {
   "cell_type": "code",
   "execution_count": 158,
   "metadata": {
    "id": "qhYy3dhTWDQR"
   },
   "outputs": [],
   "source": [
    "#telecom_df['max_rech_data_6'] = telecom_df['max_rech_data_6'].fillna(0)"
   ]
  },
  {
   "cell_type": "code",
   "execution_count": 159,
   "metadata": {
    "id": "IlyWstn0WDQR"
   },
   "outputs": [],
   "source": [
    "#telecom_df.max_rech_data_6.isnull().sum()"
   ]
  },
  {
   "cell_type": "code",
   "execution_count": 160,
   "metadata": {
    "id": "WOKssr-EWDQS"
   },
   "outputs": [],
   "source": [
    "cols_to_impute1 = ['av_rech_amt_data_6', 'av_rech_amt_data_7','av_rech_amt_data_8',\n",
    "                 'total_rech_data_6', 'total_rech_data_7', 'total_rech_data_8']"
   ]
  },
  {
   "cell_type": "code",
   "execution_count": 161,
   "metadata": {
    "colab": {
     "base_uri": "https://localhost:8080/"
    },
    "id": "HScckDzaWDQS",
    "outputId": "ae3b5a23-a2a9-4be3-cc77-ecefcdf05537"
   },
   "outputs": [
    {
     "data": {
      "text/plain": [
       "6"
      ]
     },
     "execution_count": 161,
     "metadata": {},
     "output_type": "execute_result"
    }
   ],
   "source": [
    "len(cols_to_impute1)"
   ]
  },
  {
   "cell_type": "code",
   "execution_count": 162,
   "metadata": {
    "id": "jziZrX_gWDQT"
   },
   "outputs": [],
   "source": [
    "cols_to_impute2 = ['max_rech_data_6', 'max_rech_data_7', 'max_rech_data_8', 'count_rech_2g_6', 'count_rech_2g_7',\n",
    "                  'count_rech_2g_8', 'count_rech_3g_6','count_rech_3g_7','count_rech_3g_8', 'arpu_2g_6',\n",
    "                  'arpu_2g_7', 'arpu_2g_8', 'arpu_3g_6', 'arpu_3g_7', 'arpu_3g_8', 'night_pck_user_6','night_pck_user_7',\n",
    "                  'night_pck_user_8', 'fb_user_6', 'fb_user_7', 'fb_user_8' ]"
   ]
  },
  {
   "cell_type": "code",
   "execution_count": 162,
   "metadata": {
    "id": "4zlfDoM6WDQU"
   },
   "outputs": [],
   "source": []
  },
  {
   "cell_type": "code",
   "execution_count": 163,
   "metadata": {
    "colab": {
     "base_uri": "https://localhost:8080/"
    },
    "id": "7sF2xbkWWDQU",
    "outputId": "235154a2-f64c-4b6a-b856-d6210d1c493a"
   },
   "outputs": [
    {
     "data": {
      "text/plain": [
       "27"
      ]
     },
     "execution_count": 163,
     "metadata": {},
     "output_type": "execute_result"
    }
   ],
   "source": [
    "cols_to_impute = cols_to_impute1 + cols_to_impute2\n",
    "len(cols_to_impute)"
   ]
  },
  {
   "cell_type": "code",
   "execution_count": 164,
   "metadata": {
    "id": "N2oiGOu3WDQU"
   },
   "outputs": [],
   "source": [
    "telecom_df[cols_to_impute] = telecom_df[cols_to_impute].fillna(0)"
   ]
  },
  {
   "cell_type": "code",
   "execution_count": 165,
   "metadata": {
    "id": "FIXQ-utqWDQV"
   },
   "outputs": [],
   "source": [
    "test_df[cols_to_impute] = test_df[cols_to_impute].fillna(0)"
   ]
  },
  {
   "cell_type": "code",
   "execution_count": 166,
   "metadata": {
    "colab": {
     "base_uri": "https://localhost:8080/"
    },
    "id": "uaNq5rzkWDQV",
    "outputId": "ac04119b-4ea3-4dc2-9629-6c18b24870a3"
   },
   "outputs": [
    {
     "data": {
      "text/plain": [
       "av_rech_amt_data_6    0\n",
       "av_rech_amt_data_7    0\n",
       "av_rech_amt_data_8    0\n",
       "total_rech_data_6     0\n",
       "total_rech_data_7     0\n",
       "total_rech_data_8     0\n",
       "max_rech_data_6       0\n",
       "max_rech_data_7       0\n",
       "max_rech_data_8       0\n",
       "count_rech_2g_6       0\n",
       "count_rech_2g_7       0\n",
       "count_rech_2g_8       0\n",
       "count_rech_3g_6       0\n",
       "count_rech_3g_7       0\n",
       "count_rech_3g_8       0\n",
       "arpu_2g_6             0\n",
       "arpu_2g_7             0\n",
       "arpu_2g_8             0\n",
       "arpu_3g_6             0\n",
       "arpu_3g_7             0\n",
       "arpu_3g_8             0\n",
       "night_pck_user_6      0\n",
       "night_pck_user_7      0\n",
       "night_pck_user_8      0\n",
       "fb_user_6             0\n",
       "fb_user_7             0\n",
       "fb_user_8             0\n",
       "dtype: int64"
      ]
     },
     "execution_count": 166,
     "metadata": {},
     "output_type": "execute_result"
    }
   ],
   "source": [
    "test_df[cols_to_impute].isnull().sum()"
   ]
  },
  {
   "cell_type": "code",
   "execution_count": 167,
   "metadata": {
    "colab": {
     "base_uri": "https://localhost:8080/"
    },
    "id": "i_bsGeapWDQV",
    "outputId": "cb559e12-2b24-45c4-9fce-5e31fb35cd34"
   },
   "outputs": [
    {
     "data": {
      "text/plain": [
       "av_rech_amt_data_6    0\n",
       "av_rech_amt_data_7    0\n",
       "av_rech_amt_data_8    0\n",
       "total_rech_data_6     0\n",
       "total_rech_data_7     0\n",
       "total_rech_data_8     0\n",
       "max_rech_data_6       0\n",
       "max_rech_data_7       0\n",
       "max_rech_data_8       0\n",
       "count_rech_2g_6       0\n",
       "count_rech_2g_7       0\n",
       "count_rech_2g_8       0\n",
       "count_rech_3g_6       0\n",
       "count_rech_3g_7       0\n",
       "count_rech_3g_8       0\n",
       "arpu_2g_6             0\n",
       "arpu_2g_7             0\n",
       "arpu_2g_8             0\n",
       "arpu_3g_6             0\n",
       "arpu_3g_7             0\n",
       "arpu_3g_8             0\n",
       "night_pck_user_6      0\n",
       "night_pck_user_7      0\n",
       "night_pck_user_8      0\n",
       "fb_user_6             0\n",
       "fb_user_7             0\n",
       "fb_user_8             0\n",
       "dtype: int64"
      ]
     },
     "execution_count": 167,
     "metadata": {},
     "output_type": "execute_result"
    }
   ],
   "source": [
    "telecom_df[cols_to_impute].isnull().sum()"
   ]
  },
  {
   "cell_type": "code",
   "execution_count": 168,
   "metadata": {
    "colab": {
     "base_uri": "https://localhost:8080/"
    },
    "id": "5QxkEkeXWDQW",
    "outputId": "72766726-c5d6-4656-d78a-79aca88a9fc6"
   },
   "outputs": [
    {
     "data": {
      "text/plain": [
       "0.0     19661\n",
       "1.0      3416\n",
       "2.0      1359\n",
       "3.0       545\n",
       "4.0       339\n",
       "5.0       198\n",
       "6.0       154\n",
       "7.0       110\n",
       "8.0        86\n",
       "9.0        65\n",
       "10.0       62\n",
       "11.0       57\n",
       "12.0       40\n",
       "13.0       17\n",
       "14.0       17\n",
       "15.0        9\n",
       "17.0        7\n",
       "16.0        7\n",
       "20.0        5\n",
       "22.0        4\n",
       "19.0        4\n",
       "24.0        2\n",
       "40.0        2\n",
       "18.0        2\n",
       "23.0        1\n",
       "46.0        1\n",
       "27.0        1\n",
       "25.0        1\n",
       "32.0        1\n",
       "21.0        1\n",
       "28.0        1\n",
       "Name: tot_rech_num_data_6, dtype: int64"
      ]
     },
     "execution_count": 168,
     "metadata": {},
     "output_type": "execute_result"
    }
   ],
   "source": [
    "telecom_df['tot_rech_num_data_6'] = telecom_df['count_rech_2g_6'] + telecom_df['count_rech_3g_6'].astype(int)\n",
    "telecom_df['tot_rech_num_data_7'] = telecom_df['count_rech_2g_7'] + telecom_df['count_rech_3g_7'].astype(int)\n",
    "telecom_df['tot_rech_num_data_8'] = telecom_df['count_rech_2g_8'] + telecom_df['count_rech_3g_8'].astype(int)\n",
    "telecom_df['tot_rech_num_data_6'].value_counts()"
   ]
  },
  {
   "cell_type": "code",
   "execution_count": 169,
   "metadata": {
    "id": "DMTmGZ7bWDQW"
   },
   "outputs": [],
   "source": [
    "test_df['tot_rech_num_data_6'] = test_df['count_rech_2g_6'] + test_df['count_rech_3g_6'].astype(int)\n",
    "test_df['tot_rech_num_data_7'] = test_df['count_rech_2g_7'] + test_df['count_rech_3g_7'].astype(int)\n",
    "test_df['tot_rech_num_data_8'] = test_df['count_rech_2g_8'] + test_df['count_rech_3g_8'].astype(int)"
   ]
  },
  {
   "cell_type": "code",
   "execution_count": 170,
   "metadata": {
    "id": "0uMD8GNqWDQW"
   },
   "outputs": [],
   "source": [
    "telecom_df['tot_rech_amt_data_6'] = telecom_df['tot_rech_num_data_6'] * telecom_df['av_rech_amt_data_6']\n",
    "telecom_df['tot_rech_amt_data_7'] = telecom_df['tot_rech_num_data_7'] * telecom_df['av_rech_amt_data_7']\n",
    "telecom_df['tot_rech_amt_data_8'] = telecom_df['tot_rech_num_data_8'] * telecom_df['av_rech_amt_data_8']"
   ]
  },
  {
   "cell_type": "code",
   "execution_count": 171,
   "metadata": {
    "id": "mgIjE2U6WDQW"
   },
   "outputs": [],
   "source": [
    "test_df['tot_rech_amt_data_6'] = test_df['tot_rech_num_data_6'] + test_df['av_rech_amt_data_6']\n",
    "test_df['tot_rech_amt_data_7'] = test_df['tot_rech_num_data_7'] + test_df['av_rech_amt_data_7']\n",
    "test_df['tot_rech_amt_data_8'] = test_df['tot_rech_num_data_8'] + test_df['av_rech_amt_data_8']"
   ]
  },
  {
   "cell_type": "code",
   "execution_count": 172,
   "metadata": {
    "id": "iyLNCWI2WDQX"
   },
   "outputs": [],
   "source": [
    "# calculate the monthly total recharge amount for the month of June, July and Aug\n",
    "telecom_df['tot_month_rech_6'] = telecom_df['total_rech_amt_6'] + telecom_df['tot_rech_amt_data_6']\n",
    "telecom_df['tot_month_rech_7'] = telecom_df['total_rech_amt_7'] + telecom_df['tot_rech_amt_data_7']\n",
    "telecom_df['tot_month_rech_6'] = telecom_df['total_rech_amt_6'] + telecom_df['tot_rech_amt_data_6']"
   ]
  },
  {
   "cell_type": "code",
   "execution_count": 173,
   "metadata": {
    "id": "1UofycnHWDQX"
   },
   "outputs": [],
   "source": [
    "# calculate the monthly total recharge amount for the month of June, July and Aug\n",
    "test_df['tot_month_rech_6'] = test_df['total_rech_amt_6'] + test_df['tot_rech_amt_data_6']\n",
    "test_df['tot_month_rech_7'] = test_df['total_rech_amt_7'] + test_df['tot_rech_amt_data_7']\n",
    "test_df['tot_month_rech_6'] = test_df['total_rech_amt_6'] + test_df['tot_rech_amt_data_6']"
   ]
  },
  {
   "cell_type": "code",
   "execution_count": 174,
   "metadata": {
    "id": "0JgGpTifWDQY"
   },
   "outputs": [],
   "source": [
    "# High value customers are extracted based on the monthly total recharge spending for the month\n",
    "# June and July (month 6 and 7). Extract only those rows\n",
    "hg_val_cust_cols = ['tot_month_rech_6', 'tot_month_rech_7']\n",
    "hg_val_cust = telecom_df[ telecom_df[hg_val_cust_cols].mean(axis=1) > telecom_df[hg_val_cust_cols].mean(axis=1).quantile(0.7)]\n"
   ]
  },
  {
   "cell_type": "code",
   "execution_count": 175,
   "metadata": {
    "id": "sSoebUSpWDQY"
   },
   "outputs": [],
   "source": [
    "test_df = test_df[ test_df[hg_val_cust_cols].mean(axis=1) > test_df[hg_val_cust_cols].mean(axis=1).quantile(0.7)]\n"
   ]
  },
  {
   "cell_type": "code",
   "execution_count": 176,
   "metadata": {
    "colab": {
     "base_uri": "https://localhost:8080/"
    },
    "id": "DRP8052AWDQY",
    "outputId": "e902fdf7-ee2a-42b5-c437-ad4640d3833a"
   },
   "outputs": [
    {
     "data": {
      "text/plain": [
       "(7850, 180)"
      ]
     },
     "execution_count": 176,
     "metadata": {},
     "output_type": "execute_result"
    }
   ],
   "source": [
    "hg_val_cust.shape"
   ]
  },
  {
   "cell_type": "code",
   "execution_count": 177,
   "metadata": {
    "colab": {
     "base_uri": "https://localhost:8080/"
    },
    "id": "oxkosUKOWDQY",
    "outputId": "cd8047e6-0c03-4f18-9e3c-07da292dbb77"
   },
   "outputs": [
    {
     "data": {
      "text/plain": [
       "(6538, 179)"
      ]
     },
     "execution_count": 177,
     "metadata": {},
     "output_type": "execute_result"
    }
   ],
   "source": [
    "test_df.shape"
   ]
  },
  {
   "cell_type": "code",
   "execution_count": 178,
   "metadata": {
    "colab": {
     "base_uri": "https://localhost:8080/"
    },
    "id": "4W9WOc5yWDQZ",
    "outputId": "1b2450d5-871b-42c1-f79a-7af0887a8dce"
   },
   "outputs": [
    {
     "name": "stdout",
     "output_type": "stream",
     "text": [
      "Percentage of null values present in the high value customer data frame\n",
      "\n"
     ]
    },
    {
     "data": {
      "text/plain": [
       "id                     0.000000\n",
       "circle_id              0.000000\n",
       "loc_og_t2o_mou         0.840764\n",
       "std_og_t2o_mou         0.840764\n",
       "loc_ic_t2o_mou         0.840764\n",
       "                         ...   \n",
       "tot_rech_amt_data_6    0.000000\n",
       "tot_rech_amt_data_7    0.000000\n",
       "tot_rech_amt_data_8    0.000000\n",
       "tot_month_rech_6       0.000000\n",
       "tot_month_rech_7       0.000000\n",
       "Length: 180, dtype: float64"
      ]
     },
     "execution_count": 178,
     "metadata": {},
     "output_type": "execute_result"
    }
   ],
   "source": [
    "# Display the null values present in the data frame hg_val_cust\n",
    "print(\"Percentage of null values present in the high value customer data frame\\n\")\n",
    "(100 * hg_val_cust.isnull().sum()/hg_val_cust.shape[0])"
   ]
  },
  {
   "cell_type": "code",
   "execution_count": 179,
   "metadata": {
    "colab": {
     "base_uri": "https://localhost:8080/"
    },
    "id": "TrQZ-_QCWDQZ",
    "outputId": "fff517bd-3be7-489b-c0f3-9e43fe18625c"
   },
   "outputs": [
    {
     "name": "stdout",
     "output_type": "stream",
     "text": [
      "Percentage of null values present in the high value customer data frame\n",
      "\n"
     ]
    },
    {
     "data": {
      "text/plain": [
       "id                     0.000000\n",
       "circle_id              0.000000\n",
       "loc_og_t2o_mou         0.642398\n",
       "std_og_t2o_mou         0.642398\n",
       "loc_ic_t2o_mou         0.642398\n",
       "                         ...   \n",
       "tot_rech_amt_data_6    0.000000\n",
       "tot_rech_amt_data_7    0.000000\n",
       "tot_rech_amt_data_8    0.000000\n",
       "tot_month_rech_6       0.000000\n",
       "tot_month_rech_7       0.000000\n",
       "Length: 179, dtype: float64"
      ]
     },
     "execution_count": 179,
     "metadata": {},
     "output_type": "execute_result"
    }
   ],
   "source": [
    "# Display the null values present in the test data frame\n",
    "print(\"Percentage of null values present in the high value customer data frame\\n\")\n",
    "(100 * test_df.isnull().sum()/test_df.shape[0])"
   ]
  },
  {
   "cell_type": "code",
   "execution_count": 180,
   "metadata": {
    "colab": {
     "base_uri": "https://localhost:8080/"
    },
    "id": "BlrgsHDqWDQZ",
    "outputId": "49c222fc-50eb-422f-af78-d68a41f84c59"
   },
   "outputs": [
    {
     "name": "stdout",
     "output_type": "stream",
     "text": [
      "3 columns have got greater than 40 percent missing values\n"
     ]
    },
    {
     "data": {
      "text/plain": [
       "date_of_last_rech_data_6    44.764331\n",
       "date_of_last_rech_data_7    43.121019\n",
       "date_of_last_rech_data_8    47.235669\n",
       "dtype: float64"
      ]
     },
     "execution_count": 180,
     "metadata": {},
     "output_type": "execute_result"
    }
   ],
   "source": [
    "# Generalized routine to get the columns with certain missing values threshold\n",
    "def GetMisvalThreshold(threshold, df):\n",
    "    mis_val_perc = (100 * df.isnull().sum()/df.shape[0])\n",
    "    print(\"{} columns have got greater than {} percent missing values\".format(len(mis_val_perc.loc[mis_val_perc > threshold]),threshold))\n",
    "    return(mis_val_perc.loc[mis_val_perc > threshold])\n",
    "GetMisvalThreshold(40, hg_val_cust)"
   ]
  },
  {
   "cell_type": "code",
   "execution_count": 181,
   "metadata": {
    "id": "OdHLWGycWDQa"
   },
   "outputs": [],
   "source": [
    "col_churn_tag = ['vol_2g_mb_8', 'vol_3g_mb_8', 'total_og_mou_8', 'total_ic_mou_8']\n",
    "#hg_val_cust['churn'] = hg_val_cust[col_churn_tag].apply(lambda x: 1 if( (x['vol_2g_mb_8'] == 0) & (x['vol_3g_mb_8'] == 0) & (x['total_og_mou_8'] == 0) & (x['total_ic_mou_8'] == 0 )) else 0, axis=1)\n",
    "hg_val_cust['churn'] = hg_val_cust[col_churn_tag].apply(lambda x: 1 if( (x['vol_2g_mb_8'] == 0) & (x['vol_2g_mb_8'] == 0) &  (x['total_og_mou_8'] == 0) &  (x['total_ic_mou_8'] == 0)) else 0, axis=1)"
   ]
  },
  {
   "cell_type": "code",
   "execution_count": 182,
   "metadata": {
    "id": "XI-2ST-BWDQa"
   },
   "outputs": [],
   "source": [
    "test_df['churn'] = test_df[col_churn_tag].apply(lambda x: 1 if( (x['vol_2g_mb_8'] == 0) & (x['vol_3g_mb_8'] == 0) &  (x['total_og_mou_8'] == 0) &  (x['total_ic_mou_8'] == 0)) else 0, axis=1)"
   ]
  },
  {
   "cell_type": "code",
   "execution_count": 183,
   "metadata": {
    "colab": {
     "base_uri": "https://localhost:8080/"
    },
    "id": "jf2s8kcRWDQa",
    "outputId": "55537223-5e5b-4a44-db78-f2f42a8a42f7"
   },
   "outputs": [
    {
     "name": "stdout",
     "output_type": "stream",
     "text": [
      "Total number of customers churned are  467\n",
      "Total number of customers not churned are  7383\n"
     ]
    }
   ],
   "source": [
    "print(\"Total number of customers churned are \", len(hg_val_cust[hg_val_cust['churn'] == 1]))\n",
    "print(\"Total number of customers not churned are \", len(hg_val_cust[hg_val_cust['churn'] == 0]))"
   ]
  },
  {
   "cell_type": "code",
   "execution_count": 184,
   "metadata": {
    "colab": {
     "base_uri": "https://localhost:8080/"
    },
    "id": "AFsxHKEYWDQb",
    "outputId": "7c66488e-d68c-45f3-daf0-605cd6fa14d9"
   },
   "outputs": [
    {
     "data": {
      "text/plain": [
       "(7850, 181)"
      ]
     },
     "execution_count": 184,
     "metadata": {},
     "output_type": "execute_result"
    }
   ],
   "source": [
    "hg_val_cust.shape"
   ]
  },
  {
   "cell_type": "code",
   "execution_count": 185,
   "metadata": {
    "colab": {
     "base_uri": "https://localhost:8080/"
    },
    "id": "S30fiT9CWDQb",
    "outputId": "d696ebb9-7ec6-478a-8522-88836d15bcea"
   },
   "outputs": [
    {
     "data": {
      "text/plain": [
       "(6538, 180)"
      ]
     },
     "execution_count": 185,
     "metadata": {},
     "output_type": "execute_result"
    }
   ],
   "source": [
    "test_df.shape"
   ]
  },
  {
   "cell_type": "code",
   "execution_count": 186,
   "metadata": {
    "colab": {
     "base_uri": "https://localhost:8080/"
    },
    "id": "Wtfoyc0yWDQb",
    "outputId": "f899fd12-325d-4ca8-f8bb-561345e24d75"
   },
   "outputs": [
    {
     "data": {
      "text/plain": [
       "Index(['last_date_of_month_8', 'arpu_8', 'onnet_mou_8', 'offnet_mou_8',\n",
       "       'roam_ic_mou_8', 'roam_og_mou_8', 'loc_og_t2t_mou_8',\n",
       "       'loc_og_t2m_mou_8', 'loc_og_t2f_mou_8', 'loc_og_t2c_mou_8',\n",
       "       'loc_og_mou_8', 'std_og_t2t_mou_8', 'std_og_t2m_mou_8',\n",
       "       'std_og_t2f_mou_8', 'std_og_t2c_mou_8', 'std_og_mou_8', 'isd_og_mou_8',\n",
       "       'spl_og_mou_8', 'og_others_8', 'total_og_mou_8', 'loc_ic_t2t_mou_8',\n",
       "       'loc_ic_t2m_mou_8', 'loc_ic_t2f_mou_8', 'loc_ic_mou_8',\n",
       "       'std_ic_t2t_mou_8', 'std_ic_t2m_mou_8', 'std_ic_t2f_mou_8',\n",
       "       'std_ic_t2o_mou_8', 'std_ic_mou_8', 'total_ic_mou_8', 'spl_ic_mou_8',\n",
       "       'isd_ic_mou_8', 'ic_others_8', 'total_rech_num_8', 'total_rech_amt_8',\n",
       "       'max_rech_amt_8', 'date_of_last_rech_8', 'last_day_rch_amt_8',\n",
       "       'date_of_last_rech_data_8', 'total_rech_data_8', 'max_rech_data_8',\n",
       "       'count_rech_2g_8', 'count_rech_3g_8', 'av_rech_amt_data_8',\n",
       "       'vol_2g_mb_8', 'vol_3g_mb_8', 'arpu_3g_8', 'arpu_2g_8',\n",
       "       'night_pck_user_8', 'monthly_2g_8', 'sachet_2g_8', 'monthly_3g_8',\n",
       "       'sachet_3g_8', 'fb_user_8', 'tot_rech_num_data_8',\n",
       "       'tot_rech_amt_data_8'],\n",
       "      dtype='object')"
      ]
     },
     "execution_count": 186,
     "metadata": {},
     "output_type": "execute_result"
    }
   ],
   "source": [
    "# Now we know that there are few churned customers. \n",
    "# collect the column names that end up with _8\n",
    "cols_to_drop = hg_val_cust.filter(regex=('_8')).columns\n",
    "cols_to_drop"
   ]
  },
  {
   "cell_type": "code",
   "execution_count": 187,
   "metadata": {
    "id": "6fZS-YfwWDQc"
   },
   "outputs": [],
   "source": [
    "# First remove those fetures that end up with _8 from the \n",
    "# high value train set and test set\n",
    "hg_val_cust.drop(cols_to_drop, axis=1, inplace=True)\n",
    "test_df.drop(cols_to_drop, axis=1, inplace=True)"
   ]
  },
  {
   "cell_type": "code",
   "execution_count": 188,
   "metadata": {
    "colab": {
     "base_uri": "https://localhost:8080/"
    },
    "id": "MoPiPOoBWDQc",
    "outputId": "db64b68b-86a9-49fe-df3f-429b36d7ed65"
   },
   "outputs": [
    {
     "data": {
      "text/plain": [
       "(7850, 125)"
      ]
     },
     "execution_count": 188,
     "metadata": {},
     "output_type": "execute_result"
    }
   ],
   "source": [
    "hg_val_cust.shape"
   ]
  },
  {
   "cell_type": "code",
   "execution_count": 189,
   "metadata": {
    "colab": {
     "base_uri": "https://localhost:8080/"
    },
    "id": "jM5OLZKRWDQc",
    "outputId": "cace675c-7ed1-4b51-8774-863c02d8d2ad"
   },
   "outputs": [
    {
     "data": {
      "text/plain": [
       "(6538, 124)"
      ]
     },
     "execution_count": 189,
     "metadata": {},
     "output_type": "execute_result"
    }
   ],
   "source": [
    "test_df.shape"
   ]
  },
  {
   "cell_type": "code",
   "execution_count": 190,
   "metadata": {
    "id": "jDLHpArdWDQd"
   },
   "outputs": [],
   "source": [
    "# Let us drop the columns id and circle_id from both train and test set\n",
    "# as they are not required for the prediction\n",
    "hg_val_cust.drop(['id', 'circle_id'], axis=1, inplace=True)\n",
    "test_df.drop(['id', 'circle_id'], axis=1, inplace=True)\n"
   ]
  },
  {
   "cell_type": "code",
   "execution_count": 191,
   "metadata": {
    "colab": {
     "base_uri": "https://localhost:8080/"
    },
    "id": "R0OrmRZvWDQd",
    "outputId": "6d9d633d-9c1e-4232-8e99-d60764932032"
   },
   "outputs": [
    {
     "name": "stdout",
     "output_type": "stream",
     "text": [
      "Train set size  (7850, 123)\n",
      "Test set size (6538, 122)\n"
     ]
    }
   ],
   "source": [
    "print(\"Train set size \", hg_val_cust.shape)\n",
    "print(\"Test set size\", test_df.shape )"
   ]
  },
  {
   "cell_type": "code",
   "execution_count": 192,
   "metadata": {
    "colab": {
     "base_uri": "https://localhost:8080/"
    },
    "id": "Xb4sA3-wWDQe",
    "outputId": "ef1b1733-6748-4d5f-9e23-47775287d7e9"
   },
   "outputs": [
    {
     "data": {
      "text/plain": [
       "4    6/30/2014\n",
       "Name: last_date_of_month_6, dtype: object"
      ]
     },
     "execution_count": 192,
     "metadata": {},
     "output_type": "execute_result"
    }
   ],
   "source": [
    "# We need to convert the date columns from dtype format to datetime format\n",
    "hg_val_cust['last_date_of_month_6'][0:1]"
   ]
  },
  {
   "cell_type": "code",
   "execution_count": 193,
   "metadata": {
    "id": "MiZSP23QWDQe"
   },
   "outputs": [],
   "source": [
    "# utility function to convert date columns from dtype to datetime format\n",
    "def convert_to_datetimeformat(df, cols):\n",
    "    for col in cols:\n",
    "        df[col] = pd.to_datetime(df[col], format='%m/%d/%Y')"
   ]
  },
  {
   "cell_type": "code",
   "execution_count": 194,
   "metadata": {
    "id": "yTkNYiF3WDQf"
   },
   "outputs": [],
   "source": [
    "cols = ['last_date_of_month_6', 'date_of_last_rech_6', 'date_of_last_rech_7',\n",
    "       'date_of_last_rech_data_6', 'date_of_last_rech_data_7']\n",
    "convert_to_datetimeformat(hg_val_cust, cols)\n",
    "convert_to_datetimeformat(test_df, cols)"
   ]
  },
  {
   "cell_type": "code",
   "execution_count": 195,
   "metadata": {
    "id": "P3jljRC5WDQf"
   },
   "outputs": [],
   "source": [
    "#hg_val_cust[cols][0:2]"
   ]
  },
  {
   "cell_type": "code",
   "execution_count": 196,
   "metadata": {
    "id": "IZIetNJwWDQf"
   },
   "outputs": [],
   "source": [
    "# We need to convert the date columns from dtype format to datetime format\n",
    "#hg_val_cust['last_date_of_month_6'] = pd.to_datetime(hg_val_cust['last_date_of_month_6'], format='%m/%d/%Y')\n",
    "#hg_val_cust['last_date_of_month_7'] = pd.to_datetime(hg_val_cust['last_date_of_month_7'], format='%m/%d/%Y')\n",
    "#hg_val_cust['date_of_last_rech_6'] = pd.to_datetime(hg_val_cust['date_of_last_rech_6'], format='%m/%d/%Y')\n",
    "#hg_val_cust['date_of_last_rech_7'] = pd.to_datetime(hg_val_cust['date_of_last_rech_7'], format='%m/%d/%Y')\n",
    "#hg_val_cust['date_of_last_rech_data_6'] = pd.to_datetime(hg_val_cust['date_of_last_rech_data_6'], format='%m/%d/%Y')\n",
    "#hg_val_cust['date_of_last_rech_data_7'] = pd.to_datetime(hg_val_cust['date_of_last_rech_data_7'], format='%m/%d/%Y')\n",
    "#test_df['date_of_last_rech_data_6'][10:14]"
   ]
  },
  {
   "cell_type": "code",
   "execution_count": 197,
   "metadata": {
    "colab": {
     "base_uri": "https://localhost:8080/"
    },
    "id": "vq_Hei_JWDQg",
    "outputId": "bfdea6d2-51f7-4d52-eb3e-929959d1c8e7"
   },
   "outputs": [
    {
     "name": "stdout",
     "output_type": "stream",
     "text": [
      "[ 0. nan]\n",
      "[ 0. nan]\n",
      "[ 0. nan]\n"
     ]
    }
   ],
   "source": [
    "# As it is observed stats through the describe that few columns have got values as 0\n",
    "print(hg_val_cust['loc_og_t2o_mou'].unique())\n",
    "print(hg_val_cust['std_og_t2o_mou'].unique())\n",
    "print(hg_val_cust['loc_ic_t2o_mou'].unique())"
   ]
  },
  {
   "cell_type": "code",
   "execution_count": 198,
   "metadata": {
    "colab": {
     "base_uri": "https://localhost:8080/"
    },
    "id": "0akMVJfwWDQg",
    "outputId": "73ad4959-0fe0-45e3-87b8-d90fbaf3dfda"
   },
   "outputs": [
    {
     "data": {
      "text/plain": [
       "(7850, 123)"
      ]
     },
     "execution_count": 198,
     "metadata": {},
     "output_type": "execute_result"
    }
   ],
   "source": [
    "hg_val_cust.shape"
   ]
  },
  {
   "cell_type": "code",
   "execution_count": 199,
   "metadata": {
    "id": "Xnr11TMxWDQh"
   },
   "outputs": [],
   "source": [
    "# As it is observed from the above print statement the columns 'loc_og_t2o_mou', 'std_og_t2o_mou', 'loc_ic_t2o_mou'\n",
    "# These columns need to be dropped from both test and high value customer train\n",
    "# data set\n",
    "cols_to_drop = ['loc_og_t2o_mou', 'std_og_t2o_mou', 'loc_ic_t2o_mou']\n",
    "hg_val_cust.drop(cols_to_drop, axis=1, inplace=True)\n",
    "test_df.drop(cols_to_drop, axis=1, inplace=True)"
   ]
  },
  {
   "cell_type": "code",
   "execution_count": 200,
   "metadata": {
    "colab": {
     "base_uri": "https://localhost:8080/"
    },
    "id": "hhDD8SV5WDQh",
    "outputId": "4966a216-e37b-45ac-ec37-aa1e4f9745f3"
   },
   "outputs": [
    {
     "data": {
      "text/plain": [
       "(7850, 120)"
      ]
     },
     "execution_count": 200,
     "metadata": {},
     "output_type": "execute_result"
    }
   ],
   "source": [
    "hg_val_cust.shape"
   ]
  },
  {
   "cell_type": "code",
   "execution_count": 201,
   "metadata": {
    "colab": {
     "base_uri": "https://localhost:8080/"
    },
    "id": "nt4TJUkBWDQi",
    "outputId": "685f6fd3-6a55-4190-9e87-56c005ad6b5f"
   },
   "outputs": [
    {
     "data": {
      "text/plain": [
       "(6538, 119)"
      ]
     },
     "execution_count": 201,
     "metadata": {},
     "output_type": "execute_result"
    }
   ],
   "source": [
    "test_df.shape"
   ]
  },
  {
   "cell_type": "code",
   "execution_count": 202,
   "metadata": {
    "colab": {
     "base_uri": "https://localhost:8080/"
    },
    "id": "zW2c3p8GWDQi",
    "outputId": "4fc2a82b-7c48-4412-83e9-01c725205219"
   },
   "outputs": [
    {
     "name": "stdout",
     "output_type": "stream",
     "text": [
      "[ 0. nan]\n",
      "[ 0. nan]\n",
      "[ 0. nan]\n",
      "[ 0. nan]\n"
     ]
    }
   ],
   "source": [
    "# Let us inspect other few columns to check do they contain only 0 as their values\n",
    "print(hg_val_cust['std_og_t2c_mou_6'].unique())\n",
    "print(hg_val_cust['std_og_t2c_mou_7'].unique())\n",
    "print(hg_val_cust['std_ic_t2o_mou_6'].unique())\n",
    "print(hg_val_cust['std_ic_t2o_mou_7'].unique())"
   ]
  },
  {
   "cell_type": "code",
   "execution_count": 203,
   "metadata": {
    "id": "y5J2FyWRWDQi"
   },
   "outputs": [],
   "source": [
    "cols_to_drop = ['std_og_t2c_mou_6', 'std_og_t2c_mou_7', 'std_ic_t2o_mou_6', 'std_ic_t2o_mou_7']\n",
    "hg_val_cust.drop(cols_to_drop, axis=1, inplace=True)\n",
    "test_df.drop(cols_to_drop, axis=1, inplace=True)"
   ]
  },
  {
   "cell_type": "code",
   "execution_count": 204,
   "metadata": {
    "colab": {
     "base_uri": "https://localhost:8080/"
    },
    "id": "h-r_07SPWDQj",
    "outputId": "c9169dea-8571-4b0d-f2da-0f9b1c7669fa"
   },
   "outputs": [
    {
     "data": {
      "text/plain": [
       "(7850, 116)"
      ]
     },
     "execution_count": 204,
     "metadata": {},
     "output_type": "execute_result"
    }
   ],
   "source": [
    "hg_val_cust.shape"
   ]
  },
  {
   "cell_type": "code",
   "execution_count": 205,
   "metadata": {
    "colab": {
     "base_uri": "https://localhost:8080/"
    },
    "id": "nJhC3OdvWDQj",
    "outputId": "dba761f9-1303-428f-b627-33734cf904b0"
   },
   "outputs": [
    {
     "data": {
      "text/plain": [
       "(6538, 115)"
      ]
     },
     "execution_count": 205,
     "metadata": {},
     "output_type": "execute_result"
    }
   ],
   "source": [
    "test_df.shape"
   ]
  },
  {
   "cell_type": "code",
   "execution_count": 206,
   "metadata": {
    "colab": {
     "base_uri": "https://localhost:8080/"
    },
    "id": "N_h1BA6pWDQk",
    "outputId": "d29f0d20-5e5b-4a28-979e-24cc60b82eb1"
   },
   "outputs": [
    {
     "name": "stdout",
     "output_type": "stream",
     "text": [
      "high value customer train data set\n",
      "\n",
      "0 columns have got greater than 49 percent missing values\n"
     ]
    }
   ],
   "source": [
    "print(\"high value customer train data set\\n\")\n",
    "mis_val_col_lst = GetMisvalThreshold(49, hg_val_cust)"
   ]
  },
  {
   "cell_type": "code",
   "execution_count": 207,
   "metadata": {
    "colab": {
     "base_uri": "https://localhost:8080/"
    },
    "id": "pRHQD8oLWDQk",
    "outputId": "f8f4fa23-d079-4e8b-d3a1-6c71580e040b"
   },
   "outputs": [
    {
     "name": "stdout",
     "output_type": "stream",
     "text": [
      "test data set\n",
      "\n",
      "1 columns have got greater than 49 percent missing values\n"
     ]
    }
   ],
   "source": [
    "print(\"test data set\\n\")\n",
    "mis_val_col_lst = GetMisvalThreshold(49, test_df)"
   ]
  },
  {
   "cell_type": "code",
   "execution_count": 208,
   "metadata": {
    "id": "iWhvYz_lWDQk"
   },
   "outputs": [],
   "source": [
    "# we can observe that there are two columns that have got more than 49 percent\n",
    "# missing values. Let us drop them from both data sets\n",
    "\n",
    "hg_val_cust.drop(['date_of_last_rech_data_6', 'date_of_last_rech_data_7'], axis=1, inplace=True)\n",
    "test_df.drop(['date_of_last_rech_data_6', 'date_of_last_rech_data_7'], axis=1, inplace=True)"
   ]
  },
  {
   "cell_type": "code",
   "execution_count": 209,
   "metadata": {
    "colab": {
     "base_uri": "https://localhost:8080/"
    },
    "id": "XVVGdlZBWDQl",
    "outputId": "7afe8c95-8a9e-4ab6-820c-c538618249b0"
   },
   "outputs": [
    {
     "name": "stdout",
     "output_type": "stream",
     "text": [
      "Missing values for High Value Customers train data\n",
      "54 columns have got greater than 1 percent missing values\n",
      "Missing values for test data\n",
      "54 columns have got greater than 1 percent missing values\n"
     ]
    }
   ],
   "source": [
    "# let us observe how many columns have got more than 1 percent missing values\n",
    "print(\"Missing values for High Value Customers train data\")\n",
    "mis_val_col_lst = GetMisvalThreshold(1, hg_val_cust)\n",
    "print(\"Missing values for test data\")\n",
    "mis_val_col_lst = GetMisvalThreshold(1, test_df)\n"
   ]
  },
  {
   "cell_type": "markdown",
   "metadata": {
    "id": "-dREvIKlWDQl"
   },
   "source": []
  },
  {
   "cell_type": "code",
   "execution_count": 210,
   "metadata": {
    "id": "pHkFPUwKWDQl"
   },
   "outputs": [],
   "source": [
    "# we can observe that there are 54 columns that have got around 1.7 percentage\n",
    "# missing values. Let us impute them\n",
    "cols_to_impute = list(mis_val_col_lst.index)\n",
    "hg_val_cust[cols_to_impute] = hg_val_cust[cols_to_impute].fillna(0)\n",
    "test_df[cols_to_impute] = test_df[cols_to_impute].fillna(0)"
   ]
  },
  {
   "cell_type": "code",
   "execution_count": 211,
   "metadata": {
    "colab": {
     "base_uri": "https://localhost:8080/"
    },
    "id": "7KcqU4r-WDQm",
    "outputId": "01140deb-d993-44eb-9c81-c4e133f279d9"
   },
   "outputs": [
    {
     "name": "stdout",
     "output_type": "stream",
     "text": [
      "Missing values with 1% threshold from High Value Customers from train set\n",
      "\n",
      "0 columns have got greater than 1 percent missing values\n",
      "Missing values with 1% threshold from test set\n",
      "\n",
      "0 columns have got greater than 1 percent missing values\n"
     ]
    },
    {
     "data": {
      "text/plain": [
       "Series([], dtype: float64)"
      ]
     },
     "execution_count": 211,
     "metadata": {},
     "output_type": "execute_result"
    }
   ],
   "source": [
    "# Let us verify how many column columns have got missing values\n",
    "# above 1 percent\n",
    "#print(\"Missing values column above 1 percent threshold from high value customers\\n\")\n",
    "print(\"Missing values with 1% threshold from High Value Customers from train set\\n\")\n",
    "GetMisvalThreshold(1, hg_val_cust)\n",
    "print(\"Missing values with 1% threshold from test set\\n\")\n",
    "GetMisvalThreshold(1, test_df)"
   ]
  },
  {
   "cell_type": "code",
   "execution_count": 212,
   "metadata": {
    "colab": {
     "base_uri": "https://localhost:8080/"
    },
    "id": "9pyLDTZYWDQm",
    "outputId": "07d103fe-f063-400e-d098-780e9bf998b6"
   },
   "outputs": [
    {
     "name": "stdout",
     "output_type": "stream",
     "text": [
      "['2014-06-25T00:00:00.000000000' '2014-06-27T00:00:00.000000000'\n",
      " '2014-06-30T00:00:00.000000000' '2014-06-24T00:00:00.000000000'\n",
      " '2014-06-29T00:00:00.000000000' '2014-06-08T00:00:00.000000000'\n",
      " '2014-06-28T00:00:00.000000000' '2014-06-23T00:00:00.000000000'\n",
      " '2014-06-26T00:00:00.000000000' '2014-06-13T00:00:00.000000000'\n",
      " '2014-06-17T00:00:00.000000000' '2014-06-15T00:00:00.000000000'\n",
      " '2014-06-20T00:00:00.000000000' '2014-06-21T00:00:00.000000000'\n",
      " '2014-06-18T00:00:00.000000000' '2014-06-22T00:00:00.000000000'\n",
      " '2014-06-12T00:00:00.000000000' '2014-06-03T00:00:00.000000000'\n",
      " '2014-06-10T00:00:00.000000000' '2014-06-19T00:00:00.000000000'\n",
      " '2014-06-14T00:00:00.000000000' '2014-06-16T00:00:00.000000000'\n",
      " '2014-06-09T00:00:00.000000000' '2014-06-04T00:00:00.000000000'\n",
      " '2014-06-02T00:00:00.000000000' '2014-06-05T00:00:00.000000000'\n",
      "                           'NaT' '2014-06-11T00:00:00.000000000'\n",
      " '2014-06-06T00:00:00.000000000' '2014-06-07T00:00:00.000000000'\n",
      " '2014-06-01T00:00:00.000000000']\n",
      "['2014-07-26T00:00:00.000000000' '2014-07-25T00:00:00.000000000'\n",
      " '2014-07-31T00:00:00.000000000' '2014-07-20T00:00:00.000000000'\n",
      " '2014-07-27T00:00:00.000000000' '2014-07-29T00:00:00.000000000'\n",
      " '2014-07-30T00:00:00.000000000' '2014-07-10T00:00:00.000000000'\n",
      " '2014-07-28T00:00:00.000000000' '2014-07-12T00:00:00.000000000'\n",
      " '2014-07-22T00:00:00.000000000' '2014-07-24T00:00:00.000000000'\n",
      " '2014-07-21T00:00:00.000000000' '2014-07-23T00:00:00.000000000'\n",
      " '2014-07-15T00:00:00.000000000' '2014-07-16T00:00:00.000000000'\n",
      "                           'NaT' '2014-07-17T00:00:00.000000000'\n",
      " '2014-07-19T00:00:00.000000000' '2014-07-14T00:00:00.000000000'\n",
      " '2014-07-13T00:00:00.000000000' '2014-07-18T00:00:00.000000000'\n",
      " '2014-07-09T00:00:00.000000000' '2014-07-08T00:00:00.000000000'\n",
      " '2014-07-07T00:00:00.000000000' '2014-07-11T00:00:00.000000000'\n",
      " '2014-07-03T00:00:00.000000000' '2014-07-06T00:00:00.000000000'\n",
      " '2014-07-01T00:00:00.000000000' '2014-07-05T00:00:00.000000000'\n",
      " '2014-07-04T00:00:00.000000000' '2014-07-02T00:00:00.000000000']\n",
      "['2014-06-19T00:00:00.000000000' '2014-06-29T00:00:00.000000000'\n",
      " '2014-06-25T00:00:00.000000000' '2014-06-30T00:00:00.000000000'\n",
      " '2014-06-28T00:00:00.000000000' '2014-06-27T00:00:00.000000000'\n",
      " '2014-06-26T00:00:00.000000000' '2014-06-23T00:00:00.000000000'\n",
      " '2014-06-22T00:00:00.000000000' '2014-06-21T00:00:00.000000000'\n",
      " '2014-06-20T00:00:00.000000000' '2014-06-15T00:00:00.000000000'\n",
      " '2014-06-18T00:00:00.000000000' '2014-06-14T00:00:00.000000000'\n",
      " '2014-06-17T00:00:00.000000000' '2014-06-24T00:00:00.000000000'\n",
      " '2014-06-13T00:00:00.000000000' '2014-06-11T00:00:00.000000000'\n",
      " '2014-06-16T00:00:00.000000000' '2014-06-10T00:00:00.000000000'\n",
      " '2014-06-12T00:00:00.000000000' '2014-06-08T00:00:00.000000000'\n",
      " '2014-06-05T00:00:00.000000000'                           'NaT'\n",
      " '2014-06-07T00:00:00.000000000' '2014-06-01T00:00:00.000000000'\n",
      " '2014-06-09T00:00:00.000000000' '2014-06-06T00:00:00.000000000'\n",
      " '2014-06-02T00:00:00.000000000' '2014-06-04T00:00:00.000000000'\n",
      " '2014-06-03T00:00:00.000000000']\n",
      "['2014-07-16T00:00:00.000000000' '2014-07-27T00:00:00.000000000'\n",
      " '2014-07-31T00:00:00.000000000' '2014-07-28T00:00:00.000000000'\n",
      " '2014-07-30T00:00:00.000000000' '2014-07-24T00:00:00.000000000'\n",
      " '2014-07-29T00:00:00.000000000' '2014-07-25T00:00:00.000000000'\n",
      " '2014-07-23T00:00:00.000000000' '2014-07-12T00:00:00.000000000'\n",
      " '2014-07-26T00:00:00.000000000' '2014-07-20T00:00:00.000000000'\n",
      " '2014-07-21T00:00:00.000000000' '2014-07-22T00:00:00.000000000'\n",
      " '2014-07-15T00:00:00.000000000' '2014-07-13T00:00:00.000000000'\n",
      " '2014-07-14T00:00:00.000000000' '2014-07-17T00:00:00.000000000'\n",
      " '2014-07-18T00:00:00.000000000' '2014-07-19T00:00:00.000000000'\n",
      " '2014-07-07T00:00:00.000000000' '2014-07-06T00:00:00.000000000'\n",
      "                           'NaT' '2014-07-11T00:00:00.000000000'\n",
      " '2014-07-09T00:00:00.000000000' '2014-07-10T00:00:00.000000000'\n",
      " '2014-07-01T00:00:00.000000000' '2014-07-05T00:00:00.000000000'\n",
      " '2014-07-08T00:00:00.000000000' '2014-07-04T00:00:00.000000000'\n",
      " '2014-07-03T00:00:00.000000000']\n"
     ]
    }
   ],
   "source": [
    "print(hg_val_cust['date_of_last_rech_6'].unique())\n",
    "print(hg_val_cust['date_of_last_rech_7'].unique())\n",
    "print(test_df['date_of_last_rech_6'].unique())\n",
    "print(test_df['date_of_last_rech_7'].unique())"
   ]
  },
  {
   "cell_type": "markdown",
   "metadata": {
    "id": "6BlxzeYCWDQn"
   },
   "source": [
    "The above output of the print statement shows that those two columns have got the same month (6 and 7) in all the rows in their respective columns. We need to impute the missing values with a particular date of\n",
    "that month in the respective rows. We use pad method for fillna()"
   ]
  },
  {
   "cell_type": "code",
   "execution_count": 213,
   "metadata": {
    "id": "6h4d1_KaWDQn"
   },
   "outputs": [],
   "source": [
    "# convert the 'date_of_last_rech_data_6' and 'date_of_last_rech_data_7' to days\n",
    "#hg_val_cust['date_of_last_rech_6'] = (hg_val_cust['date_of_last_rech_6'] - hg_val_cust['date_of_last_rech_6'].min()).dt.days\n",
    "#hg_val_cust['date_of_last_rech_7'] = (hg_val_cust['date_of_last_rech_7'] - hg_val_cust['date_of_last_rech_7'].min()).dt.days"
   ]
  },
  {
   "cell_type": "code",
   "execution_count": 214,
   "metadata": {
    "id": "MyUIVCftWDQo"
   },
   "outputs": [],
   "source": [
    "hg_val_cust['date_of_last_rech_6'].fillna(method='pad', inplace=True)\n",
    "hg_val_cust['date_of_last_rech_7'].fillna(method='pad', inplace=True)\n",
    "test_df['date_of_last_rech_6'].fillna(method='pad', inplace=True)\n",
    "test_df['date_of_last_rech_7'].fillna(method='pad', inplace=True)\n",
    "#hg_val_cust['date_of_last_rech_7'].isnull().sum()"
   ]
  },
  {
   "cell_type": "code",
   "execution_count": 215,
   "metadata": {
    "colab": {
     "base_uri": "https://localhost:8080/"
    },
    "id": "XW_YgwYYWDQo",
    "outputId": "b73ee451-f0cc-4626-f28e-e4b4786634dd"
   },
   "outputs": [
    {
     "name": "stdout",
     "output_type": "stream",
     "text": [
      "Missing values with 0% threshold from High Value Customers from train set\n",
      "\n",
      "1 columns have got greater than 0 percent missing values\n",
      "Missing values with 0% threshold from test set\n",
      "\n",
      "11 columns have got greater than 0 percent missing values\n"
     ]
    }
   ],
   "source": [
    "print(\"Missing values with 0% threshold from High Value Customers from train set\\n\")\n",
    "cols_to_impute = GetMisvalThreshold(0, hg_val_cust)\n",
    "print(\"Missing values with 0% threshold from test set\\n\")\n",
    "cols_to_impute = GetMisvalThreshold(0, test_df)"
   ]
  },
  {
   "cell_type": "code",
   "execution_count": 216,
   "metadata": {
    "colab": {
     "base_uri": "https://localhost:8080/"
    },
    "id": "1nd6BjnZWDQo",
    "outputId": "cdc8cf49-a7d3-42b7-914f-bd96ee9e9483"
   },
   "outputs": [
    {
     "data": {
      "text/plain": [
       "last_date_of_month_7    0.122362\n",
       "sachet_2g_6             0.015295\n",
       "sachet_2g_7             0.015295\n",
       "monthly_3g_6            0.015295\n",
       "monthly_3g_7            0.015295\n",
       "sachet_3g_6             0.015295\n",
       "sachet_3g_7             0.015295\n",
       "aon                     0.015295\n",
       "aug_vbc_3g              0.015295\n",
       "jul_vbc_3g              0.015295\n",
       "jun_vbc_3g              0.015295\n",
       "dtype: float64"
      ]
     },
     "execution_count": 216,
     "metadata": {},
     "output_type": "execute_result"
    }
   ],
   "source": [
    "cols_to_impute"
   ]
  },
  {
   "cell_type": "code",
   "execution_count": 217,
   "metadata": {
    "colab": {
     "base_uri": "https://localhost:8080/"
    },
    "id": "S7KywcCJWDQp",
    "outputId": "aaa57508-0dbd-4cf5-bd75-a721ab87930d"
   },
   "outputs": [
    {
     "data": {
      "text/plain": [
       "0"
      ]
     },
     "execution_count": 217,
     "metadata": {},
     "output_type": "execute_result"
    }
   ],
   "source": [
    "#hg_val_cust.last_date_of_month_7.isnull().sum()\n",
    "hg_val_cust['last_date_of_month_7'].fillna(method='pad', inplace=True)\n",
    "hg_val_cust.last_date_of_month_7.isnull().sum()"
   ]
  },
  {
   "cell_type": "code",
   "execution_count": 218,
   "metadata": {
    "colab": {
     "base_uri": "https://localhost:8080/"
    },
    "id": "kYk_rFiBWDQp",
    "outputId": "56a354f2-bb09-4dfe-c9de-7cc6f6be0e53"
   },
   "outputs": [
    {
     "data": {
      "text/plain": [
       "last_date_of_month_6    0\n",
       "last_date_of_month_7    0\n",
       "arpu_6                  0\n",
       "arpu_7                  0\n",
       "onnet_mou_6             0\n",
       "                       ..\n",
       "tot_rech_amt_data_6     0\n",
       "tot_rech_amt_data_7     0\n",
       "tot_month_rech_6        0\n",
       "tot_month_rech_7        0\n",
       "churn                   0\n",
       "Length: 114, dtype: int64"
      ]
     },
     "execution_count": 218,
     "metadata": {},
     "output_type": "execute_result"
    }
   ],
   "source": [
    "hg_val_cust.isnull().sum()"
   ]
  },
  {
   "cell_type": "code",
   "execution_count": 219,
   "metadata": {
    "colab": {
     "base_uri": "https://localhost:8080/"
    },
    "id": "s0-maH-MWDQp",
    "outputId": "9ad2452d-e6b2-4da9-d138-6f06558e4cd0"
   },
   "outputs": [
    {
     "data": {
      "text/plain": [
       "(7850, 114)"
      ]
     },
     "execution_count": 219,
     "metadata": {},
     "output_type": "execute_result"
    }
   ],
   "source": [
    "hg_val_cust.shape"
   ]
  },
  {
   "cell_type": "code",
   "execution_count": 220,
   "metadata": {
    "colab": {
     "base_uri": "https://localhost:8080/"
    },
    "id": "tC5aO_3BWDQq",
    "outputId": "5142bb3c-b710-4d79-ad12-3f7e128ce352"
   },
   "outputs": [
    {
     "data": {
      "text/plain": [
       "last_date_of_month_6    0\n",
       "last_date_of_month_7    8\n",
       "arpu_6                  0\n",
       "arpu_7                  0\n",
       "onnet_mou_6             0\n",
       "                       ..\n",
       "tot_rech_amt_data_6     0\n",
       "tot_rech_amt_data_7     0\n",
       "tot_month_rech_6        0\n",
       "tot_month_rech_7        0\n",
       "churn                   0\n",
       "Length: 113, dtype: int64"
      ]
     },
     "execution_count": 220,
     "metadata": {},
     "output_type": "execute_result"
    }
   ],
   "source": [
    "test_df.isnull().sum()"
   ]
  },
  {
   "cell_type": "code",
   "execution_count": 221,
   "metadata": {
    "colab": {
     "base_uri": "https://localhost:8080/"
    },
    "id": "vzfRODlxWDQq",
    "outputId": "58757b93-8246-4fcc-ee53-9d68e22498c3"
   },
   "outputs": [
    {
     "data": {
      "text/plain": [
       "(6538, 113)"
      ]
     },
     "execution_count": 221,
     "metadata": {},
     "output_type": "execute_result"
    }
   ],
   "source": [
    "test_df.shape"
   ]
  },
  {
   "cell_type": "markdown",
   "metadata": {
    "id": "mnf35bGIWDQq"
   },
   "source": [
    "# Perform Exploratory Data Analysis"
   ]
  },
  {
   "cell_type": "code",
   "execution_count": 222,
   "metadata": {
    "colab": {
     "base_uri": "https://localhost:8080/",
     "height": 292
    },
    "id": "BvzvKcJnWDQq",
    "outputId": "8ba3c0b3-69fd-482d-bf67-cd9399e6ebc1"
   },
   "outputs": [
    {
     "data": {
      "text/plain": [
       "Text(0.5, 1.0, 'Box plot of outgoing roaming usage for the month 8')"
      ]
     },
     "execution_count": 222,
     "metadata": {},
     "output_type": "execute_result"
    },
    {
     "data": {
      "image/png": "[encoded data removed]",
      "text/plain": [
       "<Figure size 1080x576 with 3 Axes>"
      ]
     },
     "metadata": {
      "needs_background": "light"
     },
     "output_type": "display_data"
    }
   ],
   "source": [
    "# Plot the box plot of roaming usage in the month of June and July\n",
    "plt.figure(figsize=(15,8))\n",
    "\n",
    "\n",
    "# create the subplot 1\n",
    "plt.subplot(2,3,1)\n",
    "ax=sns.boxplot(hg_val_cust['roam_og_mou_6'])\n",
    "ax.set_title(\"Box plot of outgoing roaming usage for the month 6\", fontsize=10)\n",
    "\n",
    "# create the subplot 2\n",
    "plt.subplot(2,3,2)\n",
    "ax=sns.boxplot(hg_val_cust['roam_og_mou_7'])\n",
    "ax.set_title(\"Box plot of outgoing roaming usage for the month 7\", fontsize=10)\n",
    "\n",
    "# create the subplot 3\n",
    "plt.subplot(2,3,3)\n",
    "ax=sns.boxplot(telecom_df['roam_og_mou_8'])\n",
    "ax.set_title(\"Box plot of outgoing roaming usage for the month 8\", fontsize=10)"
   ]
  },
  {
   "cell_type": "markdown",
   "metadata": {
    "id": "na79c14RWDQr"
   },
   "source": [
    "The above graph shows that the roaming usage in the month of July has reduced compared\n",
    "to the June month"
   ]
  },
  {
   "cell_type": "code",
   "execution_count": 223,
   "metadata": {
    "id": "unArumlwWDQr"
   },
   "outputs": [],
   "source": [
    "# plot the graph of total minutes of usage in the month of June and July"
   ]
  },
  {
   "cell_type": "code",
   "execution_count": 224,
   "metadata": {
    "colab": {
     "base_uri": "https://localhost:8080/",
     "height": 292
    },
    "id": "57ML6VYvWDQr",
    "outputId": "e9ea90e5-1338-4cf5-a552-34b5cc5e5012"
   },
   "outputs": [
    {
     "data": {
      "text/plain": [
       "Text(0.5, 1.0, 'Box plot of total outgoing minutes of usage for the month 8')"
      ]
     },
     "execution_count": 224,
     "metadata": {},
     "output_type": "execute_result"
    },
    {
     "data": {
      "image/png": "[encoded data removed]",
      "text/plain": [
       "<Figure size 1080x576 with 3 Axes>"
      ]
     },
     "metadata": {
      "needs_background": "light"
     },
     "output_type": "display_data"
    }
   ],
   "source": [
    "# Plot the box plot of total outgoing minutes of usage in the month of June and July\n",
    "plt.figure(figsize=(15,8))\n",
    "\n",
    "\n",
    "# create the subplot 1\n",
    "plt.subplot(2,3,1)\n",
    "ax=sns.boxplot(hg_val_cust['total_og_mou_6'])\n",
    "ax.set_title(\"Box plot of total outgoing minutes of usage for the month 6\", fontsize=10)\n",
    "\n",
    "# create the subplot 2\n",
    "plt.subplot(2,3,2)\n",
    "ax=sns.boxplot(hg_val_cust['total_og_mou_7'])\n",
    "ax.set_title(\"Box plot of total outgoing minutes of usage for the month 7\", fontsize=10)\n",
    "\n",
    "# create the subplot 3\n",
    "plt.subplot(2,3,3)\n",
    "ax=sns.boxplot(telecom_df['total_og_mou_8'])\n",
    "ax.set_title(\"Box plot of total outgoing minutes of usage for the month 8\", fontsize=10)"
   ]
  },
  {
   "cell_type": "code",
   "execution_count": 225,
   "metadata": {
    "colab": {
     "base_uri": "https://localhost:8080/",
     "height": 292
    },
    "id": "KxG7l3s4WDQs",
    "outputId": "a113db4c-c296-446a-c89c-6e14c4128946"
   },
   "outputs": [
    {
     "data": {
      "text/plain": [
       "Text(0.5, 1.0, 'Box plot of total incoming minutes of usage for the month 8')"
      ]
     },
     "execution_count": 225,
     "metadata": {},
     "output_type": "execute_result"
    },
    {
     "data": {
      "image/png": "[encoded data removed]",
      "text/plain": [
       "<Figure size 1080x576 with 3 Axes>"
      ]
     },
     "metadata": {
      "needs_background": "light"
     },
     "output_type": "display_data"
    }
   ],
   "source": [
    "# Plot the box plot of the total incoming minutes of usage for the month of June and July\n",
    "plt.figure(figsize=(15,8))\n",
    "\n",
    "# create the subplot 1\n",
    "plt.subplot(2,3,1)\n",
    "ax=sns.boxplot(hg_val_cust['total_ic_mou_6'])\n",
    "ax.set_title(\"Box plot of total incoming minutes of usage for the month 6\", fontsize=10)\n",
    "\n",
    "# create the subplot 2\n",
    "plt.subplot(2,3,2)\n",
    "ax=sns.boxplot(hg_val_cust['total_ic_mou_7'])\n",
    "ax.set_title(\"Box plot of total incoming minutes of usage for the month 7\", fontsize=10)\n",
    "\n",
    "# create the subplot 3\n",
    "plt.subplot(2,3,3)\n",
    "ax=sns.boxplot(telecom_df['total_ic_mou_8'])\n",
    "ax.set_title(\"Box plot of total incoming minutes of usage for the month 8\", fontsize=10)"
   ]
  },
  {
   "cell_type": "code",
   "execution_count": 226,
   "metadata": {
    "colab": {
     "base_uri": "https://localhost:8080/",
     "height": 292
    },
    "id": "hAeh8GS8WDQs",
    "outputId": "c36fa8f1-2a4c-451e-9c1a-0ea8163deb91"
   },
   "outputs": [
    {
     "data": {
      "text/plain": [
       "Text(0.5, 1.0, 'Box plot of last day recharge amount for the month 8')"
      ]
     },
     "execution_count": 226,
     "metadata": {},
     "output_type": "execute_result"
    },
    {
     "data": {
      "image/png": "[encoded data removed]",
      "text/plain": [
       "<Figure size 1080x576 with 3 Axes>"
      ]
     },
     "metadata": {
      "needs_background": "light"
     },
     "output_type": "display_data"
    }
   ],
   "source": [
    "# Plot the box plot of last recharge amount for the month of June and July\n",
    "plt.figure(figsize=(15,8))\n",
    "\n",
    "\n",
    "# create the subplot 1\n",
    "plt.subplot(2,3,1)\n",
    "ax=sns.boxplot(hg_val_cust['last_day_rch_amt_6'])\n",
    "ax.set_title(\"Box plot of last day recharge amount for the month 6\", fontsize=10)\n",
    "\n",
    "# create the subplot 2\n",
    "plt.subplot(2,3,2)\n",
    "ax=sns.boxplot(hg_val_cust['last_day_rch_amt_7'])\n",
    "ax.set_title(\"Box plot of last day recharge amount for the month 7\", fontsize=10)\n",
    "\n",
    "# create the subplot 3\n",
    "plt.subplot(2,3,3)\n",
    "ax=sns.boxplot(telecom_df['last_day_rch_amt_8'])\n",
    "ax.set_title(\"Box plot of last day recharge amount for the month 8\", fontsize=10)"
   ]
  },
  {
   "cell_type": "code",
   "execution_count": 227,
   "metadata": {
    "colab": {
     "base_uri": "https://localhost:8080/",
     "height": 292
    },
    "id": "GM_WaqS4WDQs",
    "outputId": "e81cc5f0-1ab5-483b-8e0a-09af7a863181"
   },
   "outputs": [
    {
     "data": {
      "text/plain": [
       "Text(0.5, 1.0, 'Box plot of total monhtly recharge amount for the month 7')"
      ]
     },
     "execution_count": 227,
     "metadata": {},
     "output_type": "execute_result"
    },
    {
     "data": {
      "image/png": "[encoded data removed]",
      "text/plain": [
       "<Figure size 1080x576 with 2 Axes>"
      ]
     },
     "metadata": {
      "needs_background": "light"
     },
     "output_type": "display_data"
    }
   ],
   "source": [
    "# Plot the box plot of last recharge amount for the month of June and July\n",
    "plt.figure(figsize=(15,8))\n",
    "\n",
    "\n",
    "# create the subplot 1\n",
    "plt.subplot(2,3,1)\n",
    "ax=sns.boxplot(hg_val_cust['tot_month_rech_6'])\n",
    "ax.set_title(\"Box plot of total monthly recharge amount for the month 6\", fontsize=10)\n",
    "\n",
    "# create the subplot 2\n",
    "plt.subplot(2,3,2)\n",
    "ax=sns.boxplot(hg_val_cust['tot_month_rech_7'])\n",
    "ax.set_title(\"Box plot of total monhtly recharge amount for the month 7\", fontsize=10)\n",
    "\n",
    "# create the subplot 3\n",
    "#plt.subplot(2,3,3)\n",
    "#ax=sns.boxplot(telecom_df['total_month_rech_7'])\n",
    "#ax.set_title(\"Box plot of total monhtly recharge amount for the month 8\", fontsize=10)"
   ]
  },
  {
   "cell_type": "code",
   "execution_count": 228,
   "metadata": {
    "colab": {
     "base_uri": "https://localhost:8080/",
     "height": 349
    },
    "id": "YSWYN5X5WDQt",
    "outputId": "8c23800e-6083-41f1-af4e-56317108a862"
   },
   "outputs": [
    {
     "data": {
      "image/png": "[encoded data removed]",
      "text/plain": [
       "<Figure size 648x360 with 1 Axes>"
      ]
     },
     "metadata": {
      "needs_background": "light"
     },
     "output_type": "display_data"
    }
   ],
   "source": [
    "# Plot the box plot of last recharge amount for the month of June and July\n",
    "plt.figure(figsize=(9,5))\n",
    "\n",
    "\n",
    "# create the subplot 1\n",
    "#plt.subplot(2,3,1)\n",
    "ax=sns.boxplot(hg_val_cust['tot_month_rech_6'])\n",
    "ax.set_title(\"Box plot of Age on network\", fontsize=10)\n",
    "plt.show()\n"
   ]
  },
  {
   "cell_type": "markdown",
   "metadata": {
    "id": "uOjbdak2WDQt"
   },
   "source": [
    "Let us observe the minutes of usage of ISD outgoing for the two months of both churned\n",
    "as well as non churned customers"
   ]
  },
  {
   "cell_type": "code",
   "execution_count": 229,
   "metadata": {
    "colab": {
     "base_uri": "https://localhost:8080/",
     "height": 144
    },
    "id": "p9EFSagiWDQu",
    "outputId": "0212d941-1e02-43e9-8a8f-cb9383b86a94"
   },
   "outputs": [
    {
     "data": {
      "text/html": [
       "\n",
       "  <div id=\"df-85f2e9e5-fd92-41b0-ab64-30f3482f2d7b\">\n",
       "    <div class=\"colab-df-container\">\n",
       "      <div>\n",
       "<style scoped>\n",
       "    .dataframe tbody tr th:only-of-type {\n",
       "        vertical-align: middle;\n",
       "    }\n",
       "\n",
       "    .dataframe tbody tr th {\n",
       "        vertical-align: top;\n",
       "    }\n",
       "\n",
       "    .dataframe thead th {\n",
       "        text-align: right;\n",
       "    }\n",
       "</style>\n",
       "<table border=\"1\" class=\"dataframe\">\n",
       "  <thead>\n",
       "    <tr style=\"text-align: right;\">\n",
       "      <th></th>\n",
       "      <th>isd_og_mou_6</th>\n",
       "      <th>isd_og_mou_7</th>\n",
       "    </tr>\n",
       "    <tr>\n",
       "      <th>churn</th>\n",
       "      <th></th>\n",
       "      <th></th>\n",
       "    </tr>\n",
       "  </thead>\n",
       "  <tbody>\n",
       "    <tr>\n",
       "      <th>0</th>\n",
       "      <td>1.751578</td>\n",
       "      <td>1.836485</td>\n",
       "    </tr>\n",
       "    <tr>\n",
       "      <th>1</th>\n",
       "      <td>6.947452</td>\n",
       "      <td>1.967752</td>\n",
       "    </tr>\n",
       "  </tbody>\n",
       "</table>\n",
       "</div>\n",
       "      <button class=\"colab-df-convert\" onclick=\"convertToInteractive('df-85f2e9e5-fd92-41b0-ab64-30f3482f2d7b')\"\n",
       "              title=\"Convert this dataframe to an interactive table.\"\n",
       "              style=\"display:none;\">\n",
       "        \n",
       "  <svg xmlns=\"http://www.w3.org/2000/svg\" height=\"24px\"viewBox=\"0 0 24 24\"\n",
       "       width=\"24px\">\n",
       "    <path d=\"M0 0h24v24H0V0z\" fill=\"none\"/>\n",
       "    <path d=\"M18.56 5.44l.94 2.06.94-2.06 2.06-.94-2.06-.94-.94-2.06-.94 2.06-2.06.94zm-11 1L8.5 8.5l.94-2.06 2.06-.94-2.06-.94L8.5 2.5l-.94 2.06-2.06.94zm10 10l.94 2.06.94-2.06 2.06-.94-2.06-.94-.94-2.06-.94 2.06-2.06.94z\"/><path d=\"M17.41 7.96l-1.37-1.37c-.4-.4-.92-.59-1.43-.59-.52 0-1.04.2-1.43.59L10.3 9.45l-7.72 7.72c-.78.78-.78 2.05 0 2.83L4 21.41c.39.39.9.59 1.41.59.51 0 1.02-.2 1.41-.59l7.78-7.78 2.81-2.81c.8-.78.8-2.07 0-2.86zM5.41 20L4 18.59l7.72-7.72 1.47 1.35L5.41 20z\"/>\n",
       "  </svg>\n",
       "      </button>\n",
       "      \n",
       "  <style>\n",
       "    .colab-df-container {\n",
       "      display:flex;\n",
       "      flex-wrap:wrap;\n",
       "      gap: 12px;\n",
       "    }\n",
       "\n",
       "    .colab-df-convert {\n",
       "      background-color: #E8F0FE;\n",
       "      border: none;\n",
       "      border-radius: 50%;\n",
       "      cursor: pointer;\n",
       "      display: none;\n",
       "      fill: #1967D2;\n",
       "      height: 32px;\n",
       "      padding: 0 0 0 0;\n",
       "      width: 32px;\n",
       "    }\n",
       "\n",
       "    .colab-df-convert:hover {\n",
       "      background-color: #E2EBFA;\n",
       "      box-shadow: 0px 1px 2px rgba(60, 64, 67, 0.3), 0px 1px 3px 1px rgba(60, 64, 67, 0.15);\n",
       "      fill: #174EA6;\n",
       "    }\n",
       "\n",
       "    [theme=dark] .colab-df-convert {\n",
       "      background-color: #3B4455;\n",
       "      fill: #D2E3FC;\n",
       "    }\n",
       "\n",
       "    [theme=dark] .colab-df-convert:hover {\n",
       "      background-color: #434B5C;\n",
       "      box-shadow: 0px 1px 3px 1px rgba(0, 0, 0, 0.15);\n",
       "      filter: drop-shadow(0px 1px 2px rgba(0, 0, 0, 0.3));\n",
       "      fill: #FFFFFF;\n",
       "    }\n",
       "  </style>\n",
       "\n",
       "      <script>\n",
       "        const buttonEl =\n",
       "          document.querySelector('#df-85f2e9e5-fd92-41b0-ab64-30f3482f2d7b button.colab-df-convert');\n",
       "        buttonEl.style.display =\n",
       "          google.colab.kernel.accessAllowed ? 'block' : 'none';\n",
       "\n",
       "        async function convertToInteractive(key) {\n",
       "          const element = document.querySelector('#df-85f2e9e5-fd92-41b0-ab64-30f3482f2d7b');\n",
       "          const dataTable =\n",
       "            await google.colab.kernel.invokeFunction('convertToInteractive',\n",
       "                                                     [key], {});\n",
       "          if (!dataTable) return;\n",
       "\n",
       "          const docLinkHtml = 'Like what you see? Visit the ' +\n",
       "            '<a target=\"_blank\" href=https://colab.research.google.com/notebooks/data_table.ipynb>data table notebook</a>'\n",
       "            + ' to learn more about interactive tables.';\n",
       "          element.innerHTML = '';\n",
       "          dataTable['output_type'] = 'display_data';\n",
       "          await google.colab.output.renderOutput(dataTable, element);\n",
       "          const docLink = document.createElement('div');\n",
       "          docLink.innerHTML = docLinkHtml;\n",
       "          element.appendChild(docLink);\n",
       "        }\n",
       "      </script>\n",
       "    </div>\n",
       "  </div>\n",
       "  "
      ],
      "text/plain": [
       "       isd_og_mou_6  isd_og_mou_7\n",
       "churn                            \n",
       "0          1.751578      1.836485\n",
       "1          6.947452      1.967752"
      ]
     },
     "execution_count": 229,
     "metadata": {},
     "output_type": "execute_result"
    }
   ],
   "source": [
    "hg_val_cust.groupby(['churn'])['isd_og_mou_6', 'isd_og_mou_7'].mean()"
   ]
  },
  {
   "cell_type": "markdown",
   "metadata": {
    "id": "UHXzLubbWDQu"
   },
   "source": [
    "The above table shows that for churning customers the minutes of usage of ISD for the\n",
    "month 7 has reduced to 2280.64 compared to it previous month"
   ]
  },
  {
   "cell_type": "code",
   "execution_count": 230,
   "metadata": {
    "colab": {
     "base_uri": "https://localhost:8080/",
     "height": 144
    },
    "id": "wAGJC3GlWDQv",
    "outputId": "625b2890-83e2-4b2f-a31a-5764caa1aaa6"
   },
   "outputs": [
    {
     "data": {
      "text/html": [
       "\n",
       "  <div id=\"df-dbda544d-11a8-48b2-ae66-52247ec5144d\">\n",
       "    <div class=\"colab-df-container\">\n",
       "      <div>\n",
       "<style scoped>\n",
       "    .dataframe tbody tr th:only-of-type {\n",
       "        vertical-align: middle;\n",
       "    }\n",
       "\n",
       "    .dataframe tbody tr th {\n",
       "        vertical-align: top;\n",
       "    }\n",
       "\n",
       "    .dataframe thead th {\n",
       "        text-align: right;\n",
       "    }\n",
       "</style>\n",
       "<table border=\"1\" class=\"dataframe\">\n",
       "  <thead>\n",
       "    <tr style=\"text-align: right;\">\n",
       "      <th></th>\n",
       "      <th>std_og_mou_6</th>\n",
       "      <th>std_og_mou_7</th>\n",
       "    </tr>\n",
       "    <tr>\n",
       "      <th>churn</th>\n",
       "      <th></th>\n",
       "      <th></th>\n",
       "    </tr>\n",
       "  </thead>\n",
       "  <tbody>\n",
       "    <tr>\n",
       "      <th>0</th>\n",
       "      <td>338.33449</td>\n",
       "      <td>373.058247</td>\n",
       "    </tr>\n",
       "    <tr>\n",
       "      <th>1</th>\n",
       "      <td>650.65970</td>\n",
       "      <td>317.501863</td>\n",
       "    </tr>\n",
       "  </tbody>\n",
       "</table>\n",
       "</div>\n",
       "      <button class=\"colab-df-convert\" onclick=\"convertToInteractive('df-dbda544d-11a8-48b2-ae66-52247ec5144d')\"\n",
       "              title=\"Convert this dataframe to an interactive table.\"\n",
       "              style=\"display:none;\">\n",
       "        \n",
       "  <svg xmlns=\"http://www.w3.org/2000/svg\" height=\"24px\"viewBox=\"0 0 24 24\"\n",
       "       width=\"24px\">\n",
       "    <path d=\"M0 0h24v24H0V0z\" fill=\"none\"/>\n",
       "    <path d=\"M18.56 5.44l.94 2.06.94-2.06 2.06-.94-2.06-.94-.94-2.06-.94 2.06-2.06.94zm-11 1L8.5 8.5l.94-2.06 2.06-.94-2.06-.94L8.5 2.5l-.94 2.06-2.06.94zm10 10l.94 2.06.94-2.06 2.06-.94-2.06-.94-.94-2.06-.94 2.06-2.06.94z\"/><path d=\"M17.41 7.96l-1.37-1.37c-.4-.4-.92-.59-1.43-.59-.52 0-1.04.2-1.43.59L10.3 9.45l-7.72 7.72c-.78.78-.78 2.05 0 2.83L4 21.41c.39.39.9.59 1.41.59.51 0 1.02-.2 1.41-.59l7.78-7.78 2.81-2.81c.8-.78.8-2.07 0-2.86zM5.41 20L4 18.59l7.72-7.72 1.47 1.35L5.41 20z\"/>\n",
       "  </svg>\n",
       "      </button>\n",
       "      \n",
       "  <style>\n",
       "    .colab-df-container {\n",
       "      display:flex;\n",
       "      flex-wrap:wrap;\n",
       "      gap: 12px;\n",
       "    }\n",
       "\n",
       "    .colab-df-convert {\n",
       "      background-color: #E8F0FE;\n",
       "      border: none;\n",
       "      border-radius: 50%;\n",
       "      cursor: pointer;\n",
       "      display: none;\n",
       "      fill: #1967D2;\n",
       "      height: 32px;\n",
       "      padding: 0 0 0 0;\n",
       "      width: 32px;\n",
       "    }\n",
       "\n",
       "    .colab-df-convert:hover {\n",
       "      background-color: #E2EBFA;\n",
       "      box-shadow: 0px 1px 2px rgba(60, 64, 67, 0.3), 0px 1px 3px 1px rgba(60, 64, 67, 0.15);\n",
       "      fill: #174EA6;\n",
       "    }\n",
       "\n",
       "    [theme=dark] .colab-df-convert {\n",
       "      background-color: #3B4455;\n",
       "      fill: #D2E3FC;\n",
       "    }\n",
       "\n",
       "    [theme=dark] .colab-df-convert:hover {\n",
       "      background-color: #434B5C;\n",
       "      box-shadow: 0px 1px 3px 1px rgba(0, 0, 0, 0.15);\n",
       "      filter: drop-shadow(0px 1px 2px rgba(0, 0, 0, 0.3));\n",
       "      fill: #FFFFFF;\n",
       "    }\n",
       "  </style>\n",
       "\n",
       "      <script>\n",
       "        const buttonEl =\n",
       "          document.querySelector('#df-dbda544d-11a8-48b2-ae66-52247ec5144d button.colab-df-convert');\n",
       "        buttonEl.style.display =\n",
       "          google.colab.kernel.accessAllowed ? 'block' : 'none';\n",
       "\n",
       "        async function convertToInteractive(key) {\n",
       "          const element = document.querySelector('#df-dbda544d-11a8-48b2-ae66-52247ec5144d');\n",
       "          const dataTable =\n",
       "            await google.colab.kernel.invokeFunction('convertToInteractive',\n",
       "                                                     [key], {});\n",
       "          if (!dataTable) return;\n",
       "\n",
       "          const docLinkHtml = 'Like what you see? Visit the ' +\n",
       "            '<a target=\"_blank\" href=https://colab.research.google.com/notebooks/data_table.ipynb>data table notebook</a>'\n",
       "            + ' to learn more about interactive tables.';\n",
       "          element.innerHTML = '';\n",
       "          dataTable['output_type'] = 'display_data';\n",
       "          await google.colab.output.renderOutput(dataTable, element);\n",
       "          const docLink = document.createElement('div');\n",
       "          docLink.innerHTML = docLinkHtml;\n",
       "          element.appendChild(docLink);\n",
       "        }\n",
       "      </script>\n",
       "    </div>\n",
       "  </div>\n",
       "  "
      ],
      "text/plain": [
       "       std_og_mou_6  std_og_mou_7\n",
       "churn                            \n",
       "0         338.33449    373.058247\n",
       "1         650.65970    317.501863"
      ]
     },
     "execution_count": 230,
     "metadata": {},
     "output_type": "execute_result"
    }
   ],
   "source": [
    "# Let us observe the minutes of usage of std calls for the month of 6 and 7\n",
    "hg_val_cust.groupby(['churn'])['std_og_mou_6', 'std_og_mou_7'].mean()"
   ]
  },
  {
   "cell_type": "markdown",
   "metadata": {
    "id": "_dv3tTBkWDQv"
   },
   "source": [
    "The above table shows that minutes of usage of std outgoing for the month of July compared to June"
   ]
  },
  {
   "cell_type": "markdown",
   "metadata": {
    "id": "LHhsgQhRWDQv"
   },
   "source": []
  },
  {
   "cell_type": "code",
   "execution_count": 231,
   "metadata": {
    "colab": {
     "base_uri": "https://localhost:8080/",
     "height": 144
    },
    "id": "IgLPX1wbWDQv",
    "outputId": "75d3eeb2-d490-4c8c-849e-b216695b83b3"
   },
   "outputs": [
    {
     "data": {
      "text/html": [
       "\n",
       "  <div id=\"df-c1284e14-f4c4-4c4c-86cf-98f35d067792\">\n",
       "    <div class=\"colab-df-container\">\n",
       "      <div>\n",
       "<style scoped>\n",
       "    .dataframe tbody tr th:only-of-type {\n",
       "        vertical-align: middle;\n",
       "    }\n",
       "\n",
       "    .dataframe tbody tr th {\n",
       "        vertical-align: top;\n",
       "    }\n",
       "\n",
       "    .dataframe thead th {\n",
       "        text-align: right;\n",
       "    }\n",
       "</style>\n",
       "<table border=\"1\" class=\"dataframe\">\n",
       "  <thead>\n",
       "    <tr style=\"text-align: right;\">\n",
       "      <th></th>\n",
       "      <th>spl_og_mou_6</th>\n",
       "      <th>spl_og_mou_7</th>\n",
       "    </tr>\n",
       "    <tr>\n",
       "      <th>churn</th>\n",
       "      <th></th>\n",
       "      <th></th>\n",
       "    </tr>\n",
       "  </thead>\n",
       "  <tbody>\n",
       "    <tr>\n",
       "      <th>0</th>\n",
       "      <td>44330.61</td>\n",
       "      <td>54365.77</td>\n",
       "    </tr>\n",
       "    <tr>\n",
       "      <th>1</th>\n",
       "      <td>2919.80</td>\n",
       "      <td>2565.16</td>\n",
       "    </tr>\n",
       "  </tbody>\n",
       "</table>\n",
       "</div>\n",
       "      <button class=\"colab-df-convert\" onclick=\"convertToInteractive('df-c1284e14-f4c4-4c4c-86cf-98f35d067792')\"\n",
       "              title=\"Convert this dataframe to an interactive table.\"\n",
       "              style=\"display:none;\">\n",
       "        \n",
       "  <svg xmlns=\"http://www.w3.org/2000/svg\" height=\"24px\"viewBox=\"0 0 24 24\"\n",
       "       width=\"24px\">\n",
       "    <path d=\"M0 0h24v24H0V0z\" fill=\"none\"/>\n",
       "    <path d=\"M18.56 5.44l.94 2.06.94-2.06 2.06-.94-2.06-.94-.94-2.06-.94 2.06-2.06.94zm-11 1L8.5 8.5l.94-2.06 2.06-.94-2.06-.94L8.5 2.5l-.94 2.06-2.06.94zm10 10l.94 2.06.94-2.06 2.06-.94-2.06-.94-.94-2.06-.94 2.06-2.06.94z\"/><path d=\"M17.41 7.96l-1.37-1.37c-.4-.4-.92-.59-1.43-.59-.52 0-1.04.2-1.43.59L10.3 9.45l-7.72 7.72c-.78.78-.78 2.05 0 2.83L4 21.41c.39.39.9.59 1.41.59.51 0 1.02-.2 1.41-.59l7.78-7.78 2.81-2.81c.8-.78.8-2.07 0-2.86zM5.41 20L4 18.59l7.72-7.72 1.47 1.35L5.41 20z\"/>\n",
       "  </svg>\n",
       "      </button>\n",
       "      \n",
       "  <style>\n",
       "    .colab-df-container {\n",
       "      display:flex;\n",
       "      flex-wrap:wrap;\n",
       "      gap: 12px;\n",
       "    }\n",
       "\n",
       "    .colab-df-convert {\n",
       "      background-color: #E8F0FE;\n",
       "      border: none;\n",
       "      border-radius: 50%;\n",
       "      cursor: pointer;\n",
       "      display: none;\n",
       "      fill: #1967D2;\n",
       "      height: 32px;\n",
       "      padding: 0 0 0 0;\n",
       "      width: 32px;\n",
       "    }\n",
       "\n",
       "    .colab-df-convert:hover {\n",
       "      background-color: #E2EBFA;\n",
       "      box-shadow: 0px 1px 2px rgba(60, 64, 67, 0.3), 0px 1px 3px 1px rgba(60, 64, 67, 0.15);\n",
       "      fill: #174EA6;\n",
       "    }\n",
       "\n",
       "    [theme=dark] .colab-df-convert {\n",
       "      background-color: #3B4455;\n",
       "      fill: #D2E3FC;\n",
       "    }\n",
       "\n",
       "    [theme=dark] .colab-df-convert:hover {\n",
       "      background-color: #434B5C;\n",
       "      box-shadow: 0px 1px 3px 1px rgba(0, 0, 0, 0.15);\n",
       "      filter: drop-shadow(0px 1px 2px rgba(0, 0, 0, 0.3));\n",
       "      fill: #FFFFFF;\n",
       "    }\n",
       "  </style>\n",
       "\n",
       "      <script>\n",
       "        const buttonEl =\n",
       "          document.querySelector('#df-c1284e14-f4c4-4c4c-86cf-98f35d067792 button.colab-df-convert');\n",
       "        buttonEl.style.display =\n",
       "          google.colab.kernel.accessAllowed ? 'block' : 'none';\n",
       "\n",
       "        async function convertToInteractive(key) {\n",
       "          const element = document.querySelector('#df-c1284e14-f4c4-4c4c-86cf-98f35d067792');\n",
       "          const dataTable =\n",
       "            await google.colab.kernel.invokeFunction('convertToInteractive',\n",
       "                                                     [key], {});\n",
       "          if (!dataTable) return;\n",
       "\n",
       "          const docLinkHtml = 'Like what you see? Visit the ' +\n",
       "            '<a target=\"_blank\" href=https://colab.research.google.com/notebooks/data_table.ipynb>data table notebook</a>'\n",
       "            + ' to learn more about interactive tables.';\n",
       "          element.innerHTML = '';\n",
       "          dataTable['output_type'] = 'display_data';\n",
       "          await google.colab.output.renderOutput(dataTable, element);\n",
       "          const docLink = document.createElement('div');\n",
       "          docLink.innerHTML = docLinkHtml;\n",
       "          element.appendChild(docLink);\n",
       "        }\n",
       "      </script>\n",
       "    </div>\n",
       "  </div>\n",
       "  "
      ],
      "text/plain": [
       "       spl_og_mou_6  spl_og_mou_7\n",
       "churn                            \n",
       "0          44330.61      54365.77\n",
       "1           2919.80       2565.16"
      ]
     },
     "execution_count": 231,
     "metadata": {},
     "output_type": "execute_result"
    }
   ],
   "source": [
    "# Let us observe the special minutes of usage per month for both churn and non churn\n",
    "# customers\n",
    "hg_val_cust.groupby(['churn'])['spl_og_mou_6', 'spl_og_mou_7'].sum()"
   ]
  },
  {
   "cell_type": "markdown",
   "metadata": {
    "id": "D6nZhI96WDQw"
   },
   "source": [
    "From the above table it is evident that the special outgoing minutes of usage for the churned customers has reduced in the month of July compared to June"
   ]
  },
  {
   "cell_type": "markdown",
   "metadata": {
    "id": "IZWj3_2fWDQw"
   },
   "source": []
  },
  {
   "cell_type": "code",
   "execution_count": 232,
   "metadata": {
    "colab": {
     "base_uri": "https://localhost:8080/",
     "height": 144
    },
    "id": "ZwlwnKQWWDQw",
    "outputId": "9db17cb1-790f-411c-e845-1d2abb8b0ff1"
   },
   "outputs": [
    {
     "data": {
      "text/html": [
       "\n",
       "  <div id=\"df-188e31ac-3297-4140-81bf-49fb8504eefe\">\n",
       "    <div class=\"colab-df-container\">\n",
       "      <div>\n",
       "<style scoped>\n",
       "    .dataframe tbody tr th:only-of-type {\n",
       "        vertical-align: middle;\n",
       "    }\n",
       "\n",
       "    .dataframe tbody tr th {\n",
       "        vertical-align: top;\n",
       "    }\n",
       "\n",
       "    .dataframe thead th {\n",
       "        text-align: right;\n",
       "    }\n",
       "</style>\n",
       "<table border=\"1\" class=\"dataframe\">\n",
       "  <thead>\n",
       "    <tr style=\"text-align: right;\">\n",
       "      <th></th>\n",
       "      <th>total_ic_mou_6</th>\n",
       "      <th>total_ic_mou_7</th>\n",
       "    </tr>\n",
       "    <tr>\n",
       "      <th>churn</th>\n",
       "      <th></th>\n",
       "      <th></th>\n",
       "    </tr>\n",
       "  </thead>\n",
       "  <tbody>\n",
       "    <tr>\n",
       "      <th>0</th>\n",
       "      <td>291.323519</td>\n",
       "      <td>300.142110</td>\n",
       "    </tr>\n",
       "    <tr>\n",
       "      <th>1</th>\n",
       "      <td>186.107281</td>\n",
       "      <td>91.198951</td>\n",
       "    </tr>\n",
       "  </tbody>\n",
       "</table>\n",
       "</div>\n",
       "      <button class=\"colab-df-convert\" onclick=\"convertToInteractive('df-188e31ac-3297-4140-81bf-49fb8504eefe')\"\n",
       "              title=\"Convert this dataframe to an interactive table.\"\n",
       "              style=\"display:none;\">\n",
       "        \n",
       "  <svg xmlns=\"http://www.w3.org/2000/svg\" height=\"24px\"viewBox=\"0 0 24 24\"\n",
       "       width=\"24px\">\n",
       "    <path d=\"M0 0h24v24H0V0z\" fill=\"none\"/>\n",
       "    <path d=\"M18.56 5.44l.94 2.06.94-2.06 2.06-.94-2.06-.94-.94-2.06-.94 2.06-2.06.94zm-11 1L8.5 8.5l.94-2.06 2.06-.94-2.06-.94L8.5 2.5l-.94 2.06-2.06.94zm10 10l.94 2.06.94-2.06 2.06-.94-2.06-.94-.94-2.06-.94 2.06-2.06.94z\"/><path d=\"M17.41 7.96l-1.37-1.37c-.4-.4-.92-.59-1.43-.59-.52 0-1.04.2-1.43.59L10.3 9.45l-7.72 7.72c-.78.78-.78 2.05 0 2.83L4 21.41c.39.39.9.59 1.41.59.51 0 1.02-.2 1.41-.59l7.78-7.78 2.81-2.81c.8-.78.8-2.07 0-2.86zM5.41 20L4 18.59l7.72-7.72 1.47 1.35L5.41 20z\"/>\n",
       "  </svg>\n",
       "      </button>\n",
       "      \n",
       "  <style>\n",
       "    .colab-df-container {\n",
       "      display:flex;\n",
       "      flex-wrap:wrap;\n",
       "      gap: 12px;\n",
       "    }\n",
       "\n",
       "    .colab-df-convert {\n",
       "      background-color: #E8F0FE;\n",
       "      border: none;\n",
       "      border-radius: 50%;\n",
       "      cursor: pointer;\n",
       "      display: none;\n",
       "      fill: #1967D2;\n",
       "      height: 32px;\n",
       "      padding: 0 0 0 0;\n",
       "      width: 32px;\n",
       "    }\n",
       "\n",
       "    .colab-df-convert:hover {\n",
       "      background-color: #E2EBFA;\n",
       "      box-shadow: 0px 1px 2px rgba(60, 64, 67, 0.3), 0px 1px 3px 1px rgba(60, 64, 67, 0.15);\n",
       "      fill: #174EA6;\n",
       "    }\n",
       "\n",
       "    [theme=dark] .colab-df-convert {\n",
       "      background-color: #3B4455;\n",
       "      fill: #D2E3FC;\n",
       "    }\n",
       "\n",
       "    [theme=dark] .colab-df-convert:hover {\n",
       "      background-color: #434B5C;\n",
       "      box-shadow: 0px 1px 3px 1px rgba(0, 0, 0, 0.15);\n",
       "      filter: drop-shadow(0px 1px 2px rgba(0, 0, 0, 0.3));\n",
       "      fill: #FFFFFF;\n",
       "    }\n",
       "  </style>\n",
       "\n",
       "      <script>\n",
       "        const buttonEl =\n",
       "          document.querySelector('#df-188e31ac-3297-4140-81bf-49fb8504eefe button.colab-df-convert');\n",
       "        buttonEl.style.display =\n",
       "          google.colab.kernel.accessAllowed ? 'block' : 'none';\n",
       "\n",
       "        async function convertToInteractive(key) {\n",
       "          const element = document.querySelector('#df-188e31ac-3297-4140-81bf-49fb8504eefe');\n",
       "          const dataTable =\n",
       "            await google.colab.kernel.invokeFunction('convertToInteractive',\n",
       "                                                     [key], {});\n",
       "          if (!dataTable) return;\n",
       "\n",
       "          const docLinkHtml = 'Like what you see? Visit the ' +\n",
       "            '<a target=\"_blank\" href=https://colab.research.google.com/notebooks/data_table.ipynb>data table notebook</a>'\n",
       "            + ' to learn more about interactive tables.';\n",
       "          element.innerHTML = '';\n",
       "          dataTable['output_type'] = 'display_data';\n",
       "          await google.colab.output.renderOutput(dataTable, element);\n",
       "          const docLink = document.createElement('div');\n",
       "          docLink.innerHTML = docLinkHtml;\n",
       "          element.appendChild(docLink);\n",
       "        }\n",
       "      </script>\n",
       "    </div>\n",
       "  </div>\n",
       "  "
      ],
      "text/plain": [
       "       total_ic_mou_6  total_ic_mou_7\n",
       "churn                                \n",
       "0          291.323519      300.142110\n",
       "1          186.107281       91.198951"
      ]
     },
     "execution_count": 232,
     "metadata": {},
     "output_type": "execute_result"
    }
   ],
   "source": [
    "# Let us compare the total incoming MOU of churn and non-churn customers for the month of\n",
    "# June and July\n",
    "hg_val_cust.groupby(['churn'])['total_ic_mou_6', 'total_ic_mou_7'].mean()\n"
   ]
  },
  {
   "cell_type": "markdown",
   "metadata": {
    "id": "yqdAWsl3WDQw"
   },
   "source": [
    "We can observe that the total incoming mou for the churned customers in the month of July is lesser than the June month compared to non-churn customers"
   ]
  },
  {
   "cell_type": "code",
   "execution_count": 233,
   "metadata": {
    "colab": {
     "base_uri": "https://localhost:8080/",
     "height": 144
    },
    "id": "utlFy90QWDQx",
    "outputId": "c6a04e40-c14f-4855-8928-c2bf9ab25b32"
   },
   "outputs": [
    {
     "data": {
      "text/html": [
       "\n",
       "  <div id=\"df-eb0a11fa-ef26-4d12-b562-3f0201ad7d0d\">\n",
       "    <div class=\"colab-df-container\">\n",
       "      <div>\n",
       "<style scoped>\n",
       "    .dataframe tbody tr th:only-of-type {\n",
       "        vertical-align: middle;\n",
       "    }\n",
       "\n",
       "    .dataframe tbody tr th {\n",
       "        vertical-align: top;\n",
       "    }\n",
       "\n",
       "    .dataframe thead th {\n",
       "        text-align: right;\n",
       "    }\n",
       "</style>\n",
       "<table border=\"1\" class=\"dataframe\">\n",
       "  <thead>\n",
       "    <tr style=\"text-align: right;\">\n",
       "      <th></th>\n",
       "      <th>total_og_mou_6</th>\n",
       "      <th>total_og_mou_7</th>\n",
       "    </tr>\n",
       "    <tr>\n",
       "      <th>churn</th>\n",
       "      <th></th>\n",
       "      <th></th>\n",
       "    </tr>\n",
       "  </thead>\n",
       "  <tbody>\n",
       "    <tr>\n",
       "      <th>0</th>\n",
       "      <td>601.575213</td>\n",
       "      <td>639.268273</td>\n",
       "    </tr>\n",
       "    <tr>\n",
       "      <th>1</th>\n",
       "      <td>804.914625</td>\n",
       "      <td>392.707259</td>\n",
       "    </tr>\n",
       "  </tbody>\n",
       "</table>\n",
       "</div>\n",
       "      <button class=\"colab-df-convert\" onclick=\"convertToInteractive('df-eb0a11fa-ef26-4d12-b562-3f0201ad7d0d')\"\n",
       "              title=\"Convert this dataframe to an interactive table.\"\n",
       "              style=\"display:none;\">\n",
       "        \n",
       "  <svg xmlns=\"http://www.w3.org/2000/svg\" height=\"24px\"viewBox=\"0 0 24 24\"\n",
       "       width=\"24px\">\n",
       "    <path d=\"M0 0h24v24H0V0z\" fill=\"none\"/>\n",
       "    <path d=\"M18.56 5.44l.94 2.06.94-2.06 2.06-.94-2.06-.94-.94-2.06-.94 2.06-2.06.94zm-11 1L8.5 8.5l.94-2.06 2.06-.94-2.06-.94L8.5 2.5l-.94 2.06-2.06.94zm10 10l.94 2.06.94-2.06 2.06-.94-2.06-.94-.94-2.06-.94 2.06-2.06.94z\"/><path d=\"M17.41 7.96l-1.37-1.37c-.4-.4-.92-.59-1.43-.59-.52 0-1.04.2-1.43.59L10.3 9.45l-7.72 7.72c-.78.78-.78 2.05 0 2.83L4 21.41c.39.39.9.59 1.41.59.51 0 1.02-.2 1.41-.59l7.78-7.78 2.81-2.81c.8-.78.8-2.07 0-2.86zM5.41 20L4 18.59l7.72-7.72 1.47 1.35L5.41 20z\"/>\n",
       "  </svg>\n",
       "      </button>\n",
       "      \n",
       "  <style>\n",
       "    .colab-df-container {\n",
       "      display:flex;\n",
       "      flex-wrap:wrap;\n",
       "      gap: 12px;\n",
       "    }\n",
       "\n",
       "    .colab-df-convert {\n",
       "      background-color: #E8F0FE;\n",
       "      border: none;\n",
       "      border-radius: 50%;\n",
       "      cursor: pointer;\n",
       "      display: none;\n",
       "      fill: #1967D2;\n",
       "      height: 32px;\n",
       "      padding: 0 0 0 0;\n",
       "      width: 32px;\n",
       "    }\n",
       "\n",
       "    .colab-df-convert:hover {\n",
       "      background-color: #E2EBFA;\n",
       "      box-shadow: 0px 1px 2px rgba(60, 64, 67, 0.3), 0px 1px 3px 1px rgba(60, 64, 67, 0.15);\n",
       "      fill: #174EA6;\n",
       "    }\n",
       "\n",
       "    [theme=dark] .colab-df-convert {\n",
       "      background-color: #3B4455;\n",
       "      fill: #D2E3FC;\n",
       "    }\n",
       "\n",
       "    [theme=dark] .colab-df-convert:hover {\n",
       "      background-color: #434B5C;\n",
       "      box-shadow: 0px 1px 3px 1px rgba(0, 0, 0, 0.15);\n",
       "      filter: drop-shadow(0px 1px 2px rgba(0, 0, 0, 0.3));\n",
       "      fill: #FFFFFF;\n",
       "    }\n",
       "  </style>\n",
       "\n",
       "      <script>\n",
       "        const buttonEl =\n",
       "          document.querySelector('#df-eb0a11fa-ef26-4d12-b562-3f0201ad7d0d button.colab-df-convert');\n",
       "        buttonEl.style.display =\n",
       "          google.colab.kernel.accessAllowed ? 'block' : 'none';\n",
       "\n",
       "        async function convertToInteractive(key) {\n",
       "          const element = document.querySelector('#df-eb0a11fa-ef26-4d12-b562-3f0201ad7d0d');\n",
       "          const dataTable =\n",
       "            await google.colab.kernel.invokeFunction('convertToInteractive',\n",
       "                                                     [key], {});\n",
       "          if (!dataTable) return;\n",
       "\n",
       "          const docLinkHtml = 'Like what you see? Visit the ' +\n",
       "            '<a target=\"_blank\" href=https://colab.research.google.com/notebooks/data_table.ipynb>data table notebook</a>'\n",
       "            + ' to learn more about interactive tables.';\n",
       "          element.innerHTML = '';\n",
       "          dataTable['output_type'] = 'display_data';\n",
       "          await google.colab.output.renderOutput(dataTable, element);\n",
       "          const docLink = document.createElement('div');\n",
       "          docLink.innerHTML = docLinkHtml;\n",
       "          element.appendChild(docLink);\n",
       "        }\n",
       "      </script>\n",
       "    </div>\n",
       "  </div>\n",
       "  "
      ],
      "text/plain": [
       "       total_og_mou_6  total_og_mou_7\n",
       "churn                                \n",
       "0          601.575213      639.268273\n",
       "1          804.914625      392.707259"
      ]
     },
     "execution_count": 233,
     "metadata": {},
     "output_type": "execute_result"
    }
   ],
   "source": [
    "# Let us compare the total outgoing MOU of churn and non-churn customers for the month of\n",
    "# June and July\n",
    "hg_val_cust.groupby(['churn'])['total_og_mou_6', 'total_og_mou_7'].mean()\n"
   ]
  },
  {
   "cell_type": "code",
   "execution_count": 233,
   "metadata": {
    "id": "u7hwzNwGWDQx"
   },
   "outputs": [],
   "source": []
  },
  {
   "cell_type": "markdown",
   "metadata": {
    "id": "i0_Sg6zvWDQx"
   },
   "source": [
    "We can observe that the total outgoing mou for the churned customers in the month of July is lesser than the June month compared to non-churn customers"
   ]
  },
  {
   "cell_type": "code",
   "execution_count": 234,
   "metadata": {
    "colab": {
     "base_uri": "https://localhost:8080/",
     "height": 144
    },
    "id": "yqHO4fP-WDQy",
    "outputId": "a673613c-d162-44f2-8da5-691fc72e896a"
   },
   "outputs": [
    {
     "data": {
      "text/html": [
       "\n",
       "  <div id=\"df-a416a1fc-fb3d-4c05-b90b-acaafbf7c37d\">\n",
       "    <div class=\"colab-df-container\">\n",
       "      <div>\n",
       "<style scoped>\n",
       "    .dataframe tbody tr th:only-of-type {\n",
       "        vertical-align: middle;\n",
       "    }\n",
       "\n",
       "    .dataframe tbody tr th {\n",
       "        vertical-align: top;\n",
       "    }\n",
       "\n",
       "    .dataframe thead th {\n",
       "        text-align: right;\n",
       "    }\n",
       "</style>\n",
       "<table border=\"1\" class=\"dataframe\">\n",
       "  <thead>\n",
       "    <tr style=\"text-align: right;\">\n",
       "      <th></th>\n",
       "      <th>total_rech_amt_6</th>\n",
       "      <th>total_rech_amt_7</th>\n",
       "    </tr>\n",
       "    <tr>\n",
       "      <th>churn</th>\n",
       "      <th></th>\n",
       "      <th></th>\n",
       "    </tr>\n",
       "  </thead>\n",
       "  <tbody>\n",
       "    <tr>\n",
       "      <th>0</th>\n",
       "      <td>645.315319</td>\n",
       "      <td>659.257754</td>\n",
       "    </tr>\n",
       "    <tr>\n",
       "      <th>1</th>\n",
       "      <td>841.588865</td>\n",
       "      <td>473.976445</td>\n",
       "    </tr>\n",
       "  </tbody>\n",
       "</table>\n",
       "</div>\n",
       "      <button class=\"colab-df-convert\" onclick=\"convertToInteractive('df-a416a1fc-fb3d-4c05-b90b-acaafbf7c37d')\"\n",
       "              title=\"Convert this dataframe to an interactive table.\"\n",
       "              style=\"display:none;\">\n",
       "        \n",
       "  <svg xmlns=\"http://www.w3.org/2000/svg\" height=\"24px\"viewBox=\"0 0 24 24\"\n",
       "       width=\"24px\">\n",
       "    <path d=\"M0 0h24v24H0V0z\" fill=\"none\"/>\n",
       "    <path d=\"M18.56 5.44l.94 2.06.94-2.06 2.06-.94-2.06-.94-.94-2.06-.94 2.06-2.06.94zm-11 1L8.5 8.5l.94-2.06 2.06-.94-2.06-.94L8.5 2.5l-.94 2.06-2.06.94zm10 10l.94 2.06.94-2.06 2.06-.94-2.06-.94-.94-2.06-.94 2.06-2.06.94z\"/><path d=\"M17.41 7.96l-1.37-1.37c-.4-.4-.92-.59-1.43-.59-.52 0-1.04.2-1.43.59L10.3 9.45l-7.72 7.72c-.78.78-.78 2.05 0 2.83L4 21.41c.39.39.9.59 1.41.59.51 0 1.02-.2 1.41-.59l7.78-7.78 2.81-2.81c.8-.78.8-2.07 0-2.86zM5.41 20L4 18.59l7.72-7.72 1.47 1.35L5.41 20z\"/>\n",
       "  </svg>\n",
       "      </button>\n",
       "      \n",
       "  <style>\n",
       "    .colab-df-container {\n",
       "      display:flex;\n",
       "      flex-wrap:wrap;\n",
       "      gap: 12px;\n",
       "    }\n",
       "\n",
       "    .colab-df-convert {\n",
       "      background-color: #E8F0FE;\n",
       "      border: none;\n",
       "      border-radius: 50%;\n",
       "      cursor: pointer;\n",
       "      display: none;\n",
       "      fill: #1967D2;\n",
       "      height: 32px;\n",
       "      padding: 0 0 0 0;\n",
       "      width: 32px;\n",
       "    }\n",
       "\n",
       "    .colab-df-convert:hover {\n",
       "      background-color: #E2EBFA;\n",
       "      box-shadow: 0px 1px 2px rgba(60, 64, 67, 0.3), 0px 1px 3px 1px rgba(60, 64, 67, 0.15);\n",
       "      fill: #174EA6;\n",
       "    }\n",
       "\n",
       "    [theme=dark] .colab-df-convert {\n",
       "      background-color: #3B4455;\n",
       "      fill: #D2E3FC;\n",
       "    }\n",
       "\n",
       "    [theme=dark] .colab-df-convert:hover {\n",
       "      background-color: #434B5C;\n",
       "      box-shadow: 0px 1px 3px 1px rgba(0, 0, 0, 0.15);\n",
       "      filter: drop-shadow(0px 1px 2px rgba(0, 0, 0, 0.3));\n",
       "      fill: #FFFFFF;\n",
       "    }\n",
       "  </style>\n",
       "\n",
       "      <script>\n",
       "        const buttonEl =\n",
       "          document.querySelector('#df-a416a1fc-fb3d-4c05-b90b-acaafbf7c37d button.colab-df-convert');\n",
       "        buttonEl.style.display =\n",
       "          google.colab.kernel.accessAllowed ? 'block' : 'none';\n",
       "\n",
       "        async function convertToInteractive(key) {\n",
       "          const element = document.querySelector('#df-a416a1fc-fb3d-4c05-b90b-acaafbf7c37d');\n",
       "          const dataTable =\n",
       "            await google.colab.kernel.invokeFunction('convertToInteractive',\n",
       "                                                     [key], {});\n",
       "          if (!dataTable) return;\n",
       "\n",
       "          const docLinkHtml = 'Like what you see? Visit the ' +\n",
       "            '<a target=\"_blank\" href=https://colab.research.google.com/notebooks/data_table.ipynb>data table notebook</a>'\n",
       "            + ' to learn more about interactive tables.';\n",
       "          element.innerHTML = '';\n",
       "          dataTable['output_type'] = 'display_data';\n",
       "          await google.colab.output.renderOutput(dataTable, element);\n",
       "          const docLink = document.createElement('div');\n",
       "          docLink.innerHTML = docLinkHtml;\n",
       "          element.appendChild(docLink);\n",
       "        }\n",
       "      </script>\n",
       "    </div>\n",
       "  </div>\n",
       "  "
      ],
      "text/plain": [
       "       total_rech_amt_6  total_rech_amt_7\n",
       "churn                                    \n",
       "0            645.315319        659.257754\n",
       "1            841.588865        473.976445"
      ]
     },
     "execution_count": 234,
     "metadata": {},
     "output_type": "execute_result"
    }
   ],
   "source": [
    "# Let us compare the total recharge amount of churn and non-churn customers for the month of\n",
    "# June and July\n",
    "hg_val_cust.groupby(['churn'])['total_rech_amt_6', 'total_rech_amt_7'].mean()\n"
   ]
  },
  {
   "cell_type": "markdown",
   "metadata": {
    "id": "XGlMjTTqWDQy"
   },
   "source": [
    "We can observe that the total recharge amount of churn customers has reduced in the month of July compared to June"
   ]
  },
  {
   "cell_type": "code",
   "execution_count": 235,
   "metadata": {
    "colab": {
     "base_uri": "https://localhost:8080/",
     "height": 144
    },
    "id": "--loh03EWDQy",
    "outputId": "5e30313d-b3c2-417b-8ebb-4116ddc679ea"
   },
   "outputs": [
    {
     "data": {
      "text/html": [
       "\n",
       "  <div id=\"df-fc58d22c-67a0-4ae8-b665-1afffae0b647\">\n",
       "    <div class=\"colab-df-container\">\n",
       "      <div>\n",
       "<style scoped>\n",
       "    .dataframe tbody tr th:only-of-type {\n",
       "        vertical-align: middle;\n",
       "    }\n",
       "\n",
       "    .dataframe tbody tr th {\n",
       "        vertical-align: top;\n",
       "    }\n",
       "\n",
       "    .dataframe thead th {\n",
       "        text-align: right;\n",
       "    }\n",
       "</style>\n",
       "<table border=\"1\" class=\"dataframe\">\n",
       "  <thead>\n",
       "    <tr style=\"text-align: right;\">\n",
       "      <th></th>\n",
       "      <th>roam_og_mou_6</th>\n",
       "      <th>roam_og_mou_7</th>\n",
       "    </tr>\n",
       "    <tr>\n",
       "      <th>churn</th>\n",
       "      <th></th>\n",
       "      <th></th>\n",
       "    </tr>\n",
       "  </thead>\n",
       "  <tbody>\n",
       "    <tr>\n",
       "      <th>0</th>\n",
       "      <td>25.975064</td>\n",
       "      <td>18.44084</td>\n",
       "    </tr>\n",
       "    <tr>\n",
       "      <th>1</th>\n",
       "      <td>57.095974</td>\n",
       "      <td>62.37651</td>\n",
       "    </tr>\n",
       "  </tbody>\n",
       "</table>\n",
       "</div>\n",
       "      <button class=\"colab-df-convert\" onclick=\"convertToInteractive('df-fc58d22c-67a0-4ae8-b665-1afffae0b647')\"\n",
       "              title=\"Convert this dataframe to an interactive table.\"\n",
       "              style=\"display:none;\">\n",
       "        \n",
       "  <svg xmlns=\"http://www.w3.org/2000/svg\" height=\"24px\"viewBox=\"0 0 24 24\"\n",
       "       width=\"24px\">\n",
       "    <path d=\"M0 0h24v24H0V0z\" fill=\"none\"/>\n",
       "    <path d=\"M18.56 5.44l.94 2.06.94-2.06 2.06-.94-2.06-.94-.94-2.06-.94 2.06-2.06.94zm-11 1L8.5 8.5l.94-2.06 2.06-.94-2.06-.94L8.5 2.5l-.94 2.06-2.06.94zm10 10l.94 2.06.94-2.06 2.06-.94-2.06-.94-.94-2.06-.94 2.06-2.06.94z\"/><path d=\"M17.41 7.96l-1.37-1.37c-.4-.4-.92-.59-1.43-.59-.52 0-1.04.2-1.43.59L10.3 9.45l-7.72 7.72c-.78.78-.78 2.05 0 2.83L4 21.41c.39.39.9.59 1.41.59.51 0 1.02-.2 1.41-.59l7.78-7.78 2.81-2.81c.8-.78.8-2.07 0-2.86zM5.41 20L4 18.59l7.72-7.72 1.47 1.35L5.41 20z\"/>\n",
       "  </svg>\n",
       "      </button>\n",
       "      \n",
       "  <style>\n",
       "    .colab-df-container {\n",
       "      display:flex;\n",
       "      flex-wrap:wrap;\n",
       "      gap: 12px;\n",
       "    }\n",
       "\n",
       "    .colab-df-convert {\n",
       "      background-color: #E8F0FE;\n",
       "      border: none;\n",
       "      border-radius: 50%;\n",
       "      cursor: pointer;\n",
       "      display: none;\n",
       "      fill: #1967D2;\n",
       "      height: 32px;\n",
       "      padding: 0 0 0 0;\n",
       "      width: 32px;\n",
       "    }\n",
       "\n",
       "    .colab-df-convert:hover {\n",
       "      background-color: #E2EBFA;\n",
       "      box-shadow: 0px 1px 2px rgba(60, 64, 67, 0.3), 0px 1px 3px 1px rgba(60, 64, 67, 0.15);\n",
       "      fill: #174EA6;\n",
       "    }\n",
       "\n",
       "    [theme=dark] .colab-df-convert {\n",
       "      background-color: #3B4455;\n",
       "      fill: #D2E3FC;\n",
       "    }\n",
       "\n",
       "    [theme=dark] .colab-df-convert:hover {\n",
       "      background-color: #434B5C;\n",
       "      box-shadow: 0px 1px 3px 1px rgba(0, 0, 0, 0.15);\n",
       "      filter: drop-shadow(0px 1px 2px rgba(0, 0, 0, 0.3));\n",
       "      fill: #FFFFFF;\n",
       "    }\n",
       "  </style>\n",
       "\n",
       "      <script>\n",
       "        const buttonEl =\n",
       "          document.querySelector('#df-fc58d22c-67a0-4ae8-b665-1afffae0b647 button.colab-df-convert');\n",
       "        buttonEl.style.display =\n",
       "          google.colab.kernel.accessAllowed ? 'block' : 'none';\n",
       "\n",
       "        async function convertToInteractive(key) {\n",
       "          const element = document.querySelector('#df-fc58d22c-67a0-4ae8-b665-1afffae0b647');\n",
       "          const dataTable =\n",
       "            await google.colab.kernel.invokeFunction('convertToInteractive',\n",
       "                                                     [key], {});\n",
       "          if (!dataTable) return;\n",
       "\n",
       "          const docLinkHtml = 'Like what you see? Visit the ' +\n",
       "            '<a target=\"_blank\" href=https://colab.research.google.com/notebooks/data_table.ipynb>data table notebook</a>'\n",
       "            + ' to learn more about interactive tables.';\n",
       "          element.innerHTML = '';\n",
       "          dataTable['output_type'] = 'display_data';\n",
       "          await google.colab.output.renderOutput(dataTable, element);\n",
       "          const docLink = document.createElement('div');\n",
       "          docLink.innerHTML = docLinkHtml;\n",
       "          element.appendChild(docLink);\n",
       "        }\n",
       "      </script>\n",
       "    </div>\n",
       "  </div>\n",
       "  "
      ],
      "text/plain": [
       "       roam_og_mou_6  roam_og_mou_7\n",
       "churn                              \n",
       "0          25.975064       18.44084\n",
       "1          57.095974       62.37651"
      ]
     },
     "execution_count": 235,
     "metadata": {},
     "output_type": "execute_result"
    }
   ],
   "source": [
    "# Let us compare the roaming outgoing mou of churn and non-churn customers for the month of\n",
    "# June and July\n",
    "hg_val_cust.groupby(['churn'])['roam_og_mou_6', 'roam_og_mou_7'].mean()\n"
   ]
  },
  {
   "cell_type": "code",
   "execution_count": 236,
   "metadata": {
    "colab": {
     "base_uri": "https://localhost:8080/",
     "height": 144
    },
    "id": "JXtN75ijWDQy",
    "outputId": "9bc405cc-1bf8-4211-8a44-6cc8d7ecef22"
   },
   "outputs": [
    {
     "data": {
      "text/html": [
       "\n",
       "  <div id=\"df-b8a190b3-d169-4fd4-b440-1674087395be\">\n",
       "    <div class=\"colab-df-container\">\n",
       "      <div>\n",
       "<style scoped>\n",
       "    .dataframe tbody tr th:only-of-type {\n",
       "        vertical-align: middle;\n",
       "    }\n",
       "\n",
       "    .dataframe tbody tr th {\n",
       "        vertical-align: top;\n",
       "    }\n",
       "\n",
       "    .dataframe thead th {\n",
       "        text-align: right;\n",
       "    }\n",
       "</style>\n",
       "<table border=\"1\" class=\"dataframe\">\n",
       "  <thead>\n",
       "    <tr style=\"text-align: right;\">\n",
       "      <th></th>\n",
       "      <th>max_rech_amt_6</th>\n",
       "      <th>max_rech_amt_7</th>\n",
       "    </tr>\n",
       "    <tr>\n",
       "      <th>churn</th>\n",
       "      <th></th>\n",
       "      <th></th>\n",
       "    </tr>\n",
       "  </thead>\n",
       "  <tbody>\n",
       "    <tr>\n",
       "      <th>0</th>\n",
       "      <td>164.885548</td>\n",
       "      <td>168.015983</td>\n",
       "    </tr>\n",
       "    <tr>\n",
       "      <th>1</th>\n",
       "      <td>192.635974</td>\n",
       "      <td>164.100642</td>\n",
       "    </tr>\n",
       "  </tbody>\n",
       "</table>\n",
       "</div>\n",
       "      <button class=\"colab-df-convert\" onclick=\"convertToInteractive('df-b8a190b3-d169-4fd4-b440-1674087395be')\"\n",
       "              title=\"Convert this dataframe to an interactive table.\"\n",
       "              style=\"display:none;\">\n",
       "        \n",
       "  <svg xmlns=\"http://www.w3.org/2000/svg\" height=\"24px\"viewBox=\"0 0 24 24\"\n",
       "       width=\"24px\">\n",
       "    <path d=\"M0 0h24v24H0V0z\" fill=\"none\"/>\n",
       "    <path d=\"M18.56 5.44l.94 2.06.94-2.06 2.06-.94-2.06-.94-.94-2.06-.94 2.06-2.06.94zm-11 1L8.5 8.5l.94-2.06 2.06-.94-2.06-.94L8.5 2.5l-.94 2.06-2.06.94zm10 10l.94 2.06.94-2.06 2.06-.94-2.06-.94-.94-2.06-.94 2.06-2.06.94z\"/><path d=\"M17.41 7.96l-1.37-1.37c-.4-.4-.92-.59-1.43-.59-.52 0-1.04.2-1.43.59L10.3 9.45l-7.72 7.72c-.78.78-.78 2.05 0 2.83L4 21.41c.39.39.9.59 1.41.59.51 0 1.02-.2 1.41-.59l7.78-7.78 2.81-2.81c.8-.78.8-2.07 0-2.86zM5.41 20L4 18.59l7.72-7.72 1.47 1.35L5.41 20z\"/>\n",
       "  </svg>\n",
       "      </button>\n",
       "      \n",
       "  <style>\n",
       "    .colab-df-container {\n",
       "      display:flex;\n",
       "      flex-wrap:wrap;\n",
       "      gap: 12px;\n",
       "    }\n",
       "\n",
       "    .colab-df-convert {\n",
       "      background-color: #E8F0FE;\n",
       "      border: none;\n",
       "      border-radius: 50%;\n",
       "      cursor: pointer;\n",
       "      display: none;\n",
       "      fill: #1967D2;\n",
       "      height: 32px;\n",
       "      padding: 0 0 0 0;\n",
       "      width: 32px;\n",
       "    }\n",
       "\n",
       "    .colab-df-convert:hover {\n",
       "      background-color: #E2EBFA;\n",
       "      box-shadow: 0px 1px 2px rgba(60, 64, 67, 0.3), 0px 1px 3px 1px rgba(60, 64, 67, 0.15);\n",
       "      fill: #174EA6;\n",
       "    }\n",
       "\n",
       "    [theme=dark] .colab-df-convert {\n",
       "      background-color: #3B4455;\n",
       "      fill: #D2E3FC;\n",
       "    }\n",
       "\n",
       "    [theme=dark] .colab-df-convert:hover {\n",
       "      background-color: #434B5C;\n",
       "      box-shadow: 0px 1px 3px 1px rgba(0, 0, 0, 0.15);\n",
       "      filter: drop-shadow(0px 1px 2px rgba(0, 0, 0, 0.3));\n",
       "      fill: #FFFFFF;\n",
       "    }\n",
       "  </style>\n",
       "\n",
       "      <script>\n",
       "        const buttonEl =\n",
       "          document.querySelector('#df-b8a190b3-d169-4fd4-b440-1674087395be button.colab-df-convert');\n",
       "        buttonEl.style.display =\n",
       "          google.colab.kernel.accessAllowed ? 'block' : 'none';\n",
       "\n",
       "        async function convertToInteractive(key) {\n",
       "          const element = document.querySelector('#df-b8a190b3-d169-4fd4-b440-1674087395be');\n",
       "          const dataTable =\n",
       "            await google.colab.kernel.invokeFunction('convertToInteractive',\n",
       "                                                     [key], {});\n",
       "          if (!dataTable) return;\n",
       "\n",
       "          const docLinkHtml = 'Like what you see? Visit the ' +\n",
       "            '<a target=\"_blank\" href=https://colab.research.google.com/notebooks/data_table.ipynb>data table notebook</a>'\n",
       "            + ' to learn more about interactive tables.';\n",
       "          element.innerHTML = '';\n",
       "          dataTable['output_type'] = 'display_data';\n",
       "          await google.colab.output.renderOutput(dataTable, element);\n",
       "          const docLink = document.createElement('div');\n",
       "          docLink.innerHTML = docLinkHtml;\n",
       "          element.appendChild(docLink);\n",
       "        }\n",
       "      </script>\n",
       "    </div>\n",
       "  </div>\n",
       "  "
      ],
      "text/plain": [
       "       max_rech_amt_6  max_rech_amt_7\n",
       "churn                                \n",
       "0          164.885548      168.015983\n",
       "1          192.635974      164.100642"
      ]
     },
     "execution_count": 236,
     "metadata": {},
     "output_type": "execute_result"
    }
   ],
   "source": [
    "# Let us compare the maximum recharge amount of churn and non-churn customers for the month of\n",
    "# June and July\n",
    "hg_val_cust.groupby(['churn'])['max_rech_amt_6', 'max_rech_amt_7'].mean()\n"
   ]
  },
  {
   "cell_type": "markdown",
   "metadata": {
    "id": "axvBoQ_gWDQz"
   },
   "source": [
    "From the above table it is evident that the maximum amount of recharge of churn customer has reduced compared to non-churn customers has reduced in the July month from June month"
   ]
  },
  {
   "cell_type": "code",
   "execution_count": 237,
   "metadata": {
    "colab": {
     "base_uri": "https://localhost:8080/",
     "height": 144
    },
    "id": "Qf_2GZyxWDQz",
    "outputId": "a66eb9f3-4a9a-4c76-c41b-37aa97245301"
   },
   "outputs": [
    {
     "data": {
      "text/html": [
       "\n",
       "  <div id=\"df-aa8d1b58-b09f-495e-a5ca-d7d276731792\">\n",
       "    <div class=\"colab-df-container\">\n",
       "      <div>\n",
       "<style scoped>\n",
       "    .dataframe tbody tr th:only-of-type {\n",
       "        vertical-align: middle;\n",
       "    }\n",
       "\n",
       "    .dataframe tbody tr th {\n",
       "        vertical-align: top;\n",
       "    }\n",
       "\n",
       "    .dataframe thead th {\n",
       "        text-align: right;\n",
       "    }\n",
       "</style>\n",
       "<table border=\"1\" class=\"dataframe\">\n",
       "  <thead>\n",
       "    <tr style=\"text-align: right;\">\n",
       "      <th></th>\n",
       "      <th>tot_rech_num_data_6</th>\n",
       "      <th>tot_rech_num_data_7</th>\n",
       "    </tr>\n",
       "    <tr>\n",
       "      <th>churn</th>\n",
       "      <th></th>\n",
       "      <th></th>\n",
       "    </tr>\n",
       "  </thead>\n",
       "  <tbody>\n",
       "    <tr>\n",
       "      <th>0</th>\n",
       "      <td>1.677096</td>\n",
       "      <td>1.932006</td>\n",
       "    </tr>\n",
       "    <tr>\n",
       "      <th>1</th>\n",
       "      <td>1.588865</td>\n",
       "      <td>0.927195</td>\n",
       "    </tr>\n",
       "  </tbody>\n",
       "</table>\n",
       "</div>\n",
       "      <button class=\"colab-df-convert\" onclick=\"convertToInteractive('df-aa8d1b58-b09f-495e-a5ca-d7d276731792')\"\n",
       "              title=\"Convert this dataframe to an interactive table.\"\n",
       "              style=\"display:none;\">\n",
       "        \n",
       "  <svg xmlns=\"http://www.w3.org/2000/svg\" height=\"24px\"viewBox=\"0 0 24 24\"\n",
       "       width=\"24px\">\n",
       "    <path d=\"M0 0h24v24H0V0z\" fill=\"none\"/>\n",
       "    <path d=\"M18.56 5.44l.94 2.06.94-2.06 2.06-.94-2.06-.94-.94-2.06-.94 2.06-2.06.94zm-11 1L8.5 8.5l.94-2.06 2.06-.94-2.06-.94L8.5 2.5l-.94 2.06-2.06.94zm10 10l.94 2.06.94-2.06 2.06-.94-2.06-.94-.94-2.06-.94 2.06-2.06.94z\"/><path d=\"M17.41 7.96l-1.37-1.37c-.4-.4-.92-.59-1.43-.59-.52 0-1.04.2-1.43.59L10.3 9.45l-7.72 7.72c-.78.78-.78 2.05 0 2.83L4 21.41c.39.39.9.59 1.41.59.51 0 1.02-.2 1.41-.59l7.78-7.78 2.81-2.81c.8-.78.8-2.07 0-2.86zM5.41 20L4 18.59l7.72-7.72 1.47 1.35L5.41 20z\"/>\n",
       "  </svg>\n",
       "      </button>\n",
       "      \n",
       "  <style>\n",
       "    .colab-df-container {\n",
       "      display:flex;\n",
       "      flex-wrap:wrap;\n",
       "      gap: 12px;\n",
       "    }\n",
       "\n",
       "    .colab-df-convert {\n",
       "      background-color: #E8F0FE;\n",
       "      border: none;\n",
       "      border-radius: 50%;\n",
       "      cursor: pointer;\n",
       "      display: none;\n",
       "      fill: #1967D2;\n",
       "      height: 32px;\n",
       "      padding: 0 0 0 0;\n",
       "      width: 32px;\n",
       "    }\n",
       "\n",
       "    .colab-df-convert:hover {\n",
       "      background-color: #E2EBFA;\n",
       "      box-shadow: 0px 1px 2px rgba(60, 64, 67, 0.3), 0px 1px 3px 1px rgba(60, 64, 67, 0.15);\n",
       "      fill: #174EA6;\n",
       "    }\n",
       "\n",
       "    [theme=dark] .colab-df-convert {\n",
       "      background-color: #3B4455;\n",
       "      fill: #D2E3FC;\n",
       "    }\n",
       "\n",
       "    [theme=dark] .colab-df-convert:hover {\n",
       "      background-color: #434B5C;\n",
       "      box-shadow: 0px 1px 3px 1px rgba(0, 0, 0, 0.15);\n",
       "      filter: drop-shadow(0px 1px 2px rgba(0, 0, 0, 0.3));\n",
       "      fill: #FFFFFF;\n",
       "    }\n",
       "  </style>\n",
       "\n",
       "      <script>\n",
       "        const buttonEl =\n",
       "          document.querySelector('#df-aa8d1b58-b09f-495e-a5ca-d7d276731792 button.colab-df-convert');\n",
       "        buttonEl.style.display =\n",
       "          google.colab.kernel.accessAllowed ? 'block' : 'none';\n",
       "\n",
       "        async function convertToInteractive(key) {\n",
       "          const element = document.querySelector('#df-aa8d1b58-b09f-495e-a5ca-d7d276731792');\n",
       "          const dataTable =\n",
       "            await google.colab.kernel.invokeFunction('convertToInteractive',\n",
       "                                                     [key], {});\n",
       "          if (!dataTable) return;\n",
       "\n",
       "          const docLinkHtml = 'Like what you see? Visit the ' +\n",
       "            '<a target=\"_blank\" href=https://colab.research.google.com/notebooks/data_table.ipynb>data table notebook</a>'\n",
       "            + ' to learn more about interactive tables.';\n",
       "          element.innerHTML = '';\n",
       "          dataTable['output_type'] = 'display_data';\n",
       "          await google.colab.output.renderOutput(dataTable, element);\n",
       "          const docLink = document.createElement('div');\n",
       "          docLink.innerHTML = docLinkHtml;\n",
       "          element.appendChild(docLink);\n",
       "        }\n",
       "      </script>\n",
       "    </div>\n",
       "  </div>\n",
       "  "
      ],
      "text/plain": [
       "       tot_rech_num_data_6  tot_rech_num_data_7\n",
       "churn                                          \n",
       "0                 1.677096             1.932006\n",
       "1                 1.588865             0.927195"
      ]
     },
     "execution_count": 237,
     "metadata": {},
     "output_type": "execute_result"
    }
   ],
   "source": [
    "# Let us compare the total recharge number of data of churn and non-churn customers for the month of\n",
    "# June and July\n",
    "hg_val_cust.groupby(['churn'])['tot_rech_num_data_6', 'tot_rech_num_data_7'].mean()\n"
   ]
  },
  {
   "cell_type": "markdown",
   "metadata": {
    "id": "gUjRQQfqWDQz"
   },
   "source": [
    "From the above table it is evident that the total number of data recharge of churn customer has reduced compared to non-churn customers has reduced in the July month from June month"
   ]
  },
  {
   "cell_type": "code",
   "execution_count": 238,
   "metadata": {
    "colab": {
     "base_uri": "https://localhost:8080/",
     "height": 144
    },
    "id": "uguFEyUJWDQ0",
    "outputId": "55f97c6b-b5a7-4ced-b990-352b19a52dae"
   },
   "outputs": [
    {
     "data": {
      "text/html": [
       "\n",
       "  <div id=\"df-b244148c-ddb3-44c3-8e1e-695b5f1a3fc4\">\n",
       "    <div class=\"colab-df-container\">\n",
       "      <div>\n",
       "<style scoped>\n",
       "    .dataframe tbody tr th:only-of-type {\n",
       "        vertical-align: middle;\n",
       "    }\n",
       "\n",
       "    .dataframe tbody tr th {\n",
       "        vertical-align: top;\n",
       "    }\n",
       "\n",
       "    .dataframe thead th {\n",
       "        text-align: right;\n",
       "    }\n",
       "</style>\n",
       "<table border=\"1\" class=\"dataframe\">\n",
       "  <thead>\n",
       "    <tr style=\"text-align: right;\">\n",
       "      <th></th>\n",
       "      <th>last_day_rch_amt_6</th>\n",
       "      <th>last_day_rch_amt_7</th>\n",
       "    </tr>\n",
       "    <tr>\n",
       "      <th>churn</th>\n",
       "      <th></th>\n",
       "      <th></th>\n",
       "    </tr>\n",
       "  </thead>\n",
       "  <tbody>\n",
       "    <tr>\n",
       "      <th>0</th>\n",
       "      <td>98.945821</td>\n",
       "      <td>99.604226</td>\n",
       "    </tr>\n",
       "    <tr>\n",
       "      <th>1</th>\n",
       "      <td>129.383298</td>\n",
       "      <td>75.102784</td>\n",
       "    </tr>\n",
       "  </tbody>\n",
       "</table>\n",
       "</div>\n",
       "      <button class=\"colab-df-convert\" onclick=\"convertToInteractive('df-b244148c-ddb3-44c3-8e1e-695b5f1a3fc4')\"\n",
       "              title=\"Convert this dataframe to an interactive table.\"\n",
       "              style=\"display:none;\">\n",
       "        \n",
       "  <svg xmlns=\"http://www.w3.org/2000/svg\" height=\"24px\"viewBox=\"0 0 24 24\"\n",
       "       width=\"24px\">\n",
       "    <path d=\"M0 0h24v24H0V0z\" fill=\"none\"/>\n",
       "    <path d=\"M18.56 5.44l.94 2.06.94-2.06 2.06-.94-2.06-.94-.94-2.06-.94 2.06-2.06.94zm-11 1L8.5 8.5l.94-2.06 2.06-.94-2.06-.94L8.5 2.5l-.94 2.06-2.06.94zm10 10l.94 2.06.94-2.06 2.06-.94-2.06-.94-.94-2.06-.94 2.06-2.06.94z\"/><path d=\"M17.41 7.96l-1.37-1.37c-.4-.4-.92-.59-1.43-.59-.52 0-1.04.2-1.43.59L10.3 9.45l-7.72 7.72c-.78.78-.78 2.05 0 2.83L4 21.41c.39.39.9.59 1.41.59.51 0 1.02-.2 1.41-.59l7.78-7.78 2.81-2.81c.8-.78.8-2.07 0-2.86zM5.41 20L4 18.59l7.72-7.72 1.47 1.35L5.41 20z\"/>\n",
       "  </svg>\n",
       "      </button>\n",
       "      \n",
       "  <style>\n",
       "    .colab-df-container {\n",
       "      display:flex;\n",
       "      flex-wrap:wrap;\n",
       "      gap: 12px;\n",
       "    }\n",
       "\n",
       "    .colab-df-convert {\n",
       "      background-color: #E8F0FE;\n",
       "      border: none;\n",
       "      border-radius: 50%;\n",
       "      cursor: pointer;\n",
       "      display: none;\n",
       "      fill: #1967D2;\n",
       "      height: 32px;\n",
       "      padding: 0 0 0 0;\n",
       "      width: 32px;\n",
       "    }\n",
       "\n",
       "    .colab-df-convert:hover {\n",
       "      background-color: #E2EBFA;\n",
       "      box-shadow: 0px 1px 2px rgba(60, 64, 67, 0.3), 0px 1px 3px 1px rgba(60, 64, 67, 0.15);\n",
       "      fill: #174EA6;\n",
       "    }\n",
       "\n",
       "    [theme=dark] .colab-df-convert {\n",
       "      background-color: #3B4455;\n",
       "      fill: #D2E3FC;\n",
       "    }\n",
       "\n",
       "    [theme=dark] .colab-df-convert:hover {\n",
       "      background-color: #434B5C;\n",
       "      box-shadow: 0px 1px 3px 1px rgba(0, 0, 0, 0.15);\n",
       "      filter: drop-shadow(0px 1px 2px rgba(0, 0, 0, 0.3));\n",
       "      fill: #FFFFFF;\n",
       "    }\n",
       "  </style>\n",
       "\n",
       "      <script>\n",
       "        const buttonEl =\n",
       "          document.querySelector('#df-b244148c-ddb3-44c3-8e1e-695b5f1a3fc4 button.colab-df-convert');\n",
       "        buttonEl.style.display =\n",
       "          google.colab.kernel.accessAllowed ? 'block' : 'none';\n",
       "\n",
       "        async function convertToInteractive(key) {\n",
       "          const element = document.querySelector('#df-b244148c-ddb3-44c3-8e1e-695b5f1a3fc4');\n",
       "          const dataTable =\n",
       "            await google.colab.kernel.invokeFunction('convertToInteractive',\n",
       "                                                     [key], {});\n",
       "          if (!dataTable) return;\n",
       "\n",
       "          const docLinkHtml = 'Like what you see? Visit the ' +\n",
       "            '<a target=\"_blank\" href=https://colab.research.google.com/notebooks/data_table.ipynb>data table notebook</a>'\n",
       "            + ' to learn more about interactive tables.';\n",
       "          element.innerHTML = '';\n",
       "          dataTable['output_type'] = 'display_data';\n",
       "          await google.colab.output.renderOutput(dataTable, element);\n",
       "          const docLink = document.createElement('div');\n",
       "          docLink.innerHTML = docLinkHtml;\n",
       "          element.appendChild(docLink);\n",
       "        }\n",
       "      </script>\n",
       "    </div>\n",
       "  </div>\n",
       "  "
      ],
      "text/plain": [
       "       last_day_rch_amt_6  last_day_rch_amt_7\n",
       "churn                                        \n",
       "0               98.945821           99.604226\n",
       "1              129.383298           75.102784"
      ]
     },
     "execution_count": 238,
     "metadata": {},
     "output_type": "execute_result"
    }
   ],
   "source": [
    "# Let us compare the last day recharge amount of churn and non-churn customers for the month of\n",
    "# June and July\n",
    "hg_val_cust.groupby(['churn'])['last_day_rch_amt_6', 'last_day_rch_amt_7'].mean()\n"
   ]
  },
  {
   "cell_type": "markdown",
   "metadata": {
    "id": "4hgZ2XDkWDQ0"
   },
   "source": [
    "From the above table it is clear that the last day recharge amount of churn customer has reduced in the July month compared to non-churn customer in the June month"
   ]
  },
  {
   "cell_type": "code",
   "execution_count": 239,
   "metadata": {
    "colab": {
     "base_uri": "https://localhost:8080/",
     "height": 144
    },
    "id": "yTT5sU22WDQ0",
    "outputId": "f419d516-77a1-4089-e506-23333935263c"
   },
   "outputs": [
    {
     "data": {
      "text/html": [
       "\n",
       "  <div id=\"df-7752673b-9b97-403d-b8a2-4198c1028fc0\">\n",
       "    <div class=\"colab-df-container\">\n",
       "      <div>\n",
       "<style scoped>\n",
       "    .dataframe tbody tr th:only-of-type {\n",
       "        vertical-align: middle;\n",
       "    }\n",
       "\n",
       "    .dataframe tbody tr th {\n",
       "        vertical-align: top;\n",
       "    }\n",
       "\n",
       "    .dataframe thead th {\n",
       "        text-align: right;\n",
       "    }\n",
       "</style>\n",
       "<table border=\"1\" class=\"dataframe\">\n",
       "  <thead>\n",
       "    <tr style=\"text-align: right;\">\n",
       "      <th></th>\n",
       "      <th>loc_og_t2t_mou_6</th>\n",
       "      <th>loc_og_t2t_mou_7</th>\n",
       "    </tr>\n",
       "    <tr>\n",
       "      <th>churn</th>\n",
       "      <th></th>\n",
       "      <th></th>\n",
       "    </tr>\n",
       "  </thead>\n",
       "  <tbody>\n",
       "    <tr>\n",
       "      <th>0</th>\n",
       "      <td>85.887082</td>\n",
       "      <td>86.271289</td>\n",
       "    </tr>\n",
       "    <tr>\n",
       "      <th>1</th>\n",
       "      <td>41.539165</td>\n",
       "      <td>20.668480</td>\n",
       "    </tr>\n",
       "  </tbody>\n",
       "</table>\n",
       "</div>\n",
       "      <button class=\"colab-df-convert\" onclick=\"convertToInteractive('df-7752673b-9b97-403d-b8a2-4198c1028fc0')\"\n",
       "              title=\"Convert this dataframe to an interactive table.\"\n",
       "              style=\"display:none;\">\n",
       "        \n",
       "  <svg xmlns=\"http://www.w3.org/2000/svg\" height=\"24px\"viewBox=\"0 0 24 24\"\n",
       "       width=\"24px\">\n",
       "    <path d=\"M0 0h24v24H0V0z\" fill=\"none\"/>\n",
       "    <path d=\"M18.56 5.44l.94 2.06.94-2.06 2.06-.94-2.06-.94-.94-2.06-.94 2.06-2.06.94zm-11 1L8.5 8.5l.94-2.06 2.06-.94-2.06-.94L8.5 2.5l-.94 2.06-2.06.94zm10 10l.94 2.06.94-2.06 2.06-.94-2.06-.94-.94-2.06-.94 2.06-2.06.94z\"/><path d=\"M17.41 7.96l-1.37-1.37c-.4-.4-.92-.59-1.43-.59-.52 0-1.04.2-1.43.59L10.3 9.45l-7.72 7.72c-.78.78-.78 2.05 0 2.83L4 21.41c.39.39.9.59 1.41.59.51 0 1.02-.2 1.41-.59l7.78-7.78 2.81-2.81c.8-.78.8-2.07 0-2.86zM5.41 20L4 18.59l7.72-7.72 1.47 1.35L5.41 20z\"/>\n",
       "  </svg>\n",
       "      </button>\n",
       "      \n",
       "  <style>\n",
       "    .colab-df-container {\n",
       "      display:flex;\n",
       "      flex-wrap:wrap;\n",
       "      gap: 12px;\n",
       "    }\n",
       "\n",
       "    .colab-df-convert {\n",
       "      background-color: #E8F0FE;\n",
       "      border: none;\n",
       "      border-radius: 50%;\n",
       "      cursor: pointer;\n",
       "      display: none;\n",
       "      fill: #1967D2;\n",
       "      height: 32px;\n",
       "      padding: 0 0 0 0;\n",
       "      width: 32px;\n",
       "    }\n",
       "\n",
       "    .colab-df-convert:hover {\n",
       "      background-color: #E2EBFA;\n",
       "      box-shadow: 0px 1px 2px rgba(60, 64, 67, 0.3), 0px 1px 3px 1px rgba(60, 64, 67, 0.15);\n",
       "      fill: #174EA6;\n",
       "    }\n",
       "\n",
       "    [theme=dark] .colab-df-convert {\n",
       "      background-color: #3B4455;\n",
       "      fill: #D2E3FC;\n",
       "    }\n",
       "\n",
       "    [theme=dark] .colab-df-convert:hover {\n",
       "      background-color: #434B5C;\n",
       "      box-shadow: 0px 1px 3px 1px rgba(0, 0, 0, 0.15);\n",
       "      filter: drop-shadow(0px 1px 2px rgba(0, 0, 0, 0.3));\n",
       "      fill: #FFFFFF;\n",
       "    }\n",
       "  </style>\n",
       "\n",
       "      <script>\n",
       "        const buttonEl =\n",
       "          document.querySelector('#df-7752673b-9b97-403d-b8a2-4198c1028fc0 button.colab-df-convert');\n",
       "        buttonEl.style.display =\n",
       "          google.colab.kernel.accessAllowed ? 'block' : 'none';\n",
       "\n",
       "        async function convertToInteractive(key) {\n",
       "          const element = document.querySelector('#df-7752673b-9b97-403d-b8a2-4198c1028fc0');\n",
       "          const dataTable =\n",
       "            await google.colab.kernel.invokeFunction('convertToInteractive',\n",
       "                                                     [key], {});\n",
       "          if (!dataTable) return;\n",
       "\n",
       "          const docLinkHtml = 'Like what you see? Visit the ' +\n",
       "            '<a target=\"_blank\" href=https://colab.research.google.com/notebooks/data_table.ipynb>data table notebook</a>'\n",
       "            + ' to learn more about interactive tables.';\n",
       "          element.innerHTML = '';\n",
       "          dataTable['output_type'] = 'display_data';\n",
       "          await google.colab.output.renderOutput(dataTable, element);\n",
       "          const docLink = document.createElement('div');\n",
       "          docLink.innerHTML = docLinkHtml;\n",
       "          element.appendChild(docLink);\n",
       "        }\n",
       "      </script>\n",
       "    </div>\n",
       "  </div>\n",
       "  "
      ],
      "text/plain": [
       "       loc_og_t2t_mou_6  loc_og_t2t_mou_7\n",
       "churn                                    \n",
       "0             85.887082         86.271289\n",
       "1             41.539165         20.668480"
      ]
     },
     "execution_count": 239,
     "metadata": {},
     "output_type": "execute_result"
    }
   ],
   "source": [
    "# Let us compare the local outgoing mou within the same operator's network of churn and \n",
    "# non-churn customers for the month of June and July\n",
    "hg_val_cust.groupby(['churn'])['loc_og_t2t_mou_6', 'loc_og_t2t_mou_7'].mean()\n"
   ]
  },
  {
   "cell_type": "markdown",
   "metadata": {
    "id": "g8nUJmTAWDQ1"
   },
   "source": [
    "Here also we can observe that the local outgoing mou within the operator network is reduced in the month July from June for churn customers compared to non-churn customers"
   ]
  },
  {
   "cell_type": "code",
   "execution_count": 240,
   "metadata": {
    "colab": {
     "base_uri": "https://localhost:8080/"
    },
    "id": "YsZgCJq_WDQ2",
    "outputId": "56b34689-5e99-4784-e1b9-47d411f92d26"
   },
   "outputs": [
    {
     "data": {
      "text/plain": [
       "churn\n",
       "0    1235.481241\n",
       "1     801.338330\n",
       "Name: aon, dtype: float64"
      ]
     },
     "execution_count": 240,
     "metadata": {},
     "output_type": "execute_result"
    }
   ],
   "source": [
    "# Create the table displaying age on network (aon) for both churn and non-churn customers\n",
    "hg_val_cust.groupby(['churn'])['aon'].mean()"
   ]
  },
  {
   "cell_type": "code",
   "execution_count": 241,
   "metadata": {
    "id": "wZMprtCkWDQ3"
   },
   "outputs": [],
   "source": [
    "hg_val_cust.drop('last_date_of_month_7', axis=1, inplace=True)\n",
    "test_df.drop('last_date_of_month_7', axis=1, inplace=True)"
   ]
  },
  {
   "cell_type": "markdown",
   "metadata": {
    "id": "Tzk9gYXwWDQ3"
   },
   "source": [
    "Again as other KPIs the age on network of churn customers is less than non-churn customers"
   ]
  },
  {
   "cell_type": "markdown",
   "metadata": {
    "id": "73VnM2pZWDQ4"
   },
   "source": [
    "In summary the observation we can make out of the activities performed on the given data set till now are\n",
    "1. Total recharge amount and recharge data got reduced in the month of July (action phase) for churn customers compared to non-churn customers\n",
    "2. The number of incoming and outgoing calls got reduced in the month of July (action phase) for churn customers compared to non-churn customers\n",
    "3. This reduction is not just usual but significant too interms of revenue growth\n"
   ]
  },
  {
   "cell_type": "code",
   "execution_count": 241,
   "metadata": {
    "id": "fZO4xbbrVuJu"
   },
   "outputs": [],
   "source": []
  },
  {
   "cell_type": "markdown",
   "metadata": {
    "id": "pZEXzehhV7ZC"
   },
   "source": [
    "# Utility Functions"
   ]
  },
  {
   "cell_type": "code",
   "execution_count": 242,
   "metadata": {
    "id": "Q0k1zNC_XpSA"
   },
   "outputs": [],
   "source": [
    "def Print_Metrics_KPIs(y, y_pred):\n",
    "    confusion = metrics.confusion_matrix(y, y_pred)\n",
    "    # True Positive\n",
    "    TP = confusion[1,1]\n",
    "    # True Negative\n",
    "    TN = confusion[0,0]\n",
    "    # False Positive\n",
    "    FP = confusion[0,1]\n",
    "    # False Negative\n",
    "    FN = confusion[1,0]\n",
    "    print(\"ROC AUC Score \", (metrics.roc_auc_score(y, y_pred)))\n",
    "    print(\"Precision Score\", (metrics.precision_score(y, y_pred)))\n",
    "    print(\"Sensitivity/Recall \", TP/float(TP + FN))\n",
    "    print(\"Specificity \", TN/float(TN + FP))\n",
    "    print(\"False positive rate\", FP/float(TN+FP))\n",
    "    print(\"False negative rate\", FN/float(FN+TP))\n",
    "    print(\"Positive predictive value \", TP/float(TP+FP))\n",
    "    print(\"Negative predictive value \", TN/float(TN+FN))\n",
    "    print(\"Accuracy \", metrics.accuracy_score(y, y_pred))"
   ]
  },
  {
   "cell_type": "markdown",
   "metadata": {
    "id": "VcgWEAXyWDQ4"
   },
   "source": [
    "# Model Building"
   ]
  },
  {
   "cell_type": "markdown",
   "metadata": {
    "id": "hrEEBW3UWDQ5"
   },
   "source": [
    "As it was asked as part of the problem statement it is asked to first perform PCA on the\n",
    "data set to reduce its dimensionality and build the classification models\n",
    "1. Logistic Regression Classification\n",
    "2. Random forest ensemble\n",
    "3. XGBoost\n",
    "For each of the classification solution KPIs have to be measured. They are\n",
    "* Accuracy\n",
    "* Sensitivity\n",
    "* Specificity\n",
    "* Precision\n",
    "* Recall"
   ]
  },
  {
   "cell_type": "markdown",
   "metadata": {
    "id": "zyN7FmztWDQ6"
   },
   "source": [
    "# Let us first perform the PCA to find out the principle components"
   ]
  },
  {
   "cell_type": "code",
   "execution_count": 243,
   "metadata": {
    "id": "W9WWsPEtWDQ7"
   },
   "outputs": [],
   "source": [
    "hgv_cust_copy = hg_val_cust"
   ]
  },
  {
   "cell_type": "code",
   "execution_count": 244,
   "metadata": {
    "colab": {
     "base_uri": "https://localhost:8080/"
    },
    "id": "QE-jnR3pWDQ8",
    "outputId": "deb8440d-9bc9-4e36-bfd5-a0ab6e58385d"
   },
   "outputs": [
    {
     "data": {
      "text/plain": [
       "(7850, 113)"
      ]
     },
     "execution_count": 244,
     "metadata": {},
     "output_type": "execute_result"
    }
   ],
   "source": [
    "hgv_cust_copy.shape"
   ]
  },
  {
   "cell_type": "code",
   "execution_count": 245,
   "metadata": {
    "id": "_GPjI-c9WDQ9"
   },
   "outputs": [],
   "source": [
    "# aon column is not required, let us remove it\n",
    "hgv_cust_copy.drop('aon', axis=1, inplace=True)\n",
    "test_df.drop('aon', axis=1, inplace=True)"
   ]
  },
  {
   "cell_type": "code",
   "execution_count": 246,
   "metadata": {
    "colab": {
     "base_uri": "https://localhost:8080/"
    },
    "id": "xrk52V0_WDQ9",
    "outputId": "6df6fc8b-ef68-4a2e-fcef-ef8b6c9de7d7"
   },
   "outputs": [
    {
     "data": {
      "text/plain": [
       "['last_date_of_month_6', 'date_of_last_rech_6', 'date_of_last_rech_7']"
      ]
     },
     "execution_count": 246,
     "metadata": {},
     "output_type": "execute_result"
    }
   ],
   "source": [
    "# There are few date columns that are not required for our prediction, let us remove them also\n",
    "cols_to_del = list(hgv_cust_copy.select_dtypes(include=['datetime']).columns)\n",
    "cols_to_del"
   ]
  },
  {
   "cell_type": "code",
   "execution_count": 247,
   "metadata": {
    "id": "2z2KtCTMWDQ9"
   },
   "outputs": [],
   "source": [
    "hgv_cust_copy.drop(cols_to_del, axis=1, inplace=True)\n",
    "test_df.drop(cols_to_del, axis=1, inplace=True)"
   ]
  },
  {
   "cell_type": "code",
   "execution_count": 248,
   "metadata": {
    "colab": {
     "base_uri": "https://localhost:8080/"
    },
    "id": "Jhq_KT8xWDQ-",
    "outputId": "86d01f01-9552-4a67-e36a-f50d28ae261d"
   },
   "outputs": [
    {
     "data": {
      "text/plain": [
       "[]"
      ]
     },
     "execution_count": 248,
     "metadata": {},
     "output_type": "execute_result"
    }
   ],
   "source": [
    "cols_to_del = list(hgv_cust_copy.select_dtypes(include=['datetime']).columns)\n",
    "cols_to_del"
   ]
  },
  {
   "cell_type": "code",
   "execution_count": 249,
   "metadata": {
    "id": "3-r3fd0NWDQ-"
   },
   "outputs": [],
   "source": [
    "#hgv_cust_copy.last_date_of_month_7"
   ]
  },
  {
   "cell_type": "code",
   "execution_count": 250,
   "metadata": {
    "colab": {
     "base_uri": "https://localhost:8080/"
    },
    "id": "VZS8H8hHWDQ-",
    "outputId": "1c642535-3b75-4fdd-a7bc-d14a3c6c4447"
   },
   "outputs": [
    {
     "name": "stdout",
     "output_type": "stream",
     "text": [
      "<class 'pandas.core.frame.DataFrame'>\n",
      "Int64Index: 7850 entries, 4 to 26168\n",
      "Data columns (total 109 columns):\n",
      " #    Column               Dtype  \n",
      "---   ------               -----  \n",
      " 0    arpu_6               float64\n",
      " 1    arpu_7               float64\n",
      " 2    onnet_mou_6          float64\n",
      " 3    onnet_mou_7          float64\n",
      " 4    offnet_mou_6         float64\n",
      " 5    offnet_mou_7         float64\n",
      " 6    roam_ic_mou_6        float64\n",
      " 7    roam_ic_mou_7        float64\n",
      " 8    roam_og_mou_6        float64\n",
      " 9    roam_og_mou_7        float64\n",
      " 10   loc_og_t2t_mou_6     float64\n",
      " 11   loc_og_t2t_mou_7     float64\n",
      " 12   loc_og_t2m_mou_6     float64\n",
      " 13   loc_og_t2m_mou_7     float64\n",
      " 14   loc_og_t2f_mou_6     float64\n",
      " 15   loc_og_t2f_mou_7     float64\n",
      " 16   loc_og_t2c_mou_6     float64\n",
      " 17   loc_og_t2c_mou_7     float64\n",
      " 18   loc_og_mou_6         float64\n",
      " 19   loc_og_mou_7         float64\n",
      " 20   std_og_t2t_mou_6     float64\n",
      " 21   std_og_t2t_mou_7     float64\n",
      " 22   std_og_t2m_mou_6     float64\n",
      " 23   std_og_t2m_mou_7     float64\n",
      " 24   std_og_t2f_mou_6     float64\n",
      " 25   std_og_t2f_mou_7     float64\n",
      " 26   std_og_mou_6         float64\n",
      " 27   std_og_mou_7         float64\n",
      " 28   isd_og_mou_6         float64\n",
      " 29   isd_og_mou_7         float64\n",
      " 30   spl_og_mou_6         float64\n",
      " 31   spl_og_mou_7         float64\n",
      " 32   og_others_6          float64\n",
      " 33   og_others_7          float64\n",
      " 34   total_og_mou_6       float64\n",
      " 35   total_og_mou_7       float64\n",
      " 36   loc_ic_t2t_mou_6     float64\n",
      " 37   loc_ic_t2t_mou_7     float64\n",
      " 38   loc_ic_t2m_mou_6     float64\n",
      " 39   loc_ic_t2m_mou_7     float64\n",
      " 40   loc_ic_t2f_mou_6     float64\n",
      " 41   loc_ic_t2f_mou_7     float64\n",
      " 42   loc_ic_mou_6         float64\n",
      " 43   loc_ic_mou_7         float64\n",
      " 44   std_ic_t2t_mou_6     float64\n",
      " 45   std_ic_t2t_mou_7     float64\n",
      " 46   std_ic_t2m_mou_6     float64\n",
      " 47   std_ic_t2m_mou_7     float64\n",
      " 48   std_ic_t2f_mou_6     float64\n",
      " 49   std_ic_t2f_mou_7     float64\n",
      " 50   std_ic_mou_6         float64\n",
      " 51   std_ic_mou_7         float64\n",
      " 52   total_ic_mou_6       float64\n",
      " 53   total_ic_mou_7       float64\n",
      " 54   spl_ic_mou_6         float64\n",
      " 55   spl_ic_mou_7         float64\n",
      " 56   isd_ic_mou_6         float64\n",
      " 57   isd_ic_mou_7         float64\n",
      " 58   ic_others_6          float64\n",
      " 59   ic_others_7          float64\n",
      " 60   total_rech_num_6     int64  \n",
      " 61   total_rech_num_7     int64  \n",
      " 62   total_rech_amt_6     int64  \n",
      " 63   total_rech_amt_7     int64  \n",
      " 64   max_rech_amt_6       float64\n",
      " 65   max_rech_amt_7       float64\n",
      " 66   last_day_rch_amt_6   float64\n",
      " 67   last_day_rch_amt_7   float64\n",
      " 68   total_rech_data_6    float64\n",
      " 69   total_rech_data_7    float64\n",
      " 70   max_rech_data_6      float64\n",
      " 71   max_rech_data_7      float64\n",
      " 72   count_rech_2g_6      float64\n",
      " 73   count_rech_2g_7      float64\n",
      " 74   count_rech_3g_6      float64\n",
      " 75   count_rech_3g_7      float64\n",
      " 76   av_rech_amt_data_6   float64\n",
      " 77   av_rech_amt_data_7   float64\n",
      " 78   vol_2g_mb_6          float64\n",
      " 79   vol_2g_mb_7          float64\n",
      " 80   vol_3g_mb_6          float64\n",
      " 81   vol_3g_mb_7          float64\n",
      " 82   arpu_3g_6            float64\n",
      " 83   arpu_3g_7            float64\n",
      " 84   arpu_2g_6            float64\n",
      " 85   arpu_2g_7            float64\n",
      " 86   night_pck_user_6     float64\n",
      " 87   night_pck_user_7     float64\n",
      " 88   monthly_2g_6         float64\n",
      " 89   monthly_2g_7         float64\n",
      " 90   sachet_2g_6          float64\n",
      " 91   sachet_2g_7          float64\n",
      " 92   monthly_3g_6         float64\n",
      " 93   monthly_3g_7         float64\n",
      " 94   sachet_3g_6          float64\n",
      " 95   sachet_3g_7          float64\n",
      " 96   fb_user_6            float64\n",
      " 97   fb_user_7            float64\n",
      " 98   aug_vbc_3g           float64\n",
      " 99   jul_vbc_3g           float64\n",
      " 100  jun_vbc_3g           float64\n",
      " 101  churn_probability    float64\n",
      " 102  tot_rech_num_data_6  float64\n",
      " 103  tot_rech_num_data_7  float64\n",
      " 104  tot_rech_amt_data_6  float64\n",
      " 105  tot_rech_amt_data_7  float64\n",
      " 106  tot_month_rech_6     float64\n",
      " 107  tot_month_rech_7     float64\n",
      " 108  churn                int64  \n",
      "dtypes: float64(104), int64(5)\n",
      "memory usage: 6.6 MB\n"
     ]
    }
   ],
   "source": [
    "hgv_cust_copy.info(verbose=True)"
   ]
  },
  {
   "cell_type": "code",
   "execution_count": 251,
   "metadata": {
    "id": "zSLGLp1SWDQ_"
   },
   "outputs": [],
   "source": [
    "X = hgv_cust_copy.drop(['churn'], axis=1)\n",
    "y = hgv_cust_copy['churn']"
   ]
  },
  {
   "cell_type": "code",
   "execution_count": 252,
   "metadata": {
    "id": "RObYT4yvWDQ_"
   },
   "outputs": [],
   "source": [
    "# Split the data set into train and test set\n",
    "X_train, X_test, y_train, y_test = train_test_split(X,y,test_size=0.3, random_state=100)"
   ]
  },
  {
   "cell_type": "markdown",
   "metadata": {
    "id": "uKC9zwPFGpI-"
   },
   "source": [
    "# Perform Scaling"
   ]
  },
  {
   "cell_type": "code",
   "execution_count": 253,
   "metadata": {
    "id": "hyKUpK8aWDRA"
   },
   "outputs": [],
   "source": [
    "scaler = MinMaxScaler()"
   ]
  },
  {
   "cell_type": "code",
   "execution_count": 254,
   "metadata": {
    "id": "WNHxIfvlWDRA"
   },
   "outputs": [],
   "source": [
    "X_train = scaler.fit_transform(X_train)\n",
    "X_test = scaler.transform(X_test)"
   ]
  },
  {
   "cell_type": "code",
   "execution_count": 255,
   "metadata": {
    "colab": {
     "base_uri": "https://localhost:8080/"
    },
    "id": "ShYINFY9WDRA",
    "outputId": "be44c690-5728-44ee-9136-dab592d4b210"
   },
   "outputs": [
    {
     "name": "stdout",
     "output_type": "stream",
     "text": [
      "Count of churn label  322\n",
      "Count of non-churn label  5173\n"
     ]
    }
   ],
   "source": [
    "# Let us print the number of churn and non-churn in the y_train data\n",
    "print(\"Count of churn label \", sum(y_train==1))\n",
    "print(\"Count of non-churn label \", sum(y_train==0))"
   ]
  },
  {
   "cell_type": "markdown",
   "metadata": {
    "id": "lNo-du4CWDRB"
   },
   "source": [
    "# Perform class imbalance"
   ]
  },
  {
   "cell_type": "markdown",
   "metadata": {
    "id": "PiEB-pMGHKYi"
   },
   "source": [
    "Perform handling class imbalance\n",
    "From the above print statements it is clear that there is very small number of churn customers\n",
    "compared to non-churn. This is clearly a class imbalance. Let us use SMOTE to handle this scenario"
   ]
  },
  {
   "cell_type": "code",
   "execution_count": 256,
   "metadata": {
    "id": "-ZmFiwdFWDRB"
   },
   "outputs": [],
   "source": [
    "from imblearn.over_sampling import SMOTE\n",
    "sm = SMOTE(random_state=12)\n",
    "#sm = SMOTE(random_state=12)\n",
    "X_train_smo, y_train_smo = sm.fit_resample(X_train, y_train)"
   ]
  },
  {
   "cell_type": "code",
   "execution_count": 257,
   "metadata": {
    "colab": {
     "base_uri": "https://localhost:8080/"
    },
    "id": "slM3UEG9WDRC",
    "outputId": "6e5809d7-fbed-4d55-90ea-aca9eaa03f54"
   },
   "outputs": [
    {
     "name": "stdout",
     "output_type": "stream",
     "text": [
      "Count of churn label  5173\n",
      "Count of non-churn label  5173\n"
     ]
    }
   ],
   "source": [
    "# let us observe the churn and non-churn labels after SMOTE\n",
    "print(\"Count of churn label \", sum(y_train_smo ==1))\n",
    "print(\"Count of non-churn label \", sum(y_train_smo == 0))"
   ]
  },
  {
   "cell_type": "code",
   "execution_count": 258,
   "metadata": {
    "id": "HJ43RJ0ZWDRC"
   },
   "outputs": [],
   "source": [
    "\n",
    "# perform PCA\n",
    "pca = PCA(svd_solver='randomized', random_state=42)"
   ]
  },
  {
   "cell_type": "code",
   "execution_count": 259,
   "metadata": {
    "colab": {
     "base_uri": "https://localhost:8080/"
    },
    "id": "mLqEj-GJWDRC",
    "outputId": "c87c699c-78d7-4fd5-c33e-a0a89b2c1311"
   },
   "outputs": [
    {
     "data": {
      "text/plain": [
       "PCA(random_state=42, svd_solver='randomized')"
      ]
     },
     "execution_count": 259,
     "metadata": {},
     "output_type": "execute_result"
    }
   ],
   "source": [
    "# fit on the train data set\n",
    "pca.fit(X_train_smo)"
   ]
  },
  {
   "cell_type": "code",
   "execution_count": 260,
   "metadata": {
    "colab": {
     "base_uri": "https://localhost:8080/"
    },
    "id": "yEElBnYOWDRC",
    "outputId": "55402e67-b53a-495e-baef-6ef68a31e140"
   },
   "outputs": [
    {
     "data": {
      "text/plain": [
       "array([0.42786159, 0.23751626, 0.09677739, 0.02980999, 0.02625425,\n",
       "       0.02279679, 0.02002272, 0.01565497, 0.01249572, 0.01004988,\n",
       "       0.00937537, 0.0067931 , 0.00541265, 0.0052067 , 0.00484221,\n",
       "       0.00457409, 0.00435145, 0.00399711, 0.00368375, 0.00330724,\n",
       "       0.00307121, 0.00300786, 0.00289534, 0.00279597, 0.00235911,\n",
       "       0.00225645, 0.0021208 , 0.00200815, 0.0018686 , 0.00177987,\n",
       "       0.00162323, 0.00152309, 0.00138923, 0.001199  , 0.00118063,\n",
       "       0.00109315, 0.00107441, 0.00096812, 0.00092586, 0.00089011,\n",
       "       0.00086566, 0.00082176, 0.000778  , 0.00070395, 0.00067649,\n",
       "       0.00060123, 0.00057073, 0.00054473, 0.00053874, 0.00049289])"
      ]
     },
     "execution_count": 260,
     "metadata": {},
     "output_type": "execute_result"
    }
   ],
   "source": [
    "pca.explained_variance_ratio_[:50]"
   ]
  },
  {
   "cell_type": "code",
   "execution_count": 261,
   "metadata": {
    "colab": {
     "base_uri": "https://localhost:8080/",
     "height": 0
    },
    "id": "4gC8dHd8WDRD",
    "outputId": "cf1468ba-6659-4dac-af1c-800f98fe460d"
   },
   "outputs": [
    {
     "data": {
      "image/png": "[encoded data removed]",
      "text/plain": [
       "<Figure size 720x432 with 1 Axes>"
      ]
     },
     "metadata": {
      "needs_background": "light"
     },
     "output_type": "display_data"
    }
   ],
   "source": [
    "# plot the graph\n",
    "plt.figure(figsize=(10,6))\n",
    "plt.plot(np.cumsum(pca.explained_variance_ratio_))\n",
    "plt.xlabel(\"Number of components\")\n",
    "plt.ylabel(\"cumulative explained variance\")\n",
    "plt.show()"
   ]
  },
  {
   "cell_type": "markdown",
   "metadata": {
    "id": "9rUBlaC3WDRD"
   },
   "source": [
    "It is clear from the above graph that 95% of the variance is explained by around 20 components"
   ]
  },
  {
   "cell_type": "code",
   "execution_count": 262,
   "metadata": {
    "id": "yYRQaEIhWDRD"
   },
   "outputs": [],
   "source": [
    "pca_incr = IncrementalPCA(n_components = 20)"
   ]
  },
  {
   "cell_type": "code",
   "execution_count": 262,
   "metadata": {
    "id": "FTGEWHT2WDRD"
   },
   "outputs": [],
   "source": []
  },
  {
   "cell_type": "code",
   "execution_count": 263,
   "metadata": {
    "id": "uM9NV98qWDRE"
   },
   "outputs": [],
   "source": [
    "X_train_pca = pca_incr.fit_transform(X_train_smo)"
   ]
  },
  {
   "cell_type": "code",
   "execution_count": 264,
   "metadata": {
    "colab": {
     "base_uri": "https://localhost:8080/"
    },
    "id": "9qx8X03RWDRE",
    "outputId": "ee9416c8-6e9e-4ff0-9f89-46a5af7aab7b"
   },
   "outputs": [
    {
     "data": {
      "text/plain": [
       "(10346, 20)"
      ]
     },
     "execution_count": 264,
     "metadata": {},
     "output_type": "execute_result"
    }
   ],
   "source": [
    "X_train_pca.shape"
   ]
  },
  {
   "cell_type": "code",
   "execution_count": 265,
   "metadata": {
    "colab": {
     "base_uri": "https://localhost:8080/"
    },
    "id": "afml_55nWDRE",
    "outputId": "4ebc8ae3-86a1-41da-b066-8dabc5da0f4f"
   },
   "outputs": [
    {
     "name": "stdout",
     "output_type": "stream",
     "text": [
      "max corr:  0.009978830673825224 , min corr : -0.011477248881089941\n"
     ]
    }
   ],
   "source": [
    "# let us create a correlation matrix among the principle components\n",
    "corrmat = np.corrcoef(X_train_pca.transpose())\n",
    "corrmat_nodiag = corrmat - np.diagflat(corrmat.diagonal())\n",
    "print(\"max corr: \", corrmat_nodiag.max(), \", min corr :\", corrmat_nodiag.min(), )"
   ]
  },
  {
   "cell_type": "code",
   "execution_count": 266,
   "metadata": {
    "colab": {
     "base_uri": "https://localhost:8080/"
    },
    "id": "nIVTJRmUWDRF",
    "outputId": "a0e852c0-b588-4ff9-fe32-f561326f9c47"
   },
   "outputs": [
    {
     "data": {
      "text/plain": [
       "(2355, 20)"
      ]
     },
     "execution_count": 266,
     "metadata": {},
     "output_type": "execute_result"
    }
   ],
   "source": [
    "# let us predict on test set\n",
    "X_test_pca = pca_incr.transform(X_test)\n",
    "X_test_pca.shape"
   ]
  },
  {
   "cell_type": "code",
   "execution_count": 266,
   "metadata": {
    "id": "y1XJ-_dKvaYL"
   },
   "outputs": [],
   "source": []
  },
  {
   "cell_type": "markdown",
   "metadata": {
    "id": "4u7jD_oaWDRF"
   },
   "source": [
    "# Model Building with Logistic Regression"
   ]
  },
  {
   "cell_type": "code",
   "execution_count": 267,
   "metadata": {
    "colab": {
     "base_uri": "https://localhost:8080/"
    },
    "id": "gotmcTX4WDRF",
    "outputId": "ad108824-8885-4cc7-9032-3aa24d222f83"
   },
   "outputs": [
    {
     "data": {
      "text/plain": [
       "LogisticRegression(class_weight='balanced')"
      ]
     },
     "execution_count": 267,
     "metadata": {},
     "output_type": "execute_result"
    }
   ],
   "source": [
    "learner_pca2 = LogisticRegression(class_weight = 'balanced')\n",
    "learner_pca2.fit(X_train_pca, y_train_smo)"
   ]
  },
  {
   "cell_type": "code",
   "execution_count": 268,
   "metadata": {
    "id": "QkXNBdjWWDRG"
   },
   "outputs": [],
   "source": [
    "dtrain_pred = learner_pca2.predict(X_train_pca)\n",
    "dtrain_pred_prob = learner_pca2.predict_proba(X_train_pca)[:,1]"
   ]
  },
  {
   "cell_type": "code",
   "execution_count": 269,
   "metadata": {
    "colab": {
     "base_uri": "https://localhost:8080/"
    },
    "id": "ivwPR343WDRG",
    "outputId": "21830605-f34f-4af8-c6e8-d33aec0eec1f"
   },
   "outputs": [
    {
     "name": "stdout",
     "output_type": "stream",
     "text": [
      "Accuracy : 0.8787937367098395\n",
      "Recall/Sensitivity 0.8316257490817708\n",
      "AUC Score : 0.953356079532199\n"
     ]
    }
   ],
   "source": [
    "# Let us print the metrics\n",
    "print(\"Accuracy :\", metrics.roc_auc_score(y_train_smo, dtrain_pred))\n",
    "print(\"Recall/Sensitivity\", metrics.recall_score(y_train_smo, dtrain_pred))\n",
    "print(\"AUC Score :\", metrics.roc_auc_score(y_train_smo, dtrain_pred_prob))"
   ]
  },
  {
   "cell_type": "markdown",
   "metadata": {
    "id": "Sl8Tm8ARWDRG"
   },
   "source": [
    "Standardize the data using MinMaxScaler"
   ]
  },
  {
   "cell_type": "code",
   "execution_count": 270,
   "metadata": {
    "colab": {
     "base_uri": "https://localhost:8080/"
    },
    "id": "eyKTDlvNWDRH",
    "outputId": "e55e7cf4-796c-4ac8-a5fc-80682d199977"
   },
   "outputs": [
    {
     "name": "stdout",
     "output_type": "stream",
     "text": [
      "ROC AUC Score  0.8587143080043689\n",
      "Precision Score 0.42857142857142855\n",
      "Sensitivity/Recall  0.7862068965517242\n",
      "Specificity  0.9312217194570136\n",
      "Positive predictive value  0.42857142857142855\n",
      "Negative predictive value  0.9851603638104356\n",
      "Accuracy  0.9222929936305733\n"
     ]
    }
   ],
   "source": [
    "# Let us measure metrics of prediction on test data\n",
    "prob_pred_test = learner_pca2.predict(X_test_pca)\n",
    "confusion = metrics.confusion_matrix(y_test, prob_pred_test)\n",
    "# True Positive\n",
    "TP = confusion[1,1]\n",
    "# True Negative\n",
    "TN = confusion[0,0]\n",
    "# False Positive\n",
    "FP = confusion[0,1]\n",
    "# False Negative\n",
    "FN = confusion[1,0]\n",
    "print(\"ROC AUC Score \", (metrics.roc_auc_score(y_test, prob_pred_test)))\n",
    "print(\"Precision Score\", (metrics.precision_score(y_test, prob_pred_test)))\n",
    "print(\"Sensitivity/Recall \", TP/float(TP + FN))\n",
    "print(\"Specificity \", TN/float(TN + FP))\n",
    "print(\"Positive predictive value \", TP/float(TP+FP))\n",
    "print(\"Negative predictive value \", TN/float(TN+FN))\n",
    "print(\"Accuracy \", metrics.accuracy_score(y_test, prob_pred_test))"
   ]
  },
  {
   "cell_type": "markdown",
   "metadata": {
    "id": "X51o8qzXFg_j"
   },
   "source": [
    "Observe the predictions with a probability cut-off 0.5"
   ]
  },
  {
   "cell_type": "code",
   "execution_count": 271,
   "metadata": {
    "colab": {
     "base_uri": "https://localhost:8080/",
     "height": 363
    },
    "id": "veeZukDUWDRH",
    "outputId": "ecc885f9-7941-44e6-ae4b-2fbddc5e66e5"
   },
   "outputs": [
    {
     "data": {
      "text/html": [
       "\n",
       "  <div id=\"df-19a2a38c-f226-4c56-b67f-8550f9632885\">\n",
       "    <div class=\"colab-df-container\">\n",
       "      <div>\n",
       "<style scoped>\n",
       "    .dataframe tbody tr th:only-of-type {\n",
       "        vertical-align: middle;\n",
       "    }\n",
       "\n",
       "    .dataframe tbody tr th {\n",
       "        vertical-align: top;\n",
       "    }\n",
       "\n",
       "    .dataframe thead th {\n",
       "        text-align: right;\n",
       "    }\n",
       "</style>\n",
       "<table border=\"1\" class=\"dataframe\">\n",
       "  <thead>\n",
       "    <tr style=\"text-align: right;\">\n",
       "      <th></th>\n",
       "      <th>churn</th>\n",
       "      <th>churn_prob</th>\n",
       "      <th>predicted</th>\n",
       "    </tr>\n",
       "  </thead>\n",
       "  <tbody>\n",
       "    <tr>\n",
       "      <th>21</th>\n",
       "      <td>1</td>\n",
       "      <td>0.976392</td>\n",
       "      <td>1</td>\n",
       "    </tr>\n",
       "    <tr>\n",
       "      <th>36</th>\n",
       "      <td>1</td>\n",
       "      <td>0.093976</td>\n",
       "      <td>0</td>\n",
       "    </tr>\n",
       "    <tr>\n",
       "      <th>85</th>\n",
       "      <td>1</td>\n",
       "      <td>0.968750</td>\n",
       "      <td>1</td>\n",
       "    </tr>\n",
       "    <tr>\n",
       "      <th>115</th>\n",
       "      <td>1</td>\n",
       "      <td>0.997445</td>\n",
       "      <td>1</td>\n",
       "    </tr>\n",
       "    <tr>\n",
       "      <th>132</th>\n",
       "      <td>1</td>\n",
       "      <td>0.227257</td>\n",
       "      <td>0</td>\n",
       "    </tr>\n",
       "    <tr>\n",
       "      <th>134</th>\n",
       "      <td>1</td>\n",
       "      <td>0.536658</td>\n",
       "      <td>1</td>\n",
       "    </tr>\n",
       "    <tr>\n",
       "      <th>171</th>\n",
       "      <td>1</td>\n",
       "      <td>0.915012</td>\n",
       "      <td>1</td>\n",
       "    </tr>\n",
       "    <tr>\n",
       "      <th>226</th>\n",
       "      <td>1</td>\n",
       "      <td>0.991404</td>\n",
       "      <td>1</td>\n",
       "    </tr>\n",
       "    <tr>\n",
       "      <th>232</th>\n",
       "      <td>1</td>\n",
       "      <td>0.511169</td>\n",
       "      <td>1</td>\n",
       "    </tr>\n",
       "    <tr>\n",
       "      <th>233</th>\n",
       "      <td>1</td>\n",
       "      <td>0.948538</td>\n",
       "      <td>1</td>\n",
       "    </tr>\n",
       "  </tbody>\n",
       "</table>\n",
       "</div>\n",
       "      <button class=\"colab-df-convert\" onclick=\"convertToInteractive('df-19a2a38c-f226-4c56-b67f-8550f9632885')\"\n",
       "              title=\"Convert this dataframe to an interactive table.\"\n",
       "              style=\"display:none;\">\n",
       "        \n",
       "  <svg xmlns=\"http://www.w3.org/2000/svg\" height=\"24px\"viewBox=\"0 0 24 24\"\n",
       "       width=\"24px\">\n",
       "    <path d=\"M0 0h24v24H0V0z\" fill=\"none\"/>\n",
       "    <path d=\"M18.56 5.44l.94 2.06.94-2.06 2.06-.94-2.06-.94-.94-2.06-.94 2.06-2.06.94zm-11 1L8.5 8.5l.94-2.06 2.06-.94-2.06-.94L8.5 2.5l-.94 2.06-2.06.94zm10 10l.94 2.06.94-2.06 2.06-.94-2.06-.94-.94-2.06-.94 2.06-2.06.94z\"/><path d=\"M17.41 7.96l-1.37-1.37c-.4-.4-.92-.59-1.43-.59-.52 0-1.04.2-1.43.59L10.3 9.45l-7.72 7.72c-.78.78-.78 2.05 0 2.83L4 21.41c.39.39.9.59 1.41.59.51 0 1.02-.2 1.41-.59l7.78-7.78 2.81-2.81c.8-.78.8-2.07 0-2.86zM5.41 20L4 18.59l7.72-7.72 1.47 1.35L5.41 20z\"/>\n",
       "  </svg>\n",
       "      </button>\n",
       "      \n",
       "  <style>\n",
       "    .colab-df-container {\n",
       "      display:flex;\n",
       "      flex-wrap:wrap;\n",
       "      gap: 12px;\n",
       "    }\n",
       "\n",
       "    .colab-df-convert {\n",
       "      background-color: #E8F0FE;\n",
       "      border: none;\n",
       "      border-radius: 50%;\n",
       "      cursor: pointer;\n",
       "      display: none;\n",
       "      fill: #1967D2;\n",
       "      height: 32px;\n",
       "      padding: 0 0 0 0;\n",
       "      width: 32px;\n",
       "    }\n",
       "\n",
       "    .colab-df-convert:hover {\n",
       "      background-color: #E2EBFA;\n",
       "      box-shadow: 0px 1px 2px rgba(60, 64, 67, 0.3), 0px 1px 3px 1px rgba(60, 64, 67, 0.15);\n",
       "      fill: #174EA6;\n",
       "    }\n",
       "\n",
       "    [theme=dark] .colab-df-convert {\n",
       "      background-color: #3B4455;\n",
       "      fill: #D2E3FC;\n",
       "    }\n",
       "\n",
       "    [theme=dark] .colab-df-convert:hover {\n",
       "      background-color: #434B5C;\n",
       "      box-shadow: 0px 1px 3px 1px rgba(0, 0, 0, 0.15);\n",
       "      filter: drop-shadow(0px 1px 2px rgba(0, 0, 0, 0.3));\n",
       "      fill: #FFFFFF;\n",
       "    }\n",
       "  </style>\n",
       "\n",
       "      <script>\n",
       "        const buttonEl =\n",
       "          document.querySelector('#df-19a2a38c-f226-4c56-b67f-8550f9632885 button.colab-df-convert');\n",
       "        buttonEl.style.display =\n",
       "          google.colab.kernel.accessAllowed ? 'block' : 'none';\n",
       "\n",
       "        async function convertToInteractive(key) {\n",
       "          const element = document.querySelector('#df-19a2a38c-f226-4c56-b67f-8550f9632885');\n",
       "          const dataTable =\n",
       "            await google.colab.kernel.invokeFunction('convertToInteractive',\n",
       "                                                     [key], {});\n",
       "          if (!dataTable) return;\n",
       "\n",
       "          const docLinkHtml = 'Like what you see? Visit the ' +\n",
       "            '<a target=\"_blank\" href=https://colab.research.google.com/notebooks/data_table.ipynb>data table notebook</a>'\n",
       "            + ' to learn more about interactive tables.';\n",
       "          element.innerHTML = '';\n",
       "          dataTable['output_type'] = 'display_data';\n",
       "          await google.colab.output.renderOutput(dataTable, element);\n",
       "          const docLink = document.createElement('div');\n",
       "          docLink.innerHTML = docLinkHtml;\n",
       "          element.appendChild(docLink);\n",
       "        }\n",
       "      </script>\n",
       "    </div>\n",
       "  </div>\n",
       "  "
      ],
      "text/plain": [
       "     churn  churn_prob  predicted\n",
       "21       1    0.976392          1\n",
       "36       1    0.093976          0\n",
       "85       1    0.968750          1\n",
       "115      1    0.997445          1\n",
       "132      1    0.227257          0\n",
       "134      1    0.536658          1\n",
       "171      1    0.915012          1\n",
       "226      1    0.991404          1\n",
       "232      1    0.511169          1\n",
       "233      1    0.948538          1"
      ]
     },
     "execution_count": 271,
     "metadata": {},
     "output_type": "execute_result"
    }
   ],
   "source": [
    "y_train_pred = learner_pca2.predict_proba(X_train_pca)[:,1]\n",
    "y_train_pred_df = pd.DataFrame({'churn':y_train_smo, 'churn_prob':y_train_pred})\n",
    "y_train_pred_df['predicted'] = y_train_pred_df.churn_prob.map(lambda x : 1 if x > 0.5 else 0)\n",
    "y_train_pred_df[y_train_pred_df['churn'] == 1].head(10)\n",
    "                                "
   ]
  },
  {
   "cell_type": "markdown",
   "metadata": {
    "id": "cKm64Y28WDRI"
   },
   "source": []
  },
  {
   "cell_type": "code",
   "execution_count": 272,
   "metadata": {
    "id": "iOVlg5-rWDRI"
   },
   "outputs": [],
   "source": [
    "# Plot the ROC curve. Define a function for it\n",
    "# Takes two input parameters actual and probable and plots the ROC curve\n",
    "def plot_roc_curve(prob, actual):\n",
    "    fpr, tpr, thresholds = metrics.roc_curve(actual, prob, drop_intermediate = False)\n",
    "    auc_score = metrics.roc_auc_score(actual, prob)\n",
    "    plt.plot([0.0, 1.0], 'k--')\n",
    "    plt.xlim([0.0, 1.05])\n",
    "    plt.xlabel('False positive rate [1-True Negative Rate]')\n",
    "    plt.ylabel('True positive rate ')\n",
    "    plt.title('ROC example')\n",
    "    plt.legend(loc=\"lower right\")\n",
    "    plt.show()\n",
    "    return None\n"
   ]
  },
  {
   "cell_type": "code",
   "execution_count": 273,
   "metadata": {
    "id": "KyJxf1esWDRI"
   },
   "outputs": [],
   "source": [
    "fpr, tpr, thresholds = metrics.roc_curve(y_train_pred_df.churn, y_train_pred_df.churn_prob, drop_intermediate=False)"
   ]
  },
  {
   "cell_type": "code",
   "execution_count": 274,
   "metadata": {
    "colab": {
     "base_uri": "https://localhost:8080/"
    },
    "id": "kE0sbxz6WDRI",
    "outputId": "21b4d523-a4a0-453f-f3b0-5764dbfb7738"
   },
   "outputs": [
    {
     "name": "stdout",
     "output_type": "stream",
     "text": [
      "[0.         0.         0.         ... 0.99961338 0.99980669 1.        ] [0.00000000e+00 1.93311425e-04 3.86622849e-04 ... 1.00000000e+00\n",
      " 1.00000000e+00 1.00000000e+00] [1.99973712e+00 9.99737119e-01 9.99733594e-01 ... 1.96066097e-07\n",
      " 1.58116572e-07 1.55579214e-07]\n"
     ]
    }
   ],
   "source": [
    "print(fpr, tpr, thresholds)"
   ]
  },
  {
   "cell_type": "code",
   "execution_count": 275,
   "metadata": {
    "colab": {
     "base_uri": "https://localhost:8080/",
     "height": 313
    },
    "id": "2RSXsuJ8WDRJ",
    "outputId": "240316e0-b98d-4341-9c06-ea47aa1adf80"
   },
   "outputs": [
    {
     "name": "stderr",
     "output_type": "stream",
     "text": [
      "No handles with labels found to put in legend.\n"
     ]
    },
    {
     "data": {
      "image/png": "[encoded data removed]",
      "text/plain": [
       "<Figure size 432x288 with 1 Axes>"
      ]
     },
     "metadata": {
      "needs_background": "light"
     },
     "output_type": "display_data"
    }
   ],
   "source": [
    "plot_roc_curve(y_train_pred_df.churn_prob, y_train_pred_df.churn)"
   ]
  },
  {
   "cell_type": "code",
   "execution_count": 276,
   "metadata": {
    "id": "wX9ocowgWDRJ"
   },
   "outputs": [],
   "source": [
    "# create a list with different probabilities range\n",
    "prob_range = [round(float(p)/10, 2) for p in range(10)]\n"
   ]
  },
  {
   "cell_type": "code",
   "execution_count": 277,
   "metadata": {
    "colab": {
     "base_uri": "https://localhost:8080/",
     "height": 206
    },
    "id": "W4YWAl1fWDRJ",
    "outputId": "b29068fa-80eb-4fc8-a792-9e80189709bb"
   },
   "outputs": [
    {
     "data": {
      "text/html": [
       "\n",
       "  <div id=\"df-59baa411-777c-4e5e-8d15-4244437f7f79\">\n",
       "    <div class=\"colab-df-container\">\n",
       "      <div>\n",
       "<style scoped>\n",
       "    .dataframe tbody tr th:only-of-type {\n",
       "        vertical-align: middle;\n",
       "    }\n",
       "\n",
       "    .dataframe tbody tr th {\n",
       "        vertical-align: top;\n",
       "    }\n",
       "\n",
       "    .dataframe thead th {\n",
       "        text-align: right;\n",
       "    }\n",
       "</style>\n",
       "<table border=\"1\" class=\"dataframe\">\n",
       "  <thead>\n",
       "    <tr style=\"text-align: right;\">\n",
       "      <th></th>\n",
       "      <th>churn</th>\n",
       "      <th>churn_prob</th>\n",
       "      <th>predicted</th>\n",
       "      <th>0.0</th>\n",
       "      <th>0.1</th>\n",
       "      <th>0.2</th>\n",
       "      <th>0.3</th>\n",
       "      <th>0.4</th>\n",
       "      <th>0.5</th>\n",
       "      <th>0.6</th>\n",
       "      <th>0.7</th>\n",
       "      <th>0.8</th>\n",
       "      <th>0.9</th>\n",
       "    </tr>\n",
       "  </thead>\n",
       "  <tbody>\n",
       "    <tr>\n",
       "      <th>0</th>\n",
       "      <td>0</td>\n",
       "      <td>0.310870</td>\n",
       "      <td>0</td>\n",
       "      <td>1</td>\n",
       "      <td>1</td>\n",
       "      <td>1</td>\n",
       "      <td>1</td>\n",
       "      <td>0</td>\n",
       "      <td>0</td>\n",
       "      <td>0</td>\n",
       "      <td>0</td>\n",
       "      <td>0</td>\n",
       "      <td>0</td>\n",
       "    </tr>\n",
       "    <tr>\n",
       "      <th>1</th>\n",
       "      <td>0</td>\n",
       "      <td>0.351662</td>\n",
       "      <td>0</td>\n",
       "      <td>1</td>\n",
       "      <td>1</td>\n",
       "      <td>1</td>\n",
       "      <td>1</td>\n",
       "      <td>0</td>\n",
       "      <td>0</td>\n",
       "      <td>0</td>\n",
       "      <td>0</td>\n",
       "      <td>0</td>\n",
       "      <td>0</td>\n",
       "    </tr>\n",
       "    <tr>\n",
       "      <th>2</th>\n",
       "      <td>0</td>\n",
       "      <td>0.047127</td>\n",
       "      <td>0</td>\n",
       "      <td>1</td>\n",
       "      <td>0</td>\n",
       "      <td>0</td>\n",
       "      <td>0</td>\n",
       "      <td>0</td>\n",
       "      <td>0</td>\n",
       "      <td>0</td>\n",
       "      <td>0</td>\n",
       "      <td>0</td>\n",
       "      <td>0</td>\n",
       "    </tr>\n",
       "    <tr>\n",
       "      <th>3</th>\n",
       "      <td>0</td>\n",
       "      <td>0.347497</td>\n",
       "      <td>0</td>\n",
       "      <td>1</td>\n",
       "      <td>1</td>\n",
       "      <td>1</td>\n",
       "      <td>1</td>\n",
       "      <td>0</td>\n",
       "      <td>0</td>\n",
       "      <td>0</td>\n",
       "      <td>0</td>\n",
       "      <td>0</td>\n",
       "      <td>0</td>\n",
       "    </tr>\n",
       "    <tr>\n",
       "      <th>4</th>\n",
       "      <td>0</td>\n",
       "      <td>0.178887</td>\n",
       "      <td>0</td>\n",
       "      <td>1</td>\n",
       "      <td>1</td>\n",
       "      <td>0</td>\n",
       "      <td>0</td>\n",
       "      <td>0</td>\n",
       "      <td>0</td>\n",
       "      <td>0</td>\n",
       "      <td>0</td>\n",
       "      <td>0</td>\n",
       "      <td>0</td>\n",
       "    </tr>\n",
       "  </tbody>\n",
       "</table>\n",
       "</div>\n",
       "      <button class=\"colab-df-convert\" onclick=\"convertToInteractive('df-59baa411-777c-4e5e-8d15-4244437f7f79')\"\n",
       "              title=\"Convert this dataframe to an interactive table.\"\n",
       "              style=\"display:none;\">\n",
       "        \n",
       "  <svg xmlns=\"http://www.w3.org/2000/svg\" height=\"24px\"viewBox=\"0 0 24 24\"\n",
       "       width=\"24px\">\n",
       "    <path d=\"M0 0h24v24H0V0z\" fill=\"none\"/>\n",
       "    <path d=\"M18.56 5.44l.94 2.06.94-2.06 2.06-.94-2.06-.94-.94-2.06-.94 2.06-2.06.94zm-11 1L8.5 8.5l.94-2.06 2.06-.94-2.06-.94L8.5 2.5l-.94 2.06-2.06.94zm10 10l.94 2.06.94-2.06 2.06-.94-2.06-.94-.94-2.06-.94 2.06-2.06.94z\"/><path d=\"M17.41 7.96l-1.37-1.37c-.4-.4-.92-.59-1.43-.59-.52 0-1.04.2-1.43.59L10.3 9.45l-7.72 7.72c-.78.78-.78 2.05 0 2.83L4 21.41c.39.39.9.59 1.41.59.51 0 1.02-.2 1.41-.59l7.78-7.78 2.81-2.81c.8-.78.8-2.07 0-2.86zM5.41 20L4 18.59l7.72-7.72 1.47 1.35L5.41 20z\"/>\n",
       "  </svg>\n",
       "      </button>\n",
       "      \n",
       "  <style>\n",
       "    .colab-df-container {\n",
       "      display:flex;\n",
       "      flex-wrap:wrap;\n",
       "      gap: 12px;\n",
       "    }\n",
       "\n",
       "    .colab-df-convert {\n",
       "      background-color: #E8F0FE;\n",
       "      border: none;\n",
       "      border-radius: 50%;\n",
       "      cursor: pointer;\n",
       "      display: none;\n",
       "      fill: #1967D2;\n",
       "      height: 32px;\n",
       "      padding: 0 0 0 0;\n",
       "      width: 32px;\n",
       "    }\n",
       "\n",
       "    .colab-df-convert:hover {\n",
       "      background-color: #E2EBFA;\n",
       "      box-shadow: 0px 1px 2px rgba(60, 64, 67, 0.3), 0px 1px 3px 1px rgba(60, 64, 67, 0.15);\n",
       "      fill: #174EA6;\n",
       "    }\n",
       "\n",
       "    [theme=dark] .colab-df-convert {\n",
       "      background-color: #3B4455;\n",
       "      fill: #D2E3FC;\n",
       "    }\n",
       "\n",
       "    [theme=dark] .colab-df-convert:hover {\n",
       "      background-color: #434B5C;\n",
       "      box-shadow: 0px 1px 3px 1px rgba(0, 0, 0, 0.15);\n",
       "      filter: drop-shadow(0px 1px 2px rgba(0, 0, 0, 0.3));\n",
       "      fill: #FFFFFF;\n",
       "    }\n",
       "  </style>\n",
       "\n",
       "      <script>\n",
       "        const buttonEl =\n",
       "          document.querySelector('#df-59baa411-777c-4e5e-8d15-4244437f7f79 button.colab-df-convert');\n",
       "        buttonEl.style.display =\n",
       "          google.colab.kernel.accessAllowed ? 'block' : 'none';\n",
       "\n",
       "        async function convertToInteractive(key) {\n",
       "          const element = document.querySelector('#df-59baa411-777c-4e5e-8d15-4244437f7f79');\n",
       "          const dataTable =\n",
       "            await google.colab.kernel.invokeFunction('convertToInteractive',\n",
       "                                                     [key], {});\n",
       "          if (!dataTable) return;\n",
       "\n",
       "          const docLinkHtml = 'Like what you see? Visit the ' +\n",
       "            '<a target=\"_blank\" href=https://colab.research.google.com/notebooks/data_table.ipynb>data table notebook</a>'\n",
       "            + ' to learn more about interactive tables.';\n",
       "          element.innerHTML = '';\n",
       "          dataTable['output_type'] = 'display_data';\n",
       "          await google.colab.output.renderOutput(dataTable, element);\n",
       "          const docLink = document.createElement('div');\n",
       "          docLink.innerHTML = docLinkHtml;\n",
       "          element.appendChild(docLink);\n",
       "        }\n",
       "      </script>\n",
       "    </div>\n",
       "  </div>\n",
       "  "
      ],
      "text/plain": [
       "   churn  churn_prob  predicted  0.0  0.1  0.2  0.3  0.4  0.5  0.6  0.7  0.8  \\\n",
       "0      0    0.310870          0    1    1    1    1    0    0    0    0    0   \n",
       "1      0    0.351662          0    1    1    1    1    0    0    0    0    0   \n",
       "2      0    0.047127          0    1    0    0    0    0    0    0    0    0   \n",
       "3      0    0.347497          0    1    1    1    1    0    0    0    0    0   \n",
       "4      0    0.178887          0    1    1    0    0    0    0    0    0    0   \n",
       "\n",
       "   0.9  \n",
       "0    0  \n",
       "1    0  \n",
       "2    0  \n",
       "3    0  \n",
       "4    0  "
      ]
     },
     "execution_count": 277,
     "metadata": {},
     "output_type": "execute_result"
    }
   ],
   "source": [
    "for idx in prob_range:\n",
    "    #print(idx)\n",
    "    y_train_pred_df[idx] = y_train_pred_df.churn_prob.map(lambda x: 1 if x > idx else 0)\n",
    "y_train_pred_df.head()"
   ]
  },
  {
   "cell_type": "raw",
   "metadata": {
    "execution": {
     "iopub.execute_input": "2022-04-08T23:37:38.810924Z",
     "iopub.status.busy": "2022-04-08T23:37:38.810245Z",
     "iopub.status.idle": "2022-04-08T23:37:38.823611Z",
     "shell.execute_reply": "2022-04-08T23:37:38.822839Z",
     "shell.execute_reply.started": "2022-04-08T23:37:38.81087Z"
    },
    "id": "6ZdQnOXzWDRJ"
   },
   "source": []
  },
  {
   "cell_type": "code",
   "execution_count": 278,
   "metadata": {
    "colab": {
     "base_uri": "https://localhost:8080/",
     "height": 478
    },
    "id": "CL0-ogFDWDRK",
    "outputId": "f6480792-3aa8-4770-e698-a1eb42d6f82c"
   },
   "outputs": [
    {
     "name": "stdout",
     "output_type": "stream",
     "text": [
      "     Prob  Accuracy  Sensitivity  Specificity\n",
      "0.0   0.0  0.500000     1.000000     0.000000\n",
      "0.1   0.1  0.735453     0.984535     0.486372\n",
      "0.2   0.2  0.835492     0.969650     0.701334\n",
      "0.3   0.3  0.877441     0.945100     0.809782\n",
      "0.4   0.4  0.895998     0.909917     0.882080\n",
      "0.5   0.5  0.878794     0.831626     0.925962\n",
      "0.6   0.6  0.871351     0.796056     0.946646\n",
      "0.7   0.7  0.857143     0.757587     0.956698\n",
      "0.8   0.8  0.844288     0.725111     0.963464\n",
      "0.9   0.9  0.810845     0.647207     0.974483\n"
     ]
    },
    {
     "data": {
      "image/png": "[encoded data removed]",
      "text/plain": [
       "<Figure size 432x288 with 1 Axes>"
      ]
     },
     "metadata": {
      "needs_background": "light"
     },
     "output_type": "display_data"
    }
   ],
   "source": [
    "# Now let us find the accuracy, sensitivity and specificity for each of the cut-off values\n",
    "metr_df = pd.DataFrame(columns=['Prob', 'Accuracy', 'Sensitivity', 'Specificity'])\n",
    "for prob in prob_range:\n",
    "    cm = metrics.confusion_matrix(y_train_pred_df.churn, y_train_pred_df[prob])\n",
    "    TN = cm[0,0]\n",
    "    FP = cm[0,1]\n",
    "    FN = cm[1,0]\n",
    "    TP = cm[1,1]\n",
    "    acc = (TP + TN)/(TP + TN + FP + FN)\n",
    "    speci = (TN/(TN + FP))\n",
    "    sensi = (TP/(TP + FN))\n",
    "    metr_df.loc[prob] = [prob, acc, sensi, speci]\n",
    "print(metr_df)\n",
    "metr_df.plot.line(x='Prob', y=['Accuracy', 'Sensitivity', 'Specificity'])\n",
    "plt.show()"
   ]
  },
  {
   "cell_type": "markdown",
   "metadata": {
    "id": "eldKG5I1WDRK"
   },
   "source": [
    "From the above graph it is clear that a probability cut-off value of 0.42 provides good value for Accuracy, Sensitivity and Specificity. Let us use this cut-off value for further analysis"
   ]
  },
  {
   "cell_type": "code",
   "execution_count": 279,
   "metadata": {
    "colab": {
     "base_uri": "https://localhost:8080/",
     "height": 424
    },
    "id": "W4TeWH5DWDRK",
    "outputId": "2f072d43-7ae0-4d35-ac5b-f2d4450a1569"
   },
   "outputs": [
    {
     "data": {
      "text/html": [
       "\n",
       "  <div id=\"df-2b0732c3-d9f9-4407-829f-48f9751a3bbb\">\n",
       "    <div class=\"colab-df-container\">\n",
       "      <div>\n",
       "<style scoped>\n",
       "    .dataframe tbody tr th:only-of-type {\n",
       "        vertical-align: middle;\n",
       "    }\n",
       "\n",
       "    .dataframe tbody tr th {\n",
       "        vertical-align: top;\n",
       "    }\n",
       "\n",
       "    .dataframe thead th {\n",
       "        text-align: right;\n",
       "    }\n",
       "</style>\n",
       "<table border=\"1\" class=\"dataframe\">\n",
       "  <thead>\n",
       "    <tr style=\"text-align: right;\">\n",
       "      <th></th>\n",
       "      <th>churn</th>\n",
       "      <th>churn_prob</th>\n",
       "      <th>predicted</th>\n",
       "      <th>0.0</th>\n",
       "      <th>0.1</th>\n",
       "      <th>0.2</th>\n",
       "      <th>0.3</th>\n",
       "      <th>0.4</th>\n",
       "      <th>0.5</th>\n",
       "      <th>0.6</th>\n",
       "      <th>0.7</th>\n",
       "      <th>0.8</th>\n",
       "      <th>0.9</th>\n",
       "      <th>final_pred</th>\n",
       "    </tr>\n",
       "  </thead>\n",
       "  <tbody>\n",
       "    <tr>\n",
       "      <th>0</th>\n",
       "      <td>0</td>\n",
       "      <td>0.310870</td>\n",
       "      <td>0</td>\n",
       "      <td>1</td>\n",
       "      <td>1</td>\n",
       "      <td>1</td>\n",
       "      <td>1</td>\n",
       "      <td>0</td>\n",
       "      <td>0</td>\n",
       "      <td>0</td>\n",
       "      <td>0</td>\n",
       "      <td>0</td>\n",
       "      <td>0</td>\n",
       "      <td>0</td>\n",
       "    </tr>\n",
       "    <tr>\n",
       "      <th>1</th>\n",
       "      <td>0</td>\n",
       "      <td>0.351662</td>\n",
       "      <td>0</td>\n",
       "      <td>1</td>\n",
       "      <td>1</td>\n",
       "      <td>1</td>\n",
       "      <td>1</td>\n",
       "      <td>0</td>\n",
       "      <td>0</td>\n",
       "      <td>0</td>\n",
       "      <td>0</td>\n",
       "      <td>0</td>\n",
       "      <td>0</td>\n",
       "      <td>0</td>\n",
       "    </tr>\n",
       "    <tr>\n",
       "      <th>2</th>\n",
       "      <td>0</td>\n",
       "      <td>0.047127</td>\n",
       "      <td>0</td>\n",
       "      <td>1</td>\n",
       "      <td>0</td>\n",
       "      <td>0</td>\n",
       "      <td>0</td>\n",
       "      <td>0</td>\n",
       "      <td>0</td>\n",
       "      <td>0</td>\n",
       "      <td>0</td>\n",
       "      <td>0</td>\n",
       "      <td>0</td>\n",
       "      <td>0</td>\n",
       "    </tr>\n",
       "    <tr>\n",
       "      <th>3</th>\n",
       "      <td>0</td>\n",
       "      <td>0.347497</td>\n",
       "      <td>0</td>\n",
       "      <td>1</td>\n",
       "      <td>1</td>\n",
       "      <td>1</td>\n",
       "      <td>1</td>\n",
       "      <td>0</td>\n",
       "      <td>0</td>\n",
       "      <td>0</td>\n",
       "      <td>0</td>\n",
       "      <td>0</td>\n",
       "      <td>0</td>\n",
       "      <td>0</td>\n",
       "    </tr>\n",
       "    <tr>\n",
       "      <th>4</th>\n",
       "      <td>0</td>\n",
       "      <td>0.178887</td>\n",
       "      <td>0</td>\n",
       "      <td>1</td>\n",
       "      <td>1</td>\n",
       "      <td>0</td>\n",
       "      <td>0</td>\n",
       "      <td>0</td>\n",
       "      <td>0</td>\n",
       "      <td>0</td>\n",
       "      <td>0</td>\n",
       "      <td>0</td>\n",
       "      <td>0</td>\n",
       "      <td>0</td>\n",
       "    </tr>\n",
       "    <tr>\n",
       "      <th>...</th>\n",
       "      <td>...</td>\n",
       "      <td>...</td>\n",
       "      <td>...</td>\n",
       "      <td>...</td>\n",
       "      <td>...</td>\n",
       "      <td>...</td>\n",
       "      <td>...</td>\n",
       "      <td>...</td>\n",
       "      <td>...</td>\n",
       "      <td>...</td>\n",
       "      <td>...</td>\n",
       "      <td>...</td>\n",
       "      <td>...</td>\n",
       "      <td>...</td>\n",
       "    </tr>\n",
       "    <tr>\n",
       "      <th>10341</th>\n",
       "      <td>1</td>\n",
       "      <td>0.365866</td>\n",
       "      <td>0</td>\n",
       "      <td>1</td>\n",
       "      <td>1</td>\n",
       "      <td>1</td>\n",
       "      <td>1</td>\n",
       "      <td>0</td>\n",
       "      <td>0</td>\n",
       "      <td>0</td>\n",
       "      <td>0</td>\n",
       "      <td>0</td>\n",
       "      <td>0</td>\n",
       "      <td>0</td>\n",
       "    </tr>\n",
       "    <tr>\n",
       "      <th>10342</th>\n",
       "      <td>1</td>\n",
       "      <td>0.965357</td>\n",
       "      <td>1</td>\n",
       "      <td>1</td>\n",
       "      <td>1</td>\n",
       "      <td>1</td>\n",
       "      <td>1</td>\n",
       "      <td>1</td>\n",
       "      <td>1</td>\n",
       "      <td>1</td>\n",
       "      <td>1</td>\n",
       "      <td>1</td>\n",
       "      <td>1</td>\n",
       "      <td>1</td>\n",
       "    </tr>\n",
       "    <tr>\n",
       "      <th>10343</th>\n",
       "      <td>1</td>\n",
       "      <td>0.981788</td>\n",
       "      <td>1</td>\n",
       "      <td>1</td>\n",
       "      <td>1</td>\n",
       "      <td>1</td>\n",
       "      <td>1</td>\n",
       "      <td>1</td>\n",
       "      <td>1</td>\n",
       "      <td>1</td>\n",
       "      <td>1</td>\n",
       "      <td>1</td>\n",
       "      <td>1</td>\n",
       "      <td>1</td>\n",
       "    </tr>\n",
       "    <tr>\n",
       "      <th>10344</th>\n",
       "      <td>1</td>\n",
       "      <td>0.994510</td>\n",
       "      <td>1</td>\n",
       "      <td>1</td>\n",
       "      <td>1</td>\n",
       "      <td>1</td>\n",
       "      <td>1</td>\n",
       "      <td>1</td>\n",
       "      <td>1</td>\n",
       "      <td>1</td>\n",
       "      <td>1</td>\n",
       "      <td>1</td>\n",
       "      <td>1</td>\n",
       "      <td>1</td>\n",
       "    </tr>\n",
       "    <tr>\n",
       "      <th>10345</th>\n",
       "      <td>1</td>\n",
       "      <td>0.976491</td>\n",
       "      <td>1</td>\n",
       "      <td>1</td>\n",
       "      <td>1</td>\n",
       "      <td>1</td>\n",
       "      <td>1</td>\n",
       "      <td>1</td>\n",
       "      <td>1</td>\n",
       "      <td>1</td>\n",
       "      <td>1</td>\n",
       "      <td>1</td>\n",
       "      <td>1</td>\n",
       "      <td>1</td>\n",
       "    </tr>\n",
       "  </tbody>\n",
       "</table>\n",
       "<p>10346 rows × 14 columns</p>\n",
       "</div>\n",
       "      <button class=\"colab-df-convert\" onclick=\"convertToInteractive('df-2b0732c3-d9f9-4407-829f-48f9751a3bbb')\"\n",
       "              title=\"Convert this dataframe to an interactive table.\"\n",
       "              style=\"display:none;\">\n",
       "        \n",
       "  <svg xmlns=\"http://www.w3.org/2000/svg\" height=\"24px\"viewBox=\"0 0 24 24\"\n",
       "       width=\"24px\">\n",
       "    <path d=\"M0 0h24v24H0V0z\" fill=\"none\"/>\n",
       "    <path d=\"M18.56 5.44l.94 2.06.94-2.06 2.06-.94-2.06-.94-.94-2.06-.94 2.06-2.06.94zm-11 1L8.5 8.5l.94-2.06 2.06-.94-2.06-.94L8.5 2.5l-.94 2.06-2.06.94zm10 10l.94 2.06.94-2.06 2.06-.94-2.06-.94-.94-2.06-.94 2.06-2.06.94z\"/><path d=\"M17.41 7.96l-1.37-1.37c-.4-.4-.92-.59-1.43-.59-.52 0-1.04.2-1.43.59L10.3 9.45l-7.72 7.72c-.78.78-.78 2.05 0 2.83L4 21.41c.39.39.9.59 1.41.59.51 0 1.02-.2 1.41-.59l7.78-7.78 2.81-2.81c.8-.78.8-2.07 0-2.86zM5.41 20L4 18.59l7.72-7.72 1.47 1.35L5.41 20z\"/>\n",
       "  </svg>\n",
       "      </button>\n",
       "      \n",
       "  <style>\n",
       "    .colab-df-container {\n",
       "      display:flex;\n",
       "      flex-wrap:wrap;\n",
       "      gap: 12px;\n",
       "    }\n",
       "\n",
       "    .colab-df-convert {\n",
       "      background-color: #E8F0FE;\n",
       "      border: none;\n",
       "      border-radius: 50%;\n",
       "      cursor: pointer;\n",
       "      display: none;\n",
       "      fill: #1967D2;\n",
       "      height: 32px;\n",
       "      padding: 0 0 0 0;\n",
       "      width: 32px;\n",
       "    }\n",
       "\n",
       "    .colab-df-convert:hover {\n",
       "      background-color: #E2EBFA;\n",
       "      box-shadow: 0px 1px 2px rgba(60, 64, 67, 0.3), 0px 1px 3px 1px rgba(60, 64, 67, 0.15);\n",
       "      fill: #174EA6;\n",
       "    }\n",
       "\n",
       "    [theme=dark] .colab-df-convert {\n",
       "      background-color: #3B4455;\n",
       "      fill: #D2E3FC;\n",
       "    }\n",
       "\n",
       "    [theme=dark] .colab-df-convert:hover {\n",
       "      background-color: #434B5C;\n",
       "      box-shadow: 0px 1px 3px 1px rgba(0, 0, 0, 0.15);\n",
       "      filter: drop-shadow(0px 1px 2px rgba(0, 0, 0, 0.3));\n",
       "      fill: #FFFFFF;\n",
       "    }\n",
       "  </style>\n",
       "\n",
       "      <script>\n",
       "        const buttonEl =\n",
       "          document.querySelector('#df-2b0732c3-d9f9-4407-829f-48f9751a3bbb button.colab-df-convert');\n",
       "        buttonEl.style.display =\n",
       "          google.colab.kernel.accessAllowed ? 'block' : 'none';\n",
       "\n",
       "        async function convertToInteractive(key) {\n",
       "          const element = document.querySelector('#df-2b0732c3-d9f9-4407-829f-48f9751a3bbb');\n",
       "          const dataTable =\n",
       "            await google.colab.kernel.invokeFunction('convertToInteractive',\n",
       "                                                     [key], {});\n",
       "          if (!dataTable) return;\n",
       "\n",
       "          const docLinkHtml = 'Like what you see? Visit the ' +\n",
       "            '<a target=\"_blank\" href=https://colab.research.google.com/notebooks/data_table.ipynb>data table notebook</a>'\n",
       "            + ' to learn more about interactive tables.';\n",
       "          element.innerHTML = '';\n",
       "          dataTable['output_type'] = 'display_data';\n",
       "          await google.colab.output.renderOutput(dataTable, element);\n",
       "          const docLink = document.createElement('div');\n",
       "          docLink.innerHTML = docLinkHtml;\n",
       "          element.appendChild(docLink);\n",
       "        }\n",
       "      </script>\n",
       "    </div>\n",
       "  </div>\n",
       "  "
      ],
      "text/plain": [
       "       churn  churn_prob  predicted  0.0  0.1  0.2  0.3  0.4  0.5  0.6  0.7  \\\n",
       "0          0    0.310870          0    1    1    1    1    0    0    0    0   \n",
       "1          0    0.351662          0    1    1    1    1    0    0    0    0   \n",
       "2          0    0.047127          0    1    0    0    0    0    0    0    0   \n",
       "3          0    0.347497          0    1    1    1    1    0    0    0    0   \n",
       "4          0    0.178887          0    1    1    0    0    0    0    0    0   \n",
       "...      ...         ...        ...  ...  ...  ...  ...  ...  ...  ...  ...   \n",
       "10341      1    0.365866          0    1    1    1    1    0    0    0    0   \n",
       "10342      1    0.965357          1    1    1    1    1    1    1    1    1   \n",
       "10343      1    0.981788          1    1    1    1    1    1    1    1    1   \n",
       "10344      1    0.994510          1    1    1    1    1    1    1    1    1   \n",
       "10345      1    0.976491          1    1    1    1    1    1    1    1    1   \n",
       "\n",
       "       0.8  0.9  final_pred  \n",
       "0        0    0           0  \n",
       "1        0    0           0  \n",
       "2        0    0           0  \n",
       "3        0    0           0  \n",
       "4        0    0           0  \n",
       "...    ...  ...         ...  \n",
       "10341    0    0           0  \n",
       "10342    1    1           1  \n",
       "10343    1    1           1  \n",
       "10344    1    1           1  \n",
       "10345    1    1           1  \n",
       "\n",
       "[10346 rows x 14 columns]"
      ]
     },
     "execution_count": 279,
     "metadata": {},
     "output_type": "execute_result"
    }
   ],
   "source": [
    "# create another column with probability cut-off as 0.42\n",
    "y_train_pred_df['final_pred'] = y_train_pred_df.churn_prob.map(lambda x: 1 if x > 0.42 else 0)\n",
    "y_train_pred_df"
   ]
  },
  {
   "cell_type": "code",
   "execution_count": 280,
   "metadata": {
    "colab": {
     "base_uri": "https://localhost:8080/"
    },
    "id": "2vN8bS-MWDRK",
    "outputId": "5c4504bc-527b-460a-badf-284e07cd6572"
   },
   "outputs": [
    {
     "data": {
      "text/plain": [
       "1    5216\n",
       "0    5130\n",
       "Name: final_pred, dtype: int64"
      ]
     },
     "execution_count": 280,
     "metadata": {},
     "output_type": "execute_result"
    }
   ],
   "source": [
    "y_train_pred_df.final_pred.value_counts()"
   ]
  },
  {
   "cell_type": "code",
   "execution_count": 281,
   "metadata": {
    "colab": {
     "base_uri": "https://localhost:8080/"
    },
    "id": "VNg6fci_WDRL",
    "outputId": "b512ee6c-81ea-4c6d-ad41-286dd37ab1f1"
   },
   "outputs": [
    {
     "data": {
      "text/plain": [
       "Index([     'churn', 'churn_prob',  'predicted',          0.0,          0.1,\n",
       "                0.2,          0.3,          0.4,          0.5,          0.6,\n",
       "                0.7,          0.8,          0.9, 'final_pred'],\n",
       "      dtype='object')"
      ]
     },
     "execution_count": 281,
     "metadata": {},
     "output_type": "execute_result"
    }
   ],
   "source": [
    "y_train_pred_df.columns"
   ]
  },
  {
   "cell_type": "code",
   "execution_count": 282,
   "metadata": {
    "colab": {
     "base_uri": "https://localhost:8080/",
     "height": 424
    },
    "id": "aIkLVsjVWDRL",
    "outputId": "631ea301-9d38-4b8a-d365-984563236159"
   },
   "outputs": [
    {
     "data": {
      "text/html": [
       "\n",
       "  <div id=\"df-156fb8e2-eb7d-43c6-aa43-004e7f653ac9\">\n",
       "    <div class=\"colab-df-container\">\n",
       "      <div>\n",
       "<style scoped>\n",
       "    .dataframe tbody tr th:only-of-type {\n",
       "        vertical-align: middle;\n",
       "    }\n",
       "\n",
       "    .dataframe tbody tr th {\n",
       "        vertical-align: top;\n",
       "    }\n",
       "\n",
       "    .dataframe thead th {\n",
       "        text-align: right;\n",
       "    }\n",
       "</style>\n",
       "<table border=\"1\" class=\"dataframe\">\n",
       "  <thead>\n",
       "    <tr style=\"text-align: right;\">\n",
       "      <th></th>\n",
       "      <th>churn</th>\n",
       "      <th>churn_prob</th>\n",
       "      <th>final_pred</th>\n",
       "    </tr>\n",
       "  </thead>\n",
       "  <tbody>\n",
       "    <tr>\n",
       "      <th>0</th>\n",
       "      <td>0</td>\n",
       "      <td>0.310870</td>\n",
       "      <td>0</td>\n",
       "    </tr>\n",
       "    <tr>\n",
       "      <th>1</th>\n",
       "      <td>0</td>\n",
       "      <td>0.351662</td>\n",
       "      <td>0</td>\n",
       "    </tr>\n",
       "    <tr>\n",
       "      <th>2</th>\n",
       "      <td>0</td>\n",
       "      <td>0.047127</td>\n",
       "      <td>0</td>\n",
       "    </tr>\n",
       "    <tr>\n",
       "      <th>3</th>\n",
       "      <td>0</td>\n",
       "      <td>0.347497</td>\n",
       "      <td>0</td>\n",
       "    </tr>\n",
       "    <tr>\n",
       "      <th>4</th>\n",
       "      <td>0</td>\n",
       "      <td>0.178887</td>\n",
       "      <td>0</td>\n",
       "    </tr>\n",
       "    <tr>\n",
       "      <th>...</th>\n",
       "      <td>...</td>\n",
       "      <td>...</td>\n",
       "      <td>...</td>\n",
       "    </tr>\n",
       "    <tr>\n",
       "      <th>10341</th>\n",
       "      <td>1</td>\n",
       "      <td>0.365866</td>\n",
       "      <td>0</td>\n",
       "    </tr>\n",
       "    <tr>\n",
       "      <th>10342</th>\n",
       "      <td>1</td>\n",
       "      <td>0.965357</td>\n",
       "      <td>1</td>\n",
       "    </tr>\n",
       "    <tr>\n",
       "      <th>10343</th>\n",
       "      <td>1</td>\n",
       "      <td>0.981788</td>\n",
       "      <td>1</td>\n",
       "    </tr>\n",
       "    <tr>\n",
       "      <th>10344</th>\n",
       "      <td>1</td>\n",
       "      <td>0.994510</td>\n",
       "      <td>1</td>\n",
       "    </tr>\n",
       "    <tr>\n",
       "      <th>10345</th>\n",
       "      <td>1</td>\n",
       "      <td>0.976491</td>\n",
       "      <td>1</td>\n",
       "    </tr>\n",
       "  </tbody>\n",
       "</table>\n",
       "<p>10346 rows × 3 columns</p>\n",
       "</div>\n",
       "      <button class=\"colab-df-convert\" onclick=\"convertToInteractive('df-156fb8e2-eb7d-43c6-aa43-004e7f653ac9')\"\n",
       "              title=\"Convert this dataframe to an interactive table.\"\n",
       "              style=\"display:none;\">\n",
       "        \n",
       "  <svg xmlns=\"http://www.w3.org/2000/svg\" height=\"24px\"viewBox=\"0 0 24 24\"\n",
       "       width=\"24px\">\n",
       "    <path d=\"M0 0h24v24H0V0z\" fill=\"none\"/>\n",
       "    <path d=\"M18.56 5.44l.94 2.06.94-2.06 2.06-.94-2.06-.94-.94-2.06-.94 2.06-2.06.94zm-11 1L8.5 8.5l.94-2.06 2.06-.94-2.06-.94L8.5 2.5l-.94 2.06-2.06.94zm10 10l.94 2.06.94-2.06 2.06-.94-2.06-.94-.94-2.06-.94 2.06-2.06.94z\"/><path d=\"M17.41 7.96l-1.37-1.37c-.4-.4-.92-.59-1.43-.59-.52 0-1.04.2-1.43.59L10.3 9.45l-7.72 7.72c-.78.78-.78 2.05 0 2.83L4 21.41c.39.39.9.59 1.41.59.51 0 1.02-.2 1.41-.59l7.78-7.78 2.81-2.81c.8-.78.8-2.07 0-2.86zM5.41 20L4 18.59l7.72-7.72 1.47 1.35L5.41 20z\"/>\n",
       "  </svg>\n",
       "      </button>\n",
       "      \n",
       "  <style>\n",
       "    .colab-df-container {\n",
       "      display:flex;\n",
       "      flex-wrap:wrap;\n",
       "      gap: 12px;\n",
       "    }\n",
       "\n",
       "    .colab-df-convert {\n",
       "      background-color: #E8F0FE;\n",
       "      border: none;\n",
       "      border-radius: 50%;\n",
       "      cursor: pointer;\n",
       "      display: none;\n",
       "      fill: #1967D2;\n",
       "      height: 32px;\n",
       "      padding: 0 0 0 0;\n",
       "      width: 32px;\n",
       "    }\n",
       "\n",
       "    .colab-df-convert:hover {\n",
       "      background-color: #E2EBFA;\n",
       "      box-shadow: 0px 1px 2px rgba(60, 64, 67, 0.3), 0px 1px 3px 1px rgba(60, 64, 67, 0.15);\n",
       "      fill: #174EA6;\n",
       "    }\n",
       "\n",
       "    [theme=dark] .colab-df-convert {\n",
       "      background-color: #3B4455;\n",
       "      fill: #D2E3FC;\n",
       "    }\n",
       "\n",
       "    [theme=dark] .colab-df-convert:hover {\n",
       "      background-color: #434B5C;\n",
       "      box-shadow: 0px 1px 3px 1px rgba(0, 0, 0, 0.15);\n",
       "      filter: drop-shadow(0px 1px 2px rgba(0, 0, 0, 0.3));\n",
       "      fill: #FFFFFF;\n",
       "    }\n",
       "  </style>\n",
       "\n",
       "      <script>\n",
       "        const buttonEl =\n",
       "          document.querySelector('#df-156fb8e2-eb7d-43c6-aa43-004e7f653ac9 button.colab-df-convert');\n",
       "        buttonEl.style.display =\n",
       "          google.colab.kernel.accessAllowed ? 'block' : 'none';\n",
       "\n",
       "        async function convertToInteractive(key) {\n",
       "          const element = document.querySelector('#df-156fb8e2-eb7d-43c6-aa43-004e7f653ac9');\n",
       "          const dataTable =\n",
       "            await google.colab.kernel.invokeFunction('convertToInteractive',\n",
       "                                                     [key], {});\n",
       "          if (!dataTable) return;\n",
       "\n",
       "          const docLinkHtml = 'Like what you see? Visit the ' +\n",
       "            '<a target=\"_blank\" href=https://colab.research.google.com/notebooks/data_table.ipynb>data table notebook</a>'\n",
       "            + ' to learn more about interactive tables.';\n",
       "          element.innerHTML = '';\n",
       "          dataTable['output_type'] = 'display_data';\n",
       "          await google.colab.output.renderOutput(dataTable, element);\n",
       "          const docLink = document.createElement('div');\n",
       "          docLink.innerHTML = docLinkHtml;\n",
       "          element.appendChild(docLink);\n",
       "        }\n",
       "      </script>\n",
       "    </div>\n",
       "  </div>\n",
       "  "
      ],
      "text/plain": [
       "       churn  churn_prob  final_pred\n",
       "0          0    0.310870           0\n",
       "1          0    0.351662           0\n",
       "2          0    0.047127           0\n",
       "3          0    0.347497           0\n",
       "4          0    0.178887           0\n",
       "...      ...         ...         ...\n",
       "10341      1    0.365866           0\n",
       "10342      1    0.965357           1\n",
       "10343      1    0.981788           1\n",
       "10344      1    0.994510           1\n",
       "10345      1    0.976491           1\n",
       "\n",
       "[10346 rows x 3 columns]"
      ]
     },
     "execution_count": 282,
     "metadata": {},
     "output_type": "execute_result"
    }
   ],
   "source": [
    "# We need to now calculate the churn value on the train data set for the cut-off value of 0.42\n",
    "y_train_pred = learner_pca2.predict_proba(X_train_pca)[:,1]\n",
    "y_train_pred_df = pd.DataFrame({'churn':y_train_smo, 'churn_prob':y_train_pred})\n",
    "y_train_pred_df['final_pred'] = y_train_pred_df.churn_prob.map(lambda x: 1 if x > 0.40 else 0)\n",
    "y_train_pred_df"
   ]
  },
  {
   "cell_type": "code",
   "execution_count": 283,
   "metadata": {
    "colab": {
     "base_uri": "https://localhost:8080/"
    },
    "id": "zhC8h53EWDRM",
    "outputId": "f27d2fce-270b-4ce7-ed2d-e85321e9307f"
   },
   "outputs": [
    {
     "name": "stdout",
     "output_type": "stream",
     "text": [
      "ROC AUC Score  0.8959984535086024\n",
      "Precision Score 0.8852736505548241\n",
      "Sensitivity/Recall  0.9099168760873768\n",
      "Specificity  0.882080030929828\n",
      "Positive predictive value  0.8852736505548241\n",
      "Negative predictive value  0.9073374428315768\n",
      "Accuracy  0.9222929936305733\n"
     ]
    }
   ],
   "source": [
    "# Let us measure metrics of prediction on test data\n",
    "#prob_pred_test = learner_pca2.predict(X_test_pca)\n",
    "confusion = metrics.confusion_matrix(y_train_pred_df.churn, y_train_pred_df.final_pred)\n",
    "# True Positive\n",
    "TP = confusion[1,1]\n",
    "# True Negative\n",
    "TN = confusion[0,0]\n",
    "# False Positive\n",
    "FP = confusion[0,1]\n",
    "# False Negative\n",
    "FN = confusion[1,0]\n",
    "print(\"ROC AUC Score \", (metrics.roc_auc_score(y_train_pred_df.churn, y_train_pred_df.final_pred)))\n",
    "print(\"Precision Score\", (metrics.precision_score(y_train_pred_df.churn, y_train_pred_df.final_pred)))\n",
    "print(\"Sensitivity/Recall \", TP/float(TP + FN))\n",
    "print(\"Specificity \", TN/float(TN + FP))\n",
    "print(\"Positive predictive value \", TP/float(TP+FP))\n",
    "print(\"Negative predictive value \", TN/float(TN+FN))\n",
    "print(\"Accuracy \", metrics.accuracy_score(y_test, prob_pred_test))"
   ]
  },
  {
   "cell_type": "markdown",
   "metadata": {
    "id": "HV62tvdXWDRM"
   },
   "source": [
    "Now let us find these metrics by predicting on the test data set"
   ]
  },
  {
   "cell_type": "code",
   "execution_count": 284,
   "metadata": {
    "colab": {
     "base_uri": "https://localhost:8080/"
    },
    "id": "J26bpLNsWDRM",
    "outputId": "65792ff3-c4db-4e08-ceba-e942eace3c96"
   },
   "outputs": [
    {
     "name": "stdout",
     "output_type": "stream",
     "text": [
      "0    2210\n",
      "1     145\n",
      "Name: churn, dtype: int64\n",
      "0    1986\n",
      "1     369\n",
      "Name: final_pred, dtype: int64\n"
     ]
    }
   ],
   "source": [
    "y_test_pred = learner_pca2.predict_proba(X_test_pca)[:,1]\n",
    "y_test_pred_df = pd.DataFrame({'churn':y_test, 'churn_prob':y_test_pred})\n",
    "y_test_pred_df['final_pred'] = y_test_pred_df.churn_prob.apply(lambda x : 1 if x > 0.40 else 0)\n",
    "#& y_test_pred_df.churn_prob < 0.6)].head()\n",
    "y_test_pred_df[y_test_pred_df.churn_prob >= 0.42].head()\n",
    "print(y_test_pred_df.churn.value_counts())\n",
    "print(y_test_pred_df.final_pred.value_counts())"
   ]
  },
  {
   "cell_type": "code",
   "execution_count": 285,
   "metadata": {
    "colab": {
     "base_uri": "https://localhost:8080/"
    },
    "id": "sBe1sOvdWDRN",
    "outputId": "ab5b297e-4ef1-4b62-d4da-e7c7a4512192"
   },
   "outputs": [
    {
     "name": "stdout",
     "output_type": "stream",
     "text": [
      "ROC AUC Score  0.8758308628491183\n",
      "Precision Score 0.33875338753387535\n",
      "Sensitivity/Recall  0.8620689655172413\n",
      "Specificity  0.8895927601809954\n",
      "Positive predictive value  0.33875338753387535\n",
      "Negative predictive value  0.9899295065458208\n"
     ]
    }
   ],
   "source": [
    "# Let us measure metrics of prediction on test data\n",
    "#prob_pred_test = learner_pca2.predict(X_test_pca)\n",
    "confusion = metrics.confusion_matrix(y_test_pred_df.churn, y_test_pred_df.final_pred)\n",
    "# True Positive\n",
    "TP = confusion[1,1]\n",
    "# True Negative\n",
    "TN = confusion[0,0]\n",
    "# False Positive\n",
    "FP = confusion[0,1]\n",
    "# False Negative\n",
    "FN = confusion[1,0]\n",
    "print(\"ROC AUC Score \", (metrics.roc_auc_score(y_test_pred_df.churn, y_test_pred_df.final_pred)))\n",
    "print(\"Precision Score\", (metrics.precision_score(y_test_pred_df.churn, y_test_pred_df.final_pred)))\n",
    "print(\"Sensitivity/Recall \", TP/float(TP + FN))\n",
    "print(\"Specificity \", TN/float(TN + FP))\n",
    "print(\"Positive predictive value \", TP/float(TP+FP))\n",
    "print(\"Negative predictive value \", TN/float(TN+FN))\n",
    "#print(\"Accuracy \", metrics.accuracy_score(y_test, y_test_pred))"
   ]
  },
  {
   "cell_type": "code",
   "execution_count": 285,
   "metadata": {
    "id": "1gj51eotfIjD"
   },
   "outputs": [],
   "source": []
  },
  {
   "cell_type": "code",
   "execution_count": 285,
   "metadata": {
    "id": "H8eKqjN5zH63"
   },
   "outputs": [],
   "source": []
  },
  {
   "cell_type": "markdown",
   "metadata": {
    "id": "Qtzq8z-SzJ4C"
   },
   "source": [
    "# Build the model with SVM"
   ]
  },
  {
   "cell_type": "code",
   "execution_count": 305,
   "metadata": {
    "colab": {
     "base_uri": "https://localhost:8080/"
    },
    "id": "iQ1uj_N4zPku",
    "outputId": "e91b3c49-56d6-49f4-af4f-1c44e43ac9d8"
   },
   "outputs": [
    {
     "data": {
      "text/plain": [
       "SVC(C=0.1, gamma=0.5, kernel='linear', probability=True, random_state=100)"
      ]
     },
     "execution_count": 305,
     "metadata": {},
     "output_type": "execute_result"
    }
   ],
   "source": [
    "svm_model = svm.SVC(C=0.1, gamma = 0.5, kernel =  'linear', probability=True, random_state=100)\n",
    "svm_model.fit(X_train_smo, y_train_smo)"
   ]
  },
  {
   "cell_type": "code",
   "execution_count": 306,
   "metadata": {
    "id": "Xep0gZo51bFc"
   },
   "outputs": [],
   "source": [
    "y_train_predict = svm_model.predict(X_train)"
   ]
  },
  {
   "cell_type": "code",
   "execution_count": 307,
   "metadata": {
    "colab": {
     "base_uri": "https://localhost:8080/"
    },
    "id": "6k2MpALJ1581",
    "outputId": "bfe1d0ac-1923-4f0f-8ecd-72cc362244be"
   },
   "outputs": [
    {
     "name": "stdout",
     "output_type": "stream",
     "text": [
      "ROC AUC Score  0.853358575883139\n",
      "Precision Score 0.49490835030549896\n",
      "Sensitivity/Recall  0.7546583850931677\n",
      "Specificity  0.9520587666731104\n",
      "False positive rate 0.04794123332688962\n",
      "False negative rate 0.2453416149068323\n",
      "Positive predictive value  0.49490835030549896\n",
      "Negative predictive value  0.9842126298960832\n",
      "Accuracy  0.9404913557779799\n"
     ]
    }
   ],
   "source": [
    "Print_Metrics_KPIs(y_train, y_train_predict)"
   ]
  },
  {
   "cell_type": "code",
   "execution_count": 312,
   "metadata": {
    "id": "-s9Rp0Dxfgk6"
   },
   "outputs": [],
   "source": []
  },
  {
   "cell_type": "code",
   "execution_count": 308,
   "metadata": {
    "id": "3YTGKP3XdlmU"
   },
   "outputs": [],
   "source": [
    "# Evaluate the model on test data set\n",
    "y_test_pred = svm_model.predict(X_test)"
   ]
  },
  {
   "cell_type": "code",
   "execution_count": 309,
   "metadata": {
    "colab": {
     "base_uri": "https://localhost:8080/"
    },
    "id": "VVPyEaUreis8",
    "outputId": "7fed5360-310f-4025-ea9a-0dbc1d2de687"
   },
   "outputs": [
    {
     "name": "stdout",
     "output_type": "stream",
     "text": [
      "ROC AUC Score  0.8424403183023873\n",
      "Precision Score 0.5096153846153846\n",
      "Sensitivity/Recall  0.7310344827586207\n",
      "Specificity  0.9538461538461539\n",
      "False positive rate 0.046153846153846156\n",
      "False negative rate 0.2689655172413793\n",
      "Positive predictive value  0.5096153846153846\n",
      "Negative predictive value  0.9818351187703773\n",
      "Accuracy  0.9401273885350319\n"
     ]
    }
   ],
   "source": [
    "Print_Metrics_KPIs(y_test, y_test_pred)"
   ]
  },
  {
   "cell_type": "markdown",
   "metadata": {
    "id": "JOxQs8ANfJ8A"
   },
   "source": [
    "# Model Building with using Random Forest"
   ]
  },
  {
   "cell_type": "markdown",
   "metadata": {
    "id": "TLQlDYo2gQX2"
   },
   "source": [
    "# Build the model with tuning the parameter max_depth "
   ]
  },
  {
   "cell_type": "code",
   "execution_count": 289,
   "metadata": {
    "colab": {
     "base_uri": "https://localhost:8080/",
     "height": 338
    },
    "id": "ip5A3oEQWDRN",
    "outputId": "11fbbdad-f8ae-498f-c18b-0fd55f920ae2"
   },
   "outputs": [
    {
     "data": {
      "text/html": [
       "\n",
       "  <div id=\"df-d5f96754-8afd-45e1-aaad-345519e9dafe\">\n",
       "    <div class=\"colab-df-container\">\n",
       "      <div>\n",
       "<style scoped>\n",
       "    .dataframe tbody tr th:only-of-type {\n",
       "        vertical-align: middle;\n",
       "    }\n",
       "\n",
       "    .dataframe tbody tr th {\n",
       "        vertical-align: top;\n",
       "    }\n",
       "\n",
       "    .dataframe thead th {\n",
       "        text-align: right;\n",
       "    }\n",
       "</style>\n",
       "<table border=\"1\" class=\"dataframe\">\n",
       "  <thead>\n",
       "    <tr style=\"text-align: right;\">\n",
       "      <th></th>\n",
       "      <th>mean_fit_time</th>\n",
       "      <th>std_fit_time</th>\n",
       "      <th>mean_score_time</th>\n",
       "      <th>std_score_time</th>\n",
       "      <th>param_max_depth</th>\n",
       "      <th>params</th>\n",
       "      <th>split0_test_score</th>\n",
       "      <th>split1_test_score</th>\n",
       "      <th>split2_test_score</th>\n",
       "      <th>split3_test_score</th>\n",
       "      <th>...</th>\n",
       "      <th>mean_test_score</th>\n",
       "      <th>std_test_score</th>\n",
       "      <th>rank_test_score</th>\n",
       "      <th>split0_train_score</th>\n",
       "      <th>split1_train_score</th>\n",
       "      <th>split2_train_score</th>\n",
       "      <th>split3_train_score</th>\n",
       "      <th>split4_train_score</th>\n",
       "      <th>mean_train_score</th>\n",
       "      <th>std_train_score</th>\n",
       "    </tr>\n",
       "  </thead>\n",
       "  <tbody>\n",
       "    <tr>\n",
       "      <th>0</th>\n",
       "      <td>2.562557</td>\n",
       "      <td>0.018383</td>\n",
       "      <td>0.035507</td>\n",
       "      <td>0.002278</td>\n",
       "      <td>10</td>\n",
       "      <td>{'max_depth': 10}</td>\n",
       "      <td>0.941063</td>\n",
       "      <td>0.953601</td>\n",
       "      <td>0.947318</td>\n",
       "      <td>0.951184</td>\n",
       "      <td>...</td>\n",
       "      <td>0.948097</td>\n",
       "      <td>0.004255</td>\n",
       "      <td>4</td>\n",
       "      <td>0.976317</td>\n",
       "      <td>0.975474</td>\n",
       "      <td>0.976441</td>\n",
       "      <td>0.975716</td>\n",
       "      <td>0.976562</td>\n",
       "      <td>0.976102</td>\n",
       "      <td>0.000428</td>\n",
       "    </tr>\n",
       "    <tr>\n",
       "      <th>1</th>\n",
       "      <td>2.973460</td>\n",
       "      <td>0.023133</td>\n",
       "      <td>0.037787</td>\n",
       "      <td>0.000582</td>\n",
       "      <td>15</td>\n",
       "      <td>{'max_depth': 15}</td>\n",
       "      <td>0.962802</td>\n",
       "      <td>0.970517</td>\n",
       "      <td>0.964234</td>\n",
       "      <td>0.970517</td>\n",
       "      <td>...</td>\n",
       "      <td>0.966557</td>\n",
       "      <td>0.003294</td>\n",
       "      <td>3</td>\n",
       "      <td>0.994563</td>\n",
       "      <td>0.993234</td>\n",
       "      <td>0.994684</td>\n",
       "      <td>0.993959</td>\n",
       "      <td>0.995288</td>\n",
       "      <td>0.994346</td>\n",
       "      <td>0.000698</td>\n",
       "    </tr>\n",
       "    <tr>\n",
       "      <th>2</th>\n",
       "      <td>3.077637</td>\n",
       "      <td>0.023049</td>\n",
       "      <td>0.039040</td>\n",
       "      <td>0.000553</td>\n",
       "      <td>20</td>\n",
       "      <td>{'max_depth': 20}</td>\n",
       "      <td>0.963768</td>\n",
       "      <td>0.971000</td>\n",
       "      <td>0.965684</td>\n",
       "      <td>0.971000</td>\n",
       "      <td>...</td>\n",
       "      <td>0.968297</td>\n",
       "      <td>0.002999</td>\n",
       "      <td>1</td>\n",
       "      <td>0.999638</td>\n",
       "      <td>0.999517</td>\n",
       "      <td>1.000000</td>\n",
       "      <td>0.999638</td>\n",
       "      <td>1.000000</td>\n",
       "      <td>0.999758</td>\n",
       "      <td>0.000202</td>\n",
       "    </tr>\n",
       "    <tr>\n",
       "      <th>3</th>\n",
       "      <td>3.121242</td>\n",
       "      <td>0.034807</td>\n",
       "      <td>0.040085</td>\n",
       "      <td>0.001622</td>\n",
       "      <td>25</td>\n",
       "      <td>{'max_depth': 25}</td>\n",
       "      <td>0.965217</td>\n",
       "      <td>0.970517</td>\n",
       "      <td>0.965684</td>\n",
       "      <td>0.971484</td>\n",
       "      <td>...</td>\n",
       "      <td>0.968201</td>\n",
       "      <td>0.002506</td>\n",
       "      <td>2</td>\n",
       "      <td>1.000000</td>\n",
       "      <td>1.000000</td>\n",
       "      <td>1.000000</td>\n",
       "      <td>1.000000</td>\n",
       "      <td>1.000000</td>\n",
       "      <td>1.000000</td>\n",
       "      <td>0.000000</td>\n",
       "    </tr>\n",
       "  </tbody>\n",
       "</table>\n",
       "<p>4 rows × 21 columns</p>\n",
       "</div>\n",
       "      <button class=\"colab-df-convert\" onclick=\"convertToInteractive('df-d5f96754-8afd-45e1-aaad-345519e9dafe')\"\n",
       "              title=\"Convert this dataframe to an interactive table.\"\n",
       "              style=\"display:none;\">\n",
       "        \n",
       "  <svg xmlns=\"http://www.w3.org/2000/svg\" height=\"24px\"viewBox=\"0 0 24 24\"\n",
       "       width=\"24px\">\n",
       "    <path d=\"M0 0h24v24H0V0z\" fill=\"none\"/>\n",
       "    <path d=\"M18.56 5.44l.94 2.06.94-2.06 2.06-.94-2.06-.94-.94-2.06-.94 2.06-2.06.94zm-11 1L8.5 8.5l.94-2.06 2.06-.94-2.06-.94L8.5 2.5l-.94 2.06-2.06.94zm10 10l.94 2.06.94-2.06 2.06-.94-2.06-.94-.94-2.06-.94 2.06-2.06.94z\"/><path d=\"M17.41 7.96l-1.37-1.37c-.4-.4-.92-.59-1.43-.59-.52 0-1.04.2-1.43.59L10.3 9.45l-7.72 7.72c-.78.78-.78 2.05 0 2.83L4 21.41c.39.39.9.59 1.41.59.51 0 1.02-.2 1.41-.59l7.78-7.78 2.81-2.81c.8-.78.8-2.07 0-2.86zM5.41 20L4 18.59l7.72-7.72 1.47 1.35L5.41 20z\"/>\n",
       "  </svg>\n",
       "      </button>\n",
       "      \n",
       "  <style>\n",
       "    .colab-df-container {\n",
       "      display:flex;\n",
       "      flex-wrap:wrap;\n",
       "      gap: 12px;\n",
       "    }\n",
       "\n",
       "    .colab-df-convert {\n",
       "      background-color: #E8F0FE;\n",
       "      border: none;\n",
       "      border-radius: 50%;\n",
       "      cursor: pointer;\n",
       "      display: none;\n",
       "      fill: #1967D2;\n",
       "      height: 32px;\n",
       "      padding: 0 0 0 0;\n",
       "      width: 32px;\n",
       "    }\n",
       "\n",
       "    .colab-df-convert:hover {\n",
       "      background-color: #E2EBFA;\n",
       "      box-shadow: 0px 1px 2px rgba(60, 64, 67, 0.3), 0px 1px 3px 1px rgba(60, 64, 67, 0.15);\n",
       "      fill: #174EA6;\n",
       "    }\n",
       "\n",
       "    [theme=dark] .colab-df-convert {\n",
       "      background-color: #3B4455;\n",
       "      fill: #D2E3FC;\n",
       "    }\n",
       "\n",
       "    [theme=dark] .colab-df-convert:hover {\n",
       "      background-color: #434B5C;\n",
       "      box-shadow: 0px 1px 3px 1px rgba(0, 0, 0, 0.15);\n",
       "      filter: drop-shadow(0px 1px 2px rgba(0, 0, 0, 0.3));\n",
       "      fill: #FFFFFF;\n",
       "    }\n",
       "  </style>\n",
       "\n",
       "      <script>\n",
       "        const buttonEl =\n",
       "          document.querySelector('#df-d5f96754-8afd-45e1-aaad-345519e9dafe button.colab-df-convert');\n",
       "        buttonEl.style.display =\n",
       "          google.colab.kernel.accessAllowed ? 'block' : 'none';\n",
       "\n",
       "        async function convertToInteractive(key) {\n",
       "          const element = document.querySelector('#df-d5f96754-8afd-45e1-aaad-345519e9dafe');\n",
       "          const dataTable =\n",
       "            await google.colab.kernel.invokeFunction('convertToInteractive',\n",
       "                                                     [key], {});\n",
       "          if (!dataTable) return;\n",
       "\n",
       "          const docLinkHtml = 'Like what you see? Visit the ' +\n",
       "            '<a target=\"_blank\" href=https://colab.research.google.com/notebooks/data_table.ipynb>data table notebook</a>'\n",
       "            + ' to learn more about interactive tables.';\n",
       "          element.innerHTML = '';\n",
       "          dataTable['output_type'] = 'display_data';\n",
       "          await google.colab.output.renderOutput(dataTable, element);\n",
       "          const docLink = document.createElement('div');\n",
       "          docLink.innerHTML = docLinkHtml;\n",
       "          element.appendChild(docLink);\n",
       "        }\n",
       "      </script>\n",
       "    </div>\n",
       "  </div>\n",
       "  "
      ],
      "text/plain": [
       "   mean_fit_time  std_fit_time  mean_score_time  std_score_time  \\\n",
       "0       2.562557      0.018383         0.035507        0.002278   \n",
       "1       2.973460      0.023133         0.037787        0.000582   \n",
       "2       3.077637      0.023049         0.039040        0.000553   \n",
       "3       3.121242      0.034807         0.040085        0.001622   \n",
       "\n",
       "  param_max_depth             params  split0_test_score  split1_test_score  \\\n",
       "0              10  {'max_depth': 10}           0.941063           0.953601   \n",
       "1              15  {'max_depth': 15}           0.962802           0.970517   \n",
       "2              20  {'max_depth': 20}           0.963768           0.971000   \n",
       "3              25  {'max_depth': 25}           0.965217           0.970517   \n",
       "\n",
       "   split2_test_score  split3_test_score  ...  mean_test_score  std_test_score  \\\n",
       "0           0.947318           0.951184  ...         0.948097        0.004255   \n",
       "1           0.964234           0.970517  ...         0.966557        0.003294   \n",
       "2           0.965684           0.971000  ...         0.968297        0.002999   \n",
       "3           0.965684           0.971484  ...         0.968201        0.002506   \n",
       "\n",
       "   rank_test_score  split0_train_score  split1_train_score  \\\n",
       "0                4            0.976317            0.975474   \n",
       "1                3            0.994563            0.993234   \n",
       "2                1            0.999638            0.999517   \n",
       "3                2            1.000000            1.000000   \n",
       "\n",
       "   split2_train_score  split3_train_score  split4_train_score  \\\n",
       "0            0.976441            0.975716            0.976562   \n",
       "1            0.994684            0.993959            0.995288   \n",
       "2            1.000000            0.999638            1.000000   \n",
       "3            1.000000            1.000000            1.000000   \n",
       "\n",
       "   mean_train_score  std_train_score  \n",
       "0          0.976102         0.000428  \n",
       "1          0.994346         0.000698  \n",
       "2          0.999758         0.000202  \n",
       "3          1.000000         0.000000  \n",
       "\n",
       "[4 rows x 21 columns]"
      ]
     },
     "execution_count": 289,
     "metadata": {},
     "output_type": "execute_result"
    }
   ],
   "source": [
    "# Let us consider the number of fold as 5 for the k_fold Cross Validation\n",
    "folds = 5\n",
    "params = {'max_depth': range(10,30,5)}\n",
    "# Instantiate the RandomForest\n",
    "rnf = RandomForestClassifier()\n",
    "rnf = GridSearchCV(rnf, params, cv=folds, scoring=\"accuracy\", return_train_score=True)\n",
    "rnf.fit(X_train_pca, y_train_smo)\n",
    "# GridSearch CV results\n",
    "scores = rnf.cv_results_\n",
    "pd.DataFrame(scores).head()"
   ]
  },
  {
   "cell_type": "code",
   "execution_count": 290,
   "metadata": {
    "colab": {
     "base_uri": "https://localhost:8080/",
     "height": 279
    },
    "id": "VH19M0zdWDRN",
    "outputId": "c6252172-b101-4bd4-a709-3a6b531722c8"
   },
   "outputs": [
    {
     "data": {
      "image/png": "[encoded data removed]",
      "text/plain": [
       "<Figure size 432x288 with 1 Axes>"
      ]
     },
     "metadata": {
      "needs_background": "light"
     },
     "output_type": "display_data"
    }
   ],
   "source": [
    "# plot the accuracy with max depth\n",
    "plt.figure()\n",
    "plt.plot(scores[\"param_max_depth\"],\n",
    "         scores[\"mean_train_score\"],\n",
    "         label=\"train accuracy\")\n",
    "plt.plot(scores[\"param_max_depth\"],\n",
    "         scores[\"mean_test_score\"],\n",
    "         label=\"test accuracy\")\n",
    "plt.xlabel(\"Max Depth\")\n",
    "plt.ylabel(\"Accuracy\")\n",
    "plt.legend()\n",
    "plt.show()"
   ]
  },
  {
   "cell_type": "markdown",
   "metadata": {
    "id": "s1p7ZBaVWDRO"
   },
   "source": [
    "Observation - The above plot shows that as the maximum depth increases both train and test accuracy increases. After a certain depth say 20 it flattens. So we feel that 20 is the right number max_depth value.\n",
    "Further increase in the max depth beyond 20 leads to overfitting. One of the ways to control it is to choose the optimum value of max depth"
   ]
  },
  {
   "cell_type": "markdown",
   "metadata": {
    "id": "cHVgF-3BWDRO"
   },
   "source": [
    "Now let us find the optimum value of estimator and see how it affects the accuracy of the model"
   ]
  },
  {
   "cell_type": "markdown",
   "metadata": {
    "id": "sIoXzqByhMbk"
   },
   "source": [
    "# Build the model by tuning the n_estimators parameter"
   ]
  },
  {
   "cell_type": "code",
   "execution_count": 291,
   "metadata": {
    "colab": {
     "base_uri": "https://localhost:8080/",
     "height": 338
    },
    "id": "HEhFEj1kWDRO",
    "outputId": "3009db25-ab6b-41a1-eb06-79011c6b2a22"
   },
   "outputs": [
    {
     "data": {
      "text/html": [
       "\n",
       "  <div id=\"df-09b24207-c55b-421e-aa43-0bff0a02b46c\">\n",
       "    <div class=\"colab-df-container\">\n",
       "      <div>\n",
       "<style scoped>\n",
       "    .dataframe tbody tr th:only-of-type {\n",
       "        vertical-align: middle;\n",
       "    }\n",
       "\n",
       "    .dataframe tbody tr th {\n",
       "        vertical-align: top;\n",
       "    }\n",
       "\n",
       "    .dataframe thead th {\n",
       "        text-align: right;\n",
       "    }\n",
       "</style>\n",
       "<table border=\"1\" class=\"dataframe\">\n",
       "  <thead>\n",
       "    <tr style=\"text-align: right;\">\n",
       "      <th></th>\n",
       "      <th>mean_fit_time</th>\n",
       "      <th>std_fit_time</th>\n",
       "      <th>mean_score_time</th>\n",
       "      <th>std_score_time</th>\n",
       "      <th>param_n_estimators</th>\n",
       "      <th>params</th>\n",
       "      <th>split0_test_score</th>\n",
       "      <th>split1_test_score</th>\n",
       "      <th>split2_test_score</th>\n",
       "      <th>split3_test_score</th>\n",
       "      <th>...</th>\n",
       "      <th>mean_test_score</th>\n",
       "      <th>std_test_score</th>\n",
       "      <th>rank_test_score</th>\n",
       "      <th>split0_train_score</th>\n",
       "      <th>split1_train_score</th>\n",
       "      <th>split2_train_score</th>\n",
       "      <th>split3_train_score</th>\n",
       "      <th>split4_train_score</th>\n",
       "      <th>mean_train_score</th>\n",
       "      <th>std_train_score</th>\n",
       "    </tr>\n",
       "  </thead>\n",
       "  <tbody>\n",
       "    <tr>\n",
       "      <th>0</th>\n",
       "      <td>1.551285</td>\n",
       "      <td>0.016359</td>\n",
       "      <td>0.020027</td>\n",
       "      <td>0.000138</td>\n",
       "      <td>50</td>\n",
       "      <td>{'n_estimators': 50}</td>\n",
       "      <td>0.964251</td>\n",
       "      <td>0.971484</td>\n",
       "      <td>0.966167</td>\n",
       "      <td>0.972450</td>\n",
       "      <td>...</td>\n",
       "      <td>0.968007</td>\n",
       "      <td>0.003308</td>\n",
       "      <td>3</td>\n",
       "      <td>0.999154</td>\n",
       "      <td>0.999396</td>\n",
       "      <td>0.999275</td>\n",
       "      <td>0.999396</td>\n",
       "      <td>0.999638</td>\n",
       "      <td>0.999372</td>\n",
       "      <td>0.000160</td>\n",
       "    </tr>\n",
       "    <tr>\n",
       "      <th>1</th>\n",
       "      <td>2.289416</td>\n",
       "      <td>0.021638</td>\n",
       "      <td>0.030288</td>\n",
       "      <td>0.002308</td>\n",
       "      <td>75</td>\n",
       "      <td>{'n_estimators': 75}</td>\n",
       "      <td>0.966184</td>\n",
       "      <td>0.972934</td>\n",
       "      <td>0.964717</td>\n",
       "      <td>0.970517</td>\n",
       "      <td>...</td>\n",
       "      <td>0.968780</td>\n",
       "      <td>0.002970</td>\n",
       "      <td>2</td>\n",
       "      <td>0.999758</td>\n",
       "      <td>0.999638</td>\n",
       "      <td>0.999758</td>\n",
       "      <td>0.999517</td>\n",
       "      <td>0.999879</td>\n",
       "      <td>0.999710</td>\n",
       "      <td>0.000123</td>\n",
       "    </tr>\n",
       "    <tr>\n",
       "      <th>2</th>\n",
       "      <td>3.066741</td>\n",
       "      <td>0.020894</td>\n",
       "      <td>0.039343</td>\n",
       "      <td>0.000628</td>\n",
       "      <td>100</td>\n",
       "      <td>{'n_estimators': 100}</td>\n",
       "      <td>0.967150</td>\n",
       "      <td>0.971967</td>\n",
       "      <td>0.965201</td>\n",
       "      <td>0.972450</td>\n",
       "      <td>...</td>\n",
       "      <td>0.969167</td>\n",
       "      <td>0.002772</td>\n",
       "      <td>1</td>\n",
       "      <td>0.999638</td>\n",
       "      <td>0.999638</td>\n",
       "      <td>1.000000</td>\n",
       "      <td>0.999638</td>\n",
       "      <td>0.999879</td>\n",
       "      <td>0.999758</td>\n",
       "      <td>0.000153</td>\n",
       "    </tr>\n",
       "    <tr>\n",
       "      <th>3</th>\n",
       "      <td>3.831134</td>\n",
       "      <td>0.030651</td>\n",
       "      <td>0.050064</td>\n",
       "      <td>0.002825</td>\n",
       "      <td>125</td>\n",
       "      <td>{'n_estimators': 125}</td>\n",
       "      <td>0.963285</td>\n",
       "      <td>0.970517</td>\n",
       "      <td>0.967134</td>\n",
       "      <td>0.971000</td>\n",
       "      <td>...</td>\n",
       "      <td>0.967717</td>\n",
       "      <td>0.002819</td>\n",
       "      <td>4</td>\n",
       "      <td>0.999879</td>\n",
       "      <td>0.999758</td>\n",
       "      <td>0.999638</td>\n",
       "      <td>0.999758</td>\n",
       "      <td>1.000000</td>\n",
       "      <td>0.999807</td>\n",
       "      <td>0.000123</td>\n",
       "    </tr>\n",
       "  </tbody>\n",
       "</table>\n",
       "<p>4 rows × 21 columns</p>\n",
       "</div>\n",
       "      <button class=\"colab-df-convert\" onclick=\"convertToInteractive('df-09b24207-c55b-421e-aa43-0bff0a02b46c')\"\n",
       "              title=\"Convert this dataframe to an interactive table.\"\n",
       "              style=\"display:none;\">\n",
       "        \n",
       "  <svg xmlns=\"http://www.w3.org/2000/svg\" height=\"24px\"viewBox=\"0 0 24 24\"\n",
       "       width=\"24px\">\n",
       "    <path d=\"M0 0h24v24H0V0z\" fill=\"none\"/>\n",
       "    <path d=\"M18.56 5.44l.94 2.06.94-2.06 2.06-.94-2.06-.94-.94-2.06-.94 2.06-2.06.94zm-11 1L8.5 8.5l.94-2.06 2.06-.94-2.06-.94L8.5 2.5l-.94 2.06-2.06.94zm10 10l.94 2.06.94-2.06 2.06-.94-2.06-.94-.94-2.06-.94 2.06-2.06.94z\"/><path d=\"M17.41 7.96l-1.37-1.37c-.4-.4-.92-.59-1.43-.59-.52 0-1.04.2-1.43.59L10.3 9.45l-7.72 7.72c-.78.78-.78 2.05 0 2.83L4 21.41c.39.39.9.59 1.41.59.51 0 1.02-.2 1.41-.59l7.78-7.78 2.81-2.81c.8-.78.8-2.07 0-2.86zM5.41 20L4 18.59l7.72-7.72 1.47 1.35L5.41 20z\"/>\n",
       "  </svg>\n",
       "      </button>\n",
       "      \n",
       "  <style>\n",
       "    .colab-df-container {\n",
       "      display:flex;\n",
       "      flex-wrap:wrap;\n",
       "      gap: 12px;\n",
       "    }\n",
       "\n",
       "    .colab-df-convert {\n",
       "      background-color: #E8F0FE;\n",
       "      border: none;\n",
       "      border-radius: 50%;\n",
       "      cursor: pointer;\n",
       "      display: none;\n",
       "      fill: #1967D2;\n",
       "      height: 32px;\n",
       "      padding: 0 0 0 0;\n",
       "      width: 32px;\n",
       "    }\n",
       "\n",
       "    .colab-df-convert:hover {\n",
       "      background-color: #E2EBFA;\n",
       "      box-shadow: 0px 1px 2px rgba(60, 64, 67, 0.3), 0px 1px 3px 1px rgba(60, 64, 67, 0.15);\n",
       "      fill: #174EA6;\n",
       "    }\n",
       "\n",
       "    [theme=dark] .colab-df-convert {\n",
       "      background-color: #3B4455;\n",
       "      fill: #D2E3FC;\n",
       "    }\n",
       "\n",
       "    [theme=dark] .colab-df-convert:hover {\n",
       "      background-color: #434B5C;\n",
       "      box-shadow: 0px 1px 3px 1px rgba(0, 0, 0, 0.15);\n",
       "      filter: drop-shadow(0px 1px 2px rgba(0, 0, 0, 0.3));\n",
       "      fill: #FFFFFF;\n",
       "    }\n",
       "  </style>\n",
       "\n",
       "      <script>\n",
       "        const buttonEl =\n",
       "          document.querySelector('#df-09b24207-c55b-421e-aa43-0bff0a02b46c button.colab-df-convert');\n",
       "        buttonEl.style.display =\n",
       "          google.colab.kernel.accessAllowed ? 'block' : 'none';\n",
       "\n",
       "        async function convertToInteractive(key) {\n",
       "          const element = document.querySelector('#df-09b24207-c55b-421e-aa43-0bff0a02b46c');\n",
       "          const dataTable =\n",
       "            await google.colab.kernel.invokeFunction('convertToInteractive',\n",
       "                                                     [key], {});\n",
       "          if (!dataTable) return;\n",
       "\n",
       "          const docLinkHtml = 'Like what you see? Visit the ' +\n",
       "            '<a target=\"_blank\" href=https://colab.research.google.com/notebooks/data_table.ipynb>data table notebook</a>'\n",
       "            + ' to learn more about interactive tables.';\n",
       "          element.innerHTML = '';\n",
       "          dataTable['output_type'] = 'display_data';\n",
       "          await google.colab.output.renderOutput(dataTable, element);\n",
       "          const docLink = document.createElement('div');\n",
       "          docLink.innerHTML = docLinkHtml;\n",
       "          element.appendChild(docLink);\n",
       "        }\n",
       "      </script>\n",
       "    </div>\n",
       "  </div>\n",
       "  "
      ],
      "text/plain": [
       "   mean_fit_time  std_fit_time  mean_score_time  std_score_time  \\\n",
       "0       1.551285      0.016359         0.020027        0.000138   \n",
       "1       2.289416      0.021638         0.030288        0.002308   \n",
       "2       3.066741      0.020894         0.039343        0.000628   \n",
       "3       3.831134      0.030651         0.050064        0.002825   \n",
       "\n",
       "  param_n_estimators                 params  split0_test_score  \\\n",
       "0                 50   {'n_estimators': 50}           0.964251   \n",
       "1                 75   {'n_estimators': 75}           0.966184   \n",
       "2                100  {'n_estimators': 100}           0.967150   \n",
       "3                125  {'n_estimators': 125}           0.963285   \n",
       "\n",
       "   split1_test_score  split2_test_score  split3_test_score  ...  \\\n",
       "0           0.971484           0.966167           0.972450  ...   \n",
       "1           0.972934           0.964717           0.970517  ...   \n",
       "2           0.971967           0.965201           0.972450  ...   \n",
       "3           0.970517           0.967134           0.971000  ...   \n",
       "\n",
       "   mean_test_score  std_test_score  rank_test_score  split0_train_score  \\\n",
       "0         0.968007        0.003308                3            0.999154   \n",
       "1         0.968780        0.002970                2            0.999758   \n",
       "2         0.969167        0.002772                1            0.999638   \n",
       "3         0.967717        0.002819                4            0.999879   \n",
       "\n",
       "   split1_train_score  split2_train_score  split3_train_score  \\\n",
       "0            0.999396            0.999275            0.999396   \n",
       "1            0.999638            0.999758            0.999517   \n",
       "2            0.999638            1.000000            0.999638   \n",
       "3            0.999758            0.999638            0.999758   \n",
       "\n",
       "   split4_train_score  mean_train_score  std_train_score  \n",
       "0            0.999638          0.999372         0.000160  \n",
       "1            0.999879          0.999710         0.000123  \n",
       "2            0.999879          0.999758         0.000153  \n",
       "3            1.000000          0.999807         0.000123  \n",
       "\n",
       "[4 rows x 21 columns]"
      ]
     },
     "execution_count": 291,
     "metadata": {},
     "output_type": "execute_result"
    }
   ],
   "source": [
    "folds = 5\n",
    "params = {'n_estimators': range(50,150,25)}\n",
    "# Instantiate the RandomForest\n",
    "rnf = RandomForestClassifier(max_depth=20)\n",
    "rnf = GridSearchCV(rnf, params, cv=folds, scoring=\"accuracy\", return_train_score=True)\n",
    "rnf.fit(X_train_pca, y_train_smo)\n",
    "# GridSearch CV results\n",
    "scores = rnf.cv_results_\n",
    "pd.DataFrame(scores).head()"
   ]
  },
  {
   "cell_type": "markdown",
   "metadata": {
    "id": "iNIfLAKCWDRO"
   },
   "source": []
  },
  {
   "cell_type": "code",
   "execution_count": 292,
   "metadata": {
    "colab": {
     "base_uri": "https://localhost:8080/",
     "height": 279
    },
    "id": "-RTjbcnQWDRP",
    "outputId": "f3d2c6e9-d878-47bb-cbb6-046837e983af"
   },
   "outputs": [
    {
     "data": {
      "image/png": "[encoded data removed]",
      "text/plain": [
       "<Figure size 432x288 with 1 Axes>"
      ]
     },
     "metadata": {
      "needs_background": "light"
     },
     "output_type": "display_data"
    }
   ],
   "source": [
    "# plot the accuracy with max depth\n",
    "plt.figure()\n",
    "plt.plot(scores[\"param_n_estimators\"],\n",
    "         scores[\"mean_train_score\"],\n",
    "         label=\"train accuracy\")\n",
    "plt.plot(scores[\"param_n_estimators\"],\n",
    "         scores[\"mean_test_score\"],\n",
    "         label=\"test accuracy\")\n",
    "plt.xlabel(\"n estimators\")\n",
    "plt.ylabel(\"Accuracy\")\n",
    "plt.legend()\n",
    "plt.show()"
   ]
  },
  {
   "cell_type": "code",
   "execution_count": 292,
   "metadata": {
    "id": "HRiqGEANiYc1"
   },
   "outputs": [],
   "source": []
  },
  {
   "cell_type": "markdown",
   "metadata": {
    "id": "6WWapy4TigtM"
   },
   "source": [
    "# Build the model by tuning the max_features parameter"
   ]
  },
  {
   "cell_type": "code",
   "execution_count": 293,
   "metadata": {
    "colab": {
     "base_uri": "https://localhost:8080/"
    },
    "id": "YFU7aWEcWDRP",
    "outputId": "6455cf07-56af-4590-db97-bcfdd2b5e0f1"
   },
   "outputs": [
    {
     "data": {
      "text/plain": [
       "GridSearchCV(cv=5,\n",
       "             estimator=RandomForestClassifier(max_depth=20, n_estimators=80),\n",
       "             param_grid={'max_features': [4, 8, 14, 20, 24]},\n",
       "             return_train_score=True, scoring='accuracy')"
      ]
     },
     "execution_count": 293,
     "metadata": {},
     "output_type": "execute_result"
    }
   ],
   "source": [
    "folds = 5\n",
    "params = {'max_features': [4, 8, 14, 20, 24]}\n",
    "# Instantiate the RandomForest\n",
    "rnf = RandomForestClassifier(max_depth=20, n_estimators=80)\n",
    "rnf = GridSearchCV(rnf, params, cv=folds, scoring=\"accuracy\", return_train_score=True)\n",
    "rnf.fit(X_train_pca, y_train_smo)\n"
   ]
  },
  {
   "cell_type": "code",
   "execution_count": 294,
   "metadata": {
    "colab": {
     "base_uri": "https://localhost:8080/",
     "height": 386
    },
    "id": "LzaH7qsKWDRP",
    "outputId": "327e8225-9d73-4021-cf1f-b10b4d92f4dd"
   },
   "outputs": [
    {
     "data": {
      "text/html": [
       "\n",
       "  <div id=\"df-dd0895f2-23cb-49ba-bb32-6213be8312e9\">\n",
       "    <div class=\"colab-df-container\">\n",
       "      <div>\n",
       "<style scoped>\n",
       "    .dataframe tbody tr th:only-of-type {\n",
       "        vertical-align: middle;\n",
       "    }\n",
       "\n",
       "    .dataframe tbody tr th {\n",
       "        vertical-align: top;\n",
       "    }\n",
       "\n",
       "    .dataframe thead th {\n",
       "        text-align: right;\n",
       "    }\n",
       "</style>\n",
       "<table border=\"1\" class=\"dataframe\">\n",
       "  <thead>\n",
       "    <tr style=\"text-align: right;\">\n",
       "      <th></th>\n",
       "      <th>mean_fit_time</th>\n",
       "      <th>std_fit_time</th>\n",
       "      <th>mean_score_time</th>\n",
       "      <th>std_score_time</th>\n",
       "      <th>param_max_features</th>\n",
       "      <th>params</th>\n",
       "      <th>split0_test_score</th>\n",
       "      <th>split1_test_score</th>\n",
       "      <th>split2_test_score</th>\n",
       "      <th>split3_test_score</th>\n",
       "      <th>...</th>\n",
       "      <th>mean_test_score</th>\n",
       "      <th>std_test_score</th>\n",
       "      <th>rank_test_score</th>\n",
       "      <th>split0_train_score</th>\n",
       "      <th>split1_train_score</th>\n",
       "      <th>split2_train_score</th>\n",
       "      <th>split3_train_score</th>\n",
       "      <th>split4_train_score</th>\n",
       "      <th>mean_train_score</th>\n",
       "      <th>std_train_score</th>\n",
       "    </tr>\n",
       "  </thead>\n",
       "  <tbody>\n",
       "    <tr>\n",
       "      <th>0</th>\n",
       "      <td>2.461137</td>\n",
       "      <td>0.010707</td>\n",
       "      <td>0.031277</td>\n",
       "      <td>0.000608</td>\n",
       "      <td>4</td>\n",
       "      <td>{'max_features': 4}</td>\n",
       "      <td>0.965217</td>\n",
       "      <td>0.971484</td>\n",
       "      <td>0.964234</td>\n",
       "      <td>0.973900</td>\n",
       "      <td>...</td>\n",
       "      <td>0.968201</td>\n",
       "      <td>0.003796</td>\n",
       "      <td>1</td>\n",
       "      <td>1.000000</td>\n",
       "      <td>0.999638</td>\n",
       "      <td>0.999758</td>\n",
       "      <td>0.999517</td>\n",
       "      <td>0.999879</td>\n",
       "      <td>0.999758</td>\n",
       "      <td>0.000171</td>\n",
       "    </tr>\n",
       "    <tr>\n",
       "      <th>1</th>\n",
       "      <td>4.706143</td>\n",
       "      <td>0.078764</td>\n",
       "      <td>0.031220</td>\n",
       "      <td>0.000958</td>\n",
       "      <td>8</td>\n",
       "      <td>{'max_features': 8}</td>\n",
       "      <td>0.967150</td>\n",
       "      <td>0.965684</td>\n",
       "      <td>0.964717</td>\n",
       "      <td>0.971000</td>\n",
       "      <td>...</td>\n",
       "      <td>0.967427</td>\n",
       "      <td>0.002217</td>\n",
       "      <td>3</td>\n",
       "      <td>0.999154</td>\n",
       "      <td>0.998671</td>\n",
       "      <td>0.999638</td>\n",
       "      <td>0.999154</td>\n",
       "      <td>0.999879</td>\n",
       "      <td>0.999299</td>\n",
       "      <td>0.000421</td>\n",
       "    </tr>\n",
       "    <tr>\n",
       "      <th>2</th>\n",
       "      <td>8.293339</td>\n",
       "      <td>0.101280</td>\n",
       "      <td>0.029367</td>\n",
       "      <td>0.000278</td>\n",
       "      <td>14</td>\n",
       "      <td>{'max_features': 14}</td>\n",
       "      <td>0.968116</td>\n",
       "      <td>0.964717</td>\n",
       "      <td>0.966651</td>\n",
       "      <td>0.971000</td>\n",
       "      <td>...</td>\n",
       "      <td>0.967814</td>\n",
       "      <td>0.002087</td>\n",
       "      <td>2</td>\n",
       "      <td>0.999033</td>\n",
       "      <td>0.998429</td>\n",
       "      <td>0.999638</td>\n",
       "      <td>0.998309</td>\n",
       "      <td>0.999638</td>\n",
       "      <td>0.999009</td>\n",
       "      <td>0.000569</td>\n",
       "    </tr>\n",
       "    <tr>\n",
       "      <th>3</th>\n",
       "      <td>12.004202</td>\n",
       "      <td>0.083192</td>\n",
       "      <td>0.030301</td>\n",
       "      <td>0.002377</td>\n",
       "      <td>20</td>\n",
       "      <td>{'max_features': 20}</td>\n",
       "      <td>0.964734</td>\n",
       "      <td>0.963751</td>\n",
       "      <td>0.963267</td>\n",
       "      <td>0.966167</td>\n",
       "      <td>...</td>\n",
       "      <td>0.964914</td>\n",
       "      <td>0.001318</td>\n",
       "      <td>4</td>\n",
       "      <td>0.998913</td>\n",
       "      <td>0.998067</td>\n",
       "      <td>0.999517</td>\n",
       "      <td>0.998913</td>\n",
       "      <td>0.999396</td>\n",
       "      <td>0.998961</td>\n",
       "      <td>0.000510</td>\n",
       "    </tr>\n",
       "    <tr>\n",
       "      <th>4</th>\n",
       "      <td>0.035030</td>\n",
       "      <td>0.003674</td>\n",
       "      <td>0.000000</td>\n",
       "      <td>0.000000</td>\n",
       "      <td>24</td>\n",
       "      <td>{'max_features': 24}</td>\n",
       "      <td>NaN</td>\n",
       "      <td>NaN</td>\n",
       "      <td>NaN</td>\n",
       "      <td>NaN</td>\n",
       "      <td>...</td>\n",
       "      <td>NaN</td>\n",
       "      <td>NaN</td>\n",
       "      <td>5</td>\n",
       "      <td>NaN</td>\n",
       "      <td>NaN</td>\n",
       "      <td>NaN</td>\n",
       "      <td>NaN</td>\n",
       "      <td>NaN</td>\n",
       "      <td>NaN</td>\n",
       "      <td>NaN</td>\n",
       "    </tr>\n",
       "  </tbody>\n",
       "</table>\n",
       "<p>5 rows × 21 columns</p>\n",
       "</div>\n",
       "      <button class=\"colab-df-convert\" onclick=\"convertToInteractive('df-dd0895f2-23cb-49ba-bb32-6213be8312e9')\"\n",
       "              title=\"Convert this dataframe to an interactive table.\"\n",
       "              style=\"display:none;\">\n",
       "        \n",
       "  <svg xmlns=\"http://www.w3.org/2000/svg\" height=\"24px\"viewBox=\"0 0 24 24\"\n",
       "       width=\"24px\">\n",
       "    <path d=\"M0 0h24v24H0V0z\" fill=\"none\"/>\n",
       "    <path d=\"M18.56 5.44l.94 2.06.94-2.06 2.06-.94-2.06-.94-.94-2.06-.94 2.06-2.06.94zm-11 1L8.5 8.5l.94-2.06 2.06-.94-2.06-.94L8.5 2.5l-.94 2.06-2.06.94zm10 10l.94 2.06.94-2.06 2.06-.94-2.06-.94-.94-2.06-.94 2.06-2.06.94z\"/><path d=\"M17.41 7.96l-1.37-1.37c-.4-.4-.92-.59-1.43-.59-.52 0-1.04.2-1.43.59L10.3 9.45l-7.72 7.72c-.78.78-.78 2.05 0 2.83L4 21.41c.39.39.9.59 1.41.59.51 0 1.02-.2 1.41-.59l7.78-7.78 2.81-2.81c.8-.78.8-2.07 0-2.86zM5.41 20L4 18.59l7.72-7.72 1.47 1.35L5.41 20z\"/>\n",
       "  </svg>\n",
       "      </button>\n",
       "      \n",
       "  <style>\n",
       "    .colab-df-container {\n",
       "      display:flex;\n",
       "      flex-wrap:wrap;\n",
       "      gap: 12px;\n",
       "    }\n",
       "\n",
       "    .colab-df-convert {\n",
       "      background-color: #E8F0FE;\n",
       "      border: none;\n",
       "      border-radius: 50%;\n",
       "      cursor: pointer;\n",
       "      display: none;\n",
       "      fill: #1967D2;\n",
       "      height: 32px;\n",
       "      padding: 0 0 0 0;\n",
       "      width: 32px;\n",
       "    }\n",
       "\n",
       "    .colab-df-convert:hover {\n",
       "      background-color: #E2EBFA;\n",
       "      box-shadow: 0px 1px 2px rgba(60, 64, 67, 0.3), 0px 1px 3px 1px rgba(60, 64, 67, 0.15);\n",
       "      fill: #174EA6;\n",
       "    }\n",
       "\n",
       "    [theme=dark] .colab-df-convert {\n",
       "      background-color: #3B4455;\n",
       "      fill: #D2E3FC;\n",
       "    }\n",
       "\n",
       "    [theme=dark] .colab-df-convert:hover {\n",
       "      background-color: #434B5C;\n",
       "      box-shadow: 0px 1px 3px 1px rgba(0, 0, 0, 0.15);\n",
       "      filter: drop-shadow(0px 1px 2px rgba(0, 0, 0, 0.3));\n",
       "      fill: #FFFFFF;\n",
       "    }\n",
       "  </style>\n",
       "\n",
       "      <script>\n",
       "        const buttonEl =\n",
       "          document.querySelector('#df-dd0895f2-23cb-49ba-bb32-6213be8312e9 button.colab-df-convert');\n",
       "        buttonEl.style.display =\n",
       "          google.colab.kernel.accessAllowed ? 'block' : 'none';\n",
       "\n",
       "        async function convertToInteractive(key) {\n",
       "          const element = document.querySelector('#df-dd0895f2-23cb-49ba-bb32-6213be8312e9');\n",
       "          const dataTable =\n",
       "            await google.colab.kernel.invokeFunction('convertToInteractive',\n",
       "                                                     [key], {});\n",
       "          if (!dataTable) return;\n",
       "\n",
       "          const docLinkHtml = 'Like what you see? Visit the ' +\n",
       "            '<a target=\"_blank\" href=https://colab.research.google.com/notebooks/data_table.ipynb>data table notebook</a>'\n",
       "            + ' to learn more about interactive tables.';\n",
       "          element.innerHTML = '';\n",
       "          dataTable['output_type'] = 'display_data';\n",
       "          await google.colab.output.renderOutput(dataTable, element);\n",
       "          const docLink = document.createElement('div');\n",
       "          docLink.innerHTML = docLinkHtml;\n",
       "          element.appendChild(docLink);\n",
       "        }\n",
       "      </script>\n",
       "    </div>\n",
       "  </div>\n",
       "  "
      ],
      "text/plain": [
       "   mean_fit_time  std_fit_time  mean_score_time  std_score_time  \\\n",
       "0       2.461137      0.010707         0.031277        0.000608   \n",
       "1       4.706143      0.078764         0.031220        0.000958   \n",
       "2       8.293339      0.101280         0.029367        0.000278   \n",
       "3      12.004202      0.083192         0.030301        0.002377   \n",
       "4       0.035030      0.003674         0.000000        0.000000   \n",
       "\n",
       "  param_max_features                params  split0_test_score  \\\n",
       "0                  4   {'max_features': 4}           0.965217   \n",
       "1                  8   {'max_features': 8}           0.967150   \n",
       "2                 14  {'max_features': 14}           0.968116   \n",
       "3                 20  {'max_features': 20}           0.964734   \n",
       "4                 24  {'max_features': 24}                NaN   \n",
       "\n",
       "   split1_test_score  split2_test_score  split3_test_score  ...  \\\n",
       "0           0.971484           0.964234           0.973900  ...   \n",
       "1           0.965684           0.964717           0.971000  ...   \n",
       "2           0.964717           0.966651           0.971000  ...   \n",
       "3           0.963751           0.963267           0.966167  ...   \n",
       "4                NaN                NaN                NaN  ...   \n",
       "\n",
       "   mean_test_score  std_test_score  rank_test_score  split0_train_score  \\\n",
       "0         0.968201        0.003796                1            1.000000   \n",
       "1         0.967427        0.002217                3            0.999154   \n",
       "2         0.967814        0.002087                2            0.999033   \n",
       "3         0.964914        0.001318                4            0.998913   \n",
       "4              NaN             NaN                5                 NaN   \n",
       "\n",
       "   split1_train_score  split2_train_score  split3_train_score  \\\n",
       "0            0.999638            0.999758            0.999517   \n",
       "1            0.998671            0.999638            0.999154   \n",
       "2            0.998429            0.999638            0.998309   \n",
       "3            0.998067            0.999517            0.998913   \n",
       "4                 NaN                 NaN                 NaN   \n",
       "\n",
       "   split4_train_score  mean_train_score  std_train_score  \n",
       "0            0.999879          0.999758         0.000171  \n",
       "1            0.999879          0.999299         0.000421  \n",
       "2            0.999638          0.999009         0.000569  \n",
       "3            0.999396          0.998961         0.000510  \n",
       "4                 NaN               NaN              NaN  \n",
       "\n",
       "[5 rows x 21 columns]"
      ]
     },
     "execution_count": 294,
     "metadata": {},
     "output_type": "execute_result"
    }
   ],
   "source": [
    "# GridSearch CV results\n",
    "scores = rnf.cv_results_\n",
    "pd.DataFrame(scores).head()"
   ]
  },
  {
   "cell_type": "code",
   "execution_count": 295,
   "metadata": {
    "colab": {
     "base_uri": "https://localhost:8080/",
     "height": 280
    },
    "id": "ojqi_2ayWDRQ",
    "outputId": "de9574da-24dd-4778-d97b-3b9b5efa616f"
   },
   "outputs": [
    {
     "data": {
      "image/png": "[encoded data removed]",
      "text/plain": [
       "<Figure size 432x288 with 1 Axes>"
      ]
     },
     "metadata": {
      "needs_background": "light"
     },
     "output_type": "display_data"
    }
   ],
   "source": [
    "# plot the accuracy with max depth\n",
    "plt.figure()\n",
    "plt.plot(scores[\"param_max_features\"],\n",
    "         scores[\"mean_train_score\"],\n",
    "         label=\"train accuracy\")\n",
    "plt.plot(scores[\"param_max_features\"],\n",
    "         scores[\"mean_test_score\"],\n",
    "         label=\"test accuracy\")\n",
    "plt.xlabel(\"max_features\")\n",
    "plt.ylabel(\"Accuracy\")\n",
    "plt.legend()\n",
    "plt.show()"
   ]
  },
  {
   "cell_type": "code",
   "execution_count": 295,
   "metadata": {
    "id": "BH_f4cNZ__Sr"
   },
   "outputs": [],
   "source": []
  },
  {
   "cell_type": "markdown",
   "metadata": {
    "id": "ai4M2auNABct"
   },
   "source": [
    "# Building the model by tuning the parameter min_samples_leaf"
   ]
  },
  {
   "cell_type": "code",
   "execution_count": 296,
   "metadata": {
    "colab": {
     "base_uri": "https://localhost:8080/"
    },
    "id": "sbihwVOgWDRQ",
    "outputId": "372c0817-11e9-4290-bdda-9a866a311c27"
   },
   "outputs": [
    {
     "data": {
      "text/plain": [
       "GridSearchCV(cv=5,\n",
       "             estimator=RandomForestClassifier(max_depth=20, max_features=5,\n",
       "                                              n_estimators=80),\n",
       "             param_grid={'min_samples_leaf': range(100, 400, 50)},\n",
       "             return_train_score=True, scoring='accuracy')"
      ]
     },
     "execution_count": 296,
     "metadata": {},
     "output_type": "execute_result"
    }
   ],
   "source": [
    "folds = 5\n",
    "params = {'min_samples_leaf': range(100, 400, 50)}\n",
    "# Instantiate the RandomForest\n",
    "rnf = RandomForestClassifier(max_depth=20, n_estimators=80, max_features=5)\n",
    "rnf = GridSearchCV(rnf, params, cv=folds, scoring=\"accuracy\", return_train_score=True)\n",
    "rnf.fit(X_train_pca, y_train_smo)"
   ]
  },
  {
   "cell_type": "code",
   "execution_count": 297,
   "metadata": {
    "colab": {
     "base_uri": "https://localhost:8080/",
     "height": 0
    },
    "id": "k3zCEZrBWDRQ",
    "outputId": "3e6f4d56-b291-4053-f0ff-435cc9a27d4c"
   },
   "outputs": [
    {
     "data": {
      "text/html": [
       "\n",
       "  <div id=\"df-70dead82-7781-4057-9490-5f8ba63719dd\">\n",
       "    <div class=\"colab-df-container\">\n",
       "      <div>\n",
       "<style scoped>\n",
       "    .dataframe tbody tr th:only-of-type {\n",
       "        vertical-align: middle;\n",
       "    }\n",
       "\n",
       "    .dataframe tbody tr th {\n",
       "        vertical-align: top;\n",
       "    }\n",
       "\n",
       "    .dataframe thead th {\n",
       "        text-align: right;\n",
       "    }\n",
       "</style>\n",
       "<table border=\"1\" class=\"dataframe\">\n",
       "  <thead>\n",
       "    <tr style=\"text-align: right;\">\n",
       "      <th></th>\n",
       "      <th>mean_fit_time</th>\n",
       "      <th>std_fit_time</th>\n",
       "      <th>mean_score_time</th>\n",
       "      <th>std_score_time</th>\n",
       "      <th>param_min_samples_leaf</th>\n",
       "      <th>params</th>\n",
       "      <th>split0_test_score</th>\n",
       "      <th>split1_test_score</th>\n",
       "      <th>split2_test_score</th>\n",
       "      <th>split3_test_score</th>\n",
       "      <th>...</th>\n",
       "      <th>mean_test_score</th>\n",
       "      <th>std_test_score</th>\n",
       "      <th>rank_test_score</th>\n",
       "      <th>split0_train_score</th>\n",
       "      <th>split1_train_score</th>\n",
       "      <th>split2_train_score</th>\n",
       "      <th>split3_train_score</th>\n",
       "      <th>split4_train_score</th>\n",
       "      <th>mean_train_score</th>\n",
       "      <th>std_train_score</th>\n",
       "    </tr>\n",
       "  </thead>\n",
       "  <tbody>\n",
       "    <tr>\n",
       "      <th>0</th>\n",
       "      <td>1.798809</td>\n",
       "      <td>0.012497</td>\n",
       "      <td>0.024100</td>\n",
       "      <td>0.000106</td>\n",
       "      <td>100</td>\n",
       "      <td>{'min_samples_leaf': 100}</td>\n",
       "      <td>0.903865</td>\n",
       "      <td>0.912035</td>\n",
       "      <td>0.912035</td>\n",
       "      <td>0.915901</td>\n",
       "      <td>...</td>\n",
       "      <td>0.910691</td>\n",
       "      <td>0.003963</td>\n",
       "      <td>1</td>\n",
       "      <td>0.916626</td>\n",
       "      <td>0.915791</td>\n",
       "      <td>0.917482</td>\n",
       "      <td>0.916274</td>\n",
       "      <td>0.917724</td>\n",
       "      <td>0.916779</td>\n",
       "      <td>0.000727</td>\n",
       "    </tr>\n",
       "    <tr>\n",
       "      <th>1</th>\n",
       "      <td>1.619856</td>\n",
       "      <td>0.009796</td>\n",
       "      <td>0.024275</td>\n",
       "      <td>0.001715</td>\n",
       "      <td>150</td>\n",
       "      <td>{'min_samples_leaf': 150}</td>\n",
       "      <td>0.900483</td>\n",
       "      <td>0.907202</td>\n",
       "      <td>0.910101</td>\n",
       "      <td>0.908652</td>\n",
       "      <td>...</td>\n",
       "      <td>0.906535</td>\n",
       "      <td>0.003297</td>\n",
       "      <td>2</td>\n",
       "      <td>0.912518</td>\n",
       "      <td>0.911200</td>\n",
       "      <td>0.913254</td>\n",
       "      <td>0.909871</td>\n",
       "      <td>0.910837</td>\n",
       "      <td>0.911536</td>\n",
       "      <td>0.001207</td>\n",
       "    </tr>\n",
       "    <tr>\n",
       "      <th>2</th>\n",
       "      <td>1.486450</td>\n",
       "      <td>0.017285</td>\n",
       "      <td>0.023057</td>\n",
       "      <td>0.000447</td>\n",
       "      <td>200</td>\n",
       "      <td>{'min_samples_leaf': 200}</td>\n",
       "      <td>0.896135</td>\n",
       "      <td>0.901402</td>\n",
       "      <td>0.902368</td>\n",
       "      <td>0.907202</td>\n",
       "      <td>...</td>\n",
       "      <td>0.901895</td>\n",
       "      <td>0.003522</td>\n",
       "      <td>3</td>\n",
       "      <td>0.908168</td>\n",
       "      <td>0.904917</td>\n",
       "      <td>0.909146</td>\n",
       "      <td>0.905521</td>\n",
       "      <td>0.905159</td>\n",
       "      <td>0.906582</td>\n",
       "      <td>0.001733</td>\n",
       "    </tr>\n",
       "    <tr>\n",
       "      <th>3</th>\n",
       "      <td>1.388310</td>\n",
       "      <td>0.019086</td>\n",
       "      <td>0.022942</td>\n",
       "      <td>0.001481</td>\n",
       "      <td>250</td>\n",
       "      <td>{'min_samples_leaf': 250}</td>\n",
       "      <td>0.895169</td>\n",
       "      <td>0.898018</td>\n",
       "      <td>0.900918</td>\n",
       "      <td>0.907202</td>\n",
       "      <td>...</td>\n",
       "      <td>0.900445</td>\n",
       "      <td>0.003996</td>\n",
       "      <td>4</td>\n",
       "      <td>0.909497</td>\n",
       "      <td>0.903588</td>\n",
       "      <td>0.902138</td>\n",
       "      <td>0.904313</td>\n",
       "      <td>0.901172</td>\n",
       "      <td>0.904142</td>\n",
       "      <td>0.002893</td>\n",
       "    </tr>\n",
       "    <tr>\n",
       "      <th>4</th>\n",
       "      <td>1.303986</td>\n",
       "      <td>0.011547</td>\n",
       "      <td>0.021737</td>\n",
       "      <td>0.000337</td>\n",
       "      <td>300</td>\n",
       "      <td>{'min_samples_leaf': 300}</td>\n",
       "      <td>0.886957</td>\n",
       "      <td>0.896085</td>\n",
       "      <td>0.897052</td>\n",
       "      <td>0.899468</td>\n",
       "      <td>...</td>\n",
       "      <td>0.895516</td>\n",
       "      <td>0.004423</td>\n",
       "      <td>5</td>\n",
       "      <td>0.902852</td>\n",
       "      <td>0.899239</td>\n",
       "      <td>0.903830</td>\n",
       "      <td>0.896098</td>\n",
       "      <td>0.899360</td>\n",
       "      <td>0.900276</td>\n",
       "      <td>0.002780</td>\n",
       "    </tr>\n",
       "  </tbody>\n",
       "</table>\n",
       "<p>5 rows × 21 columns</p>\n",
       "</div>\n",
       "      <button class=\"colab-df-convert\" onclick=\"convertToInteractive('df-70dead82-7781-4057-9490-5f8ba63719dd')\"\n",
       "              title=\"Convert this dataframe to an interactive table.\"\n",
       "              style=\"display:none;\">\n",
       "        \n",
       "  <svg xmlns=\"http://www.w3.org/2000/svg\" height=\"24px\"viewBox=\"0 0 24 24\"\n",
       "       width=\"24px\">\n",
       "    <path d=\"M0 0h24v24H0V0z\" fill=\"none\"/>\n",
       "    <path d=\"M18.56 5.44l.94 2.06.94-2.06 2.06-.94-2.06-.94-.94-2.06-.94 2.06-2.06.94zm-11 1L8.5 8.5l.94-2.06 2.06-.94-2.06-.94L8.5 2.5l-.94 2.06-2.06.94zm10 10l.94 2.06.94-2.06 2.06-.94-2.06-.94-.94-2.06-.94 2.06-2.06.94z\"/><path d=\"M17.41 7.96l-1.37-1.37c-.4-.4-.92-.59-1.43-.59-.52 0-1.04.2-1.43.59L10.3 9.45l-7.72 7.72c-.78.78-.78 2.05 0 2.83L4 21.41c.39.39.9.59 1.41.59.51 0 1.02-.2 1.41-.59l7.78-7.78 2.81-2.81c.8-.78.8-2.07 0-2.86zM5.41 20L4 18.59l7.72-7.72 1.47 1.35L5.41 20z\"/>\n",
       "  </svg>\n",
       "      </button>\n",
       "      \n",
       "  <style>\n",
       "    .colab-df-container {\n",
       "      display:flex;\n",
       "      flex-wrap:wrap;\n",
       "      gap: 12px;\n",
       "    }\n",
       "\n",
       "    .colab-df-convert {\n",
       "      background-color: #E8F0FE;\n",
       "      border: none;\n",
       "      border-radius: 50%;\n",
       "      cursor: pointer;\n",
       "      display: none;\n",
       "      fill: #1967D2;\n",
       "      height: 32px;\n",
       "      padding: 0 0 0 0;\n",
       "      width: 32px;\n",
       "    }\n",
       "\n",
       "    .colab-df-convert:hover {\n",
       "      background-color: #E2EBFA;\n",
       "      box-shadow: 0px 1px 2px rgba(60, 64, 67, 0.3), 0px 1px 3px 1px rgba(60, 64, 67, 0.15);\n",
       "      fill: #174EA6;\n",
       "    }\n",
       "\n",
       "    [theme=dark] .colab-df-convert {\n",
       "      background-color: #3B4455;\n",
       "      fill: #D2E3FC;\n",
       "    }\n",
       "\n",
       "    [theme=dark] .colab-df-convert:hover {\n",
       "      background-color: #434B5C;\n",
       "      box-shadow: 0px 1px 3px 1px rgba(0, 0, 0, 0.15);\n",
       "      filter: drop-shadow(0px 1px 2px rgba(0, 0, 0, 0.3));\n",
       "      fill: #FFFFFF;\n",
       "    }\n",
       "  </style>\n",
       "\n",
       "      <script>\n",
       "        const buttonEl =\n",
       "          document.querySelector('#df-70dead82-7781-4057-9490-5f8ba63719dd button.colab-df-convert');\n",
       "        buttonEl.style.display =\n",
       "          google.colab.kernel.accessAllowed ? 'block' : 'none';\n",
       "\n",
       "        async function convertToInteractive(key) {\n",
       "          const element = document.querySelector('#df-70dead82-7781-4057-9490-5f8ba63719dd');\n",
       "          const dataTable =\n",
       "            await google.colab.kernel.invokeFunction('convertToInteractive',\n",
       "                                                     [key], {});\n",
       "          if (!dataTable) return;\n",
       "\n",
       "          const docLinkHtml = 'Like what you see? Visit the ' +\n",
       "            '<a target=\"_blank\" href=https://colab.research.google.com/notebooks/data_table.ipynb>data table notebook</a>'\n",
       "            + ' to learn more about interactive tables.';\n",
       "          element.innerHTML = '';\n",
       "          dataTable['output_type'] = 'display_data';\n",
       "          await google.colab.output.renderOutput(dataTable, element);\n",
       "          const docLink = document.createElement('div');\n",
       "          docLink.innerHTML = docLinkHtml;\n",
       "          element.appendChild(docLink);\n",
       "        }\n",
       "      </script>\n",
       "    </div>\n",
       "  </div>\n",
       "  "
      ],
      "text/plain": [
       "   mean_fit_time  std_fit_time  mean_score_time  std_score_time  \\\n",
       "0       1.798809      0.012497         0.024100        0.000106   \n",
       "1       1.619856      0.009796         0.024275        0.001715   \n",
       "2       1.486450      0.017285         0.023057        0.000447   \n",
       "3       1.388310      0.019086         0.022942        0.001481   \n",
       "4       1.303986      0.011547         0.021737        0.000337   \n",
       "\n",
       "  param_min_samples_leaf                     params  split0_test_score  \\\n",
       "0                    100  {'min_samples_leaf': 100}           0.903865   \n",
       "1                    150  {'min_samples_leaf': 150}           0.900483   \n",
       "2                    200  {'min_samples_leaf': 200}           0.896135   \n",
       "3                    250  {'min_samples_leaf': 250}           0.895169   \n",
       "4                    300  {'min_samples_leaf': 300}           0.886957   \n",
       "\n",
       "   split1_test_score  split2_test_score  split3_test_score  ...  \\\n",
       "0           0.912035           0.912035           0.915901  ...   \n",
       "1           0.907202           0.910101           0.908652  ...   \n",
       "2           0.901402           0.902368           0.907202  ...   \n",
       "3           0.898018           0.900918           0.907202  ...   \n",
       "4           0.896085           0.897052           0.899468  ...   \n",
       "\n",
       "   mean_test_score  std_test_score  rank_test_score  split0_train_score  \\\n",
       "0         0.910691        0.003963                1            0.916626   \n",
       "1         0.906535        0.003297                2            0.912518   \n",
       "2         0.901895        0.003522                3            0.908168   \n",
       "3         0.900445        0.003996                4            0.909497   \n",
       "4         0.895516        0.004423                5            0.902852   \n",
       "\n",
       "   split1_train_score  split2_train_score  split3_train_score  \\\n",
       "0            0.915791            0.917482            0.916274   \n",
       "1            0.911200            0.913254            0.909871   \n",
       "2            0.904917            0.909146            0.905521   \n",
       "3            0.903588            0.902138            0.904313   \n",
       "4            0.899239            0.903830            0.896098   \n",
       "\n",
       "   split4_train_score  mean_train_score  std_train_score  \n",
       "0            0.917724          0.916779         0.000727  \n",
       "1            0.910837          0.911536         0.001207  \n",
       "2            0.905159          0.906582         0.001733  \n",
       "3            0.901172          0.904142         0.002893  \n",
       "4            0.899360          0.900276         0.002780  \n",
       "\n",
       "[5 rows x 21 columns]"
      ]
     },
     "execution_count": 297,
     "metadata": {},
     "output_type": "execute_result"
    }
   ],
   "source": [
    "# GridSearch CV results\n",
    "scores = rnf.cv_results_\n",
    "pd.DataFrame(scores).head()"
   ]
  },
  {
   "cell_type": "code",
   "execution_count": 298,
   "metadata": {
    "colab": {
     "base_uri": "https://localhost:8080/",
     "height": 0
    },
    "id": "NIwV7lM5WDRR",
    "outputId": "6e73f61d-434c-4548-e4cd-4f17f95e7c02"
   },
   "outputs": [
    {
     "data": {
      "image/png": "[encoded data removed]",
      "text/plain": [
       "<Figure size 432x288 with 1 Axes>"
      ]
     },
     "metadata": {
      "needs_background": "light"
     },
     "output_type": "display_data"
    }
   ],
   "source": [
    "# plot the accuracy with min samples leaf\n",
    "plt.figure()\n",
    "plt.plot(scores[\"param_min_samples_leaf\"],\n",
    "         scores[\"mean_train_score\"],\n",
    "         label=\"train accuracy\")\n",
    "plt.plot(scores[\"param_min_samples_leaf\"],\n",
    "         scores[\"mean_test_score\"],\n",
    "         label=\"test accuracy\")\n",
    "plt.xlabel(\"min samples leaf\")\n",
    "plt.ylabel(\"Accuracy\")\n",
    "plt.legend()\n",
    "plt.show()"
   ]
  },
  {
   "cell_type": "markdown",
   "metadata": {
    "id": "rVyTL-YDAhVr"
   },
   "source": [
    "# Build the model by tuning the min_samples_split parameter"
   ]
  },
  {
   "cell_type": "markdown",
   "metadata": {
    "id": "VXyzzARfWDRR"
   },
   "source": [
    "Observe the accuracy by tuning the parameter minimum samples split"
   ]
  },
  {
   "cell_type": "code",
   "execution_count": 299,
   "metadata": {
    "colab": {
     "base_uri": "https://localhost:8080/"
    },
    "id": "Uera7XhMWDRR",
    "outputId": "a2d3de0a-127d-4ca7-bd18-c520351a993f"
   },
   "outputs": [
    {
     "data": {
      "text/plain": [
       "GridSearchCV(cv=5,\n",
       "             estimator=RandomForestClassifier(max_depth=20, max_features=5,\n",
       "                                              min_samples_leaf=100,\n",
       "                                              n_estimators=80),\n",
       "             param_grid={'min_samples_split': range(50, 300, 50)},\n",
       "             return_train_score=True, scoring='accuracy')"
      ]
     },
     "execution_count": 299,
     "metadata": {},
     "output_type": "execute_result"
    }
   ],
   "source": [
    "folds = 5\n",
    "params = {'min_samples_split': range(50, 300, 50)}\n",
    "# Instantiate the RandomForest\n",
    "rnf = RandomForestClassifier(max_depth=20, n_estimators=80, max_features=5, min_samples_leaf=100)\n",
    "rnf = GridSearchCV(rnf, params, cv=folds, scoring=\"accuracy\", return_train_score=True)\n",
    "rnf.fit(X_train_pca, y_train_smo)"
   ]
  },
  {
   "cell_type": "code",
   "execution_count": 300,
   "metadata": {
    "colab": {
     "base_uri": "https://localhost:8080/",
     "height": 0
    },
    "id": "wTPdRG5mWDRS",
    "outputId": "00255a2e-2b12-4d2e-d206-fed05ef0e630"
   },
   "outputs": [
    {
     "data": {
      "text/html": [
       "\n",
       "  <div id=\"df-8d590846-c5fc-4596-915c-026e6bbfdd70\">\n",
       "    <div class=\"colab-df-container\">\n",
       "      <div>\n",
       "<style scoped>\n",
       "    .dataframe tbody tr th:only-of-type {\n",
       "        vertical-align: middle;\n",
       "    }\n",
       "\n",
       "    .dataframe tbody tr th {\n",
       "        vertical-align: top;\n",
       "    }\n",
       "\n",
       "    .dataframe thead th {\n",
       "        text-align: right;\n",
       "    }\n",
       "</style>\n",
       "<table border=\"1\" class=\"dataframe\">\n",
       "  <thead>\n",
       "    <tr style=\"text-align: right;\">\n",
       "      <th></th>\n",
       "      <th>mean_fit_time</th>\n",
       "      <th>std_fit_time</th>\n",
       "      <th>mean_score_time</th>\n",
       "      <th>std_score_time</th>\n",
       "      <th>param_min_samples_split</th>\n",
       "      <th>params</th>\n",
       "      <th>split0_test_score</th>\n",
       "      <th>split1_test_score</th>\n",
       "      <th>split2_test_score</th>\n",
       "      <th>split3_test_score</th>\n",
       "      <th>...</th>\n",
       "      <th>mean_test_score</th>\n",
       "      <th>std_test_score</th>\n",
       "      <th>rank_test_score</th>\n",
       "      <th>split0_train_score</th>\n",
       "      <th>split1_train_score</th>\n",
       "      <th>split2_train_score</th>\n",
       "      <th>split3_train_score</th>\n",
       "      <th>split4_train_score</th>\n",
       "      <th>mean_train_score</th>\n",
       "      <th>std_train_score</th>\n",
       "    </tr>\n",
       "  </thead>\n",
       "  <tbody>\n",
       "    <tr>\n",
       "      <th>0</th>\n",
       "      <td>1.809054</td>\n",
       "      <td>0.014173</td>\n",
       "      <td>0.025460</td>\n",
       "      <td>0.001701</td>\n",
       "      <td>50</td>\n",
       "      <td>{'min_samples_split': 50}</td>\n",
       "      <td>0.903865</td>\n",
       "      <td>0.908652</td>\n",
       "      <td>0.914451</td>\n",
       "      <td>0.911068</td>\n",
       "      <td>...</td>\n",
       "      <td>0.909531</td>\n",
       "      <td>0.003449</td>\n",
       "      <td>2</td>\n",
       "      <td>0.916989</td>\n",
       "      <td>0.913012</td>\n",
       "      <td>0.917361</td>\n",
       "      <td>0.915670</td>\n",
       "      <td>0.917120</td>\n",
       "      <td>0.916030</td>\n",
       "      <td>0.001620</td>\n",
       "    </tr>\n",
       "    <tr>\n",
       "      <th>1</th>\n",
       "      <td>1.798286</td>\n",
       "      <td>0.007012</td>\n",
       "      <td>0.024100</td>\n",
       "      <td>0.000221</td>\n",
       "      <td>100</td>\n",
       "      <td>{'min_samples_split': 100}</td>\n",
       "      <td>0.908213</td>\n",
       "      <td>0.905268</td>\n",
       "      <td>0.912518</td>\n",
       "      <td>0.913001</td>\n",
       "      <td>...</td>\n",
       "      <td>0.909047</td>\n",
       "      <td>0.003180</td>\n",
       "      <td>3</td>\n",
       "      <td>0.918076</td>\n",
       "      <td>0.913495</td>\n",
       "      <td>0.914703</td>\n",
       "      <td>0.917361</td>\n",
       "      <td>0.914462</td>\n",
       "      <td>0.915620</td>\n",
       "      <td>0.001776</td>\n",
       "    </tr>\n",
       "    <tr>\n",
       "      <th>2</th>\n",
       "      <td>1.783530</td>\n",
       "      <td>0.014582</td>\n",
       "      <td>0.024163</td>\n",
       "      <td>0.000178</td>\n",
       "      <td>150</td>\n",
       "      <td>{'min_samples_split': 150}</td>\n",
       "      <td>0.902415</td>\n",
       "      <td>0.911551</td>\n",
       "      <td>0.910585</td>\n",
       "      <td>0.911068</td>\n",
       "      <td>...</td>\n",
       "      <td>0.908274</td>\n",
       "      <td>0.003594</td>\n",
       "      <td>4</td>\n",
       "      <td>0.916989</td>\n",
       "      <td>0.913737</td>\n",
       "      <td>0.916757</td>\n",
       "      <td>0.911804</td>\n",
       "      <td>0.912891</td>\n",
       "      <td>0.914436</td>\n",
       "      <td>0.002084</td>\n",
       "    </tr>\n",
       "    <tr>\n",
       "      <th>3</th>\n",
       "      <td>1.787440</td>\n",
       "      <td>0.004901</td>\n",
       "      <td>0.024467</td>\n",
       "      <td>0.000439</td>\n",
       "      <td>200</td>\n",
       "      <td>{'min_samples_split': 200}</td>\n",
       "      <td>0.903865</td>\n",
       "      <td>0.905268</td>\n",
       "      <td>0.914935</td>\n",
       "      <td>0.917351</td>\n",
       "      <td>...</td>\n",
       "      <td>0.910304</td>\n",
       "      <td>0.005253</td>\n",
       "      <td>1</td>\n",
       "      <td>0.916506</td>\n",
       "      <td>0.911079</td>\n",
       "      <td>0.918570</td>\n",
       "      <td>0.917241</td>\n",
       "      <td>0.914220</td>\n",
       "      <td>0.915523</td>\n",
       "      <td>0.002632</td>\n",
       "    </tr>\n",
       "    <tr>\n",
       "      <th>4</th>\n",
       "      <td>1.760705</td>\n",
       "      <td>0.012102</td>\n",
       "      <td>0.025360</td>\n",
       "      <td>0.002683</td>\n",
       "      <td>250</td>\n",
       "      <td>{'min_samples_split': 250}</td>\n",
       "      <td>0.903865</td>\n",
       "      <td>0.907685</td>\n",
       "      <td>0.910101</td>\n",
       "      <td>0.912518</td>\n",
       "      <td>...</td>\n",
       "      <td>0.908081</td>\n",
       "      <td>0.003004</td>\n",
       "      <td>5</td>\n",
       "      <td>0.915781</td>\n",
       "      <td>0.913495</td>\n",
       "      <td>0.915307</td>\n",
       "      <td>0.913616</td>\n",
       "      <td>0.913616</td>\n",
       "      <td>0.914363</td>\n",
       "      <td>0.000977</td>\n",
       "    </tr>\n",
       "  </tbody>\n",
       "</table>\n",
       "<p>5 rows × 21 columns</p>\n",
       "</div>\n",
       "      <button class=\"colab-df-convert\" onclick=\"convertToInteractive('df-8d590846-c5fc-4596-915c-026e6bbfdd70')\"\n",
       "              title=\"Convert this dataframe to an interactive table.\"\n",
       "              style=\"display:none;\">\n",
       "        \n",
       "  <svg xmlns=\"http://www.w3.org/2000/svg\" height=\"24px\"viewBox=\"0 0 24 24\"\n",
       "       width=\"24px\">\n",
       "    <path d=\"M0 0h24v24H0V0z\" fill=\"none\"/>\n",
       "    <path d=\"M18.56 5.44l.94 2.06.94-2.06 2.06-.94-2.06-.94-.94-2.06-.94 2.06-2.06.94zm-11 1L8.5 8.5l.94-2.06 2.06-.94-2.06-.94L8.5 2.5l-.94 2.06-2.06.94zm10 10l.94 2.06.94-2.06 2.06-.94-2.06-.94-.94-2.06-.94 2.06-2.06.94z\"/><path d=\"M17.41 7.96l-1.37-1.37c-.4-.4-.92-.59-1.43-.59-.52 0-1.04.2-1.43.59L10.3 9.45l-7.72 7.72c-.78.78-.78 2.05 0 2.83L4 21.41c.39.39.9.59 1.41.59.51 0 1.02-.2 1.41-.59l7.78-7.78 2.81-2.81c.8-.78.8-2.07 0-2.86zM5.41 20L4 18.59l7.72-7.72 1.47 1.35L5.41 20z\"/>\n",
       "  </svg>\n",
       "      </button>\n",
       "      \n",
       "  <style>\n",
       "    .colab-df-container {\n",
       "      display:flex;\n",
       "      flex-wrap:wrap;\n",
       "      gap: 12px;\n",
       "    }\n",
       "\n",
       "    .colab-df-convert {\n",
       "      background-color: #E8F0FE;\n",
       "      border: none;\n",
       "      border-radius: 50%;\n",
       "      cursor: pointer;\n",
       "      display: none;\n",
       "      fill: #1967D2;\n",
       "      height: 32px;\n",
       "      padding: 0 0 0 0;\n",
       "      width: 32px;\n",
       "    }\n",
       "\n",
       "    .colab-df-convert:hover {\n",
       "      background-color: #E2EBFA;\n",
       "      box-shadow: 0px 1px 2px rgba(60, 64, 67, 0.3), 0px 1px 3px 1px rgba(60, 64, 67, 0.15);\n",
       "      fill: #174EA6;\n",
       "    }\n",
       "\n",
       "    [theme=dark] .colab-df-convert {\n",
       "      background-color: #3B4455;\n",
       "      fill: #D2E3FC;\n",
       "    }\n",
       "\n",
       "    [theme=dark] .colab-df-convert:hover {\n",
       "      background-color: #434B5C;\n",
       "      box-shadow: 0px 1px 3px 1px rgba(0, 0, 0, 0.15);\n",
       "      filter: drop-shadow(0px 1px 2px rgba(0, 0, 0, 0.3));\n",
       "      fill: #FFFFFF;\n",
       "    }\n",
       "  </style>\n",
       "\n",
       "      <script>\n",
       "        const buttonEl =\n",
       "          document.querySelector('#df-8d590846-c5fc-4596-915c-026e6bbfdd70 button.colab-df-convert');\n",
       "        buttonEl.style.display =\n",
       "          google.colab.kernel.accessAllowed ? 'block' : 'none';\n",
       "\n",
       "        async function convertToInteractive(key) {\n",
       "          const element = document.querySelector('#df-8d590846-c5fc-4596-915c-026e6bbfdd70');\n",
       "          const dataTable =\n",
       "            await google.colab.kernel.invokeFunction('convertToInteractive',\n",
       "                                                     [key], {});\n",
       "          if (!dataTable) return;\n",
       "\n",
       "          const docLinkHtml = 'Like what you see? Visit the ' +\n",
       "            '<a target=\"_blank\" href=https://colab.research.google.com/notebooks/data_table.ipynb>data table notebook</a>'\n",
       "            + ' to learn more about interactive tables.';\n",
       "          element.innerHTML = '';\n",
       "          dataTable['output_type'] = 'display_data';\n",
       "          await google.colab.output.renderOutput(dataTable, element);\n",
       "          const docLink = document.createElement('div');\n",
       "          docLink.innerHTML = docLinkHtml;\n",
       "          element.appendChild(docLink);\n",
       "        }\n",
       "      </script>\n",
       "    </div>\n",
       "  </div>\n",
       "  "
      ],
      "text/plain": [
       "   mean_fit_time  std_fit_time  mean_score_time  std_score_time  \\\n",
       "0       1.809054      0.014173         0.025460        0.001701   \n",
       "1       1.798286      0.007012         0.024100        0.000221   \n",
       "2       1.783530      0.014582         0.024163        0.000178   \n",
       "3       1.787440      0.004901         0.024467        0.000439   \n",
       "4       1.760705      0.012102         0.025360        0.002683   \n",
       "\n",
       "  param_min_samples_split                      params  split0_test_score  \\\n",
       "0                      50   {'min_samples_split': 50}           0.903865   \n",
       "1                     100  {'min_samples_split': 100}           0.908213   \n",
       "2                     150  {'min_samples_split': 150}           0.902415   \n",
       "3                     200  {'min_samples_split': 200}           0.903865   \n",
       "4                     250  {'min_samples_split': 250}           0.903865   \n",
       "\n",
       "   split1_test_score  split2_test_score  split3_test_score  ...  \\\n",
       "0           0.908652           0.914451           0.911068  ...   \n",
       "1           0.905268           0.912518           0.913001  ...   \n",
       "2           0.911551           0.910585           0.911068  ...   \n",
       "3           0.905268           0.914935           0.917351  ...   \n",
       "4           0.907685           0.910101           0.912518  ...   \n",
       "\n",
       "   mean_test_score  std_test_score  rank_test_score  split0_train_score  \\\n",
       "0         0.909531        0.003449                2            0.916989   \n",
       "1         0.909047        0.003180                3            0.918076   \n",
       "2         0.908274        0.003594                4            0.916989   \n",
       "3         0.910304        0.005253                1            0.916506   \n",
       "4         0.908081        0.003004                5            0.915781   \n",
       "\n",
       "   split1_train_score  split2_train_score  split3_train_score  \\\n",
       "0            0.913012            0.917361            0.915670   \n",
       "1            0.913495            0.914703            0.917361   \n",
       "2            0.913737            0.916757            0.911804   \n",
       "3            0.911079            0.918570            0.917241   \n",
       "4            0.913495            0.915307            0.913616   \n",
       "\n",
       "   split4_train_score  mean_train_score  std_train_score  \n",
       "0            0.917120          0.916030         0.001620  \n",
       "1            0.914462          0.915620         0.001776  \n",
       "2            0.912891          0.914436         0.002084  \n",
       "3            0.914220          0.915523         0.002632  \n",
       "4            0.913616          0.914363         0.000977  \n",
       "\n",
       "[5 rows x 21 columns]"
      ]
     },
     "execution_count": 300,
     "metadata": {},
     "output_type": "execute_result"
    }
   ],
   "source": [
    "# GridSearch CV results\n",
    "scores = rnf.cv_results_\n",
    "pd.DataFrame(scores).head()"
   ]
  },
  {
   "cell_type": "code",
   "execution_count": 301,
   "metadata": {
    "colab": {
     "base_uri": "https://localhost:8080/",
     "height": 0
    },
    "id": "XgtY1tn3WDRS",
    "outputId": "8089468c-85f4-4a49-8f5a-7f344604eeab"
   },
   "outputs": [
    {
     "data": {
      "image/png": "[encoded data removed]",
      "text/plain": [
       "<Figure size 432x288 with 1 Axes>"
      ]
     },
     "metadata": {
      "needs_background": "light"
     },
     "output_type": "display_data"
    }
   ],
   "source": [
    "# plotting accuracies with min_samples_split\n",
    "plt.figure()\n",
    "plt.plot(scores[\"param_min_samples_split\"], \n",
    "         scores[\"mean_train_score\"], \n",
    "         label=\"training accuracy\")\n",
    "plt.plot(scores[\"param_min_samples_split\"], \n",
    "         scores[\"mean_test_score\"], \n",
    "         label=\"test accuracy\")\n",
    "plt.xlabel(\"min_samples_split\")\n",
    "plt.ylabel(\"Accuracy\")\n",
    "plt.legend()\n",
    "plt.show()"
   ]
  },
  {
   "cell_type": "code",
   "execution_count": 301,
   "metadata": {
    "id": "j9ZRl2gRBE70"
   },
   "outputs": [],
   "source": []
  },
  {
   "cell_type": "markdown",
   "metadata": {
    "id": "D5zqhUJJBHPQ"
   },
   "source": [
    "# Build the model with best values selected for the hyper parameters parameters"
   ]
  },
  {
   "cell_type": "markdown",
   "metadata": {
    "id": "raKB8CkuBmRX"
   },
   "source": [
    "Now let us build the model with best values selected for the parameters\n",
    "\n",
    "1. max_depth\n",
    "2. n_estimators\n",
    "3. max_features\n",
    "4. min_samples_leaf\n",
    "5. min_samples_split"
   ]
  },
  {
   "cell_type": "code",
   "execution_count": null,
   "metadata": {
    "id": "D_X5tzgUWDRS"
   },
   "outputs": [],
   "source": [
    "# Now we have found best parameters. Let us fit the final model with these best parameters\n",
    "folds = 5\n",
    "#params = {'min_samples_split': range(50, 300, 50)}\n",
    "# Instantiate the RandomForest\n",
    "rnf = RandomForestClassifier(bootstrap = True,\n",
    "                             max_depth=20,\n",
    "                             n_estimators=80,\n",
    "                             max_features=5,\n",
    "                             min_samples_leaf=100,\n",
    "                             min_samples_split = 100,\n",
    "                             random_state = 10)\n",
    "#rnf = GridSearchCV(rnf, params, cv=folds, scoring=\"accuracy\", return_train_score=True)\n",
    "rnf_pca = rnf.fit(X_train_pca, y_train_smo)"
   ]
  },
  {
   "cell_type": "code",
   "execution_count": null,
   "metadata": {
    "id": "PlkHqvjCWDRS"
   },
   "outputs": [],
   "source": [
    "rf_train_pred = rnf_pca.predict(X_train_pca)\n",
    "rf_train_pred_prob = rnf_pca.predict_proba(X_train_pca)[:,1]\n",
    "#y_train_pred_df = pd.DataFrame({'churn':y_train_smo, 'churn_prob':y_train_pred})\n"
   ]
  },
  {
   "cell_type": "code",
   "execution_count": null,
   "metadata": {
    "colab": {
     "base_uri": "https://localhost:8080/"
    },
    "id": "vh82-QR_WDRS",
    "outputId": "4cd4cea7-2b08-4db0-a458-3d9d926e58e3"
   },
   "outputs": [
    {
     "name": "stdout",
     "output_type": "stream",
     "text": [
      "Accuracy :  0.9096028880866426\n",
      "Sensitivity/Recall :  0.8914079422382671\n",
      "AUC Score :  0.9732050984634233\n"
     ]
    }
   ],
   "source": [
    "print(\"Accuracy : \", metrics.roc_auc_score(y_train_smo, rf_train_pred))\n",
    "print(\"Sensitivity/Recall : \", metrics.recall_score(y_train_smo, rf_train_pred))\n",
    "print(\"AUC Score : \", metrics.roc_auc_score(y_train_smo, rf_train_pred_prob))"
   ]
  },
  {
   "cell_type": "markdown",
   "metadata": {
    "id": "QBpqMXttCij0"
   },
   "source": [
    "Predict on the test data set"
   ]
  },
  {
   "cell_type": "code",
   "execution_count": null,
   "metadata": {
    "colab": {
     "base_uri": "https://localhost:8080/"
    },
    "id": "FkBphdBCWDRT",
    "outputId": "e8ffe2ca-dba9-4a92-bfe1-cc2edde9589a"
   },
   "outputs": [
    {
     "name": "stdout",
     "output_type": "stream",
     "text": [
      "ROC AUC Score  0.8795804262073703\n",
      "Precision Score 0.4085872576177285\n",
      "Sensitivity/Recall  0.8309859154929577\n",
      "Specificity  0.928174936921783\n",
      "False positive rate 0.07182506307821698\n",
      "False negative rate 0.16901408450704225\n",
      "Positive predictive value  0.4085872576177285\n",
      "Negative predictive value  0.9892434564359985\n",
      "Accuracy  0.9226984126984127\n"
     ]
    }
   ],
   "source": [
    "# predict the same on test data set\n",
    "prob_pred_test = rnf_pca.predict(X_test_pca)\n",
    "Print_Metrics_KPIs(y_test, prob_pred_test)\n",
    "#cm = metrics.confusion_matrix(y_test, prob_pred_test)\n",
    "#TP = "
   ]
  },
  {
   "cell_type": "markdown",
   "metadata": {
    "id": "UZDATOAiWDRT"
   },
   "source": [
    "Let us observe the churn probabilities over a range of cut-off values between 0.1 to 0.9"
   ]
  },
  {
   "cell_type": "code",
   "execution_count": null,
   "metadata": {
    "colab": {
     "base_uri": "https://localhost:8080/",
     "height": 206
    },
    "id": "pzAgv0S3WDRT",
    "outputId": "a06135f0-e472-40a4-dbfa-f901ca7fa400"
   },
   "outputs": [
    {
     "data": {
      "text/html": [
       "\n",
       "  <div id=\"df-ce27c297-5c47-43a6-b22e-8ae5518bbef2\">\n",
       "    <div class=\"colab-df-container\">\n",
       "      <div>\n",
       "<style scoped>\n",
       "    .dataframe tbody tr th:only-of-type {\n",
       "        vertical-align: middle;\n",
       "    }\n",
       "\n",
       "    .dataframe tbody tr th {\n",
       "        vertical-align: top;\n",
       "    }\n",
       "\n",
       "    .dataframe thead th {\n",
       "        text-align: right;\n",
       "    }\n",
       "</style>\n",
       "<table border=\"1\" class=\"dataframe\">\n",
       "  <thead>\n",
       "    <tr style=\"text-align: right;\">\n",
       "      <th></th>\n",
       "      <th>churn</th>\n",
       "      <th>churn_prob</th>\n",
       "      <th>predicted</th>\n",
       "    </tr>\n",
       "  </thead>\n",
       "  <tbody>\n",
       "    <tr>\n",
       "      <th>0</th>\n",
       "      <td>0</td>\n",
       "      <td>0.023701</td>\n",
       "      <td>0</td>\n",
       "    </tr>\n",
       "    <tr>\n",
       "      <th>1</th>\n",
       "      <td>0</td>\n",
       "      <td>0.140288</td>\n",
       "      <td>0</td>\n",
       "    </tr>\n",
       "    <tr>\n",
       "      <th>2</th>\n",
       "      <td>0</td>\n",
       "      <td>0.104658</td>\n",
       "      <td>0</td>\n",
       "    </tr>\n",
       "    <tr>\n",
       "      <th>3</th>\n",
       "      <td>0</td>\n",
       "      <td>0.016494</td>\n",
       "      <td>0</td>\n",
       "    </tr>\n",
       "    <tr>\n",
       "      <th>4</th>\n",
       "      <td>0</td>\n",
       "      <td>0.002405</td>\n",
       "      <td>0</td>\n",
       "    </tr>\n",
       "  </tbody>\n",
       "</table>\n",
       "</div>\n",
       "      <button class=\"colab-df-convert\" onclick=\"convertToInteractive('df-ce27c297-5c47-43a6-b22e-8ae5518bbef2')\"\n",
       "              title=\"Convert this dataframe to an interactive table.\"\n",
       "              style=\"display:none;\">\n",
       "        \n",
       "  <svg xmlns=\"http://www.w3.org/2000/svg\" height=\"24px\"viewBox=\"0 0 24 24\"\n",
       "       width=\"24px\">\n",
       "    <path d=\"M0 0h24v24H0V0z\" fill=\"none\"/>\n",
       "    <path d=\"M18.56 5.44l.94 2.06.94-2.06 2.06-.94-2.06-.94-.94-2.06-.94 2.06-2.06.94zm-11 1L8.5 8.5l.94-2.06 2.06-.94-2.06-.94L8.5 2.5l-.94 2.06-2.06.94zm10 10l.94 2.06.94-2.06 2.06-.94-2.06-.94-.94-2.06-.94 2.06-2.06.94z\"/><path d=\"M17.41 7.96l-1.37-1.37c-.4-.4-.92-.59-1.43-.59-.52 0-1.04.2-1.43.59L10.3 9.45l-7.72 7.72c-.78.78-.78 2.05 0 2.83L4 21.41c.39.39.9.59 1.41.59.51 0 1.02-.2 1.41-.59l7.78-7.78 2.81-2.81c.8-.78.8-2.07 0-2.86zM5.41 20L4 18.59l7.72-7.72 1.47 1.35L5.41 20z\"/>\n",
       "  </svg>\n",
       "      </button>\n",
       "      \n",
       "  <style>\n",
       "    .colab-df-container {\n",
       "      display:flex;\n",
       "      flex-wrap:wrap;\n",
       "      gap: 12px;\n",
       "    }\n",
       "\n",
       "    .colab-df-convert {\n",
       "      background-color: #E8F0FE;\n",
       "      border: none;\n",
       "      border-radius: 50%;\n",
       "      cursor: pointer;\n",
       "      display: none;\n",
       "      fill: #1967D2;\n",
       "      height: 32px;\n",
       "      padding: 0 0 0 0;\n",
       "      width: 32px;\n",
       "    }\n",
       "\n",
       "    .colab-df-convert:hover {\n",
       "      background-color: #E2EBFA;\n",
       "      box-shadow: 0px 1px 2px rgba(60, 64, 67, 0.3), 0px 1px 3px 1px rgba(60, 64, 67, 0.15);\n",
       "      fill: #174EA6;\n",
       "    }\n",
       "\n",
       "    [theme=dark] .colab-df-convert {\n",
       "      background-color: #3B4455;\n",
       "      fill: #D2E3FC;\n",
       "    }\n",
       "\n",
       "    [theme=dark] .colab-df-convert:hover {\n",
       "      background-color: #434B5C;\n",
       "      box-shadow: 0px 1px 3px 1px rgba(0, 0, 0, 0.15);\n",
       "      filter: drop-shadow(0px 1px 2px rgba(0, 0, 0, 0.3));\n",
       "      fill: #FFFFFF;\n",
       "    }\n",
       "  </style>\n",
       "\n",
       "      <script>\n",
       "        const buttonEl =\n",
       "          document.querySelector('#df-ce27c297-5c47-43a6-b22e-8ae5518bbef2 button.colab-df-convert');\n",
       "        buttonEl.style.display =\n",
       "          google.colab.kernel.accessAllowed ? 'block' : 'none';\n",
       "\n",
       "        async function convertToInteractive(key) {\n",
       "          const element = document.querySelector('#df-ce27c297-5c47-43a6-b22e-8ae5518bbef2');\n",
       "          const dataTable =\n",
       "            await google.colab.kernel.invokeFunction('convertToInteractive',\n",
       "                                                     [key], {});\n",
       "          if (!dataTable) return;\n",
       "\n",
       "          const docLinkHtml = 'Like what you see? Visit the ' +\n",
       "            '<a target=\"_blank\" href=https://colab.research.google.com/notebooks/data_table.ipynb>data table notebook</a>'\n",
       "            + ' to learn more about interactive tables.';\n",
       "          element.innerHTML = '';\n",
       "          dataTable['output_type'] = 'display_data';\n",
       "          await google.colab.output.renderOutput(dataTable, element);\n",
       "          const docLink = document.createElement('div');\n",
       "          docLink.innerHTML = docLinkHtml;\n",
       "          element.appendChild(docLink);\n",
       "        }\n",
       "      </script>\n",
       "    </div>\n",
       "  </div>\n",
       "  "
      ],
      "text/plain": [
       "   churn  churn_prob  predicted\n",
       "0      0    0.023701          0\n",
       "1      0    0.140288          0\n",
       "2      0    0.104658          0\n",
       "3      0    0.016494          0\n",
       "4      0    0.002405          0"
      ]
     },
     "execution_count": 410,
     "metadata": {},
     "output_type": "execute_result"
    }
   ],
   "source": [
    "# first create a predicted column with cut-off as 0.5\n",
    "y_train_pred_prob = rnf_pca.predict_proba(X_train_pca)[:,1]\n",
    "trn_rnf_pred_df = pd.DataFrame({'churn':y_train_smo, 'churn_prob':rf_train_pred_prob})\n",
    "trn_rnf_pred_df['predicted'] = trn_rnf_pred_df.churn_prob.apply(lambda x : 1 if x > 0.5 else 0)\n",
    "trn_rnf_pred_df.head()"
   ]
  },
  {
   "cell_type": "code",
   "execution_count": null,
   "metadata": {
    "colab": {
     "base_uri": "https://localhost:8080/",
     "height": 676
    },
    "id": "hRZzpRw2WDRT",
    "outputId": "ad8af0ad-c13c-417b-85c2-707852457035"
   },
   "outputs": [
    {
     "data": {
      "text/html": [
       "\n",
       "  <div id=\"df-46c5d147-fd08-4bbb-859f-a2cb68f9f49b\">\n",
       "    <div class=\"colab-df-container\">\n",
       "      <div>\n",
       "<style scoped>\n",
       "    .dataframe tbody tr th:only-of-type {\n",
       "        vertical-align: middle;\n",
       "    }\n",
       "\n",
       "    .dataframe tbody tr th {\n",
       "        vertical-align: top;\n",
       "    }\n",
       "\n",
       "    .dataframe thead th {\n",
       "        text-align: right;\n",
       "    }\n",
       "</style>\n",
       "<table border=\"1\" class=\"dataframe\">\n",
       "  <thead>\n",
       "    <tr style=\"text-align: right;\">\n",
       "      <th></th>\n",
       "      <th>churn</th>\n",
       "      <th>churn_prob</th>\n",
       "      <th>predicted</th>\n",
       "      <th>0.1</th>\n",
       "      <th>0.2</th>\n",
       "      <th>0.3</th>\n",
       "      <th>0.4</th>\n",
       "      <th>0.5</th>\n",
       "      <th>0.6</th>\n",
       "      <th>0.7</th>\n",
       "      <th>0.8</th>\n",
       "      <th>0.9</th>\n",
       "    </tr>\n",
       "  </thead>\n",
       "  <tbody>\n",
       "    <tr>\n",
       "      <th>0</th>\n",
       "      <td>0</td>\n",
       "      <td>0.023701</td>\n",
       "      <td>0</td>\n",
       "      <td>0</td>\n",
       "      <td>0</td>\n",
       "      <td>0</td>\n",
       "      <td>0</td>\n",
       "      <td>0</td>\n",
       "      <td>0</td>\n",
       "      <td>0</td>\n",
       "      <td>0</td>\n",
       "      <td>0</td>\n",
       "    </tr>\n",
       "    <tr>\n",
       "      <th>1</th>\n",
       "      <td>0</td>\n",
       "      <td>0.140288</td>\n",
       "      <td>0</td>\n",
       "      <td>1</td>\n",
       "      <td>0</td>\n",
       "      <td>0</td>\n",
       "      <td>0</td>\n",
       "      <td>0</td>\n",
       "      <td>0</td>\n",
       "      <td>0</td>\n",
       "      <td>0</td>\n",
       "      <td>0</td>\n",
       "    </tr>\n",
       "    <tr>\n",
       "      <th>2</th>\n",
       "      <td>0</td>\n",
       "      <td>0.104658</td>\n",
       "      <td>0</td>\n",
       "      <td>1</td>\n",
       "      <td>0</td>\n",
       "      <td>0</td>\n",
       "      <td>0</td>\n",
       "      <td>0</td>\n",
       "      <td>0</td>\n",
       "      <td>0</td>\n",
       "      <td>0</td>\n",
       "      <td>0</td>\n",
       "    </tr>\n",
       "    <tr>\n",
       "      <th>3</th>\n",
       "      <td>0</td>\n",
       "      <td>0.016494</td>\n",
       "      <td>0</td>\n",
       "      <td>0</td>\n",
       "      <td>0</td>\n",
       "      <td>0</td>\n",
       "      <td>0</td>\n",
       "      <td>0</td>\n",
       "      <td>0</td>\n",
       "      <td>0</td>\n",
       "      <td>0</td>\n",
       "      <td>0</td>\n",
       "    </tr>\n",
       "    <tr>\n",
       "      <th>4</th>\n",
       "      <td>0</td>\n",
       "      <td>0.002405</td>\n",
       "      <td>0</td>\n",
       "      <td>0</td>\n",
       "      <td>0</td>\n",
       "      <td>0</td>\n",
       "      <td>0</td>\n",
       "      <td>0</td>\n",
       "      <td>0</td>\n",
       "      <td>0</td>\n",
       "      <td>0</td>\n",
       "      <td>0</td>\n",
       "    </tr>\n",
       "    <tr>\n",
       "      <th>5</th>\n",
       "      <td>1</td>\n",
       "      <td>0.490558</td>\n",
       "      <td>0</td>\n",
       "      <td>1</td>\n",
       "      <td>1</td>\n",
       "      <td>1</td>\n",
       "      <td>1</td>\n",
       "      <td>0</td>\n",
       "      <td>0</td>\n",
       "      <td>0</td>\n",
       "      <td>0</td>\n",
       "      <td>0</td>\n",
       "    </tr>\n",
       "    <tr>\n",
       "      <th>6</th>\n",
       "      <td>0</td>\n",
       "      <td>0.098025</td>\n",
       "      <td>0</td>\n",
       "      <td>0</td>\n",
       "      <td>0</td>\n",
       "      <td>0</td>\n",
       "      <td>0</td>\n",
       "      <td>0</td>\n",
       "      <td>0</td>\n",
       "      <td>0</td>\n",
       "      <td>0</td>\n",
       "      <td>0</td>\n",
       "    </tr>\n",
       "    <tr>\n",
       "      <th>7</th>\n",
       "      <td>1</td>\n",
       "      <td>0.989225</td>\n",
       "      <td>1</td>\n",
       "      <td>1</td>\n",
       "      <td>1</td>\n",
       "      <td>1</td>\n",
       "      <td>1</td>\n",
       "      <td>1</td>\n",
       "      <td>1</td>\n",
       "      <td>1</td>\n",
       "      <td>1</td>\n",
       "      <td>1</td>\n",
       "    </tr>\n",
       "    <tr>\n",
       "      <th>8</th>\n",
       "      <td>0</td>\n",
       "      <td>0.165822</td>\n",
       "      <td>0</td>\n",
       "      <td>1</td>\n",
       "      <td>0</td>\n",
       "      <td>0</td>\n",
       "      <td>0</td>\n",
       "      <td>0</td>\n",
       "      <td>0</td>\n",
       "      <td>0</td>\n",
       "      <td>0</td>\n",
       "      <td>0</td>\n",
       "    </tr>\n",
       "    <tr>\n",
       "      <th>9</th>\n",
       "      <td>0</td>\n",
       "      <td>0.231257</td>\n",
       "      <td>0</td>\n",
       "      <td>1</td>\n",
       "      <td>1</td>\n",
       "      <td>0</td>\n",
       "      <td>0</td>\n",
       "      <td>0</td>\n",
       "      <td>0</td>\n",
       "      <td>0</td>\n",
       "      <td>0</td>\n",
       "      <td>0</td>\n",
       "    </tr>\n",
       "    <tr>\n",
       "      <th>10</th>\n",
       "      <td>0</td>\n",
       "      <td>0.008057</td>\n",
       "      <td>0</td>\n",
       "      <td>0</td>\n",
       "      <td>0</td>\n",
       "      <td>0</td>\n",
       "      <td>0</td>\n",
       "      <td>0</td>\n",
       "      <td>0</td>\n",
       "      <td>0</td>\n",
       "      <td>0</td>\n",
       "      <td>0</td>\n",
       "    </tr>\n",
       "    <tr>\n",
       "      <th>11</th>\n",
       "      <td>0</td>\n",
       "      <td>0.449103</td>\n",
       "      <td>0</td>\n",
       "      <td>1</td>\n",
       "      <td>1</td>\n",
       "      <td>1</td>\n",
       "      <td>1</td>\n",
       "      <td>0</td>\n",
       "      <td>0</td>\n",
       "      <td>0</td>\n",
       "      <td>0</td>\n",
       "      <td>0</td>\n",
       "    </tr>\n",
       "    <tr>\n",
       "      <th>12</th>\n",
       "      <td>0</td>\n",
       "      <td>0.244158</td>\n",
       "      <td>0</td>\n",
       "      <td>1</td>\n",
       "      <td>1</td>\n",
       "      <td>0</td>\n",
       "      <td>0</td>\n",
       "      <td>0</td>\n",
       "      <td>0</td>\n",
       "      <td>0</td>\n",
       "      <td>0</td>\n",
       "      <td>0</td>\n",
       "    </tr>\n",
       "    <tr>\n",
       "      <th>13</th>\n",
       "      <td>0</td>\n",
       "      <td>0.025765</td>\n",
       "      <td>0</td>\n",
       "      <td>0</td>\n",
       "      <td>0</td>\n",
       "      <td>0</td>\n",
       "      <td>0</td>\n",
       "      <td>0</td>\n",
       "      <td>0</td>\n",
       "      <td>0</td>\n",
       "      <td>0</td>\n",
       "      <td>0</td>\n",
       "    </tr>\n",
       "    <tr>\n",
       "      <th>14</th>\n",
       "      <td>0</td>\n",
       "      <td>0.078674</td>\n",
       "      <td>0</td>\n",
       "      <td>0</td>\n",
       "      <td>0</td>\n",
       "      <td>0</td>\n",
       "      <td>0</td>\n",
       "      <td>0</td>\n",
       "      <td>0</td>\n",
       "      <td>0</td>\n",
       "      <td>0</td>\n",
       "      <td>0</td>\n",
       "    </tr>\n",
       "    <tr>\n",
       "      <th>15</th>\n",
       "      <td>0</td>\n",
       "      <td>0.118927</td>\n",
       "      <td>0</td>\n",
       "      <td>1</td>\n",
       "      <td>0</td>\n",
       "      <td>0</td>\n",
       "      <td>0</td>\n",
       "      <td>0</td>\n",
       "      <td>0</td>\n",
       "      <td>0</td>\n",
       "      <td>0</td>\n",
       "      <td>0</td>\n",
       "    </tr>\n",
       "    <tr>\n",
       "      <th>16</th>\n",
       "      <td>0</td>\n",
       "      <td>0.034156</td>\n",
       "      <td>0</td>\n",
       "      <td>0</td>\n",
       "      <td>0</td>\n",
       "      <td>0</td>\n",
       "      <td>0</td>\n",
       "      <td>0</td>\n",
       "      <td>0</td>\n",
       "      <td>0</td>\n",
       "      <td>0</td>\n",
       "      <td>0</td>\n",
       "    </tr>\n",
       "    <tr>\n",
       "      <th>17</th>\n",
       "      <td>0</td>\n",
       "      <td>0.186242</td>\n",
       "      <td>0</td>\n",
       "      <td>1</td>\n",
       "      <td>0</td>\n",
       "      <td>0</td>\n",
       "      <td>0</td>\n",
       "      <td>0</td>\n",
       "      <td>0</td>\n",
       "      <td>0</td>\n",
       "      <td>0</td>\n",
       "      <td>0</td>\n",
       "    </tr>\n",
       "    <tr>\n",
       "      <th>18</th>\n",
       "      <td>0</td>\n",
       "      <td>0.103834</td>\n",
       "      <td>0</td>\n",
       "      <td>1</td>\n",
       "      <td>0</td>\n",
       "      <td>0</td>\n",
       "      <td>0</td>\n",
       "      <td>0</td>\n",
       "      <td>0</td>\n",
       "      <td>0</td>\n",
       "      <td>0</td>\n",
       "      <td>0</td>\n",
       "    </tr>\n",
       "    <tr>\n",
       "      <th>19</th>\n",
       "      <td>0</td>\n",
       "      <td>0.000000</td>\n",
       "      <td>0</td>\n",
       "      <td>0</td>\n",
       "      <td>0</td>\n",
       "      <td>0</td>\n",
       "      <td>0</td>\n",
       "      <td>0</td>\n",
       "      <td>0</td>\n",
       "      <td>0</td>\n",
       "      <td>0</td>\n",
       "      <td>0</td>\n",
       "    </tr>\n",
       "  </tbody>\n",
       "</table>\n",
       "</div>\n",
       "      <button class=\"colab-df-convert\" onclick=\"convertToInteractive('df-46c5d147-fd08-4bbb-859f-a2cb68f9f49b')\"\n",
       "              title=\"Convert this dataframe to an interactive table.\"\n",
       "              style=\"display:none;\">\n",
       "        \n",
       "  <svg xmlns=\"http://www.w3.org/2000/svg\" height=\"24px\"viewBox=\"0 0 24 24\"\n",
       "       width=\"24px\">\n",
       "    <path d=\"M0 0h24v24H0V0z\" fill=\"none\"/>\n",
       "    <path d=\"M18.56 5.44l.94 2.06.94-2.06 2.06-.94-2.06-.94-.94-2.06-.94 2.06-2.06.94zm-11 1L8.5 8.5l.94-2.06 2.06-.94-2.06-.94L8.5 2.5l-.94 2.06-2.06.94zm10 10l.94 2.06.94-2.06 2.06-.94-2.06-.94-.94-2.06-.94 2.06-2.06.94z\"/><path d=\"M17.41 7.96l-1.37-1.37c-.4-.4-.92-.59-1.43-.59-.52 0-1.04.2-1.43.59L10.3 9.45l-7.72 7.72c-.78.78-.78 2.05 0 2.83L4 21.41c.39.39.9.59 1.41.59.51 0 1.02-.2 1.41-.59l7.78-7.78 2.81-2.81c.8-.78.8-2.07 0-2.86zM5.41 20L4 18.59l7.72-7.72 1.47 1.35L5.41 20z\"/>\n",
       "  </svg>\n",
       "      </button>\n",
       "      \n",
       "  <style>\n",
       "    .colab-df-container {\n",
       "      display:flex;\n",
       "      flex-wrap:wrap;\n",
       "      gap: 12px;\n",
       "    }\n",
       "\n",
       "    .colab-df-convert {\n",
       "      background-color: #E8F0FE;\n",
       "      border: none;\n",
       "      border-radius: 50%;\n",
       "      cursor: pointer;\n",
       "      display: none;\n",
       "      fill: #1967D2;\n",
       "      height: 32px;\n",
       "      padding: 0 0 0 0;\n",
       "      width: 32px;\n",
       "    }\n",
       "\n",
       "    .colab-df-convert:hover {\n",
       "      background-color: #E2EBFA;\n",
       "      box-shadow: 0px 1px 2px rgba(60, 64, 67, 0.3), 0px 1px 3px 1px rgba(60, 64, 67, 0.15);\n",
       "      fill: #174EA6;\n",
       "    }\n",
       "\n",
       "    [theme=dark] .colab-df-convert {\n",
       "      background-color: #3B4455;\n",
       "      fill: #D2E3FC;\n",
       "    }\n",
       "\n",
       "    [theme=dark] .colab-df-convert:hover {\n",
       "      background-color: #434B5C;\n",
       "      box-shadow: 0px 1px 3px 1px rgba(0, 0, 0, 0.15);\n",
       "      filter: drop-shadow(0px 1px 2px rgba(0, 0, 0, 0.3));\n",
       "      fill: #FFFFFF;\n",
       "    }\n",
       "  </style>\n",
       "\n",
       "      <script>\n",
       "        const buttonEl =\n",
       "          document.querySelector('#df-46c5d147-fd08-4bbb-859f-a2cb68f9f49b button.colab-df-convert');\n",
       "        buttonEl.style.display =\n",
       "          google.colab.kernel.accessAllowed ? 'block' : 'none';\n",
       "\n",
       "        async function convertToInteractive(key) {\n",
       "          const element = document.querySelector('#df-46c5d147-fd08-4bbb-859f-a2cb68f9f49b');\n",
       "          const dataTable =\n",
       "            await google.colab.kernel.invokeFunction('convertToInteractive',\n",
       "                                                     [key], {});\n",
       "          if (!dataTable) return;\n",
       "\n",
       "          const docLinkHtml = 'Like what you see? Visit the ' +\n",
       "            '<a target=\"_blank\" href=https://colab.research.google.com/notebooks/data_table.ipynb>data table notebook</a>'\n",
       "            + ' to learn more about interactive tables.';\n",
       "          element.innerHTML = '';\n",
       "          dataTable['output_type'] = 'display_data';\n",
       "          await google.colab.output.renderOutput(dataTable, element);\n",
       "          const docLink = document.createElement('div');\n",
       "          docLink.innerHTML = docLinkHtml;\n",
       "          element.appendChild(docLink);\n",
       "        }\n",
       "      </script>\n",
       "    </div>\n",
       "  </div>\n",
       "  "
      ],
      "text/plain": [
       "    churn  churn_prob  predicted  0.1  0.2  0.3  0.4  0.5  0.6  0.7  0.8  0.9\n",
       "0       0    0.023701          0    0    0    0    0    0    0    0    0    0\n",
       "1       0    0.140288          0    1    0    0    0    0    0    0    0    0\n",
       "2       0    0.104658          0    1    0    0    0    0    0    0    0    0\n",
       "3       0    0.016494          0    0    0    0    0    0    0    0    0    0\n",
       "4       0    0.002405          0    0    0    0    0    0    0    0    0    0\n",
       "5       1    0.490558          0    1    1    1    1    0    0    0    0    0\n",
       "6       0    0.098025          0    0    0    0    0    0    0    0    0    0\n",
       "7       1    0.989225          1    1    1    1    1    1    1    1    1    1\n",
       "8       0    0.165822          0    1    0    0    0    0    0    0    0    0\n",
       "9       0    0.231257          0    1    1    0    0    0    0    0    0    0\n",
       "10      0    0.008057          0    0    0    0    0    0    0    0    0    0\n",
       "11      0    0.449103          0    1    1    1    1    0    0    0    0    0\n",
       "12      0    0.244158          0    1    1    0    0    0    0    0    0    0\n",
       "13      0    0.025765          0    0    0    0    0    0    0    0    0    0\n",
       "14      0    0.078674          0    0    0    0    0    0    0    0    0    0\n",
       "15      0    0.118927          0    1    0    0    0    0    0    0    0    0\n",
       "16      0    0.034156          0    0    0    0    0    0    0    0    0    0\n",
       "17      0    0.186242          0    1    0    0    0    0    0    0    0    0\n",
       "18      0    0.103834          0    1    0    0    0    0    0    0    0    0\n",
       "19      0    0.000000          0    0    0    0    0    0    0    0    0    0"
      ]
     },
     "execution_count": 411,
     "metadata": {},
     "output_type": "execute_result"
    }
   ],
   "source": [
    "#Let us observe the churn probabilities over a range of values between 0.1 to 0.9\n",
    "cut_of_range = [0.1, 0.2, 0.3, 0.4, 0.5, 0.6, 0.7, 0.8, 0.9]\n",
    "for i in cut_of_range:\n",
    "    trn_rnf_pred_df[i] = trn_rnf_pred_df.churn_prob.apply(lambda x : 1 if x > i else 0)\n",
    "trn_rnf_pred_df.head(20)\n",
    "    "
   ]
  },
  {
   "cell_type": "code",
   "execution_count": null,
   "metadata": {
    "id": "KE7W0ikwWDRT"
   },
   "outputs": [],
   "source": [
    "# Let us find the accuracy, sensitivity and specificity for each of the cut-off values\n",
    "def Create_KPI_DataFrame(df):\n",
    "    prob_range = [0.1, 0.2, 0.3, 0.4, 0.5, 0.6, 0.7, 0.8, 0.9]\n",
    "    metr_df = pd.DataFrame(columns=['Prob', 'Accuracy', 'Sensitivity', 'Specificity'])\n",
    "    for prob in prob_range:\n",
    "        cm = metrics.confusion_matrix(df.churn, df[prob])\n",
    "        TN = cm[0,0]\n",
    "        FP = cm[0,1]\n",
    "        FN = cm[1,0]\n",
    "        TP = cm[1,1]\n",
    "        acc = (TP + TN)/(TP + TN + FP + FN)\n",
    "        speci = (TN/(TN + FP))\n",
    "        sensi = (TP/(TP + FN))\n",
    "        metr_df.loc[prob] = [prob, acc, sensi, speci]\n",
    "    print(metr_df)\n",
    "    metr_df.plot.line(x='Prob', y=['Accuracy', 'Sensitivity', 'Specificity'])\n",
    "#plt.show()"
   ]
  },
  {
   "cell_type": "code",
   "execution_count": null,
   "metadata": {
    "colab": {
     "base_uri": "https://localhost:8080/",
     "height": 460
    },
    "id": "OjoSgtaFWDRU",
    "outputId": "9c7cb701-68c8-43c6-b07e-638e63a9b85e"
   },
   "outputs": [
    {
     "name": "stdout",
     "output_type": "stream",
     "text": [
      "     Prob  Accuracy  Sensitivity  Specificity\n",
      "0.1   0.1  0.758700     0.999639     0.517762\n",
      "0.2   0.2  0.863502     0.989819     0.737184\n",
      "0.3   0.3  0.908664     0.968809     0.848520\n",
      "0.4   0.4  0.916931     0.934874     0.898989\n",
      "0.5   0.5  0.909603     0.891408     0.927798\n",
      "0.6   0.6  0.893791     0.845776     0.941805\n",
      "0.7   0.7  0.879278     0.806643     0.951913\n",
      "0.8   0.8  0.858953     0.748303     0.969603\n",
      "0.9   0.9  0.787401     0.584043     0.990758\n"
     ]
    },
    {
     "data": {
      "image/png": "[encoded data removed]",
      "text/plain": [
       "<Figure size 432x288 with 1 Axes>"
      ]
     },
     "metadata": {
      "needs_background": "light"
     },
     "output_type": "display_data"
    }
   ],
   "source": [
    "kpi_df = Create_KPI_DataFrame(trn_rnf_pred_df)"
   ]
  },
  {
   "cell_type": "markdown",
   "metadata": {
    "id": "SkoogI_qWDRU"
   },
   "source": [
    "From the above graph it is clear that optimum value of the cut-off would be 0.45\n",
    "Let us build the model with 0.45 as cut-off value"
   ]
  },
  {
   "cell_type": "code",
   "execution_count": null,
   "metadata": {
    "colab": {
     "base_uri": "https://localhost:8080/",
     "height": 206
    },
    "id": "jhGxav5nWDRU",
    "outputId": "28d55052-e2d5-43d7-faaa-f4ef203d798b"
   },
   "outputs": [
    {
     "data": {
      "text/html": [
       "\n",
       "  <div id=\"df-8ef0a44e-98dc-4789-9ffa-039cdcf9ca8c\">\n",
       "    <div class=\"colab-df-container\">\n",
       "      <div>\n",
       "<style scoped>\n",
       "    .dataframe tbody tr th:only-of-type {\n",
       "        vertical-align: middle;\n",
       "    }\n",
       "\n",
       "    .dataframe tbody tr th {\n",
       "        vertical-align: top;\n",
       "    }\n",
       "\n",
       "    .dataframe thead th {\n",
       "        text-align: right;\n",
       "    }\n",
       "</style>\n",
       "<table border=\"1\" class=\"dataframe\">\n",
       "  <thead>\n",
       "    <tr style=\"text-align: right;\">\n",
       "      <th></th>\n",
       "      <th>churn</th>\n",
       "      <th>churn_prob</th>\n",
       "      <th>predicted</th>\n",
       "    </tr>\n",
       "  </thead>\n",
       "  <tbody>\n",
       "    <tr>\n",
       "      <th>0</th>\n",
       "      <td>0</td>\n",
       "      <td>0.023701</td>\n",
       "      <td>0</td>\n",
       "    </tr>\n",
       "    <tr>\n",
       "      <th>1</th>\n",
       "      <td>0</td>\n",
       "      <td>0.140288</td>\n",
       "      <td>0</td>\n",
       "    </tr>\n",
       "    <tr>\n",
       "      <th>2</th>\n",
       "      <td>0</td>\n",
       "      <td>0.104658</td>\n",
       "      <td>0</td>\n",
       "    </tr>\n",
       "    <tr>\n",
       "      <th>3</th>\n",
       "      <td>0</td>\n",
       "      <td>0.016494</td>\n",
       "      <td>0</td>\n",
       "    </tr>\n",
       "    <tr>\n",
       "      <th>4</th>\n",
       "      <td>0</td>\n",
       "      <td>0.002405</td>\n",
       "      <td>0</td>\n",
       "    </tr>\n",
       "  </tbody>\n",
       "</table>\n",
       "</div>\n",
       "      <button class=\"colab-df-convert\" onclick=\"convertToInteractive('df-8ef0a44e-98dc-4789-9ffa-039cdcf9ca8c')\"\n",
       "              title=\"Convert this dataframe to an interactive table.\"\n",
       "              style=\"display:none;\">\n",
       "        \n",
       "  <svg xmlns=\"http://www.w3.org/2000/svg\" height=\"24px\"viewBox=\"0 0 24 24\"\n",
       "       width=\"24px\">\n",
       "    <path d=\"M0 0h24v24H0V0z\" fill=\"none\"/>\n",
       "    <path d=\"M18.56 5.44l.94 2.06.94-2.06 2.06-.94-2.06-.94-.94-2.06-.94 2.06-2.06.94zm-11 1L8.5 8.5l.94-2.06 2.06-.94-2.06-.94L8.5 2.5l-.94 2.06-2.06.94zm10 10l.94 2.06.94-2.06 2.06-.94-2.06-.94-.94-2.06-.94 2.06-2.06.94z\"/><path d=\"M17.41 7.96l-1.37-1.37c-.4-.4-.92-.59-1.43-.59-.52 0-1.04.2-1.43.59L10.3 9.45l-7.72 7.72c-.78.78-.78 2.05 0 2.83L4 21.41c.39.39.9.59 1.41.59.51 0 1.02-.2 1.41-.59l7.78-7.78 2.81-2.81c.8-.78.8-2.07 0-2.86zM5.41 20L4 18.59l7.72-7.72 1.47 1.35L5.41 20z\"/>\n",
       "  </svg>\n",
       "      </button>\n",
       "      \n",
       "  <style>\n",
       "    .colab-df-container {\n",
       "      display:flex;\n",
       "      flex-wrap:wrap;\n",
       "      gap: 12px;\n",
       "    }\n",
       "\n",
       "    .colab-df-convert {\n",
       "      background-color: #E8F0FE;\n",
       "      border: none;\n",
       "      border-radius: 50%;\n",
       "      cursor: pointer;\n",
       "      display: none;\n",
       "      fill: #1967D2;\n",
       "      height: 32px;\n",
       "      padding: 0 0 0 0;\n",
       "      width: 32px;\n",
       "    }\n",
       "\n",
       "    .colab-df-convert:hover {\n",
       "      background-color: #E2EBFA;\n",
       "      box-shadow: 0px 1px 2px rgba(60, 64, 67, 0.3), 0px 1px 3px 1px rgba(60, 64, 67, 0.15);\n",
       "      fill: #174EA6;\n",
       "    }\n",
       "\n",
       "    [theme=dark] .colab-df-convert {\n",
       "      background-color: #3B4455;\n",
       "      fill: #D2E3FC;\n",
       "    }\n",
       "\n",
       "    [theme=dark] .colab-df-convert:hover {\n",
       "      background-color: #434B5C;\n",
       "      box-shadow: 0px 1px 3px 1px rgba(0, 0, 0, 0.15);\n",
       "      filter: drop-shadow(0px 1px 2px rgba(0, 0, 0, 0.3));\n",
       "      fill: #FFFFFF;\n",
       "    }\n",
       "  </style>\n",
       "\n",
       "      <script>\n",
       "        const buttonEl =\n",
       "          document.querySelector('#df-8ef0a44e-98dc-4789-9ffa-039cdcf9ca8c button.colab-df-convert');\n",
       "        buttonEl.style.display =\n",
       "          google.colab.kernel.accessAllowed ? 'block' : 'none';\n",
       "\n",
       "        async function convertToInteractive(key) {\n",
       "          const element = document.querySelector('#df-8ef0a44e-98dc-4789-9ffa-039cdcf9ca8c');\n",
       "          const dataTable =\n",
       "            await google.colab.kernel.invokeFunction('convertToInteractive',\n",
       "                                                     [key], {});\n",
       "          if (!dataTable) return;\n",
       "\n",
       "          const docLinkHtml = 'Like what you see? Visit the ' +\n",
       "            '<a target=\"_blank\" href=https://colab.research.google.com/notebooks/data_table.ipynb>data table notebook</a>'\n",
       "            + ' to learn more about interactive tables.';\n",
       "          element.innerHTML = '';\n",
       "          dataTable['output_type'] = 'display_data';\n",
       "          await google.colab.output.renderOutput(dataTable, element);\n",
       "          const docLink = document.createElement('div');\n",
       "          docLink.innerHTML = docLinkHtml;\n",
       "          element.appendChild(docLink);\n",
       "        }\n",
       "      </script>\n",
       "    </div>\n",
       "  </div>\n",
       "  "
      ],
      "text/plain": [
       "   churn  churn_prob  predicted\n",
       "0      0    0.023701          0\n",
       "1      0    0.140288          0\n",
       "2      0    0.104658          0\n",
       "3      0    0.016494          0\n",
       "4      0    0.002405          0"
      ]
     },
     "execution_count": 414,
     "metadata": {},
     "output_type": "execute_result"
    }
   ],
   "source": [
    "y_train_pred_prob = rnf_pca.predict_proba(X_train_pca)[:,1]\n",
    "trn_rnf_pred_df = pd.DataFrame({'churn':y_train_smo, 'churn_prob':rf_train_pred_prob})\n",
    "trn_rnf_pred_df['predicted'] = trn_rnf_pred_df.churn_prob.apply(lambda x : 1 if x > 0.45 else 0)\n",
    "trn_rnf_pred_df.head()"
   ]
  },
  {
   "cell_type": "code",
   "execution_count": null,
   "metadata": {
    "colab": {
     "base_uri": "https://localhost:8080/"
    },
    "id": "JwEfEEhvWDRU",
    "outputId": "63ad5d31-092c-474e-9583-a7c68b68c53b"
   },
   "outputs": [
    {
     "name": "stdout",
     "output_type": "stream",
     "text": [
      "ROC AUC Score  0.9149819494584838\n",
      "Precision Score 0.9171202554612091\n",
      "Sensitivity/Recall  0.9124187725631769\n",
      "Specificity  0.9175451263537906\n",
      "False positive rate 0.08245487364620939\n",
      "False negative rate 0.0875812274368231\n",
      "Positive predictive value  0.9171202554612091\n",
      "Negative predictive value  0.9128654550678831\n",
      "Accuracy  0.9149819494584838\n"
     ]
    }
   ],
   "source": [
    "Print_Metrics_KPIs(trn_rnf_pred_df.churn, trn_rnf_pred_df.predicted)"
   ]
  },
  {
   "cell_type": "markdown",
   "metadata": {
    "id": "CH6VXaaEH1gS"
   },
   "source": [
    "Create a new column 'predicted' with a cut-off value of 0.45 selected"
   ]
  },
  {
   "cell_type": "code",
   "execution_count": null,
   "metadata": {
    "colab": {
     "base_uri": "https://localhost:8080/",
     "height": 206
    },
    "id": "hMFFNj5uWDRU",
    "outputId": "d15abc6b-f7cc-4e52-ef18-b8eba8eb8d98"
   },
   "outputs": [
    {
     "data": {
      "text/html": [
       "\n",
       "  <div id=\"df-481681cf-36b7-477a-86d5-3a208b8c868e\">\n",
       "    <div class=\"colab-df-container\">\n",
       "      <div>\n",
       "<style scoped>\n",
       "    .dataframe tbody tr th:only-of-type {\n",
       "        vertical-align: middle;\n",
       "    }\n",
       "\n",
       "    .dataframe tbody tr th {\n",
       "        vertical-align: top;\n",
       "    }\n",
       "\n",
       "    .dataframe thead th {\n",
       "        text-align: right;\n",
       "    }\n",
       "</style>\n",
       "<table border=\"1\" class=\"dataframe\">\n",
       "  <thead>\n",
       "    <tr style=\"text-align: right;\">\n",
       "      <th></th>\n",
       "      <th>churn</th>\n",
       "      <th>churn_prob</th>\n",
       "      <th>predicted</th>\n",
       "    </tr>\n",
       "  </thead>\n",
       "  <tbody>\n",
       "    <tr>\n",
       "      <th>12959</th>\n",
       "      <td>0</td>\n",
       "      <td>0.119114</td>\n",
       "      <td>0</td>\n",
       "    </tr>\n",
       "    <tr>\n",
       "      <th>36879</th>\n",
       "      <td>0</td>\n",
       "      <td>0.338056</td>\n",
       "      <td>0</td>\n",
       "    </tr>\n",
       "    <tr>\n",
       "      <th>40807</th>\n",
       "      <td>0</td>\n",
       "      <td>0.160422</td>\n",
       "      <td>0</td>\n",
       "    </tr>\n",
       "    <tr>\n",
       "      <th>57070</th>\n",
       "      <td>1</td>\n",
       "      <td>0.982118</td>\n",
       "      <td>1</td>\n",
       "    </tr>\n",
       "    <tr>\n",
       "      <th>53303</th>\n",
       "      <td>0</td>\n",
       "      <td>0.010318</td>\n",
       "      <td>0</td>\n",
       "    </tr>\n",
       "  </tbody>\n",
       "</table>\n",
       "</div>\n",
       "      <button class=\"colab-df-convert\" onclick=\"convertToInteractive('df-481681cf-36b7-477a-86d5-3a208b8c868e')\"\n",
       "              title=\"Convert this dataframe to an interactive table.\"\n",
       "              style=\"display:none;\">\n",
       "        \n",
       "  <svg xmlns=\"http://www.w3.org/2000/svg\" height=\"24px\"viewBox=\"0 0 24 24\"\n",
       "       width=\"24px\">\n",
       "    <path d=\"M0 0h24v24H0V0z\" fill=\"none\"/>\n",
       "    <path d=\"M18.56 5.44l.94 2.06.94-2.06 2.06-.94-2.06-.94-.94-2.06-.94 2.06-2.06.94zm-11 1L8.5 8.5l.94-2.06 2.06-.94-2.06-.94L8.5 2.5l-.94 2.06-2.06.94zm10 10l.94 2.06.94-2.06 2.06-.94-2.06-.94-.94-2.06-.94 2.06-2.06.94z\"/><path d=\"M17.41 7.96l-1.37-1.37c-.4-.4-.92-.59-1.43-.59-.52 0-1.04.2-1.43.59L10.3 9.45l-7.72 7.72c-.78.78-.78 2.05 0 2.83L4 21.41c.39.39.9.59 1.41.59.51 0 1.02-.2 1.41-.59l7.78-7.78 2.81-2.81c.8-.78.8-2.07 0-2.86zM5.41 20L4 18.59l7.72-7.72 1.47 1.35L5.41 20z\"/>\n",
       "  </svg>\n",
       "      </button>\n",
       "      \n",
       "  <style>\n",
       "    .colab-df-container {\n",
       "      display:flex;\n",
       "      flex-wrap:wrap;\n",
       "      gap: 12px;\n",
       "    }\n",
       "\n",
       "    .colab-df-convert {\n",
       "      background-color: #E8F0FE;\n",
       "      border: none;\n",
       "      border-radius: 50%;\n",
       "      cursor: pointer;\n",
       "      display: none;\n",
       "      fill: #1967D2;\n",
       "      height: 32px;\n",
       "      padding: 0 0 0 0;\n",
       "      width: 32px;\n",
       "    }\n",
       "\n",
       "    .colab-df-convert:hover {\n",
       "      background-color: #E2EBFA;\n",
       "      box-shadow: 0px 1px 2px rgba(60, 64, 67, 0.3), 0px 1px 3px 1px rgba(60, 64, 67, 0.15);\n",
       "      fill: #174EA6;\n",
       "    }\n",
       "\n",
       "    [theme=dark] .colab-df-convert {\n",
       "      background-color: #3B4455;\n",
       "      fill: #D2E3FC;\n",
       "    }\n",
       "\n",
       "    [theme=dark] .colab-df-convert:hover {\n",
       "      background-color: #434B5C;\n",
       "      box-shadow: 0px 1px 3px 1px rgba(0, 0, 0, 0.15);\n",
       "      filter: drop-shadow(0px 1px 2px rgba(0, 0, 0, 0.3));\n",
       "      fill: #FFFFFF;\n",
       "    }\n",
       "  </style>\n",
       "\n",
       "      <script>\n",
       "        const buttonEl =\n",
       "          document.querySelector('#df-481681cf-36b7-477a-86d5-3a208b8c868e button.colab-df-convert');\n",
       "        buttonEl.style.display =\n",
       "          google.colab.kernel.accessAllowed ? 'block' : 'none';\n",
       "\n",
       "        async function convertToInteractive(key) {\n",
       "          const element = document.querySelector('#df-481681cf-36b7-477a-86d5-3a208b8c868e');\n",
       "          const dataTable =\n",
       "            await google.colab.kernel.invokeFunction('convertToInteractive',\n",
       "                                                     [key], {});\n",
       "          if (!dataTable) return;\n",
       "\n",
       "          const docLinkHtml = 'Like what you see? Visit the ' +\n",
       "            '<a target=\"_blank\" href=https://colab.research.google.com/notebooks/data_table.ipynb>data table notebook</a>'\n",
       "            + ' to learn more about interactive tables.';\n",
       "          element.innerHTML = '';\n",
       "          dataTable['output_type'] = 'display_data';\n",
       "          await google.colab.output.renderOutput(dataTable, element);\n",
       "          const docLink = document.createElement('div');\n",
       "          docLink.innerHTML = docLinkHtml;\n",
       "          element.appendChild(docLink);\n",
       "        }\n",
       "      </script>\n",
       "    </div>\n",
       "  </div>\n",
       "  "
      ],
      "text/plain": [
       "       churn  churn_prob  predicted\n",
       "12959      0    0.119114          0\n",
       "36879      0    0.338056          0\n",
       "40807      0    0.160422          0\n",
       "57070      1    0.982118          1\n",
       "53303      0    0.010318          0"
      ]
     },
     "execution_count": 416,
     "metadata": {},
     "output_type": "execute_result"
    }
   ],
   "source": [
    "y_test_pred_prob = rnf_pca.predict_proba(X_test_pca)[:,1]\n",
    "tst_rnf_pred_df = pd.DataFrame({'churn':y_test, 'churn_prob':y_test_pred_prob})\n",
    "tst_rnf_pred_df['predicted'] = tst_rnf_pred_df.churn_prob.apply(lambda x : 1 if x > 0.45 else 0)\n",
    "tst_rnf_pred_df.head()"
   ]
  },
  {
   "cell_type": "code",
   "execution_count": null,
   "metadata": {
    "colab": {
     "base_uri": "https://localhost:8080/"
    },
    "id": "ujoxVUZcWDRU",
    "outputId": "e4bdeeb7-7ace-45a4-a10d-bf78f373d5b1"
   },
   "outputs": [
    {
     "name": "stdout",
     "output_type": "stream",
     "text": [
      "ROC AUC Score  0.8865160686575297\n",
      "Precision Score 0.3733170134638923\n",
      "Sensitivity/Recall  0.8591549295774648\n",
      "Specificity  0.9138772077375946\n",
      "False positive rate 0.08612279226240538\n",
      "False negative rate 0.14084507042253522\n",
      "Positive predictive value  0.3733170134638923\n",
      "Negative predictive value  0.9908809046142623\n",
      "Accuracy  0.9107936507936508\n"
     ]
    }
   ],
   "source": [
    "Print_Metrics_KPIs(tst_rnf_pred_df.churn, tst_rnf_pred_df.predicted)"
   ]
  },
  {
   "cell_type": "markdown",
   "metadata": {
    "id": "E1NP-L9kpz57"
   },
   "source": [
    "# Build the model with AdaBoost"
   ]
  },
  {
   "cell_type": "code",
   "execution_count": null,
   "metadata": {
    "colab": {
     "base_uri": "https://localhost:8080/"
    },
    "id": "7MqOdBqJp4Nl",
    "outputId": "7d6713ac-7343-49e2-a587-5909a0440cda"
   },
   "outputs": [
    {
     "data": {
      "text/plain": [
       "AdaBoostClassifier(learning_rate=0.05, n_estimators=500)"
      ]
     },
     "execution_count": 427,
     "metadata": {},
     "output_type": "execute_result"
    }
   ],
   "source": [
    "ada_model = AdaBoostClassifier(learning_rate=0.05, n_estimators=500)\n",
    "ada_model.fit(X_train_smo, y_train_smo)"
   ]
  },
  {
   "cell_type": "code",
   "execution_count": null,
   "metadata": {
    "id": "oaAufR1qrl3u"
   },
   "outputs": [],
   "source": [
    "y_train_pred = ada_model.predict(X_train)"
   ]
  },
  {
   "cell_type": "code",
   "execution_count": null,
   "metadata": {
    "colab": {
     "base_uri": "https://localhost:8080/"
    },
    "id": "-5YxEF20r_ws",
    "outputId": "357c4852-7b78-40aa-86be-a8f6b281388c"
   },
   "outputs": [
    {
     "name": "stdout",
     "output_type": "stream",
     "text": [
      "ROC AUC Score  0.5\n",
      "Precision Score 0.0\n",
      "Sensitivity/Recall  0.0\n",
      "Specificity  1.0\n",
      "False positive rate 0.0\n",
      "False negative rate 1.0\n",
      "Positive predictive value  nan\n",
      "Negative predictive value  0.9423050755204789\n",
      "Accuracy  0.9423050755204789\n"
     ]
    }
   ],
   "source": [
    "Print_Metrics_KPIs(y_train, y_train_xgb)"
   ]
  },
  {
   "cell_type": "markdown",
   "metadata": {
    "id": "-177BG_eOssw"
   },
   "source": [
    "# Build the model with XGBoost"
   ]
  },
  {
   "cell_type": "code",
   "execution_count": null,
   "metadata": {
    "id": "EgHSWOVusAmy"
   },
   "outputs": [],
   "source": []
  },
  {
   "cell_type": "code",
   "execution_count": null,
   "metadata": {
    "id": "ofjCy2eLPXCH"
   },
   "outputs": [],
   "source": [
    "xgb_model = XGBClassifier(learning_rate=0.0, max_depth=4, min_child_weight=10,\n",
    "                          gamma=0.6, nthread=4, sub_sample=0.4, colsample_bytree=0.6,\n",
    "                          reg_alpha=10, reg_lamda=2)"
   ]
  },
  {
   "cell_type": "code",
   "execution_count": null,
   "metadata": {
    "colab": {
     "base_uri": "https://localhost:8080/"
    },
    "id": "7b9XaDDRPbO5",
    "outputId": "728cb9c6-8019-40b5-b785-344947d43bab"
   },
   "outputs": [
    {
     "data": {
      "text/plain": [
       "XGBClassifier(colsample_bytree=0.6, gamma=0.6, learning_rate=0.0, max_depth=4,\n",
       "              min_child_weight=10, nthread=4, reg_alpha=10, reg_lamda=2,\n",
       "              sub_sample=0.4)"
      ]
     },
     "execution_count": 419,
     "metadata": {},
     "output_type": "execute_result"
    }
   ],
   "source": [
    "xgb_model.fit(X_train_smo, y_train_smo)"
   ]
  },
  {
   "cell_type": "code",
   "execution_count": null,
   "metadata": {
    "colab": {
     "base_uri": "https://localhost:8080/"
    },
    "id": "65VEMKugPsqV",
    "outputId": "a1cc4262-847c-4b56-b616-35360c5f5ead"
   },
   "outputs": [
    {
     "data": {
      "text/plain": [
       "XGBClassifier(colsample_bytree=0.6, gamma=0.6, learning_rate=0.0, max_depth=4,\n",
       "              min_child_weight=10, nthread=4, reg_alpha=10, reg_lamda=2,\n",
       "              sub_sample=0.4)"
      ]
     },
     "execution_count": 420,
     "metadata": {},
     "output_type": "execute_result"
    }
   ],
   "source": [
    "xgb_model.fit(X_train_smo, y_train_smo)"
   ]
  },
  {
   "cell_type": "code",
   "execution_count": null,
   "metadata": {
    "id": "kv2E7OBIPzgB"
   },
   "outputs": [],
   "source": [
    "y_train_xgb = xgb_model.predict(X_train)"
   ]
  },
  {
   "cell_type": "code",
   "execution_count": null,
   "metadata": {
    "colab": {
     "base_uri": "https://localhost:8080/"
    },
    "id": "igWzQ0iNP5YH",
    "outputId": "45368202-be4e-43ea-d481-d8046f1e9c80"
   },
   "outputs": [
    {
     "name": "stdout",
     "output_type": "stream",
     "text": [
      "ROC AUC Score  0.5\n",
      "Precision Score 0.0\n",
      "Sensitivity/Recall  0.0\n",
      "Specificity  1.0\n",
      "False positive rate 0.0\n",
      "False negative rate 1.0\n",
      "Positive predictive value  nan\n",
      "Negative predictive value  0.9423050755204789\n",
      "Accuracy  0.9423050755204789\n"
     ]
    }
   ],
   "source": [
    "Print_Metrics_KPIs(y_train, y_train_xgb)"
   ]
  },
  {
   "cell_type": "markdown",
   "metadata": {
    "id": "J30dM3M1IGD3"
   },
   "source": [
    "# Results of different models built"
   ]
  },
  {
   "cell_type": "markdown",
   "metadata": {
    "id": "zGP7f3yyk0vu"
   },
   "source": [
    "Random Forest Train and Test Scores\n",
    "\n",
    "Train Sensitivity/Recall - 0.928\n",
    "Test Sensitivity/Recall - 0.827\n",
    "\n",
    "Logistic Regression\n",
    "Train Sensitivity/Recall - 0.909\n",
    "Test Sensitivity/Recall -  0.862"
   ]
  },
  {
   "cell_type": "markdown",
   "metadata": {
    "id": "hQM1k0FctYCG"
   },
   "source": [
    "Model recomdation of customer churn - Random Forest\n",
    "\n",
    "Let us fit the final model with the best parameters selected"
   ]
  },
  {
   "cell_type": "code",
   "execution_count": null,
   "metadata": {
    "id": "-MqP3VRatWAQ"
   },
   "outputs": [],
   "source": [
    "rnf = RandomForestClassifier(bootstrap = True,\n",
    "                             max_depth=20,\n",
    "                             n_estimators=80,\n",
    "                             max_features=5,\n",
    "                             min_samples_leaf=100,\n",
    "                             min_samples_split = 100,\n",
    "                             random_state = 10)\n",
    "#rnf = GridSearchCV(rnf, params, cv=folds, scoring=\"accuracy\", return_train_score=True)\n"
   ]
  },
  {
   "cell_type": "code",
   "execution_count": null,
   "metadata": {
    "id": "jz0WrJA3vRTr"
   },
   "outputs": [],
   "source": [
    "rnf_pca = rnf.fit(X_train_smo, y_train_smo)"
   ]
  },
  {
   "cell_type": "code",
   "execution_count": null,
   "metadata": {
    "colab": {
     "base_uri": "https://localhost:8080/",
     "height": 592
    },
    "id": "YrhN7E-0jQ91",
    "outputId": "7421bbd1-55c2-4a66-e7ee-5d95c273a7df"
   },
   "outputs": [
    {
     "data": {
      "image/png": "[encoded data removed]",
      "text/plain": [
       "<Figure size 1008x720 with 1 Axes>"
      ]
     },
     "metadata": {
      "needs_background": "light"
     },
     "output_type": "display_data"
    }
   ],
   "source": [
    "plt.figure(figsize=(14,10))\n",
    "imp_features = pd.Series(rnf_pca.feature_importances_, index=X.columns)\n",
    "imp_features.nlargest((25)).sort_values().plot(kind='barh', align='center')\n",
    "plt.show()"
   ]
  },
  {
   "cell_type": "code",
   "execution_count": null,
   "metadata": {
    "colab": {
     "base_uri": "https://localhost:8080/"
    },
    "execution": {
     "iopub.execute_input": "2022-04-11T01:51:24.683854Z",
     "iopub.status.busy": "2022-04-11T01:51:24.683135Z",
     "iopub.status.idle": "2022-04-11T01:51:24.709630Z",
     "shell.execute_reply": "2022-04-11T01:51:24.708758Z",
     "shell.execute_reply.started": "2022-04-11T01:51:24.683750Z"
    },
    "id": "o0JAdjYXWDRU",
    "outputId": "8aea468c-18e3-4793-ca1e-a9c2f8926b9a"
   },
   "outputs": [
    {
     "name": "stdout",
     "output_type": "stream",
     "text": [
      "Hello World\n"
     ]
    }
   ],
   "source": [
    "# 123456\n",
    "print(\"Hello World\")"
   ]
  }
 ],
 "metadata": {
  "colab": {
   "collapsed_sections": [
    "XfbjrtgIbmh0",
    "pZEXzehhV7ZC",
    "VcgWEAXyWDQ4",
    "zyN7FmztWDQ6",
    "lNo-du4CWDRB",
    "4u7jD_oaWDRF",
    "TLQlDYo2gQX2",
    "sIoXzqByhMbk",
    "6WWapy4TigtM",
    "ai4M2auNABct",
    "rVyTL-YDAhVr",
    "D5zqhUJJBHPQ"
   ],
   "name": "notebook3a4931890e_collab_with_svm_ada_xg_boost (1).ipynb",
   "provenance": [],
   "toc_visible": true
  },
  "kernelspec": {
   "display_name": "Python 3 (ipykernel)",
   "language": "python",
   "name": "python3"
  },
  "language_info": {
   "codemirror_mode": {
    "name": "ipython",
    "version": 3
   },
   "file_extension": ".py",
   "mimetype": "text/x-python",
   "name": "python",
   "nbconvert_exporter": "python",
   "pygments_lexer": "ipython3",
   "version": "3.8.8"
  }
 },
 "nbformat": 4,
 "nbformat_minor": 1
}
