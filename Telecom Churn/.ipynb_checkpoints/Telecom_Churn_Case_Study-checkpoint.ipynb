{
 "cells": [
  {
   "cell_type": "code",
   "execution_count": 1,
   "metadata": {
    "_cell_guid": "b1076dfc-b9ad-4769-8c92-a6c4dae69d19",
    "_uuid": "8f2839f25d086af736a60e9eeb907d3b93b6e0e5",
    "execution": {
     "iopub.execute_input": "2022-04-08T00:05:31.990090Z",
     "iopub.status.busy": "2022-04-08T00:05:31.989589Z",
     "iopub.status.idle": "2022-04-08T00:05:33.688461Z",
     "shell.execute_reply": "2022-04-08T00:05:33.687662Z",
     "shell.execute_reply.started": "2022-04-08T00:05:31.989967Z"
    }
   },
   "outputs": [],
   "source": [
    "# This Python 3 environment comes with many helpful analytics libraries installed\n",
    "# It is defined by the kaggle/python Docker image: https://github.com/kaggle/docker-python\n",
    "# For example, here's several helpful packages to load\n",
    "\n",
    "import numpy as np # linear algebra\n",
    "import pandas as pd # data processing, CSV file I/O (e.g. pd.read_csv)\n",
    "import matplotlib.pyplot as plt\n",
    "import seaborn as sns\n",
    "from sklearn.model_selection import GridSearchCV\n",
    "from sklearn.linear_model import LogisticRegression\n",
    "from sklearn import metrics\n",
    "from sklearn.model_selection import KFold\n",
    "from sklearn.ensemble import RandomForestClassifier\n",
    "from sklearn.metrics import precision_score, recall_score\n",
    "from sklearn.preprocessing import MinMaxScaler\n",
    "\n",
    "import re\n",
    "import warnings\n",
    "warnings.filterwarnings('ignore')\n",
    "# Input data files are available in the read-only \"../input/\" directory\n",
    "# For example, running this (by clicking run or pressing Shift+Enter) will list all files under the input directory\n",
    "\n",
    "import os\n",
    "for dirname, _, filenames in os.walk('/kaggle/input'):\n",
    "    for filename in filenames:\n",
    "        print(os.path.join(dirname, filename))\n",
    "\n",
    "# You can write up to 20GB to the current directory (/kaggle/working/) that gets preserved as output when you create a version using \"Save & Run All\" \n",
    "# You can also write temporary files to /kaggle/temp/, but they won't be saved outside of the current session"
   ]
  },
  {
   "cell_type": "markdown",
   "metadata": {},
   "source": [
    "Read the given data set and perform data inspection to understand it"
   ]
  },
  {
   "cell_type": "code",
   "execution_count": 2,
   "metadata": {
    "execution": {
     "iopub.execute_input": "2022-04-08T00:05:33.691093Z",
     "iopub.status.busy": "2022-04-08T00:05:33.690351Z",
     "iopub.status.idle": "2022-04-08T00:05:36.830220Z",
     "shell.execute_reply": "2022-04-08T00:05:36.829407Z",
     "shell.execute_reply.started": "2022-04-08T00:05:33.691046Z"
    }
   },
   "outputs": [],
   "source": [
    "#telecom_df = pd.read_csv(\"/kaggle/input/telecom-churn-case-study-hackathon-c34/train.csv\")\n",
    "#test_df = pd.read_csv(\"/kaggle/input/telecom-churn-case-study-hackathon-c34/test (1).csv\")\n",
    "telecom_df = pd.read_csv('train.csv/train.csv')\n"
   ]
  },
  {
   "cell_type": "code",
   "execution_count": 3,
   "metadata": {
    "execution": {
     "iopub.execute_input": "2022-04-08T00:05:36.832214Z",
     "iopub.status.busy": "2022-04-08T00:05:36.831723Z",
     "iopub.status.idle": "2022-04-08T00:05:36.842044Z",
     "shell.execute_reply": "2022-04-08T00:05:36.841052Z",
     "shell.execute_reply.started": "2022-04-08T00:05:36.832170Z"
    }
   },
   "outputs": [],
   "source": [
    "# observe the size of the data set\n",
    "telecom_df.shape"
   ]
  },
  {
   "cell_type": "code",
   "execution_count": 4,
   "metadata": {
    "execution": {
     "iopub.execute_input": "2022-04-08T00:05:36.844560Z",
     "iopub.status.busy": "2022-04-08T00:05:36.844049Z",
     "iopub.status.idle": "2022-04-08T00:05:36.855258Z",
     "shell.execute_reply": "2022-04-08T00:05:36.854427Z",
     "shell.execute_reply.started": "2022-04-08T00:05:36.844523Z"
    }
   },
   "outputs": [],
   "source": [
    "test_df.shape"
   ]
  },
  {
   "cell_type": "code",
   "execution_count": 5,
   "metadata": {
    "execution": {
     "iopub.execute_input": "2022-04-08T00:05:36.856926Z",
     "iopub.status.busy": "2022-04-08T00:05:36.856647Z",
     "iopub.status.idle": "2022-04-08T00:05:36.869037Z",
     "shell.execute_reply": "2022-04-08T00:05:36.868137Z",
     "shell.execute_reply.started": "2022-04-08T00:05:36.856891Z"
    }
   },
   "outputs": [],
   "source": [
    "print(\"There are total\\n\")\n",
    "print(\"%d Rows\" %telecom_df.shape[0])\n",
    "print(\"%d Columns in the train data set\" %telecom_df.shape[1])"
   ]
  },
  {
   "cell_type": "code",
   "execution_count": 6,
   "metadata": {
    "execution": {
     "iopub.execute_input": "2022-04-08T00:05:36.871190Z",
     "iopub.status.busy": "2022-04-08T00:05:36.870376Z",
     "iopub.status.idle": "2022-04-08T00:05:36.883039Z",
     "shell.execute_reply": "2022-04-08T00:05:36.882238Z",
     "shell.execute_reply.started": "2022-04-08T00:05:36.871142Z"
    }
   },
   "outputs": [],
   "source": [
    "print(\"There are total\\n\")\n",
    "print(\"%d Rows\" %test_df.shape[0])\n",
    "print(\"%d Columns in the test data set\" %test_df.shape[1])"
   ]
  },
  {
   "cell_type": "code",
   "execution_count": 7,
   "metadata": {
    "execution": {
     "iopub.execute_input": "2022-04-08T00:05:36.885035Z",
     "iopub.status.busy": "2022-04-08T00:05:36.884164Z",
     "iopub.status.idle": "2022-04-08T00:05:36.930167Z",
     "shell.execute_reply": "2022-04-08T00:05:36.929189Z",
     "shell.execute_reply.started": "2022-04-08T00:05:36.884997Z"
    }
   },
   "outputs": [],
   "source": [
    "# Observe the initial few rows of this data set\n",
    "telecom_df.head()"
   ]
  },
  {
   "cell_type": "code",
   "execution_count": 8,
   "metadata": {
    "execution": {
     "iopub.execute_input": "2022-04-08T00:05:36.931983Z",
     "iopub.status.busy": "2022-04-08T00:05:36.931632Z",
     "iopub.status.idle": "2022-04-08T00:05:36.965195Z",
     "shell.execute_reply": "2022-04-08T00:05:36.964094Z",
     "shell.execute_reply.started": "2022-04-08T00:05:36.931941Z"
    }
   },
   "outputs": [],
   "source": [
    "test_df.head()"
   ]
  },
  {
   "cell_type": "code",
   "execution_count": 9,
   "metadata": {
    "execution": {
     "iopub.execute_input": "2022-04-08T00:05:36.966668Z",
     "iopub.status.busy": "2022-04-08T00:05:36.966420Z",
     "iopub.status.idle": "2022-04-08T00:05:36.997015Z",
     "shell.execute_reply": "2022-04-08T00:05:36.995836Z",
     "shell.execute_reply.started": "2022-04-08T00:05:36.966636Z"
    }
   },
   "outputs": [],
   "source": [
    "# Get the information about data set\n",
    "telecom_df.info()"
   ]
  },
  {
   "cell_type": "code",
   "execution_count": 10,
   "metadata": {
    "execution": {
     "iopub.execute_input": "2022-04-08T00:05:37.000442Z",
     "iopub.status.busy": "2022-04-08T00:05:37.000179Z",
     "iopub.status.idle": "2022-04-08T00:05:37.034081Z",
     "shell.execute_reply": "2022-04-08T00:05:37.033100Z",
     "shell.execute_reply.started": "2022-04-08T00:05:37.000411Z"
    }
   },
   "outputs": [],
   "source": [
    "test_df.head()"
   ]
  },
  {
   "cell_type": "code",
   "execution_count": 11,
   "metadata": {
    "execution": {
     "iopub.execute_input": "2022-04-08T00:05:37.036255Z",
     "iopub.status.busy": "2022-04-08T00:05:37.035516Z",
     "iopub.status.idle": "2022-04-08T00:05:37.749272Z",
     "shell.execute_reply": "2022-04-08T00:05:37.748294Z",
     "shell.execute_reply.started": "2022-04-08T00:05:37.036215Z"
    }
   },
   "outputs": [],
   "source": [
    "# Observe the description about the data in the data set\n",
    "telecom_df.describe()"
   ]
  },
  {
   "cell_type": "code",
   "execution_count": 12,
   "metadata": {
    "execution": {
     "iopub.execute_input": "2022-04-08T00:05:37.751160Z",
     "iopub.status.busy": "2022-04-08T00:05:37.750573Z",
     "iopub.status.idle": "2022-04-08T00:05:38.225443Z",
     "shell.execute_reply": "2022-04-08T00:05:38.224535Z",
     "shell.execute_reply.started": "2022-04-08T00:05:37.751122Z"
    }
   },
   "outputs": [],
   "source": [
    "test_df.describe()"
   ]
  },
  {
   "cell_type": "code",
   "execution_count": 13,
   "metadata": {
    "execution": {
     "iopub.execute_input": "2022-04-08T00:05:38.227462Z",
     "iopub.status.busy": "2022-04-08T00:05:38.226758Z",
     "iopub.status.idle": "2022-04-08T00:05:38.441529Z",
     "shell.execute_reply": "2022-04-08T00:05:38.440686Z",
     "shell.execute_reply.started": "2022-04-08T00:05:38.227418Z"
    }
   },
   "outputs": [],
   "source": [
    "# check how many columns have got missing values in terms of percentage\n",
    "print(\"Percentage of null values in each of the columns of train data frame\\n\")\n",
    "for col in telecom_df.columns:\n",
    "    print(col, \":\",  (100 * telecom_df[col].isnull().sum()/len(telecom_df.index)))"
   ]
  },
  {
   "cell_type": "markdown",
   "metadata": {},
   "source": [
    "In the above list of percentage of null values for each columns, though few of the columns have got more than 70% of null values. But they are important for our prediction. Let us impute right values in them instead of dropping"
   ]
  },
  {
   "cell_type": "code",
   "execution_count": 14,
   "metadata": {
    "execution": {
     "iopub.execute_input": "2022-04-08T00:05:38.443015Z",
     "iopub.status.busy": "2022-04-08T00:05:38.442710Z",
     "iopub.status.idle": "2022-04-08T00:05:38.603041Z",
     "shell.execute_reply": "2022-04-08T00:05:38.602292Z",
     "shell.execute_reply.started": "2022-04-08T00:05:38.442981Z"
    }
   },
   "outputs": [],
   "source": [
    "# check how many columns have got missing values in terms of percentage\n",
    "print(\"Percentage of null values in each of the columns of test data frame\\n\")\n",
    "for col in test_df.columns:\n",
    "    print(col, \":\",  (100 * test_df[col].isnull().sum()/len(test_df.index)))"
   ]
  },
  {
   "cell_type": "markdown",
   "metadata": {},
   "source": [
    "We need to first group those custoers who into high value customers.\n",
    "High value customers are identified by\n",
    "* Those who have recharged with an amount more than or equal to a value say X where X is the 70th percentilie of the average recharge amount in the first two months i.e June and Augast (month 6 and 7)\n",
    "* The columns that we need to consider for it are\n",
    "    total_rech_amt_6, total_rech_amt_7, av_rech_amt_data_6, av_rech_amt_data_7, total_rech_data_6,\n",
    "    total_rech_data_7\n"
   ]
  },
  {
   "cell_type": "markdown",
   "metadata": {},
   "source": []
  },
  {
   "cell_type": "code",
   "execution_count": 15,
   "metadata": {
    "execution": {
     "iopub.execute_input": "2022-04-08T00:05:38.604447Z",
     "iopub.status.busy": "2022-04-08T00:05:38.604235Z",
     "iopub.status.idle": "2022-04-08T00:05:38.608872Z",
     "shell.execute_reply": "2022-04-08T00:05:38.608008Z",
     "shell.execute_reply.started": "2022-04-08T00:05:38.604421Z"
    }
   },
   "outputs": [],
   "source": [
    "#telecom_df.max_rech_data_6.isnull().sum()"
   ]
  },
  {
   "cell_type": "code",
   "execution_count": 16,
   "metadata": {
    "execution": {
     "iopub.execute_input": "2022-04-08T00:05:38.610431Z",
     "iopub.status.busy": "2022-04-08T00:05:38.610138Z",
     "iopub.status.idle": "2022-04-08T00:05:38.621678Z",
     "shell.execute_reply": "2022-04-08T00:05:38.620962Z",
     "shell.execute_reply.started": "2022-04-08T00:05:38.610384Z"
    }
   },
   "outputs": [],
   "source": [
    "#telecom_df['max_rech_data_6'] = telecom_df['max_rech_data_6'].fillna(0)"
   ]
  },
  {
   "cell_type": "code",
   "execution_count": 17,
   "metadata": {
    "execution": {
     "iopub.execute_input": "2022-04-08T00:05:38.623326Z",
     "iopub.status.busy": "2022-04-08T00:05:38.623099Z",
     "iopub.status.idle": "2022-04-08T00:05:38.635460Z",
     "shell.execute_reply": "2022-04-08T00:05:38.634760Z",
     "shell.execute_reply.started": "2022-04-08T00:05:38.623300Z"
    }
   },
   "outputs": [],
   "source": [
    "#telecom_df.max_rech_data_6.isnull().sum()"
   ]
  },
  {
   "cell_type": "code",
   "execution_count": 18,
   "metadata": {
    "execution": {
     "iopub.execute_input": "2022-04-08T00:05:38.637085Z",
     "iopub.status.busy": "2022-04-08T00:05:38.636853Z",
     "iopub.status.idle": "2022-04-08T00:05:38.647933Z",
     "shell.execute_reply": "2022-04-08T00:05:38.647161Z",
     "shell.execute_reply.started": "2022-04-08T00:05:38.637056Z"
    }
   },
   "outputs": [],
   "source": [
    "cols_to_impute1 = ['av_rech_amt_data_6', 'av_rech_amt_data_7','av_rech_amt_data_8',\n",
    "                 'total_rech_data_6', 'total_rech_data_7', 'total_rech_data_8']"
   ]
  },
  {
   "cell_type": "code",
   "execution_count": 19,
   "metadata": {
    "execution": {
     "iopub.execute_input": "2022-04-08T00:05:38.649731Z",
     "iopub.status.busy": "2022-04-08T00:05:38.649228Z",
     "iopub.status.idle": "2022-04-08T00:05:38.662372Z",
     "shell.execute_reply": "2022-04-08T00:05:38.661758Z",
     "shell.execute_reply.started": "2022-04-08T00:05:38.649685Z"
    }
   },
   "outputs": [],
   "source": [
    "len(cols_to_impute1)"
   ]
  },
  {
   "cell_type": "code",
   "execution_count": 20,
   "metadata": {
    "execution": {
     "iopub.execute_input": "2022-04-08T00:05:38.664121Z",
     "iopub.status.busy": "2022-04-08T00:05:38.663719Z",
     "iopub.status.idle": "2022-04-08T00:05:38.676557Z",
     "shell.execute_reply": "2022-04-08T00:05:38.675749Z",
     "shell.execute_reply.started": "2022-04-08T00:05:38.664090Z"
    }
   },
   "outputs": [],
   "source": [
    "cols_to_impute2 = ['max_rech_data_6', 'max_rech_data_7', 'max_rech_data_8', 'count_rech_2g_6', 'count_rech_2g_7',\n",
    "                  'count_rech_2g_8', 'count_rech_3g_6','count_rech_3g_7','count_rech_3g_8', 'arpu_2g_6',\n",
    "                  'arpu_2g_7', 'arpu_2g_8', 'arpu_3g_6', 'arpu_3g_7', 'arpu_3g_8', 'night_pck_user_6','night_pck_user_7',\n",
    "                  'night_pck_user_8', 'fb_user_6', 'fb_user_7', 'fb_user_8' ]"
   ]
  },
  {
   "cell_type": "code",
   "execution_count": null,
   "metadata": {},
   "outputs": [],
   "source": []
  },
  {
   "cell_type": "code",
   "execution_count": 21,
   "metadata": {
    "execution": {
     "iopub.execute_input": "2022-04-08T00:05:38.678252Z",
     "iopub.status.busy": "2022-04-08T00:05:38.677857Z",
     "iopub.status.idle": "2022-04-08T00:05:38.690364Z",
     "shell.execute_reply": "2022-04-08T00:05:38.689773Z",
     "shell.execute_reply.started": "2022-04-08T00:05:38.678200Z"
    }
   },
   "outputs": [],
   "source": [
    "cols_to_impute = cols_to_impute1 + cols_to_impute2\n",
    "len(cols_to_impute)"
   ]
  },
  {
   "cell_type": "code",
   "execution_count": 22,
   "metadata": {
    "execution": {
     "iopub.execute_input": "2022-04-08T00:05:38.691903Z",
     "iopub.status.busy": "2022-04-08T00:05:38.691553Z",
     "iopub.status.idle": "2022-04-08T00:05:38.730050Z",
     "shell.execute_reply": "2022-04-08T00:05:38.729129Z",
     "shell.execute_reply.started": "2022-04-08T00:05:38.691875Z"
    }
   },
   "outputs": [],
   "source": [
    "telecom_df[cols_to_impute] = telecom_df[cols_to_impute].fillna(0)"
   ]
  },
  {
   "cell_type": "code",
   "execution_count": 23,
   "metadata": {
    "execution": {
     "iopub.execute_input": "2022-04-08T00:05:38.731475Z",
     "iopub.status.busy": "2022-04-08T00:05:38.731144Z",
     "iopub.status.idle": "2022-04-08T00:05:38.750619Z",
     "shell.execute_reply": "2022-04-08T00:05:38.749945Z",
     "shell.execute_reply.started": "2022-04-08T00:05:38.731447Z"
    }
   },
   "outputs": [],
   "source": [
    "test_df[cols_to_impute] = test_df[cols_to_impute].fillna(0)"
   ]
  },
  {
   "cell_type": "code",
   "execution_count": 24,
   "metadata": {
    "execution": {
     "iopub.execute_input": "2022-04-08T00:05:38.752164Z",
     "iopub.status.busy": "2022-04-08T00:05:38.751831Z",
     "iopub.status.idle": "2022-04-08T00:05:38.767371Z",
     "shell.execute_reply": "2022-04-08T00:05:38.766405Z",
     "shell.execute_reply.started": "2022-04-08T00:05:38.752134Z"
    }
   },
   "outputs": [],
   "source": [
    "test_df[cols_to_impute].isnull().sum()"
   ]
  },
  {
   "cell_type": "code",
   "execution_count": 25,
   "metadata": {
    "execution": {
     "iopub.execute_input": "2022-04-08T00:05:38.769160Z",
     "iopub.status.busy": "2022-04-08T00:05:38.768591Z",
     "iopub.status.idle": "2022-04-08T00:05:38.785884Z",
     "shell.execute_reply": "2022-04-08T00:05:38.785134Z",
     "shell.execute_reply.started": "2022-04-08T00:05:38.769123Z"
    }
   },
   "outputs": [],
   "source": [
    "telecom_df[cols_to_impute].isnull().sum()"
   ]
  },
  {
   "cell_type": "code",
   "execution_count": 26,
   "metadata": {
    "execution": {
     "iopub.execute_input": "2022-04-08T00:05:38.787548Z",
     "iopub.status.busy": "2022-04-08T00:05:38.787143Z",
     "iopub.status.idle": "2022-04-08T00:05:38.807732Z",
     "shell.execute_reply": "2022-04-08T00:05:38.807060Z",
     "shell.execute_reply.started": "2022-04-08T00:05:38.787518Z"
    }
   },
   "outputs": [],
   "source": [
    "telecom_df['tot_rech_num_data_6'] = telecom_df['count_rech_2g_6'] + telecom_df['count_rech_3g_6'].astype(int)\n",
    "telecom_df['tot_rech_num_data_7'] = telecom_df['count_rech_2g_7'] + telecom_df['count_rech_3g_7'].astype(int)\n",
    "telecom_df['tot_rech_num_data_8'] = telecom_df['count_rech_2g_8'] + telecom_df['count_rech_3g_8'].astype(int)\n",
    "telecom_df['tot_rech_num_data_6'].value_counts()"
   ]
  },
  {
   "cell_type": "code",
   "execution_count": 27,
   "metadata": {
    "execution": {
     "iopub.execute_input": "2022-04-08T00:05:38.809660Z",
     "iopub.status.busy": "2022-04-08T00:05:38.808974Z",
     "iopub.status.idle": "2022-04-08T00:05:38.820210Z",
     "shell.execute_reply": "2022-04-08T00:05:38.819578Z",
     "shell.execute_reply.started": "2022-04-08T00:05:38.809626Z"
    }
   },
   "outputs": [],
   "source": [
    "test_df['tot_rech_num_data_6'] = test_df['count_rech_2g_6'] + test_df['count_rech_3g_6'].astype(int)\n",
    "test_df['tot_rech_num_data_7'] = test_df['count_rech_2g_7'] + test_df['count_rech_3g_7'].astype(int)\n",
    "test_df['tot_rech_num_data_8'] = test_df['count_rech_2g_8'] + test_df['count_rech_3g_8'].astype(int)"
   ]
  },
  {
   "cell_type": "code",
   "execution_count": 28,
   "metadata": {
    "execution": {
     "iopub.execute_input": "2022-04-08T00:05:38.826533Z",
     "iopub.status.busy": "2022-04-08T00:05:38.826160Z",
     "iopub.status.idle": "2022-04-08T00:05:38.837281Z",
     "shell.execute_reply": "2022-04-08T00:05:38.836407Z",
     "shell.execute_reply.started": "2022-04-08T00:05:38.826497Z"
    }
   },
   "outputs": [],
   "source": [
    "telecom_df['tot_rech_amt_data_6'] = telecom_df['tot_rech_num_data_6'] + telecom_df['av_rech_amt_data_6']\n",
    "telecom_df['tot_rech_amt_data_7'] = telecom_df['tot_rech_num_data_7'] + telecom_df['av_rech_amt_data_7']\n",
    "telecom_df['tot_rech_amt_data_8'] = telecom_df['tot_rech_num_data_8'] + telecom_df['av_rech_amt_data_8']"
   ]
  },
  {
   "cell_type": "code",
   "execution_count": 29,
   "metadata": {
    "execution": {
     "iopub.execute_input": "2022-04-08T00:05:38.839307Z",
     "iopub.status.busy": "2022-04-08T00:05:38.838466Z",
     "iopub.status.idle": "2022-04-08T00:05:38.849977Z",
     "shell.execute_reply": "2022-04-08T00:05:38.849014Z",
     "shell.execute_reply.started": "2022-04-08T00:05:38.839203Z"
    }
   },
   "outputs": [],
   "source": [
    "test_df['tot_rech_amt_data_6'] = test_df['tot_rech_num_data_6'] + test_df['av_rech_amt_data_6']\n",
    "test_df['tot_rech_amt_data_7'] = test_df['tot_rech_num_data_7'] + test_df['av_rech_amt_data_7']\n",
    "test_df['tot_rech_amt_data_8'] = test_df['tot_rech_num_data_8'] + test_df['av_rech_amt_data_8']"
   ]
  },
  {
   "cell_type": "code",
   "execution_count": 30,
   "metadata": {
    "execution": {
     "iopub.execute_input": "2022-04-08T00:05:38.852079Z",
     "iopub.status.busy": "2022-04-08T00:05:38.851397Z",
     "iopub.status.idle": "2022-04-08T00:05:38.862221Z",
     "shell.execute_reply": "2022-04-08T00:05:38.861270Z",
     "shell.execute_reply.started": "2022-04-08T00:05:38.852030Z"
    }
   },
   "outputs": [],
   "source": [
    "# calculate the monthly total recharge amount for the month of June, July and Aug\n",
    "telecom_df['tot_month_rech_6'] = telecom_df['total_rech_amt_6'] + telecom_df['tot_rech_amt_data_6']\n",
    "telecom_df['tot_month_rech_7'] = telecom_df['total_rech_amt_7'] + telecom_df['tot_rech_amt_data_7']\n",
    "telecom_df['tot_month_rech_6'] = telecom_df['total_rech_amt_6'] + telecom_df['tot_rech_amt_data_6']"
   ]
  },
  {
   "cell_type": "code",
   "execution_count": 31,
   "metadata": {
    "execution": {
     "iopub.execute_input": "2022-04-08T00:05:38.863881Z",
     "iopub.status.busy": "2022-04-08T00:05:38.863520Z",
     "iopub.status.idle": "2022-04-08T00:05:38.875706Z",
     "shell.execute_reply": "2022-04-08T00:05:38.874777Z",
     "shell.execute_reply.started": "2022-04-08T00:05:38.863835Z"
    }
   },
   "outputs": [],
   "source": [
    "# calculate the monthly total recharge amount for the month of June, July and Aug\n",
    "test_df['tot_month_rech_6'] = test_df['total_rech_amt_6'] + test_df['tot_rech_amt_data_6']\n",
    "test_df['tot_month_rech_7'] = test_df['total_rech_amt_7'] + test_df['tot_rech_amt_data_7']\n",
    "test_df['tot_month_rech_6'] = test_df['total_rech_amt_6'] + test_df['tot_rech_amt_data_6']"
   ]
  },
  {
   "cell_type": "code",
   "execution_count": 32,
   "metadata": {
    "execution": {
     "iopub.execute_input": "2022-04-08T00:05:38.877382Z",
     "iopub.status.busy": "2022-04-08T00:05:38.877106Z",
     "iopub.status.idle": "2022-04-08T00:05:38.979554Z",
     "shell.execute_reply": "2022-04-08T00:05:38.978853Z",
     "shell.execute_reply.started": "2022-04-08T00:05:38.877352Z"
    }
   },
   "outputs": [],
   "source": [
    "# High value customers are extracted based on the monthly total recharge spending for the month\n",
    "# June and July (month 6 and 7). Extract only those rows\n",
    "hg_val_cust_cols = ['tot_month_rech_6', 'tot_month_rech_7']\n",
    "hg_val_cust = telecom_df[ telecom_df[hg_val_cust_cols].mean(axis=1) > telecom_df[hg_val_cust_cols].mean(axis=1).quantile(0.7)]\n"
   ]
  },
  {
   "cell_type": "code",
   "execution_count": 33,
   "metadata": {
    "execution": {
     "iopub.execute_input": "2022-04-08T00:05:38.981005Z",
     "iopub.status.busy": "2022-04-08T00:05:38.980500Z",
     "iopub.status.idle": "2022-04-08T00:05:39.018844Z",
     "shell.execute_reply": "2022-04-08T00:05:39.018045Z",
     "shell.execute_reply.started": "2022-04-08T00:05:38.980968Z"
    }
   },
   "outputs": [],
   "source": [
    "test_df = test_df[ test_df[hg_val_cust_cols].mean(axis=1) > test_df[hg_val_cust_cols].mean(axis=1).quantile(0.7)]\n"
   ]
  },
  {
   "cell_type": "code",
   "execution_count": 34,
   "metadata": {
    "execution": {
     "iopub.execute_input": "2022-04-08T00:05:39.020588Z",
     "iopub.status.busy": "2022-04-08T00:05:39.019964Z",
     "iopub.status.idle": "2022-04-08T00:05:39.027140Z",
     "shell.execute_reply": "2022-04-08T00:05:39.026160Z",
     "shell.execute_reply.started": "2022-04-08T00:05:39.020550Z"
    }
   },
   "outputs": [],
   "source": [
    "hg_val_cust.shape"
   ]
  },
  {
   "cell_type": "code",
   "execution_count": 35,
   "metadata": {
    "execution": {
     "iopub.execute_input": "2022-04-08T00:05:39.028506Z",
     "iopub.status.busy": "2022-04-08T00:05:39.028266Z",
     "iopub.status.idle": "2022-04-08T00:05:39.043071Z",
     "shell.execute_reply": "2022-04-08T00:05:39.041953Z",
     "shell.execute_reply.started": "2022-04-08T00:05:39.028470Z"
    }
   },
   "outputs": [],
   "source": [
    "test_df.shape"
   ]
  },
  {
   "cell_type": "code",
   "execution_count": 36,
   "metadata": {
    "execution": {
     "iopub.execute_input": "2022-04-08T00:05:39.045262Z",
     "iopub.status.busy": "2022-04-08T00:05:39.044815Z",
     "iopub.status.idle": "2022-04-08T00:05:39.093841Z",
     "shell.execute_reply": "2022-04-08T00:05:39.092870Z",
     "shell.execute_reply.started": "2022-04-08T00:05:39.045212Z"
    }
   },
   "outputs": [],
   "source": [
    "# Display the null values present in the data frame hg_val_cust\n",
    "print(\"Percentage of null values present in the high value customer data frame\\n\")\n",
    "(100 * hg_val_cust.isnull().sum()/hg_val_cust.shape[0])"
   ]
  },
  {
   "cell_type": "code",
   "execution_count": 37,
   "metadata": {
    "execution": {
     "iopub.execute_input": "2022-04-08T00:05:39.095398Z",
     "iopub.status.busy": "2022-04-08T00:05:39.095151Z",
     "iopub.status.idle": "2022-04-08T00:05:39.118111Z",
     "shell.execute_reply": "2022-04-08T00:05:39.117394Z",
     "shell.execute_reply.started": "2022-04-08T00:05:39.095370Z"
    }
   },
   "outputs": [],
   "source": [
    "# Display the null values present in the test data frame\n",
    "print(\"Percentage of null values present in the high value customer data frame\\n\")\n",
    "(100 * test_df.isnull().sum()/test_df.shape[0])"
   ]
  },
  {
   "cell_type": "code",
   "execution_count": 38,
   "metadata": {
    "execution": {
     "iopub.execute_input": "2022-04-08T00:05:39.120085Z",
     "iopub.status.busy": "2022-04-08T00:05:39.119475Z",
     "iopub.status.idle": "2022-04-08T00:05:39.158705Z",
     "shell.execute_reply": "2022-04-08T00:05:39.158098Z",
     "shell.execute_reply.started": "2022-04-08T00:05:39.120049Z"
    }
   },
   "outputs": [],
   "source": [
    "# Generalized routine to get the columns with certain missing values threshold\n",
    "def GetMisvalThreshold(threshold, df):\n",
    "    mis_val_perc = (100 * df.isnull().sum()/df.shape[0])\n",
    "    print(\"{} columns have got greater than {} percent missing values\".format(len(mis_val_perc.loc[mis_val_perc > threshold]),threshold))\n",
    "    return(mis_val_perc.loc[mis_val_perc > threshold])\n",
    "GetMisvalThreshold(40, hg_val_cust)"
   ]
  },
  {
   "cell_type": "code",
   "execution_count": 39,
   "metadata": {
    "execution": {
     "iopub.execute_input": "2022-04-08T00:05:39.160353Z",
     "iopub.status.busy": "2022-04-08T00:05:39.159897Z",
     "iopub.status.idle": "2022-04-08T00:05:39.826425Z",
     "shell.execute_reply": "2022-04-08T00:05:39.825732Z",
     "shell.execute_reply.started": "2022-04-08T00:05:39.160321Z"
    }
   },
   "outputs": [],
   "source": [
    "col_churn_tag = ['vol_2g_mb_8', 'vol_3g_mb_8', 'total_og_mou_8', 'total_ic_mou_8']\n",
    "#hg_val_cust['churn'] = hg_val_cust[col_churn_tag].apply(lambda x: 1 if( (x['vol_2g_mb_8'] == 0) & (x['vol_3g_mb_8'] == 0) & (x['total_og_mou_8'] == 0) & (x['total_ic_mou_8'] == 0 )) else 0, axis=1)\n",
    "hg_val_cust['churn'] = hg_val_cust[col_churn_tag].apply(lambda x: 1 if( (x['vol_2g_mb_8'] == 0) & (x['vol_2g_mb_8'] == 0) &  (x['total_og_mou_8'] == 0) &  (x['total_ic_mou_8'] == 0)) else 0, axis=1)"
   ]
  },
  {
   "cell_type": "code",
   "execution_count": 40,
   "metadata": {
    "execution": {
     "iopub.execute_input": "2022-04-08T00:05:39.827945Z",
     "iopub.status.busy": "2022-04-08T00:05:39.827675Z",
     "iopub.status.idle": "2022-04-08T00:05:40.123144Z",
     "shell.execute_reply": "2022-04-08T00:05:40.122143Z",
     "shell.execute_reply.started": "2022-04-08T00:05:39.827912Z"
    }
   },
   "outputs": [],
   "source": [
    "test_df['churn'] = test_df[col_churn_tag].apply(lambda x: 1 if( (x['vol_2g_mb_8'] == 0) & (x['vol_3g_mb_8'] == 0) &  (x['total_og_mou_8'] == 0) &  (x['total_ic_mou_8'] == 0)) else 0, axis=1)"
   ]
  },
  {
   "cell_type": "code",
   "execution_count": 41,
   "metadata": {
    "execution": {
     "iopub.execute_input": "2022-04-08T00:05:40.124994Z",
     "iopub.status.busy": "2022-04-08T00:05:40.124681Z",
     "iopub.status.idle": "2022-04-08T00:05:40.148377Z",
     "shell.execute_reply": "2022-04-08T00:05:40.147635Z",
     "shell.execute_reply.started": "2022-04-08T00:05:40.124958Z"
    }
   },
   "outputs": [],
   "source": [
    "print(\"Total number of customers churned are \", len(hg_val_cust[hg_val_cust['churn'] == 1]))\n",
    "print(\"Total number of customers not churned are \", len(hg_val_cust[hg_val_cust['churn'] == 0]))"
   ]
  },
  {
   "cell_type": "code",
   "execution_count": 42,
   "metadata": {
    "execution": {
     "iopub.execute_input": "2022-04-08T00:05:40.150004Z",
     "iopub.status.busy": "2022-04-08T00:05:40.149333Z",
     "iopub.status.idle": "2022-04-08T00:05:40.156992Z",
     "shell.execute_reply": "2022-04-08T00:05:40.155898Z",
     "shell.execute_reply.started": "2022-04-08T00:05:40.149967Z"
    }
   },
   "outputs": [],
   "source": [
    "hg_val_cust.shape"
   ]
  },
  {
   "cell_type": "code",
   "execution_count": 43,
   "metadata": {
    "execution": {
     "iopub.execute_input": "2022-04-08T00:05:40.158618Z",
     "iopub.status.busy": "2022-04-08T00:05:40.158364Z",
     "iopub.status.idle": "2022-04-08T00:05:40.170416Z",
     "shell.execute_reply": "2022-04-08T00:05:40.169413Z",
     "shell.execute_reply.started": "2022-04-08T00:05:40.158587Z"
    }
   },
   "outputs": [],
   "source": [
    "test_df.shape"
   ]
  },
  {
   "cell_type": "code",
   "execution_count": 44,
   "metadata": {
    "execution": {
     "iopub.execute_input": "2022-04-08T00:05:40.172435Z",
     "iopub.status.busy": "2022-04-08T00:05:40.171768Z",
     "iopub.status.idle": "2022-04-08T00:05:40.189946Z",
     "shell.execute_reply": "2022-04-08T00:05:40.188970Z",
     "shell.execute_reply.started": "2022-04-08T00:05:40.172400Z"
    }
   },
   "outputs": [],
   "source": [
    "# Now we know that there are few churned customers. \n",
    "# collect the column names that end up with _8\n",
    "cols_to_drop = hg_val_cust.filter(regex=('_8')).columns\n",
    "cols_to_drop"
   ]
  },
  {
   "cell_type": "code",
   "execution_count": 45,
   "metadata": {
    "execution": {
     "iopub.execute_input": "2022-04-08T00:05:40.191996Z",
     "iopub.status.busy": "2022-04-08T00:05:40.191580Z",
     "iopub.status.idle": "2022-04-08T00:05:40.209564Z",
     "shell.execute_reply": "2022-04-08T00:05:40.208687Z",
     "shell.execute_reply.started": "2022-04-08T00:05:40.191958Z"
    }
   },
   "outputs": [],
   "source": [
    "# First remove those fetures that end up with _8 from the \n",
    "# high value train set and test set\n",
    "hg_val_cust.drop(cols_to_drop, axis=1, inplace=True)\n",
    "test_df.drop(cols_to_drop, axis=1, inplace=True)"
   ]
  },
  {
   "cell_type": "code",
   "execution_count": 46,
   "metadata": {
    "execution": {
     "iopub.execute_input": "2022-04-08T00:05:40.211337Z",
     "iopub.status.busy": "2022-04-08T00:05:40.210850Z",
     "iopub.status.idle": "2022-04-08T00:05:40.217773Z",
     "shell.execute_reply": "2022-04-08T00:05:40.216740Z",
     "shell.execute_reply.started": "2022-04-08T00:05:40.211285Z"
    }
   },
   "outputs": [],
   "source": [
    "hg_val_cust.shape"
   ]
  },
  {
   "cell_type": "code",
   "execution_count": 47,
   "metadata": {
    "execution": {
     "iopub.execute_input": "2022-04-08T00:05:40.220048Z",
     "iopub.status.busy": "2022-04-08T00:05:40.219566Z",
     "iopub.status.idle": "2022-04-08T00:05:40.232268Z",
     "shell.execute_reply": "2022-04-08T00:05:40.231325Z",
     "shell.execute_reply.started": "2022-04-08T00:05:40.220006Z"
    }
   },
   "outputs": [],
   "source": [
    "test_df.shape"
   ]
  },
  {
   "cell_type": "code",
   "execution_count": 48,
   "metadata": {
    "execution": {
     "iopub.execute_input": "2022-04-08T00:05:40.234850Z",
     "iopub.status.busy": "2022-04-08T00:05:40.233970Z",
     "iopub.status.idle": "2022-04-08T00:05:40.256191Z",
     "shell.execute_reply": "2022-04-08T00:05:40.255248Z",
     "shell.execute_reply.started": "2022-04-08T00:05:40.234808Z"
    }
   },
   "outputs": [],
   "source": [
    "# Let us drop the columns id and circle_id from both train and test set\n",
    "# as they are not required for the prediction\n",
    "hg_val_cust.drop(['id', 'circle_id'], axis=1, inplace=True)\n",
    "test_df.drop(['id', 'circle_id'], axis=1, inplace=True)\n"
   ]
  },
  {
   "cell_type": "code",
   "execution_count": 49,
   "metadata": {
    "execution": {
     "iopub.execute_input": "2022-04-08T00:05:40.258097Z",
     "iopub.status.busy": "2022-04-08T00:05:40.257670Z",
     "iopub.status.idle": "2022-04-08T00:05:40.268319Z",
     "shell.execute_reply": "2022-04-08T00:05:40.267465Z",
     "shell.execute_reply.started": "2022-04-08T00:05:40.258066Z"
    }
   },
   "outputs": [],
   "source": [
    "print(\"Train set size \", hg_val_cust.shape)\n",
    "print(\"Test set size\", test_df.shape )"
   ]
  },
  {
   "cell_type": "code",
   "execution_count": 50,
   "metadata": {
    "execution": {
     "iopub.execute_input": "2022-04-08T00:05:40.270271Z",
     "iopub.status.busy": "2022-04-08T00:05:40.269623Z",
     "iopub.status.idle": "2022-04-08T00:05:40.282619Z",
     "shell.execute_reply": "2022-04-08T00:05:40.281714Z",
     "shell.execute_reply.started": "2022-04-08T00:05:40.270229Z"
    }
   },
   "outputs": [],
   "source": [
    "# We need to convert the date columns from dtype format to datetime format\n",
    "hg_val_cust['last_date_of_month_6'][0:1]"
   ]
  },
  {
   "cell_type": "code",
   "execution_count": 51,
   "metadata": {
    "execution": {
     "iopub.execute_input": "2022-04-08T00:05:40.284330Z",
     "iopub.status.busy": "2022-04-08T00:05:40.283894Z",
     "iopub.status.idle": "2022-04-08T00:05:40.295467Z",
     "shell.execute_reply": "2022-04-08T00:05:40.294567Z",
     "shell.execute_reply.started": "2022-04-08T00:05:40.284197Z"
    }
   },
   "outputs": [],
   "source": [
    "# utility function to convert date columns from dtype to datetime format\n",
    "def convert_to_datetimeformat(df, cols):\n",
    "    for col in cols:\n",
    "        df[col] = pd.to_datetime(df[col], format='%m/%d/%Y')"
   ]
  },
  {
   "cell_type": "code",
   "execution_count": 52,
   "metadata": {
    "execution": {
     "iopub.execute_input": "2022-04-08T00:05:40.296951Z",
     "iopub.status.busy": "2022-04-08T00:05:40.296673Z",
     "iopub.status.idle": "2022-04-08T00:05:40.365415Z",
     "shell.execute_reply": "2022-04-08T00:05:40.364376Z",
     "shell.execute_reply.started": "2022-04-08T00:05:40.296911Z"
    }
   },
   "outputs": [],
   "source": [
    "cols = ['last_date_of_month_6', 'date_of_last_rech_6', 'date_of_last_rech_7',\n",
    "       'date_of_last_rech_data_6', 'date_of_last_rech_data_7']\n",
    "convert_to_datetimeformat(hg_val_cust, cols)\n",
    "convert_to_datetimeformat(test_df, cols)"
   ]
  },
  {
   "cell_type": "code",
   "execution_count": 53,
   "metadata": {
    "execution": {
     "iopub.execute_input": "2022-04-08T00:05:40.366775Z",
     "iopub.status.busy": "2022-04-08T00:05:40.366517Z",
     "iopub.status.idle": "2022-04-08T00:05:40.370550Z",
     "shell.execute_reply": "2022-04-08T00:05:40.369912Z",
     "shell.execute_reply.started": "2022-04-08T00:05:40.366731Z"
    }
   },
   "outputs": [],
   "source": [
    "#hg_val_cust[cols][0:2]"
   ]
  },
  {
   "cell_type": "code",
   "execution_count": 54,
   "metadata": {
    "execution": {
     "iopub.execute_input": "2022-04-08T00:05:40.371576Z",
     "iopub.status.busy": "2022-04-08T00:05:40.371376Z",
     "iopub.status.idle": "2022-04-08T00:05:40.383574Z",
     "shell.execute_reply": "2022-04-08T00:05:40.382783Z",
     "shell.execute_reply.started": "2022-04-08T00:05:40.371551Z"
    }
   },
   "outputs": [],
   "source": [
    "# We need to convert the date columns from dtype format to datetime format\n",
    "#hg_val_cust['last_date_of_month_6'] = pd.to_datetime(hg_val_cust['last_date_of_month_6'], format='%m/%d/%Y')\n",
    "#hg_val_cust['last_date_of_month_7'] = pd.to_datetime(hg_val_cust['last_date_of_month_7'], format='%m/%d/%Y')\n",
    "#hg_val_cust['date_of_last_rech_6'] = pd.to_datetime(hg_val_cust['date_of_last_rech_6'], format='%m/%d/%Y')\n",
    "#hg_val_cust['date_of_last_rech_7'] = pd.to_datetime(hg_val_cust['date_of_last_rech_7'], format='%m/%d/%Y')\n",
    "#hg_val_cust['date_of_last_rech_data_6'] = pd.to_datetime(hg_val_cust['date_of_last_rech_data_6'], format='%m/%d/%Y')\n",
    "#hg_val_cust['date_of_last_rech_data_7'] = pd.to_datetime(hg_val_cust['date_of_last_rech_data_7'], format='%m/%d/%Y')\n",
    "#test_df['date_of_last_rech_data_6'][10:14]"
   ]
  },
  {
   "cell_type": "code",
   "execution_count": 55,
   "metadata": {
    "execution": {
     "iopub.execute_input": "2022-04-08T00:05:40.384954Z",
     "iopub.status.busy": "2022-04-08T00:05:40.384726Z",
     "iopub.status.idle": "2022-04-08T00:05:40.398837Z",
     "shell.execute_reply": "2022-04-08T00:05:40.398079Z",
     "shell.execute_reply.started": "2022-04-08T00:05:40.384927Z"
    }
   },
   "outputs": [],
   "source": [
    "# As it is observed stats through the describe that few columns have got values as 0\n",
    "print(hg_val_cust['loc_og_t2o_mou'].unique())\n",
    "print(hg_val_cust['std_og_t2o_mou'].unique())\n",
    "print(hg_val_cust['loc_ic_t2o_mou'].unique())"
   ]
  },
  {
   "cell_type": "code",
   "execution_count": 56,
   "metadata": {
    "execution": {
     "iopub.execute_input": "2022-04-08T00:05:40.400248Z",
     "iopub.status.busy": "2022-04-08T00:05:40.399816Z",
     "iopub.status.idle": "2022-04-08T00:05:40.411226Z",
     "shell.execute_reply": "2022-04-08T00:05:40.410252Z",
     "shell.execute_reply.started": "2022-04-08T00:05:40.400210Z"
    }
   },
   "outputs": [],
   "source": [
    "hg_val_cust.shape"
   ]
  },
  {
   "cell_type": "code",
   "execution_count": 57,
   "metadata": {
    "execution": {
     "iopub.execute_input": "2022-04-08T00:05:40.413214Z",
     "iopub.status.busy": "2022-04-08T00:05:40.412933Z",
     "iopub.status.idle": "2022-04-08T00:05:40.435062Z",
     "shell.execute_reply": "2022-04-08T00:05:40.434286Z",
     "shell.execute_reply.started": "2022-04-08T00:05:40.413185Z"
    }
   },
   "outputs": [],
   "source": [
    "# As it is observed from the above print statement the columns 'loc_og_t2o_mou', 'std_og_t2o_mou', 'loc_ic_t2o_mou'\n",
    "# These columns need to be dropped from both test and high value customer train\n",
    "# data set\n",
    "cols_to_drop = ['loc_og_t2o_mou', 'std_og_t2o_mou', 'loc_ic_t2o_mou']\n",
    "hg_val_cust.drop(cols_to_drop, axis=1, inplace=True)\n",
    "test_df.drop(cols_to_drop, axis=1, inplace=True)"
   ]
  },
  {
   "cell_type": "code",
   "execution_count": 58,
   "metadata": {
    "execution": {
     "iopub.execute_input": "2022-04-08T00:05:40.436661Z",
     "iopub.status.busy": "2022-04-08T00:05:40.436299Z",
     "iopub.status.idle": "2022-04-08T00:05:40.442329Z",
     "shell.execute_reply": "2022-04-08T00:05:40.441372Z",
     "shell.execute_reply.started": "2022-04-08T00:05:40.436625Z"
    }
   },
   "outputs": [],
   "source": [
    "hg_val_cust.shape"
   ]
  },
  {
   "cell_type": "code",
   "execution_count": 59,
   "metadata": {
    "execution": {
     "iopub.execute_input": "2022-04-08T00:05:40.443984Z",
     "iopub.status.busy": "2022-04-08T00:05:40.443545Z",
     "iopub.status.idle": "2022-04-08T00:05:40.456086Z",
     "shell.execute_reply": "2022-04-08T00:05:40.455184Z",
     "shell.execute_reply.started": "2022-04-08T00:05:40.443952Z"
    }
   },
   "outputs": [],
   "source": [
    "test_df.shape"
   ]
  },
  {
   "cell_type": "code",
   "execution_count": 60,
   "metadata": {
    "execution": {
     "iopub.execute_input": "2022-04-08T00:05:40.457946Z",
     "iopub.status.busy": "2022-04-08T00:05:40.457476Z",
     "iopub.status.idle": "2022-04-08T00:05:40.472530Z",
     "shell.execute_reply": "2022-04-08T00:05:40.471197Z",
     "shell.execute_reply.started": "2022-04-08T00:05:40.457911Z"
    }
   },
   "outputs": [],
   "source": [
    "# Let us inspect other few columns to check do they contain only 0 as their values\n",
    "print(hg_val_cust['std_og_t2c_mou_6'].unique())\n",
    "print(hg_val_cust['std_og_t2c_mou_7'].unique())\n",
    "print(hg_val_cust['std_ic_t2o_mou_6'].unique())\n",
    "print(hg_val_cust['std_ic_t2o_mou_7'].unique())"
   ]
  },
  {
   "cell_type": "code",
   "execution_count": 61,
   "metadata": {
    "execution": {
     "iopub.execute_input": "2022-04-08T00:05:40.474478Z",
     "iopub.status.busy": "2022-04-08T00:05:40.474010Z",
     "iopub.status.idle": "2022-04-08T00:05:40.490711Z",
     "shell.execute_reply": "2022-04-08T00:05:40.489672Z",
     "shell.execute_reply.started": "2022-04-08T00:05:40.474428Z"
    }
   },
   "outputs": [],
   "source": [
    "cols_to_drop = ['std_og_t2c_mou_6', 'std_og_t2c_mou_7', 'std_ic_t2o_mou_6', 'std_ic_t2o_mou_7']\n",
    "hg_val_cust.drop(cols_to_drop, axis=1, inplace=True)\n",
    "test_df.drop(cols_to_drop, axis=1, inplace=True)"
   ]
  },
  {
   "cell_type": "code",
   "execution_count": 62,
   "metadata": {
    "execution": {
     "iopub.execute_input": "2022-04-08T00:05:40.493408Z",
     "iopub.status.busy": "2022-04-08T00:05:40.492101Z",
     "iopub.status.idle": "2022-04-08T00:05:40.498765Z",
     "shell.execute_reply": "2022-04-08T00:05:40.498080Z",
     "shell.execute_reply.started": "2022-04-08T00:05:40.493368Z"
    }
   },
   "outputs": [],
   "source": [
    "hg_val_cust.shape"
   ]
  },
  {
   "cell_type": "code",
   "execution_count": 63,
   "metadata": {
    "execution": {
     "iopub.execute_input": "2022-04-08T00:05:40.500619Z",
     "iopub.status.busy": "2022-04-08T00:05:40.500141Z",
     "iopub.status.idle": "2022-04-08T00:05:40.513333Z",
     "shell.execute_reply": "2022-04-08T00:05:40.512584Z",
     "shell.execute_reply.started": "2022-04-08T00:05:40.500584Z"
    }
   },
   "outputs": [],
   "source": [
    "test_df.shape"
   ]
  },
  {
   "cell_type": "code",
   "execution_count": 64,
   "metadata": {
    "execution": {
     "iopub.execute_input": "2022-04-08T00:05:40.515271Z",
     "iopub.status.busy": "2022-04-08T00:05:40.514800Z",
     "iopub.status.idle": "2022-04-08T00:05:40.538103Z",
     "shell.execute_reply": "2022-04-08T00:05:40.537478Z",
     "shell.execute_reply.started": "2022-04-08T00:05:40.515239Z"
    }
   },
   "outputs": [],
   "source": [
    "print(\"high value customer train data set\\n\")\n",
    "mis_val_col_lst = GetMisvalThreshold(49, hg_val_cust)"
   ]
  },
  {
   "cell_type": "code",
   "execution_count": 65,
   "metadata": {
    "execution": {
     "iopub.execute_input": "2022-04-08T00:05:40.539840Z",
     "iopub.status.busy": "2022-04-08T00:05:40.539359Z",
     "iopub.status.idle": "2022-04-08T00:05:40.551566Z",
     "shell.execute_reply": "2022-04-08T00:05:40.550898Z",
     "shell.execute_reply.started": "2022-04-08T00:05:40.539806Z"
    }
   },
   "outputs": [],
   "source": [
    "print(\"test data set\\n\")\n",
    "mis_val_col_lst = GetMisvalThreshold(49, test_df)"
   ]
  },
  {
   "cell_type": "code",
   "execution_count": 66,
   "metadata": {
    "execution": {
     "iopub.execute_input": "2022-04-08T00:05:40.554399Z",
     "iopub.status.busy": "2022-04-08T00:05:40.553070Z",
     "iopub.status.idle": "2022-04-08T00:05:40.569438Z",
     "shell.execute_reply": "2022-04-08T00:05:40.568718Z",
     "shell.execute_reply.started": "2022-04-08T00:05:40.554330Z"
    }
   },
   "outputs": [],
   "source": [
    "# we can observe that there are two columns that have got more than 49 percent\n",
    "# missing values. Let us drop them from both data sets\n",
    "\n",
    "hg_val_cust.drop(['date_of_last_rech_data_6', 'date_of_last_rech_data_7'], axis=1, inplace=True)\n",
    "test_df.drop(['date_of_last_rech_data_6', 'date_of_last_rech_data_7'], axis=1, inplace=True)"
   ]
  },
  {
   "cell_type": "code",
   "execution_count": 67,
   "metadata": {
    "execution": {
     "iopub.execute_input": "2022-04-08T00:05:40.571094Z",
     "iopub.status.busy": "2022-04-08T00:05:40.570625Z",
     "iopub.status.idle": "2022-04-08T00:05:40.601049Z",
     "shell.execute_reply": "2022-04-08T00:05:40.600405Z",
     "shell.execute_reply.started": "2022-04-08T00:05:40.571048Z"
    }
   },
   "outputs": [],
   "source": [
    "# let us observe how many columns have got more than 1 percent missing values\n",
    "print(\"Missing values for High Value Customers train data\")\n",
    "mis_val_col_lst = GetMisvalThreshold(1, hg_val_cust)\n",
    "print(\"Missing values for test data\")\n",
    "mis_val_col_lst = GetMisvalThreshold(1, test_df)\n"
   ]
  },
  {
   "cell_type": "markdown",
   "metadata": {},
   "source": []
  },
  {
   "cell_type": "code",
   "execution_count": 68,
   "metadata": {
    "execution": {
     "iopub.execute_input": "2022-04-08T00:05:40.602496Z",
     "iopub.status.busy": "2022-04-08T00:05:40.602144Z",
     "iopub.status.idle": "2022-04-08T00:05:40.637599Z",
     "shell.execute_reply": "2022-04-08T00:05:40.636939Z",
     "shell.execute_reply.started": "2022-04-08T00:05:40.602465Z"
    }
   },
   "outputs": [],
   "source": [
    "# we can observe that there are 54 columns that have got around 1.7 percentage\n",
    "# missing values. Let us impute them\n",
    "cols_to_impute = list(mis_val_col_lst.index)\n",
    "hg_val_cust[cols_to_impute] = hg_val_cust[cols_to_impute].fillna(0)\n",
    "test_df[cols_to_impute] = test_df[cols_to_impute].fillna(0)"
   ]
  },
  {
   "cell_type": "code",
   "execution_count": 69,
   "metadata": {
    "execution": {
     "iopub.execute_input": "2022-04-08T00:05:40.639132Z",
     "iopub.status.busy": "2022-04-08T00:05:40.638774Z",
     "iopub.status.idle": "2022-04-08T00:05:40.665295Z",
     "shell.execute_reply": "2022-04-08T00:05:40.664614Z",
     "shell.execute_reply.started": "2022-04-08T00:05:40.639102Z"
    }
   },
   "outputs": [],
   "source": [
    "# Let us verify how many column columns have got missing values\n",
    "# above 1 percent\n",
    "#print(\"Missing values column above 1 percent threshold from high value customers\\n\")\n",
    "print(\"Missing values with 1% threshold from High Value Customers from train set\\n\")\n",
    "GetMisvalThreshold(1, hg_val_cust)\n",
    "print(\"Missing values with 1% threshold from test set\\n\")\n",
    "GetMisvalThreshold(1, test_df)"
   ]
  },
  {
   "cell_type": "code",
   "execution_count": 70,
   "metadata": {
    "execution": {
     "iopub.execute_input": "2022-04-08T00:05:40.666817Z",
     "iopub.status.busy": "2022-04-08T00:05:40.666216Z",
     "iopub.status.idle": "2022-04-08T00:05:40.679084Z",
     "shell.execute_reply": "2022-04-08T00:05:40.678256Z",
     "shell.execute_reply.started": "2022-04-08T00:05:40.666781Z"
    }
   },
   "outputs": [],
   "source": [
    "print(hg_val_cust['date_of_last_rech_6'].unique())\n",
    "print(hg_val_cust['date_of_last_rech_7'].unique())\n",
    "print(test_df['date_of_last_rech_6'].unique())\n",
    "print(test_df['date_of_last_rech_7'].unique())"
   ]
  },
  {
   "cell_type": "markdown",
   "metadata": {},
   "source": [
    "The above output of the print statement shows that those two columns have got the same month (6 and 7) in all the rows in their respective columns. We need to impute the missing values with a particular date of\n",
    "that month in the respective rows. We use pad method for fillna()"
   ]
  },
  {
   "cell_type": "code",
   "execution_count": 71,
   "metadata": {
    "execution": {
     "iopub.execute_input": "2022-04-08T00:05:40.681434Z",
     "iopub.status.busy": "2022-04-08T00:05:40.680927Z",
     "iopub.status.idle": "2022-04-08T00:05:40.686152Z",
     "shell.execute_reply": "2022-04-08T00:05:40.685314Z",
     "shell.execute_reply.started": "2022-04-08T00:05:40.681388Z"
    }
   },
   "outputs": [],
   "source": [
    "# convert the 'date_of_last_rech_data_6' and 'date_of_last_rech_data_7' to days\n",
    "#hg_val_cust['date_of_last_rech_6'] = (hg_val_cust['date_of_last_rech_6'] - hg_val_cust['date_of_last_rech_6'].min()).dt.days\n",
    "#hg_val_cust['date_of_last_rech_7'] = (hg_val_cust['date_of_last_rech_7'] - hg_val_cust['date_of_last_rech_7'].min()).dt.days"
   ]
  },
  {
   "cell_type": "code",
   "execution_count": 72,
   "metadata": {
    "execution": {
     "iopub.execute_input": "2022-04-08T00:05:40.689238Z",
     "iopub.status.busy": "2022-04-08T00:05:40.687453Z",
     "iopub.status.idle": "2022-04-08T00:05:40.710970Z",
     "shell.execute_reply": "2022-04-08T00:05:40.710012Z",
     "shell.execute_reply.started": "2022-04-08T00:05:40.689189Z"
    }
   },
   "outputs": [],
   "source": [
    "hg_val_cust['date_of_last_rech_6'].fillna(method='pad', inplace=True)\n",
    "hg_val_cust['date_of_last_rech_7'].fillna(method='pad', inplace=True)\n",
    "test_df['date_of_last_rech_6'].fillna(method='pad', inplace=True)\n",
    "test_df['date_of_last_rech_7'].fillna(method='pad', inplace=True)\n",
    "#hg_val_cust['date_of_last_rech_7'].isnull().sum()"
   ]
  },
  {
   "cell_type": "code",
   "execution_count": 73,
   "metadata": {
    "execution": {
     "iopub.execute_input": "2022-04-08T00:05:40.713257Z",
     "iopub.status.busy": "2022-04-08T00:05:40.712661Z",
     "iopub.status.idle": "2022-04-08T00:05:40.737465Z",
     "shell.execute_reply": "2022-04-08T00:05:40.736802Z",
     "shell.execute_reply.started": "2022-04-08T00:05:40.713211Z"
    }
   },
   "outputs": [],
   "source": [
    "print(\"Missing values with 0% threshold from High Value Customers from train set\\n\")\n",
    "cols_to_impute = GetMisvalThreshold(0, hg_val_cust)\n",
    "print(\"Missing values with 0% threshold from test set\\n\")\n",
    "cols_to_impute = GetMisvalThreshold(0, test_df)"
   ]
  },
  {
   "cell_type": "code",
   "execution_count": 74,
   "metadata": {
    "execution": {
     "iopub.execute_input": "2022-04-08T00:05:40.739142Z",
     "iopub.status.busy": "2022-04-08T00:05:40.738864Z",
     "iopub.status.idle": "2022-04-08T00:05:40.746085Z",
     "shell.execute_reply": "2022-04-08T00:05:40.745172Z",
     "shell.execute_reply.started": "2022-04-08T00:05:40.739114Z"
    }
   },
   "outputs": [],
   "source": [
    "cols_to_impute"
   ]
  },
  {
   "cell_type": "code",
   "execution_count": 75,
   "metadata": {
    "execution": {
     "iopub.execute_input": "2022-04-08T00:05:40.748571Z",
     "iopub.status.busy": "2022-04-08T00:05:40.747753Z",
     "iopub.status.idle": "2022-04-08T00:05:40.767594Z",
     "shell.execute_reply": "2022-04-08T00:05:40.766725Z",
     "shell.execute_reply.started": "2022-04-08T00:05:40.748523Z"
    }
   },
   "outputs": [],
   "source": [
    "#hg_val_cust.last_date_of_month_7.isnull().sum()\n",
    "hg_val_cust['last_date_of_month_7'].fillna(method='pad', inplace=True)\n",
    "hg_val_cust.last_date_of_month_7.isnull().sum()"
   ]
  },
  {
   "cell_type": "code",
   "execution_count": 76,
   "metadata": {
    "execution": {
     "iopub.execute_input": "2022-04-08T00:05:40.770336Z",
     "iopub.status.busy": "2022-04-08T00:05:40.769403Z",
     "iopub.status.idle": "2022-04-08T00:05:40.791244Z",
     "shell.execute_reply": "2022-04-08T00:05:40.790332Z",
     "shell.execute_reply.started": "2022-04-08T00:05:40.770283Z"
    }
   },
   "outputs": [],
   "source": [
    "hg_val_cust.isnull().sum()"
   ]
  },
  {
   "cell_type": "code",
   "execution_count": 77,
   "metadata": {
    "execution": {
     "iopub.execute_input": "2022-04-08T00:05:40.792962Z",
     "iopub.status.busy": "2022-04-08T00:05:40.792726Z",
     "iopub.status.idle": "2022-04-08T00:05:40.799108Z",
     "shell.execute_reply": "2022-04-08T00:05:40.798019Z",
     "shell.execute_reply.started": "2022-04-08T00:05:40.792935Z"
    }
   },
   "outputs": [],
   "source": [
    "hg_val_cust.shape"
   ]
  },
  {
   "cell_type": "code",
   "execution_count": 78,
   "metadata": {
    "execution": {
     "iopub.execute_input": "2022-04-08T00:05:40.800668Z",
     "iopub.status.busy": "2022-04-08T00:05:40.800440Z",
     "iopub.status.idle": "2022-04-08T00:05:40.822493Z",
     "shell.execute_reply": "2022-04-08T00:05:40.821005Z",
     "shell.execute_reply.started": "2022-04-08T00:05:40.800640Z"
    }
   },
   "outputs": [],
   "source": [
    "test_df.isnull().sum()"
   ]
  },
  {
   "cell_type": "code",
   "execution_count": 79,
   "metadata": {
    "execution": {
     "iopub.execute_input": "2022-04-08T00:05:40.824278Z",
     "iopub.status.busy": "2022-04-08T00:05:40.823984Z",
     "iopub.status.idle": "2022-04-08T00:05:40.829950Z",
     "shell.execute_reply": "2022-04-08T00:05:40.829292Z",
     "shell.execute_reply.started": "2022-04-08T00:05:40.824250Z"
    }
   },
   "outputs": [],
   "source": [
    "test_df.shape"
   ]
  },
  {
   "cell_type": "markdown",
   "metadata": {},
   "source": [
    "# Perform Exploratory Data Analysis"
   ]
  },
  {
   "cell_type": "code",
   "execution_count": 80,
   "metadata": {
    "execution": {
     "iopub.execute_input": "2022-04-08T00:05:40.831615Z",
     "iopub.status.busy": "2022-04-08T00:05:40.830955Z",
     "iopub.status.idle": "2022-04-08T00:05:41.332323Z",
     "shell.execute_reply": "2022-04-08T00:05:41.331636Z",
     "shell.execute_reply.started": "2022-04-08T00:05:40.831582Z"
    }
   },
   "outputs": [],
   "source": [
    "# Plot the box plot of roaming usage in the month of June and July\n",
    "plt.figure(figsize=(15,8))\n",
    "\n",
    "\n",
    "# create the subplot 1\n",
    "plt.subplot(2,3,1)\n",
    "ax=sns.boxplot(hg_val_cust['roam_og_mou_6'])\n",
    "ax.set_title(\"Box plot of outgoing roaming usage for the month 6\", fontsize=10)\n",
    "\n",
    "# create the subplot 2\n",
    "plt.subplot(2,3,2)\n",
    "ax=sns.boxplot(hg_val_cust['roam_og_mou_7'])\n",
    "ax.set_title(\"Box plot of outgoing roaming usage for the month 7\", fontsize=10)\n",
    "\n",
    "# create the subplot 3\n",
    "plt.subplot(2,3,3)\n",
    "ax=sns.boxplot(telecom_df['roam_og_mou_8'])\n",
    "ax.set_title(\"Box plot of outgoing roaming usage for the month 8\", fontsize=10)"
   ]
  },
  {
   "cell_type": "markdown",
   "metadata": {},
   "source": [
    "The above graph shows that the roaming usage in the month of July has reduced compared\n",
    "to the June month"
   ]
  },
  {
   "cell_type": "code",
   "execution_count": 81,
   "metadata": {
    "execution": {
     "iopub.execute_input": "2022-04-08T00:05:41.334429Z",
     "iopub.status.busy": "2022-04-08T00:05:41.333532Z",
     "iopub.status.idle": "2022-04-08T00:05:41.338076Z",
     "shell.execute_reply": "2022-04-08T00:05:41.337162Z",
     "shell.execute_reply.started": "2022-04-08T00:05:41.334388Z"
    }
   },
   "outputs": [],
   "source": [
    "# plot the graph of total minutes of usage in the month of June and July"
   ]
  },
  {
   "cell_type": "code",
   "execution_count": 82,
   "metadata": {
    "execution": {
     "iopub.execute_input": "2022-04-08T00:05:41.345912Z",
     "iopub.status.busy": "2022-04-08T00:05:41.345596Z",
     "iopub.status.idle": "2022-04-08T00:05:41.902721Z",
     "shell.execute_reply": "2022-04-08T00:05:41.901792Z",
     "shell.execute_reply.started": "2022-04-08T00:05:41.345880Z"
    }
   },
   "outputs": [],
   "source": [
    "# Plot the box plot of total outgoing minutes of usage in the month of June and July\n",
    "plt.figure(figsize=(15,8))\n",
    "\n",
    "\n",
    "# create the subplot 1\n",
    "plt.subplot(2,3,1)\n",
    "ax=sns.boxplot(hg_val_cust['total_og_mou_6'])\n",
    "ax.set_title(\"Box plot of total outgoing minutes of usage for the month 6\", fontsize=10)\n",
    "\n",
    "# create the subplot 2\n",
    "plt.subplot(2,3,2)\n",
    "ax=sns.boxplot(hg_val_cust['total_og_mou_7'])\n",
    "ax.set_title(\"Box plot of total outgoing minutes of usage for the month 7\", fontsize=10)\n",
    "\n",
    "# create the subplot 3\n",
    "plt.subplot(2,3,3)\n",
    "ax=sns.boxplot(telecom_df['total_og_mou_8'])\n",
    "ax.set_title(\"Box plot of total outgoing minutes of usage for the month 8\", fontsize=10)"
   ]
  },
  {
   "cell_type": "code",
   "execution_count": 83,
   "metadata": {
    "execution": {
     "iopub.execute_input": "2022-04-08T00:05:41.905150Z",
     "iopub.status.busy": "2022-04-08T00:05:41.904538Z",
     "iopub.status.idle": "2022-04-08T00:05:42.316428Z",
     "shell.execute_reply": "2022-04-08T00:05:42.315589Z",
     "shell.execute_reply.started": "2022-04-08T00:05:41.905104Z"
    }
   },
   "outputs": [],
   "source": [
    "# Plot the box plot of the total incoming minutes of usage for the month of June and July\n",
    "plt.figure(figsize=(15,8))\n",
    "\n",
    "# create the subplot 1\n",
    "plt.subplot(2,3,1)\n",
    "ax=sns.boxplot(hg_val_cust['total_ic_mou_6'])\n",
    "ax.set_title(\"Box plot of total incoming minutes of usage for the month 6\", fontsize=10)\n",
    "\n",
    "# create the subplot 2\n",
    "plt.subplot(2,3,2)\n",
    "ax=sns.boxplot(hg_val_cust['total_ic_mou_7'])\n",
    "ax.set_title(\"Box plot of total incoming minutes of usage for the month 7\", fontsize=10)\n",
    "\n",
    "# create the subplot 3\n",
    "plt.subplot(2,3,3)\n",
    "ax=sns.boxplot(telecom_df['total_ic_mou_8'])\n",
    "ax.set_title(\"Box plot of total incoming minutes of usage for the month 8\", fontsize=10)"
   ]
  },
  {
   "cell_type": "code",
   "execution_count": 84,
   "metadata": {
    "execution": {
     "iopub.execute_input": "2022-04-08T00:05:42.317948Z",
     "iopub.status.busy": "2022-04-08T00:05:42.317657Z",
     "iopub.status.idle": "2022-04-08T00:05:42.726190Z",
     "shell.execute_reply": "2022-04-08T00:05:42.725064Z",
     "shell.execute_reply.started": "2022-04-08T00:05:42.317911Z"
    }
   },
   "outputs": [],
   "source": [
    "# Plot the box plot of last recharge amount for the month of June and July\n",
    "plt.figure(figsize=(15,8))\n",
    "\n",
    "\n",
    "# create the subplot 1\n",
    "plt.subplot(2,3,1)\n",
    "ax=sns.boxplot(hg_val_cust['last_day_rch_amt_6'])\n",
    "ax.set_title(\"Box plot of last day recharge amount for the month 6\", fontsize=10)\n",
    "\n",
    "# create the subplot 2\n",
    "plt.subplot(2,3,2)\n",
    "ax=sns.boxplot(hg_val_cust['last_day_rch_amt_7'])\n",
    "ax.set_title(\"Box plot of last day recharge amount for the month 7\", fontsize=10)\n",
    "\n",
    "# create the subplot 3\n",
    "plt.subplot(2,3,3)\n",
    "ax=sns.boxplot(telecom_df['last_day_rch_amt_8'])\n",
    "ax.set_title(\"Box plot of last day recharge amount for the month 8\", fontsize=10)"
   ]
  },
  {
   "cell_type": "code",
   "execution_count": 85,
   "metadata": {
    "execution": {
     "iopub.execute_input": "2022-04-08T00:05:42.728194Z",
     "iopub.status.busy": "2022-04-08T00:05:42.727893Z",
     "iopub.status.idle": "2022-04-08T00:05:43.033829Z",
     "shell.execute_reply": "2022-04-08T00:05:43.032820Z",
     "shell.execute_reply.started": "2022-04-08T00:05:42.728153Z"
    }
   },
   "outputs": [],
   "source": [
    "# Plot the box plot of last recharge amount for the month of June and July\n",
    "plt.figure(figsize=(15,8))\n",
    "\n",
    "\n",
    "# create the subplot 1\n",
    "plt.subplot(2,3,1)\n",
    "ax=sns.boxplot(hg_val_cust['tot_month_rech_6'])\n",
    "ax.set_title(\"Box plot of total monthly recharge amount for the month 6\", fontsize=10)\n",
    "\n",
    "# create the subplot 2\n",
    "plt.subplot(2,3,2)\n",
    "ax=sns.boxplot(hg_val_cust['tot_month_rech_7'])\n",
    "ax.set_title(\"Box plot of total monhtly recharge amount for the month 7\", fontsize=10)\n",
    "\n",
    "# create the subplot 3\n",
    "#plt.subplot(2,3,3)\n",
    "#ax=sns.boxplot(telecom_df['total_month_rech_7'])\n",
    "#ax.set_title(\"Box plot of total monhtly recharge amount for the month 8\", fontsize=10)"
   ]
  },
  {
   "cell_type": "code",
   "execution_count": 86,
   "metadata": {
    "execution": {
     "iopub.execute_input": "2022-04-08T00:05:43.035278Z",
     "iopub.status.busy": "2022-04-08T00:05:43.035022Z",
     "iopub.status.idle": "2022-04-08T00:05:43.216340Z",
     "shell.execute_reply": "2022-04-08T00:05:43.215214Z",
     "shell.execute_reply.started": "2022-04-08T00:05:43.035245Z"
    }
   },
   "outputs": [],
   "source": [
    "# Plot the box plot of last recharge amount for the month of June and July\n",
    "plt.figure(figsize=(9,5))\n",
    "\n",
    "\n",
    "# create the subplot 1\n",
    "#plt.subplot(2,3,1)\n",
    "ax=sns.boxplot(hg_val_cust['tot_month_rech_6'])\n",
    "ax.set_title(\"Box plot of Age on network\", fontsize=10)\n",
    "plt.show()\n"
   ]
  },
  {
   "cell_type": "markdown",
   "metadata": {},
   "source": [
    "Let us observe the minutes of usage of ISD outgoing for the two months of both churned\n",
    "as well as non churned customers"
   ]
  },
  {
   "cell_type": "code",
   "execution_count": 87,
   "metadata": {
    "execution": {
     "iopub.execute_input": "2022-04-08T00:05:43.218863Z",
     "iopub.status.busy": "2022-04-08T00:05:43.218606Z",
     "iopub.status.idle": "2022-04-08T00:05:43.235819Z",
     "shell.execute_reply": "2022-04-08T00:05:43.234878Z",
     "shell.execute_reply.started": "2022-04-08T00:05:43.218834Z"
    }
   },
   "outputs": [],
   "source": [
    "hg_val_cust.groupby(['churn'])['isd_og_mou_6', 'isd_og_mou_7'].mean()"
   ]
  },
  {
   "cell_type": "markdown",
   "metadata": {},
   "source": [
    "The above table shows that for churning customers the minutes of usage of ISD for the\n",
    "month 7 has reduced to 2280.64 compared to it previous month"
   ]
  },
  {
   "cell_type": "code",
   "execution_count": 88,
   "metadata": {
    "execution": {
     "iopub.execute_input": "2022-04-08T00:05:43.238066Z",
     "iopub.status.busy": "2022-04-08T00:05:43.237541Z",
     "iopub.status.idle": "2022-04-08T00:05:43.253111Z",
     "shell.execute_reply": "2022-04-08T00:05:43.252051Z",
     "shell.execute_reply.started": "2022-04-08T00:05:43.238013Z"
    }
   },
   "outputs": [],
   "source": [
    "# Let us observe the minutes of usage of std calls for the month of 6 and 7\n",
    "hg_val_cust.groupby(['churn'])['std_og_mou_6', 'std_og_mou_7'].mean()"
   ]
  },
  {
   "cell_type": "markdown",
   "metadata": {},
   "source": [
    "The above table shows that minutes of usage of std outgoing for the month of July compared to June"
   ]
  },
  {
   "cell_type": "markdown",
   "metadata": {},
   "source": []
  },
  {
   "cell_type": "code",
   "execution_count": 89,
   "metadata": {
    "execution": {
     "iopub.execute_input": "2022-04-08T00:05:43.255044Z",
     "iopub.status.busy": "2022-04-08T00:05:43.254782Z",
     "iopub.status.idle": "2022-04-08T00:05:43.269988Z",
     "shell.execute_reply": "2022-04-08T00:05:43.269006Z",
     "shell.execute_reply.started": "2022-04-08T00:05:43.255012Z"
    }
   },
   "outputs": [],
   "source": [
    "# Let us observe the special minutes of usage per month for both churn and non churn\n",
    "# customers\n",
    "hg_val_cust.groupby(['churn'])['spl_og_mou_6', 'spl_og_mou_7'].sum()"
   ]
  },
  {
   "cell_type": "markdown",
   "metadata": {},
   "source": [
    "From the above table it is evident that the special outgoing minutes of usage for the churned customers has reduced in the month of July compared to June"
   ]
  },
  {
   "cell_type": "markdown",
   "metadata": {},
   "source": []
  },
  {
   "cell_type": "code",
   "execution_count": 90,
   "metadata": {
    "execution": {
     "iopub.execute_input": "2022-04-08T00:05:43.272660Z",
     "iopub.status.busy": "2022-04-08T00:05:43.271685Z",
     "iopub.status.idle": "2022-04-08T00:05:43.285387Z",
     "shell.execute_reply": "2022-04-08T00:05:43.284275Z",
     "shell.execute_reply.started": "2022-04-08T00:05:43.272627Z"
    }
   },
   "outputs": [],
   "source": [
    "# Let us compare the total incoming MOU of churn and non-churn customers for the month of\n",
    "# June and July\n",
    "hg_val_cust.groupby(['churn'])['total_ic_mou_6', 'total_ic_mou_7'].mean()\n"
   ]
  },
  {
   "cell_type": "markdown",
   "metadata": {},
   "source": [
    "We can observe that the total incoming mou for the churned customers in the month of July is lesser than the June month compared to non-churn customers"
   ]
  },
  {
   "cell_type": "code",
   "execution_count": 91,
   "metadata": {
    "execution": {
     "iopub.execute_input": "2022-04-08T00:05:43.287332Z",
     "iopub.status.busy": "2022-04-08T00:05:43.286939Z",
     "iopub.status.idle": "2022-04-08T00:05:43.302098Z",
     "shell.execute_reply": "2022-04-08T00:05:43.301156Z",
     "shell.execute_reply.started": "2022-04-08T00:05:43.287289Z"
    }
   },
   "outputs": [],
   "source": [
    "# Let us compare the total outgoing MOU of churn and non-churn customers for the month of\n",
    "# June and July\n",
    "hg_val_cust.groupby(['churn'])['total_og_mou_6', 'total_og_mou_7'].mean()\n"
   ]
  },
  {
   "cell_type": "code",
   "execution_count": null,
   "metadata": {},
   "outputs": [],
   "source": []
  },
  {
   "cell_type": "markdown",
   "metadata": {},
   "source": [
    "We can observe that the total outgoing mou for the churned customers in the month of July is lesser than the June month compared to non-churn customers"
   ]
  },
  {
   "cell_type": "code",
   "execution_count": 92,
   "metadata": {
    "execution": {
     "iopub.execute_input": "2022-04-08T00:05:43.304014Z",
     "iopub.status.busy": "2022-04-08T00:05:43.303620Z",
     "iopub.status.idle": "2022-04-08T00:05:43.320524Z",
     "shell.execute_reply": "2022-04-08T00:05:43.319541Z",
     "shell.execute_reply.started": "2022-04-08T00:05:43.303969Z"
    }
   },
   "outputs": [],
   "source": [
    "# Let us compare the total recharge amount of churn and non-churn customers for the month of\n",
    "# June and July\n",
    "hg_val_cust.groupby(['churn'])['total_rech_amt_6', 'total_rech_amt_7'].mean()\n"
   ]
  },
  {
   "cell_type": "markdown",
   "metadata": {},
   "source": [
    "We can observe that the total recharge amount of churn customers has reduced in the month of July compared to June"
   ]
  },
  {
   "cell_type": "code",
   "execution_count": 93,
   "metadata": {
    "execution": {
     "iopub.execute_input": "2022-04-08T00:05:43.322279Z",
     "iopub.status.busy": "2022-04-08T00:05:43.321896Z",
     "iopub.status.idle": "2022-04-08T00:05:43.336845Z",
     "shell.execute_reply": "2022-04-08T00:05:43.335903Z",
     "shell.execute_reply.started": "2022-04-08T00:05:43.322229Z"
    }
   },
   "outputs": [],
   "source": [
    "# Let us compare the roaming outgoing mou of churn and non-churn customers for the month of\n",
    "# June and July\n",
    "hg_val_cust.groupby(['churn'])['roam_og_mou_6', 'roam_og_mou_7'].mean()\n"
   ]
  },
  {
   "cell_type": "code",
   "execution_count": 94,
   "metadata": {
    "execution": {
     "iopub.execute_input": "2022-04-08T00:05:43.338566Z",
     "iopub.status.busy": "2022-04-08T00:05:43.338243Z",
     "iopub.status.idle": "2022-04-08T00:05:43.357547Z",
     "shell.execute_reply": "2022-04-08T00:05:43.356604Z",
     "shell.execute_reply.started": "2022-04-08T00:05:43.338521Z"
    }
   },
   "outputs": [],
   "source": [
    "# Let us compare the maximum recharge amount of churn and non-churn customers for the month of\n",
    "# June and July\n",
    "hg_val_cust.groupby(['churn'])['max_rech_amt_6', 'max_rech_amt_7'].mean()\n"
   ]
  },
  {
   "cell_type": "markdown",
   "metadata": {},
   "source": [
    "From the above table it is evident that the maximum amount of recharge of churn customer has reduced compared to non-churn customers has reduced in the July month from June month"
   ]
  },
  {
   "cell_type": "code",
   "execution_count": 95,
   "metadata": {
    "execution": {
     "iopub.execute_input": "2022-04-08T00:05:43.359546Z",
     "iopub.status.busy": "2022-04-08T00:05:43.359214Z",
     "iopub.status.idle": "2022-04-08T00:05:43.374441Z",
     "shell.execute_reply": "2022-04-08T00:05:43.373438Z",
     "shell.execute_reply.started": "2022-04-08T00:05:43.359503Z"
    }
   },
   "outputs": [],
   "source": [
    "# Let us compare the total recharge number of data of churn and non-churn customers for the month of\n",
    "# June and July\n",
    "hg_val_cust.groupby(['churn'])['tot_rech_num_data_6', 'tot_rech_num_data_7'].mean()\n"
   ]
  },
  {
   "cell_type": "markdown",
   "metadata": {},
   "source": [
    "From the above table it is evident that the total number of data recharge of churn customer has reduced compared to non-churn customers has reduced in the July month from June month"
   ]
  },
  {
   "cell_type": "code",
   "execution_count": 96,
   "metadata": {
    "execution": {
     "iopub.execute_input": "2022-04-08T00:05:43.375970Z",
     "iopub.status.busy": "2022-04-08T00:05:43.375658Z",
     "iopub.status.idle": "2022-04-08T00:05:43.390996Z",
     "shell.execute_reply": "2022-04-08T00:05:43.390029Z",
     "shell.execute_reply.started": "2022-04-08T00:05:43.375939Z"
    }
   },
   "outputs": [],
   "source": [
    "# Let us compare the last day recharge amount of churn and non-churn customers for the month of\n",
    "# June and July\n",
    "hg_val_cust.groupby(['churn'])['last_day_rch_amt_6', 'last_day_rch_amt_7'].mean()\n"
   ]
  },
  {
   "cell_type": "markdown",
   "metadata": {},
   "source": [
    "From the above table it is clear that the last day recharge amount of churn customer has reduced in the July month compared to non-churn customer in the June month"
   ]
  },
  {
   "cell_type": "code",
   "execution_count": 97,
   "metadata": {
    "execution": {
     "iopub.execute_input": "2022-04-08T00:05:43.392914Z",
     "iopub.status.busy": "2022-04-08T00:05:43.392571Z",
     "iopub.status.idle": "2022-04-08T00:05:43.409037Z",
     "shell.execute_reply": "2022-04-08T00:05:43.407945Z",
     "shell.execute_reply.started": "2022-04-08T00:05:43.392872Z"
    }
   },
   "outputs": [],
   "source": [
    "# Let us compare the local outgoing mou within the same operator's network of churn and \n",
    "# non-churn customers for the month of June and July\n",
    "hg_val_cust.groupby(['churn'])['loc_og_t2t_mou_6', 'loc_og_t2t_mou_7'].mean()\n"
   ]
  },
  {
   "cell_type": "markdown",
   "metadata": {},
   "source": [
    "Here also we can observe that the local outgoing mou within the operator network is reduced in the month July from June for churn customers compared to non-churn customers"
   ]
  },
  {
   "cell_type": "code",
   "execution_count": 98,
   "metadata": {
    "execution": {
     "iopub.execute_input": "2022-04-08T00:05:43.410927Z",
     "iopub.status.busy": "2022-04-08T00:05:43.410658Z",
     "iopub.status.idle": "2022-04-08T00:05:43.419044Z",
     "shell.execute_reply": "2022-04-08T00:05:43.418333Z",
     "shell.execute_reply.started": "2022-04-08T00:05:43.410897Z"
    }
   },
   "outputs": [],
   "source": [
    "# Create the table displaying age on network (aon) for both churn and non-churn customers\n",
    "hg_val_cust.groupby(['churn'])['aon'].mean()"
   ]
  },
  {
   "cell_type": "markdown",
   "metadata": {},
   "source": [
    "Again as other KPIs the age on network of churn customers is less than non-churn customers"
   ]
  },
  {
   "cell_type": "markdown",
   "metadata": {},
   "source": [
    "In summary the observation we can make out of the activities performed on the given data set till now are\n",
    "1. Total recharge amount and recharge data got reduced in the month of July (action phase) for churn customers compared to non-churn customers\n",
    "2. The number of incoming and outgoing calls got reduced in the month of July (action phase) for churn customers compared to non-churn customers\n",
    "3. This reduction is not just usual but significant too interms of revenue growth\n"
   ]
  },
  {
   "cell_type": "markdown",
   "metadata": {},
   "source": [
    "# Model Building"
   ]
  },
  {
   "cell_type": "markdown",
   "metadata": {},
   "source": [
    "As it was asked as part of the problem statement it is asked to first perform PCA on the\n",
    "data set to reduce its dimensionality and build the classification models\n",
    "1. Logistic Regression Classification\n",
    "2. Decision Tree based Classification\n",
    "3. Random forest ensemble\n",
    "For each of the classification solution KPIs have to be measured. They are\n",
    "* Accuracy\n",
    "* Sensitivity\n",
    "* Specificity\n",
    "* Precision\n",
    "* Recall"
   ]
  },
  {
   "cell_type": "markdown",
   "metadata": {},
   "source": [
    "# Let us first perform the PCA to find out the principle components"
   ]
  },
  {
   "cell_type": "code",
   "execution_count": 100,
   "metadata": {
    "execution": {
     "iopub.execute_input": "2022-04-08T00:08:50.385933Z",
     "iopub.status.busy": "2022-04-08T00:08:50.385587Z",
     "iopub.status.idle": "2022-04-08T00:08:50.390358Z",
     "shell.execute_reply": "2022-04-08T00:08:50.389500Z",
     "shell.execute_reply.started": "2022-04-08T00:08:50.385893Z"
    }
   },
   "outputs": [],
   "source": [
    "hgv_cust_copy = hg_val_cust"
   ]
  },
  {
   "cell_type": "code",
   "execution_count": 101,
   "metadata": {
    "execution": {
     "iopub.execute_input": "2022-04-08T00:09:13.595374Z",
     "iopub.status.busy": "2022-04-08T00:09:13.594796Z",
     "iopub.status.idle": "2022-04-08T00:09:13.600010Z",
     "shell.execute_reply": "2022-04-08T00:09:13.599289Z",
     "shell.execute_reply.started": "2022-04-08T00:09:13.595340Z"
    }
   },
   "outputs": [],
   "source": [
    "hgv_cust_copy.shape"
   ]
  },
  {
   "cell_type": "code",
   "execution_count": 102,
   "metadata": {
    "execution": {
     "iopub.execute_input": "2022-04-08T00:11:13.900587Z",
     "iopub.status.busy": "2022-04-08T00:11:13.900271Z",
     "iopub.status.idle": "2022-04-08T00:11:13.915431Z",
     "shell.execute_reply": "2022-04-08T00:11:13.914628Z",
     "shell.execute_reply.started": "2022-04-08T00:11:13.900550Z"
    }
   },
   "outputs": [],
   "source": [
    "# aon column is not required, let us remove it\n",
    "hgv_cust_copy.drop('aon', axis=1, inplace=True)\n",
    "test_df.drop('aon', axis=1, inplace=True)"
   ]
  },
  {
   "cell_type": "code",
   "execution_count": 106,
   "metadata": {
    "execution": {
     "iopub.execute_input": "2022-04-08T00:15:18.901332Z",
     "iopub.status.busy": "2022-04-08T00:15:18.900733Z",
     "iopub.status.idle": "2022-04-08T00:15:18.909902Z",
     "shell.execute_reply": "2022-04-08T00:15:18.908905Z",
     "shell.execute_reply.started": "2022-04-08T00:15:18.901288Z"
    }
   },
   "outputs": [],
   "source": [
    "# There are few date columns that are not required for our prediction, let us remove them also\n",
    "cols_to_del = list(hgv_cust_copy.select_dtypes(include=['datetime']).columns)\n",
    "cols"
   ]
  },
  {
   "cell_type": "code",
   "execution_count": 107,
   "metadata": {
    "execution": {
     "iopub.execute_input": "2022-04-08T00:35:29.621439Z",
     "iopub.status.busy": "2022-04-08T00:35:29.621083Z",
     "iopub.status.idle": "2022-04-08T00:35:29.656224Z",
     "shell.execute_reply": "2022-04-08T00:35:29.655254Z",
     "shell.execute_reply.started": "2022-04-08T00:35:29.621379Z"
    }
   },
   "outputs": [],
   "source": [
    "hgv_cust_copy.drop(cols_to_del, axis=1, inplace=True)\n",
    "test_df.drop(cols_to_del, axis=1, inplace=True)"
   ]
  },
  {
   "cell_type": "code",
   "execution_count": 108,
   "metadata": {
    "execution": {
     "iopub.execute_input": "2022-04-08T00:37:06.839407Z",
     "iopub.status.busy": "2022-04-08T00:37:06.839119Z",
     "iopub.status.idle": "2022-04-08T00:37:06.850088Z",
     "shell.execute_reply": "2022-04-08T00:37:06.849171Z",
     "shell.execute_reply.started": "2022-04-08T00:37:06.839377Z"
    }
   },
   "outputs": [],
   "source": [
    "X = hgv_cust_copy.drop(['churn'], axis=1)\n",
    "y = hgv_cust_copy['churn']"
   ]
  },
  {
   "cell_type": "code",
   "execution_count": 109,
   "metadata": {
    "execution": {
     "iopub.execute_input": "2022-04-08T00:37:25.295823Z",
     "iopub.status.busy": "2022-04-08T00:37:25.295480Z",
     "iopub.status.idle": "2022-04-08T00:37:25.301783Z",
     "shell.execute_reply": "2022-04-08T00:37:25.301069Z",
     "shell.execute_reply.started": "2022-04-08T00:37:25.295785Z"
    }
   },
   "outputs": [],
   "source": [
    "X.shape"
   ]
  },
  {
   "cell_type": "code",
   "execution_count": 110,
   "metadata": {
    "execution": {
     "iopub.execute_input": "2022-04-08T00:37:34.271339Z",
     "iopub.status.busy": "2022-04-08T00:37:34.270810Z",
     "iopub.status.idle": "2022-04-08T00:37:34.277386Z",
     "shell.execute_reply": "2022-04-08T00:37:34.276533Z",
     "shell.execute_reply.started": "2022-04-08T00:37:34.271305Z"
    }
   },
   "outputs": [],
   "source": [
    "y.shape"
   ]
  },
  {
   "cell_type": "markdown",
   "metadata": {},
   "source": [
    "Standardize the data using MinMaxScaler"
   ]
  },
  {
   "cell_type": "code",
   "execution_count": 99,
   "metadata": {
    "execution": {
     "iopub.execute_input": "2022-04-08T00:06:47.461857Z",
     "iopub.status.busy": "2022-04-08T00:06:47.461371Z",
     "iopub.status.idle": "2022-04-08T00:06:47.465287Z",
     "shell.execute_reply": "2022-04-08T00:06:47.464239Z",
     "shell.execute_reply.started": "2022-04-08T00:06:47.461821Z"
    }
   },
   "outputs": [],
   "source": [
    "scaler = MinMaxScaler()"
   ]
  },
  {
   "cell_type": "code",
   "execution_count": null,
   "metadata": {},
   "outputs": [],
   "source": []
  },
  {
   "cell_type": "code",
   "execution_count": null,
   "metadata": {},
   "outputs": [],
   "source": []
  },
  {
   "cell_type": "code",
   "execution_count": null,
   "metadata": {},
   "outputs": [],
   "source": []
  },
  {
   "cell_type": "markdown",
   "metadata": {},
   "source": []
  },
  {
   "cell_type": "markdown",
   "metadata": {},
   "source": []
  },
  {
   "cell_type": "markdown",
   "metadata": {},
   "source": []
  },
  {
   "cell_type": "code",
   "execution_count": null,
   "metadata": {},
   "outputs": [],
   "source": []
  },
  {
   "cell_type": "code",
   "execution_count": null,
   "metadata": {},
   "outputs": [],
   "source": []
  },
  {
   "cell_type": "code",
   "execution_count": null,
   "metadata": {},
   "outputs": [],
   "source": []
  },
  {
   "cell_type": "code",
   "execution_count": null,
   "metadata": {},
   "outputs": [],
   "source": []
  },
  {
   "cell_type": "code",
   "execution_count": null,
   "metadata": {},
   "outputs": [],
   "source": [
    "# fill the missing values with hg_val_cust['date_of_last_rech_6'].median()\n",
    "hg_val_cust['date_of_last_rech_6'].fillna(hg_val_cust['date_of_last_rech_6'].median(), inplace=True)\n",
    "hg_val_cust['date_of_last_rech_7'].fillna(hg_val_cust['date_of_last_rech_7'].median(), inplace=True)"
   ]
  },
  {
   "cell_type": "code",
   "execution_count": null,
   "metadata": {},
   "outputs": [],
   "source": [
    "hg_val_cust['date_of_last_rech_7'].isnull().sum()"
   ]
  },
  {
   "cell_type": "code",
   "execution_count": null,
   "metadata": {},
   "outputs": [],
   "source": [
    "hg_val_cust['date_of_last_rech_7'].isnull().sum()"
   ]
  },
  {
   "cell_type": "code",
   "execution_count": null,
   "metadata": {},
   "outputs": [],
   "source": [
    "100 * hg_val_cust['onnet_mou_6'].isnull().sum()/len(hg_val_cust.index)"
   ]
  },
  {
   "cell_type": "code",
   "execution_count": null,
   "metadata": {},
   "outputs": [],
   "source": [
    "hg_val_cols = ['total_rech_amt_6', 'total_rech_amt_7', 'av_rech_amt_data_6', 'av_rech_amt_data_7',\n",
    "               'total_rech_data_6', 'total_rech_data_7']\n",
    "hg_val_cols"
   ]
  },
  {
   "cell_type": "code",
   "execution_count": null,
   "metadata": {},
   "outputs": [],
   "source": []
  },
  {
   "cell_type": "code",
   "execution_count": null,
   "metadata": {},
   "outputs": [],
   "source": [
    "(100 * telecom_df[hg_val_cols].isnull().sum() / len(telecom_df.index))"
   ]
  },
  {
   "cell_type": "code",
   "execution_count": null,
   "metadata": {},
   "outputs": [],
   "source": [
    "# impute missing values columns with a value 0\n",
    "telecom_df[hg_val_cols] = telecom_df[hg_val_cols].fillna(0, axis=1)\n",
    "telecom_df[hg_val_cols].isnull().sum()"
   ]
  },
  {
   "cell_type": "code",
   "execution_count": null,
   "metadata": {},
   "outputs": [],
   "source": []
  },
  {
   "cell_type": "code",
   "execution_count": null,
   "metadata": {},
   "outputs": [],
   "source": []
  },
  {
   "cell_type": "code",
   "execution_count": null,
   "metadata": {},
   "outputs": [],
   "source": [
    "sns.countplot(x='churn_probability', data=telecom_df)\n",
    "plt.show()"
   ]
  },
  {
   "cell_type": "code",
   "execution_count": null,
   "metadata": {},
   "outputs": [],
   "source": [
    "sns.countplot(x='monthly_2g_7', hue='churn_probability', data=telecom_df)"
   ]
  },
  {
   "cell_type": "code",
   "execution_count": null,
   "metadata": {},
   "outputs": [],
   "source": [
    "sns.countplot(x='monthly_3g_6', hue='churn_probability', data=telecom_df)"
   ]
  },
  {
   "cell_type": "code",
   "execution_count": null,
   "metadata": {},
   "outputs": [],
   "source": [
    "100 * telecom_df[['std_og_t2o_mou', 'loc_og_t2o_mou', 'loc_ic_t2o_mou']].value_counts()/len(telecom_df)"
   ]
  },
  {
   "cell_type": "code",
   "execution_count": null,
   "metadata": {},
   "outputs": [],
   "source": [
    "100 * telecom_df[['spl_ic_mou_7']].value_counts()/len(telecom_df)"
   ]
  }
 ],
 "metadata": {
  "kernelspec": {
   "display_name": "Python 3 (ipykernel)",
   "language": "python",
   "name": "python3"
  },
  "language_info": {
   "codemirror_mode": {
    "name": "ipython",
    "version": 3
   },
   "file_extension": ".py",
   "mimetype": "text/x-python",
   "name": "python",
   "nbconvert_exporter": "python",
   "pygments_lexer": "ipython3",
   "version": "3.8.8"
  }
 },
 "nbformat": 4,
 "nbformat_minor": 4
}
