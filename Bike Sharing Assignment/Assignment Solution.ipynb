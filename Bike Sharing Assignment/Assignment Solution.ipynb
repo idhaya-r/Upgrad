{
 "cells": [
  {
   "cell_type": "code",
   "execution_count": 1,
   "id": "c0f3e851",
   "metadata": {},
   "outputs": [],
   "source": [
    "# Importing libraries\n",
    "import numpy as np\n",
    "import pandas as pd\n",
    "import seaborn as sns\n",
    "import matplotlib.pyplot as plt\n",
    "%matplotlib inline"
   ]
  },
  {
   "cell_type": "markdown",
   "id": "6c03c366",
   "metadata": {},
   "source": [
    "## 1. Problem Statement\n",
    "    A bike-sharing system is a service in which bikes are made available for shared use to individuals on a short term basis for a price or free.A US bike-sharing provider BoomBikes has recently suffered considerable dips in their revenues due to the ongoing Corona pandemic. The company is finding it very difficult to sustain in the current market scenario. \n",
    "    BoomBikes aspires to understand the demand for shared bikes among the people after this ongoing quarantine situation ends across the nation due to Covid-19\n",
    "    \n"
   ]
  },
  {
   "cell_type": "markdown",
   "id": "110bdd8b",
   "metadata": {},
   "source": [
    "## 2.Data Understanding\n",
    "        Understanding the data by exploring it and understanding its characterisitics."
   ]
  },
  {
   "cell_type": "code",
   "execution_count": 2,
   "id": "d4c10f25",
   "metadata": {},
   "outputs": [],
   "source": [
    "bike_df = pd.read_csv(\"day.csv\")"
   ]
  },
  {
   "cell_type": "code",
   "execution_count": 3,
   "id": "8f15c1ff",
   "metadata": {},
   "outputs": [
    {
     "data": {
      "text/html": [
       "<div>\n",
       "<style scoped>\n",
       "    .dataframe tbody tr th:only-of-type {\n",
       "        vertical-align: middle;\n",
       "    }\n",
       "\n",
       "    .dataframe tbody tr th {\n",
       "        vertical-align: top;\n",
       "    }\n",
       "\n",
       "    .dataframe thead th {\n",
       "        text-align: right;\n",
       "    }\n",
       "</style>\n",
       "<table border=\"1\" class=\"dataframe\">\n",
       "  <thead>\n",
       "    <tr style=\"text-align: right;\">\n",
       "      <th></th>\n",
       "      <th>instant</th>\n",
       "      <th>dteday</th>\n",
       "      <th>season</th>\n",
       "      <th>yr</th>\n",
       "      <th>mnth</th>\n",
       "      <th>holiday</th>\n",
       "      <th>weekday</th>\n",
       "      <th>workingday</th>\n",
       "      <th>weathersit</th>\n",
       "      <th>temp</th>\n",
       "      <th>atemp</th>\n",
       "      <th>hum</th>\n",
       "      <th>windspeed</th>\n",
       "      <th>casual</th>\n",
       "      <th>registered</th>\n",
       "      <th>cnt</th>\n",
       "    </tr>\n",
       "  </thead>\n",
       "  <tbody>\n",
       "    <tr>\n",
       "      <th>0</th>\n",
       "      <td>1</td>\n",
       "      <td>01-01-2018</td>\n",
       "      <td>1</td>\n",
       "      <td>0</td>\n",
       "      <td>1</td>\n",
       "      <td>0</td>\n",
       "      <td>6</td>\n",
       "      <td>0</td>\n",
       "      <td>2</td>\n",
       "      <td>14.110847</td>\n",
       "      <td>18.18125</td>\n",
       "      <td>80.5833</td>\n",
       "      <td>10.749882</td>\n",
       "      <td>331</td>\n",
       "      <td>654</td>\n",
       "      <td>985</td>\n",
       "    </tr>\n",
       "    <tr>\n",
       "      <th>1</th>\n",
       "      <td>2</td>\n",
       "      <td>02-01-2018</td>\n",
       "      <td>1</td>\n",
       "      <td>0</td>\n",
       "      <td>1</td>\n",
       "      <td>0</td>\n",
       "      <td>0</td>\n",
       "      <td>0</td>\n",
       "      <td>2</td>\n",
       "      <td>14.902598</td>\n",
       "      <td>17.68695</td>\n",
       "      <td>69.6087</td>\n",
       "      <td>16.652113</td>\n",
       "      <td>131</td>\n",
       "      <td>670</td>\n",
       "      <td>801</td>\n",
       "    </tr>\n",
       "    <tr>\n",
       "      <th>2</th>\n",
       "      <td>3</td>\n",
       "      <td>03-01-2018</td>\n",
       "      <td>1</td>\n",
       "      <td>0</td>\n",
       "      <td>1</td>\n",
       "      <td>0</td>\n",
       "      <td>1</td>\n",
       "      <td>1</td>\n",
       "      <td>1</td>\n",
       "      <td>8.050924</td>\n",
       "      <td>9.47025</td>\n",
       "      <td>43.7273</td>\n",
       "      <td>16.636703</td>\n",
       "      <td>120</td>\n",
       "      <td>1229</td>\n",
       "      <td>1349</td>\n",
       "    </tr>\n",
       "    <tr>\n",
       "      <th>3</th>\n",
       "      <td>4</td>\n",
       "      <td>04-01-2018</td>\n",
       "      <td>1</td>\n",
       "      <td>0</td>\n",
       "      <td>1</td>\n",
       "      <td>0</td>\n",
       "      <td>2</td>\n",
       "      <td>1</td>\n",
       "      <td>1</td>\n",
       "      <td>8.200000</td>\n",
       "      <td>10.60610</td>\n",
       "      <td>59.0435</td>\n",
       "      <td>10.739832</td>\n",
       "      <td>108</td>\n",
       "      <td>1454</td>\n",
       "      <td>1562</td>\n",
       "    </tr>\n",
       "    <tr>\n",
       "      <th>4</th>\n",
       "      <td>5</td>\n",
       "      <td>05-01-2018</td>\n",
       "      <td>1</td>\n",
       "      <td>0</td>\n",
       "      <td>1</td>\n",
       "      <td>0</td>\n",
       "      <td>3</td>\n",
       "      <td>1</td>\n",
       "      <td>1</td>\n",
       "      <td>9.305237</td>\n",
       "      <td>11.46350</td>\n",
       "      <td>43.6957</td>\n",
       "      <td>12.522300</td>\n",
       "      <td>82</td>\n",
       "      <td>1518</td>\n",
       "      <td>1600</td>\n",
       "    </tr>\n",
       "  </tbody>\n",
       "</table>\n",
       "</div>"
      ],
      "text/plain": [
       "   instant      dteday  season  yr  mnth  holiday  weekday  workingday  \\\n",
       "0        1  01-01-2018       1   0     1        0        6           0   \n",
       "1        2  02-01-2018       1   0     1        0        0           0   \n",
       "2        3  03-01-2018       1   0     1        0        1           1   \n",
       "3        4  04-01-2018       1   0     1        0        2           1   \n",
       "4        5  05-01-2018       1   0     1        0        3           1   \n",
       "\n",
       "   weathersit       temp     atemp      hum  windspeed  casual  registered  \\\n",
       "0           2  14.110847  18.18125  80.5833  10.749882     331         654   \n",
       "1           2  14.902598  17.68695  69.6087  16.652113     131         670   \n",
       "2           1   8.050924   9.47025  43.7273  16.636703     120        1229   \n",
       "3           1   8.200000  10.60610  59.0435  10.739832     108        1454   \n",
       "4           1   9.305237  11.46350  43.6957  12.522300      82        1518   \n",
       "\n",
       "    cnt  \n",
       "0   985  \n",
       "1   801  \n",
       "2  1349  \n",
       "3  1562  \n",
       "4  1600  "
      ]
     },
     "execution_count": 3,
     "metadata": {},
     "output_type": "execute_result"
    }
   ],
   "source": [
    "bike_df.head()"
   ]
  },
  {
   "cell_type": "code",
   "execution_count": 4,
   "id": "58ef1bff",
   "metadata": {},
   "outputs": [
    {
     "name": "stdout",
     "output_type": "stream",
     "text": [
      "<class 'pandas.core.frame.DataFrame'>\n",
      "RangeIndex: 730 entries, 0 to 729\n",
      "Data columns (total 16 columns):\n",
      " #   Column      Non-Null Count  Dtype  \n",
      "---  ------      --------------  -----  \n",
      " 0   instant     730 non-null    int64  \n",
      " 1   dteday      730 non-null    object \n",
      " 2   season      730 non-null    int64  \n",
      " 3   yr          730 non-null    int64  \n",
      " 4   mnth        730 non-null    int64  \n",
      " 5   holiday     730 non-null    int64  \n",
      " 6   weekday     730 non-null    int64  \n",
      " 7   workingday  730 non-null    int64  \n",
      " 8   weathersit  730 non-null    int64  \n",
      " 9   temp        730 non-null    float64\n",
      " 10  atemp       730 non-null    float64\n",
      " 11  hum         730 non-null    float64\n",
      " 12  windspeed   730 non-null    float64\n",
      " 13  casual      730 non-null    int64  \n",
      " 14  registered  730 non-null    int64  \n",
      " 15  cnt         730 non-null    int64  \n",
      "dtypes: float64(4), int64(11), object(1)\n",
      "memory usage: 91.4+ KB\n"
     ]
    }
   ],
   "source": [
    "bike_df.info()"
   ]
  },
  {
   "cell_type": "code",
   "execution_count": 5,
   "id": "ae0cfec5",
   "metadata": {
    "scrolled": true
   },
   "outputs": [
    {
     "data": {
      "text/plain": [
       "instant       0.0\n",
       "dteday        0.0\n",
       "season        0.0\n",
       "yr            0.0\n",
       "mnth          0.0\n",
       "holiday       0.0\n",
       "weekday       0.0\n",
       "workingday    0.0\n",
       "weathersit    0.0\n",
       "temp          0.0\n",
       "atemp         0.0\n",
       "hum           0.0\n",
       "windspeed     0.0\n",
       "casual        0.0\n",
       "registered    0.0\n",
       "cnt           0.0\n",
       "dtype: float64"
      ]
     },
     "execution_count": 5,
     "metadata": {},
     "output_type": "execute_result"
    }
   ],
   "source": [
    "#Check null values\n",
    "round(100*(bike_df.isnull().sum()/len(bike_df.index)),2).sort_values(ascending=True)"
   ]
  },
  {
   "cell_type": "markdown",
   "id": "54f0cea1",
   "metadata": {},
   "source": [
    "#### Observation: No missing values found , thus no data imputation is required"
   ]
  },
  {
   "cell_type": "code",
   "execution_count": 6,
   "id": "58421ea0",
   "metadata": {},
   "outputs": [
    {
     "data": {
      "text/plain": [
       "(730, 16)"
      ]
     },
     "execution_count": 6,
     "metadata": {},
     "output_type": "execute_result"
    }
   ],
   "source": [
    "bike_df.shape"
   ]
  },
  {
   "cell_type": "code",
   "execution_count": 7,
   "id": "0878e339",
   "metadata": {},
   "outputs": [
    {
     "data": {
      "text/html": [
       "<div>\n",
       "<style scoped>\n",
       "    .dataframe tbody tr th:only-of-type {\n",
       "        vertical-align: middle;\n",
       "    }\n",
       "\n",
       "    .dataframe tbody tr th {\n",
       "        vertical-align: top;\n",
       "    }\n",
       "\n",
       "    .dataframe thead th {\n",
       "        text-align: right;\n",
       "    }\n",
       "</style>\n",
       "<table border=\"1\" class=\"dataframe\">\n",
       "  <thead>\n",
       "    <tr style=\"text-align: right;\">\n",
       "      <th></th>\n",
       "      <th>instant</th>\n",
       "      <th>season</th>\n",
       "      <th>yr</th>\n",
       "      <th>mnth</th>\n",
       "      <th>holiday</th>\n",
       "      <th>weekday</th>\n",
       "      <th>workingday</th>\n",
       "      <th>weathersit</th>\n",
       "      <th>temp</th>\n",
       "      <th>atemp</th>\n",
       "      <th>hum</th>\n",
       "      <th>windspeed</th>\n",
       "      <th>casual</th>\n",
       "      <th>registered</th>\n",
       "      <th>cnt</th>\n",
       "    </tr>\n",
       "  </thead>\n",
       "  <tbody>\n",
       "    <tr>\n",
       "      <th>count</th>\n",
       "      <td>730.000000</td>\n",
       "      <td>730.000000</td>\n",
       "      <td>730.000000</td>\n",
       "      <td>730.000000</td>\n",
       "      <td>730.000000</td>\n",
       "      <td>730.000000</td>\n",
       "      <td>730.000000</td>\n",
       "      <td>730.000000</td>\n",
       "      <td>730.000000</td>\n",
       "      <td>730.000000</td>\n",
       "      <td>730.000000</td>\n",
       "      <td>730.000000</td>\n",
       "      <td>730.000000</td>\n",
       "      <td>730.000000</td>\n",
       "      <td>730.000000</td>\n",
       "    </tr>\n",
       "    <tr>\n",
       "      <th>mean</th>\n",
       "      <td>365.500000</td>\n",
       "      <td>2.498630</td>\n",
       "      <td>0.500000</td>\n",
       "      <td>6.526027</td>\n",
       "      <td>0.028767</td>\n",
       "      <td>2.997260</td>\n",
       "      <td>0.683562</td>\n",
       "      <td>1.394521</td>\n",
       "      <td>20.319259</td>\n",
       "      <td>23.726322</td>\n",
       "      <td>62.765175</td>\n",
       "      <td>12.763620</td>\n",
       "      <td>849.249315</td>\n",
       "      <td>3658.757534</td>\n",
       "      <td>4508.006849</td>\n",
       "    </tr>\n",
       "    <tr>\n",
       "      <th>std</th>\n",
       "      <td>210.877136</td>\n",
       "      <td>1.110184</td>\n",
       "      <td>0.500343</td>\n",
       "      <td>3.450215</td>\n",
       "      <td>0.167266</td>\n",
       "      <td>2.006161</td>\n",
       "      <td>0.465405</td>\n",
       "      <td>0.544807</td>\n",
       "      <td>7.506729</td>\n",
       "      <td>8.150308</td>\n",
       "      <td>14.237589</td>\n",
       "      <td>5.195841</td>\n",
       "      <td>686.479875</td>\n",
       "      <td>1559.758728</td>\n",
       "      <td>1936.011647</td>\n",
       "    </tr>\n",
       "    <tr>\n",
       "      <th>min</th>\n",
       "      <td>1.000000</td>\n",
       "      <td>1.000000</td>\n",
       "      <td>0.000000</td>\n",
       "      <td>1.000000</td>\n",
       "      <td>0.000000</td>\n",
       "      <td>0.000000</td>\n",
       "      <td>0.000000</td>\n",
       "      <td>1.000000</td>\n",
       "      <td>2.424346</td>\n",
       "      <td>3.953480</td>\n",
       "      <td>0.000000</td>\n",
       "      <td>1.500244</td>\n",
       "      <td>2.000000</td>\n",
       "      <td>20.000000</td>\n",
       "      <td>22.000000</td>\n",
       "    </tr>\n",
       "    <tr>\n",
       "      <th>25%</th>\n",
       "      <td>183.250000</td>\n",
       "      <td>2.000000</td>\n",
       "      <td>0.000000</td>\n",
       "      <td>4.000000</td>\n",
       "      <td>0.000000</td>\n",
       "      <td>1.000000</td>\n",
       "      <td>0.000000</td>\n",
       "      <td>1.000000</td>\n",
       "      <td>13.811885</td>\n",
       "      <td>16.889713</td>\n",
       "      <td>52.000000</td>\n",
       "      <td>9.041650</td>\n",
       "      <td>316.250000</td>\n",
       "      <td>2502.250000</td>\n",
       "      <td>3169.750000</td>\n",
       "    </tr>\n",
       "    <tr>\n",
       "      <th>50%</th>\n",
       "      <td>365.500000</td>\n",
       "      <td>3.000000</td>\n",
       "      <td>0.500000</td>\n",
       "      <td>7.000000</td>\n",
       "      <td>0.000000</td>\n",
       "      <td>3.000000</td>\n",
       "      <td>1.000000</td>\n",
       "      <td>1.000000</td>\n",
       "      <td>20.465826</td>\n",
       "      <td>24.368225</td>\n",
       "      <td>62.625000</td>\n",
       "      <td>12.125325</td>\n",
       "      <td>717.000000</td>\n",
       "      <td>3664.500000</td>\n",
       "      <td>4548.500000</td>\n",
       "    </tr>\n",
       "    <tr>\n",
       "      <th>75%</th>\n",
       "      <td>547.750000</td>\n",
       "      <td>3.000000</td>\n",
       "      <td>1.000000</td>\n",
       "      <td>10.000000</td>\n",
       "      <td>0.000000</td>\n",
       "      <td>5.000000</td>\n",
       "      <td>1.000000</td>\n",
       "      <td>2.000000</td>\n",
       "      <td>26.880615</td>\n",
       "      <td>30.445775</td>\n",
       "      <td>72.989575</td>\n",
       "      <td>15.625589</td>\n",
       "      <td>1096.500000</td>\n",
       "      <td>4783.250000</td>\n",
       "      <td>5966.000000</td>\n",
       "    </tr>\n",
       "    <tr>\n",
       "      <th>max</th>\n",
       "      <td>730.000000</td>\n",
       "      <td>4.000000</td>\n",
       "      <td>1.000000</td>\n",
       "      <td>12.000000</td>\n",
       "      <td>1.000000</td>\n",
       "      <td>6.000000</td>\n",
       "      <td>1.000000</td>\n",
       "      <td>3.000000</td>\n",
       "      <td>35.328347</td>\n",
       "      <td>42.044800</td>\n",
       "      <td>97.250000</td>\n",
       "      <td>34.000021</td>\n",
       "      <td>3410.000000</td>\n",
       "      <td>6946.000000</td>\n",
       "      <td>8714.000000</td>\n",
       "    </tr>\n",
       "  </tbody>\n",
       "</table>\n",
       "</div>"
      ],
      "text/plain": [
       "          instant      season          yr        mnth     holiday     weekday  \\\n",
       "count  730.000000  730.000000  730.000000  730.000000  730.000000  730.000000   \n",
       "mean   365.500000    2.498630    0.500000    6.526027    0.028767    2.997260   \n",
       "std    210.877136    1.110184    0.500343    3.450215    0.167266    2.006161   \n",
       "min      1.000000    1.000000    0.000000    1.000000    0.000000    0.000000   \n",
       "25%    183.250000    2.000000    0.000000    4.000000    0.000000    1.000000   \n",
       "50%    365.500000    3.000000    0.500000    7.000000    0.000000    3.000000   \n",
       "75%    547.750000    3.000000    1.000000   10.000000    0.000000    5.000000   \n",
       "max    730.000000    4.000000    1.000000   12.000000    1.000000    6.000000   \n",
       "\n",
       "       workingday  weathersit        temp       atemp         hum   windspeed  \\\n",
       "count  730.000000  730.000000  730.000000  730.000000  730.000000  730.000000   \n",
       "mean     0.683562    1.394521   20.319259   23.726322   62.765175   12.763620   \n",
       "std      0.465405    0.544807    7.506729    8.150308   14.237589    5.195841   \n",
       "min      0.000000    1.000000    2.424346    3.953480    0.000000    1.500244   \n",
       "25%      0.000000    1.000000   13.811885   16.889713   52.000000    9.041650   \n",
       "50%      1.000000    1.000000   20.465826   24.368225   62.625000   12.125325   \n",
       "75%      1.000000    2.000000   26.880615   30.445775   72.989575   15.625589   \n",
       "max      1.000000    3.000000   35.328347   42.044800   97.250000   34.000021   \n",
       "\n",
       "            casual   registered          cnt  \n",
       "count   730.000000   730.000000   730.000000  \n",
       "mean    849.249315  3658.757534  4508.006849  \n",
       "std     686.479875  1559.758728  1936.011647  \n",
       "min       2.000000    20.000000    22.000000  \n",
       "25%     316.250000  2502.250000  3169.750000  \n",
       "50%     717.000000  3664.500000  4548.500000  \n",
       "75%    1096.500000  4783.250000  5966.000000  \n",
       "max    3410.000000  6946.000000  8714.000000  "
      ]
     },
     "execution_count": 7,
     "metadata": {},
     "output_type": "execute_result"
    }
   ],
   "source": [
    "bike_df.describe()"
   ]
  },
  {
   "cell_type": "code",
   "execution_count": 8,
   "id": "3deb045f",
   "metadata": {
    "scrolled": true
   },
   "outputs": [
    {
     "name": "stdout",
     "output_type": "stream",
     "text": [
      "instant 730\n",
      "dteday 730\n",
      "season 4\n",
      "3    188\n",
      "2    184\n",
      "1    180\n",
      "4    178\n",
      "Name: season, dtype: int64\n",
      "yr 2\n",
      "0    365\n",
      "1    365\n",
      "Name: yr, dtype: int64\n",
      "mnth 12\n",
      "holiday 2\n",
      "0    709\n",
      "1     21\n",
      "Name: holiday, dtype: int64\n",
      "weekday 7\n",
      "6    105\n",
      "0    105\n",
      "1    105\n",
      "2    104\n",
      "4    104\n",
      "5    104\n",
      "3    103\n",
      "Name: weekday, dtype: int64\n",
      "workingday 2\n",
      "1    499\n",
      "0    231\n",
      "Name: workingday, dtype: int64\n",
      "weathersit 3\n",
      "1    463\n",
      "2    246\n",
      "3     21\n",
      "Name: weathersit, dtype: int64\n",
      "temp 498\n",
      "atemp 689\n",
      "hum 594\n",
      "windspeed 649\n",
      "casual 605\n",
      "registered 678\n",
      "cnt 695\n"
     ]
    }
   ],
   "source": [
    "# Exploring the data.. \n",
    "# List the number of unique values in the format column, unique values if the values are less.\n",
    "for col in bike_df.columns:\n",
    "    print(col,bike_df[col].nunique())\n",
    "    if bike_df[col].nunique()<10:\n",
    "        print(bike_df[col].value_counts())"
   ]
  },
  {
   "cell_type": "markdown",
   "id": "c3f1abd7",
   "metadata": {},
   "source": [
    "Conclusion: instant is an identifier column, can be removed."
   ]
  },
  {
   "cell_type": "markdown",
   "id": "d3b1b932",
   "metadata": {},
   "source": [
    "## 3. Data cleaning and manipulation"
   ]
  },
  {
   "cell_type": "code",
   "execution_count": 9,
   "id": "4935bf53",
   "metadata": {},
   "outputs": [],
   "source": [
    "bike_df.drop('instant',axis=1,inplace=True)"
   ]
  },
  {
   "cell_type": "code",
   "execution_count": 10,
   "id": "84e456df",
   "metadata": {},
   "outputs": [],
   "source": [
    "#convert date with object type to date.\n",
    "bike_df['dteday'] = pd.to_datetime(bike_df['dteday'],dayfirst=True)"
   ]
  },
  {
   "cell_type": "code",
   "execution_count": 11,
   "id": "a50001cd",
   "metadata": {},
   "outputs": [
    {
     "data": {
      "text/plain": [
       "<seaborn.axisgrid.PairGrid at 0x1369cec02b0>"
      ]
     },
     "execution_count": 11,
     "metadata": {},
     "output_type": "execute_result"
    },
    {
     "data": {
      "text/plain": [
       "<Figure size 1440x720 with 0 Axes>"
      ]
     },
     "metadata": {},
     "output_type": "display_data"
    },
    {
     "data": {
      "image/png": "[encoded data removed]",
      "text/plain": [
       "<Figure size 900x900 with 30 Axes>"
      ]
     },
     "metadata": {
      "needs_background": "light"
     },
     "output_type": "display_data"
    }
   ],
   "source": [
    "plt.figure(figsize = (20,10))\n",
    "sns.pairplot(data=bike_df,vars=['cnt', 'temp', 'atemp', 'hum','windspeed'])"
   ]
  },
  {
   "cell_type": "markdown",
   "id": "8319664b",
   "metadata": {},
   "source": [
    "Conclusion: Temp and atemp is highly correlated. Count is linearly correlated with atemp and temp. Hence linear regression can be used."
   ]
  },
  {
   "cell_type": "code",
   "execution_count": 12,
   "id": "b445f12f",
   "metadata": {},
   "outputs": [
    {
     "data": {
      "text/plain": [
       "<AxesSubplot:>"
      ]
     },
     "execution_count": 12,
     "metadata": {},
     "output_type": "execute_result"
    },
    {
     "data": {
      "image/png": "[encoded data removed]",
      "text/plain": [
       "<Figure size 1440x720 with 2 Axes>"
      ]
     },
     "metadata": {
      "needs_background": "light"
     },
     "output_type": "display_data"
    }
   ],
   "source": [
    "plt.figure(figsize = (20,10))        # Size of the figure\n",
    "sns.heatmap(bike_df[['atemp','temp','hum','windspeed','casual','registered','cnt']].corr(),annot=True)"
   ]
  },
  {
   "cell_type": "markdown",
   "id": "58b89dce",
   "metadata": {},
   "source": [
    "#### Observation: temp and atemp are highly correlated, One of the variables can be dropped.\n",
    "#### Observation: Keeping the casual and registered might cause data leakage, so removing one of the variables"
   ]
  },
  {
   "cell_type": "code",
   "execution_count": 13,
   "id": "0b13b340",
   "metadata": {},
   "outputs": [],
   "source": [
    "bike_df.drop(['temp','casual','registered'],inplace=True,axis=1)"
   ]
  },
  {
   "cell_type": "code",
   "execution_count": 14,
   "id": "87fdc826",
   "metadata": {},
   "outputs": [
    {
     "data": {
      "text/plain": [
       "<AxesSubplot:>"
      ]
     },
     "execution_count": 14,
     "metadata": {},
     "output_type": "execute_result"
    },
    {
     "data": {
      "image/png": "[encoded data removed]",
      "text/plain": [
       "<Figure size 576x432 with 2 Axes>"
      ]
     },
     "metadata": {
      "needs_background": "light"
     },
     "output_type": "display_data"
    }
   ],
   "source": [
    "plt.figure(figsize = (8,6))        # Size of the figure\n",
    "sns.heatmap(bike_df[['atemp','hum','cnt']].corr(),annot=True)"
   ]
  },
  {
   "cell_type": "code",
   "execution_count": 15,
   "id": "164d839c",
   "metadata": {},
   "outputs": [
    {
     "data": {
      "image/png": "[encoded data removed]",
      "text/plain": [
       "<Figure size 1296x432 with 3 Axes>"
      ]
     },
     "metadata": {
      "needs_background": "light"
     },
     "output_type": "display_data"
    }
   ],
   "source": [
    "#Check outliers\n",
    "o_cols = ['atemp','hum','windspeed']\n",
    "plt.figure(figsize=(18,6))\n",
    "i =1\n",
    "for col in o_cols:\n",
    "    plt.subplot(1,3,i)\n",
    "    sns.boxplot(y=col,data=bike_df)\n",
    "    i= i +1"
   ]
  },
  {
   "cell_type": "markdown",
   "id": "723f5803",
   "metadata": {},
   "source": [
    "##### Conclusion: No outliers to be handled. So we can proceed further with existing data."
   ]
  },
  {
   "cell_type": "markdown",
   "id": "35911800",
   "metadata": {},
   "source": [
    "## 4. Data Quality\n",
    "    Checking the quality of data by checking the outliers in the continuous variables. \n",
    "    Mapping the categorical variables with numerical data to string data for better readability\n"
   ]
  },
  {
   "cell_type": "code",
   "execution_count": 16,
   "id": "b6ee835f",
   "metadata": {},
   "outputs": [
    {
     "data": {
      "text/html": [
       "<div>\n",
       "<style scoped>\n",
       "    .dataframe tbody tr th:only-of-type {\n",
       "        vertical-align: middle;\n",
       "    }\n",
       "\n",
       "    .dataframe tbody tr th {\n",
       "        vertical-align: top;\n",
       "    }\n",
       "\n",
       "    .dataframe thead th {\n",
       "        text-align: right;\n",
       "    }\n",
       "</style>\n",
       "<table border=\"1\" class=\"dataframe\">\n",
       "  <thead>\n",
       "    <tr style=\"text-align: right;\">\n",
       "      <th></th>\n",
       "      <th>dteday</th>\n",
       "      <th>season</th>\n",
       "      <th>yr</th>\n",
       "      <th>mnth</th>\n",
       "      <th>holiday</th>\n",
       "      <th>weekday</th>\n",
       "      <th>workingday</th>\n",
       "      <th>weathersit</th>\n",
       "      <th>atemp</th>\n",
       "      <th>hum</th>\n",
       "      <th>windspeed</th>\n",
       "      <th>cnt</th>\n",
       "    </tr>\n",
       "  </thead>\n",
       "  <tbody>\n",
       "    <tr>\n",
       "      <th>0</th>\n",
       "      <td>2018-01-01</td>\n",
       "      <td>SPRING</td>\n",
       "      <td>0</td>\n",
       "      <td>1</td>\n",
       "      <td>0</td>\n",
       "      <td>6</td>\n",
       "      <td>0</td>\n",
       "      <td>2</td>\n",
       "      <td>18.18125</td>\n",
       "      <td>80.5833</td>\n",
       "      <td>10.749882</td>\n",
       "      <td>985</td>\n",
       "    </tr>\n",
       "    <tr>\n",
       "      <th>1</th>\n",
       "      <td>2018-01-02</td>\n",
       "      <td>SPRING</td>\n",
       "      <td>0</td>\n",
       "      <td>1</td>\n",
       "      <td>0</td>\n",
       "      <td>0</td>\n",
       "      <td>0</td>\n",
       "      <td>2</td>\n",
       "      <td>17.68695</td>\n",
       "      <td>69.6087</td>\n",
       "      <td>16.652113</td>\n",
       "      <td>801</td>\n",
       "    </tr>\n",
       "    <tr>\n",
       "      <th>2</th>\n",
       "      <td>2018-01-03</td>\n",
       "      <td>SPRING</td>\n",
       "      <td>0</td>\n",
       "      <td>1</td>\n",
       "      <td>0</td>\n",
       "      <td>1</td>\n",
       "      <td>1</td>\n",
       "      <td>1</td>\n",
       "      <td>9.47025</td>\n",
       "      <td>43.7273</td>\n",
       "      <td>16.636703</td>\n",
       "      <td>1349</td>\n",
       "    </tr>\n",
       "    <tr>\n",
       "      <th>3</th>\n",
       "      <td>2018-01-04</td>\n",
       "      <td>SPRING</td>\n",
       "      <td>0</td>\n",
       "      <td>1</td>\n",
       "      <td>0</td>\n",
       "      <td>2</td>\n",
       "      <td>1</td>\n",
       "      <td>1</td>\n",
       "      <td>10.60610</td>\n",
       "      <td>59.0435</td>\n",
       "      <td>10.739832</td>\n",
       "      <td>1562</td>\n",
       "    </tr>\n",
       "    <tr>\n",
       "      <th>4</th>\n",
       "      <td>2018-01-05</td>\n",
       "      <td>SPRING</td>\n",
       "      <td>0</td>\n",
       "      <td>1</td>\n",
       "      <td>0</td>\n",
       "      <td>3</td>\n",
       "      <td>1</td>\n",
       "      <td>1</td>\n",
       "      <td>11.46350</td>\n",
       "      <td>43.6957</td>\n",
       "      <td>12.522300</td>\n",
       "      <td>1600</td>\n",
       "    </tr>\n",
       "  </tbody>\n",
       "</table>\n",
       "</div>"
      ],
      "text/plain": [
       "      dteday  season  yr  mnth  holiday  weekday  workingday  weathersit  \\\n",
       "0 2018-01-01  SPRING   0     1        0        6           0           2   \n",
       "1 2018-01-02  SPRING   0     1        0        0           0           2   \n",
       "2 2018-01-03  SPRING   0     1        0        1           1           1   \n",
       "3 2018-01-04  SPRING   0     1        0        2           1           1   \n",
       "4 2018-01-05  SPRING   0     1        0        3           1           1   \n",
       "\n",
       "      atemp      hum  windspeed   cnt  \n",
       "0  18.18125  80.5833  10.749882   985  \n",
       "1  17.68695  69.6087  16.652113   801  \n",
       "2   9.47025  43.7273  16.636703  1349  \n",
       "3  10.60610  59.0435  10.739832  1562  \n",
       "4  11.46350  43.6957  12.522300  1600  "
      ]
     },
     "execution_count": 16,
     "metadata": {},
     "output_type": "execute_result"
    }
   ],
   "source": [
    "# Replace categorical values with string value.\n",
    "bike_v2 = bike_df.copy()\n",
    "bike_v2['season']=bike_df['season'].map({1:'SPRING',2:'SUMMER',3:'FALL',4:'WINTER'})\n",
    "bike_v2.head()"
   ]
  },
  {
   "cell_type": "code",
   "execution_count": 17,
   "id": "217731ed",
   "metadata": {},
   "outputs": [
    {
     "data": {
      "text/plain": [
       "FALL      188\n",
       "SUMMER    184\n",
       "SPRING    180\n",
       "WINTER    178\n",
       "Name: season, dtype: int64"
      ]
     },
     "execution_count": 17,
     "metadata": {},
     "output_type": "execute_result"
    }
   ],
   "source": [
    "bike_v2['season'].value_counts()"
   ]
  },
  {
   "cell_type": "code",
   "execution_count": 18,
   "id": "bd9cea8c",
   "metadata": {},
   "outputs": [],
   "source": [
    "# Replace categorical values with string value.\n",
    "bike_v2['weathersit']=bike_df['weathersit'].map({1:'CLEAR',2:'MIST',3:'LIGHT_RAIN',4:'HEAVY_RAIN'})"
   ]
  },
  {
   "cell_type": "code",
   "execution_count": 19,
   "id": "ca81291c",
   "metadata": {},
   "outputs": [
    {
     "data": {
      "text/plain": [
       "CLEAR         463\n",
       "MIST          246\n",
       "LIGHT_RAIN     21\n",
       "Name: weathersit, dtype: int64"
      ]
     },
     "execution_count": 19,
     "metadata": {},
     "output_type": "execute_result"
    }
   ],
   "source": [
    "bike_v2['weathersit'].value_counts()"
   ]
  },
  {
   "cell_type": "code",
   "execution_count": 20,
   "id": "c99de680",
   "metadata": {},
   "outputs": [
    {
     "data": {
      "text/plain": [
       "JAN    62\n",
       "MAR    62\n",
       "MAY    62\n",
       "JUL    62\n",
       "AUG    62\n",
       "OCT    62\n",
       "DEC    62\n",
       "APR    60\n",
       "JUN    60\n",
       "SEP    60\n",
       "NOV    60\n",
       "FEB    56\n",
       "Name: mnth, dtype: int64"
      ]
     },
     "execution_count": 20,
     "metadata": {},
     "output_type": "execute_result"
    }
   ],
   "source": [
    "bike_v2['mnth']=bike_df['mnth'].map({1:'JAN',2:'FEB',3:'MAR',4:'APR',5:'MAY',6:'JUN',7:'JUL',\n",
    "                                     8:'AUG',9:'SEP',10:'OCT',11:'NOV',12:'DEC'})\n",
    "bike_v2['mnth'].value_counts()"
   ]
  },
  {
   "cell_type": "code",
   "execution_count": 21,
   "id": "ce7e94ae",
   "metadata": {},
   "outputs": [
    {
     "data": {
      "text/plain": [
       "SAT    105\n",
       "SUN    105\n",
       "MON    105\n",
       "TUE    104\n",
       "THU    104\n",
       "FRI    104\n",
       "WED    103\n",
       "Name: weekday, dtype: int64"
      ]
     },
     "execution_count": 21,
     "metadata": {},
     "output_type": "execute_result"
    }
   ],
   "source": [
    "bike_v2['weekday']=bike_df['weekday'].map({0:'SUN',1:'MON',2:'TUE',3:'WED',4:'THU',5:'FRI',6:'SAT',7:'SUN'})\n",
    "bike_v2['weekday'].value_counts()"
   ]
  },
  {
   "cell_type": "code",
   "execution_count": 22,
   "id": "b561e5be",
   "metadata": {},
   "outputs": [
    {
     "data": {
      "text/html": [
       "<div>\n",
       "<style scoped>\n",
       "    .dataframe tbody tr th:only-of-type {\n",
       "        vertical-align: middle;\n",
       "    }\n",
       "\n",
       "    .dataframe tbody tr th {\n",
       "        vertical-align: top;\n",
       "    }\n",
       "\n",
       "    .dataframe thead th {\n",
       "        text-align: right;\n",
       "    }\n",
       "</style>\n",
       "<table border=\"1\" class=\"dataframe\">\n",
       "  <thead>\n",
       "    <tr style=\"text-align: right;\">\n",
       "      <th></th>\n",
       "      <th>dteday</th>\n",
       "      <th>season</th>\n",
       "      <th>yr</th>\n",
       "      <th>mnth</th>\n",
       "      <th>holiday</th>\n",
       "      <th>weekday</th>\n",
       "      <th>workingday</th>\n",
       "      <th>weathersit</th>\n",
       "      <th>atemp</th>\n",
       "      <th>hum</th>\n",
       "      <th>windspeed</th>\n",
       "      <th>cnt</th>\n",
       "    </tr>\n",
       "  </thead>\n",
       "  <tbody>\n",
       "    <tr>\n",
       "      <th>0</th>\n",
       "      <td>2018-01-01</td>\n",
       "      <td>SPRING</td>\n",
       "      <td>YEAR_2018</td>\n",
       "      <td>JAN</td>\n",
       "      <td>0</td>\n",
       "      <td>SAT</td>\n",
       "      <td>0</td>\n",
       "      <td>MIST</td>\n",
       "      <td>18.18125</td>\n",
       "      <td>80.5833</td>\n",
       "      <td>10.749882</td>\n",
       "      <td>985</td>\n",
       "    </tr>\n",
       "    <tr>\n",
       "      <th>1</th>\n",
       "      <td>2018-01-02</td>\n",
       "      <td>SPRING</td>\n",
       "      <td>YEAR_2018</td>\n",
       "      <td>JAN</td>\n",
       "      <td>0</td>\n",
       "      <td>SUN</td>\n",
       "      <td>0</td>\n",
       "      <td>MIST</td>\n",
       "      <td>17.68695</td>\n",
       "      <td>69.6087</td>\n",
       "      <td>16.652113</td>\n",
       "      <td>801</td>\n",
       "    </tr>\n",
       "    <tr>\n",
       "      <th>2</th>\n",
       "      <td>2018-01-03</td>\n",
       "      <td>SPRING</td>\n",
       "      <td>YEAR_2018</td>\n",
       "      <td>JAN</td>\n",
       "      <td>0</td>\n",
       "      <td>MON</td>\n",
       "      <td>1</td>\n",
       "      <td>CLEAR</td>\n",
       "      <td>9.47025</td>\n",
       "      <td>43.7273</td>\n",
       "      <td>16.636703</td>\n",
       "      <td>1349</td>\n",
       "    </tr>\n",
       "    <tr>\n",
       "      <th>3</th>\n",
       "      <td>2018-01-04</td>\n",
       "      <td>SPRING</td>\n",
       "      <td>YEAR_2018</td>\n",
       "      <td>JAN</td>\n",
       "      <td>0</td>\n",
       "      <td>TUE</td>\n",
       "      <td>1</td>\n",
       "      <td>CLEAR</td>\n",
       "      <td>10.60610</td>\n",
       "      <td>59.0435</td>\n",
       "      <td>10.739832</td>\n",
       "      <td>1562</td>\n",
       "    </tr>\n",
       "    <tr>\n",
       "      <th>4</th>\n",
       "      <td>2018-01-05</td>\n",
       "      <td>SPRING</td>\n",
       "      <td>YEAR_2018</td>\n",
       "      <td>JAN</td>\n",
       "      <td>0</td>\n",
       "      <td>WED</td>\n",
       "      <td>1</td>\n",
       "      <td>CLEAR</td>\n",
       "      <td>11.46350</td>\n",
       "      <td>43.6957</td>\n",
       "      <td>12.522300</td>\n",
       "      <td>1600</td>\n",
       "    </tr>\n",
       "  </tbody>\n",
       "</table>\n",
       "</div>"
      ],
      "text/plain": [
       "      dteday  season         yr mnth  holiday weekday  workingday weathersit  \\\n",
       "0 2018-01-01  SPRING  YEAR_2018  JAN        0     SAT           0       MIST   \n",
       "1 2018-01-02  SPRING  YEAR_2018  JAN        0     SUN           0       MIST   \n",
       "2 2018-01-03  SPRING  YEAR_2018  JAN        0     MON           1      CLEAR   \n",
       "3 2018-01-04  SPRING  YEAR_2018  JAN        0     TUE           1      CLEAR   \n",
       "4 2018-01-05  SPRING  YEAR_2018  JAN        0     WED           1      CLEAR   \n",
       "\n",
       "      atemp      hum  windspeed   cnt  \n",
       "0  18.18125  80.5833  10.749882   985  \n",
       "1  17.68695  69.6087  16.652113   801  \n",
       "2   9.47025  43.7273  16.636703  1349  \n",
       "3  10.60610  59.0435  10.739832  1562  \n",
       "4  11.46350  43.6957  12.522300  1600  "
      ]
     },
     "execution_count": 22,
     "metadata": {},
     "output_type": "execute_result"
    }
   ],
   "source": [
    "bike_v2['yr']=bike_v2['yr'].map({0:'YEAR_2018',1:'YEAR_2019'})\n",
    "bike_v2.head()"
   ]
  },
  {
   "cell_type": "markdown",
   "id": "f211b049",
   "metadata": {},
   "source": [
    "## 5. Exploratory data analysis\n",
    "    To understand if there is any patterns and creating derived variables to understand the data better."
   ]
  },
  {
   "cell_type": "code",
   "execution_count": 23,
   "id": "84055c71",
   "metadata": {},
   "outputs": [
    {
     "data": {
      "text/plain": [
       "<AxesSubplot:xlabel='weekday'>"
      ]
     },
     "execution_count": 23,
     "metadata": {},
     "output_type": "execute_result"
    },
    {
     "data": {
      "image/png": "[encoded data removed]",
      "text/plain": [
       "<Figure size 432x288 with 1 Axes>"
      ]
     },
     "metadata": {
      "needs_background": "light"
     },
     "output_type": "display_data"
    }
   ],
   "source": [
    "by_year_month = pd.pivot_table(bike_v2, values='cnt', index=['weekday'], columns=['season'], aggfunc=np.mean)\n",
    "by_year_month.plot()"
   ]
  },
  {
   "cell_type": "markdown",
   "id": "83ca9e51",
   "metadata": {},
   "source": [
    "##### Observation: During the spring the count of value is very low. compared to other seasons."
   ]
  },
  {
   "cell_type": "markdown",
   "id": "6d811474",
   "metadata": {},
   "source": [
    "### Computing derived variables"
   ]
  },
  {
   "cell_type": "code",
   "execution_count": 24,
   "id": "b87db610",
   "metadata": {},
   "outputs": [],
   "source": [
    "# Deriving \"days since the dataset started\"\n",
    "from datetime import date\n",
    "\n",
    "\n",
    "d0 = date(2017, 12, 31)\n",
    "d1 = date(2018 ,12, 31)\n",
    "d2 = bike_df.dteday\n",
    "\n",
    "#print(bike_df.dteday[0].year)\n",
    "delta = d2.apply(lambda x:x.date()-d0 if x.date().year==2018 else x.date()-d1)\n",
    "bike_v2['day']= delta\n",
    "bike_v2['date'] = bike_df['dteday'].apply(lambda x:x.day)\n"
   ]
  },
  {
   "cell_type": "code",
   "execution_count": 25,
   "id": "bee663a4",
   "metadata": {},
   "outputs": [],
   "source": [
    "# Cleaning days\n",
    "bike_v2['day'] = bike_v2['day'].astype(str)\n",
    "bike_v2['day'] = bike_v2['day'].map(lambda x: x[:-4])\n",
    "bike_v2['day'] = bike_v2['day'].astype(int)"
   ]
  },
  {
   "cell_type": "code",
   "execution_count": 26,
   "id": "d541e5a6",
   "metadata": {},
   "outputs": [
    {
     "data": {
      "text/plain": [
       "<AxesSubplot:title={'center':'Month/Season vs Average Count'}, xlabel='day'>"
      ]
     },
     "execution_count": 26,
     "metadata": {},
     "output_type": "execute_result"
    },
    {
     "data": {
      "image/png": "[encoded data removed]",
      "text/plain": [
       "<Figure size 432x288 with 1 Axes>"
      ]
     },
     "metadata": {
      "needs_background": "light"
     },
     "output_type": "display_data"
    }
   ],
   "source": [
    "by_year_month = pd.pivot_table(bike_v2, values='cnt', index=['day'], columns=['yr'], aggfunc=np.mean)\n",
    "by_year_month.plot(title = \"Month/Season vs Average Count\")"
   ]
  },
  {
   "cell_type": "markdown",
   "id": "c0aed675",
   "metadata": {},
   "source": [
    "##### Observation: This shows year by year there is a trend or some form of seasonality associated with year."
   ]
  },
  {
   "cell_type": "code",
   "execution_count": 27,
   "id": "15e976be",
   "metadata": {},
   "outputs": [],
   "source": [
    "# Drop columns date\n",
    "bike_v2.drop(['dteday'],axis = 1,inplace=True)"
   ]
  },
  {
   "cell_type": "code",
   "execution_count": 28,
   "id": "0434f85d",
   "metadata": {},
   "outputs": [
    {
     "data": {
      "text/html": [
       "<div>\n",
       "<style scoped>\n",
       "    .dataframe tbody tr th:only-of-type {\n",
       "        vertical-align: middle;\n",
       "    }\n",
       "\n",
       "    .dataframe tbody tr th {\n",
       "        vertical-align: top;\n",
       "    }\n",
       "\n",
       "    .dataframe thead th {\n",
       "        text-align: right;\n",
       "    }\n",
       "</style>\n",
       "<table border=\"1\" class=\"dataframe\">\n",
       "  <thead>\n",
       "    <tr style=\"text-align: right;\">\n",
       "      <th></th>\n",
       "      <th>season</th>\n",
       "      <th>yr</th>\n",
       "      <th>mnth</th>\n",
       "      <th>holiday</th>\n",
       "      <th>weekday</th>\n",
       "      <th>workingday</th>\n",
       "      <th>weathersit</th>\n",
       "      <th>atemp</th>\n",
       "      <th>hum</th>\n",
       "      <th>windspeed</th>\n",
       "      <th>cnt</th>\n",
       "      <th>day</th>\n",
       "      <th>date</th>\n",
       "    </tr>\n",
       "  </thead>\n",
       "  <tbody>\n",
       "    <tr>\n",
       "      <th>0</th>\n",
       "      <td>SPRING</td>\n",
       "      <td>YEAR_2018</td>\n",
       "      <td>JAN</td>\n",
       "      <td>0</td>\n",
       "      <td>SAT</td>\n",
       "      <td>0</td>\n",
       "      <td>MIST</td>\n",
       "      <td>18.18125</td>\n",
       "      <td>80.5833</td>\n",
       "      <td>10.749882</td>\n",
       "      <td>985</td>\n",
       "      <td>1</td>\n",
       "      <td>1</td>\n",
       "    </tr>\n",
       "    <tr>\n",
       "      <th>1</th>\n",
       "      <td>SPRING</td>\n",
       "      <td>YEAR_2018</td>\n",
       "      <td>JAN</td>\n",
       "      <td>0</td>\n",
       "      <td>SUN</td>\n",
       "      <td>0</td>\n",
       "      <td>MIST</td>\n",
       "      <td>17.68695</td>\n",
       "      <td>69.6087</td>\n",
       "      <td>16.652113</td>\n",
       "      <td>801</td>\n",
       "      <td>2</td>\n",
       "      <td>2</td>\n",
       "    </tr>\n",
       "    <tr>\n",
       "      <th>2</th>\n",
       "      <td>SPRING</td>\n",
       "      <td>YEAR_2018</td>\n",
       "      <td>JAN</td>\n",
       "      <td>0</td>\n",
       "      <td>MON</td>\n",
       "      <td>1</td>\n",
       "      <td>CLEAR</td>\n",
       "      <td>9.47025</td>\n",
       "      <td>43.7273</td>\n",
       "      <td>16.636703</td>\n",
       "      <td>1349</td>\n",
       "      <td>3</td>\n",
       "      <td>3</td>\n",
       "    </tr>\n",
       "    <tr>\n",
       "      <th>3</th>\n",
       "      <td>SPRING</td>\n",
       "      <td>YEAR_2018</td>\n",
       "      <td>JAN</td>\n",
       "      <td>0</td>\n",
       "      <td>TUE</td>\n",
       "      <td>1</td>\n",
       "      <td>CLEAR</td>\n",
       "      <td>10.60610</td>\n",
       "      <td>59.0435</td>\n",
       "      <td>10.739832</td>\n",
       "      <td>1562</td>\n",
       "      <td>4</td>\n",
       "      <td>4</td>\n",
       "    </tr>\n",
       "    <tr>\n",
       "      <th>4</th>\n",
       "      <td>SPRING</td>\n",
       "      <td>YEAR_2018</td>\n",
       "      <td>JAN</td>\n",
       "      <td>0</td>\n",
       "      <td>WED</td>\n",
       "      <td>1</td>\n",
       "      <td>CLEAR</td>\n",
       "      <td>11.46350</td>\n",
       "      <td>43.6957</td>\n",
       "      <td>12.522300</td>\n",
       "      <td>1600</td>\n",
       "      <td>5</td>\n",
       "      <td>5</td>\n",
       "    </tr>\n",
       "  </tbody>\n",
       "</table>\n",
       "</div>"
      ],
      "text/plain": [
       "   season         yr mnth  holiday weekday  workingday weathersit     atemp  \\\n",
       "0  SPRING  YEAR_2018  JAN        0     SAT           0       MIST  18.18125   \n",
       "1  SPRING  YEAR_2018  JAN        0     SUN           0       MIST  17.68695   \n",
       "2  SPRING  YEAR_2018  JAN        0     MON           1      CLEAR   9.47025   \n",
       "3  SPRING  YEAR_2018  JAN        0     TUE           1      CLEAR  10.60610   \n",
       "4  SPRING  YEAR_2018  JAN        0     WED           1      CLEAR  11.46350   \n",
       "\n",
       "       hum  windspeed   cnt  day  date  \n",
       "0  80.5833  10.749882   985    1     1  \n",
       "1  69.6087  16.652113   801    2     2  \n",
       "2  43.7273  16.636703  1349    3     3  \n",
       "3  59.0435  10.739832  1562    4     4  \n",
       "4  43.6957  12.522300  1600    5     5  "
      ]
     },
     "execution_count": 28,
     "metadata": {},
     "output_type": "execute_result"
    }
   ],
   "source": [
    "bike_v2.head()"
   ]
  },
  {
   "cell_type": "code",
   "execution_count": 29,
   "id": "0922fbef",
   "metadata": {},
   "outputs": [],
   "source": [
    "season = pd.get_dummies(bike_v2['season'],drop_first=True)\n",
    "year = pd.get_dummies(bike_v2['yr'],drop_first=True)\n",
    "month = pd.get_dummies(bike_v2['mnth'],drop_first=True)\n",
    "weekday = pd.get_dummies(bike_v2['weekday'],drop_first=True)\n",
    "weathersit = pd.get_dummies(bike_v2['weathersit'],drop_first=True)"
   ]
  },
  {
   "cell_type": "code",
   "execution_count": 30,
   "id": "fade93a8",
   "metadata": {},
   "outputs": [],
   "source": [
    "bike_v2 = pd.concat([bike_v2,season,month,year,weathersit,weekday],axis=1)\n",
    "bike_v2.drop(['season','mnth','yr','weathersit','weekday','date'],axis = 1,inplace=True)"
   ]
  },
  {
   "cell_type": "markdown",
   "id": "219501f2",
   "metadata": {},
   "source": [
    "## 6. Split the data for training and testing.\n",
    "    The data should be splitted into two dataframes for training and testing. Train part of the data is used to fit the model. Test part of the data should be used to predict the model and validate the assumptions"
   ]
  },
  {
   "cell_type": "code",
   "execution_count": 31,
   "id": "49ff013b",
   "metadata": {},
   "outputs": [],
   "source": [
    "from sklearn.model_selection import train_test_split\n",
    "\n",
    "# We specify this so that the train and test data set always have the same rows, respectively\n",
    "df_train, df_test = train_test_split(bike_v2, train_size = 0.7, test_size = 0.3, random_state = 100)"
   ]
  },
  {
   "cell_type": "markdown",
   "id": "18026af2",
   "metadata": {},
   "source": [
    "## 7. Scale the model for training.\n",
    "    If there is varying scale across the variables it would be difficult to interpret the coffecients at the end.So the model should have scaled data where the variable values lies in the same range. This can be done using minmaxscaler."
   ]
  },
  {
   "cell_type": "code",
   "execution_count": 32,
   "id": "ed33d732",
   "metadata": {},
   "outputs": [
    {
     "data": {
      "text/plain": [
       "Index(['holiday', 'workingday', 'atemp', 'hum', 'windspeed', 'cnt', 'day',\n",
       "       'SPRING', 'SUMMER', 'WINTER', 'AUG', 'DEC', 'FEB', 'JAN', 'JUL', 'JUN',\n",
       "       'MAR', 'MAY', 'NOV', 'OCT', 'SEP', 'YEAR_2019', 'LIGHT_RAIN', 'MIST',\n",
       "       'MON', 'SAT', 'SUN', 'THU', 'TUE', 'WED'],\n",
       "      dtype='object')"
      ]
     },
     "execution_count": 32,
     "metadata": {},
     "output_type": "execute_result"
    }
   ],
   "source": [
    "from sklearn.preprocessing import MinMaxScaler\n",
    "scaler = MinMaxScaler()\n",
    "bike_v2.head()\n",
    "bike_v2.columns"
   ]
  },
  {
   "cell_type": "code",
   "execution_count": 33,
   "id": "47f0f5d6",
   "metadata": {},
   "outputs": [
    {
     "name": "stderr",
     "output_type": "stream",
     "text": [
      "C:\\Users\\idhay\\anaconda3\\lib\\site-packages\\pandas\\core\\indexing.py:1835: SettingWithCopyWarning: \n",
      "A value is trying to be set on a copy of a slice from a DataFrame.\n",
      "Try using .loc[row_indexer,col_indexer] = value instead\n",
      "\n",
      "See the caveats in the documentation: https://pandas.pydata.org/pandas-docs/stable/user_guide/indexing.html#returning-a-view-versus-a-copy\n",
      "  self._setitem_single_column(loc, value[:, i].tolist(), pi)\n"
     ]
    },
    {
     "data": {
      "text/html": [
       "<div>\n",
       "<style scoped>\n",
       "    .dataframe tbody tr th:only-of-type {\n",
       "        vertical-align: middle;\n",
       "    }\n",
       "\n",
       "    .dataframe tbody tr th {\n",
       "        vertical-align: top;\n",
       "    }\n",
       "\n",
       "    .dataframe thead th {\n",
       "        text-align: right;\n",
       "    }\n",
       "</style>\n",
       "<table border=\"1\" class=\"dataframe\">\n",
       "  <thead>\n",
       "    <tr style=\"text-align: right;\">\n",
       "      <th></th>\n",
       "      <th>holiday</th>\n",
       "      <th>workingday</th>\n",
       "      <th>atemp</th>\n",
       "      <th>hum</th>\n",
       "      <th>windspeed</th>\n",
       "      <th>cnt</th>\n",
       "      <th>day</th>\n",
       "      <th>SPRING</th>\n",
       "      <th>SUMMER</th>\n",
       "      <th>WINTER</th>\n",
       "      <th>...</th>\n",
       "      <th>SEP</th>\n",
       "      <th>YEAR_2019</th>\n",
       "      <th>LIGHT_RAIN</th>\n",
       "      <th>MIST</th>\n",
       "      <th>MON</th>\n",
       "      <th>SAT</th>\n",
       "      <th>SUN</th>\n",
       "      <th>THU</th>\n",
       "      <th>TUE</th>\n",
       "      <th>WED</th>\n",
       "    </tr>\n",
       "  </thead>\n",
       "  <tbody>\n",
       "    <tr>\n",
       "      <th>653</th>\n",
       "      <td>0</td>\n",
       "      <td>1</td>\n",
       "      <td>0.501133</td>\n",
       "      <td>0.575354</td>\n",
       "      <td>0.300794</td>\n",
       "      <td>0.864243</td>\n",
       "      <td>289</td>\n",
       "      <td>0</td>\n",
       "      <td>0</td>\n",
       "      <td>1</td>\n",
       "      <td>...</td>\n",
       "      <td>0</td>\n",
       "      <td>1</td>\n",
       "      <td>0</td>\n",
       "      <td>0</td>\n",
       "      <td>0</td>\n",
       "      <td>0</td>\n",
       "      <td>0</td>\n",
       "      <td>0</td>\n",
       "      <td>1</td>\n",
       "      <td>0</td>\n",
       "    </tr>\n",
       "    <tr>\n",
       "      <th>576</th>\n",
       "      <td>0</td>\n",
       "      <td>1</td>\n",
       "      <td>0.766351</td>\n",
       "      <td>0.725633</td>\n",
       "      <td>0.264686</td>\n",
       "      <td>0.827658</td>\n",
       "      <td>212</td>\n",
       "      <td>0</td>\n",
       "      <td>0</td>\n",
       "      <td>0</td>\n",
       "      <td>...</td>\n",
       "      <td>0</td>\n",
       "      <td>1</td>\n",
       "      <td>0</td>\n",
       "      <td>0</td>\n",
       "      <td>0</td>\n",
       "      <td>0</td>\n",
       "      <td>0</td>\n",
       "      <td>0</td>\n",
       "      <td>1</td>\n",
       "      <td>0</td>\n",
       "    </tr>\n",
       "    <tr>\n",
       "      <th>426</th>\n",
       "      <td>0</td>\n",
       "      <td>0</td>\n",
       "      <td>0.438975</td>\n",
       "      <td>0.640189</td>\n",
       "      <td>0.255342</td>\n",
       "      <td>0.465255</td>\n",
       "      <td>62</td>\n",
       "      <td>1</td>\n",
       "      <td>0</td>\n",
       "      <td>0</td>\n",
       "      <td>...</td>\n",
       "      <td>0</td>\n",
       "      <td>1</td>\n",
       "      <td>0</td>\n",
       "      <td>1</td>\n",
       "      <td>0</td>\n",
       "      <td>1</td>\n",
       "      <td>0</td>\n",
       "      <td>0</td>\n",
       "      <td>0</td>\n",
       "      <td>0</td>\n",
       "    </tr>\n",
       "    <tr>\n",
       "      <th>728</th>\n",
       "      <td>0</td>\n",
       "      <td>0</td>\n",
       "      <td>0.200348</td>\n",
       "      <td>0.498067</td>\n",
       "      <td>0.663106</td>\n",
       "      <td>0.204096</td>\n",
       "      <td>364</td>\n",
       "      <td>1</td>\n",
       "      <td>0</td>\n",
       "      <td>0</td>\n",
       "      <td>...</td>\n",
       "      <td>0</td>\n",
       "      <td>1</td>\n",
       "      <td>0</td>\n",
       "      <td>0</td>\n",
       "      <td>0</td>\n",
       "      <td>0</td>\n",
       "      <td>1</td>\n",
       "      <td>0</td>\n",
       "      <td>0</td>\n",
       "      <td>0</td>\n",
       "    </tr>\n",
       "    <tr>\n",
       "      <th>482</th>\n",
       "      <td>0</td>\n",
       "      <td>0</td>\n",
       "      <td>0.391735</td>\n",
       "      <td>0.504508</td>\n",
       "      <td>0.188475</td>\n",
       "      <td>0.482973</td>\n",
       "      <td>118</td>\n",
       "      <td>0</td>\n",
       "      <td>1</td>\n",
       "      <td>0</td>\n",
       "      <td>...</td>\n",
       "      <td>0</td>\n",
       "      <td>1</td>\n",
       "      <td>0</td>\n",
       "      <td>1</td>\n",
       "      <td>0</td>\n",
       "      <td>1</td>\n",
       "      <td>0</td>\n",
       "      <td>0</td>\n",
       "      <td>0</td>\n",
       "      <td>0</td>\n",
       "    </tr>\n",
       "  </tbody>\n",
       "</table>\n",
       "<p>5 rows × 30 columns</p>\n",
       "</div>"
      ],
      "text/plain": [
       "     holiday  workingday     atemp       hum  windspeed       cnt  day  \\\n",
       "653        0           1  0.501133  0.575354   0.300794  0.864243  289   \n",
       "576        0           1  0.766351  0.725633   0.264686  0.827658  212   \n",
       "426        0           0  0.438975  0.640189   0.255342  0.465255   62   \n",
       "728        0           0  0.200348  0.498067   0.663106  0.204096  364   \n",
       "482        0           0  0.391735  0.504508   0.188475  0.482973  118   \n",
       "\n",
       "     SPRING  SUMMER  WINTER  ...  SEP  YEAR_2019  LIGHT_RAIN  MIST  MON  SAT  \\\n",
       "653       0       0       1  ...    0          1           0     0    0    0   \n",
       "576       0       0       0  ...    0          1           0     0    0    0   \n",
       "426       1       0       0  ...    0          1           0     1    0    1   \n",
       "728       1       0       0  ...    0          1           0     0    0    0   \n",
       "482       0       1       0  ...    0          1           0     1    0    1   \n",
       "\n",
       "     SUN  THU  TUE  WED  \n",
       "653    0    0    1    0  \n",
       "576    0    0    1    0  \n",
       "426    0    0    0    0  \n",
       "728    1    0    0    0  \n",
       "482    0    0    0    0  \n",
       "\n",
       "[5 rows x 30 columns]"
      ]
     },
     "execution_count": 33,
     "metadata": {},
     "output_type": "execute_result"
    }
   ],
   "source": [
    "# Apply scaler() to all the columns except the 'yes-no' and 'dummy' variables\n",
    "num_vars = ['atemp', 'hum', 'windspeed','cnt']\n",
    "df_train.loc[:,num_vars] = scaler.fit_transform(df_train.loc[:,num_vars])\n",
    "df_train.head()\n"
   ]
  },
  {
   "cell_type": "code",
   "execution_count": 34,
   "id": "e009b9c1",
   "metadata": {},
   "outputs": [
    {
     "name": "stderr",
     "output_type": "stream",
     "text": [
      "C:\\Users\\idhay\\anaconda3\\lib\\site-packages\\pandas\\core\\frame.py:3678: SettingWithCopyWarning: \n",
      "A value is trying to be set on a copy of a slice from a DataFrame.\n",
      "Try using .loc[row_indexer,col_indexer] = value instead\n",
      "\n",
      "See the caveats in the documentation: https://pandas.pydata.org/pandas-docs/stable/user_guide/indexing.html#returning-a-view-versus-a-copy\n",
      "  self[col] = igetitem(value, i)\n"
     ]
    },
    {
     "data": {
      "text/html": [
       "<div>\n",
       "<style scoped>\n",
       "    .dataframe tbody tr th:only-of-type {\n",
       "        vertical-align: middle;\n",
       "    }\n",
       "\n",
       "    .dataframe tbody tr th {\n",
       "        vertical-align: top;\n",
       "    }\n",
       "\n",
       "    .dataframe thead th {\n",
       "        text-align: right;\n",
       "    }\n",
       "</style>\n",
       "<table border=\"1\" class=\"dataframe\">\n",
       "  <thead>\n",
       "    <tr style=\"text-align: right;\">\n",
       "      <th></th>\n",
       "      <th>holiday</th>\n",
       "      <th>workingday</th>\n",
       "      <th>atemp</th>\n",
       "      <th>hum</th>\n",
       "      <th>windspeed</th>\n",
       "      <th>cnt</th>\n",
       "      <th>day</th>\n",
       "      <th>SPRING</th>\n",
       "      <th>SUMMER</th>\n",
       "      <th>WINTER</th>\n",
       "      <th>...</th>\n",
       "      <th>SEP</th>\n",
       "      <th>YEAR_2019</th>\n",
       "      <th>LIGHT_RAIN</th>\n",
       "      <th>MIST</th>\n",
       "      <th>MON</th>\n",
       "      <th>SAT</th>\n",
       "      <th>SUN</th>\n",
       "      <th>THU</th>\n",
       "      <th>TUE</th>\n",
       "      <th>WED</th>\n",
       "    </tr>\n",
       "  </thead>\n",
       "  <tbody>\n",
       "    <tr>\n",
       "      <th>184</th>\n",
       "      <td>1</td>\n",
       "      <td>0</td>\n",
       "      <td>0.769660</td>\n",
       "      <td>0.657364</td>\n",
       "      <td>0.084219</td>\n",
       "      <td>0.692706</td>\n",
       "      <td>185</td>\n",
       "      <td>0</td>\n",
       "      <td>0</td>\n",
       "      <td>0</td>\n",
       "      <td>...</td>\n",
       "      <td>0</td>\n",
       "      <td>0</td>\n",
       "      <td>0</td>\n",
       "      <td>1</td>\n",
       "      <td>1</td>\n",
       "      <td>0</td>\n",
       "      <td>0</td>\n",
       "      <td>0</td>\n",
       "      <td>0</td>\n",
       "      <td>0</td>\n",
       "    </tr>\n",
       "    <tr>\n",
       "      <th>535</th>\n",
       "      <td>0</td>\n",
       "      <td>1</td>\n",
       "      <td>0.842587</td>\n",
       "      <td>0.610133</td>\n",
       "      <td>0.153728</td>\n",
       "      <td>0.712034</td>\n",
       "      <td>171</td>\n",
       "      <td>0</td>\n",
       "      <td>1</td>\n",
       "      <td>0</td>\n",
       "      <td>...</td>\n",
       "      <td>0</td>\n",
       "      <td>1</td>\n",
       "      <td>0</td>\n",
       "      <td>0</td>\n",
       "      <td>0</td>\n",
       "      <td>0</td>\n",
       "      <td>0</td>\n",
       "      <td>0</td>\n",
       "      <td>0</td>\n",
       "      <td>1</td>\n",
       "    </tr>\n",
       "    <tr>\n",
       "      <th>299</th>\n",
       "      <td>0</td>\n",
       "      <td>1</td>\n",
       "      <td>0.496145</td>\n",
       "      <td>0.837699</td>\n",
       "      <td>0.334206</td>\n",
       "      <td>0.303382</td>\n",
       "      <td>300</td>\n",
       "      <td>0</td>\n",
       "      <td>0</td>\n",
       "      <td>1</td>\n",
       "      <td>...</td>\n",
       "      <td>0</td>\n",
       "      <td>0</td>\n",
       "      <td>0</td>\n",
       "      <td>1</td>\n",
       "      <td>0</td>\n",
       "      <td>0</td>\n",
       "      <td>0</td>\n",
       "      <td>1</td>\n",
       "      <td>0</td>\n",
       "      <td>0</td>\n",
       "    </tr>\n",
       "    <tr>\n",
       "      <th>221</th>\n",
       "      <td>0</td>\n",
       "      <td>1</td>\n",
       "      <td>0.795343</td>\n",
       "      <td>0.437098</td>\n",
       "      <td>0.339570</td>\n",
       "      <td>0.547400</td>\n",
       "      <td>222</td>\n",
       "      <td>0</td>\n",
       "      <td>0</td>\n",
       "      <td>0</td>\n",
       "      <td>...</td>\n",
       "      <td>0</td>\n",
       "      <td>0</td>\n",
       "      <td>0</td>\n",
       "      <td>0</td>\n",
       "      <td>0</td>\n",
       "      <td>0</td>\n",
       "      <td>0</td>\n",
       "      <td>0</td>\n",
       "      <td>0</td>\n",
       "      <td>1</td>\n",
       "    </tr>\n",
       "    <tr>\n",
       "      <th>152</th>\n",
       "      <td>0</td>\n",
       "      <td>1</td>\n",
       "      <td>0.741471</td>\n",
       "      <td>0.314298</td>\n",
       "      <td>0.537414</td>\n",
       "      <td>0.569029</td>\n",
       "      <td>153</td>\n",
       "      <td>0</td>\n",
       "      <td>1</td>\n",
       "      <td>0</td>\n",
       "      <td>...</td>\n",
       "      <td>0</td>\n",
       "      <td>0</td>\n",
       "      <td>0</td>\n",
       "      <td>0</td>\n",
       "      <td>0</td>\n",
       "      <td>0</td>\n",
       "      <td>0</td>\n",
       "      <td>1</td>\n",
       "      <td>0</td>\n",
       "      <td>0</td>\n",
       "    </tr>\n",
       "  </tbody>\n",
       "</table>\n",
       "<p>5 rows × 30 columns</p>\n",
       "</div>"
      ],
      "text/plain": [
       "     holiday  workingday     atemp       hum  windspeed       cnt  day  \\\n",
       "184        1           0  0.769660  0.657364   0.084219  0.692706  185   \n",
       "535        0           1  0.842587  0.610133   0.153728  0.712034  171   \n",
       "299        0           1  0.496145  0.837699   0.334206  0.303382  300   \n",
       "221        0           1  0.795343  0.437098   0.339570  0.547400  222   \n",
       "152        0           1  0.741471  0.314298   0.537414  0.569029  153   \n",
       "\n",
       "     SPRING  SUMMER  WINTER  ...  SEP  YEAR_2019  LIGHT_RAIN  MIST  MON  SAT  \\\n",
       "184       0       0       0  ...    0          0           0     1    1    0   \n",
       "535       0       1       0  ...    0          1           0     0    0    0   \n",
       "299       0       0       1  ...    0          0           0     1    0    0   \n",
       "221       0       0       0  ...    0          0           0     0    0    0   \n",
       "152       0       1       0  ...    0          0           0     0    0    0   \n",
       "\n",
       "     SUN  THU  TUE  WED  \n",
       "184    0    0    0    0  \n",
       "535    0    0    0    1  \n",
       "299    0    1    0    0  \n",
       "221    0    0    0    1  \n",
       "152    0    1    0    0  \n",
       "\n",
       "[5 rows x 30 columns]"
      ]
     },
     "execution_count": 34,
     "metadata": {},
     "output_type": "execute_result"
    }
   ],
   "source": [
    "df_test[num_vars] = scaler.transform(df_test[num_vars])\n",
    "df_test.head()"
   ]
  },
  {
   "cell_type": "code",
   "execution_count": 35,
   "id": "f47cae5c",
   "metadata": {},
   "outputs": [],
   "source": [
    "# Set the output for train dataset\n",
    "y_train = df_train.pop('cnt')\n",
    "X_train = df_train"
   ]
  },
  {
   "cell_type": "code",
   "execution_count": 36,
   "id": "d0110f08",
   "metadata": {},
   "outputs": [],
   "source": [
    "#Set the output for test dataset\n",
    "y_test = df_test.pop('cnt')\n",
    "X_test = df_test"
   ]
  },
  {
   "cell_type": "markdown",
   "id": "2e56de65",
   "metadata": {},
   "source": [
    "## 8. Recursive feature elimination\n",
    "    Since we have close to 60+ columns, it wouldn't make sense to try out all the columns which might result in multicolinearity.To avoid such cases let us go through RFE to select the features which is of significance and then test it out iteratively in our linear model"
   ]
  },
  {
   "cell_type": "code",
   "execution_count": 37,
   "id": "4092bba3",
   "metadata": {},
   "outputs": [],
   "source": [
    "from sklearn.feature_selection import RFE\n",
    "from sklearn.linear_model import LinearRegression"
   ]
  },
  {
   "cell_type": "code",
   "execution_count": 38,
   "id": "3bf849be",
   "metadata": {},
   "outputs": [
    {
     "data": {
      "text/plain": [
       "LinearRegression()"
      ]
     },
     "execution_count": 38,
     "metadata": {},
     "output_type": "execute_result"
    }
   ],
   "source": [
    "lm = LinearRegression()\n",
    "lm.fit(X_train, y_train)"
   ]
  },
  {
   "cell_type": "code",
   "execution_count": 39,
   "id": "156faa33",
   "metadata": {},
   "outputs": [],
   "source": [
    "rfe = RFE(lm, n_features_to_select=15)             # running RFE\n",
    "rfe = rfe.fit(X_train, y_train)"
   ]
  },
  {
   "cell_type": "code",
   "execution_count": 40,
   "id": "e2de098c",
   "metadata": {},
   "outputs": [
    {
     "data": {
      "text/plain": [
       "[('holiday', True, 1),\n",
       " ('workingday', True, 1),\n",
       " ('atemp', True, 1),\n",
       " ('hum', True, 1),\n",
       " ('windspeed', True, 1),\n",
       " ('day', False, 15),\n",
       " ('SPRING', True, 1),\n",
       " ('SUMMER', False, 6),\n",
       " ('WINTER', True, 1),\n",
       " ('AUG', False, 7),\n",
       " ('DEC', False, 3),\n",
       " ('FEB', False, 4),\n",
       " ('JAN', True, 1),\n",
       " ('JUL', True, 1),\n",
       " ('JUN', False, 9),\n",
       " ('MAR', False, 14),\n",
       " ('MAY', False, 5),\n",
       " ('NOV', False, 2),\n",
       " ('OCT', False, 11),\n",
       " ('SEP', True, 1),\n",
       " ('YEAR_2019', True, 1),\n",
       " ('LIGHT_RAIN', True, 1),\n",
       " ('MIST', True, 1),\n",
       " ('MON', False, 8),\n",
       " ('SAT', True, 1),\n",
       " ('SUN', True, 1),\n",
       " ('THU', False, 12),\n",
       " ('TUE', False, 10),\n",
       " ('WED', False, 13)]"
      ]
     },
     "execution_count": 40,
     "metadata": {},
     "output_type": "execute_result"
    }
   ],
   "source": [
    "list(zip(X_train.columns,rfe.support_,rfe.ranking_))"
   ]
  },
  {
   "cell_type": "code",
   "execution_count": 41,
   "id": "6e14dcaa",
   "metadata": {},
   "outputs": [
    {
     "name": "stdout",
     "output_type": "stream",
     "text": [
      "Columns supported by RFE: Index(['holiday', 'workingday', 'atemp', 'hum', 'windspeed', 'SPRING',\n",
      "       'WINTER', 'JAN', 'JUL', 'SEP', 'YEAR_2019', 'LIGHT_RAIN', 'MIST', 'SAT',\n",
      "       'SUN'],\n",
      "      dtype='object')\n"
     ]
    }
   ],
   "source": [
    "print(\"Columns supported by RFE:\",X_train.columns[rfe.support_])"
   ]
  },
  {
   "cell_type": "code",
   "execution_count": 42,
   "id": "8efe9c89",
   "metadata": {},
   "outputs": [
    {
     "name": "stdout",
     "output_type": "stream",
     "text": [
      "Columns NOT supported by RFE: Index(['day', 'SUMMER', 'AUG', 'DEC', 'FEB', 'JUN', 'MAR', 'MAY', 'NOV', 'OCT',\n",
      "       'MON', 'THU', 'TUE', 'WED'],\n",
      "      dtype='object')\n"
     ]
    }
   ],
   "source": [
    "print(\"Columns NOT supported by RFE:\",X_train.columns[~rfe.support_])"
   ]
  },
  {
   "cell_type": "markdown",
   "id": "18910277",
   "metadata": {},
   "source": [
    "## 9. Model selection\n",
    "    Run the models with varying set of parameters to understand its impact and use VIF to understand the inflation factor and remove the variables with high inflation factor."
   ]
  },
  {
   "cell_type": "code",
   "execution_count": 43,
   "id": "0fc38d03",
   "metadata": {},
   "outputs": [
    {
     "name": "stderr",
     "output_type": "stream",
     "text": [
      "C:\\Users\\idhay\\anaconda3\\lib\\site-packages\\statsmodels\\tsa\\tsatools.py:142: FutureWarning: In a future version of pandas all arguments of concat except for the argument 'objs' will be keyword-only\n",
      "  x = pd.concat(x[::order], 1)\n"
     ]
    },
    {
     "data": {
      "text/html": [
       "<div>\n",
       "<style scoped>\n",
       "    .dataframe tbody tr th:only-of-type {\n",
       "        vertical-align: middle;\n",
       "    }\n",
       "\n",
       "    .dataframe tbody tr th {\n",
       "        vertical-align: top;\n",
       "    }\n",
       "\n",
       "    .dataframe thead th {\n",
       "        text-align: right;\n",
       "    }\n",
       "</style>\n",
       "<table border=\"1\" class=\"dataframe\">\n",
       "  <thead>\n",
       "    <tr style=\"text-align: right;\">\n",
       "      <th></th>\n",
       "      <th>const</th>\n",
       "      <th>holiday</th>\n",
       "      <th>workingday</th>\n",
       "      <th>atemp</th>\n",
       "      <th>hum</th>\n",
       "      <th>windspeed</th>\n",
       "      <th>day</th>\n",
       "      <th>SPRING</th>\n",
       "      <th>SUMMER</th>\n",
       "      <th>WINTER</th>\n",
       "      <th>...</th>\n",
       "      <th>SEP</th>\n",
       "      <th>YEAR_2019</th>\n",
       "      <th>LIGHT_RAIN</th>\n",
       "      <th>MIST</th>\n",
       "      <th>MON</th>\n",
       "      <th>SAT</th>\n",
       "      <th>SUN</th>\n",
       "      <th>THU</th>\n",
       "      <th>TUE</th>\n",
       "      <th>WED</th>\n",
       "    </tr>\n",
       "  </thead>\n",
       "  <tbody>\n",
       "    <tr>\n",
       "      <th>653</th>\n",
       "      <td>1.0</td>\n",
       "      <td>0</td>\n",
       "      <td>1</td>\n",
       "      <td>0.501133</td>\n",
       "      <td>0.575354</td>\n",
       "      <td>0.300794</td>\n",
       "      <td>289</td>\n",
       "      <td>0</td>\n",
       "      <td>0</td>\n",
       "      <td>1</td>\n",
       "      <td>...</td>\n",
       "      <td>0</td>\n",
       "      <td>1</td>\n",
       "      <td>0</td>\n",
       "      <td>0</td>\n",
       "      <td>0</td>\n",
       "      <td>0</td>\n",
       "      <td>0</td>\n",
       "      <td>0</td>\n",
       "      <td>1</td>\n",
       "      <td>0</td>\n",
       "    </tr>\n",
       "    <tr>\n",
       "      <th>576</th>\n",
       "      <td>1.0</td>\n",
       "      <td>0</td>\n",
       "      <td>1</td>\n",
       "      <td>0.766351</td>\n",
       "      <td>0.725633</td>\n",
       "      <td>0.264686</td>\n",
       "      <td>212</td>\n",
       "      <td>0</td>\n",
       "      <td>0</td>\n",
       "      <td>0</td>\n",
       "      <td>...</td>\n",
       "      <td>0</td>\n",
       "      <td>1</td>\n",
       "      <td>0</td>\n",
       "      <td>0</td>\n",
       "      <td>0</td>\n",
       "      <td>0</td>\n",
       "      <td>0</td>\n",
       "      <td>0</td>\n",
       "      <td>1</td>\n",
       "      <td>0</td>\n",
       "    </tr>\n",
       "    <tr>\n",
       "      <th>426</th>\n",
       "      <td>1.0</td>\n",
       "      <td>0</td>\n",
       "      <td>0</td>\n",
       "      <td>0.438975</td>\n",
       "      <td>0.640189</td>\n",
       "      <td>0.255342</td>\n",
       "      <td>62</td>\n",
       "      <td>1</td>\n",
       "      <td>0</td>\n",
       "      <td>0</td>\n",
       "      <td>...</td>\n",
       "      <td>0</td>\n",
       "      <td>1</td>\n",
       "      <td>0</td>\n",
       "      <td>1</td>\n",
       "      <td>0</td>\n",
       "      <td>1</td>\n",
       "      <td>0</td>\n",
       "      <td>0</td>\n",
       "      <td>0</td>\n",
       "      <td>0</td>\n",
       "    </tr>\n",
       "    <tr>\n",
       "      <th>728</th>\n",
       "      <td>1.0</td>\n",
       "      <td>0</td>\n",
       "      <td>0</td>\n",
       "      <td>0.200348</td>\n",
       "      <td>0.498067</td>\n",
       "      <td>0.663106</td>\n",
       "      <td>364</td>\n",
       "      <td>1</td>\n",
       "      <td>0</td>\n",
       "      <td>0</td>\n",
       "      <td>...</td>\n",
       "      <td>0</td>\n",
       "      <td>1</td>\n",
       "      <td>0</td>\n",
       "      <td>0</td>\n",
       "      <td>0</td>\n",
       "      <td>0</td>\n",
       "      <td>1</td>\n",
       "      <td>0</td>\n",
       "      <td>0</td>\n",
       "      <td>0</td>\n",
       "    </tr>\n",
       "    <tr>\n",
       "      <th>482</th>\n",
       "      <td>1.0</td>\n",
       "      <td>0</td>\n",
       "      <td>0</td>\n",
       "      <td>0.391735</td>\n",
       "      <td>0.504508</td>\n",
       "      <td>0.188475</td>\n",
       "      <td>118</td>\n",
       "      <td>0</td>\n",
       "      <td>1</td>\n",
       "      <td>0</td>\n",
       "      <td>...</td>\n",
       "      <td>0</td>\n",
       "      <td>1</td>\n",
       "      <td>0</td>\n",
       "      <td>1</td>\n",
       "      <td>0</td>\n",
       "      <td>1</td>\n",
       "      <td>0</td>\n",
       "      <td>0</td>\n",
       "      <td>0</td>\n",
       "      <td>0</td>\n",
       "    </tr>\n",
       "  </tbody>\n",
       "</table>\n",
       "<p>5 rows × 30 columns</p>\n",
       "</div>"
      ],
      "text/plain": [
       "     const  holiday  workingday     atemp       hum  windspeed  day  SPRING  \\\n",
       "653    1.0        0           1  0.501133  0.575354   0.300794  289       0   \n",
       "576    1.0        0           1  0.766351  0.725633   0.264686  212       0   \n",
       "426    1.0        0           0  0.438975  0.640189   0.255342   62       1   \n",
       "728    1.0        0           0  0.200348  0.498067   0.663106  364       1   \n",
       "482    1.0        0           0  0.391735  0.504508   0.188475  118       0   \n",
       "\n",
       "     SUMMER  WINTER  ...  SEP  YEAR_2019  LIGHT_RAIN  MIST  MON  SAT  SUN  \\\n",
       "653       0       1  ...    0          1           0     0    0    0    0   \n",
       "576       0       0  ...    0          1           0     0    0    0    0   \n",
       "426       0       0  ...    0          1           0     1    0    1    0   \n",
       "728       0       0  ...    0          1           0     0    0    0    1   \n",
       "482       1       0  ...    0          1           0     1    0    1    0   \n",
       "\n",
       "     THU  TUE  WED  \n",
       "653    0    1    0  \n",
       "576    0    1    0  \n",
       "426    0    0    0  \n",
       "728    0    0    0  \n",
       "482    0    0    0  \n",
       "\n",
       "[5 rows x 30 columns]"
      ]
     },
     "execution_count": 43,
     "metadata": {},
     "output_type": "execute_result"
    }
   ],
   "source": [
    "import statsmodels.api as sm  \n",
    "X_train_rfe= sm.add_constant(X_train)\n",
    "X_train_rfe.head()"
   ]
  },
  {
   "cell_type": "markdown",
   "id": "3fd24dec",
   "metadata": {},
   "source": [
    "#### Model 1:\n",
    "    Parameters Addition : atemp and holiday, \n",
    "    Reasoning : As atemp is linearly correlated with count and holiday is supported by RFE"
   ]
  },
  {
   "cell_type": "code",
   "execution_count": 44,
   "id": "c7e7727c",
   "metadata": {},
   "outputs": [
    {
     "data": {
      "text/html": [
       "<table class=\"simpletable\">\n",
       "<caption>OLS Regression Results</caption>\n",
       "<tr>\n",
       "  <th>Dep. Variable:</th>           <td>cnt</td>       <th>  R-squared:         </th> <td>   0.420</td>\n",
       "</tr>\n",
       "<tr>\n",
       "  <th>Model:</th>                   <td>OLS</td>       <th>  Adj. R-squared:    </th> <td>   0.418</td>\n",
       "</tr>\n",
       "<tr>\n",
       "  <th>Method:</th>             <td>Least Squares</td>  <th>  F-statistic:       </th> <td>   183.9</td>\n",
       "</tr>\n",
       "<tr>\n",
       "  <th>Date:</th>             <td>Wed, 12 Jan 2022</td> <th>  Prob (F-statistic):</th> <td>8.70e-61</td>\n",
       "</tr>\n",
       "<tr>\n",
       "  <th>Time:</th>                 <td>21:25:31</td>     <th>  Log-Likelihood:    </th> <td>  177.62</td>\n",
       "</tr>\n",
       "<tr>\n",
       "  <th>No. Observations:</th>      <td>   510</td>      <th>  AIC:               </th> <td>  -349.2</td>\n",
       "</tr>\n",
       "<tr>\n",
       "  <th>Df Residuals:</th>          <td>   507</td>      <th>  BIC:               </th> <td>  -336.5</td>\n",
       "</tr>\n",
       "<tr>\n",
       "  <th>Df Model:</th>              <td>     2</td>      <th>                     </th>     <td> </td>   \n",
       "</tr>\n",
       "<tr>\n",
       "  <th>Covariance Type:</th>      <td>nonrobust</td>    <th>                     </th>     <td> </td>   \n",
       "</tr>\n",
       "</table>\n",
       "<table class=\"simpletable\">\n",
       "<tr>\n",
       "     <td></td>        <th>coef</th>     <th>std err</th>      <th>t</th>      <th>P>|t|</th>  <th>[0.025</th>    <th>0.975]</th>  \n",
       "</tr>\n",
       "<tr>\n",
       "  <th>const</th>   <td>    0.1667</td> <td>    0.020</td> <td>    8.331</td> <td> 0.000</td> <td>    0.127</td> <td>    0.206</td>\n",
       "</tr>\n",
       "<tr>\n",
       "  <th>holiday</th> <td>   -0.0720</td> <td>    0.048</td> <td>   -1.491</td> <td> 0.137</td> <td>   -0.167</td> <td>    0.023</td>\n",
       "</tr>\n",
       "<tr>\n",
       "  <th>atemp</th>   <td>    0.6799</td> <td>    0.036</td> <td>   18.968</td> <td> 0.000</td> <td>    0.609</td> <td>    0.750</td>\n",
       "</tr>\n",
       "</table>\n",
       "<table class=\"simpletable\">\n",
       "<tr>\n",
       "  <th>Omnibus:</th>       <td> 3.265</td> <th>  Durbin-Watson:     </th> <td>   2.085</td>\n",
       "</tr>\n",
       "<tr>\n",
       "  <th>Prob(Omnibus):</th> <td> 0.195</td> <th>  Jarque-Bera (JB):  </th> <td>   2.781</td>\n",
       "</tr>\n",
       "<tr>\n",
       "  <th>Skew:</th>          <td> 0.085</td> <th>  Prob(JB):          </th> <td>   0.249</td>\n",
       "</tr>\n",
       "<tr>\n",
       "  <th>Kurtosis:</th>      <td> 2.680</td> <th>  Cond. No.          </th> <td>    7.24</td>\n",
       "</tr>\n",
       "</table><br/><br/>Notes:<br/>[1] Standard Errors assume that the covariance matrix of the errors is correctly specified."
      ],
      "text/plain": [
       "<class 'statsmodels.iolib.summary.Summary'>\n",
       "\"\"\"\n",
       "                            OLS Regression Results                            \n",
       "==============================================================================\n",
       "Dep. Variable:                    cnt   R-squared:                       0.420\n",
       "Model:                            OLS   Adj. R-squared:                  0.418\n",
       "Method:                 Least Squares   F-statistic:                     183.9\n",
       "Date:                Wed, 12 Jan 2022   Prob (F-statistic):           8.70e-61\n",
       "Time:                        21:25:31   Log-Likelihood:                 177.62\n",
       "No. Observations:                 510   AIC:                            -349.2\n",
       "Df Residuals:                     507   BIC:                            -336.5\n",
       "Df Model:                           2                                         \n",
       "Covariance Type:            nonrobust                                         \n",
       "==============================================================================\n",
       "                 coef    std err          t      P>|t|      [0.025      0.975]\n",
       "------------------------------------------------------------------------------\n",
       "const          0.1667      0.020      8.331      0.000       0.127       0.206\n",
       "holiday       -0.0720      0.048     -1.491      0.137      -0.167       0.023\n",
       "atemp          0.6799      0.036     18.968      0.000       0.609       0.750\n",
       "==============================================================================\n",
       "Omnibus:                        3.265   Durbin-Watson:                   2.085\n",
       "Prob(Omnibus):                  0.195   Jarque-Bera (JB):                2.781\n",
       "Skew:                           0.085   Prob(JB):                        0.249\n",
       "Kurtosis:                       2.680   Cond. No.                         7.24\n",
       "==============================================================================\n",
       "\n",
       "Notes:\n",
       "[1] Standard Errors assume that the covariance matrix of the errors is correctly specified.\n",
       "\"\"\""
      ]
     },
     "execution_count": 44,
     "metadata": {},
     "output_type": "execute_result"
    }
   ],
   "source": [
    "lm1 = sm.OLS(y_train,X_train_rfe[['const','holiday', 'atemp']]).fit()\n",
    "lm1.summary()"
   ]
  },
  {
   "cell_type": "markdown",
   "id": "4e2ae410",
   "metadata": {},
   "source": [
    "#### Model 2\n",
    "    Parameters Addition : hum,windspeed\n",
    "    Parameters Removal : holiday\n",
    "    Reasoning : workingday is the next attribute used for evalution. Holiday is removed as it has low significance as indicated by the high p value."
   ]
  },
  {
   "cell_type": "code",
   "execution_count": 45,
   "id": "1cbbd7c2",
   "metadata": {},
   "outputs": [
    {
     "data": {
      "text/html": [
       "<table class=\"simpletable\">\n",
       "<caption>OLS Regression Results</caption>\n",
       "<tr>\n",
       "  <th>Dep. Variable:</th>           <td>cnt</td>       <th>  R-squared:         </th> <td>   0.474</td>\n",
       "</tr>\n",
       "<tr>\n",
       "  <th>Model:</th>                   <td>OLS</td>       <th>  Adj. R-squared:    </th> <td>   0.471</td>\n",
       "</tr>\n",
       "<tr>\n",
       "  <th>Method:</th>             <td>Least Squares</td>  <th>  F-statistic:       </th> <td>   152.1</td>\n",
       "</tr>\n",
       "<tr>\n",
       "  <th>Date:</th>             <td>Wed, 12 Jan 2022</td> <th>  Prob (F-statistic):</th> <td>2.90e-70</td>\n",
       "</tr>\n",
       "<tr>\n",
       "  <th>Time:</th>                 <td>21:25:31</td>     <th>  Log-Likelihood:    </th> <td>  202.43</td>\n",
       "</tr>\n",
       "<tr>\n",
       "  <th>No. Observations:</th>      <td>   510</td>      <th>  AIC:               </th> <td>  -396.9</td>\n",
       "</tr>\n",
       "<tr>\n",
       "  <th>Df Residuals:</th>          <td>   506</td>      <th>  BIC:               </th> <td>  -379.9</td>\n",
       "</tr>\n",
       "<tr>\n",
       "  <th>Df Model:</th>              <td>     3</td>      <th>                     </th>     <td> </td>   \n",
       "</tr>\n",
       "<tr>\n",
       "  <th>Covariance Type:</th>      <td>nonrobust</td>    <th>                     </th>     <td> </td>   \n",
       "</tr>\n",
       "</table>\n",
       "<table class=\"simpletable\">\n",
       "<tr>\n",
       "      <td></td>         <th>coef</th>     <th>std err</th>      <th>t</th>      <th>P>|t|</th>  <th>[0.025</th>    <th>0.975]</th>  \n",
       "</tr>\n",
       "<tr>\n",
       "  <th>const</th>     <td>    0.4520</td> <td>    0.044</td> <td>   10.357</td> <td> 0.000</td> <td>    0.366</td> <td>    0.538</td>\n",
       "</tr>\n",
       "<tr>\n",
       "  <th>hum</th>       <td>   -0.3316</td> <td>    0.052</td> <td>   -6.394</td> <td> 0.000</td> <td>   -0.434</td> <td>   -0.230</td>\n",
       "</tr>\n",
       "<tr>\n",
       "  <th>windspeed</th> <td>   -0.2278</td> <td>    0.045</td> <td>   -5.066</td> <td> 0.000</td> <td>   -0.316</td> <td>   -0.139</td>\n",
       "</tr>\n",
       "<tr>\n",
       "  <th>atemp</th>     <td>    0.6830</td> <td>    0.035</td> <td>   19.428</td> <td> 0.000</td> <td>    0.614</td> <td>    0.752</td>\n",
       "</tr>\n",
       "</table>\n",
       "<table class=\"simpletable\">\n",
       "<tr>\n",
       "  <th>Omnibus:</th>       <td> 1.351</td> <th>  Durbin-Watson:     </th> <td>   2.073</td>\n",
       "</tr>\n",
       "<tr>\n",
       "  <th>Prob(Omnibus):</th> <td> 0.509</td> <th>  Jarque-Bera (JB):  </th> <td>   1.435</td>\n",
       "</tr>\n",
       "<tr>\n",
       "  <th>Skew:</th>          <td> 0.097</td> <th>  Prob(JB):          </th> <td>   0.488</td>\n",
       "</tr>\n",
       "<tr>\n",
       "  <th>Kurtosis:</th>      <td> 2.827</td> <th>  Cond. No.          </th> <td>    12.7</td>\n",
       "</tr>\n",
       "</table><br/><br/>Notes:<br/>[1] Standard Errors assume that the covariance matrix of the errors is correctly specified."
      ],
      "text/plain": [
       "<class 'statsmodels.iolib.summary.Summary'>\n",
       "\"\"\"\n",
       "                            OLS Regression Results                            \n",
       "==============================================================================\n",
       "Dep. Variable:                    cnt   R-squared:                       0.474\n",
       "Model:                            OLS   Adj. R-squared:                  0.471\n",
       "Method:                 Least Squares   F-statistic:                     152.1\n",
       "Date:                Wed, 12 Jan 2022   Prob (F-statistic):           2.90e-70\n",
       "Time:                        21:25:31   Log-Likelihood:                 202.43\n",
       "No. Observations:                 510   AIC:                            -396.9\n",
       "Df Residuals:                     506   BIC:                            -379.9\n",
       "Df Model:                           3                                         \n",
       "Covariance Type:            nonrobust                                         \n",
       "==============================================================================\n",
       "                 coef    std err          t      P>|t|      [0.025      0.975]\n",
       "------------------------------------------------------------------------------\n",
       "const          0.4520      0.044     10.357      0.000       0.366       0.538\n",
       "hum           -0.3316      0.052     -6.394      0.000      -0.434      -0.230\n",
       "windspeed     -0.2278      0.045     -5.066      0.000      -0.316      -0.139\n",
       "atemp          0.6830      0.035     19.428      0.000       0.614       0.752\n",
       "==============================================================================\n",
       "Omnibus:                        1.351   Durbin-Watson:                   2.073\n",
       "Prob(Omnibus):                  0.509   Jarque-Bera (JB):                1.435\n",
       "Skew:                           0.097   Prob(JB):                        0.488\n",
       "Kurtosis:                       2.827   Cond. No.                         12.7\n",
       "==============================================================================\n",
       "\n",
       "Notes:\n",
       "[1] Standard Errors assume that the covariance matrix of the errors is correctly specified.\n",
       "\"\"\""
      ]
     },
     "execution_count": 45,
     "metadata": {},
     "output_type": "execute_result"
    }
   ],
   "source": [
    "lm2 = sm.OLS(y_train,X_train_rfe[['const','hum','windspeed','atemp']]).fit()   \n",
    "lm2.summary()"
   ]
  },
  {
   "cell_type": "markdown",
   "id": "3b7d091a",
   "metadata": {},
   "source": [
    "#### Model 3\n",
    "    Parameters Addition : YEAR_2019\n",
    "    Parameters Removal : None\n",
    "    Reasoning : Lets start from biggest periodicity and reduce it further. "
   ]
  },
  {
   "cell_type": "code",
   "execution_count": 46,
   "id": "130ec374",
   "metadata": {},
   "outputs": [
    {
     "data": {
      "text/html": [
       "<table class=\"simpletable\">\n",
       "<caption>OLS Regression Results</caption>\n",
       "<tr>\n",
       "  <th>Dep. Variable:</th>           <td>cnt</td>       <th>  R-squared:         </th> <td>   0.736</td> \n",
       "</tr>\n",
       "<tr>\n",
       "  <th>Model:</th>                   <td>OLS</td>       <th>  Adj. R-squared:    </th> <td>   0.734</td> \n",
       "</tr>\n",
       "<tr>\n",
       "  <th>Method:</th>             <td>Least Squares</td>  <th>  F-statistic:       </th> <td>   351.3</td> \n",
       "</tr>\n",
       "<tr>\n",
       "  <th>Date:</th>             <td>Wed, 12 Jan 2022</td> <th>  Prob (F-statistic):</th> <td>2.38e-144</td>\n",
       "</tr>\n",
       "<tr>\n",
       "  <th>Time:</th>                 <td>21:25:31</td>     <th>  Log-Likelihood:    </th> <td>  377.77</td> \n",
       "</tr>\n",
       "<tr>\n",
       "  <th>No. Observations:</th>      <td>   510</td>      <th>  AIC:               </th> <td>  -745.5</td> \n",
       "</tr>\n",
       "<tr>\n",
       "  <th>Df Residuals:</th>          <td>   505</td>      <th>  BIC:               </th> <td>  -724.4</td> \n",
       "</tr>\n",
       "<tr>\n",
       "  <th>Df Model:</th>              <td>     4</td>      <th>                     </th>     <td> </td>    \n",
       "</tr>\n",
       "<tr>\n",
       "  <th>Covariance Type:</th>      <td>nonrobust</td>    <th>                     </th>     <td> </td>    \n",
       "</tr>\n",
       "</table>\n",
       "<table class=\"simpletable\">\n",
       "<tr>\n",
       "      <td></td>         <th>coef</th>     <th>std err</th>      <th>t</th>      <th>P>|t|</th>  <th>[0.025</th>    <th>0.975]</th>  \n",
       "</tr>\n",
       "<tr>\n",
       "  <th>const</th>     <td>    0.3125</td> <td>    0.032</td> <td>    9.890</td> <td> 0.000</td> <td>    0.250</td> <td>    0.375</td>\n",
       "</tr>\n",
       "<tr>\n",
       "  <th>hum</th>       <td>   -0.2471</td> <td>    0.037</td> <td>   -6.677</td> <td> 0.000</td> <td>   -0.320</td> <td>   -0.174</td>\n",
       "</tr>\n",
       "<tr>\n",
       "  <th>windspeed</th> <td>   -0.2256</td> <td>    0.032</td> <td>   -7.067</td> <td> 0.000</td> <td>   -0.288</td> <td>   -0.163</td>\n",
       "</tr>\n",
       "<tr>\n",
       "  <th>atemp</th>     <td>    0.6166</td> <td>    0.025</td> <td>   24.537</td> <td> 0.000</td> <td>    0.567</td> <td>    0.666</td>\n",
       "</tr>\n",
       "<tr>\n",
       "  <th>YEAR_2019</th> <td>    0.2320</td> <td>    0.010</td> <td>   22.348</td> <td> 0.000</td> <td>    0.212</td> <td>    0.252</td>\n",
       "</tr>\n",
       "</table>\n",
       "<table class=\"simpletable\">\n",
       "<tr>\n",
       "  <th>Omnibus:</th>       <td>25.229</td> <th>  Durbin-Watson:     </th> <td>   2.037</td>\n",
       "</tr>\n",
       "<tr>\n",
       "  <th>Prob(Omnibus):</th> <td> 0.000</td> <th>  Jarque-Bera (JB):  </th> <td>  34.565</td>\n",
       "</tr>\n",
       "<tr>\n",
       "  <th>Skew:</th>          <td>-0.421</td> <th>  Prob(JB):          </th> <td>3.12e-08</td>\n",
       "</tr>\n",
       "<tr>\n",
       "  <th>Kurtosis:</th>      <td> 3.959</td> <th>  Cond. No.          </th> <td>    13.8</td>\n",
       "</tr>\n",
       "</table><br/><br/>Notes:<br/>[1] Standard Errors assume that the covariance matrix of the errors is correctly specified."
      ],
      "text/plain": [
       "<class 'statsmodels.iolib.summary.Summary'>\n",
       "\"\"\"\n",
       "                            OLS Regression Results                            \n",
       "==============================================================================\n",
       "Dep. Variable:                    cnt   R-squared:                       0.736\n",
       "Model:                            OLS   Adj. R-squared:                  0.734\n",
       "Method:                 Least Squares   F-statistic:                     351.3\n",
       "Date:                Wed, 12 Jan 2022   Prob (F-statistic):          2.38e-144\n",
       "Time:                        21:25:31   Log-Likelihood:                 377.77\n",
       "No. Observations:                 510   AIC:                            -745.5\n",
       "Df Residuals:                     505   BIC:                            -724.4\n",
       "Df Model:                           4                                         \n",
       "Covariance Type:            nonrobust                                         \n",
       "==============================================================================\n",
       "                 coef    std err          t      P>|t|      [0.025      0.975]\n",
       "------------------------------------------------------------------------------\n",
       "const          0.3125      0.032      9.890      0.000       0.250       0.375\n",
       "hum           -0.2471      0.037     -6.677      0.000      -0.320      -0.174\n",
       "windspeed     -0.2256      0.032     -7.067      0.000      -0.288      -0.163\n",
       "atemp          0.6166      0.025     24.537      0.000       0.567       0.666\n",
       "YEAR_2019      0.2320      0.010     22.348      0.000       0.212       0.252\n",
       "==============================================================================\n",
       "Omnibus:                       25.229   Durbin-Watson:                   2.037\n",
       "Prob(Omnibus):                  0.000   Jarque-Bera (JB):               34.565\n",
       "Skew:                          -0.421   Prob(JB):                     3.12e-08\n",
       "Kurtosis:                       3.959   Cond. No.                         13.8\n",
       "==============================================================================\n",
       "\n",
       "Notes:\n",
       "[1] Standard Errors assume that the covariance matrix of the errors is correctly specified.\n",
       "\"\"\""
      ]
     },
     "execution_count": 46,
     "metadata": {},
     "output_type": "execute_result"
    }
   ],
   "source": [
    "lm3 = sm.OLS(y_train,X_train_rfe[['const','hum','windspeed','atemp','YEAR_2019']]).fit()\n",
    "lm3.summary()"
   ]
  },
  {
   "cell_type": "markdown",
   "id": "11f1c7aa",
   "metadata": {},
   "source": [
    "#### Model 4\n",
    "    Parameters Addition : SPRING,WINTER\n",
    "    Parameters Removal : None\n",
    "    Reasoning : seasons is the next attribute used for evalution. "
   ]
  },
  {
   "cell_type": "code",
   "execution_count": 47,
   "id": "6739cc97",
   "metadata": {},
   "outputs": [
    {
     "data": {
      "text/html": [
       "<table class=\"simpletable\">\n",
       "<caption>OLS Regression Results</caption>\n",
       "<tr>\n",
       "  <th>Dep. Variable:</th>           <td>cnt</td>       <th>  R-squared:         </th> <td>   0.791</td> \n",
       "</tr>\n",
       "<tr>\n",
       "  <th>Model:</th>                   <td>OLS</td>       <th>  Adj. R-squared:    </th> <td>   0.788</td> \n",
       "</tr>\n",
       "<tr>\n",
       "  <th>Method:</th>             <td>Least Squares</td>  <th>  F-statistic:       </th> <td>   317.1</td> \n",
       "</tr>\n",
       "<tr>\n",
       "  <th>Date:</th>             <td>Wed, 12 Jan 2022</td> <th>  Prob (F-statistic):</th> <td>2.33e-167</td>\n",
       "</tr>\n",
       "<tr>\n",
       "  <th>Time:</th>                 <td>21:25:31</td>     <th>  Log-Likelihood:    </th> <td>  437.58</td> \n",
       "</tr>\n",
       "<tr>\n",
       "  <th>No. Observations:</th>      <td>   510</td>      <th>  AIC:               </th> <td>  -861.2</td> \n",
       "</tr>\n",
       "<tr>\n",
       "  <th>Df Residuals:</th>          <td>   503</td>      <th>  BIC:               </th> <td>  -831.5</td> \n",
       "</tr>\n",
       "<tr>\n",
       "  <th>Df Model:</th>              <td>     6</td>      <th>                     </th>     <td> </td>    \n",
       "</tr>\n",
       "<tr>\n",
       "  <th>Covariance Type:</th>      <td>nonrobust</td>    <th>                     </th>     <td> </td>    \n",
       "</tr>\n",
       "</table>\n",
       "<table class=\"simpletable\">\n",
       "<tr>\n",
       "      <td></td>         <th>coef</th>     <th>std err</th>      <th>t</th>      <th>P>|t|</th>  <th>[0.025</th>    <th>0.975]</th>  \n",
       "</tr>\n",
       "<tr>\n",
       "  <th>const</th>     <td>    0.4159</td> <td>    0.034</td> <td>   12.317</td> <td> 0.000</td> <td>    0.350</td> <td>    0.482</td>\n",
       "</tr>\n",
       "<tr>\n",
       "  <th>atemp</th>     <td>    0.5066</td> <td>    0.034</td> <td>   15.104</td> <td> 0.000</td> <td>    0.441</td> <td>    0.572</td>\n",
       "</tr>\n",
       "<tr>\n",
       "  <th>hum</th>       <td>   -0.3059</td> <td>    0.034</td> <td>   -9.109</td> <td> 0.000</td> <td>   -0.372</td> <td>   -0.240</td>\n",
       "</tr>\n",
       "<tr>\n",
       "  <th>windspeed</th> <td>   -0.2051</td> <td>    0.029</td> <td>   -7.175</td> <td> 0.000</td> <td>   -0.261</td> <td>   -0.149</td>\n",
       "</tr>\n",
       "<tr>\n",
       "  <th>YEAR_2019</th> <td>    0.2328</td> <td>    0.009</td> <td>   25.137</td> <td> 0.000</td> <td>    0.215</td> <td>    0.251</td>\n",
       "</tr>\n",
       "<tr>\n",
       "  <th>SPRING</th>    <td>   -0.1144</td> <td>    0.017</td> <td>   -6.858</td> <td> 0.000</td> <td>   -0.147</td> <td>   -0.082</td>\n",
       "</tr>\n",
       "<tr>\n",
       "  <th>WINTER</th>    <td>    0.0489</td> <td>    0.014</td> <td>    3.576</td> <td> 0.000</td> <td>    0.022</td> <td>    0.076</td>\n",
       "</tr>\n",
       "</table>\n",
       "<table class=\"simpletable\">\n",
       "<tr>\n",
       "  <th>Omnibus:</th>       <td>90.317</td> <th>  Durbin-Watson:     </th> <td>   2.008</td>\n",
       "</tr>\n",
       "<tr>\n",
       "  <th>Prob(Omnibus):</th> <td> 0.000</td> <th>  Jarque-Bera (JB):  </th> <td> 249.776</td>\n",
       "</tr>\n",
       "<tr>\n",
       "  <th>Skew:</th>          <td>-0.861</td> <th>  Prob(JB):          </th> <td>5.78e-55</td>\n",
       "</tr>\n",
       "<tr>\n",
       "  <th>Kurtosis:</th>      <td> 5.965</td> <th>  Cond. No.          </th> <td>    15.8</td>\n",
       "</tr>\n",
       "</table><br/><br/>Notes:<br/>[1] Standard Errors assume that the covariance matrix of the errors is correctly specified."
      ],
      "text/plain": [
       "<class 'statsmodels.iolib.summary.Summary'>\n",
       "\"\"\"\n",
       "                            OLS Regression Results                            \n",
       "==============================================================================\n",
       "Dep. Variable:                    cnt   R-squared:                       0.791\n",
       "Model:                            OLS   Adj. R-squared:                  0.788\n",
       "Method:                 Least Squares   F-statistic:                     317.1\n",
       "Date:                Wed, 12 Jan 2022   Prob (F-statistic):          2.33e-167\n",
       "Time:                        21:25:31   Log-Likelihood:                 437.58\n",
       "No. Observations:                 510   AIC:                            -861.2\n",
       "Df Residuals:                     503   BIC:                            -831.5\n",
       "Df Model:                           6                                         \n",
       "Covariance Type:            nonrobust                                         \n",
       "==============================================================================\n",
       "                 coef    std err          t      P>|t|      [0.025      0.975]\n",
       "------------------------------------------------------------------------------\n",
       "const          0.4159      0.034     12.317      0.000       0.350       0.482\n",
       "atemp          0.5066      0.034     15.104      0.000       0.441       0.572\n",
       "hum           -0.3059      0.034     -9.109      0.000      -0.372      -0.240\n",
       "windspeed     -0.2051      0.029     -7.175      0.000      -0.261      -0.149\n",
       "YEAR_2019      0.2328      0.009     25.137      0.000       0.215       0.251\n",
       "SPRING        -0.1144      0.017     -6.858      0.000      -0.147      -0.082\n",
       "WINTER         0.0489      0.014      3.576      0.000       0.022       0.076\n",
       "==============================================================================\n",
       "Omnibus:                       90.317   Durbin-Watson:                   2.008\n",
       "Prob(Omnibus):                  0.000   Jarque-Bera (JB):              249.776\n",
       "Skew:                          -0.861   Prob(JB):                     5.78e-55\n",
       "Kurtosis:                       5.965   Cond. No.                         15.8\n",
       "==============================================================================\n",
       "\n",
       "Notes:\n",
       "[1] Standard Errors assume that the covariance matrix of the errors is correctly specified.\n",
       "\"\"\""
      ]
     },
     "execution_count": 47,
     "metadata": {},
     "output_type": "execute_result"
    }
   ],
   "source": [
    "lm4 = sm.OLS(y_train,X_train_rfe[['const','atemp', 'hum', 'windspeed','YEAR_2019','SPRING','WINTER']]).fit()   # Adding seasons\n",
    "lm4.summary()"
   ]
  },
  {
   "cell_type": "markdown",
   "id": "a7a85cc6",
   "metadata": {},
   "source": [
    "##### Observation: R square reached a significant level, lets do VIF to eliminate variables with high inflation factor."
   ]
  },
  {
   "cell_type": "code",
   "execution_count": 48,
   "id": "187aaabb",
   "metadata": {},
   "outputs": [
    {
     "name": "stdout",
     "output_type": "stream",
     "text": [
      "      Features    VIF\n",
      "1   workingday  41.67\n",
      "13         SAT  10.16\n",
      "14         SUN   9.84\n",
      "2        atemp   3.11\n",
      "5       SPRING   2.66\n",
      "0      holiday   2.57\n",
      "3          hum   1.91\n",
      "6       WINTER   1.75\n",
      "12        MIST   1.57\n",
      "7          JAN   1.56\n",
      "8          JUL   1.30\n",
      "11  LIGHT_RAIN   1.25\n",
      "4    windspeed   1.20\n",
      "9          SEP   1.11\n",
      "10   YEAR_2019   1.03\n"
     ]
    }
   ],
   "source": [
    "# Calculate the VIFs for the new model\n",
    "from statsmodels.stats.outliers_influence import variance_inflation_factor\n",
    "\n",
    "def get_vif_features(X_train):\n",
    "    vif = pd.DataFrame()\n",
    "    X = X_train\n",
    "    vif['Features'] = X.columns\n",
    "    vif['VIF']=[variance_inflation_factor(X.values, i) for i in range(X.shape[1])]\n",
    "    vif['VIF'] = round(vif['VIF'], 2)\n",
    "    vif = vif.sort_values(by = \"VIF\", ascending = False)\n",
    "    return vif\n",
    "    \n",
    "print(get_vif_features(X_train[X_train.columns[rfe.support_]]))"
   ]
  },
  {
   "cell_type": "code",
   "execution_count": 49,
   "id": "4fad3469",
   "metadata": {},
   "outputs": [
    {
     "name": "stdout",
     "output_type": "stream",
     "text": [
      "      Features    VIF\n",
      "3          hum  24.23\n",
      "2        atemp  16.27\n",
      "4    windspeed   3.98\n",
      "1   workingday   3.17\n",
      "5       SPRING   2.87\n",
      "12        MIST   2.24\n",
      "10   YEAR_2019   2.07\n",
      "6       WINTER   2.05\n",
      "7          JAN   1.67\n",
      "8          JUL   1.40\n",
      "11  LIGHT_RAIN   1.22\n",
      "9          SEP   1.20\n",
      "0      holiday   1.10\n"
     ]
    }
   ],
   "source": [
    "#After removing saturday and sunday..\n",
    "print(get_vif_features(X_train[['holiday', 'workingday', 'atemp', 'hum', 'windspeed', 'SPRING',\n",
    "       'WINTER', 'JAN', 'JUL', 'SEP', 'YEAR_2019', 'LIGHT_RAIN', 'MIST']]))"
   ]
  },
  {
   "cell_type": "code",
   "execution_count": 50,
   "id": "d6f82246",
   "metadata": {},
   "outputs": [
    {
     "name": "stdout",
     "output_type": "stream",
     "text": [
      "      Features   VIF\n",
      "2        atemp  4.39\n",
      "1   workingday  3.08\n",
      "8    YEAR_2019  2.05\n",
      "3       SPRING  1.91\n",
      "5          JAN  1.60\n",
      "10        MIST  1.53\n",
      "4       WINTER  1.37\n",
      "6          JUL  1.34\n",
      "7          SEP  1.19\n",
      "0      holiday  1.09\n",
      "9   LIGHT_RAIN  1.07\n"
     ]
    }
   ],
   "source": [
    "#AFter removing humidity and windspeed\n",
    "print(get_vif_features(X_train[['holiday', 'workingday', 'atemp', 'SPRING',\n",
    "       'WINTER', 'JAN', 'JUL', 'SEP', 'YEAR_2019', 'LIGHT_RAIN', 'MIST']]))"
   ]
  },
  {
   "cell_type": "markdown",
   "id": "26f4cf85",
   "metadata": {},
   "source": [
    "#### Model 5\n",
    "    Parameters Addition : None\n",
    "    Parameters Removal : hum\n",
    "    Reasoning : hum has high VIF, hence removed. atemp is not removed as its coefficient is significant, hence kept for further analysis."
   ]
  },
  {
   "cell_type": "code",
   "execution_count": 51,
   "id": "43ba2976",
   "metadata": {},
   "outputs": [
    {
     "data": {
      "text/html": [
       "<table class=\"simpletable\">\n",
       "<caption>OLS Regression Results</caption>\n",
       "<tr>\n",
       "  <th>Dep. Variable:</th>           <td>cnt</td>       <th>  R-squared:         </th> <td>   0.745</td> \n",
       "</tr>\n",
       "<tr>\n",
       "  <th>Model:</th>                   <td>OLS</td>       <th>  Adj. R-squared:    </th> <td>   0.743</td> \n",
       "</tr>\n",
       "<tr>\n",
       "  <th>Method:</th>             <td>Least Squares</td>  <th>  F-statistic:       </th> <td>   368.0</td> \n",
       "</tr>\n",
       "<tr>\n",
       "  <th>Date:</th>             <td>Wed, 12 Jan 2022</td> <th>  Prob (F-statistic):</th> <td>4.19e-148</td>\n",
       "</tr>\n",
       "<tr>\n",
       "  <th>Time:</th>                 <td>21:25:31</td>     <th>  Log-Likelihood:    </th> <td>  386.51</td> \n",
       "</tr>\n",
       "<tr>\n",
       "  <th>No. Observations:</th>      <td>   510</td>      <th>  AIC:               </th> <td>  -763.0</td> \n",
       "</tr>\n",
       "<tr>\n",
       "  <th>Df Residuals:</th>          <td>   505</td>      <th>  BIC:               </th> <td>  -741.9</td> \n",
       "</tr>\n",
       "<tr>\n",
       "  <th>Df Model:</th>              <td>     4</td>      <th>                     </th>     <td> </td>    \n",
       "</tr>\n",
       "<tr>\n",
       "  <th>Covariance Type:</th>      <td>nonrobust</td>    <th>                     </th>     <td> </td>    \n",
       "</tr>\n",
       "</table>\n",
       "<table class=\"simpletable\">\n",
       "<tr>\n",
       "      <td></td>         <th>coef</th>     <th>std err</th>      <th>t</th>      <th>P>|t|</th>  <th>[0.025</th>    <th>0.975]</th>  \n",
       "</tr>\n",
       "<tr>\n",
       "  <th>const</th>     <td>    0.1511</td> <td>    0.025</td> <td>    6.056</td> <td> 0.000</td> <td>    0.102</td> <td>    0.200</td>\n",
       "</tr>\n",
       "<tr>\n",
       "  <th>atemp</th>     <td>    0.5029</td> <td>    0.036</td> <td>   13.930</td> <td> 0.000</td> <td>    0.432</td> <td>    0.574</td>\n",
       "</tr>\n",
       "<tr>\n",
       "  <th>YEAR_2019</th> <td>    0.2405</td> <td>    0.010</td> <td>   23.675</td> <td> 0.000</td> <td>    0.221</td> <td>    0.260</td>\n",
       "</tr>\n",
       "<tr>\n",
       "  <th>SPRING</th>    <td>   -0.1122</td> <td>    0.018</td> <td>   -6.100</td> <td> 0.000</td> <td>   -0.148</td> <td>   -0.076</td>\n",
       "</tr>\n",
       "<tr>\n",
       "  <th>WINTER</th>    <td>    0.0390</td> <td>    0.015</td> <td>    2.641</td> <td> 0.009</td> <td>    0.010</td> <td>    0.068</td>\n",
       "</tr>\n",
       "</table>\n",
       "<table class=\"simpletable\">\n",
       "<tr>\n",
       "  <th>Omnibus:</th>       <td>117.278</td> <th>  Durbin-Watson:     </th> <td>   1.990</td>\n",
       "</tr>\n",
       "<tr>\n",
       "  <th>Prob(Omnibus):</th> <td> 0.000</td>  <th>  Jarque-Bera (JB):  </th> <td> 364.908</td>\n",
       "</tr>\n",
       "<tr>\n",
       "  <th>Skew:</th>          <td>-1.069</td>  <th>  Prob(JB):          </th> <td>5.77e-80</td>\n",
       "</tr>\n",
       "<tr>\n",
       "  <th>Kurtosis:</th>      <td> 6.550</td>  <th>  Cond. No.          </th> <td>    12.0</td>\n",
       "</tr>\n",
       "</table><br/><br/>Notes:<br/>[1] Standard Errors assume that the covariance matrix of the errors is correctly specified."
      ],
      "text/plain": [
       "<class 'statsmodels.iolib.summary.Summary'>\n",
       "\"\"\"\n",
       "                            OLS Regression Results                            \n",
       "==============================================================================\n",
       "Dep. Variable:                    cnt   R-squared:                       0.745\n",
       "Model:                            OLS   Adj. R-squared:                  0.743\n",
       "Method:                 Least Squares   F-statistic:                     368.0\n",
       "Date:                Wed, 12 Jan 2022   Prob (F-statistic):          4.19e-148\n",
       "Time:                        21:25:31   Log-Likelihood:                 386.51\n",
       "No. Observations:                 510   AIC:                            -763.0\n",
       "Df Residuals:                     505   BIC:                            -741.9\n",
       "Df Model:                           4                                         \n",
       "Covariance Type:            nonrobust                                         \n",
       "==============================================================================\n",
       "                 coef    std err          t      P>|t|      [0.025      0.975]\n",
       "------------------------------------------------------------------------------\n",
       "const          0.1511      0.025      6.056      0.000       0.102       0.200\n",
       "atemp          0.5029      0.036     13.930      0.000       0.432       0.574\n",
       "YEAR_2019      0.2405      0.010     23.675      0.000       0.221       0.260\n",
       "SPRING        -0.1122      0.018     -6.100      0.000      -0.148      -0.076\n",
       "WINTER         0.0390      0.015      2.641      0.009       0.010       0.068\n",
       "==============================================================================\n",
       "Omnibus:                      117.278   Durbin-Watson:                   1.990\n",
       "Prob(Omnibus):                  0.000   Jarque-Bera (JB):              364.908\n",
       "Skew:                          -1.069   Prob(JB):                     5.77e-80\n",
       "Kurtosis:                       6.550   Cond. No.                         12.0\n",
       "==============================================================================\n",
       "\n",
       "Notes:\n",
       "[1] Standard Errors assume that the covariance matrix of the errors is correctly specified.\n",
       "\"\"\""
      ]
     },
     "execution_count": 51,
     "metadata": {},
     "output_type": "execute_result"
    }
   ],
   "source": [
    "lm5 = sm.OLS(y_train,X_train_rfe[['const','atemp','YEAR_2019','SPRING','WINTER']]).fit()   # Running the linear model\n",
    "lm5.summary()"
   ]
  },
  {
   "cell_type": "markdown",
   "id": "187e1f04",
   "metadata": {},
   "source": [
    "#### Model 6\n",
    "    Parameters Addition : workingday\n",
    "    Parameters Removal : None\n",
    "    Reasoning :All the variables have low significance and improves the overall model performance.So keeping everything.\n"
   ]
  },
  {
   "cell_type": "code",
   "execution_count": 52,
   "id": "48daca97",
   "metadata": {},
   "outputs": [
    {
     "data": {
      "text/html": [
       "<table class=\"simpletable\">\n",
       "<caption>OLS Regression Results</caption>\n",
       "<tr>\n",
       "  <th>Dep. Variable:</th>           <td>cnt</td>       <th>  R-squared:         </th> <td>   0.772</td> \n",
       "</tr>\n",
       "<tr>\n",
       "  <th>Model:</th>                   <td>OLS</td>       <th>  Adj. R-squared:    </th> <td>   0.769</td> \n",
       "</tr>\n",
       "<tr>\n",
       "  <th>Method:</th>             <td>Least Squares</td>  <th>  F-statistic:       </th> <td>   283.1</td> \n",
       "</tr>\n",
       "<tr>\n",
       "  <th>Date:</th>             <td>Wed, 12 Jan 2022</td> <th>  Prob (F-statistic):</th> <td>1.09e-157</td>\n",
       "</tr>\n",
       "<tr>\n",
       "  <th>Time:</th>                 <td>21:25:31</td>     <th>  Log-Likelihood:    </th> <td>  414.96</td> \n",
       "</tr>\n",
       "<tr>\n",
       "  <th>No. Observations:</th>      <td>   510</td>      <th>  AIC:               </th> <td>  -815.9</td> \n",
       "</tr>\n",
       "<tr>\n",
       "  <th>Df Residuals:</th>          <td>   503</td>      <th>  BIC:               </th> <td>  -786.3</td> \n",
       "</tr>\n",
       "<tr>\n",
       "  <th>Df Model:</th>              <td>     6</td>      <th>                     </th>     <td> </td>    \n",
       "</tr>\n",
       "<tr>\n",
       "  <th>Covariance Type:</th>      <td>nonrobust</td>    <th>                     </th>     <td> </td>    \n",
       "</tr>\n",
       "</table>\n",
       "<table class=\"simpletable\">\n",
       "<tr>\n",
       "       <td></td>         <th>coef</th>     <th>std err</th>      <th>t</th>      <th>P>|t|</th>  <th>[0.025</th>    <th>0.975]</th>  \n",
       "</tr>\n",
       "<tr>\n",
       "  <th>const</th>      <td>    0.2815</td> <td>    0.031</td> <td>    9.034</td> <td> 0.000</td> <td>    0.220</td> <td>    0.343</td>\n",
       "</tr>\n",
       "<tr>\n",
       "  <th>atemp</th>      <td>    0.5428</td> <td>    0.035</td> <td>   15.664</td> <td> 0.000</td> <td>    0.475</td> <td>    0.611</td>\n",
       "</tr>\n",
       "<tr>\n",
       "  <th>hum</th>        <td>   -0.2566</td> <td>    0.034</td> <td>   -7.480</td> <td> 0.000</td> <td>   -0.324</td> <td>   -0.189</td>\n",
       "</tr>\n",
       "<tr>\n",
       "  <th>YEAR_2019</th>  <td>    0.2322</td> <td>    0.010</td> <td>   23.973</td> <td> 0.000</td> <td>    0.213</td> <td>    0.251</td>\n",
       "</tr>\n",
       "<tr>\n",
       "  <th>SPRING</th>     <td>   -0.1103</td> <td>    0.017</td> <td>   -6.327</td> <td> 0.000</td> <td>   -0.145</td> <td>   -0.076</td>\n",
       "</tr>\n",
       "<tr>\n",
       "  <th>WINTER</th>     <td>    0.0597</td> <td>    0.014</td> <td>    4.189</td> <td> 0.000</td> <td>    0.032</td> <td>    0.088</td>\n",
       "</tr>\n",
       "<tr>\n",
       "  <th>workingday</th> <td>    0.0216</td> <td>    0.010</td> <td>    2.101</td> <td> 0.036</td> <td>    0.001</td> <td>    0.042</td>\n",
       "</tr>\n",
       "</table>\n",
       "<table class=\"simpletable\">\n",
       "<tr>\n",
       "  <th>Omnibus:</th>       <td>99.698</td> <th>  Durbin-Watson:     </th> <td>   2.011</td>\n",
       "</tr>\n",
       "<tr>\n",
       "  <th>Prob(Omnibus):</th> <td> 0.000</td> <th>  Jarque-Bera (JB):  </th> <td> 321.111</td>\n",
       "</tr>\n",
       "<tr>\n",
       "  <th>Skew:</th>          <td>-0.896</td> <th>  Prob(JB):          </th> <td>1.87e-70</td>\n",
       "</tr>\n",
       "<tr>\n",
       "  <th>Kurtosis:</th>      <td> 6.450</td> <th>  Cond. No.          </th> <td>    15.4</td>\n",
       "</tr>\n",
       "</table><br/><br/>Notes:<br/>[1] Standard Errors assume that the covariance matrix of the errors is correctly specified."
      ],
      "text/plain": [
       "<class 'statsmodels.iolib.summary.Summary'>\n",
       "\"\"\"\n",
       "                            OLS Regression Results                            \n",
       "==============================================================================\n",
       "Dep. Variable:                    cnt   R-squared:                       0.772\n",
       "Model:                            OLS   Adj. R-squared:                  0.769\n",
       "Method:                 Least Squares   F-statistic:                     283.1\n",
       "Date:                Wed, 12 Jan 2022   Prob (F-statistic):          1.09e-157\n",
       "Time:                        21:25:31   Log-Likelihood:                 414.96\n",
       "No. Observations:                 510   AIC:                            -815.9\n",
       "Df Residuals:                     503   BIC:                            -786.3\n",
       "Df Model:                           6                                         \n",
       "Covariance Type:            nonrobust                                         \n",
       "==============================================================================\n",
       "                 coef    std err          t      P>|t|      [0.025      0.975]\n",
       "------------------------------------------------------------------------------\n",
       "const          0.2815      0.031      9.034      0.000       0.220       0.343\n",
       "atemp          0.5428      0.035     15.664      0.000       0.475       0.611\n",
       "hum           -0.2566      0.034     -7.480      0.000      -0.324      -0.189\n",
       "YEAR_2019      0.2322      0.010     23.973      0.000       0.213       0.251\n",
       "SPRING        -0.1103      0.017     -6.327      0.000      -0.145      -0.076\n",
       "WINTER         0.0597      0.014      4.189      0.000       0.032       0.088\n",
       "workingday     0.0216      0.010      2.101      0.036       0.001       0.042\n",
       "==============================================================================\n",
       "Omnibus:                       99.698   Durbin-Watson:                   2.011\n",
       "Prob(Omnibus):                  0.000   Jarque-Bera (JB):              321.111\n",
       "Skew:                          -0.896   Prob(JB):                     1.87e-70\n",
       "Kurtosis:                       6.450   Cond. No.                         15.4\n",
       "==============================================================================\n",
       "\n",
       "Notes:\n",
       "[1] Standard Errors assume that the covariance matrix of the errors is correctly specified.\n",
       "\"\"\""
      ]
     },
     "execution_count": 52,
     "metadata": {},
     "output_type": "execute_result"
    }
   ],
   "source": [
    "lm6 = sm.OLS(y_train,X_train_rfe[['const','atemp', 'hum', 'YEAR_2019','SPRING','WINTER','workingday']]).fit()   # Running the linear model\n",
    "lm6.summary()"
   ]
  },
  {
   "cell_type": "markdown",
   "id": "b4b6f475",
   "metadata": {},
   "source": [
    "#### Model 7\n",
    "    Parameters Addition : 'holiday'\n",
    "    Parameters Removal : None\n",
    "    Reasoning : Adding holiday as next level after working day."
   ]
  },
  {
   "cell_type": "code",
   "execution_count": 53,
   "id": "67b71d29",
   "metadata": {},
   "outputs": [
    {
     "data": {
      "text/html": [
       "<table class=\"simpletable\">\n",
       "<caption>OLS Regression Results</caption>\n",
       "<tr>\n",
       "  <th>Dep. Variable:</th>           <td>cnt</td>       <th>  R-squared:         </th> <td>   0.748</td> \n",
       "</tr>\n",
       "<tr>\n",
       "  <th>Model:</th>                   <td>OLS</td>       <th>  Adj. R-squared:    </th> <td>   0.745</td> \n",
       "</tr>\n",
       "<tr>\n",
       "  <th>Method:</th>             <td>Least Squares</td>  <th>  F-statistic:       </th> <td>   248.3</td> \n",
       "</tr>\n",
       "<tr>\n",
       "  <th>Date:</th>             <td>Wed, 12 Jan 2022</td> <th>  Prob (F-statistic):</th> <td>7.46e-147</td>\n",
       "</tr>\n",
       "<tr>\n",
       "  <th>Time:</th>                 <td>21:25:31</td>     <th>  Log-Likelihood:    </th> <td>  389.59</td> \n",
       "</tr>\n",
       "<tr>\n",
       "  <th>No. Observations:</th>      <td>   510</td>      <th>  AIC:               </th> <td>  -765.2</td> \n",
       "</tr>\n",
       "<tr>\n",
       "  <th>Df Residuals:</th>          <td>   503</td>      <th>  BIC:               </th> <td>  -735.5</td> \n",
       "</tr>\n",
       "<tr>\n",
       "  <th>Df Model:</th>              <td>     6</td>      <th>                     </th>     <td> </td>    \n",
       "</tr>\n",
       "<tr>\n",
       "  <th>Covariance Type:</th>      <td>nonrobust</td>    <th>                     </th>     <td> </td>    \n",
       "</tr>\n",
       "</table>\n",
       "<table class=\"simpletable\">\n",
       "<tr>\n",
       "       <td></td>         <th>coef</th>     <th>std err</th>      <th>t</th>      <th>P>|t|</th>  <th>[0.025</th>    <th>0.975]</th>  \n",
       "</tr>\n",
       "<tr>\n",
       "  <th>const</th>      <td>    0.1425</td> <td>    0.026</td> <td>    5.490</td> <td> 0.000</td> <td>    0.092</td> <td>    0.194</td>\n",
       "</tr>\n",
       "<tr>\n",
       "  <th>atemp</th>      <td>    0.5015</td> <td>    0.036</td> <td>   13.945</td> <td> 0.000</td> <td>    0.431</td> <td>    0.572</td>\n",
       "</tr>\n",
       "<tr>\n",
       "  <th>YEAR_2019</th>  <td>    0.2400</td> <td>    0.010</td> <td>   23.711</td> <td> 0.000</td> <td>    0.220</td> <td>    0.260</td>\n",
       "</tr>\n",
       "<tr>\n",
       "  <th>SPRING</th>     <td>   -0.1101</td> <td>    0.018</td> <td>   -6.004</td> <td> 0.000</td> <td>   -0.146</td> <td>   -0.074</td>\n",
       "</tr>\n",
       "<tr>\n",
       "  <th>WINTER</th>     <td>    0.0415</td> <td>    0.015</td> <td>    2.814</td> <td> 0.005</td> <td>    0.013</td> <td>    0.070</td>\n",
       "</tr>\n",
       "<tr>\n",
       "  <th>workingday</th> <td>    0.0146</td> <td>    0.011</td> <td>    1.314</td> <td> 0.189</td> <td>   -0.007</td> <td>    0.036</td>\n",
       "</tr>\n",
       "<tr>\n",
       "  <th>holiday</th>    <td>   -0.0572</td> <td>    0.033</td> <td>   -1.739</td> <td> 0.083</td> <td>   -0.122</td> <td>    0.007</td>\n",
       "</tr>\n",
       "</table>\n",
       "<table class=\"simpletable\">\n",
       "<tr>\n",
       "  <th>Omnibus:</th>       <td>116.966</td> <th>  Durbin-Watson:     </th> <td>   2.005</td>\n",
       "</tr>\n",
       "<tr>\n",
       "  <th>Prob(Omnibus):</th> <td> 0.000</td>  <th>  Jarque-Bera (JB):  </th> <td> 383.040</td>\n",
       "</tr>\n",
       "<tr>\n",
       "  <th>Skew:</th>          <td>-1.048</td>  <th>  Prob(JB):          </th> <td>6.67e-84</td>\n",
       "</tr>\n",
       "<tr>\n",
       "  <th>Kurtosis:</th>      <td> 6.692</td>  <th>  Cond. No.          </th> <td>    13.7</td>\n",
       "</tr>\n",
       "</table><br/><br/>Notes:<br/>[1] Standard Errors assume that the covariance matrix of the errors is correctly specified."
      ],
      "text/plain": [
       "<class 'statsmodels.iolib.summary.Summary'>\n",
       "\"\"\"\n",
       "                            OLS Regression Results                            \n",
       "==============================================================================\n",
       "Dep. Variable:                    cnt   R-squared:                       0.748\n",
       "Model:                            OLS   Adj. R-squared:                  0.745\n",
       "Method:                 Least Squares   F-statistic:                     248.3\n",
       "Date:                Wed, 12 Jan 2022   Prob (F-statistic):          7.46e-147\n",
       "Time:                        21:25:31   Log-Likelihood:                 389.59\n",
       "No. Observations:                 510   AIC:                            -765.2\n",
       "Df Residuals:                     503   BIC:                            -735.5\n",
       "Df Model:                           6                                         \n",
       "Covariance Type:            nonrobust                                         \n",
       "==============================================================================\n",
       "                 coef    std err          t      P>|t|      [0.025      0.975]\n",
       "------------------------------------------------------------------------------\n",
       "const          0.1425      0.026      5.490      0.000       0.092       0.194\n",
       "atemp          0.5015      0.036     13.945      0.000       0.431       0.572\n",
       "YEAR_2019      0.2400      0.010     23.711      0.000       0.220       0.260\n",
       "SPRING        -0.1101      0.018     -6.004      0.000      -0.146      -0.074\n",
       "WINTER         0.0415      0.015      2.814      0.005       0.013       0.070\n",
       "workingday     0.0146      0.011      1.314      0.189      -0.007       0.036\n",
       "holiday       -0.0572      0.033     -1.739      0.083      -0.122       0.007\n",
       "==============================================================================\n",
       "Omnibus:                      116.966   Durbin-Watson:                   2.005\n",
       "Prob(Omnibus):                  0.000   Jarque-Bera (JB):              383.040\n",
       "Skew:                          -1.048   Prob(JB):                     6.67e-84\n",
       "Kurtosis:                       6.692   Cond. No.                         13.7\n",
       "==============================================================================\n",
       "\n",
       "Notes:\n",
       "[1] Standard Errors assume that the covariance matrix of the errors is correctly specified.\n",
       "\"\"\""
      ]
     },
     "execution_count": 53,
     "metadata": {},
     "output_type": "execute_result"
    }
   ],
   "source": [
    "lm7 = sm.OLS(y_train,X_train_rfe[['const','atemp','YEAR_2019','SPRING','WINTER', 'workingday', 'holiday']]).fit()   # Running the linear model\n",
    "lm7.summary()"
   ]
  },
  {
   "cell_type": "markdown",
   "id": "7ecc8698",
   "metadata": {},
   "source": [
    "#### Model 8\n",
    "    Parameters Addition : 'LIGHT_RAIN'\n",
    "    Parameters Removal : holiday\n",
    "    Reasoning :Holiday reduces the performance of the model."
   ]
  },
  {
   "cell_type": "code",
   "execution_count": 54,
   "id": "7d4813c4",
   "metadata": {
    "scrolled": false
   },
   "outputs": [
    {
     "data": {
      "text/html": [
       "<table class=\"simpletable\">\n",
       "<caption>OLS Regression Results</caption>\n",
       "<tr>\n",
       "  <th>Dep. Variable:</th>           <td>cnt</td>       <th>  R-squared:         </th> <td>   0.784</td> \n",
       "</tr>\n",
       "<tr>\n",
       "  <th>Model:</th>                   <td>OLS</td>       <th>  Adj. R-squared:    </th> <td>   0.781</td> \n",
       "</tr>\n",
       "<tr>\n",
       "  <th>Method:</th>             <td>Least Squares</td>  <th>  F-statistic:       </th> <td>   303.9</td> \n",
       "</tr>\n",
       "<tr>\n",
       "  <th>Date:</th>             <td>Wed, 12 Jan 2022</td> <th>  Prob (F-statistic):</th> <td>1.05e-163</td>\n",
       "</tr>\n",
       "<tr>\n",
       "  <th>Time:</th>                 <td>21:25:31</td>     <th>  Log-Likelihood:    </th> <td>  429.03</td> \n",
       "</tr>\n",
       "<tr>\n",
       "  <th>No. Observations:</th>      <td>   510</td>      <th>  AIC:               </th> <td>  -844.1</td> \n",
       "</tr>\n",
       "<tr>\n",
       "  <th>Df Residuals:</th>          <td>   503</td>      <th>  BIC:               </th> <td>  -814.4</td> \n",
       "</tr>\n",
       "<tr>\n",
       "  <th>Df Model:</th>              <td>     6</td>      <th>                     </th>     <td> </td>    \n",
       "</tr>\n",
       "<tr>\n",
       "  <th>Covariance Type:</th>      <td>nonrobust</td>    <th>                     </th>     <td> </td>    \n",
       "</tr>\n",
       "</table>\n",
       "<table class=\"simpletable\">\n",
       "<tr>\n",
       "       <td></td>         <th>coef</th>     <th>std err</th>      <th>t</th>      <th>P>|t|</th>  <th>[0.025</th>    <th>0.975]</th>  \n",
       "</tr>\n",
       "<tr>\n",
       "  <th>const</th>      <td>    0.1511</td> <td>    0.024</td> <td>    6.302</td> <td> 0.000</td> <td>    0.104</td> <td>    0.198</td>\n",
       "</tr>\n",
       "<tr>\n",
       "  <th>atemp</th>      <td>    0.4913</td> <td>    0.033</td> <td>   14.753</td> <td> 0.000</td> <td>    0.426</td> <td>    0.557</td>\n",
       "</tr>\n",
       "<tr>\n",
       "  <th>YEAR_2019</th>  <td>    0.2351</td> <td>    0.009</td> <td>   25.057</td> <td> 0.000</td> <td>    0.217</td> <td>    0.254</td>\n",
       "</tr>\n",
       "<tr>\n",
       "  <th>SPRING</th>     <td>   -0.1161</td> <td>    0.017</td> <td>   -6.846</td> <td> 0.000</td> <td>   -0.149</td> <td>   -0.083</td>\n",
       "</tr>\n",
       "<tr>\n",
       "  <th>WINTER</th>     <td>    0.0494</td> <td>    0.014</td> <td>    3.612</td> <td> 0.000</td> <td>    0.023</td> <td>    0.076</td>\n",
       "</tr>\n",
       "<tr>\n",
       "  <th>workingday</th> <td>    0.0217</td> <td>    0.010</td> <td>    2.177</td> <td> 0.030</td> <td>    0.002</td> <td>    0.041</td>\n",
       "</tr>\n",
       "<tr>\n",
       "  <th>LIGHT_RAIN</th> <td>   -0.2602</td> <td>    0.028</td> <td>   -9.363</td> <td> 0.000</td> <td>   -0.315</td> <td>   -0.206</td>\n",
       "</tr>\n",
       "</table>\n",
       "<table class=\"simpletable\">\n",
       "<tr>\n",
       "  <th>Omnibus:</th>       <td>64.563</td> <th>  Durbin-Watson:     </th> <td>   1.949</td>\n",
       "</tr>\n",
       "<tr>\n",
       "  <th>Prob(Omnibus):</th> <td> 0.000</td> <th>  Jarque-Bera (JB):  </th> <td> 143.048</td>\n",
       "</tr>\n",
       "<tr>\n",
       "  <th>Skew:</th>          <td>-0.690</td> <th>  Prob(JB):          </th> <td>8.66e-32</td>\n",
       "</tr>\n",
       "<tr>\n",
       "  <th>Kurtosis:</th>      <td> 5.197</td> <th>  Cond. No.          </th> <td>    13.7</td>\n",
       "</tr>\n",
       "</table><br/><br/>Notes:<br/>[1] Standard Errors assume that the covariance matrix of the errors is correctly specified."
      ],
      "text/plain": [
       "<class 'statsmodels.iolib.summary.Summary'>\n",
       "\"\"\"\n",
       "                            OLS Regression Results                            \n",
       "==============================================================================\n",
       "Dep. Variable:                    cnt   R-squared:                       0.784\n",
       "Model:                            OLS   Adj. R-squared:                  0.781\n",
       "Method:                 Least Squares   F-statistic:                     303.9\n",
       "Date:                Wed, 12 Jan 2022   Prob (F-statistic):          1.05e-163\n",
       "Time:                        21:25:31   Log-Likelihood:                 429.03\n",
       "No. Observations:                 510   AIC:                            -844.1\n",
       "Df Residuals:                     503   BIC:                            -814.4\n",
       "Df Model:                           6                                         \n",
       "Covariance Type:            nonrobust                                         \n",
       "==============================================================================\n",
       "                 coef    std err          t      P>|t|      [0.025      0.975]\n",
       "------------------------------------------------------------------------------\n",
       "const          0.1511      0.024      6.302      0.000       0.104       0.198\n",
       "atemp          0.4913      0.033     14.753      0.000       0.426       0.557\n",
       "YEAR_2019      0.2351      0.009     25.057      0.000       0.217       0.254\n",
       "SPRING        -0.1161      0.017     -6.846      0.000      -0.149      -0.083\n",
       "WINTER         0.0494      0.014      3.612      0.000       0.023       0.076\n",
       "workingday     0.0217      0.010      2.177      0.030       0.002       0.041\n",
       "LIGHT_RAIN    -0.2602      0.028     -9.363      0.000      -0.315      -0.206\n",
       "==============================================================================\n",
       "Omnibus:                       64.563   Durbin-Watson:                   1.949\n",
       "Prob(Omnibus):                  0.000   Jarque-Bera (JB):              143.048\n",
       "Skew:                          -0.690   Prob(JB):                     8.66e-32\n",
       "Kurtosis:                       5.197   Cond. No.                         13.7\n",
       "==============================================================================\n",
       "\n",
       "Notes:\n",
       "[1] Standard Errors assume that the covariance matrix of the errors is correctly specified.\n",
       "\"\"\""
      ]
     },
     "execution_count": 54,
     "metadata": {},
     "output_type": "execute_result"
    }
   ],
   "source": [
    "lm8 = sm.OLS(y_train,X_train_rfe[['const','atemp','YEAR_2019','SPRING','WINTER', 'workingday','LIGHT_RAIN']]).fit()   # Running the linear model\n",
    "lm8.summary()"
   ]
  },
  {
   "cell_type": "markdown",
   "id": "e34b1c8f",
   "metadata": {},
   "source": [
    "#### Model 9\n",
    "    Parameters Addition : 'MIST'\n",
    "    Parameters Removal : None\n",
    "    Reasoning : None."
   ]
  },
  {
   "cell_type": "code",
   "execution_count": 67,
   "id": "6e96cebf",
   "metadata": {},
   "outputs": [
    {
     "data": {
      "text/html": [
       "<table class=\"simpletable\">\n",
       "<caption>OLS Regression Results</caption>\n",
       "<tr>\n",
       "  <th>Dep. Variable:</th>           <td>cnt</td>       <th>  R-squared:         </th> <td>   0.820</td> \n",
       "</tr>\n",
       "<tr>\n",
       "  <th>Model:</th>                   <td>OLS</td>       <th>  Adj. R-squared:    </th> <td>   0.817</td> \n",
       "</tr>\n",
       "<tr>\n",
       "  <th>Method:</th>             <td>Least Squares</td>  <th>  F-statistic:       </th> <td>   253.0</td> \n",
       "</tr>\n",
       "<tr>\n",
       "  <th>Date:</th>             <td>Wed, 12 Jan 2022</td> <th>  Prob (F-statistic):</th> <td>8.01e-180</td>\n",
       "</tr>\n",
       "<tr>\n",
       "  <th>Time:</th>                 <td>21:27:55</td>     <th>  Log-Likelihood:    </th> <td>  475.68</td> \n",
       "</tr>\n",
       "<tr>\n",
       "  <th>No. Observations:</th>      <td>   510</td>      <th>  AIC:               </th> <td>  -931.4</td> \n",
       "</tr>\n",
       "<tr>\n",
       "  <th>Df Residuals:</th>          <td>   500</td>      <th>  BIC:               </th> <td>  -889.0</td> \n",
       "</tr>\n",
       "<tr>\n",
       "  <th>Df Model:</th>              <td>     9</td>      <th>                     </th>     <td> </td>    \n",
       "</tr>\n",
       "<tr>\n",
       "  <th>Covariance Type:</th>      <td>nonrobust</td>    <th>                     </th>     <td> </td>    \n",
       "</tr>\n",
       "</table>\n",
       "<table class=\"simpletable\">\n",
       "<tr>\n",
       "       <td></td>         <th>coef</th>     <th>std err</th>      <th>t</th>      <th>P>|t|</th>  <th>[0.025</th>    <th>0.975]</th>  \n",
       "</tr>\n",
       "<tr>\n",
       "  <th>const</th>      <td>    0.1804</td> <td>    0.023</td> <td>    7.914</td> <td> 0.000</td> <td>    0.136</td> <td>    0.225</td>\n",
       "</tr>\n",
       "<tr>\n",
       "  <th>atemp</th>      <td>    0.4882</td> <td>    0.033</td> <td>   14.872</td> <td> 0.000</td> <td>    0.424</td> <td>    0.553</td>\n",
       "</tr>\n",
       "<tr>\n",
       "  <th>YEAR_2019</th>  <td>    0.2338</td> <td>    0.009</td> <td>   27.199</td> <td> 0.000</td> <td>    0.217</td> <td>    0.251</td>\n",
       "</tr>\n",
       "<tr>\n",
       "  <th>SPRING</th>     <td>   -0.1168</td> <td>    0.016</td> <td>   -7.485</td> <td> 0.000</td> <td>   -0.148</td> <td>   -0.086</td>\n",
       "</tr>\n",
       "<tr>\n",
       "  <th>WINTER</th>     <td>    0.0468</td> <td>    0.013</td> <td>    3.737</td> <td> 0.000</td> <td>    0.022</td> <td>    0.071</td>\n",
       "</tr>\n",
       "<tr>\n",
       "  <th>workingday</th> <td>    0.0243</td> <td>    0.009</td> <td>    2.655</td> <td> 0.008</td> <td>    0.006</td> <td>    0.042</td>\n",
       "</tr>\n",
       "<tr>\n",
       "  <th>LIGHT_RAIN</th> <td>   -0.2923</td> <td>    0.026</td> <td>  -11.369</td> <td> 0.000</td> <td>   -0.343</td> <td>   -0.242</td>\n",
       "</tr>\n",
       "<tr>\n",
       "  <th>MIST</th>       <td>   -0.0796</td> <td>    0.009</td> <td>   -8.698</td> <td> 0.000</td> <td>   -0.098</td> <td>   -0.062</td>\n",
       "</tr>\n",
       "<tr>\n",
       "  <th>JUL</th>        <td>   -0.0631</td> <td>    0.018</td> <td>   -3.494</td> <td> 0.001</td> <td>   -0.099</td> <td>   -0.028</td>\n",
       "</tr>\n",
       "<tr>\n",
       "  <th>SEP</th>        <td>    0.0634</td> <td>    0.016</td> <td>    3.876</td> <td> 0.000</td> <td>    0.031</td> <td>    0.096</td>\n",
       "</tr>\n",
       "</table>\n",
       "<table class=\"simpletable\">\n",
       "<tr>\n",
       "  <th>Omnibus:</th>       <td>63.675</td> <th>  Durbin-Watson:     </th> <td>   2.000</td>\n",
       "</tr>\n",
       "<tr>\n",
       "  <th>Prob(Omnibus):</th> <td> 0.000</td> <th>  Jarque-Bera (JB):  </th> <td> 191.828</td>\n",
       "</tr>\n",
       "<tr>\n",
       "  <th>Skew:</th>          <td>-0.580</td> <th>  Prob(JB):          </th> <td>2.21e-42</td>\n",
       "</tr>\n",
       "<tr>\n",
       "  <th>Kurtosis:</th>      <td> 5.772</td> <th>  Cond. No.          </th> <td>    15.0</td>\n",
       "</tr>\n",
       "</table><br/><br/>Notes:<br/>[1] Standard Errors assume that the covariance matrix of the errors is correctly specified."
      ],
      "text/plain": [
       "<class 'statsmodels.iolib.summary.Summary'>\n",
       "\"\"\"\n",
       "                            OLS Regression Results                            \n",
       "==============================================================================\n",
       "Dep. Variable:                    cnt   R-squared:                       0.820\n",
       "Model:                            OLS   Adj. R-squared:                  0.817\n",
       "Method:                 Least Squares   F-statistic:                     253.0\n",
       "Date:                Wed, 12 Jan 2022   Prob (F-statistic):          8.01e-180\n",
       "Time:                        21:27:55   Log-Likelihood:                 475.68\n",
       "No. Observations:                 510   AIC:                            -931.4\n",
       "Df Residuals:                     500   BIC:                            -889.0\n",
       "Df Model:                           9                                         \n",
       "Covariance Type:            nonrobust                                         \n",
       "==============================================================================\n",
       "                 coef    std err          t      P>|t|      [0.025      0.975]\n",
       "------------------------------------------------------------------------------\n",
       "const          0.1804      0.023      7.914      0.000       0.136       0.225\n",
       "atemp          0.4882      0.033     14.872      0.000       0.424       0.553\n",
       "YEAR_2019      0.2338      0.009     27.199      0.000       0.217       0.251\n",
       "SPRING        -0.1168      0.016     -7.485      0.000      -0.148      -0.086\n",
       "WINTER         0.0468      0.013      3.737      0.000       0.022       0.071\n",
       "workingday     0.0243      0.009      2.655      0.008       0.006       0.042\n",
       "LIGHT_RAIN    -0.2923      0.026    -11.369      0.000      -0.343      -0.242\n",
       "MIST          -0.0796      0.009     -8.698      0.000      -0.098      -0.062\n",
       "JUL           -0.0631      0.018     -3.494      0.001      -0.099      -0.028\n",
       "SEP            0.0634      0.016      3.876      0.000       0.031       0.096\n",
       "==============================================================================\n",
       "Omnibus:                       63.675   Durbin-Watson:                   2.000\n",
       "Prob(Omnibus):                  0.000   Jarque-Bera (JB):              191.828\n",
       "Skew:                          -0.580   Prob(JB):                     2.21e-42\n",
       "Kurtosis:                       5.772   Cond. No.                         15.0\n",
       "==============================================================================\n",
       "\n",
       "Notes:\n",
       "[1] Standard Errors assume that the covariance matrix of the errors is correctly specified.\n",
       "\"\"\""
      ]
     },
     "execution_count": 67,
     "metadata": {},
     "output_type": "execute_result"
    }
   ],
   "source": [
    "cols= ['const','atemp','YEAR_2019','SPRING','WINTER', 'workingday','LIGHT_RAIN','MIST','JUL','SEP']\n",
    "lm9 = sm.OLS(y_train,X_train_rfe[cols]).fit()   # Running the linear model\n",
    "lm9.summary()"
   ]
  },
  {
   "cell_type": "markdown",
   "id": "87e2f9bd",
   "metadata": {},
   "source": [
    "#### Conclusion : Model 9 is a pretty good fit, can be used for further evaluation"
   ]
  },
  {
   "cell_type": "markdown",
   "id": "bcdadb3d",
   "metadata": {},
   "source": [
    "### 10 Evaluating features in the model 9"
   ]
  },
  {
   "cell_type": "code",
   "execution_count": 68,
   "id": "a555f643",
   "metadata": {},
   "outputs": [
    {
     "data": {
      "text/html": [
       "<div>\n",
       "<style scoped>\n",
       "    .dataframe tbody tr th:only-of-type {\n",
       "        vertical-align: middle;\n",
       "    }\n",
       "\n",
       "    .dataframe tbody tr th {\n",
       "        vertical-align: top;\n",
       "    }\n",
       "\n",
       "    .dataframe thead th {\n",
       "        text-align: right;\n",
       "    }\n",
       "</style>\n",
       "<table border=\"1\" class=\"dataframe\">\n",
       "  <thead>\n",
       "    <tr style=\"text-align: right;\">\n",
       "      <th></th>\n",
       "      <th>Features</th>\n",
       "      <th>VIF</th>\n",
       "    </tr>\n",
       "  </thead>\n",
       "  <tbody>\n",
       "    <tr>\n",
       "      <th>0</th>\n",
       "      <td>const</td>\n",
       "      <td>28.66</td>\n",
       "    </tr>\n",
       "    <tr>\n",
       "      <th>1</th>\n",
       "      <td>atemp</td>\n",
       "      <td>2.68</td>\n",
       "    </tr>\n",
       "    <tr>\n",
       "      <th>3</th>\n",
       "      <td>SPRING</td>\n",
       "      <td>2.47</td>\n",
       "    </tr>\n",
       "    <tr>\n",
       "      <th>4</th>\n",
       "      <td>WINTER</td>\n",
       "      <td>1.62</td>\n",
       "    </tr>\n",
       "    <tr>\n",
       "      <th>8</th>\n",
       "      <td>JUL</td>\n",
       "      <td>1.27</td>\n",
       "    </tr>\n",
       "    <tr>\n",
       "      <th>9</th>\n",
       "      <td>SEP</td>\n",
       "      <td>1.09</td>\n",
       "    </tr>\n",
       "    <tr>\n",
       "      <th>6</th>\n",
       "      <td>LIGHT_RAIN</td>\n",
       "      <td>1.04</td>\n",
       "    </tr>\n",
       "    <tr>\n",
       "      <th>7</th>\n",
       "      <td>MIST</td>\n",
       "      <td>1.04</td>\n",
       "    </tr>\n",
       "    <tr>\n",
       "      <th>2</th>\n",
       "      <td>YEAR_2019</td>\n",
       "      <td>1.02</td>\n",
       "    </tr>\n",
       "    <tr>\n",
       "      <th>5</th>\n",
       "      <td>workingday</td>\n",
       "      <td>1.01</td>\n",
       "    </tr>\n",
       "  </tbody>\n",
       "</table>\n",
       "</div>"
      ],
      "text/plain": [
       "     Features    VIF\n",
       "0       const  28.66\n",
       "1       atemp   2.68\n",
       "3      SPRING   2.47\n",
       "4      WINTER   1.62\n",
       "8         JUL   1.27\n",
       "9         SEP   1.09\n",
       "6  LIGHT_RAIN   1.04\n",
       "7        MIST   1.04\n",
       "2   YEAR_2019   1.02\n",
       "5  workingday   1.01"
      ]
     },
     "execution_count": 68,
     "metadata": {},
     "output_type": "execute_result"
    }
   ],
   "source": [
    "\n",
    "from statsmodels.stats.outliers_influence import variance_inflation_factor\n",
    "# After removing humidity and atemp\n",
    "vif = pd.DataFrame()\n",
    "X = X_train_rfe[cols]\n",
    "vif['Features'] = X.columns\n",
    "vif['VIF']=[variance_inflation_factor(X.values, i) for i in range(X.shape[1])]\n",
    "vif['VIF'] = round(vif['VIF'], 2)\n",
    "vif = vif.sort_values(by = \"VIF\", ascending = False)\n",
    "vif\n"
   ]
  },
  {
   "cell_type": "markdown",
   "id": "3aedf97b",
   "metadata": {},
   "source": [
    "## 11. Assumptions validation for linear regression"
   ]
  },
  {
   "cell_type": "code",
   "execution_count": 69,
   "id": "c7dd5158",
   "metadata": {},
   "outputs": [],
   "source": [
    "y_train_count = lm9.predict(X_train_rfe[cols])"
   ]
  },
  {
   "cell_type": "code",
   "execution_count": 70,
   "id": "5e52a21e",
   "metadata": {},
   "outputs": [
    {
     "name": "stderr",
     "output_type": "stream",
     "text": [
      "C:\\Users\\idhay\\anaconda3\\lib\\site-packages\\seaborn\\distributions.py:2619: FutureWarning: `distplot` is a deprecated function and will be removed in a future version. Please adapt your code to use either `displot` (a figure-level function with similar flexibility) or `histplot` (an axes-level function for histograms).\n",
      "  warnings.warn(msg, FutureWarning)\n"
     ]
    },
    {
     "data": {
      "text/plain": [
       "Text(0.5, 0, 'Errors')"
      ]
     },
     "execution_count": 70,
     "metadata": {},
     "output_type": "execute_result"
    },
    {
     "data": {
      "image/png": "[encoded data removed]",
      "text/plain": [
       "<Figure size 432x288 with 1 Axes>"
      ]
     },
     "metadata": {
      "needs_background": "light"
     },
     "output_type": "display_data"
    }
   ],
   "source": [
    "# Plot the histogram of the error terms\n",
    "fig = plt.figure()\n",
    "sns.distplot((y_train - lm9.predict(X_train_rfe[cols])), bins = 20)\n",
    "fig.suptitle('Error Terms', fontsize = 20)                  # Plot heading \n",
    "plt.xlabel('Errors', fontsize = 18)                         # X-label\n"
   ]
  },
  {
   "cell_type": "code",
   "execution_count": 71,
   "id": "13255ff0",
   "metadata": {},
   "outputs": [
    {
     "name": "stderr",
     "output_type": "stream",
     "text": [
      "C:\\Users\\idhay\\anaconda3\\lib\\site-packages\\statsmodels\\tsa\\tsatools.py:142: FutureWarning: In a future version of pandas all arguments of concat except for the argument 'objs' will be keyword-only\n",
      "  x = pd.concat(x[::order], 1)\n"
     ]
    }
   ],
   "source": [
    "X_test_rfe= sm.add_constant(X_test)"
   ]
  },
  {
   "cell_type": "code",
   "execution_count": 73,
   "id": "83f888d4",
   "metadata": {},
   "outputs": [],
   "source": [
    "y_test_count =lm9.predict(X_test_rfe[['const','atemp','YEAR_2019','SPRING','WINTER', 'workingday','LIGHT_RAIN','MIST','JUL','SEP']])"
   ]
  },
  {
   "cell_type": "code",
   "execution_count": 74,
   "id": "2422b18e",
   "metadata": {},
   "outputs": [
    {
     "name": "stderr",
     "output_type": "stream",
     "text": [
      "C:\\Users\\idhay\\anaconda3\\lib\\site-packages\\seaborn\\distributions.py:2619: FutureWarning: `distplot` is a deprecated function and will be removed in a future version. Please adapt your code to use either `displot` (a figure-level function with similar flexibility) or `histplot` (an axes-level function for histograms).\n",
      "  warnings.warn(msg, FutureWarning)\n"
     ]
    },
    {
     "data": {
      "text/plain": [
       "Text(0.5, 0, 'Errors')"
      ]
     },
     "execution_count": 74,
     "metadata": {},
     "output_type": "execute_result"
    },
    {
     "data": {
      "image/png": "[encoded data removed]",
      "text/plain": [
       "<Figure size 432x288 with 1 Axes>"
      ]
     },
     "metadata": {
      "needs_background": "light"
     },
     "output_type": "display_data"
    }
   ],
   "source": [
    "# Plot the histogram of the error terms\n",
    "\n",
    "fig = plt.figure()\n",
    "sns.distplot((y_test- y_test_count), bins = 20)\n",
    "fig.suptitle('Error Terms for test set', fontsize = 20)              # Plot heading \n",
    "plt.xlabel('Errors', fontsize = 18)                          # X-label"
   ]
  },
  {
   "cell_type": "markdown",
   "id": "2ff48508",
   "metadata": {},
   "source": [
    "## 11. Model evaluation\n",
    "    Evaluating the model by comparision of predicted vs actual.\n",
    "    Calculate the mean squared error and r2score of the model selected."
   ]
  },
  {
   "cell_type": "code",
   "execution_count": 75,
   "id": "b1a58a37",
   "metadata": {},
   "outputs": [
    {
     "data": {
      "text/plain": [
       "Text(0, 0.5, 'error')"
      ]
     },
     "execution_count": 75,
     "metadata": {},
     "output_type": "execute_result"
    },
    {
     "data": {
      "image/png": "[encoded data removed]",
      "text/plain": [
       "<Figure size 432x288 with 1 Axes>"
      ]
     },
     "metadata": {
      "needs_background": "light"
     },
     "output_type": "display_data"
    }
   ],
   "source": [
    "# Plotting y_test and y_pred to understand the spread.\n",
    "fig = plt.figure()\n",
    "plt.scatter(y_test,y_test_count-y_test)\n",
    "fig.suptitle('y_test vs error', fontsize=20)              # Plot heading \n",
    "plt.xlabel('y_test', fontsize=18)                          # X-label\n",
    "plt.ylabel('error', fontsize=16)                          # Y-label"
   ]
  },
  {
   "cell_type": "code",
   "execution_count": 76,
   "id": "e3edbb38",
   "metadata": {},
   "outputs": [
    {
     "data": {
      "text/plain": [
       "Text(0.5, 1.0, 'Acutal vs Predicted')"
      ]
     },
     "execution_count": 76,
     "metadata": {},
     "output_type": "execute_result"
    },
    {
     "data": {
      "image/png": "[encoded data removed]",
      "text/plain": [
       "<Figure size 432x288 with 1 Axes>"
      ]
     },
     "metadata": {
      "needs_background": "light"
     },
     "output_type": "display_data"
    }
   ],
   "source": [
    "index = [i for i in np.arange(0,len(X_test),1)]\n",
    "plt.plot(index,y_test,color=\"blue\")\n",
    "plt.plot(index,y_test_count,color=\"green\")\n",
    "plt.title(\"Acutal vs Predicted\")"
   ]
  },
  {
   "cell_type": "markdown",
   "id": "432ef089",
   "metadata": {},
   "source": [
    "### Calculate R2 Score and Mean Squared error"
   ]
  },
  {
   "cell_type": "code",
   "execution_count": 77,
   "id": "737e646b",
   "metadata": {},
   "outputs": [],
   "source": [
    "from sklearn.metrics import r2_score,mean_squared_error"
   ]
  },
  {
   "cell_type": "code",
   "execution_count": 78,
   "id": "f71f4295",
   "metadata": {},
   "outputs": [
    {
     "name": "stdout",
     "output_type": "stream",
     "text": [
      "R2 score 0.8125111111435237\n",
      "Mean Squared error 0.008904936295436996\n"
     ]
    }
   ],
   "source": [
    "print('R2 score',r2_score(y_true = y_test , y_pred=y_test_count))\n",
    "print('Mean Squared error',mean_squared_error(y_true = y_test , y_pred=y_test_count))\n"
   ]
  },
  {
   "cell_type": "code",
   "execution_count": 79,
   "id": "717874b1",
   "metadata": {},
   "outputs": [
    {
     "name": "stdout",
     "output_type": "stream",
     "text": [
      "R2 score 0.8199246227062955\n",
      "Mean Squared error 0.009065520884531164\n"
     ]
    }
   ],
   "source": [
    "print('R2 score',r2_score(y_true = y_train , y_pred=y_train_count))\n",
    "print('Mean Squared error',mean_squared_error(y_true = y_train , y_pred=y_train_count))"
   ]
  },
  {
   "cell_type": "markdown",
   "id": "dd9ead85",
   "metadata": {},
   "source": [
    "## Conclusion.\n",
    "\n",
    "- Factors affecting the demand\n",
    "    - atemp - Based on the feeling of temperature, the demand raises upto 46%\n",
    "    - YEAR_2019 - Year on Year the business improvement is around 23%\n",
    "    - There is a constant baseline demand of around 20% from the average.\n",
    "    - These three factors contribute to around 89% percent of demand and thus help in predicting the demand.\n",
    "- Recommendations to business\n",
    "    - Year on Year , the business is in the upward trend, so no problem with business growth post pandemic.\n",
    "    - Downtime and busytime can be predicted based on the weather. Business can use the downtime for maintence, during busy time they can look for ways to expand the supply."
   ]
  }
 ],
 "metadata": {
  "kernelspec": {
   "display_name": "Python 3 (ipykernel)",
   "language": "python",
   "name": "python3"
  },
  "language_info": {
   "codemirror_mode": {
    "name": "ipython",
    "version": 3
   },
   "file_extension": ".py",
   "mimetype": "text/x-python",
   "name": "python",
   "nbconvert_exporter": "python",
   "pygments_lexer": "ipython3",
   "version": "3.8.8"
  }
 },
 "nbformat": 4,
 "nbformat_minor": 5
}
