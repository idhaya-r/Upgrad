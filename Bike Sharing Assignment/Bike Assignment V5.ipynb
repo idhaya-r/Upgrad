{
 "cells": [
  {
   "cell_type": "code",
   "execution_count": 1,
   "id": "c0f3e851",
   "metadata": {},
   "outputs": [],
   "source": [
    "import numpy as np\n",
    "import pandas as pd\n",
    "import seaborn as sns\n",
    "import matplotlib.pyplot as plt\n",
    "%matplotlib inline"
   ]
  },
  {
   "cell_type": "code",
   "execution_count": 2,
   "id": "d4c10f25",
   "metadata": {},
   "outputs": [],
   "source": [
    "bike_df = pd.read_csv(\"day.csv\")"
   ]
  },
  {
   "cell_type": "markdown",
   "id": "e6d00a66",
   "metadata": {},
   "source": [
    "## 1. Data Understanding"
   ]
  },
  {
   "cell_type": "code",
   "execution_count": 3,
   "id": "8f15c1ff",
   "metadata": {},
   "outputs": [
    {
     "data": {
      "text/html": [
       "<div>\n",
       "<style scoped>\n",
       "    .dataframe tbody tr th:only-of-type {\n",
       "        vertical-align: middle;\n",
       "    }\n",
       "\n",
       "    .dataframe tbody tr th {\n",
       "        vertical-align: top;\n",
       "    }\n",
       "\n",
       "    .dataframe thead th {\n",
       "        text-align: right;\n",
       "    }\n",
       "</style>\n",
       "<table border=\"1\" class=\"dataframe\">\n",
       "  <thead>\n",
       "    <tr style=\"text-align: right;\">\n",
       "      <th></th>\n",
       "      <th>instant</th>\n",
       "      <th>dteday</th>\n",
       "      <th>season</th>\n",
       "      <th>yr</th>\n",
       "      <th>mnth</th>\n",
       "      <th>holiday</th>\n",
       "      <th>weekday</th>\n",
       "      <th>workingday</th>\n",
       "      <th>weathersit</th>\n",
       "      <th>temp</th>\n",
       "      <th>atemp</th>\n",
       "      <th>hum</th>\n",
       "      <th>windspeed</th>\n",
       "      <th>casual</th>\n",
       "      <th>registered</th>\n",
       "      <th>cnt</th>\n",
       "    </tr>\n",
       "  </thead>\n",
       "  <tbody>\n",
       "    <tr>\n",
       "      <th>0</th>\n",
       "      <td>1</td>\n",
       "      <td>01-01-2018</td>\n",
       "      <td>1</td>\n",
       "      <td>0</td>\n",
       "      <td>1</td>\n",
       "      <td>0</td>\n",
       "      <td>6</td>\n",
       "      <td>0</td>\n",
       "      <td>2</td>\n",
       "      <td>14.110847</td>\n",
       "      <td>18.18125</td>\n",
       "      <td>80.5833</td>\n",
       "      <td>10.749882</td>\n",
       "      <td>331</td>\n",
       "      <td>654</td>\n",
       "      <td>985</td>\n",
       "    </tr>\n",
       "    <tr>\n",
       "      <th>1</th>\n",
       "      <td>2</td>\n",
       "      <td>02-01-2018</td>\n",
       "      <td>1</td>\n",
       "      <td>0</td>\n",
       "      <td>1</td>\n",
       "      <td>0</td>\n",
       "      <td>0</td>\n",
       "      <td>0</td>\n",
       "      <td>2</td>\n",
       "      <td>14.902598</td>\n",
       "      <td>17.68695</td>\n",
       "      <td>69.6087</td>\n",
       "      <td>16.652113</td>\n",
       "      <td>131</td>\n",
       "      <td>670</td>\n",
       "      <td>801</td>\n",
       "    </tr>\n",
       "    <tr>\n",
       "      <th>2</th>\n",
       "      <td>3</td>\n",
       "      <td>03-01-2018</td>\n",
       "      <td>1</td>\n",
       "      <td>0</td>\n",
       "      <td>1</td>\n",
       "      <td>0</td>\n",
       "      <td>1</td>\n",
       "      <td>1</td>\n",
       "      <td>1</td>\n",
       "      <td>8.050924</td>\n",
       "      <td>9.47025</td>\n",
       "      <td>43.7273</td>\n",
       "      <td>16.636703</td>\n",
       "      <td>120</td>\n",
       "      <td>1229</td>\n",
       "      <td>1349</td>\n",
       "    </tr>\n",
       "    <tr>\n",
       "      <th>3</th>\n",
       "      <td>4</td>\n",
       "      <td>04-01-2018</td>\n",
       "      <td>1</td>\n",
       "      <td>0</td>\n",
       "      <td>1</td>\n",
       "      <td>0</td>\n",
       "      <td>2</td>\n",
       "      <td>1</td>\n",
       "      <td>1</td>\n",
       "      <td>8.200000</td>\n",
       "      <td>10.60610</td>\n",
       "      <td>59.0435</td>\n",
       "      <td>10.739832</td>\n",
       "      <td>108</td>\n",
       "      <td>1454</td>\n",
       "      <td>1562</td>\n",
       "    </tr>\n",
       "    <tr>\n",
       "      <th>4</th>\n",
       "      <td>5</td>\n",
       "      <td>05-01-2018</td>\n",
       "      <td>1</td>\n",
       "      <td>0</td>\n",
       "      <td>1</td>\n",
       "      <td>0</td>\n",
       "      <td>3</td>\n",
       "      <td>1</td>\n",
       "      <td>1</td>\n",
       "      <td>9.305237</td>\n",
       "      <td>11.46350</td>\n",
       "      <td>43.6957</td>\n",
       "      <td>12.522300</td>\n",
       "      <td>82</td>\n",
       "      <td>1518</td>\n",
       "      <td>1600</td>\n",
       "    </tr>\n",
       "  </tbody>\n",
       "</table>\n",
       "</div>"
      ],
      "text/plain": [
       "   instant      dteday  season  yr  mnth  holiday  weekday  workingday  \\\n",
       "0        1  01-01-2018       1   0     1        0        6           0   \n",
       "1        2  02-01-2018       1   0     1        0        0           0   \n",
       "2        3  03-01-2018       1   0     1        0        1           1   \n",
       "3        4  04-01-2018       1   0     1        0        2           1   \n",
       "4        5  05-01-2018       1   0     1        0        3           1   \n",
       "\n",
       "   weathersit       temp     atemp      hum  windspeed  casual  registered  \\\n",
       "0           2  14.110847  18.18125  80.5833  10.749882     331         654   \n",
       "1           2  14.902598  17.68695  69.6087  16.652113     131         670   \n",
       "2           1   8.050924   9.47025  43.7273  16.636703     120        1229   \n",
       "3           1   8.200000  10.60610  59.0435  10.739832     108        1454   \n",
       "4           1   9.305237  11.46350  43.6957  12.522300      82        1518   \n",
       "\n",
       "    cnt  \n",
       "0   985  \n",
       "1   801  \n",
       "2  1349  \n",
       "3  1562  \n",
       "4  1600  "
      ]
     },
     "execution_count": 3,
     "metadata": {},
     "output_type": "execute_result"
    }
   ],
   "source": [
    "bike_df.head()"
   ]
  },
  {
   "cell_type": "code",
   "execution_count": 4,
   "id": "58ef1bff",
   "metadata": {},
   "outputs": [
    {
     "name": "stdout",
     "output_type": "stream",
     "text": [
      "<class 'pandas.core.frame.DataFrame'>\n",
      "RangeIndex: 730 entries, 0 to 729\n",
      "Data columns (total 16 columns):\n",
      " #   Column      Non-Null Count  Dtype  \n",
      "---  ------      --------------  -----  \n",
      " 0   instant     730 non-null    int64  \n",
      " 1   dteday      730 non-null    object \n",
      " 2   season      730 non-null    int64  \n",
      " 3   yr          730 non-null    int64  \n",
      " 4   mnth        730 non-null    int64  \n",
      " 5   holiday     730 non-null    int64  \n",
      " 6   weekday     730 non-null    int64  \n",
      " 7   workingday  730 non-null    int64  \n",
      " 8   weathersit  730 non-null    int64  \n",
      " 9   temp        730 non-null    float64\n",
      " 10  atemp       730 non-null    float64\n",
      " 11  hum         730 non-null    float64\n",
      " 12  windspeed   730 non-null    float64\n",
      " 13  casual      730 non-null    int64  \n",
      " 14  registered  730 non-null    int64  \n",
      " 15  cnt         730 non-null    int64  \n",
      "dtypes: float64(4), int64(11), object(1)\n",
      "memory usage: 91.4+ KB\n"
     ]
    }
   ],
   "source": [
    "bike_df.info()"
   ]
  },
  {
   "cell_type": "code",
   "execution_count": 5,
   "id": "ae0cfec5",
   "metadata": {},
   "outputs": [
    {
     "data": {
      "text/plain": [
       "instant       0.0\n",
       "dteday        0.0\n",
       "season        0.0\n",
       "yr            0.0\n",
       "mnth          0.0\n",
       "holiday       0.0\n",
       "weekday       0.0\n",
       "workingday    0.0\n",
       "weathersit    0.0\n",
       "temp          0.0\n",
       "atemp         0.0\n",
       "hum           0.0\n",
       "windspeed     0.0\n",
       "casual        0.0\n",
       "registered    0.0\n",
       "cnt           0.0\n",
       "dtype: float64"
      ]
     },
     "execution_count": 5,
     "metadata": {},
     "output_type": "execute_result"
    }
   ],
   "source": [
    "#Check null values\n",
    "round(100*(bike_df.isnull().sum()/len(bike_df.index)),2).sort_values(ascending=True)"
   ]
  },
  {
   "cell_type": "code",
   "execution_count": 6,
   "id": "58421ea0",
   "metadata": {},
   "outputs": [
    {
     "data": {
      "text/plain": [
       "(730, 16)"
      ]
     },
     "execution_count": 6,
     "metadata": {},
     "output_type": "execute_result"
    }
   ],
   "source": [
    "bike_df.shape"
   ]
  },
  {
   "cell_type": "code",
   "execution_count": 7,
   "id": "0878e339",
   "metadata": {},
   "outputs": [
    {
     "data": {
      "text/html": [
       "<div>\n",
       "<style scoped>\n",
       "    .dataframe tbody tr th:only-of-type {\n",
       "        vertical-align: middle;\n",
       "    }\n",
       "\n",
       "    .dataframe tbody tr th {\n",
       "        vertical-align: top;\n",
       "    }\n",
       "\n",
       "    .dataframe thead th {\n",
       "        text-align: right;\n",
       "    }\n",
       "</style>\n",
       "<table border=\"1\" class=\"dataframe\">\n",
       "  <thead>\n",
       "    <tr style=\"text-align: right;\">\n",
       "      <th></th>\n",
       "      <th>instant</th>\n",
       "      <th>season</th>\n",
       "      <th>yr</th>\n",
       "      <th>mnth</th>\n",
       "      <th>holiday</th>\n",
       "      <th>weekday</th>\n",
       "      <th>workingday</th>\n",
       "      <th>weathersit</th>\n",
       "      <th>temp</th>\n",
       "      <th>atemp</th>\n",
       "      <th>hum</th>\n",
       "      <th>windspeed</th>\n",
       "      <th>casual</th>\n",
       "      <th>registered</th>\n",
       "      <th>cnt</th>\n",
       "    </tr>\n",
       "  </thead>\n",
       "  <tbody>\n",
       "    <tr>\n",
       "      <th>count</th>\n",
       "      <td>730.000000</td>\n",
       "      <td>730.000000</td>\n",
       "      <td>730.000000</td>\n",
       "      <td>730.000000</td>\n",
       "      <td>730.000000</td>\n",
       "      <td>730.000000</td>\n",
       "      <td>730.000000</td>\n",
       "      <td>730.000000</td>\n",
       "      <td>730.000000</td>\n",
       "      <td>730.000000</td>\n",
       "      <td>730.000000</td>\n",
       "      <td>730.000000</td>\n",
       "      <td>730.000000</td>\n",
       "      <td>730.000000</td>\n",
       "      <td>730.000000</td>\n",
       "    </tr>\n",
       "    <tr>\n",
       "      <th>mean</th>\n",
       "      <td>365.500000</td>\n",
       "      <td>2.498630</td>\n",
       "      <td>0.500000</td>\n",
       "      <td>6.526027</td>\n",
       "      <td>0.028767</td>\n",
       "      <td>2.997260</td>\n",
       "      <td>0.683562</td>\n",
       "      <td>1.394521</td>\n",
       "      <td>20.319259</td>\n",
       "      <td>23.726322</td>\n",
       "      <td>62.765175</td>\n",
       "      <td>12.763620</td>\n",
       "      <td>849.249315</td>\n",
       "      <td>3658.757534</td>\n",
       "      <td>4508.006849</td>\n",
       "    </tr>\n",
       "    <tr>\n",
       "      <th>std</th>\n",
       "      <td>210.877136</td>\n",
       "      <td>1.110184</td>\n",
       "      <td>0.500343</td>\n",
       "      <td>3.450215</td>\n",
       "      <td>0.167266</td>\n",
       "      <td>2.006161</td>\n",
       "      <td>0.465405</td>\n",
       "      <td>0.544807</td>\n",
       "      <td>7.506729</td>\n",
       "      <td>8.150308</td>\n",
       "      <td>14.237589</td>\n",
       "      <td>5.195841</td>\n",
       "      <td>686.479875</td>\n",
       "      <td>1559.758728</td>\n",
       "      <td>1936.011647</td>\n",
       "    </tr>\n",
       "    <tr>\n",
       "      <th>min</th>\n",
       "      <td>1.000000</td>\n",
       "      <td>1.000000</td>\n",
       "      <td>0.000000</td>\n",
       "      <td>1.000000</td>\n",
       "      <td>0.000000</td>\n",
       "      <td>0.000000</td>\n",
       "      <td>0.000000</td>\n",
       "      <td>1.000000</td>\n",
       "      <td>2.424346</td>\n",
       "      <td>3.953480</td>\n",
       "      <td>0.000000</td>\n",
       "      <td>1.500244</td>\n",
       "      <td>2.000000</td>\n",
       "      <td>20.000000</td>\n",
       "      <td>22.000000</td>\n",
       "    </tr>\n",
       "    <tr>\n",
       "      <th>25%</th>\n",
       "      <td>183.250000</td>\n",
       "      <td>2.000000</td>\n",
       "      <td>0.000000</td>\n",
       "      <td>4.000000</td>\n",
       "      <td>0.000000</td>\n",
       "      <td>1.000000</td>\n",
       "      <td>0.000000</td>\n",
       "      <td>1.000000</td>\n",
       "      <td>13.811885</td>\n",
       "      <td>16.889713</td>\n",
       "      <td>52.000000</td>\n",
       "      <td>9.041650</td>\n",
       "      <td>316.250000</td>\n",
       "      <td>2502.250000</td>\n",
       "      <td>3169.750000</td>\n",
       "    </tr>\n",
       "    <tr>\n",
       "      <th>50%</th>\n",
       "      <td>365.500000</td>\n",
       "      <td>3.000000</td>\n",
       "      <td>0.500000</td>\n",
       "      <td>7.000000</td>\n",
       "      <td>0.000000</td>\n",
       "      <td>3.000000</td>\n",
       "      <td>1.000000</td>\n",
       "      <td>1.000000</td>\n",
       "      <td>20.465826</td>\n",
       "      <td>24.368225</td>\n",
       "      <td>62.625000</td>\n",
       "      <td>12.125325</td>\n",
       "      <td>717.000000</td>\n",
       "      <td>3664.500000</td>\n",
       "      <td>4548.500000</td>\n",
       "    </tr>\n",
       "    <tr>\n",
       "      <th>75%</th>\n",
       "      <td>547.750000</td>\n",
       "      <td>3.000000</td>\n",
       "      <td>1.000000</td>\n",
       "      <td>10.000000</td>\n",
       "      <td>0.000000</td>\n",
       "      <td>5.000000</td>\n",
       "      <td>1.000000</td>\n",
       "      <td>2.000000</td>\n",
       "      <td>26.880615</td>\n",
       "      <td>30.445775</td>\n",
       "      <td>72.989575</td>\n",
       "      <td>15.625589</td>\n",
       "      <td>1096.500000</td>\n",
       "      <td>4783.250000</td>\n",
       "      <td>5966.000000</td>\n",
       "    </tr>\n",
       "    <tr>\n",
       "      <th>max</th>\n",
       "      <td>730.000000</td>\n",
       "      <td>4.000000</td>\n",
       "      <td>1.000000</td>\n",
       "      <td>12.000000</td>\n",
       "      <td>1.000000</td>\n",
       "      <td>6.000000</td>\n",
       "      <td>1.000000</td>\n",
       "      <td>3.000000</td>\n",
       "      <td>35.328347</td>\n",
       "      <td>42.044800</td>\n",
       "      <td>97.250000</td>\n",
       "      <td>34.000021</td>\n",
       "      <td>3410.000000</td>\n",
       "      <td>6946.000000</td>\n",
       "      <td>8714.000000</td>\n",
       "    </tr>\n",
       "  </tbody>\n",
       "</table>\n",
       "</div>"
      ],
      "text/plain": [
       "          instant      season          yr        mnth     holiday     weekday  \\\n",
       "count  730.000000  730.000000  730.000000  730.000000  730.000000  730.000000   \n",
       "mean   365.500000    2.498630    0.500000    6.526027    0.028767    2.997260   \n",
       "std    210.877136    1.110184    0.500343    3.450215    0.167266    2.006161   \n",
       "min      1.000000    1.000000    0.000000    1.000000    0.000000    0.000000   \n",
       "25%    183.250000    2.000000    0.000000    4.000000    0.000000    1.000000   \n",
       "50%    365.500000    3.000000    0.500000    7.000000    0.000000    3.000000   \n",
       "75%    547.750000    3.000000    1.000000   10.000000    0.000000    5.000000   \n",
       "max    730.000000    4.000000    1.000000   12.000000    1.000000    6.000000   \n",
       "\n",
       "       workingday  weathersit        temp       atemp         hum   windspeed  \\\n",
       "count  730.000000  730.000000  730.000000  730.000000  730.000000  730.000000   \n",
       "mean     0.683562    1.394521   20.319259   23.726322   62.765175   12.763620   \n",
       "std      0.465405    0.544807    7.506729    8.150308   14.237589    5.195841   \n",
       "min      0.000000    1.000000    2.424346    3.953480    0.000000    1.500244   \n",
       "25%      0.000000    1.000000   13.811885   16.889713   52.000000    9.041650   \n",
       "50%      1.000000    1.000000   20.465826   24.368225   62.625000   12.125325   \n",
       "75%      1.000000    2.000000   26.880615   30.445775   72.989575   15.625589   \n",
       "max      1.000000    3.000000   35.328347   42.044800   97.250000   34.000021   \n",
       "\n",
       "            casual   registered          cnt  \n",
       "count   730.000000   730.000000   730.000000  \n",
       "mean    849.249315  3658.757534  4508.006849  \n",
       "std     686.479875  1559.758728  1936.011647  \n",
       "min       2.000000    20.000000    22.000000  \n",
       "25%     316.250000  2502.250000  3169.750000  \n",
       "50%     717.000000  3664.500000  4548.500000  \n",
       "75%    1096.500000  4783.250000  5966.000000  \n",
       "max    3410.000000  6946.000000  8714.000000  "
      ]
     },
     "execution_count": 7,
     "metadata": {},
     "output_type": "execute_result"
    }
   ],
   "source": [
    "bike_df.describe()"
   ]
  },
  {
   "cell_type": "markdown",
   "id": "d3b1b932",
   "metadata": {},
   "source": [
    "## 2. Data cleaning and manipulation"
   ]
  },
  {
   "cell_type": "code",
   "execution_count": 8,
   "id": "84e456df",
   "metadata": {},
   "outputs": [],
   "source": [
    "#convert date with object type to date.\n",
    "bike_df['dteday'] = pd.to_datetime(bike_df['dteday'],dayfirst=True)"
   ]
  },
  {
   "cell_type": "code",
   "execution_count": 9,
   "id": "3deb045f",
   "metadata": {
    "scrolled": true
   },
   "outputs": [
    {
     "name": "stdout",
     "output_type": "stream",
     "text": [
      "instant 730\n",
      "dteday 730\n",
      "season 4\n",
      "3    188\n",
      "2    184\n",
      "1    180\n",
      "4    178\n",
      "Name: season, dtype: int64\n",
      "yr 2\n",
      "0    365\n",
      "1    365\n",
      "Name: yr, dtype: int64\n",
      "mnth 12\n",
      "holiday 2\n",
      "0    709\n",
      "1     21\n",
      "Name: holiday, dtype: int64\n",
      "weekday 7\n",
      "6    105\n",
      "0    105\n",
      "1    105\n",
      "2    104\n",
      "4    104\n",
      "5    104\n",
      "3    103\n",
      "Name: weekday, dtype: int64\n",
      "workingday 2\n",
      "1    499\n",
      "0    231\n",
      "Name: workingday, dtype: int64\n",
      "weathersit 3\n",
      "1    463\n",
      "2    246\n",
      "3     21\n",
      "Name: weathersit, dtype: int64\n",
      "temp 498\n",
      "atemp 689\n",
      "hum 594\n",
      "windspeed 649\n",
      "casual 605\n",
      "registered 678\n",
      "cnt 695\n"
     ]
    }
   ],
   "source": [
    "# Exploring the data.. \n",
    "# List the number of unique values in the format column, unique values if the values are less.\n",
    "for col in bike_df.columns:\n",
    "    print(col,bike_df[col].nunique())\n",
    "    if bike_df[col].nunique()<10:\n",
    "        print(bike_df[col].value_counts())"
   ]
  },
  {
   "cell_type": "markdown",
   "id": "c3f1abd7",
   "metadata": {},
   "source": [
    "Conclusion: instant is an identifier column, can be removed."
   ]
  },
  {
   "cell_type": "code",
   "execution_count": 10,
   "id": "4935bf53",
   "metadata": {},
   "outputs": [],
   "source": [
    "bike_df.drop('instant',axis=1,inplace=True)"
   ]
  },
  {
   "cell_type": "code",
   "execution_count": 74,
   "id": "a50001cd",
   "metadata": {},
   "outputs": [
    {
     "ename": "KeyError",
     "evalue": "'temp'",
     "output_type": "error",
     "traceback": [
      "\u001b[1;31m---------------------------------------------------------------------------\u001b[0m",
      "\u001b[1;31mKeyError\u001b[0m                                  Traceback (most recent call last)",
      "\u001b[1;32m~\\anaconda3\\lib\\site-packages\\pandas\\core\\indexes\\base.py\u001b[0m in \u001b[0;36mget_loc\u001b[1;34m(self, key, method, tolerance)\u001b[0m\n\u001b[0;32m   3360\u001b[0m             \u001b[1;32mtry\u001b[0m\u001b[1;33m:\u001b[0m\u001b[1;33m\u001b[0m\u001b[1;33m\u001b[0m\u001b[0m\n\u001b[1;32m-> 3361\u001b[1;33m                 \u001b[1;32mreturn\u001b[0m \u001b[0mself\u001b[0m\u001b[1;33m.\u001b[0m\u001b[0m_engine\u001b[0m\u001b[1;33m.\u001b[0m\u001b[0mget_loc\u001b[0m\u001b[1;33m(\u001b[0m\u001b[0mcasted_key\u001b[0m\u001b[1;33m)\u001b[0m\u001b[1;33m\u001b[0m\u001b[1;33m\u001b[0m\u001b[0m\n\u001b[0m\u001b[0;32m   3362\u001b[0m             \u001b[1;32mexcept\u001b[0m \u001b[0mKeyError\u001b[0m \u001b[1;32mas\u001b[0m \u001b[0merr\u001b[0m\u001b[1;33m:\u001b[0m\u001b[1;33m\u001b[0m\u001b[1;33m\u001b[0m\u001b[0m\n",
      "\u001b[1;32m~\\anaconda3\\lib\\site-packages\\pandas\\_libs\\index.pyx\u001b[0m in \u001b[0;36mpandas._libs.index.IndexEngine.get_loc\u001b[1;34m()\u001b[0m\n",
      "\u001b[1;32m~\\anaconda3\\lib\\site-packages\\pandas\\_libs\\index.pyx\u001b[0m in \u001b[0;36mpandas._libs.index.IndexEngine.get_loc\u001b[1;34m()\u001b[0m\n",
      "\u001b[1;32mpandas\\_libs\\hashtable_class_helper.pxi\u001b[0m in \u001b[0;36mpandas._libs.hashtable.PyObjectHashTable.get_item\u001b[1;34m()\u001b[0m\n",
      "\u001b[1;32mpandas\\_libs\\hashtable_class_helper.pxi\u001b[0m in \u001b[0;36mpandas._libs.hashtable.PyObjectHashTable.get_item\u001b[1;34m()\u001b[0m\n",
      "\u001b[1;31mKeyError\u001b[0m: 'temp'",
      "\nThe above exception was the direct cause of the following exception:\n",
      "\u001b[1;31mKeyError\u001b[0m                                  Traceback (most recent call last)",
      "\u001b[1;32m~\\AppData\\Local\\Temp/ipykernel_22224/2674665276.py\u001b[0m in \u001b[0;36m<module>\u001b[1;34m\u001b[0m\n\u001b[0;32m      1\u001b[0m \u001b[0mplt\u001b[0m\u001b[1;33m.\u001b[0m\u001b[0mfigure\u001b[0m\u001b[1;33m(\u001b[0m\u001b[0mfigsize\u001b[0m \u001b[1;33m=\u001b[0m \u001b[1;33m(\u001b[0m\u001b[1;36m20\u001b[0m\u001b[1;33m,\u001b[0m\u001b[1;36m10\u001b[0m\u001b[1;33m)\u001b[0m\u001b[1;33m)\u001b[0m\u001b[1;33m\u001b[0m\u001b[1;33m\u001b[0m\u001b[0m\n\u001b[1;32m----> 2\u001b[1;33m \u001b[0msns\u001b[0m\u001b[1;33m.\u001b[0m\u001b[0mpairplot\u001b[0m\u001b[1;33m(\u001b[0m\u001b[0mdata\u001b[0m\u001b[1;33m=\u001b[0m\u001b[0mbike_df\u001b[0m\u001b[1;33m,\u001b[0m\u001b[0mvars\u001b[0m\u001b[1;33m=\u001b[0m\u001b[1;33m[\u001b[0m\u001b[1;34m'cnt'\u001b[0m\u001b[1;33m,\u001b[0m \u001b[1;34m'temp'\u001b[0m\u001b[1;33m,\u001b[0m \u001b[1;34m'atemp'\u001b[0m\u001b[1;33m,\u001b[0m \u001b[1;34m'hum'\u001b[0m\u001b[1;33m,\u001b[0m\u001b[1;34m'windspeed'\u001b[0m\u001b[1;33m]\u001b[0m\u001b[1;33m)\u001b[0m\u001b[1;33m\u001b[0m\u001b[1;33m\u001b[0m\u001b[0m\n\u001b[0m",
      "\u001b[1;32m~\\anaconda3\\lib\\site-packages\\seaborn\\_decorators.py\u001b[0m in \u001b[0;36minner_f\u001b[1;34m(*args, **kwargs)\u001b[0m\n\u001b[0;32m     44\u001b[0m             )\n\u001b[0;32m     45\u001b[0m         \u001b[0mkwargs\u001b[0m\u001b[1;33m.\u001b[0m\u001b[0mupdate\u001b[0m\u001b[1;33m(\u001b[0m\u001b[1;33m{\u001b[0m\u001b[0mk\u001b[0m\u001b[1;33m:\u001b[0m \u001b[0marg\u001b[0m \u001b[1;32mfor\u001b[0m \u001b[0mk\u001b[0m\u001b[1;33m,\u001b[0m \u001b[0marg\u001b[0m \u001b[1;32min\u001b[0m \u001b[0mzip\u001b[0m\u001b[1;33m(\u001b[0m\u001b[0msig\u001b[0m\u001b[1;33m.\u001b[0m\u001b[0mparameters\u001b[0m\u001b[1;33m,\u001b[0m \u001b[0margs\u001b[0m\u001b[1;33m)\u001b[0m\u001b[1;33m}\u001b[0m\u001b[1;33m)\u001b[0m\u001b[1;33m\u001b[0m\u001b[1;33m\u001b[0m\u001b[0m\n\u001b[1;32m---> 46\u001b[1;33m         \u001b[1;32mreturn\u001b[0m \u001b[0mf\u001b[0m\u001b[1;33m(\u001b[0m\u001b[1;33m**\u001b[0m\u001b[0mkwargs\u001b[0m\u001b[1;33m)\u001b[0m\u001b[1;33m\u001b[0m\u001b[1;33m\u001b[0m\u001b[0m\n\u001b[0m\u001b[0;32m     47\u001b[0m     \u001b[1;32mreturn\u001b[0m \u001b[0minner_f\u001b[0m\u001b[1;33m\u001b[0m\u001b[1;33m\u001b[0m\u001b[0m\n\u001b[0;32m     48\u001b[0m \u001b[1;33m\u001b[0m\u001b[0m\n",
      "\u001b[1;32m~\\anaconda3\\lib\\site-packages\\seaborn\\axisgrid.py\u001b[0m in \u001b[0;36mpairplot\u001b[1;34m(data, hue, hue_order, palette, vars, x_vars, y_vars, kind, diag_kind, markers, height, aspect, corner, dropna, plot_kws, diag_kws, grid_kws, size)\u001b[0m\n\u001b[0;32m   2124\u001b[0m     \u001b[0mdiag_kws\u001b[0m\u001b[1;33m.\u001b[0m\u001b[0msetdefault\u001b[0m\u001b[1;33m(\u001b[0m\u001b[1;34m\"legend\"\u001b[0m\u001b[1;33m,\u001b[0m \u001b[1;32mFalse\u001b[0m\u001b[1;33m)\u001b[0m\u001b[1;33m\u001b[0m\u001b[1;33m\u001b[0m\u001b[0m\n\u001b[0;32m   2125\u001b[0m     \u001b[1;32mif\u001b[0m \u001b[0mdiag_kind\u001b[0m \u001b[1;33m==\u001b[0m \u001b[1;34m\"hist\"\u001b[0m\u001b[1;33m:\u001b[0m\u001b[1;33m\u001b[0m\u001b[1;33m\u001b[0m\u001b[0m\n\u001b[1;32m-> 2126\u001b[1;33m         \u001b[0mgrid\u001b[0m\u001b[1;33m.\u001b[0m\u001b[0mmap_diag\u001b[0m\u001b[1;33m(\u001b[0m\u001b[0mhistplot\u001b[0m\u001b[1;33m,\u001b[0m \u001b[1;33m**\u001b[0m\u001b[0mdiag_kws\u001b[0m\u001b[1;33m)\u001b[0m\u001b[1;33m\u001b[0m\u001b[1;33m\u001b[0m\u001b[0m\n\u001b[0m\u001b[0;32m   2127\u001b[0m     \u001b[1;32melif\u001b[0m \u001b[0mdiag_kind\u001b[0m \u001b[1;33m==\u001b[0m \u001b[1;34m\"kde\"\u001b[0m\u001b[1;33m:\u001b[0m\u001b[1;33m\u001b[0m\u001b[1;33m\u001b[0m\u001b[0m\n\u001b[0;32m   2128\u001b[0m         \u001b[0mdiag_kws\u001b[0m\u001b[1;33m.\u001b[0m\u001b[0msetdefault\u001b[0m\u001b[1;33m(\u001b[0m\u001b[1;34m\"fill\"\u001b[0m\u001b[1;33m,\u001b[0m \u001b[1;32mTrue\u001b[0m\u001b[1;33m)\u001b[0m\u001b[1;33m\u001b[0m\u001b[1;33m\u001b[0m\u001b[0m\n",
      "\u001b[1;32m~\\anaconda3\\lib\\site-packages\\seaborn\\axisgrid.py\u001b[0m in \u001b[0;36mmap_diag\u001b[1;34m(self, func, **kwargs)\u001b[0m\n\u001b[0;32m   1459\u001b[0m                 \u001b[0mplt\u001b[0m\u001b[1;33m.\u001b[0m\u001b[0msca\u001b[0m\u001b[1;33m(\u001b[0m\u001b[0max\u001b[0m\u001b[1;33m)\u001b[0m\u001b[1;33m\u001b[0m\u001b[1;33m\u001b[0m\u001b[0m\n\u001b[0;32m   1460\u001b[0m \u001b[1;33m\u001b[0m\u001b[0m\n\u001b[1;32m-> 1461\u001b[1;33m             \u001b[0mvector\u001b[0m \u001b[1;33m=\u001b[0m \u001b[0mself\u001b[0m\u001b[1;33m.\u001b[0m\u001b[0mdata\u001b[0m\u001b[1;33m[\u001b[0m\u001b[0mvar\u001b[0m\u001b[1;33m]\u001b[0m\u001b[1;33m\u001b[0m\u001b[1;33m\u001b[0m\u001b[0m\n\u001b[0m\u001b[0;32m   1462\u001b[0m             \u001b[1;32mif\u001b[0m \u001b[0mself\u001b[0m\u001b[1;33m.\u001b[0m\u001b[0m_hue_var\u001b[0m \u001b[1;32mis\u001b[0m \u001b[1;32mnot\u001b[0m \u001b[1;32mNone\u001b[0m\u001b[1;33m:\u001b[0m\u001b[1;33m\u001b[0m\u001b[1;33m\u001b[0m\u001b[0m\n\u001b[0;32m   1463\u001b[0m                 \u001b[0mhue\u001b[0m \u001b[1;33m=\u001b[0m \u001b[0mself\u001b[0m\u001b[1;33m.\u001b[0m\u001b[0mdata\u001b[0m\u001b[1;33m[\u001b[0m\u001b[0mself\u001b[0m\u001b[1;33m.\u001b[0m\u001b[0m_hue_var\u001b[0m\u001b[1;33m]\u001b[0m\u001b[1;33m\u001b[0m\u001b[1;33m\u001b[0m\u001b[0m\n",
      "\u001b[1;32m~\\anaconda3\\lib\\site-packages\\pandas\\core\\frame.py\u001b[0m in \u001b[0;36m__getitem__\u001b[1;34m(self, key)\u001b[0m\n\u001b[0;32m   3456\u001b[0m             \u001b[1;32mif\u001b[0m \u001b[0mself\u001b[0m\u001b[1;33m.\u001b[0m\u001b[0mcolumns\u001b[0m\u001b[1;33m.\u001b[0m\u001b[0mnlevels\u001b[0m \u001b[1;33m>\u001b[0m \u001b[1;36m1\u001b[0m\u001b[1;33m:\u001b[0m\u001b[1;33m\u001b[0m\u001b[1;33m\u001b[0m\u001b[0m\n\u001b[0;32m   3457\u001b[0m                 \u001b[1;32mreturn\u001b[0m \u001b[0mself\u001b[0m\u001b[1;33m.\u001b[0m\u001b[0m_getitem_multilevel\u001b[0m\u001b[1;33m(\u001b[0m\u001b[0mkey\u001b[0m\u001b[1;33m)\u001b[0m\u001b[1;33m\u001b[0m\u001b[1;33m\u001b[0m\u001b[0m\n\u001b[1;32m-> 3458\u001b[1;33m             \u001b[0mindexer\u001b[0m \u001b[1;33m=\u001b[0m \u001b[0mself\u001b[0m\u001b[1;33m.\u001b[0m\u001b[0mcolumns\u001b[0m\u001b[1;33m.\u001b[0m\u001b[0mget_loc\u001b[0m\u001b[1;33m(\u001b[0m\u001b[0mkey\u001b[0m\u001b[1;33m)\u001b[0m\u001b[1;33m\u001b[0m\u001b[1;33m\u001b[0m\u001b[0m\n\u001b[0m\u001b[0;32m   3459\u001b[0m             \u001b[1;32mif\u001b[0m \u001b[0mis_integer\u001b[0m\u001b[1;33m(\u001b[0m\u001b[0mindexer\u001b[0m\u001b[1;33m)\u001b[0m\u001b[1;33m:\u001b[0m\u001b[1;33m\u001b[0m\u001b[1;33m\u001b[0m\u001b[0m\n\u001b[0;32m   3460\u001b[0m                 \u001b[0mindexer\u001b[0m \u001b[1;33m=\u001b[0m \u001b[1;33m[\u001b[0m\u001b[0mindexer\u001b[0m\u001b[1;33m]\u001b[0m\u001b[1;33m\u001b[0m\u001b[1;33m\u001b[0m\u001b[0m\n",
      "\u001b[1;32m~\\anaconda3\\lib\\site-packages\\pandas\\core\\indexes\\base.py\u001b[0m in \u001b[0;36mget_loc\u001b[1;34m(self, key, method, tolerance)\u001b[0m\n\u001b[0;32m   3361\u001b[0m                 \u001b[1;32mreturn\u001b[0m \u001b[0mself\u001b[0m\u001b[1;33m.\u001b[0m\u001b[0m_engine\u001b[0m\u001b[1;33m.\u001b[0m\u001b[0mget_loc\u001b[0m\u001b[1;33m(\u001b[0m\u001b[0mcasted_key\u001b[0m\u001b[1;33m)\u001b[0m\u001b[1;33m\u001b[0m\u001b[1;33m\u001b[0m\u001b[0m\n\u001b[0;32m   3362\u001b[0m             \u001b[1;32mexcept\u001b[0m \u001b[0mKeyError\u001b[0m \u001b[1;32mas\u001b[0m \u001b[0merr\u001b[0m\u001b[1;33m:\u001b[0m\u001b[1;33m\u001b[0m\u001b[1;33m\u001b[0m\u001b[0m\n\u001b[1;32m-> 3363\u001b[1;33m                 \u001b[1;32mraise\u001b[0m \u001b[0mKeyError\u001b[0m\u001b[1;33m(\u001b[0m\u001b[0mkey\u001b[0m\u001b[1;33m)\u001b[0m \u001b[1;32mfrom\u001b[0m \u001b[0merr\u001b[0m\u001b[1;33m\u001b[0m\u001b[1;33m\u001b[0m\u001b[0m\n\u001b[0m\u001b[0;32m   3364\u001b[0m \u001b[1;33m\u001b[0m\u001b[0m\n\u001b[0;32m   3365\u001b[0m         \u001b[1;32mif\u001b[0m \u001b[0mis_scalar\u001b[0m\u001b[1;33m(\u001b[0m\u001b[0mkey\u001b[0m\u001b[1;33m)\u001b[0m \u001b[1;32mand\u001b[0m \u001b[0misna\u001b[0m\u001b[1;33m(\u001b[0m\u001b[0mkey\u001b[0m\u001b[1;33m)\u001b[0m \u001b[1;32mand\u001b[0m \u001b[1;32mnot\u001b[0m \u001b[0mself\u001b[0m\u001b[1;33m.\u001b[0m\u001b[0mhasnans\u001b[0m\u001b[1;33m:\u001b[0m\u001b[1;33m\u001b[0m\u001b[1;33m\u001b[0m\u001b[0m\n",
      "\u001b[1;31mKeyError\u001b[0m: 'temp'"
     ]
    },
    {
     "data": {
      "text/plain": [
       "<Figure size 1440x720 with 0 Axes>"
      ]
     },
     "metadata": {},
     "output_type": "display_data"
    },
    {
     "data": {
      "image/png": "[encoded data removed]",
      "text/plain": [
       "<Figure size 900x900 with 30 Axes>"
      ]
     },
     "metadata": {
      "needs_background": "light"
     },
     "output_type": "display_data"
    }
   ],
   "source": [
    "plt.figure(figsize = (20,10))\n",
    "sns.pairplot(data=bike_df,vars=['cnt', 'temp', 'atemp', 'hum','windspeed'])"
   ]
  },
  {
   "cell_type": "markdown",
   "id": "8319664b",
   "metadata": {},
   "source": [
    "Conclusion: Temp and atemp is highly correlated. Count is linearly correlated with atemp and temp. Hence linear regression can be used."
   ]
  },
  {
   "cell_type": "code",
   "execution_count": 12,
   "id": "b445f12f",
   "metadata": {},
   "outputs": [
    {
     "data": {
      "text/plain": [
       "<AxesSubplot:>"
      ]
     },
     "execution_count": 12,
     "metadata": {},
     "output_type": "execute_result"
    },
    {
     "data": {
      "image/png": "[encoded data removed]",
      "text/plain": [
       "<Figure size 1440x720 with 2 Axes>"
      ]
     },
     "metadata": {
      "needs_background": "light"
     },
     "output_type": "display_data"
    }
   ],
   "source": [
    "plt.figure(figsize = (20,10))        # Size of the figure\n",
    "sns.heatmap(bike_df[['atemp','temp','hum','windspeed','casual','registered','cnt']].corr(),annot=True)"
   ]
  },
  {
   "cell_type": "code",
   "execution_count": null,
   "id": "339f0d76",
   "metadata": {},
   "outputs": [],
   "source": []
  },
  {
   "cell_type": "markdown",
   "id": "58b89dce",
   "metadata": {},
   "source": [
    "#### Observation: temp and atemp are highly correlated, One of the variables can be dropped.\n",
    "#### Observation: Keeping the casual and registered might cause data leakage, so removing one of the variables"
   ]
  },
  {
   "cell_type": "code",
   "execution_count": 13,
   "id": "0b13b340",
   "metadata": {},
   "outputs": [],
   "source": [
    "bike_v2=bike_df.drop(['temp','casual','registered'],inplace=True,axis=1)"
   ]
  },
  {
   "cell_type": "code",
   "execution_count": 14,
   "id": "87fdc826",
   "metadata": {},
   "outputs": [
    {
     "data": {
      "text/plain": [
       "<AxesSubplot:>"
      ]
     },
     "execution_count": 14,
     "metadata": {},
     "output_type": "execute_result"
    },
    {
     "data": {
      "image/png": "[encoded data removed]",
      "text/plain": [
       "<Figure size 1440x720 with 2 Axes>"
      ]
     },
     "metadata": {
      "needs_background": "light"
     },
     "output_type": "display_data"
    }
   ],
   "source": [
    "plt.figure(figsize = (20,10))        # Size of the figure\n",
    "sns.heatmap(bike_df[['atemp','hum','cnt']].corr(),annot=True)"
   ]
  },
  {
   "cell_type": "code",
   "execution_count": 15,
   "id": "618b0546",
   "metadata": {},
   "outputs": [],
   "source": [
    "# Check outliers.. \n",
    "\n"
   ]
  },
  {
   "cell_type": "code",
   "execution_count": 16,
   "id": "b6ee835f",
   "metadata": {},
   "outputs": [
    {
     "data": {
      "text/html": [
       "<div>\n",
       "<style scoped>\n",
       "    .dataframe tbody tr th:only-of-type {\n",
       "        vertical-align: middle;\n",
       "    }\n",
       "\n",
       "    .dataframe tbody tr th {\n",
       "        vertical-align: top;\n",
       "    }\n",
       "\n",
       "    .dataframe thead th {\n",
       "        text-align: right;\n",
       "    }\n",
       "</style>\n",
       "<table border=\"1\" class=\"dataframe\">\n",
       "  <thead>\n",
       "    <tr style=\"text-align: right;\">\n",
       "      <th></th>\n",
       "      <th>dteday</th>\n",
       "      <th>season</th>\n",
       "      <th>yr</th>\n",
       "      <th>mnth</th>\n",
       "      <th>holiday</th>\n",
       "      <th>weekday</th>\n",
       "      <th>workingday</th>\n",
       "      <th>weathersit</th>\n",
       "      <th>atemp</th>\n",
       "      <th>hum</th>\n",
       "      <th>windspeed</th>\n",
       "      <th>cnt</th>\n",
       "    </tr>\n",
       "  </thead>\n",
       "  <tbody>\n",
       "    <tr>\n",
       "      <th>0</th>\n",
       "      <td>2018-01-01</td>\n",
       "      <td>SPRING</td>\n",
       "      <td>0</td>\n",
       "      <td>1</td>\n",
       "      <td>0</td>\n",
       "      <td>6</td>\n",
       "      <td>0</td>\n",
       "      <td>2</td>\n",
       "      <td>18.18125</td>\n",
       "      <td>80.5833</td>\n",
       "      <td>10.749882</td>\n",
       "      <td>985</td>\n",
       "    </tr>\n",
       "    <tr>\n",
       "      <th>1</th>\n",
       "      <td>2018-01-02</td>\n",
       "      <td>SPRING</td>\n",
       "      <td>0</td>\n",
       "      <td>1</td>\n",
       "      <td>0</td>\n",
       "      <td>0</td>\n",
       "      <td>0</td>\n",
       "      <td>2</td>\n",
       "      <td>17.68695</td>\n",
       "      <td>69.6087</td>\n",
       "      <td>16.652113</td>\n",
       "      <td>801</td>\n",
       "    </tr>\n",
       "    <tr>\n",
       "      <th>2</th>\n",
       "      <td>2018-01-03</td>\n",
       "      <td>SPRING</td>\n",
       "      <td>0</td>\n",
       "      <td>1</td>\n",
       "      <td>0</td>\n",
       "      <td>1</td>\n",
       "      <td>1</td>\n",
       "      <td>1</td>\n",
       "      <td>9.47025</td>\n",
       "      <td>43.7273</td>\n",
       "      <td>16.636703</td>\n",
       "      <td>1349</td>\n",
       "    </tr>\n",
       "    <tr>\n",
       "      <th>3</th>\n",
       "      <td>2018-01-04</td>\n",
       "      <td>SPRING</td>\n",
       "      <td>0</td>\n",
       "      <td>1</td>\n",
       "      <td>0</td>\n",
       "      <td>2</td>\n",
       "      <td>1</td>\n",
       "      <td>1</td>\n",
       "      <td>10.60610</td>\n",
       "      <td>59.0435</td>\n",
       "      <td>10.739832</td>\n",
       "      <td>1562</td>\n",
       "    </tr>\n",
       "    <tr>\n",
       "      <th>4</th>\n",
       "      <td>2018-01-05</td>\n",
       "      <td>SPRING</td>\n",
       "      <td>0</td>\n",
       "      <td>1</td>\n",
       "      <td>0</td>\n",
       "      <td>3</td>\n",
       "      <td>1</td>\n",
       "      <td>1</td>\n",
       "      <td>11.46350</td>\n",
       "      <td>43.6957</td>\n",
       "      <td>12.522300</td>\n",
       "      <td>1600</td>\n",
       "    </tr>\n",
       "  </tbody>\n",
       "</table>\n",
       "</div>"
      ],
      "text/plain": [
       "      dteday  season  yr  mnth  holiday  weekday  workingday  weathersit  \\\n",
       "0 2018-01-01  SPRING   0     1        0        6           0           2   \n",
       "1 2018-01-02  SPRING   0     1        0        0           0           2   \n",
       "2 2018-01-03  SPRING   0     1        0        1           1           1   \n",
       "3 2018-01-04  SPRING   0     1        0        2           1           1   \n",
       "4 2018-01-05  SPRING   0     1        0        3           1           1   \n",
       "\n",
       "      atemp      hum  windspeed   cnt  \n",
       "0  18.18125  80.5833  10.749882   985  \n",
       "1  17.68695  69.6087  16.652113   801  \n",
       "2   9.47025  43.7273  16.636703  1349  \n",
       "3  10.60610  59.0435  10.739832  1562  \n",
       "4  11.46350  43.6957  12.522300  1600  "
      ]
     },
     "execution_count": 16,
     "metadata": {},
     "output_type": "execute_result"
    }
   ],
   "source": [
    "# Replace categorical values with string value.\n",
    "bike_v2 = bike_df.copy()\n",
    "bike_v2['season']=bike_df['season'].map({1:'SPRING',2:'SUMMER',3:'FALL',4:'WINTER'})\n",
    "bike_v2.head()"
   ]
  },
  {
   "cell_type": "code",
   "execution_count": 17,
   "id": "217731ed",
   "metadata": {},
   "outputs": [
    {
     "data": {
      "text/plain": [
       "FALL      188\n",
       "SUMMER    184\n",
       "SPRING    180\n",
       "WINTER    178\n",
       "Name: season, dtype: int64"
      ]
     },
     "execution_count": 17,
     "metadata": {},
     "output_type": "execute_result"
    }
   ],
   "source": [
    "bike_v2['season'].value_counts()"
   ]
  },
  {
   "cell_type": "code",
   "execution_count": 18,
   "id": "bd9cea8c",
   "metadata": {},
   "outputs": [],
   "source": [
    "# Replace categorical values with string value.\n",
    "bike_v2['weathersit']=bike_df['weathersit'].map({1:'CLEAR',2:'MIST',3:'LIGHT_RAIN',4:'HEAVY_RAIN'})"
   ]
  },
  {
   "cell_type": "code",
   "execution_count": 19,
   "id": "ca81291c",
   "metadata": {},
   "outputs": [
    {
     "data": {
      "text/plain": [
       "CLEAR         463\n",
       "MIST          246\n",
       "LIGHT_RAIN     21\n",
       "Name: weathersit, dtype: int64"
      ]
     },
     "execution_count": 19,
     "metadata": {},
     "output_type": "execute_result"
    }
   ],
   "source": [
    "bike_v2['weathersit'].value_counts()"
   ]
  },
  {
   "cell_type": "code",
   "execution_count": 20,
   "id": "c99de680",
   "metadata": {},
   "outputs": [
    {
     "data": {
      "text/plain": [
       "JAN    62\n",
       "MAR    62\n",
       "MAY    62\n",
       "JUL    62\n",
       "AUG    62\n",
       "OCT    62\n",
       "DEC    62\n",
       "APR    60\n",
       "JUN    60\n",
       "SEP    60\n",
       "NOV    60\n",
       "FEB    56\n",
       "Name: mnth, dtype: int64"
      ]
     },
     "execution_count": 20,
     "metadata": {},
     "output_type": "execute_result"
    }
   ],
   "source": [
    "bike_v2['mnth']=bike_df['mnth'].map({1:'JAN',2:'FEB',3:'MAR',4:'APR',5:'MAY',6:'JUN',7:'JUL',\n",
    "                                     8:'AUG',9:'SEP',10:'OCT',11:'NOV',12:'DEC'})\n",
    "bike_v2['mnth'].value_counts()"
   ]
  },
  {
   "cell_type": "code",
   "execution_count": 21,
   "id": "ce7e94ae",
   "metadata": {},
   "outputs": [
    {
     "data": {
      "text/plain": [
       "SAT    105\n",
       "SUN    105\n",
       "MON    105\n",
       "TUE    104\n",
       "THU    104\n",
       "FRI    104\n",
       "WED    103\n",
       "Name: weekday, dtype: int64"
      ]
     },
     "execution_count": 21,
     "metadata": {},
     "output_type": "execute_result"
    }
   ],
   "source": [
    "bike_v2['weekday']=bike_df['weekday'].map({0:'SUN',1:'MON',2:'TUE',3:'WED',4:'THU',5:'FRI',6:'SAT',7:'SUN'})\n",
    "bike_v2['weekday'].value_counts()"
   ]
  },
  {
   "cell_type": "code",
   "execution_count": 22,
   "id": "b561e5be",
   "metadata": {},
   "outputs": [
    {
     "data": {
      "text/html": [
       "<div>\n",
       "<style scoped>\n",
       "    .dataframe tbody tr th:only-of-type {\n",
       "        vertical-align: middle;\n",
       "    }\n",
       "\n",
       "    .dataframe tbody tr th {\n",
       "        vertical-align: top;\n",
       "    }\n",
       "\n",
       "    .dataframe thead th {\n",
       "        text-align: right;\n",
       "    }\n",
       "</style>\n",
       "<table border=\"1\" class=\"dataframe\">\n",
       "  <thead>\n",
       "    <tr style=\"text-align: right;\">\n",
       "      <th></th>\n",
       "      <th>dteday</th>\n",
       "      <th>season</th>\n",
       "      <th>yr</th>\n",
       "      <th>mnth</th>\n",
       "      <th>holiday</th>\n",
       "      <th>weekday</th>\n",
       "      <th>workingday</th>\n",
       "      <th>weathersit</th>\n",
       "      <th>atemp</th>\n",
       "      <th>hum</th>\n",
       "      <th>windspeed</th>\n",
       "      <th>cnt</th>\n",
       "    </tr>\n",
       "  </thead>\n",
       "  <tbody>\n",
       "    <tr>\n",
       "      <th>0</th>\n",
       "      <td>2018-01-01</td>\n",
       "      <td>SPRING</td>\n",
       "      <td>YEAR_2018</td>\n",
       "      <td>JAN</td>\n",
       "      <td>0</td>\n",
       "      <td>SAT</td>\n",
       "      <td>0</td>\n",
       "      <td>MIST</td>\n",
       "      <td>18.18125</td>\n",
       "      <td>80.5833</td>\n",
       "      <td>10.749882</td>\n",
       "      <td>985</td>\n",
       "    </tr>\n",
       "    <tr>\n",
       "      <th>1</th>\n",
       "      <td>2018-01-02</td>\n",
       "      <td>SPRING</td>\n",
       "      <td>YEAR_2018</td>\n",
       "      <td>JAN</td>\n",
       "      <td>0</td>\n",
       "      <td>SUN</td>\n",
       "      <td>0</td>\n",
       "      <td>MIST</td>\n",
       "      <td>17.68695</td>\n",
       "      <td>69.6087</td>\n",
       "      <td>16.652113</td>\n",
       "      <td>801</td>\n",
       "    </tr>\n",
       "    <tr>\n",
       "      <th>2</th>\n",
       "      <td>2018-01-03</td>\n",
       "      <td>SPRING</td>\n",
       "      <td>YEAR_2018</td>\n",
       "      <td>JAN</td>\n",
       "      <td>0</td>\n",
       "      <td>MON</td>\n",
       "      <td>1</td>\n",
       "      <td>CLEAR</td>\n",
       "      <td>9.47025</td>\n",
       "      <td>43.7273</td>\n",
       "      <td>16.636703</td>\n",
       "      <td>1349</td>\n",
       "    </tr>\n",
       "    <tr>\n",
       "      <th>3</th>\n",
       "      <td>2018-01-04</td>\n",
       "      <td>SPRING</td>\n",
       "      <td>YEAR_2018</td>\n",
       "      <td>JAN</td>\n",
       "      <td>0</td>\n",
       "      <td>TUE</td>\n",
       "      <td>1</td>\n",
       "      <td>CLEAR</td>\n",
       "      <td>10.60610</td>\n",
       "      <td>59.0435</td>\n",
       "      <td>10.739832</td>\n",
       "      <td>1562</td>\n",
       "    </tr>\n",
       "    <tr>\n",
       "      <th>4</th>\n",
       "      <td>2018-01-05</td>\n",
       "      <td>SPRING</td>\n",
       "      <td>YEAR_2018</td>\n",
       "      <td>JAN</td>\n",
       "      <td>0</td>\n",
       "      <td>WED</td>\n",
       "      <td>1</td>\n",
       "      <td>CLEAR</td>\n",
       "      <td>11.46350</td>\n",
       "      <td>43.6957</td>\n",
       "      <td>12.522300</td>\n",
       "      <td>1600</td>\n",
       "    </tr>\n",
       "  </tbody>\n",
       "</table>\n",
       "</div>"
      ],
      "text/plain": [
       "      dteday  season         yr mnth  holiday weekday  workingday weathersit  \\\n",
       "0 2018-01-01  SPRING  YEAR_2018  JAN        0     SAT           0       MIST   \n",
       "1 2018-01-02  SPRING  YEAR_2018  JAN        0     SUN           0       MIST   \n",
       "2 2018-01-03  SPRING  YEAR_2018  JAN        0     MON           1      CLEAR   \n",
       "3 2018-01-04  SPRING  YEAR_2018  JAN        0     TUE           1      CLEAR   \n",
       "4 2018-01-05  SPRING  YEAR_2018  JAN        0     WED           1      CLEAR   \n",
       "\n",
       "      atemp      hum  windspeed   cnt  \n",
       "0  18.18125  80.5833  10.749882   985  \n",
       "1  17.68695  69.6087  16.652113   801  \n",
       "2   9.47025  43.7273  16.636703  1349  \n",
       "3  10.60610  59.0435  10.739832  1562  \n",
       "4  11.46350  43.6957  12.522300  1600  "
      ]
     },
     "execution_count": 22,
     "metadata": {},
     "output_type": "execute_result"
    }
   ],
   "source": [
    "bike_v2['yr']=bike_v2['yr'].map({0:'YEAR_2018',1:'YEAR_2019'})\n",
    "bike_v2.head()"
   ]
  },
  {
   "cell_type": "code",
   "execution_count": 23,
   "id": "84055c71",
   "metadata": {},
   "outputs": [
    {
     "data": {
      "text/plain": [
       "<AxesSubplot:xlabel='weekday'>"
      ]
     },
     "execution_count": 23,
     "metadata": {},
     "output_type": "execute_result"
    },
    {
     "data": {
      "image/png": "[encoded data removed]",
      "text/plain": [
       "<Figure size 432x288 with 1 Axes>"
      ]
     },
     "metadata": {
      "needs_background": "light"
     },
     "output_type": "display_data"
    }
   ],
   "source": [
    "by_year_month = pd.pivot_table(bike_v2, values='cnt', index=['weekday'], columns=['season'], aggfunc=np.mean)\n",
    "by_year_month.plot()"
   ]
  },
  {
   "cell_type": "code",
   "execution_count": 24,
   "id": "cf5e3637",
   "metadata": {},
   "outputs": [],
   "source": [
    "#Observation: During the spring the count of value is very low. compared to other seasons."
   ]
  },
  {
   "cell_type": "markdown",
   "id": "6d811474",
   "metadata": {},
   "source": [
    "### Computing derived variables"
   ]
  },
  {
   "cell_type": "code",
   "execution_count": 25,
   "id": "b87db610",
   "metadata": {},
   "outputs": [],
   "source": [
    "# Deriving \"days since the dataset started\"\n",
    "from datetime import date\n",
    "\n",
    "\n",
    "d0 = date(2017, 12, 31)\n",
    "d1 = date(2018 ,12, 31)\n",
    "d2 = bike_df.dteday\n",
    "\n",
    "#print(bike_df.dteday[0].year)\n",
    "delta = d2.apply(lambda x:x.date()-d0 if x.date().year==2018 else x.date()-d1)\n",
    "bike_v2['day']= delta\n",
    "bike_v2['date'] = bike_df['dteday'].apply(lambda x:x.day)\n"
   ]
  },
  {
   "cell_type": "code",
   "execution_count": 26,
   "id": "bee663a4",
   "metadata": {},
   "outputs": [],
   "source": [
    "# Cleaning days\n",
    "bike_v2['day'] = bike_v2['day'].astype(str)\n",
    "bike_v2['day'] = bike_v2['day'].map(lambda x: x[:-4])\n",
    "bike_v2['day'] = bike_v2['day'].astype(int)"
   ]
  },
  {
   "cell_type": "code",
   "execution_count": 27,
   "id": "d541e5a6",
   "metadata": {},
   "outputs": [
    {
     "data": {
      "text/plain": [
       "<AxesSubplot:title={'center':'Month/Season vs Average Count'}, xlabel='day'>"
      ]
     },
     "execution_count": 27,
     "metadata": {},
     "output_type": "execute_result"
    },
    {
     "data": {
      "image/png": "[encoded data removed]",
      "text/plain": [
       "<Figure size 432x288 with 1 Axes>"
      ]
     },
     "metadata": {
      "needs_background": "light"
     },
     "output_type": "display_data"
    }
   ],
   "source": [
    "by_year_month = pd.pivot_table(bike_v2, values='cnt', index=['day'], columns=['yr'], aggfunc=np.mean)\n",
    "by_year_month.plot(title = \"Month/Season vs Average Count\")"
   ]
  },
  {
   "cell_type": "code",
   "execution_count": 28,
   "id": "17fd64f4",
   "metadata": {},
   "outputs": [],
   "source": [
    "#Observation: This shows year by year there is a trend.. or peridocity associated"
   ]
  },
  {
   "cell_type": "code",
   "execution_count": 29,
   "id": "15e976be",
   "metadata": {},
   "outputs": [],
   "source": [
    "# Drop columns date\n",
    "bike_v2.drop(['dteday'],axis = 1,inplace=True)"
   ]
  },
  {
   "cell_type": "code",
   "execution_count": 30,
   "id": "0434f85d",
   "metadata": {},
   "outputs": [
    {
     "data": {
      "text/html": [
       "<div>\n",
       "<style scoped>\n",
       "    .dataframe tbody tr th:only-of-type {\n",
       "        vertical-align: middle;\n",
       "    }\n",
       "\n",
       "    .dataframe tbody tr th {\n",
       "        vertical-align: top;\n",
       "    }\n",
       "\n",
       "    .dataframe thead th {\n",
       "        text-align: right;\n",
       "    }\n",
       "</style>\n",
       "<table border=\"1\" class=\"dataframe\">\n",
       "  <thead>\n",
       "    <tr style=\"text-align: right;\">\n",
       "      <th></th>\n",
       "      <th>season</th>\n",
       "      <th>yr</th>\n",
       "      <th>mnth</th>\n",
       "      <th>holiday</th>\n",
       "      <th>weekday</th>\n",
       "      <th>workingday</th>\n",
       "      <th>weathersit</th>\n",
       "      <th>atemp</th>\n",
       "      <th>hum</th>\n",
       "      <th>windspeed</th>\n",
       "      <th>cnt</th>\n",
       "      <th>day</th>\n",
       "      <th>date</th>\n",
       "    </tr>\n",
       "  </thead>\n",
       "  <tbody>\n",
       "    <tr>\n",
       "      <th>0</th>\n",
       "      <td>SPRING</td>\n",
       "      <td>YEAR_2018</td>\n",
       "      <td>JAN</td>\n",
       "      <td>0</td>\n",
       "      <td>SAT</td>\n",
       "      <td>0</td>\n",
       "      <td>MIST</td>\n",
       "      <td>18.18125</td>\n",
       "      <td>80.5833</td>\n",
       "      <td>10.749882</td>\n",
       "      <td>985</td>\n",
       "      <td>1</td>\n",
       "      <td>1</td>\n",
       "    </tr>\n",
       "    <tr>\n",
       "      <th>1</th>\n",
       "      <td>SPRING</td>\n",
       "      <td>YEAR_2018</td>\n",
       "      <td>JAN</td>\n",
       "      <td>0</td>\n",
       "      <td>SUN</td>\n",
       "      <td>0</td>\n",
       "      <td>MIST</td>\n",
       "      <td>17.68695</td>\n",
       "      <td>69.6087</td>\n",
       "      <td>16.652113</td>\n",
       "      <td>801</td>\n",
       "      <td>2</td>\n",
       "      <td>2</td>\n",
       "    </tr>\n",
       "    <tr>\n",
       "      <th>2</th>\n",
       "      <td>SPRING</td>\n",
       "      <td>YEAR_2018</td>\n",
       "      <td>JAN</td>\n",
       "      <td>0</td>\n",
       "      <td>MON</td>\n",
       "      <td>1</td>\n",
       "      <td>CLEAR</td>\n",
       "      <td>9.47025</td>\n",
       "      <td>43.7273</td>\n",
       "      <td>16.636703</td>\n",
       "      <td>1349</td>\n",
       "      <td>3</td>\n",
       "      <td>3</td>\n",
       "    </tr>\n",
       "    <tr>\n",
       "      <th>3</th>\n",
       "      <td>SPRING</td>\n",
       "      <td>YEAR_2018</td>\n",
       "      <td>JAN</td>\n",
       "      <td>0</td>\n",
       "      <td>TUE</td>\n",
       "      <td>1</td>\n",
       "      <td>CLEAR</td>\n",
       "      <td>10.60610</td>\n",
       "      <td>59.0435</td>\n",
       "      <td>10.739832</td>\n",
       "      <td>1562</td>\n",
       "      <td>4</td>\n",
       "      <td>4</td>\n",
       "    </tr>\n",
       "    <tr>\n",
       "      <th>4</th>\n",
       "      <td>SPRING</td>\n",
       "      <td>YEAR_2018</td>\n",
       "      <td>JAN</td>\n",
       "      <td>0</td>\n",
       "      <td>WED</td>\n",
       "      <td>1</td>\n",
       "      <td>CLEAR</td>\n",
       "      <td>11.46350</td>\n",
       "      <td>43.6957</td>\n",
       "      <td>12.522300</td>\n",
       "      <td>1600</td>\n",
       "      <td>5</td>\n",
       "      <td>5</td>\n",
       "    </tr>\n",
       "  </tbody>\n",
       "</table>\n",
       "</div>"
      ],
      "text/plain": [
       "   season         yr mnth  holiday weekday  workingday weathersit     atemp  \\\n",
       "0  SPRING  YEAR_2018  JAN        0     SAT           0       MIST  18.18125   \n",
       "1  SPRING  YEAR_2018  JAN        0     SUN           0       MIST  17.68695   \n",
       "2  SPRING  YEAR_2018  JAN        0     MON           1      CLEAR   9.47025   \n",
       "3  SPRING  YEAR_2018  JAN        0     TUE           1      CLEAR  10.60610   \n",
       "4  SPRING  YEAR_2018  JAN        0     WED           1      CLEAR  11.46350   \n",
       "\n",
       "       hum  windspeed   cnt  day  date  \n",
       "0  80.5833  10.749882   985    1     1  \n",
       "1  69.6087  16.652113   801    2     2  \n",
       "2  43.7273  16.636703  1349    3     3  \n",
       "3  59.0435  10.739832  1562    4     4  \n",
       "4  43.6957  12.522300  1600    5     5  "
      ]
     },
     "execution_count": 30,
     "metadata": {},
     "output_type": "execute_result"
    }
   ],
   "source": [
    "bike_v2.head()"
   ]
  },
  {
   "cell_type": "code",
   "execution_count": 31,
   "id": "0922fbef",
   "metadata": {},
   "outputs": [],
   "source": [
    "season = pd.get_dummies(bike_v2['season'],drop_first=True)\n",
    "year = pd.get_dummies(bike_v2['yr'],drop_first=True)\n",
    "month = pd.get_dummies(bike_v2['mnth'],drop_first=True)\n",
    "#holiday = pd.get_dummies(bike_df['holiday'],drop_first=True)\n",
    "weekday = pd.get_dummies(bike_v2['weekday'],drop_first=True)\n",
    "#workingday = pd.get_dummies(bike_v2['workingday'],drop_first=True)\n",
    "weathersit = pd.get_dummies(bike_v2['weathersit'],drop_first=True)\n",
    "#date = pd.get_dummies(bike_df['date'],drop_first=True)"
   ]
  },
  {
   "cell_type": "code",
   "execution_count": 32,
   "id": "fade93a8",
   "metadata": {},
   "outputs": [],
   "source": [
    "bike_v2 = pd.concat([bike_v2,season,month,year,weathersit,weekday],axis=1)\n",
    "bike_v2.drop(['season','mnth','yr','weathersit','weekday','date'],axis = 1,inplace=True)"
   ]
  },
  {
   "cell_type": "markdown",
   "id": "219501f2",
   "metadata": {},
   "source": [
    "## 3. Split the model for training."
   ]
  },
  {
   "cell_type": "code",
   "execution_count": 33,
   "id": "49ff013b",
   "metadata": {},
   "outputs": [],
   "source": [
    "from sklearn.model_selection import train_test_split\n",
    "\n",
    "# We specify this so that the train and test data set always have the same rows, respectively\n",
    "df_train, df_test = train_test_split(bike_v2, train_size = 0.7, test_size = 0.3, random_state = 100)"
   ]
  },
  {
   "cell_type": "markdown",
   "id": "18026af2",
   "metadata": {},
   "source": [
    "## 4. Scale the model for training."
   ]
  },
  {
   "cell_type": "code",
   "execution_count": 34,
   "id": "ed33d732",
   "metadata": {},
   "outputs": [
    {
     "data": {
      "text/plain": [
       "Index(['holiday', 'workingday', 'atemp', 'hum', 'windspeed', 'cnt', 'day',\n",
       "       'SPRING', 'SUMMER', 'WINTER', 'AUG', 'DEC', 'FEB', 'JAN', 'JUL', 'JUN',\n",
       "       'MAR', 'MAY', 'NOV', 'OCT', 'SEP', 'YEAR_2019', 'LIGHT_RAIN', 'MIST',\n",
       "       'MON', 'SAT', 'SUN', 'THU', 'TUE', 'WED'],\n",
       "      dtype='object')"
      ]
     },
     "execution_count": 34,
     "metadata": {},
     "output_type": "execute_result"
    }
   ],
   "source": [
    "from sklearn.preprocessing import MinMaxScaler\n",
    "scaler = MinMaxScaler()\n",
    "bike_v2.head()\n",
    "bike_v2.columns"
   ]
  },
  {
   "cell_type": "code",
   "execution_count": 35,
   "id": "47f0f5d6",
   "metadata": {},
   "outputs": [
    {
     "name": "stderr",
     "output_type": "stream",
     "text": [
      "C:\\Users\\idhay\\anaconda3\\lib\\site-packages\\pandas\\core\\frame.py:3678: SettingWithCopyWarning: \n",
      "A value is trying to be set on a copy of a slice from a DataFrame.\n",
      "Try using .loc[row_indexer,col_indexer] = value instead\n",
      "\n",
      "See the caveats in the documentation: https://pandas.pydata.org/pandas-docs/stable/user_guide/indexing.html#returning-a-view-versus-a-copy\n",
      "  self[col] = igetitem(value, i)\n"
     ]
    },
    {
     "data": {
      "text/html": [
       "<div>\n",
       "<style scoped>\n",
       "    .dataframe tbody tr th:only-of-type {\n",
       "        vertical-align: middle;\n",
       "    }\n",
       "\n",
       "    .dataframe tbody tr th {\n",
       "        vertical-align: top;\n",
       "    }\n",
       "\n",
       "    .dataframe thead th {\n",
       "        text-align: right;\n",
       "    }\n",
       "</style>\n",
       "<table border=\"1\" class=\"dataframe\">\n",
       "  <thead>\n",
       "    <tr style=\"text-align: right;\">\n",
       "      <th></th>\n",
       "      <th>holiday</th>\n",
       "      <th>workingday</th>\n",
       "      <th>atemp</th>\n",
       "      <th>hum</th>\n",
       "      <th>windspeed</th>\n",
       "      <th>cnt</th>\n",
       "      <th>day</th>\n",
       "      <th>SPRING</th>\n",
       "      <th>SUMMER</th>\n",
       "      <th>WINTER</th>\n",
       "      <th>...</th>\n",
       "      <th>SEP</th>\n",
       "      <th>YEAR_2019</th>\n",
       "      <th>LIGHT_RAIN</th>\n",
       "      <th>MIST</th>\n",
       "      <th>MON</th>\n",
       "      <th>SAT</th>\n",
       "      <th>SUN</th>\n",
       "      <th>THU</th>\n",
       "      <th>TUE</th>\n",
       "      <th>WED</th>\n",
       "    </tr>\n",
       "  </thead>\n",
       "  <tbody>\n",
       "    <tr>\n",
       "      <th>653</th>\n",
       "      <td>0</td>\n",
       "      <td>1</td>\n",
       "      <td>0.501133</td>\n",
       "      <td>0.575354</td>\n",
       "      <td>0.300794</td>\n",
       "      <td>0.864243</td>\n",
       "      <td>289</td>\n",
       "      <td>0</td>\n",
       "      <td>0</td>\n",
       "      <td>1</td>\n",
       "      <td>...</td>\n",
       "      <td>0</td>\n",
       "      <td>1</td>\n",
       "      <td>0</td>\n",
       "      <td>0</td>\n",
       "      <td>0</td>\n",
       "      <td>0</td>\n",
       "      <td>0</td>\n",
       "      <td>0</td>\n",
       "      <td>1</td>\n",
       "      <td>0</td>\n",
       "    </tr>\n",
       "    <tr>\n",
       "      <th>576</th>\n",
       "      <td>0</td>\n",
       "      <td>1</td>\n",
       "      <td>0.766351</td>\n",
       "      <td>0.725633</td>\n",
       "      <td>0.264686</td>\n",
       "      <td>0.827658</td>\n",
       "      <td>212</td>\n",
       "      <td>0</td>\n",
       "      <td>0</td>\n",
       "      <td>0</td>\n",
       "      <td>...</td>\n",
       "      <td>0</td>\n",
       "      <td>1</td>\n",
       "      <td>0</td>\n",
       "      <td>0</td>\n",
       "      <td>0</td>\n",
       "      <td>0</td>\n",
       "      <td>0</td>\n",
       "      <td>0</td>\n",
       "      <td>1</td>\n",
       "      <td>0</td>\n",
       "    </tr>\n",
       "    <tr>\n",
       "      <th>426</th>\n",
       "      <td>0</td>\n",
       "      <td>0</td>\n",
       "      <td>0.438975</td>\n",
       "      <td>0.640189</td>\n",
       "      <td>0.255342</td>\n",
       "      <td>0.465255</td>\n",
       "      <td>62</td>\n",
       "      <td>1</td>\n",
       "      <td>0</td>\n",
       "      <td>0</td>\n",
       "      <td>...</td>\n",
       "      <td>0</td>\n",
       "      <td>1</td>\n",
       "      <td>0</td>\n",
       "      <td>1</td>\n",
       "      <td>0</td>\n",
       "      <td>1</td>\n",
       "      <td>0</td>\n",
       "      <td>0</td>\n",
       "      <td>0</td>\n",
       "      <td>0</td>\n",
       "    </tr>\n",
       "    <tr>\n",
       "      <th>728</th>\n",
       "      <td>0</td>\n",
       "      <td>0</td>\n",
       "      <td>0.200348</td>\n",
       "      <td>0.498067</td>\n",
       "      <td>0.663106</td>\n",
       "      <td>0.204096</td>\n",
       "      <td>364</td>\n",
       "      <td>1</td>\n",
       "      <td>0</td>\n",
       "      <td>0</td>\n",
       "      <td>...</td>\n",
       "      <td>0</td>\n",
       "      <td>1</td>\n",
       "      <td>0</td>\n",
       "      <td>0</td>\n",
       "      <td>0</td>\n",
       "      <td>0</td>\n",
       "      <td>1</td>\n",
       "      <td>0</td>\n",
       "      <td>0</td>\n",
       "      <td>0</td>\n",
       "    </tr>\n",
       "    <tr>\n",
       "      <th>482</th>\n",
       "      <td>0</td>\n",
       "      <td>0</td>\n",
       "      <td>0.391735</td>\n",
       "      <td>0.504508</td>\n",
       "      <td>0.188475</td>\n",
       "      <td>0.482973</td>\n",
       "      <td>118</td>\n",
       "      <td>0</td>\n",
       "      <td>1</td>\n",
       "      <td>0</td>\n",
       "      <td>...</td>\n",
       "      <td>0</td>\n",
       "      <td>1</td>\n",
       "      <td>0</td>\n",
       "      <td>1</td>\n",
       "      <td>0</td>\n",
       "      <td>1</td>\n",
       "      <td>0</td>\n",
       "      <td>0</td>\n",
       "      <td>0</td>\n",
       "      <td>0</td>\n",
       "    </tr>\n",
       "  </tbody>\n",
       "</table>\n",
       "<p>5 rows × 30 columns</p>\n",
       "</div>"
      ],
      "text/plain": [
       "     holiday  workingday     atemp       hum  windspeed       cnt  day  \\\n",
       "653        0           1  0.501133  0.575354   0.300794  0.864243  289   \n",
       "576        0           1  0.766351  0.725633   0.264686  0.827658  212   \n",
       "426        0           0  0.438975  0.640189   0.255342  0.465255   62   \n",
       "728        0           0  0.200348  0.498067   0.663106  0.204096  364   \n",
       "482        0           0  0.391735  0.504508   0.188475  0.482973  118   \n",
       "\n",
       "     SPRING  SUMMER  WINTER  ...  SEP  YEAR_2019  LIGHT_RAIN  MIST  MON  SAT  \\\n",
       "653       0       0       1  ...    0          1           0     0    0    0   \n",
       "576       0       0       0  ...    0          1           0     0    0    0   \n",
       "426       1       0       0  ...    0          1           0     1    0    1   \n",
       "728       1       0       0  ...    0          1           0     0    0    0   \n",
       "482       0       1       0  ...    0          1           0     1    0    1   \n",
       "\n",
       "     SUN  THU  TUE  WED  \n",
       "653    0    0    1    0  \n",
       "576    0    0    1    0  \n",
       "426    0    0    0    0  \n",
       "728    1    0    0    0  \n",
       "482    0    0    0    0  \n",
       "\n",
       "[5 rows x 30 columns]"
      ]
     },
     "execution_count": 35,
     "metadata": {},
     "output_type": "execute_result"
    }
   ],
   "source": [
    "# Apply scaler() to all the columns except the 'yes-no' and 'dummy' variables\n",
    "num_vars = ['atemp', 'hum', 'windspeed', 'cnt']\n",
    "df_train[num_vars] = scaler.fit_transform(df_train[num_vars])\n",
    "df_train.head()\n"
   ]
  },
  {
   "cell_type": "code",
   "execution_count": 36,
   "id": "e009b9c1",
   "metadata": {},
   "outputs": [
    {
     "name": "stderr",
     "output_type": "stream",
     "text": [
      "C:\\Users\\idhay\\anaconda3\\lib\\site-packages\\pandas\\core\\frame.py:3678: SettingWithCopyWarning: \n",
      "A value is trying to be set on a copy of a slice from a DataFrame.\n",
      "Try using .loc[row_indexer,col_indexer] = value instead\n",
      "\n",
      "See the caveats in the documentation: https://pandas.pydata.org/pandas-docs/stable/user_guide/indexing.html#returning-a-view-versus-a-copy\n",
      "  self[col] = igetitem(value, i)\n"
     ]
    },
    {
     "data": {
      "text/html": [
       "<div>\n",
       "<style scoped>\n",
       "    .dataframe tbody tr th:only-of-type {\n",
       "        vertical-align: middle;\n",
       "    }\n",
       "\n",
       "    .dataframe tbody tr th {\n",
       "        vertical-align: top;\n",
       "    }\n",
       "\n",
       "    .dataframe thead th {\n",
       "        text-align: right;\n",
       "    }\n",
       "</style>\n",
       "<table border=\"1\" class=\"dataframe\">\n",
       "  <thead>\n",
       "    <tr style=\"text-align: right;\">\n",
       "      <th></th>\n",
       "      <th>holiday</th>\n",
       "      <th>workingday</th>\n",
       "      <th>atemp</th>\n",
       "      <th>hum</th>\n",
       "      <th>windspeed</th>\n",
       "      <th>cnt</th>\n",
       "      <th>day</th>\n",
       "      <th>SPRING</th>\n",
       "      <th>SUMMER</th>\n",
       "      <th>WINTER</th>\n",
       "      <th>...</th>\n",
       "      <th>SEP</th>\n",
       "      <th>YEAR_2019</th>\n",
       "      <th>LIGHT_RAIN</th>\n",
       "      <th>MIST</th>\n",
       "      <th>MON</th>\n",
       "      <th>SAT</th>\n",
       "      <th>SUN</th>\n",
       "      <th>THU</th>\n",
       "      <th>TUE</th>\n",
       "      <th>WED</th>\n",
       "    </tr>\n",
       "  </thead>\n",
       "  <tbody>\n",
       "    <tr>\n",
       "      <th>184</th>\n",
       "      <td>1</td>\n",
       "      <td>0</td>\n",
       "      <td>0.769660</td>\n",
       "      <td>0.657364</td>\n",
       "      <td>0.084219</td>\n",
       "      <td>0.692706</td>\n",
       "      <td>185</td>\n",
       "      <td>0</td>\n",
       "      <td>0</td>\n",
       "      <td>0</td>\n",
       "      <td>...</td>\n",
       "      <td>0</td>\n",
       "      <td>0</td>\n",
       "      <td>0</td>\n",
       "      <td>1</td>\n",
       "      <td>1</td>\n",
       "      <td>0</td>\n",
       "      <td>0</td>\n",
       "      <td>0</td>\n",
       "      <td>0</td>\n",
       "      <td>0</td>\n",
       "    </tr>\n",
       "    <tr>\n",
       "      <th>535</th>\n",
       "      <td>0</td>\n",
       "      <td>1</td>\n",
       "      <td>0.842587</td>\n",
       "      <td>0.610133</td>\n",
       "      <td>0.153728</td>\n",
       "      <td>0.712034</td>\n",
       "      <td>171</td>\n",
       "      <td>0</td>\n",
       "      <td>1</td>\n",
       "      <td>0</td>\n",
       "      <td>...</td>\n",
       "      <td>0</td>\n",
       "      <td>1</td>\n",
       "      <td>0</td>\n",
       "      <td>0</td>\n",
       "      <td>0</td>\n",
       "      <td>0</td>\n",
       "      <td>0</td>\n",
       "      <td>0</td>\n",
       "      <td>0</td>\n",
       "      <td>1</td>\n",
       "    </tr>\n",
       "    <tr>\n",
       "      <th>299</th>\n",
       "      <td>0</td>\n",
       "      <td>1</td>\n",
       "      <td>0.496145</td>\n",
       "      <td>0.837699</td>\n",
       "      <td>0.334206</td>\n",
       "      <td>0.303382</td>\n",
       "      <td>300</td>\n",
       "      <td>0</td>\n",
       "      <td>0</td>\n",
       "      <td>1</td>\n",
       "      <td>...</td>\n",
       "      <td>0</td>\n",
       "      <td>0</td>\n",
       "      <td>0</td>\n",
       "      <td>1</td>\n",
       "      <td>0</td>\n",
       "      <td>0</td>\n",
       "      <td>0</td>\n",
       "      <td>1</td>\n",
       "      <td>0</td>\n",
       "      <td>0</td>\n",
       "    </tr>\n",
       "    <tr>\n",
       "      <th>221</th>\n",
       "      <td>0</td>\n",
       "      <td>1</td>\n",
       "      <td>0.795343</td>\n",
       "      <td>0.437098</td>\n",
       "      <td>0.339570</td>\n",
       "      <td>0.547400</td>\n",
       "      <td>222</td>\n",
       "      <td>0</td>\n",
       "      <td>0</td>\n",
       "      <td>0</td>\n",
       "      <td>...</td>\n",
       "      <td>0</td>\n",
       "      <td>0</td>\n",
       "      <td>0</td>\n",
       "      <td>0</td>\n",
       "      <td>0</td>\n",
       "      <td>0</td>\n",
       "      <td>0</td>\n",
       "      <td>0</td>\n",
       "      <td>0</td>\n",
       "      <td>1</td>\n",
       "    </tr>\n",
       "    <tr>\n",
       "      <th>152</th>\n",
       "      <td>0</td>\n",
       "      <td>1</td>\n",
       "      <td>0.741471</td>\n",
       "      <td>0.314298</td>\n",
       "      <td>0.537414</td>\n",
       "      <td>0.569029</td>\n",
       "      <td>153</td>\n",
       "      <td>0</td>\n",
       "      <td>1</td>\n",
       "      <td>0</td>\n",
       "      <td>...</td>\n",
       "      <td>0</td>\n",
       "      <td>0</td>\n",
       "      <td>0</td>\n",
       "      <td>0</td>\n",
       "      <td>0</td>\n",
       "      <td>0</td>\n",
       "      <td>0</td>\n",
       "      <td>1</td>\n",
       "      <td>0</td>\n",
       "      <td>0</td>\n",
       "    </tr>\n",
       "  </tbody>\n",
       "</table>\n",
       "<p>5 rows × 30 columns</p>\n",
       "</div>"
      ],
      "text/plain": [
       "     holiday  workingday     atemp       hum  windspeed       cnt  day  \\\n",
       "184        1           0  0.769660  0.657364   0.084219  0.692706  185   \n",
       "535        0           1  0.842587  0.610133   0.153728  0.712034  171   \n",
       "299        0           1  0.496145  0.837699   0.334206  0.303382  300   \n",
       "221        0           1  0.795343  0.437098   0.339570  0.547400  222   \n",
       "152        0           1  0.741471  0.314298   0.537414  0.569029  153   \n",
       "\n",
       "     SPRING  SUMMER  WINTER  ...  SEP  YEAR_2019  LIGHT_RAIN  MIST  MON  SAT  \\\n",
       "184       0       0       0  ...    0          0           0     1    1    0   \n",
       "535       0       1       0  ...    0          1           0     0    0    0   \n",
       "299       0       0       1  ...    0          0           0     1    0    0   \n",
       "221       0       0       0  ...    0          0           0     0    0    0   \n",
       "152       0       1       0  ...    0          0           0     0    0    0   \n",
       "\n",
       "     SUN  THU  TUE  WED  \n",
       "184    0    0    0    0  \n",
       "535    0    0    0    1  \n",
       "299    0    1    0    0  \n",
       "221    0    0    0    1  \n",
       "152    0    1    0    0  \n",
       "\n",
       "[5 rows x 30 columns]"
      ]
     },
     "execution_count": 36,
     "metadata": {},
     "output_type": "execute_result"
    }
   ],
   "source": [
    "df_test[num_vars] = scaler.transform(df_test[num_vars])\n",
    "df_test.head()"
   ]
  },
  {
   "cell_type": "code",
   "execution_count": 37,
   "id": "f47cae5c",
   "metadata": {},
   "outputs": [],
   "source": [
    "y_train = df_train.pop('cnt')\n",
    "X_train = df_train\n"
   ]
  },
  {
   "cell_type": "code",
   "execution_count": 38,
   "id": "d0110f08",
   "metadata": {},
   "outputs": [],
   "source": [
    "y_test = df_test.pop('cnt')\n",
    "X_test = df_test"
   ]
  },
  {
   "cell_type": "code",
   "execution_count": 39,
   "id": "704ff7d4",
   "metadata": {},
   "outputs": [],
   "source": [
    "#Recursive feature elimination"
   ]
  },
  {
   "cell_type": "code",
   "execution_count": 40,
   "id": "4092bba3",
   "metadata": {},
   "outputs": [],
   "source": [
    "from sklearn.feature_selection import RFE\n",
    "from sklearn.linear_model import LinearRegression"
   ]
  },
  {
   "cell_type": "code",
   "execution_count": 41,
   "id": "3bf849be",
   "metadata": {},
   "outputs": [
    {
     "data": {
      "text/plain": [
       "LinearRegression()"
      ]
     },
     "execution_count": 41,
     "metadata": {},
     "output_type": "execute_result"
    }
   ],
   "source": [
    "lm = LinearRegression()\n",
    "lm.fit(X_train, y_train)"
   ]
  },
  {
   "cell_type": "code",
   "execution_count": 42,
   "id": "156faa33",
   "metadata": {},
   "outputs": [
    {
     "name": "stderr",
     "output_type": "stream",
     "text": [
      "C:\\Users\\idhay\\anaconda3\\lib\\site-packages\\sklearn\\utils\\validation.py:70: FutureWarning: Pass n_features_to_select=15 as keyword args. From version 1.0 (renaming of 0.25) passing these as positional arguments will result in an error\n",
      "  warnings.warn(f\"Pass {args_msg} as keyword args. From version \"\n"
     ]
    }
   ],
   "source": [
    "rfe = RFE(lm, 15)             # running RFE\n",
    "rfe = rfe.fit(X_train, y_train)"
   ]
  },
  {
   "cell_type": "code",
   "execution_count": 43,
   "id": "e2de098c",
   "metadata": {},
   "outputs": [
    {
     "data": {
      "text/plain": [
       "[('holiday', True, 1),\n",
       " ('workingday', True, 1),\n",
       " ('atemp', True, 1),\n",
       " ('hum', True, 1),\n",
       " ('windspeed', True, 1),\n",
       " ('day', False, 15),\n",
       " ('SPRING', True, 1),\n",
       " ('SUMMER', False, 6),\n",
       " ('WINTER', True, 1),\n",
       " ('AUG', False, 7),\n",
       " ('DEC', False, 3),\n",
       " ('FEB', False, 4),\n",
       " ('JAN', True, 1),\n",
       " ('JUL', True, 1),\n",
       " ('JUN', False, 9),\n",
       " ('MAR', False, 14),\n",
       " ('MAY', False, 5),\n",
       " ('NOV', False, 2),\n",
       " ('OCT', False, 11),\n",
       " ('SEP', True, 1),\n",
       " ('YEAR_2019', True, 1),\n",
       " ('LIGHT_RAIN', True, 1),\n",
       " ('MIST', True, 1),\n",
       " ('MON', False, 8),\n",
       " ('SAT', True, 1),\n",
       " ('SUN', True, 1),\n",
       " ('THU', False, 12),\n",
       " ('TUE', False, 10),\n",
       " ('WED', False, 13)]"
      ]
     },
     "execution_count": 43,
     "metadata": {},
     "output_type": "execute_result"
    }
   ],
   "source": [
    "list(zip(X_train.columns,rfe.support_,rfe.ranking_))"
   ]
  },
  {
   "cell_type": "code",
   "execution_count": 44,
   "id": "6e14dcaa",
   "metadata": {},
   "outputs": [
    {
     "data": {
      "text/plain": [
       "Index(['holiday', 'workingday', 'atemp', 'hum', 'windspeed', 'SPRING',\n",
       "       'WINTER', 'JAN', 'JUL', 'SEP', 'YEAR_2019', 'LIGHT_RAIN', 'MIST', 'SAT',\n",
       "       'SUN'],\n",
       "      dtype='object')"
      ]
     },
     "execution_count": 44,
     "metadata": {},
     "output_type": "execute_result"
    }
   ],
   "source": [
    "X_train.columns[rfe.support_]"
   ]
  },
  {
   "cell_type": "code",
   "execution_count": 45,
   "id": "8efe9c89",
   "metadata": {},
   "outputs": [
    {
     "data": {
      "text/plain": [
       "Index(['day', 'SUMMER', 'AUG', 'DEC', 'FEB', 'JUN', 'MAR', 'MAY', 'NOV', 'OCT',\n",
       "       'MON', 'THU', 'TUE', 'WED'],\n",
       "      dtype='object')"
      ]
     },
     "execution_count": 45,
     "metadata": {},
     "output_type": "execute_result"
    }
   ],
   "source": [
    "X_train.columns[~rfe.support_]"
   ]
  },
  {
   "cell_type": "code",
   "execution_count": 46,
   "id": "0fc38d03",
   "metadata": {},
   "outputs": [
    {
     "name": "stderr",
     "output_type": "stream",
     "text": [
      "C:\\Users\\idhay\\anaconda3\\lib\\site-packages\\statsmodels\\tsa\\tsatools.py:142: FutureWarning: In a future version of pandas all arguments of concat except for the argument 'objs' will be keyword-only\n",
      "  x = pd.concat(x[::order], 1)\n"
     ]
    },
    {
     "data": {
      "text/html": [
       "<div>\n",
       "<style scoped>\n",
       "    .dataframe tbody tr th:only-of-type {\n",
       "        vertical-align: middle;\n",
       "    }\n",
       "\n",
       "    .dataframe tbody tr th {\n",
       "        vertical-align: top;\n",
       "    }\n",
       "\n",
       "    .dataframe thead th {\n",
       "        text-align: right;\n",
       "    }\n",
       "</style>\n",
       "<table border=\"1\" class=\"dataframe\">\n",
       "  <thead>\n",
       "    <tr style=\"text-align: right;\">\n",
       "      <th></th>\n",
       "      <th>const</th>\n",
       "      <th>holiday</th>\n",
       "      <th>workingday</th>\n",
       "      <th>atemp</th>\n",
       "      <th>hum</th>\n",
       "      <th>windspeed</th>\n",
       "      <th>day</th>\n",
       "      <th>SPRING</th>\n",
       "      <th>SUMMER</th>\n",
       "      <th>WINTER</th>\n",
       "      <th>...</th>\n",
       "      <th>SEP</th>\n",
       "      <th>YEAR_2019</th>\n",
       "      <th>LIGHT_RAIN</th>\n",
       "      <th>MIST</th>\n",
       "      <th>MON</th>\n",
       "      <th>SAT</th>\n",
       "      <th>SUN</th>\n",
       "      <th>THU</th>\n",
       "      <th>TUE</th>\n",
       "      <th>WED</th>\n",
       "    </tr>\n",
       "  </thead>\n",
       "  <tbody>\n",
       "    <tr>\n",
       "      <th>653</th>\n",
       "      <td>1.0</td>\n",
       "      <td>0</td>\n",
       "      <td>1</td>\n",
       "      <td>0.501133</td>\n",
       "      <td>0.575354</td>\n",
       "      <td>0.300794</td>\n",
       "      <td>289</td>\n",
       "      <td>0</td>\n",
       "      <td>0</td>\n",
       "      <td>1</td>\n",
       "      <td>...</td>\n",
       "      <td>0</td>\n",
       "      <td>1</td>\n",
       "      <td>0</td>\n",
       "      <td>0</td>\n",
       "      <td>0</td>\n",
       "      <td>0</td>\n",
       "      <td>0</td>\n",
       "      <td>0</td>\n",
       "      <td>1</td>\n",
       "      <td>0</td>\n",
       "    </tr>\n",
       "    <tr>\n",
       "      <th>576</th>\n",
       "      <td>1.0</td>\n",
       "      <td>0</td>\n",
       "      <td>1</td>\n",
       "      <td>0.766351</td>\n",
       "      <td>0.725633</td>\n",
       "      <td>0.264686</td>\n",
       "      <td>212</td>\n",
       "      <td>0</td>\n",
       "      <td>0</td>\n",
       "      <td>0</td>\n",
       "      <td>...</td>\n",
       "      <td>0</td>\n",
       "      <td>1</td>\n",
       "      <td>0</td>\n",
       "      <td>0</td>\n",
       "      <td>0</td>\n",
       "      <td>0</td>\n",
       "      <td>0</td>\n",
       "      <td>0</td>\n",
       "      <td>1</td>\n",
       "      <td>0</td>\n",
       "    </tr>\n",
       "    <tr>\n",
       "      <th>426</th>\n",
       "      <td>1.0</td>\n",
       "      <td>0</td>\n",
       "      <td>0</td>\n",
       "      <td>0.438975</td>\n",
       "      <td>0.640189</td>\n",
       "      <td>0.255342</td>\n",
       "      <td>62</td>\n",
       "      <td>1</td>\n",
       "      <td>0</td>\n",
       "      <td>0</td>\n",
       "      <td>...</td>\n",
       "      <td>0</td>\n",
       "      <td>1</td>\n",
       "      <td>0</td>\n",
       "      <td>1</td>\n",
       "      <td>0</td>\n",
       "      <td>1</td>\n",
       "      <td>0</td>\n",
       "      <td>0</td>\n",
       "      <td>0</td>\n",
       "      <td>0</td>\n",
       "    </tr>\n",
       "    <tr>\n",
       "      <th>728</th>\n",
       "      <td>1.0</td>\n",
       "      <td>0</td>\n",
       "      <td>0</td>\n",
       "      <td>0.200348</td>\n",
       "      <td>0.498067</td>\n",
       "      <td>0.663106</td>\n",
       "      <td>364</td>\n",
       "      <td>1</td>\n",
       "      <td>0</td>\n",
       "      <td>0</td>\n",
       "      <td>...</td>\n",
       "      <td>0</td>\n",
       "      <td>1</td>\n",
       "      <td>0</td>\n",
       "      <td>0</td>\n",
       "      <td>0</td>\n",
       "      <td>0</td>\n",
       "      <td>1</td>\n",
       "      <td>0</td>\n",
       "      <td>0</td>\n",
       "      <td>0</td>\n",
       "    </tr>\n",
       "    <tr>\n",
       "      <th>482</th>\n",
       "      <td>1.0</td>\n",
       "      <td>0</td>\n",
       "      <td>0</td>\n",
       "      <td>0.391735</td>\n",
       "      <td>0.504508</td>\n",
       "      <td>0.188475</td>\n",
       "      <td>118</td>\n",
       "      <td>0</td>\n",
       "      <td>1</td>\n",
       "      <td>0</td>\n",
       "      <td>...</td>\n",
       "      <td>0</td>\n",
       "      <td>1</td>\n",
       "      <td>0</td>\n",
       "      <td>1</td>\n",
       "      <td>0</td>\n",
       "      <td>1</td>\n",
       "      <td>0</td>\n",
       "      <td>0</td>\n",
       "      <td>0</td>\n",
       "      <td>0</td>\n",
       "    </tr>\n",
       "  </tbody>\n",
       "</table>\n",
       "<p>5 rows × 30 columns</p>\n",
       "</div>"
      ],
      "text/plain": [
       "     const  holiday  workingday     atemp       hum  windspeed  day  SPRING  \\\n",
       "653    1.0        0           1  0.501133  0.575354   0.300794  289       0   \n",
       "576    1.0        0           1  0.766351  0.725633   0.264686  212       0   \n",
       "426    1.0        0           0  0.438975  0.640189   0.255342   62       1   \n",
       "728    1.0        0           0  0.200348  0.498067   0.663106  364       1   \n",
       "482    1.0        0           0  0.391735  0.504508   0.188475  118       0   \n",
       "\n",
       "     SUMMER  WINTER  ...  SEP  YEAR_2019  LIGHT_RAIN  MIST  MON  SAT  SUN  \\\n",
       "653       0       1  ...    0          1           0     0    0    0    0   \n",
       "576       0       0  ...    0          1           0     0    0    0    0   \n",
       "426       0       0  ...    0          1           0     1    0    1    0   \n",
       "728       0       0  ...    0          1           0     0    0    0    1   \n",
       "482       1       0  ...    0          1           0     1    0    1    0   \n",
       "\n",
       "     THU  TUE  WED  \n",
       "653    0    1    0  \n",
       "576    0    1    0  \n",
       "426    0    0    0  \n",
       "728    0    0    0  \n",
       "482    0    0    0  \n",
       "\n",
       "[5 rows x 30 columns]"
      ]
     },
     "execution_count": 46,
     "metadata": {},
     "output_type": "execute_result"
    }
   ],
   "source": [
    "import statsmodels.api as sm  \n",
    "X_train_rfe= sm.add_constant(X_train)\n",
    "X_train_rfe.head()"
   ]
  },
  {
   "cell_type": "code",
   "execution_count": 47,
   "id": "c7e7727c",
   "metadata": {},
   "outputs": [
    {
     "data": {
      "text/html": [
       "<table class=\"simpletable\">\n",
       "<caption>OLS Regression Results</caption>\n",
       "<tr>\n",
       "  <th>Dep. Variable:</th>           <td>cnt</td>       <th>  R-squared:         </th> <td>   0.420</td>\n",
       "</tr>\n",
       "<tr>\n",
       "  <th>Model:</th>                   <td>OLS</td>       <th>  Adj. R-squared:    </th> <td>   0.418</td>\n",
       "</tr>\n",
       "<tr>\n",
       "  <th>Method:</th>             <td>Least Squares</td>  <th>  F-statistic:       </th> <td>   183.9</td>\n",
       "</tr>\n",
       "<tr>\n",
       "  <th>Date:</th>             <td>Mon, 10 Jan 2022</td> <th>  Prob (F-statistic):</th> <td>8.70e-61</td>\n",
       "</tr>\n",
       "<tr>\n",
       "  <th>Time:</th>                 <td>20:15:20</td>     <th>  Log-Likelihood:    </th> <td>  177.62</td>\n",
       "</tr>\n",
       "<tr>\n",
       "  <th>No. Observations:</th>      <td>   510</td>      <th>  AIC:               </th> <td>  -349.2</td>\n",
       "</tr>\n",
       "<tr>\n",
       "  <th>Df Residuals:</th>          <td>   507</td>      <th>  BIC:               </th> <td>  -336.5</td>\n",
       "</tr>\n",
       "<tr>\n",
       "  <th>Df Model:</th>              <td>     2</td>      <th>                     </th>     <td> </td>   \n",
       "</tr>\n",
       "<tr>\n",
       "  <th>Covariance Type:</th>      <td>nonrobust</td>    <th>                     </th>     <td> </td>   \n",
       "</tr>\n",
       "</table>\n",
       "<table class=\"simpletable\">\n",
       "<tr>\n",
       "     <td></td>        <th>coef</th>     <th>std err</th>      <th>t</th>      <th>P>|t|</th>  <th>[0.025</th>    <th>0.975]</th>  \n",
       "</tr>\n",
       "<tr>\n",
       "  <th>const</th>   <td>    0.1667</td> <td>    0.020</td> <td>    8.331</td> <td> 0.000</td> <td>    0.127</td> <td>    0.206</td>\n",
       "</tr>\n",
       "<tr>\n",
       "  <th>holiday</th> <td>   -0.0720</td> <td>    0.048</td> <td>   -1.491</td> <td> 0.137</td> <td>   -0.167</td> <td>    0.023</td>\n",
       "</tr>\n",
       "<tr>\n",
       "  <th>atemp</th>   <td>    0.6799</td> <td>    0.036</td> <td>   18.968</td> <td> 0.000</td> <td>    0.609</td> <td>    0.750</td>\n",
       "</tr>\n",
       "</table>\n",
       "<table class=\"simpletable\">\n",
       "<tr>\n",
       "  <th>Omnibus:</th>       <td> 3.265</td> <th>  Durbin-Watson:     </th> <td>   2.085</td>\n",
       "</tr>\n",
       "<tr>\n",
       "  <th>Prob(Omnibus):</th> <td> 0.195</td> <th>  Jarque-Bera (JB):  </th> <td>   2.781</td>\n",
       "</tr>\n",
       "<tr>\n",
       "  <th>Skew:</th>          <td> 0.085</td> <th>  Prob(JB):          </th> <td>   0.249</td>\n",
       "</tr>\n",
       "<tr>\n",
       "  <th>Kurtosis:</th>      <td> 2.680</td> <th>  Cond. No.          </th> <td>    7.24</td>\n",
       "</tr>\n",
       "</table><br/><br/>Notes:<br/>[1] Standard Errors assume that the covariance matrix of the errors is correctly specified."
      ],
      "text/plain": [
       "<class 'statsmodels.iolib.summary.Summary'>\n",
       "\"\"\"\n",
       "                            OLS Regression Results                            \n",
       "==============================================================================\n",
       "Dep. Variable:                    cnt   R-squared:                       0.420\n",
       "Model:                            OLS   Adj. R-squared:                  0.418\n",
       "Method:                 Least Squares   F-statistic:                     183.9\n",
       "Date:                Mon, 10 Jan 2022   Prob (F-statistic):           8.70e-61\n",
       "Time:                        20:15:20   Log-Likelihood:                 177.62\n",
       "No. Observations:                 510   AIC:                            -349.2\n",
       "Df Residuals:                     507   BIC:                            -336.5\n",
       "Df Model:                           2                                         \n",
       "Covariance Type:            nonrobust                                         \n",
       "==============================================================================\n",
       "                 coef    std err          t      P>|t|      [0.025      0.975]\n",
       "------------------------------------------------------------------------------\n",
       "const          0.1667      0.020      8.331      0.000       0.127       0.206\n",
       "holiday       -0.0720      0.048     -1.491      0.137      -0.167       0.023\n",
       "atemp          0.6799      0.036     18.968      0.000       0.609       0.750\n",
       "==============================================================================\n",
       "Omnibus:                        3.265   Durbin-Watson:                   2.085\n",
       "Prob(Omnibus):                  0.195   Jarque-Bera (JB):                2.781\n",
       "Skew:                           0.085   Prob(JB):                        0.249\n",
       "Kurtosis:                       2.680   Cond. No.                         7.24\n",
       "==============================================================================\n",
       "\n",
       "Notes:\n",
       "[1] Standard Errors assume that the covariance matrix of the errors is correctly specified.\n",
       "\"\"\""
      ]
     },
     "execution_count": 47,
     "metadata": {},
     "output_type": "execute_result"
    }
   ],
   "source": [
    "lm = sm.OLS(y_train,X_train_rfe[['const','holiday', 'atemp']]).fit()   # Running the linear model with seasons\n",
    "\n",
    "lm.summary()"
   ]
  },
  {
   "cell_type": "code",
   "execution_count": 48,
   "id": "95524c80",
   "metadata": {},
   "outputs": [],
   "source": [
    "## Conclusion: Dropping holiday as it has low significance.\n",
    "## Model 2: Constant, working day,atemp"
   ]
  },
  {
   "cell_type": "code",
   "execution_count": 49,
   "id": "1cbbd7c2",
   "metadata": {},
   "outputs": [
    {
     "data": {
      "text/html": [
       "<table class=\"simpletable\">\n",
       "<caption>OLS Regression Results</caption>\n",
       "<tr>\n",
       "  <th>Dep. Variable:</th>           <td>cnt</td>       <th>  R-squared:         </th> <td>   0.420</td>\n",
       "</tr>\n",
       "<tr>\n",
       "  <th>Model:</th>                   <td>OLS</td>       <th>  Adj. R-squared:    </th> <td>   0.418</td>\n",
       "</tr>\n",
       "<tr>\n",
       "  <th>Method:</th>             <td>Least Squares</td>  <th>  F-statistic:       </th> <td>   183.8</td>\n",
       "</tr>\n",
       "<tr>\n",
       "  <th>Date:</th>             <td>Mon, 10 Jan 2022</td> <th>  Prob (F-statistic):</th> <td>9.41e-61</td>\n",
       "</tr>\n",
       "<tr>\n",
       "  <th>Time:</th>                 <td>20:15:20</td>     <th>  Log-Likelihood:    </th> <td>  177.54</td>\n",
       "</tr>\n",
       "<tr>\n",
       "  <th>No. Observations:</th>      <td>   510</td>      <th>  AIC:               </th> <td>  -349.1</td>\n",
       "</tr>\n",
       "<tr>\n",
       "  <th>Df Residuals:</th>          <td>   507</td>      <th>  BIC:               </th> <td>  -336.4</td>\n",
       "</tr>\n",
       "<tr>\n",
       "  <th>Df Model:</th>              <td>     2</td>      <th>                     </th>     <td> </td>   \n",
       "</tr>\n",
       "<tr>\n",
       "  <th>Covariance Type:</th>      <td>nonrobust</td>    <th>                     </th>     <td> </td>   \n",
       "</tr>\n",
       "</table>\n",
       "<table class=\"simpletable\">\n",
       "<tr>\n",
       "       <td></td>         <th>coef</th>     <th>std err</th>      <th>t</th>      <th>P>|t|</th>  <th>[0.025</th>    <th>0.975]</th>  \n",
       "</tr>\n",
       "<tr>\n",
       "  <th>const</th>      <td>    0.1489</td> <td>    0.022</td> <td>    6.733</td> <td> 0.000</td> <td>    0.105</td> <td>    0.192</td>\n",
       "</tr>\n",
       "<tr>\n",
       "  <th>workingday</th> <td>    0.0234</td> <td>    0.016</td> <td>    1.437</td> <td> 0.151</td> <td>   -0.009</td> <td>    0.055</td>\n",
       "</tr>\n",
       "<tr>\n",
       "  <th>atemp</th>      <td>    0.6801</td> <td>    0.036</td> <td>   18.977</td> <td> 0.000</td> <td>    0.610</td> <td>    0.751</td>\n",
       "</tr>\n",
       "</table>\n",
       "<table class=\"simpletable\">\n",
       "<tr>\n",
       "  <th>Omnibus:</th>       <td> 2.952</td> <th>  Durbin-Watson:     </th> <td>   2.085</td>\n",
       "</tr>\n",
       "<tr>\n",
       "  <th>Prob(Omnibus):</th> <td> 0.229</td> <th>  Jarque-Bera (JB):  </th> <td>   2.628</td>\n",
       "</tr>\n",
       "<tr>\n",
       "  <th>Skew:</th>          <td> 0.094</td> <th>  Prob(JB):          </th> <td>   0.269</td>\n",
       "</tr>\n",
       "<tr>\n",
       "  <th>Kurtosis:</th>      <td> 2.703</td> <th>  Cond. No.          </th> <td>    7.14</td>\n",
       "</tr>\n",
       "</table><br/><br/>Notes:<br/>[1] Standard Errors assume that the covariance matrix of the errors is correctly specified."
      ],
      "text/plain": [
       "<class 'statsmodels.iolib.summary.Summary'>\n",
       "\"\"\"\n",
       "                            OLS Regression Results                            \n",
       "==============================================================================\n",
       "Dep. Variable:                    cnt   R-squared:                       0.420\n",
       "Model:                            OLS   Adj. R-squared:                  0.418\n",
       "Method:                 Least Squares   F-statistic:                     183.8\n",
       "Date:                Mon, 10 Jan 2022   Prob (F-statistic):           9.41e-61\n",
       "Time:                        20:15:20   Log-Likelihood:                 177.54\n",
       "No. Observations:                 510   AIC:                            -349.1\n",
       "Df Residuals:                     507   BIC:                            -336.4\n",
       "Df Model:                           2                                         \n",
       "Covariance Type:            nonrobust                                         \n",
       "==============================================================================\n",
       "                 coef    std err          t      P>|t|      [0.025      0.975]\n",
       "------------------------------------------------------------------------------\n",
       "const          0.1489      0.022      6.733      0.000       0.105       0.192\n",
       "workingday     0.0234      0.016      1.437      0.151      -0.009       0.055\n",
       "atemp          0.6801      0.036     18.977      0.000       0.610       0.751\n",
       "==============================================================================\n",
       "Omnibus:                        2.952   Durbin-Watson:                   2.085\n",
       "Prob(Omnibus):                  0.229   Jarque-Bera (JB):                2.628\n",
       "Skew:                           0.094   Prob(JB):                        0.269\n",
       "Kurtosis:                       2.703   Cond. No.                         7.14\n",
       "==============================================================================\n",
       "\n",
       "Notes:\n",
       "[1] Standard Errors assume that the covariance matrix of the errors is correctly specified.\n",
       "\"\"\""
      ]
     },
     "execution_count": 49,
     "metadata": {},
     "output_type": "execute_result"
    }
   ],
   "source": [
    "lm2 = sm.OLS(y_train,X_train_rfe[['const','workingday', 'atemp']]).fit()   \n",
    "lm2.summary()"
   ]
  },
  {
   "cell_type": "code",
   "execution_count": 50,
   "id": "e0a8bd1d",
   "metadata": {},
   "outputs": [],
   "source": [
    "## Conclusion: Dropping holiday as it has low significance.\n",
    "## Model 3: Constant, 'JAN','JUL','SEP',atemp"
   ]
  },
  {
   "cell_type": "code",
   "execution_count": 51,
   "id": "62d529b3",
   "metadata": {},
   "outputs": [
    {
     "data": {
      "text/html": [
       "<table class=\"simpletable\">\n",
       "<caption>OLS Regression Results</caption>\n",
       "<tr>\n",
       "  <th>Dep. Variable:</th>           <td>cnt</td>       <th>  R-squared:         </th> <td>   0.441</td>\n",
       "</tr>\n",
       "<tr>\n",
       "  <th>Model:</th>                   <td>OLS</td>       <th>  Adj. R-squared:    </th> <td>   0.436</td>\n",
       "</tr>\n",
       "<tr>\n",
       "  <th>Method:</th>             <td>Least Squares</td>  <th>  F-statistic:       </th> <td>   99.57</td>\n",
       "</tr>\n",
       "<tr>\n",
       "  <th>Date:</th>             <td>Mon, 10 Jan 2022</td> <th>  Prob (F-statistic):</th> <td>1.93e-62</td>\n",
       "</tr>\n",
       "<tr>\n",
       "  <th>Time:</th>                 <td>20:15:20</td>     <th>  Log-Likelihood:    </th> <td>  186.79</td>\n",
       "</tr>\n",
       "<tr>\n",
       "  <th>No. Observations:</th>      <td>   510</td>      <th>  AIC:               </th> <td>  -363.6</td>\n",
       "</tr>\n",
       "<tr>\n",
       "  <th>Df Residuals:</th>          <td>   505</td>      <th>  BIC:               </th> <td>  -342.4</td>\n",
       "</tr>\n",
       "<tr>\n",
       "  <th>Df Model:</th>              <td>     4</td>      <th>                     </th>     <td> </td>   \n",
       "</tr>\n",
       "<tr>\n",
       "  <th>Covariance Type:</th>      <td>nonrobust</td>    <th>                     </th>     <td> </td>   \n",
       "</tr>\n",
       "</table>\n",
       "<table class=\"simpletable\">\n",
       "<tr>\n",
       "    <td></td>       <th>coef</th>     <th>std err</th>      <th>t</th>      <th>P>|t|</th>  <th>[0.025</th>    <th>0.975]</th>  \n",
       "</tr>\n",
       "<tr>\n",
       "  <th>const</th> <td>    0.1793</td> <td>    0.024</td> <td>    7.458</td> <td> 0.000</td> <td>    0.132</td> <td>    0.227</td>\n",
       "</tr>\n",
       "<tr>\n",
       "  <th>atemp</th> <td>    0.6712</td> <td>    0.045</td> <td>   15.031</td> <td> 0.000</td> <td>    0.583</td> <td>    0.759</td>\n",
       "</tr>\n",
       "<tr>\n",
       "  <th>JAN</th>   <td>   -0.0764</td> <td>    0.030</td> <td>   -2.572</td> <td> 0.010</td> <td>   -0.135</td> <td>   -0.018</td>\n",
       "</tr>\n",
       "<tr>\n",
       "  <th>JUL</th>   <td>   -0.0884</td> <td>    0.032</td> <td>   -2.804</td> <td> 0.005</td> <td>   -0.150</td> <td>   -0.026</td>\n",
       "</tr>\n",
       "<tr>\n",
       "  <th>SEP</th>   <td>    0.0435</td> <td>    0.029</td> <td>    1.521</td> <td> 0.129</td> <td>   -0.013</td> <td>    0.100</td>\n",
       "</tr>\n",
       "</table>\n",
       "<table class=\"simpletable\">\n",
       "<tr>\n",
       "  <th>Omnibus:</th>       <td> 3.893</td> <th>  Durbin-Watson:     </th> <td>   2.057</td>\n",
       "</tr>\n",
       "<tr>\n",
       "  <th>Prob(Omnibus):</th> <td> 0.143</td> <th>  Jarque-Bera (JB):  </th> <td>   2.919</td>\n",
       "</tr>\n",
       "<tr>\n",
       "  <th>Skew:</th>          <td> 0.009</td> <th>  Prob(JB):          </th> <td>   0.232</td>\n",
       "</tr>\n",
       "<tr>\n",
       "  <th>Kurtosis:</th>      <td> 2.630</td> <th>  Cond. No.          </th> <td>    8.40</td>\n",
       "</tr>\n",
       "</table><br/><br/>Notes:<br/>[1] Standard Errors assume that the covariance matrix of the errors is correctly specified."
      ],
      "text/plain": [
       "<class 'statsmodels.iolib.summary.Summary'>\n",
       "\"\"\"\n",
       "                            OLS Regression Results                            \n",
       "==============================================================================\n",
       "Dep. Variable:                    cnt   R-squared:                       0.441\n",
       "Model:                            OLS   Adj. R-squared:                  0.436\n",
       "Method:                 Least Squares   F-statistic:                     99.57\n",
       "Date:                Mon, 10 Jan 2022   Prob (F-statistic):           1.93e-62\n",
       "Time:                        20:15:20   Log-Likelihood:                 186.79\n",
       "No. Observations:                 510   AIC:                            -363.6\n",
       "Df Residuals:                     505   BIC:                            -342.4\n",
       "Df Model:                           4                                         \n",
       "Covariance Type:            nonrobust                                         \n",
       "==============================================================================\n",
       "                 coef    std err          t      P>|t|      [0.025      0.975]\n",
       "------------------------------------------------------------------------------\n",
       "const          0.1793      0.024      7.458      0.000       0.132       0.227\n",
       "atemp          0.6712      0.045     15.031      0.000       0.583       0.759\n",
       "JAN           -0.0764      0.030     -2.572      0.010      -0.135      -0.018\n",
       "JUL           -0.0884      0.032     -2.804      0.005      -0.150      -0.026\n",
       "SEP            0.0435      0.029      1.521      0.129      -0.013       0.100\n",
       "==============================================================================\n",
       "Omnibus:                        3.893   Durbin-Watson:                   2.057\n",
       "Prob(Omnibus):                  0.143   Jarque-Bera (JB):                2.919\n",
       "Skew:                           0.009   Prob(JB):                        0.232\n",
       "Kurtosis:                       2.630   Cond. No.                         8.40\n",
       "==============================================================================\n",
       "\n",
       "Notes:\n",
       "[1] Standard Errors assume that the covariance matrix of the errors is correctly specified.\n",
       "\"\"\""
      ]
     },
     "execution_count": 51,
     "metadata": {},
     "output_type": "execute_result"
    }
   ],
   "source": [
    "lm2 = sm.OLS(y_train,X_train_rfe[['const','atemp', 'JAN','JUL','SEP']]).fit()   # Running the linear model\n",
    "lm2.summary()"
   ]
  },
  {
   "cell_type": "code",
   "execution_count": 52,
   "id": "b76337ee",
   "metadata": {},
   "outputs": [],
   "source": [
    "# Model 3: September is having low significance hence dropping.. Adding seasons"
   ]
  },
  {
   "cell_type": "code",
   "execution_count": 53,
   "id": "6739cc97",
   "metadata": {},
   "outputs": [
    {
     "data": {
      "text/html": [
       "<table class=\"simpletable\">\n",
       "<caption>OLS Regression Results</caption>\n",
       "<tr>\n",
       "  <th>Dep. Variable:</th>           <td>cnt</td>       <th>  R-squared:         </th> <td>   0.469</td>\n",
       "</tr>\n",
       "<tr>\n",
       "  <th>Model:</th>                   <td>OLS</td>       <th>  Adj. R-squared:    </th> <td>   0.464</td>\n",
       "</tr>\n",
       "<tr>\n",
       "  <th>Method:</th>             <td>Least Squares</td>  <th>  F-statistic:       </th> <td>   89.18</td>\n",
       "</tr>\n",
       "<tr>\n",
       "  <th>Date:</th>             <td>Mon, 10 Jan 2022</td> <th>  Prob (F-statistic):</th> <td>4.25e-67</td>\n",
       "</tr>\n",
       "<tr>\n",
       "  <th>Time:</th>                 <td>20:15:20</td>     <th>  Log-Likelihood:    </th> <td>  200.13</td>\n",
       "</tr>\n",
       "<tr>\n",
       "  <th>No. Observations:</th>      <td>   510</td>      <th>  AIC:               </th> <td>  -388.3</td>\n",
       "</tr>\n",
       "<tr>\n",
       "  <th>Df Residuals:</th>          <td>   504</td>      <th>  BIC:               </th> <td>  -362.8</td>\n",
       "</tr>\n",
       "<tr>\n",
       "  <th>Df Model:</th>              <td>     5</td>      <th>                     </th>     <td> </td>   \n",
       "</tr>\n",
       "<tr>\n",
       "  <th>Covariance Type:</th>      <td>nonrobust</td>    <th>                     </th>     <td> </td>   \n",
       "</tr>\n",
       "</table>\n",
       "<table class=\"simpletable\">\n",
       "<tr>\n",
       "     <td></td>       <th>coef</th>     <th>std err</th>      <th>t</th>      <th>P>|t|</th>  <th>[0.025</th>    <th>0.975]</th>  \n",
       "</tr>\n",
       "<tr>\n",
       "  <th>const</th>  <td>    0.2044</td> <td>    0.037</td> <td>    5.483</td> <td> 0.000</td> <td>    0.131</td> <td>    0.278</td>\n",
       "</tr>\n",
       "<tr>\n",
       "  <th>atemp</th>  <td>    0.6353</td> <td>    0.056</td> <td>   11.305</td> <td> 0.000</td> <td>    0.525</td> <td>    0.746</td>\n",
       "</tr>\n",
       "<tr>\n",
       "  <th>JAN</th>    <td>   -0.0084</td> <td>    0.031</td> <td>   -0.268</td> <td> 0.789</td> <td>   -0.070</td> <td>    0.053</td>\n",
       "</tr>\n",
       "<tr>\n",
       "  <th>JUL</th>    <td>   -0.0844</td> <td>    0.030</td> <td>   -2.785</td> <td> 0.006</td> <td>   -0.144</td> <td>   -0.025</td>\n",
       "</tr>\n",
       "<tr>\n",
       "  <th>SPRING</th> <td>   -0.0857</td> <td>    0.028</td> <td>   -3.114</td> <td> 0.002</td> <td>   -0.140</td> <td>   -0.032</td>\n",
       "</tr>\n",
       "<tr>\n",
       "  <th>WINTER</th> <td>    0.0454</td> <td>    0.021</td> <td>    2.118</td> <td> 0.035</td> <td>    0.003</td> <td>    0.088</td>\n",
       "</tr>\n",
       "</table>\n",
       "<table class=\"simpletable\">\n",
       "<tr>\n",
       "  <th>Omnibus:</th>       <td> 1.285</td> <th>  Durbin-Watson:     </th> <td>   2.048</td>\n",
       "</tr>\n",
       "<tr>\n",
       "  <th>Prob(Omnibus):</th> <td> 0.526</td> <th>  Jarque-Bera (JB):  </th> <td>   1.294</td>\n",
       "</tr>\n",
       "<tr>\n",
       "  <th>Skew:</th>          <td>-0.051</td> <th>  Prob(JB):          </th> <td>   0.524</td>\n",
       "</tr>\n",
       "<tr>\n",
       "  <th>Kurtosis:</th>      <td> 2.775</td> <th>  Cond. No.          </th> <td>    11.6</td>\n",
       "</tr>\n",
       "</table><br/><br/>Notes:<br/>[1] Standard Errors assume that the covariance matrix of the errors is correctly specified."
      ],
      "text/plain": [
       "<class 'statsmodels.iolib.summary.Summary'>\n",
       "\"\"\"\n",
       "                            OLS Regression Results                            \n",
       "==============================================================================\n",
       "Dep. Variable:                    cnt   R-squared:                       0.469\n",
       "Model:                            OLS   Adj. R-squared:                  0.464\n",
       "Method:                 Least Squares   F-statistic:                     89.18\n",
       "Date:                Mon, 10 Jan 2022   Prob (F-statistic):           4.25e-67\n",
       "Time:                        20:15:20   Log-Likelihood:                 200.13\n",
       "No. Observations:                 510   AIC:                            -388.3\n",
       "Df Residuals:                     504   BIC:                            -362.8\n",
       "Df Model:                           5                                         \n",
       "Covariance Type:            nonrobust                                         \n",
       "==============================================================================\n",
       "                 coef    std err          t      P>|t|      [0.025      0.975]\n",
       "------------------------------------------------------------------------------\n",
       "const          0.2044      0.037      5.483      0.000       0.131       0.278\n",
       "atemp          0.6353      0.056     11.305      0.000       0.525       0.746\n",
       "JAN           -0.0084      0.031     -0.268      0.789      -0.070       0.053\n",
       "JUL           -0.0844      0.030     -2.785      0.006      -0.144      -0.025\n",
       "SPRING        -0.0857      0.028     -3.114      0.002      -0.140      -0.032\n",
       "WINTER         0.0454      0.021      2.118      0.035       0.003       0.088\n",
       "==============================================================================\n",
       "Omnibus:                        1.285   Durbin-Watson:                   2.048\n",
       "Prob(Omnibus):                  0.526   Jarque-Bera (JB):                1.294\n",
       "Skew:                          -0.051   Prob(JB):                        0.524\n",
       "Kurtosis:                       2.775   Cond. No.                         11.6\n",
       "==============================================================================\n",
       "\n",
       "Notes:\n",
       "[1] Standard Errors assume that the covariance matrix of the errors is correctly specified.\n",
       "\"\"\""
      ]
     },
     "execution_count": 53,
     "metadata": {},
     "output_type": "execute_result"
    }
   ],
   "source": [
    "lm3 = sm.OLS(y_train,X_train_rfe[['const','atemp', 'JAN','JUL','SPRING','WINTER']]).fit()   # Adding seasons\n",
    "lm3.summary()"
   ]
  },
  {
   "cell_type": "code",
   "execution_count": 54,
   "id": "90bb1bb7",
   "metadata": {},
   "outputs": [],
   "source": [
    "# Model 4: Jan is having low significance hence dropping.. Adding weather conditions."
   ]
  },
  {
   "cell_type": "code",
   "execution_count": 55,
   "id": "43ba2976",
   "metadata": {},
   "outputs": [
    {
     "data": {
      "text/html": [
       "<table class=\"simpletable\">\n",
       "<caption>OLS Regression Results</caption>\n",
       "<tr>\n",
       "  <th>Dep. Variable:</th>           <td>cnt</td>       <th>  R-squared:         </th> <td>   0.518</td>\n",
       "</tr>\n",
       "<tr>\n",
       "  <th>Model:</th>                   <td>OLS</td>       <th>  Adj. R-squared:    </th> <td>   0.513</td>\n",
       "</tr>\n",
       "<tr>\n",
       "  <th>Method:</th>             <td>Least Squares</td>  <th>  F-statistic:       </th> <td>   108.2</td>\n",
       "</tr>\n",
       "<tr>\n",
       "  <th>Date:</th>             <td>Mon, 10 Jan 2022</td> <th>  Prob (F-statistic):</th> <td>1.81e-77</td>\n",
       "</tr>\n",
       "<tr>\n",
       "  <th>Time:</th>                 <td>20:15:20</td>     <th>  Log-Likelihood:    </th> <td>  224.44</td>\n",
       "</tr>\n",
       "<tr>\n",
       "  <th>No. Observations:</th>      <td>   510</td>      <th>  AIC:               </th> <td>  -436.9</td>\n",
       "</tr>\n",
       "<tr>\n",
       "  <th>Df Residuals:</th>          <td>   504</td>      <th>  BIC:               </th> <td>  -411.5</td>\n",
       "</tr>\n",
       "<tr>\n",
       "  <th>Df Model:</th>              <td>     5</td>      <th>                     </th>     <td> </td>   \n",
       "</tr>\n",
       "<tr>\n",
       "  <th>Covariance Type:</th>      <td>nonrobust</td>    <th>                     </th>     <td> </td>   \n",
       "</tr>\n",
       "</table>\n",
       "<table class=\"simpletable\">\n",
       "<tr>\n",
       "       <td></td>         <th>coef</th>     <th>std err</th>      <th>t</th>      <th>P>|t|</th>  <th>[0.025</th>    <th>0.975]</th>  \n",
       "</tr>\n",
       "<tr>\n",
       "  <th>const</th>      <td>    0.2183</td> <td>    0.035</td> <td>    6.268</td> <td> 0.000</td> <td>    0.150</td> <td>    0.287</td>\n",
       "</tr>\n",
       "<tr>\n",
       "  <th>atemp</th>      <td>    0.6219</td> <td>    0.052</td> <td>   11.888</td> <td> 0.000</td> <td>    0.519</td> <td>    0.725</td>\n",
       "</tr>\n",
       "<tr>\n",
       "  <th>JUL</th>        <td>   -0.0798</td> <td>    0.029</td> <td>   -2.768</td> <td> 0.006</td> <td>   -0.136</td> <td>   -0.023</td>\n",
       "</tr>\n",
       "<tr>\n",
       "  <th>SPRING</th>     <td>   -0.0940</td> <td>    0.025</td> <td>   -3.707</td> <td> 0.000</td> <td>   -0.144</td> <td>   -0.044</td>\n",
       "</tr>\n",
       "<tr>\n",
       "  <th>WINTER</th>     <td>    0.0559</td> <td>    0.020</td> <td>    2.747</td> <td> 0.006</td> <td>    0.016</td> <td>    0.096</td>\n",
       "</tr>\n",
       "<tr>\n",
       "  <th>LIGHT_RAIN</th> <td>   -0.2942</td> <td>    0.041</td> <td>   -7.106</td> <td> 0.000</td> <td>   -0.376</td> <td>   -0.213</td>\n",
       "</tr>\n",
       "</table>\n",
       "<table class=\"simpletable\">\n",
       "<tr>\n",
       "  <th>Omnibus:</th>       <td> 7.395</td> <th>  Durbin-Watson:     </th> <td>   1.999</td>\n",
       "</tr>\n",
       "<tr>\n",
       "  <th>Prob(Omnibus):</th> <td> 0.025</td> <th>  Jarque-Bera (JB):  </th> <td>   5.236</td>\n",
       "</tr>\n",
       "<tr>\n",
       "  <th>Skew:</th>          <td> 0.112</td> <th>  Prob(JB):          </th> <td>  0.0730</td>\n",
       "</tr>\n",
       "<tr>\n",
       "  <th>Kurtosis:</th>      <td> 2.557</td> <th>  Cond. No.          </th> <td>    11.4</td>\n",
       "</tr>\n",
       "</table><br/><br/>Notes:<br/>[1] Standard Errors assume that the covariance matrix of the errors is correctly specified."
      ],
      "text/plain": [
       "<class 'statsmodels.iolib.summary.Summary'>\n",
       "\"\"\"\n",
       "                            OLS Regression Results                            \n",
       "==============================================================================\n",
       "Dep. Variable:                    cnt   R-squared:                       0.518\n",
       "Model:                            OLS   Adj. R-squared:                  0.513\n",
       "Method:                 Least Squares   F-statistic:                     108.2\n",
       "Date:                Mon, 10 Jan 2022   Prob (F-statistic):           1.81e-77\n",
       "Time:                        20:15:20   Log-Likelihood:                 224.44\n",
       "No. Observations:                 510   AIC:                            -436.9\n",
       "Df Residuals:                     504   BIC:                            -411.5\n",
       "Df Model:                           5                                         \n",
       "Covariance Type:            nonrobust                                         \n",
       "==============================================================================\n",
       "                 coef    std err          t      P>|t|      [0.025      0.975]\n",
       "------------------------------------------------------------------------------\n",
       "const          0.2183      0.035      6.268      0.000       0.150       0.287\n",
       "atemp          0.6219      0.052     11.888      0.000       0.519       0.725\n",
       "JUL           -0.0798      0.029     -2.768      0.006      -0.136      -0.023\n",
       "SPRING        -0.0940      0.025     -3.707      0.000      -0.144      -0.044\n",
       "WINTER         0.0559      0.020      2.747      0.006       0.016       0.096\n",
       "LIGHT_RAIN    -0.2942      0.041     -7.106      0.000      -0.376      -0.213\n",
       "==============================================================================\n",
       "Omnibus:                        7.395   Durbin-Watson:                   1.999\n",
       "Prob(Omnibus):                  0.025   Jarque-Bera (JB):                5.236\n",
       "Skew:                           0.112   Prob(JB):                       0.0730\n",
       "Kurtosis:                       2.557   Cond. No.                         11.4\n",
       "==============================================================================\n",
       "\n",
       "Notes:\n",
       "[1] Standard Errors assume that the covariance matrix of the errors is correctly specified.\n",
       "\"\"\""
      ]
     },
     "execution_count": 55,
     "metadata": {},
     "output_type": "execute_result"
    }
   ],
   "source": [
    "lm4 = sm.OLS(y_train,X_train_rfe[['const','atemp','JUL','SPRING','WINTER','LIGHT_RAIN']]).fit()   # Running the linear model\n",
    "lm4.summary()"
   ]
  },
  {
   "cell_type": "code",
   "execution_count": 56,
   "id": "b531f322",
   "metadata": {},
   "outputs": [],
   "source": [
    "# All the variables have low significance and improves the overall model performance..So keeping everything.\n",
    "# Model 5 : Adding days.."
   ]
  },
  {
   "cell_type": "code",
   "execution_count": 57,
   "id": "48daca97",
   "metadata": {},
   "outputs": [
    {
     "data": {
      "text/html": [
       "<table class=\"simpletable\">\n",
       "<caption>OLS Regression Results</caption>\n",
       "<tr>\n",
       "  <th>Dep. Variable:</th>           <td>cnt</td>       <th>  R-squared:         </th> <td>   0.522</td>\n",
       "</tr>\n",
       "<tr>\n",
       "  <th>Model:</th>                   <td>OLS</td>       <th>  Adj. R-squared:    </th> <td>   0.515</td>\n",
       "</tr>\n",
       "<tr>\n",
       "  <th>Method:</th>             <td>Least Squares</td>  <th>  F-statistic:       </th> <td>   78.26</td>\n",
       "</tr>\n",
       "<tr>\n",
       "  <th>Date:</th>             <td>Mon, 10 Jan 2022</td> <th>  Prob (F-statistic):</th> <td>2.27e-76</td>\n",
       "</tr>\n",
       "<tr>\n",
       "  <th>Time:</th>                 <td>20:15:20</td>     <th>  Log-Likelihood:    </th> <td>  226.65</td>\n",
       "</tr>\n",
       "<tr>\n",
       "  <th>No. Observations:</th>      <td>   510</td>      <th>  AIC:               </th> <td>  -437.3</td>\n",
       "</tr>\n",
       "<tr>\n",
       "  <th>Df Residuals:</th>          <td>   502</td>      <th>  BIC:               </th> <td>  -403.4</td>\n",
       "</tr>\n",
       "<tr>\n",
       "  <th>Df Model:</th>              <td>     7</td>      <th>                     </th>     <td> </td>   \n",
       "</tr>\n",
       "<tr>\n",
       "  <th>Covariance Type:</th>      <td>nonrobust</td>    <th>                     </th>     <td> </td>   \n",
       "</tr>\n",
       "</table>\n",
       "<table class=\"simpletable\">\n",
       "<tr>\n",
       "       <td></td>         <th>coef</th>     <th>std err</th>      <th>t</th>      <th>P>|t|</th>  <th>[0.025</th>    <th>0.975]</th>  \n",
       "</tr>\n",
       "<tr>\n",
       "  <th>const</th>      <td>    0.2232</td> <td>    0.035</td> <td>    6.358</td> <td> 0.000</td> <td>    0.154</td> <td>    0.292</td>\n",
       "</tr>\n",
       "<tr>\n",
       "  <th>atemp</th>      <td>    0.6213</td> <td>    0.052</td> <td>   11.899</td> <td> 0.000</td> <td>    0.519</td> <td>    0.724</td>\n",
       "</tr>\n",
       "<tr>\n",
       "  <th>JUL</th>        <td>   -0.0774</td> <td>    0.029</td> <td>   -2.688</td> <td> 0.007</td> <td>   -0.134</td> <td>   -0.021</td>\n",
       "</tr>\n",
       "<tr>\n",
       "  <th>SPRING</th>     <td>   -0.0934</td> <td>    0.025</td> <td>   -3.690</td> <td> 0.000</td> <td>   -0.143</td> <td>   -0.044</td>\n",
       "</tr>\n",
       "<tr>\n",
       "  <th>WINTER</th>     <td>    0.0577</td> <td>    0.020</td> <td>    2.836</td> <td> 0.005</td> <td>    0.018</td> <td>    0.098</td>\n",
       "</tr>\n",
       "<tr>\n",
       "  <th>LIGHT_RAIN</th> <td>   -0.2980</td> <td>    0.041</td> <td>   -7.207</td> <td> 0.000</td> <td>   -0.379</td> <td>   -0.217</td>\n",
       "</tr>\n",
       "<tr>\n",
       "  <th>SAT</th>        <td>    0.0032</td> <td>    0.019</td> <td>    0.165</td> <td> 0.869</td> <td>   -0.035</td> <td>    0.041</td>\n",
       "</tr>\n",
       "<tr>\n",
       "  <th>SUN</th>        <td>   -0.0407</td> <td>    0.020</td> <td>   -2.022</td> <td> 0.044</td> <td>   -0.080</td> <td>   -0.001</td>\n",
       "</tr>\n",
       "</table>\n",
       "<table class=\"simpletable\">\n",
       "<tr>\n",
       "  <th>Omnibus:</th>       <td> 5.850</td> <th>  Durbin-Watson:     </th> <td>   2.009</td>\n",
       "</tr>\n",
       "<tr>\n",
       "  <th>Prob(Omnibus):</th> <td> 0.054</td> <th>  Jarque-Bera (JB):  </th> <td>   4.263</td>\n",
       "</tr>\n",
       "<tr>\n",
       "  <th>Skew:</th>          <td> 0.088</td> <th>  Prob(JB):          </th> <td>   0.119</td>\n",
       "</tr>\n",
       "<tr>\n",
       "  <th>Kurtosis:</th>      <td> 2.588</td> <th>  Cond. No.          </th> <td>    11.6</td>\n",
       "</tr>\n",
       "</table><br/><br/>Notes:<br/>[1] Standard Errors assume that the covariance matrix of the errors is correctly specified."
      ],
      "text/plain": [
       "<class 'statsmodels.iolib.summary.Summary'>\n",
       "\"\"\"\n",
       "                            OLS Regression Results                            \n",
       "==============================================================================\n",
       "Dep. Variable:                    cnt   R-squared:                       0.522\n",
       "Model:                            OLS   Adj. R-squared:                  0.515\n",
       "Method:                 Least Squares   F-statistic:                     78.26\n",
       "Date:                Mon, 10 Jan 2022   Prob (F-statistic):           2.27e-76\n",
       "Time:                        20:15:20   Log-Likelihood:                 226.65\n",
       "No. Observations:                 510   AIC:                            -437.3\n",
       "Df Residuals:                     502   BIC:                            -403.4\n",
       "Df Model:                           7                                         \n",
       "Covariance Type:            nonrobust                                         \n",
       "==============================================================================\n",
       "                 coef    std err          t      P>|t|      [0.025      0.975]\n",
       "------------------------------------------------------------------------------\n",
       "const          0.2232      0.035      6.358      0.000       0.154       0.292\n",
       "atemp          0.6213      0.052     11.899      0.000       0.519       0.724\n",
       "JUL           -0.0774      0.029     -2.688      0.007      -0.134      -0.021\n",
       "SPRING        -0.0934      0.025     -3.690      0.000      -0.143      -0.044\n",
       "WINTER         0.0577      0.020      2.836      0.005       0.018       0.098\n",
       "LIGHT_RAIN    -0.2980      0.041     -7.207      0.000      -0.379      -0.217\n",
       "SAT            0.0032      0.019      0.165      0.869      -0.035       0.041\n",
       "SUN           -0.0407      0.020     -2.022      0.044      -0.080      -0.001\n",
       "==============================================================================\n",
       "Omnibus:                        5.850   Durbin-Watson:                   2.009\n",
       "Prob(Omnibus):                  0.054   Jarque-Bera (JB):                4.263\n",
       "Skew:                           0.088   Prob(JB):                        0.119\n",
       "Kurtosis:                       2.588   Cond. No.                         11.6\n",
       "==============================================================================\n",
       "\n",
       "Notes:\n",
       "[1] Standard Errors assume that the covariance matrix of the errors is correctly specified.\n",
       "\"\"\""
      ]
     },
     "execution_count": 57,
     "metadata": {},
     "output_type": "execute_result"
    }
   ],
   "source": [
    "lm5 = sm.OLS(y_train,X_train_rfe[['const','atemp','JUL','SPRING','WINTER','LIGHT_RAIN','SAT', 'SUN']]).fit()   # Running the linear model\n",
    "lm5.summary()"
   ]
  },
  {
   "cell_type": "code",
   "execution_count": 58,
   "id": "d1db43c9",
   "metadata": {},
   "outputs": [],
   "source": [
    "# Adding days decreases the model significance hence, removing those\n",
    "# Model 6: Removing  days..Adding year, windspeed and humidity"
   ]
  },
  {
   "cell_type": "code",
   "execution_count": 59,
   "id": "67b71d29",
   "metadata": {},
   "outputs": [
    {
     "data": {
      "text/html": [
       "<table class=\"simpletable\">\n",
       "<caption>OLS Regression Results</caption>\n",
       "<tr>\n",
       "  <th>Dep. Variable:</th>           <td>cnt</td>       <th>  R-squared:         </th> <td>   0.819</td> \n",
       "</tr>\n",
       "<tr>\n",
       "  <th>Model:</th>                   <td>OLS</td>       <th>  Adj. R-squared:    </th> <td>   0.816</td> \n",
       "</tr>\n",
       "<tr>\n",
       "  <th>Method:</th>             <td>Least Squares</td>  <th>  F-statistic:       </th> <td>   282.8</td> \n",
       "</tr>\n",
       "<tr>\n",
       "  <th>Date:</th>             <td>Mon, 10 Jan 2022</td> <th>  Prob (F-statistic):</th> <td>2.43e-180</td>\n",
       "</tr>\n",
       "<tr>\n",
       "  <th>Time:</th>                 <td>20:15:20</td>     <th>  Log-Likelihood:    </th> <td>  473.98</td> \n",
       "</tr>\n",
       "<tr>\n",
       "  <th>No. Observations:</th>      <td>   510</td>      <th>  AIC:               </th> <td>  -930.0</td> \n",
       "</tr>\n",
       "<tr>\n",
       "  <th>Df Residuals:</th>          <td>   501</td>      <th>  BIC:               </th> <td>  -891.8</td> \n",
       "</tr>\n",
       "<tr>\n",
       "  <th>Df Model:</th>              <td>     8</td>      <th>                     </th>     <td> </td>    \n",
       "</tr>\n",
       "<tr>\n",
       "  <th>Covariance Type:</th>      <td>nonrobust</td>    <th>                     </th>     <td> </td>    \n",
       "</tr>\n",
       "</table>\n",
       "<table class=\"simpletable\">\n",
       "<tr>\n",
       "       <td></td>         <th>coef</th>     <th>std err</th>      <th>t</th>      <th>P>|t|</th>  <th>[0.025</th>    <th>0.975]</th>  \n",
       "</tr>\n",
       "<tr>\n",
       "  <th>const</th>      <td>    0.3719</td> <td>    0.032</td> <td>   11.637</td> <td> 0.000</td> <td>    0.309</td> <td>    0.435</td>\n",
       "</tr>\n",
       "<tr>\n",
       "  <th>atemp</th>      <td>    0.5500</td> <td>    0.033</td> <td>   16.526</td> <td> 0.000</td> <td>    0.485</td> <td>    0.615</td>\n",
       "</tr>\n",
       "<tr>\n",
       "  <th>JUL</th>        <td>   -0.0868</td> <td>    0.018</td> <td>   -4.846</td> <td> 0.000</td> <td>   -0.122</td> <td>   -0.052</td>\n",
       "</tr>\n",
       "<tr>\n",
       "  <th>SPRING</th>     <td>   -0.1114</td> <td>    0.016</td> <td>   -7.128</td> <td> 0.000</td> <td>   -0.142</td> <td>   -0.081</td>\n",
       "</tr>\n",
       "<tr>\n",
       "  <th>WINTER</th>     <td>    0.0523</td> <td>    0.013</td> <td>    4.096</td> <td> 0.000</td> <td>    0.027</td> <td>    0.077</td>\n",
       "</tr>\n",
       "<tr>\n",
       "  <th>LIGHT_RAIN</th> <td>   -0.1861</td> <td>    0.027</td> <td>   -6.994</td> <td> 0.000</td> <td>   -0.238</td> <td>   -0.134</td>\n",
       "</tr>\n",
       "<tr>\n",
       "  <th>hum</th>        <td>   -0.2656</td> <td>    0.033</td> <td>   -8.093</td> <td> 0.000</td> <td>   -0.330</td> <td>   -0.201</td>\n",
       "</tr>\n",
       "<tr>\n",
       "  <th>windspeed</th>  <td>   -0.1803</td> <td>    0.027</td> <td>   -6.672</td> <td> 0.000</td> <td>   -0.233</td> <td>   -0.127</td>\n",
       "</tr>\n",
       "<tr>\n",
       "  <th>YEAR_2019</th>  <td>    0.2291</td> <td>    0.009</td> <td>   26.471</td> <td> 0.000</td> <td>    0.212</td> <td>    0.246</td>\n",
       "</tr>\n",
       "</table>\n",
       "<table class=\"simpletable\">\n",
       "<tr>\n",
       "  <th>Omnibus:</th>       <td>61.380</td> <th>  Durbin-Watson:     </th> <td>   1.907</td>\n",
       "</tr>\n",
       "<tr>\n",
       "  <th>Prob(Omnibus):</th> <td> 0.000</td> <th>  Jarque-Bera (JB):  </th> <td> 147.953</td>\n",
       "</tr>\n",
       "<tr>\n",
       "  <th>Skew:</th>          <td>-0.631</td> <th>  Prob(JB):          </th> <td>7.45e-33</td>\n",
       "</tr>\n",
       "<tr>\n",
       "  <th>Kurtosis:</th>      <td> 5.318</td> <th>  Cond. No.          </th> <td>    16.2</td>\n",
       "</tr>\n",
       "</table><br/><br/>Notes:<br/>[1] Standard Errors assume that the covariance matrix of the errors is correctly specified."
      ],
      "text/plain": [
       "<class 'statsmodels.iolib.summary.Summary'>\n",
       "\"\"\"\n",
       "                            OLS Regression Results                            \n",
       "==============================================================================\n",
       "Dep. Variable:                    cnt   R-squared:                       0.819\n",
       "Model:                            OLS   Adj. R-squared:                  0.816\n",
       "Method:                 Least Squares   F-statistic:                     282.8\n",
       "Date:                Mon, 10 Jan 2022   Prob (F-statistic):          2.43e-180\n",
       "Time:                        20:15:20   Log-Likelihood:                 473.98\n",
       "No. Observations:                 510   AIC:                            -930.0\n",
       "Df Residuals:                     501   BIC:                            -891.8\n",
       "Df Model:                           8                                         \n",
       "Covariance Type:            nonrobust                                         \n",
       "==============================================================================\n",
       "                 coef    std err          t      P>|t|      [0.025      0.975]\n",
       "------------------------------------------------------------------------------\n",
       "const          0.3719      0.032     11.637      0.000       0.309       0.435\n",
       "atemp          0.5500      0.033     16.526      0.000       0.485       0.615\n",
       "JUL           -0.0868      0.018     -4.846      0.000      -0.122      -0.052\n",
       "SPRING        -0.1114      0.016     -7.128      0.000      -0.142      -0.081\n",
       "WINTER         0.0523      0.013      4.096      0.000       0.027       0.077\n",
       "LIGHT_RAIN    -0.1861      0.027     -6.994      0.000      -0.238      -0.134\n",
       "hum           -0.2656      0.033     -8.093      0.000      -0.330      -0.201\n",
       "windspeed     -0.1803      0.027     -6.672      0.000      -0.233      -0.127\n",
       "YEAR_2019      0.2291      0.009     26.471      0.000       0.212       0.246\n",
       "==============================================================================\n",
       "Omnibus:                       61.380   Durbin-Watson:                   1.907\n",
       "Prob(Omnibus):                  0.000   Jarque-Bera (JB):              147.953\n",
       "Skew:                          -0.631   Prob(JB):                     7.45e-33\n",
       "Kurtosis:                       5.318   Cond. No.                         16.2\n",
       "==============================================================================\n",
       "\n",
       "Notes:\n",
       "[1] Standard Errors assume that the covariance matrix of the errors is correctly specified.\n",
       "\"\"\""
      ]
     },
     "execution_count": 59,
     "metadata": {},
     "output_type": "execute_result"
    }
   ],
   "source": [
    "lm6 = sm.OLS(y_train,X_train_rfe[['const','atemp','JUL','SPRING','WINTER','LIGHT_RAIN','hum', 'windspeed','YEAR_2019']]).fit()   # Running the linear model\n",
    "lm6.summary()"
   ]
  },
  {
   "cell_type": "code",
   "execution_count": 60,
   "id": "60dd5424",
   "metadata": {},
   "outputs": [
    {
     "data": {
      "text/html": [
       "<div>\n",
       "<style scoped>\n",
       "    .dataframe tbody tr th:only-of-type {\n",
       "        vertical-align: middle;\n",
       "    }\n",
       "\n",
       "    .dataframe tbody tr th {\n",
       "        vertical-align: top;\n",
       "    }\n",
       "\n",
       "    .dataframe thead th {\n",
       "        text-align: right;\n",
       "    }\n",
       "</style>\n",
       "<table border=\"1\" class=\"dataframe\">\n",
       "  <thead>\n",
       "    <tr style=\"text-align: right;\">\n",
       "      <th></th>\n",
       "      <th>Features</th>\n",
       "      <th>VIF</th>\n",
       "    </tr>\n",
       "  </thead>\n",
       "  <tbody>\n",
       "    <tr>\n",
       "      <th>1</th>\n",
       "      <td>workingday</td>\n",
       "      <td>41.67</td>\n",
       "    </tr>\n",
       "    <tr>\n",
       "      <th>13</th>\n",
       "      <td>SAT</td>\n",
       "      <td>10.16</td>\n",
       "    </tr>\n",
       "    <tr>\n",
       "      <th>14</th>\n",
       "      <td>SUN</td>\n",
       "      <td>9.84</td>\n",
       "    </tr>\n",
       "    <tr>\n",
       "      <th>2</th>\n",
       "      <td>atemp</td>\n",
       "      <td>3.11</td>\n",
       "    </tr>\n",
       "    <tr>\n",
       "      <th>5</th>\n",
       "      <td>SPRING</td>\n",
       "      <td>2.66</td>\n",
       "    </tr>\n",
       "    <tr>\n",
       "      <th>0</th>\n",
       "      <td>holiday</td>\n",
       "      <td>2.57</td>\n",
       "    </tr>\n",
       "    <tr>\n",
       "      <th>3</th>\n",
       "      <td>hum</td>\n",
       "      <td>1.91</td>\n",
       "    </tr>\n",
       "    <tr>\n",
       "      <th>6</th>\n",
       "      <td>WINTER</td>\n",
       "      <td>1.75</td>\n",
       "    </tr>\n",
       "    <tr>\n",
       "      <th>12</th>\n",
       "      <td>MIST</td>\n",
       "      <td>1.57</td>\n",
       "    </tr>\n",
       "    <tr>\n",
       "      <th>7</th>\n",
       "      <td>JAN</td>\n",
       "      <td>1.56</td>\n",
       "    </tr>\n",
       "    <tr>\n",
       "      <th>8</th>\n",
       "      <td>JUL</td>\n",
       "      <td>1.30</td>\n",
       "    </tr>\n",
       "    <tr>\n",
       "      <th>11</th>\n",
       "      <td>LIGHT_RAIN</td>\n",
       "      <td>1.25</td>\n",
       "    </tr>\n",
       "    <tr>\n",
       "      <th>4</th>\n",
       "      <td>windspeed</td>\n",
       "      <td>1.20</td>\n",
       "    </tr>\n",
       "    <tr>\n",
       "      <th>9</th>\n",
       "      <td>SEP</td>\n",
       "      <td>1.11</td>\n",
       "    </tr>\n",
       "    <tr>\n",
       "      <th>10</th>\n",
       "      <td>YEAR_2019</td>\n",
       "      <td>1.03</td>\n",
       "    </tr>\n",
       "  </tbody>\n",
       "</table>\n",
       "</div>"
      ],
      "text/plain": [
       "      Features    VIF\n",
       "1   workingday  41.67\n",
       "13         SAT  10.16\n",
       "14         SUN   9.84\n",
       "2        atemp   3.11\n",
       "5       SPRING   2.66\n",
       "0      holiday   2.57\n",
       "3          hum   1.91\n",
       "6       WINTER   1.75\n",
       "12        MIST   1.57\n",
       "7          JAN   1.56\n",
       "8          JUL   1.30\n",
       "11  LIGHT_RAIN   1.25\n",
       "4    windspeed   1.20\n",
       "9          SEP   1.11\n",
       "10   YEAR_2019   1.03"
      ]
     },
     "execution_count": 60,
     "metadata": {},
     "output_type": "execute_result"
    }
   ],
   "source": [
    "# Verifying whether the all the factors we considered are okay.. and don't have high VIF\n",
    "# Calculate the VIFs for the new model\n",
    "from statsmodels.stats.outliers_influence import variance_inflation_factor\n",
    "\n",
    "vif = pd.DataFrame()\n",
    "X = X_train[X_train.columns[rfe.support_]]\n",
    "vif['Features'] = X.columns\n",
    "vif['VIF']=[variance_inflation_factor(X.values, i) for i in range(X.shape[1])]\n",
    "vif['VIF'] = round(vif['VIF'], 2)\n",
    "vif = vif.sort_values(by = \"VIF\", ascending = False)\n",
    "vif"
   ]
  },
  {
   "cell_type": "code",
   "execution_count": 61,
   "id": "878ff1c4",
   "metadata": {},
   "outputs": [
    {
     "data": {
      "text/plain": [
       "Index(['holiday', 'workingday', 'atemp', 'hum', 'windspeed', 'SPRING',\n",
       "       'WINTER', 'JAN', 'JUL', 'SEP', 'YEAR_2019', 'LIGHT_RAIN', 'MIST', 'SAT',\n",
       "       'SUN'],\n",
       "      dtype='object')"
      ]
     },
     "execution_count": 61,
     "metadata": {},
     "output_type": "execute_result"
    }
   ],
   "source": [
    "X_train.columns[rfe.support_]"
   ]
  },
  {
   "cell_type": "code",
   "execution_count": 62,
   "id": "a555f643",
   "metadata": {},
   "outputs": [
    {
     "data": {
      "text/html": [
       "<div>\n",
       "<style scoped>\n",
       "    .dataframe tbody tr th:only-of-type {\n",
       "        vertical-align: middle;\n",
       "    }\n",
       "\n",
       "    .dataframe tbody tr th {\n",
       "        vertical-align: top;\n",
       "    }\n",
       "\n",
       "    .dataframe thead th {\n",
       "        text-align: right;\n",
       "    }\n",
       "</style>\n",
       "<table border=\"1\" class=\"dataframe\">\n",
       "  <thead>\n",
       "    <tr style=\"text-align: right;\">\n",
       "      <th></th>\n",
       "      <th>Features</th>\n",
       "      <th>VIF</th>\n",
       "    </tr>\n",
       "  </thead>\n",
       "  <tbody>\n",
       "    <tr>\n",
       "      <th>3</th>\n",
       "      <td>windspeed</td>\n",
       "      <td>3.83</td>\n",
       "    </tr>\n",
       "    <tr>\n",
       "      <th>2</th>\n",
       "      <td>atemp</td>\n",
       "      <td>3.48</td>\n",
       "    </tr>\n",
       "    <tr>\n",
       "      <th>4</th>\n",
       "      <td>YEAR_2019</td>\n",
       "      <td>2.05</td>\n",
       "    </tr>\n",
       "    <tr>\n",
       "      <th>0</th>\n",
       "      <td>SPRING</td>\n",
       "      <td>1.62</td>\n",
       "    </tr>\n",
       "    <tr>\n",
       "      <th>6</th>\n",
       "      <td>MIST</td>\n",
       "      <td>1.49</td>\n",
       "    </tr>\n",
       "    <tr>\n",
       "      <th>1</th>\n",
       "      <td>WINTER</td>\n",
       "      <td>1.35</td>\n",
       "    </tr>\n",
       "    <tr>\n",
       "      <th>5</th>\n",
       "      <td>LIGHT_RAIN</td>\n",
       "      <td>1.08</td>\n",
       "    </tr>\n",
       "  </tbody>\n",
       "</table>\n",
       "</div>"
      ],
      "text/plain": [
       "     Features   VIF\n",
       "3   windspeed  3.83\n",
       "2       atemp  3.48\n",
       "4   YEAR_2019  2.05\n",
       "0      SPRING  1.62\n",
       "6        MIST  1.49\n",
       "1      WINTER  1.35\n",
       "5  LIGHT_RAIN  1.08"
      ]
     },
     "execution_count": 62,
     "metadata": {},
     "output_type": "execute_result"
    }
   ],
   "source": [
    "\n",
    "from statsmodels.stats.outliers_influence import variance_inflation_factor\n",
    "# After removing humidity and atemp\n",
    "vif = pd.DataFrame()\n",
    "X = X_train[['SPRING','WINTER','atemp','windspeed',\n",
    "             'YEAR_2019','LIGHT_RAIN','MIST']]\n",
    "vif['Features'] = X.columns\n",
    "vif['VIF']=[variance_inflation_factor(X.values, i) for i in range(X.shape[1])]\n",
    "vif['VIF'] = round(vif['VIF'], 2)\n",
    "vif = vif.sort_values(by = \"VIF\", ascending = False)\n",
    "vif\n"
   ]
  },
  {
   "cell_type": "code",
   "execution_count": 90,
   "id": "953659ae",
   "metadata": {},
   "outputs": [
    {
     "data": {
      "text/html": [
       "<table class=\"simpletable\">\n",
       "<caption>OLS Regression Results</caption>\n",
       "<tr>\n",
       "  <th>Dep. Variable:</th>           <td>cnt</td>       <th>  R-squared:         </th> <td>   0.816</td> \n",
       "</tr>\n",
       "<tr>\n",
       "  <th>Model:</th>                   <td>OLS</td>       <th>  Adj. R-squared:    </th> <td>   0.813</td> \n",
       "</tr>\n",
       "<tr>\n",
       "  <th>Method:</th>             <td>Least Squares</td>  <th>  F-statistic:       </th> <td>   277.0</td> \n",
       "</tr>\n",
       "<tr>\n",
       "  <th>Date:</th>             <td>Mon, 10 Jan 2022</td> <th>  Prob (F-statistic):</th> <td>1.74e-178</td>\n",
       "</tr>\n",
       "<tr>\n",
       "  <th>Time:</th>                 <td>21:36:10</td>     <th>  Log-Likelihood:    </th> <td>  469.62</td> \n",
       "</tr>\n",
       "<tr>\n",
       "  <th>No. Observations:</th>      <td>   510</td>      <th>  AIC:               </th> <td>  -921.2</td> \n",
       "</tr>\n",
       "<tr>\n",
       "  <th>Df Residuals:</th>          <td>   501</td>      <th>  BIC:               </th> <td>  -883.1</td> \n",
       "</tr>\n",
       "<tr>\n",
       "  <th>Df Model:</th>              <td>     8</td>      <th>                     </th>     <td> </td>    \n",
       "</tr>\n",
       "<tr>\n",
       "  <th>Covariance Type:</th>      <td>nonrobust</td>    <th>                     </th>     <td> </td>    \n",
       "</tr>\n",
       "</table>\n",
       "<table class=\"simpletable\">\n",
       "<tr>\n",
       "       <td></td>         <th>coef</th>     <th>std err</th>      <th>t</th>      <th>P>|t|</th>  <th>[0.025</th>    <th>0.975]</th>  \n",
       "</tr>\n",
       "<tr>\n",
       "  <th>const</th>      <td>    0.2397</td> <td>    0.030</td> <td>    8.059</td> <td> 0.000</td> <td>    0.181</td> <td>    0.298</td>\n",
       "</tr>\n",
       "<tr>\n",
       "  <th>atemp</th>      <td>    0.4654</td> <td>    0.035</td> <td>   13.156</td> <td> 0.000</td> <td>    0.396</td> <td>    0.535</td>\n",
       "</tr>\n",
       "<tr>\n",
       "  <th>SPRING</th>     <td>   -0.1046</td> <td>    0.020</td> <td>   -5.135</td> <td> 0.000</td> <td>   -0.145</td> <td>   -0.065</td>\n",
       "</tr>\n",
       "<tr>\n",
       "  <th>MIST</th>       <td>   -0.0756</td> <td>    0.009</td> <td>   -8.208</td> <td> 0.000</td> <td>   -0.094</td> <td>   -0.057</td>\n",
       "</tr>\n",
       "<tr>\n",
       "  <th>SUMMER</th>     <td>    0.0238</td> <td>    0.014</td> <td>    1.719</td> <td> 0.086</td> <td>   -0.003</td> <td>    0.051</td>\n",
       "</tr>\n",
       "<tr>\n",
       "  <th>WINTER</th>     <td>    0.0544</td> <td>    0.016</td> <td>    3.329</td> <td> 0.001</td> <td>    0.022</td> <td>    0.086</td>\n",
       "</tr>\n",
       "<tr>\n",
       "  <th>LIGHT_RAIN</th> <td>   -0.2723</td> <td>    0.026</td> <td>  -10.445</td> <td> 0.000</td> <td>   -0.324</td> <td>   -0.221</td>\n",
       "</tr>\n",
       "<tr>\n",
       "  <th>windspeed</th>  <td>   -0.1387</td> <td>    0.027</td> <td>   -5.214</td> <td> 0.000</td> <td>   -0.191</td> <td>   -0.086</td>\n",
       "</tr>\n",
       "<tr>\n",
       "  <th>YEAR_2019</th>  <td>    0.2357</td> <td>    0.009</td> <td>   27.129</td> <td> 0.000</td> <td>    0.219</td> <td>    0.253</td>\n",
       "</tr>\n",
       "</table>\n",
       "<table class=\"simpletable\">\n",
       "<tr>\n",
       "  <th>Omnibus:</th>       <td>72.769</td> <th>  Durbin-Watson:     </th> <td>   1.983</td>\n",
       "</tr>\n",
       "<tr>\n",
       "  <th>Prob(Omnibus):</th> <td> 0.000</td> <th>  Jarque-Bera (JB):  </th> <td> 199.805</td>\n",
       "</tr>\n",
       "<tr>\n",
       "  <th>Skew:</th>          <td>-0.698</td> <th>  Prob(JB):          </th> <td>4.10e-44</td>\n",
       "</tr>\n",
       "<tr>\n",
       "  <th>Kurtosis:</th>      <td> 5.730</td> <th>  Cond. No.          </th> <td>    16.6</td>\n",
       "</tr>\n",
       "</table><br/><br/>Notes:<br/>[1] Standard Errors assume that the covariance matrix of the errors is correctly specified."
      ],
      "text/plain": [
       "<class 'statsmodels.iolib.summary.Summary'>\n",
       "\"\"\"\n",
       "                            OLS Regression Results                            \n",
       "==============================================================================\n",
       "Dep. Variable:                    cnt   R-squared:                       0.816\n",
       "Model:                            OLS   Adj. R-squared:                  0.813\n",
       "Method:                 Least Squares   F-statistic:                     277.0\n",
       "Date:                Mon, 10 Jan 2022   Prob (F-statistic):          1.74e-178\n",
       "Time:                        21:36:10   Log-Likelihood:                 469.62\n",
       "No. Observations:                 510   AIC:                            -921.2\n",
       "Df Residuals:                     501   BIC:                            -883.1\n",
       "Df Model:                           8                                         \n",
       "Covariance Type:            nonrobust                                         \n",
       "==============================================================================\n",
       "                 coef    std err          t      P>|t|      [0.025      0.975]\n",
       "------------------------------------------------------------------------------\n",
       "const          0.2397      0.030      8.059      0.000       0.181       0.298\n",
       "atemp          0.4654      0.035     13.156      0.000       0.396       0.535\n",
       "SPRING        -0.1046      0.020     -5.135      0.000      -0.145      -0.065\n",
       "MIST          -0.0756      0.009     -8.208      0.000      -0.094      -0.057\n",
       "SUMMER         0.0238      0.014      1.719      0.086      -0.003       0.051\n",
       "WINTER         0.0544      0.016      3.329      0.001       0.022       0.086\n",
       "LIGHT_RAIN    -0.2723      0.026    -10.445      0.000      -0.324      -0.221\n",
       "windspeed     -0.1387      0.027     -5.214      0.000      -0.191      -0.086\n",
       "YEAR_2019      0.2357      0.009     27.129      0.000       0.219       0.253\n",
       "==============================================================================\n",
       "Omnibus:                       72.769   Durbin-Watson:                   1.983\n",
       "Prob(Omnibus):                  0.000   Jarque-Bera (JB):              199.805\n",
       "Skew:                          -0.698   Prob(JB):                     4.10e-44\n",
       "Kurtosis:                       5.730   Cond. No.                         16.6\n",
       "==============================================================================\n",
       "\n",
       "Notes:\n",
       "[1] Standard Errors assume that the covariance matrix of the errors is correctly specified.\n",
       "\"\"\""
      ]
     },
     "execution_count": 90,
     "metadata": {},
     "output_type": "execute_result"
    }
   ],
   "source": [
    "lm7 = sm.OLS(y_train,X_train_rfe[['const','atemp','SPRING','MIST','SUMMER','WINTER','LIGHT_RAIN', 'windspeed','YEAR_2019']]).fit()   # Running the linear model\n",
    "lm7.summary()"
   ]
  },
  {
   "cell_type": "code",
   "execution_count": 64,
   "id": "5354988d",
   "metadata": {},
   "outputs": [],
   "source": [
    "# compare 2 models with weather conditions and without , so that error terms can be analyzed."
   ]
  },
  {
   "cell_type": "code",
   "execution_count": 65,
   "id": "c7dd5158",
   "metadata": {},
   "outputs": [],
   "source": [
    "y_train_count = lm7.predict(X_train_rfe[['const','atemp','SPRING','MIST','WINTER','LIGHT_RAIN', 'windspeed','YEAR_2019']])"
   ]
  },
  {
   "cell_type": "code",
   "execution_count": 66,
   "id": "5e52a21e",
   "metadata": {},
   "outputs": [
    {
     "name": "stderr",
     "output_type": "stream",
     "text": [
      "C:\\Users\\idhay\\anaconda3\\lib\\site-packages\\seaborn\\distributions.py:2619: FutureWarning: `distplot` is a deprecated function and will be removed in a future version. Please adapt your code to use either `displot` (a figure-level function with similar flexibility) or `histplot` (an axes-level function for histograms).\n",
      "  warnings.warn(msg, FutureWarning)\n"
     ]
    },
    {
     "data": {
      "text/plain": [
       "Text(0.5, 0, 'Errors')"
      ]
     },
     "execution_count": 66,
     "metadata": {},
     "output_type": "execute_result"
    },
    {
     "data": {
      "image/png": "[encoded data removed]",
      "text/plain": [
       "<Figure size 432x288 with 1 Axes>"
      ]
     },
     "metadata": {
      "needs_background": "light"
     },
     "output_type": "display_data"
    }
   ],
   "source": [
    "# Plot the histogram of the error terms\n",
    "fig = plt.figure()\n",
    "sns.distplot((y_train - y_train_count), bins = 20)\n",
    "fig.suptitle('Error Terms', fontsize = 20)                  # Plot heading \n",
    "plt.xlabel('Errors', fontsize = 18)                         # X-label"
   ]
  },
  {
   "cell_type": "code",
   "execution_count": 67,
   "id": "13255ff0",
   "metadata": {},
   "outputs": [
    {
     "name": "stderr",
     "output_type": "stream",
     "text": [
      "C:\\Users\\idhay\\anaconda3\\lib\\site-packages\\statsmodels\\tsa\\tsatools.py:142: FutureWarning: In a future version of pandas all arguments of concat except for the argument 'objs' will be keyword-only\n",
      "  x = pd.concat(x[::order], 1)\n"
     ]
    }
   ],
   "source": [
    "X_test_rfe= sm.add_constant(X_test)"
   ]
  },
  {
   "cell_type": "code",
   "execution_count": 68,
   "id": "e76627c2",
   "metadata": {},
   "outputs": [],
   "source": [
    "y_test_count = lm7.predict(X_test_rfe[['const','atemp','SPRING','MIST','WINTER','LIGHT_RAIN', 'windspeed','YEAR_2019']])"
   ]
  },
  {
   "cell_type": "code",
   "execution_count": 76,
   "id": "2422b18e",
   "metadata": {},
   "outputs": [
    {
     "data": {
      "text/plain": [
       "Text(0, 0.5, 'y_pred')"
      ]
     },
     "execution_count": 76,
     "metadata": {},
     "output_type": "execute_result"
    },
    {
     "data": {
      "image/png": "[encoded data removed]",
      "text/plain": [
       "<Figure size 432x288 with 1 Axes>"
      ]
     },
     "metadata": {
      "needs_background": "light"
     },
     "output_type": "display_data"
    }
   ],
   "source": [
    "# Plot the histogram of the error terms\n",
    "\n",
    "fig = plt.figure()\n",
    "sns.histplot(y_test- y_test_count,bins=20,kde=True)\n",
    "fig.suptitle('y_test vs y_pred', fontsize = 20)              # Plot heading \n",
    "plt.xlabel('y_test', fontsize = 18)                          # X-label\n",
    "plt.ylabel('y_pred', fontsize = 16)                        # X-label"
   ]
  },
  {
   "cell_type": "code",
   "execution_count": 78,
   "id": "b1a58a37",
   "metadata": {},
   "outputs": [
    {
     "data": {
      "text/plain": [
       "Text(0, 0.5, 'y_pred')"
      ]
     },
     "execution_count": 78,
     "metadata": {},
     "output_type": "execute_result"
    },
    {
     "data": {
      "image/png": "[encoded data removed]",
      "text/plain": [
       "<Figure size 432x288 with 1 Axes>"
      ]
     },
     "metadata": {
      "needs_background": "light"
     },
     "output_type": "display_data"
    }
   ],
   "source": [
    "# Plotting y_test and y_pred to understand the spread.\n",
    "fig = plt.figure()\n",
    "plt.scatter(y_test,y_test_count)\n",
    "fig.suptitle('y_test vs y_pred', fontsize=20)              # Plot heading \n",
    "plt.xlabel('y_test', fontsize=18)                          # X-label\n",
    "plt.ylabel('y_pred', fontsize=16)                          # Y-label"
   ]
  },
  {
   "cell_type": "code",
   "execution_count": 86,
   "id": "e3edbb38",
   "metadata": {},
   "outputs": [
    {
     "data": {
      "text/plain": [
       "Text(0.5, 1.0, 'Acutal vs Predicted')"
      ]
     },
     "execution_count": 86,
     "metadata": {},
     "output_type": "execute_result"
    },
    {
     "data": {
      "image/png": "[encoded data removed]",
      "text/plain": [
       "<Figure size 432x288 with 1 Axes>"
      ]
     },
     "metadata": {
      "needs_background": "light"
     },
     "output_type": "display_data"
    }
   ],
   "source": [
    "index = [i for i in np.arange(0,len(X_test),1)]\n",
    "plt.plot(index,y_test,color=\"blue\")\n",
    "plt.plot(index,y_test_count,color=\"green\")\n",
    "plt.title(\"Acutal vs Predicted\")"
   ]
  },
  {
   "cell_type": "code",
   "execution_count": 87,
   "id": "737e646b",
   "metadata": {},
   "outputs": [],
   "source": [
    "from sklearn.metrics import r2_score"
   ]
  },
  {
   "cell_type": "code",
   "execution_count": 88,
   "id": "f71f4295",
   "metadata": {},
   "outputs": [
    {
     "data": {
      "text/plain": [
       "0.7983382035037341"
      ]
     },
     "execution_count": 88,
     "metadata": {},
     "output_type": "execute_result"
    }
   ],
   "source": [
    "r2_score(y_true = y_test , y_pred=y_test_count)\n"
   ]
  },
  {
   "cell_type": "code",
   "execution_count": 89,
   "id": "717874b1",
   "metadata": {},
   "outputs": [
    {
     "data": {
      "text/plain": [
       "0.8145073113844818"
      ]
     },
     "execution_count": 89,
     "metadata": {},
     "output_type": "execute_result"
    }
   ],
   "source": [
    "r2_score(y_true = y_train , y_pred=y_train_count)"
   ]
  },
  {
   "cell_type": "code",
   "execution_count": null,
   "id": "59ce1c7b",
   "metadata": {},
   "outputs": [],
   "source": []
  }
 ],
 "metadata": {
  "kernelspec": {
   "display_name": "Python 3 (ipykernel)",
   "language": "python",
   "name": "python3"
  },
  "language_info": {
   "codemirror_mode": {
    "name": "ipython",
    "version": 3
   },
   "file_extension": ".py",
   "mimetype": "text/x-python",
   "name": "python",
   "nbconvert_exporter": "python",
   "pygments_lexer": "ipython3",
   "version": "3.8.8"
  }
 },
 "nbformat": 4,
 "nbformat_minor": 5
}
